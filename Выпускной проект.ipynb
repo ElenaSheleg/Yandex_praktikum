{
 "cells": [
  {
   "cell_type": "markdown",
   "metadata": {},
   "source": [
    "# Проектная работа: \"Банки — Анализ оттока клиентов\""
   ]
  },
  {
   "cell_type": "markdown",
   "metadata": {},
   "source": [
    "Ссылка на презентацию: https://disk.yandex.ru/i/chIXxh4wf66iIQ"
   ]
  },
  {
   "cell_type": "markdown",
   "metadata": {},
   "source": [
    "Датасет содержит данные о клиентах банка «Метанпром». Банк располагается в Ярославле и областных городах: Ростов Великий и Рыбинск.\n",
    "\n",
    "Колонки:\n",
    "\n",
    "- userid — идентификатор пользователя,\n",
    "- score — баллы кредитного скоринга,\n",
    "- City — город,\n",
    "- Gender — пол,\n",
    "- Age — возраст,\n",
    "- Objects — количество объектов в собственности,\n",
    "- Balance — баланс на счёте,\n",
    "- Products — количество продуктов, которыми пользуется клиент,\n",
    "- CreditCard — есть ли кредитная карта,\n",
    "- Loyalty — активный клиент,\n",
    "- estimated_salary — заработная плата клиента,\n",
    "- Churn — ушёл или нет."
   ]
  },
  {
   "cell_type": "markdown",
   "metadata": {},
   "source": [
    "## Шаг. Загрузим данные"
   ]
  },
  {
   "cell_type": "code",
   "execution_count": 1,
   "metadata": {},
   "outputs": [],
   "source": [
    "# импортируем бибилиотеки\n",
    "import pandas as pd\n",
    "import seaborn as sns\n",
    "from datetime import date\n",
    "\n",
    "from sklearn.preprocessing import StandardScaler\n",
    "from sklearn.cluster import KMeans\n",
    "from sklearn.model_selection import train_test_split\n",
    "from sklearn.linear_model import Lasso, Ridge\n",
    "from sklearn.tree import DecisionTreeRegressor\n",
    "from sklearn.linear_model import LogisticRegression\n",
    "from sklearn.ensemble import RandomForestClassifier\n",
    "\n",
    "import matplotlib.pyplot as plt\n",
    "from sklearn.metrics import accuracy_score,recall_score,precision_score\n",
    "\n",
    "from scipy.cluster.hierarchy import dendrogram, linkage \n",
    "import numpy as np\n",
    "from IPython.display import display\n",
    "\n",
    "from scipy import stats as st\n",
    "import numpy as np\n",
    "import math as mth\n",
    "import plotly.express as px\n",
    "\n",
    "from statsmodels.stats.proportion import proportions_ztest\n",
    "from statsmodels.stats import weightstats as stests\n",
    "import warnings\n",
    "warnings.filterwarnings('ignore')"
   ]
  },
  {
   "cell_type": "code",
   "execution_count": 2,
   "metadata": {},
   "outputs": [],
   "source": [
    "# чтение файла с данными и сохранение его в переменную\n",
    "bank_data = pd.read_csv('/datasets/bank_dataset.csv', sep=',')"
   ]
  },
  {
   "cell_type": "code",
   "execution_count": 3,
   "metadata": {},
   "outputs": [
    {
     "name": "stdout",
     "output_type": "stream",
     "text": [
      "<class 'pandas.core.frame.DataFrame'>\n",
      "RangeIndex: 10000 entries, 0 to 9999\n",
      "Data columns (total 12 columns):\n",
      " #   Column            Non-Null Count  Dtype  \n",
      "---  ------            --------------  -----  \n",
      " 0   userid            10000 non-null  int64  \n",
      " 1   score             10000 non-null  int64  \n",
      " 2   City              10000 non-null  object \n",
      " 3   Gender            10000 non-null  object \n",
      " 4   Age               10000 non-null  int64  \n",
      " 5   Objects           10000 non-null  int64  \n",
      " 6   Balance           6383 non-null   float64\n",
      " 7   Products          10000 non-null  int64  \n",
      " 8   CreditCard        10000 non-null  int64  \n",
      " 9   Loyalty           10000 non-null  int64  \n",
      " 10  estimated_salary  10000 non-null  float64\n",
      " 11  Churn             10000 non-null  int64  \n",
      "dtypes: float64(2), int64(8), object(2)\n",
      "memory usage: 937.6+ KB\n"
     ]
    }
   ],
   "source": [
    "# посмотрим общую информацию о данных\n",
    "bank_data.info()"
   ]
  },
  {
   "cell_type": "code",
   "execution_count": 4,
   "metadata": {},
   "outputs": [
    {
     "data": {
      "text/html": [
       "<div>\n",
       "<style scoped>\n",
       "    .dataframe tbody tr th:only-of-type {\n",
       "        vertical-align: middle;\n",
       "    }\n",
       "\n",
       "    .dataframe tbody tr th {\n",
       "        vertical-align: top;\n",
       "    }\n",
       "\n",
       "    .dataframe thead th {\n",
       "        text-align: right;\n",
       "    }\n",
       "</style>\n",
       "<table border=\"1\" class=\"dataframe\">\n",
       "  <thead>\n",
       "    <tr style=\"text-align: right;\">\n",
       "      <th></th>\n",
       "      <th>userid</th>\n",
       "      <th>score</th>\n",
       "      <th>City</th>\n",
       "      <th>Gender</th>\n",
       "      <th>Age</th>\n",
       "      <th>Objects</th>\n",
       "      <th>Balance</th>\n",
       "      <th>Products</th>\n",
       "      <th>CreditCard</th>\n",
       "      <th>Loyalty</th>\n",
       "      <th>estimated_salary</th>\n",
       "      <th>Churn</th>\n",
       "    </tr>\n",
       "  </thead>\n",
       "  <tbody>\n",
       "    <tr>\n",
       "      <th>0</th>\n",
       "      <td>15677338</td>\n",
       "      <td>619</td>\n",
       "      <td>Ярославль</td>\n",
       "      <td>Ж</td>\n",
       "      <td>42</td>\n",
       "      <td>2</td>\n",
       "      <td>NaN</td>\n",
       "      <td>1</td>\n",
       "      <td>1</td>\n",
       "      <td>1</td>\n",
       "      <td>101348.88</td>\n",
       "      <td>1</td>\n",
       "    </tr>\n",
       "    <tr>\n",
       "      <th>1</th>\n",
       "      <td>15690047</td>\n",
       "      <td>608</td>\n",
       "      <td>Рыбинск</td>\n",
       "      <td>Ж</td>\n",
       "      <td>41</td>\n",
       "      <td>1</td>\n",
       "      <td>83807.86</td>\n",
       "      <td>1</td>\n",
       "      <td>0</td>\n",
       "      <td>1</td>\n",
       "      <td>112542.58</td>\n",
       "      <td>0</td>\n",
       "    </tr>\n",
       "    <tr>\n",
       "      <th>2</th>\n",
       "      <td>15662040</td>\n",
       "      <td>502</td>\n",
       "      <td>Ярославль</td>\n",
       "      <td>Ж</td>\n",
       "      <td>42</td>\n",
       "      <td>8</td>\n",
       "      <td>159660.80</td>\n",
       "      <td>3</td>\n",
       "      <td>1</td>\n",
       "      <td>0</td>\n",
       "      <td>113931.57</td>\n",
       "      <td>1</td>\n",
       "    </tr>\n",
       "    <tr>\n",
       "      <th>3</th>\n",
       "      <td>15744090</td>\n",
       "      <td>699</td>\n",
       "      <td>Ярославль</td>\n",
       "      <td>Ж</td>\n",
       "      <td>39</td>\n",
       "      <td>1</td>\n",
       "      <td>NaN</td>\n",
       "      <td>2</td>\n",
       "      <td>0</td>\n",
       "      <td>0</td>\n",
       "      <td>93826.63</td>\n",
       "      <td>0</td>\n",
       "    </tr>\n",
       "    <tr>\n",
       "      <th>4</th>\n",
       "      <td>15780624</td>\n",
       "      <td>850</td>\n",
       "      <td>Рыбинск</td>\n",
       "      <td>Ж</td>\n",
       "      <td>43</td>\n",
       "      <td>2</td>\n",
       "      <td>125510.82</td>\n",
       "      <td>1</td>\n",
       "      <td>1</td>\n",
       "      <td>1</td>\n",
       "      <td>79084.10</td>\n",
       "      <td>0</td>\n",
       "    </tr>\n",
       "    <tr>\n",
       "      <th>5</th>\n",
       "      <td>15616748</td>\n",
       "      <td>645</td>\n",
       "      <td>Рыбинск</td>\n",
       "      <td>М</td>\n",
       "      <td>44</td>\n",
       "      <td>8</td>\n",
       "      <td>113755.78</td>\n",
       "      <td>2</td>\n",
       "      <td>1</td>\n",
       "      <td>0</td>\n",
       "      <td>149756.71</td>\n",
       "      <td>1</td>\n",
       "    </tr>\n",
       "    <tr>\n",
       "      <th>6</th>\n",
       "      <td>15635267</td>\n",
       "      <td>822</td>\n",
       "      <td>Ярославль</td>\n",
       "      <td>М</td>\n",
       "      <td>50</td>\n",
       "      <td>7</td>\n",
       "      <td>NaN</td>\n",
       "      <td>2</td>\n",
       "      <td>1</td>\n",
       "      <td>1</td>\n",
       "      <td>10062.80</td>\n",
       "      <td>0</td>\n",
       "    </tr>\n",
       "    <tr>\n",
       "      <th>7</th>\n",
       "      <td>15698884</td>\n",
       "      <td>376</td>\n",
       "      <td>Ростов Великий</td>\n",
       "      <td>Ж</td>\n",
       "      <td>29</td>\n",
       "      <td>4</td>\n",
       "      <td>115046.74</td>\n",
       "      <td>4</td>\n",
       "      <td>1</td>\n",
       "      <td>0</td>\n",
       "      <td>119346.88</td>\n",
       "      <td>1</td>\n",
       "    </tr>\n",
       "    <tr>\n",
       "      <th>8</th>\n",
       "      <td>15835101</td>\n",
       "      <td>501</td>\n",
       "      <td>Ярославль</td>\n",
       "      <td>М</td>\n",
       "      <td>44</td>\n",
       "      <td>4</td>\n",
       "      <td>142051.07</td>\n",
       "      <td>2</td>\n",
       "      <td>0</td>\n",
       "      <td>1</td>\n",
       "      <td>74940.50</td>\n",
       "      <td>0</td>\n",
       "    </tr>\n",
       "    <tr>\n",
       "      <th>9</th>\n",
       "      <td>15635125</td>\n",
       "      <td>684</td>\n",
       "      <td>Ярославль</td>\n",
       "      <td>М</td>\n",
       "      <td>27</td>\n",
       "      <td>2</td>\n",
       "      <td>134603.88</td>\n",
       "      <td>1</td>\n",
       "      <td>1</td>\n",
       "      <td>1</td>\n",
       "      <td>71725.73</td>\n",
       "      <td>0</td>\n",
       "    </tr>\n",
       "  </tbody>\n",
       "</table>\n",
       "</div>"
      ],
      "text/plain": [
       "     userid  score            City Gender  Age  Objects    Balance  Products  \\\n",
       "0  15677338    619       Ярославль      Ж   42        2        NaN         1   \n",
       "1  15690047    608         Рыбинск      Ж   41        1   83807.86         1   \n",
       "2  15662040    502       Ярославль      Ж   42        8  159660.80         3   \n",
       "3  15744090    699       Ярославль      Ж   39        1        NaN         2   \n",
       "4  15780624    850         Рыбинск      Ж   43        2  125510.82         1   \n",
       "5  15616748    645         Рыбинск      М   44        8  113755.78         2   \n",
       "6  15635267    822       Ярославль      М   50        7        NaN         2   \n",
       "7  15698884    376  Ростов Великий      Ж   29        4  115046.74         4   \n",
       "8  15835101    501       Ярославль      М   44        4  142051.07         2   \n",
       "9  15635125    684       Ярославль      М   27        2  134603.88         1   \n",
       "\n",
       "   CreditCard  Loyalty  estimated_salary  Churn  \n",
       "0           1        1         101348.88      1  \n",
       "1           0        1         112542.58      0  \n",
       "2           1        0         113931.57      1  \n",
       "3           0        0          93826.63      0  \n",
       "4           1        1          79084.10      0  \n",
       "5           1        0         149756.71      1  \n",
       "6           1        1          10062.80      0  \n",
       "7           1        0         119346.88      1  \n",
       "8           0        1          74940.50      0  \n",
       "9           1        1          71725.73      0  "
      ]
     },
     "execution_count": 4,
     "metadata": {},
     "output_type": "execute_result"
    }
   ],
   "source": [
    "# посмотрим на 10 первых значений\n",
    "bank_data.head(10)"
   ]
  },
  {
   "cell_type": "markdown",
   "metadata": {},
   "source": [
    "**Вывод**\n",
    "\n",
    "В датасете 12 колонок с записями о клиентах и действиях. Всего 10000 строк в каждом столбце, кроме 'Balance'(необходимо заполнить пропущенные значения). Название столбцов в датасете нужно привести к нижнему регистру. Все типы данных корректны."
   ]
  },
  {
   "cell_type": "markdown",
   "metadata": {},
   "source": [
    "## Шаг. Проведем предобработку данных"
   ]
  },
  {
   "cell_type": "code",
   "execution_count": 5,
   "metadata": {},
   "outputs": [],
   "source": [
    "# приведем названия столбцов датаcета к нижнему регистру\n",
    "bank_data.columns = map(str.lower, bank_data.columns)"
   ]
  },
  {
   "cell_type": "code",
   "execution_count": 6,
   "metadata": {},
   "outputs": [
    {
     "data": {
      "text/plain": [
       "0"
      ]
     },
     "execution_count": 6,
     "metadata": {},
     "output_type": "execute_result"
    }
   ],
   "source": [
    "# проверим на дубликаты\n",
    "bank_data.duplicated().sum()"
   ]
  },
  {
   "cell_type": "code",
   "execution_count": 7,
   "metadata": {},
   "outputs": [
    {
     "data": {
      "text/plain": [
       "userid              0.0000\n",
       "score               0.0000\n",
       "city                0.0000\n",
       "gender              0.0000\n",
       "age                 0.0000\n",
       "objects             0.0000\n",
       "balance             0.3617\n",
       "products            0.0000\n",
       "creditcard          0.0000\n",
       "loyalty             0.0000\n",
       "estimated_salary    0.0000\n",
       "churn               0.0000\n",
       "dtype: float64"
      ]
     },
     "execution_count": 7,
     "metadata": {},
     "output_type": "execute_result"
    }
   ],
   "source": [
    "# проверим колонки на пропущенные значения\n",
    "bank_data.isna().mean()"
   ]
  },
  {
   "cell_type": "markdown",
   "metadata": {},
   "source": [
    "Отсутствуют 3617 значений в столбце 'balance'. Баланс может быть нулевым, так как не все продукты предполагают наличие дебетового счета. Если он отсутствует, можно считать его нулевым и заполнить нулями. Но прежде посмотрим, если особенности в пропущенных значениях 'balance' у активных и ушедших клиентов."
   ]
  },
  {
   "cell_type": "code",
   "execution_count": 8,
   "metadata": {},
   "outputs": [],
   "source": [
    "# cформируем таблицы активных и ушедших клиентов, где есть пропущенные значения\n",
    "churn_bank_data = bank_data[bank_data['churn'] == 1]\n",
    "active_bank_data = bank_data[bank_data['churn'] == 0]"
   ]
  },
  {
   "cell_type": "code",
   "execution_count": 9,
   "metadata": {},
   "outputs": [
    {
     "name": "stdout",
     "output_type": "stream",
     "text": [
      "Статистика балансов у ушедших клиентов:\n",
      "Cреднее значение: 120746.97113207547\n",
      "Медиана: 119948.09\n"
     ]
    }
   ],
   "source": [
    "print('Статистика балансов у ушедших клиентов:')\n",
    "print('Cреднее значение:', churn_bank_data['balance'].mean())\n",
    "print('Медиана:', churn_bank_data['balance'].median())"
   ]
  },
  {
   "cell_type": "code",
   "execution_count": 10,
   "metadata": {},
   "outputs": [
    {
     "name": "stdout",
     "output_type": "stream",
     "text": [
      "Статистика балансов у активных клиентов:\n",
      "Среднее значение: 119535.86426950061\n",
      "Медиана: 119791.215\n"
     ]
    }
   ],
   "source": [
    "print('Статистика балансов у активных клиентов:')\n",
    "print('Среднее значение:', active_bank_data['balance'].mean())\n",
    "print('Медиана:', active_bank_data['balance'].median())"
   ]
  },
  {
   "cell_type": "code",
   "execution_count": 11,
   "metadata": {},
   "outputs": [
    {
     "name": "stdout",
     "output_type": "stream",
     "text": [
      "Общая статистика:\n",
      "Среднее значение: 119827.49379288737\n",
      "Медиана: 119839.69\n"
     ]
    }
   ],
   "source": [
    "print('Общая статистика:')\n",
    "print('Среднее значение:', bank_data['balance'].mean())\n",
    "print('Медиана:', bank_data['balance'].median())"
   ]
  },
  {
   "cell_type": "code",
   "execution_count": 12,
   "metadata": {},
   "outputs": [
    {
     "name": "stdout",
     "output_type": "stream",
     "text": [
      "Пропущенные значения у ушедших клиентов: 0.24545900834560627\n",
      "Пропущенные значения у активных клиентов: 0.39143538867261085\n"
     ]
    }
   ],
   "source": [
    "print('Пропущенные значения у ушедших клиентов:', churn_bank_data['balance'].isna().mean())\n",
    "print('Пропущенные значения у активных клиентов:', active_bank_data['balance'].isna().mean())"
   ]
  },
  {
   "cell_type": "markdown",
   "metadata": {},
   "source": [
    "Особенностей в пропущенных значениях баланса у активных и ушедших клиентов не обнаружено. Пропущенные значения 'balance' оставим без изменений, т.к. замена на нули и другие значения может привести к изменению средних значений по балансу и сместить распределение влево."
   ]
  },
  {
   "cell_type": "code",
   "execution_count": 13,
   "metadata": {},
   "outputs": [],
   "source": [
    "#заменим отсутствующий баланс на нули\n",
    "#bank_data['balance'] = bank_data['balance'].fillna(0)"
   ]
  },
  {
   "cell_type": "markdown",
   "metadata": {},
   "source": [
    "**Вывод**\n",
    "\n",
    "В ходе предобработки подготовили данные для дальнейшего исследовательского анализа. Колонки и данные предоработаны.\n",
    "Дубликатов не обнаружено. Не выявлено особенностей в пропущенных значениях 'balance' у активных и ушедших клиентов. Пропущенные значения в столбце 'balance' заменены на нули."
   ]
  },
  {
   "cell_type": "markdown",
   "metadata": {},
   "source": [
    "## Шаг. Проведем исследовательский анализ данных (EDA)"
   ]
  },
  {
   "cell_type": "code",
   "execution_count": 14,
   "metadata": {
    "scrolled": false
   },
   "outputs": [
    {
     "data": {
      "image/png": "[encoded data removed]",
      "text/plain": [
       "<Figure size 432x288 with 1 Axes>"
      ]
     },
     "metadata": {
      "needs_background": "light"
     },
     "output_type": "display_data"
    },
    {
     "data": {
      "image/png": "[encoded data removed]",
      "text/plain": [
       "<Figure size 432x288 with 1 Axes>"
      ]
     },
     "metadata": {
      "needs_background": "light"
     },
     "output_type": "display_data"
    },
    {
     "data": {
      "image/png": "[encoded data removed]",
      "text/plain": [
       "<Figure size 432x288 with 1 Axes>"
      ]
     },
     "metadata": {
      "needs_background": "light"
     },
     "output_type": "display_data"
    },
    {
     "data": {
      "image/png": "[encoded data removed]",
      "text/plain": [
       "<Figure size 432x288 with 1 Axes>"
      ]
     },
     "metadata": {
      "needs_background": "light"
     },
     "output_type": "display_data"
    },
    {
     "data": {
      "image/png": "[encoded data removed]",
      "text/plain": [
       "<Figure size 432x288 with 1 Axes>"
      ]
     },
     "metadata": {
      "needs_background": "light"
     },
     "output_type": "display_data"
    },
    {
     "data": {
      "image/png": "[encoded data removed]",
      "text/plain": [
       "<Figure size 432x288 with 1 Axes>"
      ]
     },
     "metadata": {
      "needs_background": "light"
     },
     "output_type": "display_data"
    },
    {
     "data": {
      "image/png": "[encoded data removed]",
      "text/plain": [
       "<Figure size 432x288 with 1 Axes>"
      ]
     },
     "metadata": {
      "needs_background": "light"
     },
     "output_type": "display_data"
    },
    {
     "data": {
      "image/png": "[encoded data removed]",
      "text/plain": [
       "<Figure size 432x288 with 1 Axes>"
      ]
     },
     "metadata": {
      "needs_background": "light"
     },
     "output_type": "display_data"
    },
    {
     "data": {
      "image/png": "[encoded data removed]",
      "text/plain": [
       "<Figure size 432x288 with 1 Axes>"
      ]
     },
     "metadata": {
      "needs_background": "light"
     },
     "output_type": "display_data"
    },
    {
     "data": {
      "image/png": "[encoded data removed]",
      "text/plain": [
       "<Figure size 432x288 with 1 Axes>"
      ]
     },
     "metadata": {
      "needs_background": "light"
     },
     "output_type": "display_data"
    },
    {
     "data": {
      "image/png": "[encoded data removed]",
      "text/plain": [
       "<Figure size 432x288 with 1 Axes>"
      ]
     },
     "metadata": {
      "needs_background": "light"
     },
     "output_type": "display_data"
    },
    {
     "data": {
      "image/png": "[encoded data removed]",
      "text/plain": [
       "<Figure size 432x288 with 1 Axes>"
      ]
     },
     "metadata": {
      "needs_background": "light"
     },
     "output_type": "display_data"
    }
   ],
   "source": [
    "# построим гистограммы распределения каждой величины в разбивке по churn\n",
    "bank_data_churn_0 = bank_data[bank_data['churn'] == 0] # осталися\n",
    "bank_data_churn_1 = bank_data[bank_data['churn'] == 1] # ушли\n",
    "\n",
    "for column in bank_data.columns:\n",
    "    'Функция строит гистограмму распределения колонки column из датафрейма bank_data'\n",
    "    bank_data.groupby('churn')[column].hist()\n",
    "    plt.title(column, fontsize=14)\n",
    "    plt.ylabel('Распределение')\n",
    "    plt.legend(['Оставшиеся', 'Отток'])\n",
    "    plt.show()"
   ]
  },
  {
   "cell_type": "markdown",
   "metadata": {},
   "source": [
    "По построенным гистограммам можно сделать промежуточный вывод:\n",
    "    - распределение по баллам кредитного скоринга примерно равное как для тех кто ушел, так и для тех, кто остался;\n",
    "    - в Рыбинске клиенты уходят в два раза меньше чем, в Ярославле и Ростове;\n",
    "    - женщин уходит больше чем мужчин;\n",
    "    - клиенты старше 45 лет больше склонны к оттоку;\n",
    "    - доход по счёту, баланс и количество объектов не влияет на отток;\n",
    "    - оптимальное количество продуктов - 2 и 3,4 - продукта только у клиентов которые ушли;\n",
    "    - кредитные карты скорее влияют на отток, чем нет;\n",
    "    - низкая лояльность у клиентов которые ушли;\n",
    "    - равномерная заработная плата у всех клиентов независимо."
   ]
  },
  {
   "cell_type": "code",
   "execution_count": 15,
   "metadata": {},
   "outputs": [
    {
     "data": {
      "text/html": [
       "<div>\n",
       "<style scoped>\n",
       "    .dataframe tbody tr th:only-of-type {\n",
       "        vertical-align: middle;\n",
       "    }\n",
       "\n",
       "    .dataframe tbody tr th {\n",
       "        vertical-align: top;\n",
       "    }\n",
       "\n",
       "    .dataframe thead th {\n",
       "        text-align: right;\n",
       "    }\n",
       "</style>\n",
       "<table border=\"1\" class=\"dataframe\">\n",
       "  <thead>\n",
       "    <tr style=\"text-align: right;\">\n",
       "      <th></th>\n",
       "      <th>userid</th>\n",
       "      <th>score</th>\n",
       "      <th>age</th>\n",
       "      <th>objects</th>\n",
       "      <th>balance</th>\n",
       "      <th>products</th>\n",
       "      <th>creditcard</th>\n",
       "      <th>loyalty</th>\n",
       "      <th>estimated_salary</th>\n",
       "      <th>churn</th>\n",
       "    </tr>\n",
       "  </thead>\n",
       "  <tbody>\n",
       "    <tr>\n",
       "      <th>count</th>\n",
       "      <td>10000.00</td>\n",
       "      <td>10000.00</td>\n",
       "      <td>10000.00</td>\n",
       "      <td>10000.00</td>\n",
       "      <td>6383.00</td>\n",
       "      <td>10000.00</td>\n",
       "      <td>10000.00</td>\n",
       "      <td>10000.00</td>\n",
       "      <td>10000.00</td>\n",
       "      <td>10000.0</td>\n",
       "    </tr>\n",
       "    <tr>\n",
       "      <th>mean</th>\n",
       "      <td>15733676.57</td>\n",
       "      <td>650.53</td>\n",
       "      <td>38.92</td>\n",
       "      <td>5.01</td>\n",
       "      <td>119827.49</td>\n",
       "      <td>1.53</td>\n",
       "      <td>0.71</td>\n",
       "      <td>0.52</td>\n",
       "      <td>100090.24</td>\n",
       "      <td>0.2</td>\n",
       "    </tr>\n",
       "    <tr>\n",
       "      <th>std</th>\n",
       "      <td>71936.19</td>\n",
       "      <td>96.65</td>\n",
       "      <td>10.49</td>\n",
       "      <td>2.89</td>\n",
       "      <td>30095.06</td>\n",
       "      <td>0.58</td>\n",
       "      <td>0.46</td>\n",
       "      <td>0.50</td>\n",
       "      <td>57510.49</td>\n",
       "      <td>0.4</td>\n",
       "    </tr>\n",
       "    <tr>\n",
       "      <th>min</th>\n",
       "      <td>15608437.00</td>\n",
       "      <td>350.00</td>\n",
       "      <td>18.00</td>\n",
       "      <td>0.00</td>\n",
       "      <td>3768.69</td>\n",
       "      <td>1.00</td>\n",
       "      <td>0.00</td>\n",
       "      <td>0.00</td>\n",
       "      <td>11.58</td>\n",
       "      <td>0.0</td>\n",
       "    </tr>\n",
       "    <tr>\n",
       "      <th>25%</th>\n",
       "      <td>15671264.25</td>\n",
       "      <td>584.00</td>\n",
       "      <td>32.00</td>\n",
       "      <td>3.00</td>\n",
       "      <td>100181.98</td>\n",
       "      <td>1.00</td>\n",
       "      <td>0.00</td>\n",
       "      <td>0.00</td>\n",
       "      <td>51002.11</td>\n",
       "      <td>0.0</td>\n",
       "    </tr>\n",
       "    <tr>\n",
       "      <th>50%</th>\n",
       "      <td>15733474.00</td>\n",
       "      <td>652.00</td>\n",
       "      <td>37.00</td>\n",
       "      <td>5.00</td>\n",
       "      <td>119839.69</td>\n",
       "      <td>1.00</td>\n",
       "      <td>1.00</td>\n",
       "      <td>1.00</td>\n",
       "      <td>100193.92</td>\n",
       "      <td>0.0</td>\n",
       "    </tr>\n",
       "    <tr>\n",
       "      <th>75%</th>\n",
       "      <td>15795969.75</td>\n",
       "      <td>718.00</td>\n",
       "      <td>44.00</td>\n",
       "      <td>7.00</td>\n",
       "      <td>139512.29</td>\n",
       "      <td>2.00</td>\n",
       "      <td>1.00</td>\n",
       "      <td>1.00</td>\n",
       "      <td>149388.25</td>\n",
       "      <td>0.0</td>\n",
       "    </tr>\n",
       "    <tr>\n",
       "      <th>max</th>\n",
       "      <td>15858426.00</td>\n",
       "      <td>850.00</td>\n",
       "      <td>92.00</td>\n",
       "      <td>10.00</td>\n",
       "      <td>250898.09</td>\n",
       "      <td>4.00</td>\n",
       "      <td>1.00</td>\n",
       "      <td>1.00</td>\n",
       "      <td>199992.48</td>\n",
       "      <td>1.0</td>\n",
       "    </tr>\n",
       "  </tbody>\n",
       "</table>\n",
       "</div>"
      ],
      "text/plain": [
       "            userid     score       age   objects    balance  products  \\\n",
       "count     10000.00  10000.00  10000.00  10000.00    6383.00  10000.00   \n",
       "mean   15733676.57    650.53     38.92      5.01  119827.49      1.53   \n",
       "std       71936.19     96.65     10.49      2.89   30095.06      0.58   \n",
       "min    15608437.00    350.00     18.00      0.00    3768.69      1.00   \n",
       "25%    15671264.25    584.00     32.00      3.00  100181.98      1.00   \n",
       "50%    15733474.00    652.00     37.00      5.00  119839.69      1.00   \n",
       "75%    15795969.75    718.00     44.00      7.00  139512.29      2.00   \n",
       "max    15858426.00    850.00     92.00     10.00  250898.09      4.00   \n",
       "\n",
       "       creditcard   loyalty  estimated_salary    churn  \n",
       "count    10000.00  10000.00          10000.00  10000.0  \n",
       "mean         0.71      0.52         100090.24      0.2  \n",
       "std          0.46      0.50          57510.49      0.4  \n",
       "min          0.00      0.00             11.58      0.0  \n",
       "25%          0.00      0.00          51002.11      0.0  \n",
       "50%          1.00      1.00         100193.92      0.0  \n",
       "75%          1.00      1.00         149388.25      0.0  \n",
       "max          1.00      1.00         199992.48      1.0  "
      ]
     },
     "execution_count": 15,
     "metadata": {},
     "output_type": "execute_result"
    }
   ],
   "source": [
    "# изучим средние значения и стандартные отклонения методом describe()\n",
    "bank_data.describe().round(2)"
   ]
  },
  {
   "cell_type": "markdown",
   "metadata": {},
   "source": [
    "По построенной таблице можно сделать промежуточный вывод:\n",
    "\n",
    "- максимальный балл кредитного скоринга составляет 850 единиц, минимальный - 350. Медиана и среднее примерно равны - 652 и 650 соответственно, так что можем предположить, что данные распределены нормально;\n",
    "- максимальное число объектов у клиентов в собственности - 10, минимальное - 0. Среднее и медиана - 5 объектов. Коэффициент вариации равен 58%, поэтому можно сказать, что выборка сильно вариабельна;\n",
    "- количество продуктов, которыми пользуется клиент, составляет в среднем 1. Медиана равна 1, среднее - 1,5. Минимальное число продуктов - 1, максимальное - 4 продукта;\n",
    "- у 71% клиентов есть кредитная карта банка;\n",
    "- ~ 52% клиентов из выборки являются активными клиентами банка;\n",
    "- предполагаемая средняя заработная плата клиента составляет 100 тысяч рублей, медиана примерно на том же уровне (100193), распределение нормальное. Максимальная зарплата - 199992 рублей, минимальная - 11,58 рублей (возможно, ошибка заполнения данных клиентом);\n",
    "- почти 20% из клиентов - это те, кто ушли, 80% остались клиентами банка.\n"
   ]
  },
  {
   "cell_type": "code",
   "execution_count": 16,
   "metadata": {},
   "outputs": [],
   "source": [
    "# присвоим полу бинарные значения и изменим тип данных\n",
    "bank_data['gender'] = bank_data['gender'].replace('Ж','0').replace('М','1').astype('int')"
   ]
  },
  {
   "cell_type": "code",
   "execution_count": 17,
   "metadata": {},
   "outputs": [
    {
     "data": {
      "text/html": [
       "<div>\n",
       "<style scoped>\n",
       "    .dataframe tbody tr th:only-of-type {\n",
       "        vertical-align: middle;\n",
       "    }\n",
       "\n",
       "    .dataframe tbody tr th {\n",
       "        vertical-align: top;\n",
       "    }\n",
       "\n",
       "    .dataframe thead th {\n",
       "        text-align: right;\n",
       "    }\n",
       "</style>\n",
       "<table border=\"1\" class=\"dataframe\">\n",
       "  <thead>\n",
       "    <tr style=\"text-align: right;\">\n",
       "      <th></th>\n",
       "      <th>userid</th>\n",
       "      <th>score</th>\n",
       "      <th>gender</th>\n",
       "      <th>age</th>\n",
       "      <th>objects</th>\n",
       "      <th>balance</th>\n",
       "      <th>products</th>\n",
       "      <th>creditcard</th>\n",
       "      <th>loyalty</th>\n",
       "      <th>estimated_salary</th>\n",
       "      <th>churn</th>\n",
       "      <th>city_Ростов Великий</th>\n",
       "      <th>city_Рыбинск</th>\n",
       "      <th>city_Ярославль</th>\n",
       "    </tr>\n",
       "  </thead>\n",
       "  <tbody>\n",
       "    <tr>\n",
       "      <th>0</th>\n",
       "      <td>15677338</td>\n",
       "      <td>619</td>\n",
       "      <td>0</td>\n",
       "      <td>42</td>\n",
       "      <td>2</td>\n",
       "      <td>NaN</td>\n",
       "      <td>1</td>\n",
       "      <td>1</td>\n",
       "      <td>1</td>\n",
       "      <td>101348.88</td>\n",
       "      <td>1</td>\n",
       "      <td>0</td>\n",
       "      <td>0</td>\n",
       "      <td>1</td>\n",
       "    </tr>\n",
       "    <tr>\n",
       "      <th>1</th>\n",
       "      <td>15690047</td>\n",
       "      <td>608</td>\n",
       "      <td>0</td>\n",
       "      <td>41</td>\n",
       "      <td>1</td>\n",
       "      <td>83807.86</td>\n",
       "      <td>1</td>\n",
       "      <td>0</td>\n",
       "      <td>1</td>\n",
       "      <td>112542.58</td>\n",
       "      <td>0</td>\n",
       "      <td>0</td>\n",
       "      <td>1</td>\n",
       "      <td>0</td>\n",
       "    </tr>\n",
       "    <tr>\n",
       "      <th>2</th>\n",
       "      <td>15662040</td>\n",
       "      <td>502</td>\n",
       "      <td>0</td>\n",
       "      <td>42</td>\n",
       "      <td>8</td>\n",
       "      <td>159660.80</td>\n",
       "      <td>3</td>\n",
       "      <td>1</td>\n",
       "      <td>0</td>\n",
       "      <td>113931.57</td>\n",
       "      <td>1</td>\n",
       "      <td>0</td>\n",
       "      <td>0</td>\n",
       "      <td>1</td>\n",
       "    </tr>\n",
       "    <tr>\n",
       "      <th>3</th>\n",
       "      <td>15744090</td>\n",
       "      <td>699</td>\n",
       "      <td>0</td>\n",
       "      <td>39</td>\n",
       "      <td>1</td>\n",
       "      <td>NaN</td>\n",
       "      <td>2</td>\n",
       "      <td>0</td>\n",
       "      <td>0</td>\n",
       "      <td>93826.63</td>\n",
       "      <td>0</td>\n",
       "      <td>0</td>\n",
       "      <td>0</td>\n",
       "      <td>1</td>\n",
       "    </tr>\n",
       "    <tr>\n",
       "      <th>4</th>\n",
       "      <td>15780624</td>\n",
       "      <td>850</td>\n",
       "      <td>0</td>\n",
       "      <td>43</td>\n",
       "      <td>2</td>\n",
       "      <td>125510.82</td>\n",
       "      <td>1</td>\n",
       "      <td>1</td>\n",
       "      <td>1</td>\n",
       "      <td>79084.10</td>\n",
       "      <td>0</td>\n",
       "      <td>0</td>\n",
       "      <td>1</td>\n",
       "      <td>0</td>\n",
       "    </tr>\n",
       "  </tbody>\n",
       "</table>\n",
       "</div>"
      ],
      "text/plain": [
       "     userid  score  gender  age  objects    balance  products  creditcard  \\\n",
       "0  15677338    619       0   42        2        NaN         1           1   \n",
       "1  15690047    608       0   41        1   83807.86         1           0   \n",
       "2  15662040    502       0   42        8  159660.80         3           1   \n",
       "3  15744090    699       0   39        1        NaN         2           0   \n",
       "4  15780624    850       0   43        2  125510.82         1           1   \n",
       "\n",
       "   loyalty  estimated_salary  churn  city_Ростов Великий  city_Рыбинск  \\\n",
       "0        1         101348.88      1                    0             0   \n",
       "1        1         112542.58      0                    0             1   \n",
       "2        0         113931.57      1                    0             0   \n",
       "3        0          93826.63      0                    0             0   \n",
       "4        1          79084.10      0                    0             1   \n",
       "\n",
       "   city_Ярославль  \n",
       "0               1  \n",
       "1               0  \n",
       "2               1  \n",
       "3               1  \n",
       "4               0  "
      ]
     },
     "metadata": {},
     "output_type": "display_data"
    }
   ],
   "source": [
    "# используем преобразование one-hot encoding\n",
    "bank_data_hot = bank_data.copy()\n",
    "bank_data_hot = pd.get_dummies(bank_data_hot, columns=['city'])\n",
    "display(bank_data_hot.head())"
   ]
  },
  {
   "cell_type": "code",
   "execution_count": 18,
   "metadata": {},
   "outputs": [
    {
     "data": {
      "text/html": [
       "<div>\n",
       "<style scoped>\n",
       "    .dataframe tbody tr th:only-of-type {\n",
       "        vertical-align: middle;\n",
       "    }\n",
       "\n",
       "    .dataframe tbody tr th {\n",
       "        vertical-align: top;\n",
       "    }\n",
       "\n",
       "    .dataframe thead th {\n",
       "        text-align: right;\n",
       "    }\n",
       "</style>\n",
       "<table border=\"1\" class=\"dataframe\">\n",
       "  <thead>\n",
       "    <tr style=\"text-align: right;\">\n",
       "      <th>churn</th>\n",
       "      <th>0</th>\n",
       "      <th>1</th>\n",
       "    </tr>\n",
       "  </thead>\n",
       "  <tbody>\n",
       "    <tr>\n",
       "      <th>userid</th>\n",
       "      <td>15733903.88</td>\n",
       "      <td>15732787.96</td>\n",
       "    </tr>\n",
       "    <tr>\n",
       "      <th>score</th>\n",
       "      <td>651.85</td>\n",
       "      <td>645.35</td>\n",
       "    </tr>\n",
       "    <tr>\n",
       "      <th>gender</th>\n",
       "      <td>0.57</td>\n",
       "      <td>0.44</td>\n",
       "    </tr>\n",
       "    <tr>\n",
       "      <th>age</th>\n",
       "      <td>37.41</td>\n",
       "      <td>44.84</td>\n",
       "    </tr>\n",
       "    <tr>\n",
       "      <th>objects</th>\n",
       "      <td>5.03</td>\n",
       "      <td>4.93</td>\n",
       "    </tr>\n",
       "    <tr>\n",
       "      <th>balance</th>\n",
       "      <td>119535.86</td>\n",
       "      <td>120746.97</td>\n",
       "    </tr>\n",
       "    <tr>\n",
       "      <th>products</th>\n",
       "      <td>1.54</td>\n",
       "      <td>1.48</td>\n",
       "    </tr>\n",
       "    <tr>\n",
       "      <th>creditcard</th>\n",
       "      <td>0.71</td>\n",
       "      <td>0.70</td>\n",
       "    </tr>\n",
       "    <tr>\n",
       "      <th>loyalty</th>\n",
       "      <td>0.55</td>\n",
       "      <td>0.36</td>\n",
       "    </tr>\n",
       "    <tr>\n",
       "      <th>estimated_salary</th>\n",
       "      <td>99738.39</td>\n",
       "      <td>101465.68</td>\n",
       "    </tr>\n",
       "    <tr>\n",
       "      <th>city_Ростов Великий</th>\n",
       "      <td>0.21</td>\n",
       "      <td>0.40</td>\n",
       "    </tr>\n",
       "    <tr>\n",
       "      <th>city_Рыбинск</th>\n",
       "      <td>0.26</td>\n",
       "      <td>0.20</td>\n",
       "    </tr>\n",
       "    <tr>\n",
       "      <th>city_Ярославль</th>\n",
       "      <td>0.53</td>\n",
       "      <td>0.40</td>\n",
       "    </tr>\n",
       "  </tbody>\n",
       "</table>\n",
       "</div>"
      ],
      "text/plain": [
       "churn                          0            1\n",
       "userid               15733903.88  15732787.96\n",
       "score                     651.85       645.35\n",
       "gender                      0.57         0.44\n",
       "age                        37.41        44.84\n",
       "objects                     5.03         4.93\n",
       "balance                119535.86    120746.97\n",
       "products                    1.54         1.48\n",
       "creditcard                  0.71         0.70\n",
       "loyalty                     0.55         0.36\n",
       "estimated_salary        99738.39    101465.68\n",
       "city_Ростов Великий         0.21         0.40\n",
       "city_Рыбинск                0.26         0.20\n",
       "city_Ярославль              0.53         0.40"
      ]
     },
     "execution_count": 18,
     "metadata": {},
     "output_type": "execute_result"
    }
   ],
   "source": [
    "# посмотрим на средние значения признаков в двух группах — тех, кто ушел в отток и тех, кто остался методом groupby()\n",
    "bank_data_hot.groupby('churn').mean().round(2).T"
   ]
  },
  {
   "cell_type": "markdown",
   "metadata": {},
   "source": [
    "**Вывод**\n",
    "\n",
    "Распределение по баллам кредитного скоринга для ушедших и оставшихся клиентов банка, в среднем - 645-652 баллов.\n",
    "Средний возраст клиентов, попавших в отток выше (45 лет), чем возраст тех, кто остался (37 лет).\n",
    "Среднее количество объектов в собственности у обоих групп - 5.\n",
    "Среди тех, кто ушел, большинство - это женщины (55%), а среди тех, кто остался - это мужчины (57%).\n",
    "Средний баланс на счёте оставшихся клиентов  - 119536 руб. Средний баланс на счёте ушедших клиентов  - 120747 руб.\n",
    "Количество продуктов, которыми пользуются клиенты из оттока и не из оттока, примерно равно 1.5, будем считать, что это 1 продукт.\n",
    "Распределение по наличию кредитной карты для ушедших и оставшихся клиентов банка, в среднем -70% \n",
    "Среди тех, кто попал в отток, только 36% были активными клиентами; а среди тех, кто остался, 55% - это активные клиенты.\n",
    "Средняя заработная плата ушедших клиентов (101466) выше, чем средняя зартлата тех, кто остались клиентами банка (99738).\n",
    "Большинство оставшихся клиентов из Ярославля (53%), далее идет Рыбинск (26%) и Ростов (21%), большинство ушедших клиентов из Ростова (40%) и Ярославля (40%), и только 20% из Рыбинска.\n",
    "\n",
    "Портрет типичного ушедшего клиента: Женщина (возможно мужчина), старше 44 лет из Ростова Великого или Ярославля, с низкой активностью и балансом на счете выше среднего."
   ]
  },
  {
   "cell_type": "code",
   "execution_count": 19,
   "metadata": {},
   "outputs": [
    {
     "data": {
      "image/png": "[encoded data removed]",
      "text/plain": [
       "<Figure size 1296x648 with 2 Axes>"
      ]
     },
     "metadata": {
      "needs_background": "light"
     },
     "output_type": "display_data"
    }
   ],
   "source": [
    "# проведем коррелякционный анализ путем построения корреляционной матрицы\n",
    "corr = bank_data_hot.corr()\n",
    "\n",
    "# нарисуем heatmap\n",
    "plt.figure(figsize=(18, 9))\n",
    "sns.heatmap(corr, annot = True, square = True, cmap=\"PiYG\")\n",
    "plt.title('Матрица корреляций')\n",
    "plt.show()"
   ]
  },
  {
   "cell_type": "markdown",
   "metadata": {},
   "source": [
    "**Вывод**\n",
    "\n",
    "Замечаем, что отток наиболее сильно коррелирует с возрастом клиента (0,29), лояльностью (-0,16) и текущим балансом (0,12). Однако корреляция довольно слабая."
   ]
  },
  {
   "cell_type": "markdown",
   "metadata": {},
   "source": [
    "## Шаг. Формулировка и проверка статистических гипотез"
   ]
  },
  {
   "cell_type": "markdown",
   "metadata": {},
   "source": [
    "_Проверим гипотезу различия дохода между теми клиентами, которые ушли и теми, которые остались.\n",
    "Гипотеза о равенстве средних двух генеральных совокупностей, следовательно_\n",
    "    \n",
    "**Нулевая гипотеза H₀:**\n",
    "        \n",
    "   - Средний доход между оставшимися и ушедшими клиентами равен\n",
    "    \n",
    "**Альтернативная гипотеза H₁:**\n",
    "        \n",
    "   - Средний доход между оставшимися и ушедшими клиентами отличается"
   ]
  },
  {
   "cell_type": "markdown",
   "metadata": {},
   "source": [
    "Применим t-критерий Стьюдента, который используется для определения статистической значимости различий средних величин. Для применения t-критерия Стьюдента необходимо, чтобы исходные данные имели нормальное распределение. Также имеет значение равенство дисперсий (распределения) сравниваемых групп. При неравных дисперсиях применяется t-критерий в модификации Уэлча."
   ]
  },
  {
   "cell_type": "code",
   "execution_count": 20,
   "metadata": {},
   "outputs": [],
   "source": [
    "# сохраним в переменных bank_data_churn_0 и bank_data_churn_1 актуальные данные\n",
    "bank_data_churn_0=bank_data.query(\"churn==0\")\n",
    "bank_data_churn_1=bank_data.query(\"churn==1\")"
   ]
  },
  {
   "cell_type": "code",
   "execution_count": 21,
   "metadata": {},
   "outputs": [
    {
     "data": {
      "image/png": "[encoded data removed]",
      "text/plain": [
       "<Figure size 432x288 with 1 Axes>"
      ]
     },
     "metadata": {
      "needs_background": "light"
     },
     "output_type": "display_data"
    }
   ],
   "source": [
    "# проверим распределения\n",
    "sns.distplot(bank_data_churn_0['estimated_salary'], label='0')\n",
    "sns.distplot(bank_data_churn_1['estimated_salary'], label='1')\n",
    "plt.title('Распределение доходов клиентов',fontsize=14)\n",
    "plt.legend()\n",
    "plt.show()"
   ]
  },
  {
   "cell_type": "code",
   "execution_count": 22,
   "metadata": {},
   "outputs": [
    {
     "name": "stdout",
     "output_type": "stream",
     "text": [
      "Дисперсия ушедших: 3295401414.9183965\n",
      "Дисперсия оставшихся: 3353848166.8070116\n"
     ]
    }
   ],
   "source": [
    "# рассчитаем дисперсию генеральных совокупностей \n",
    "print('Дисперсия ушедших:',bank_data_churn_0['estimated_salary'].var())\n",
    "print('Дисперсия оставшихся:',bank_data_churn_1['estimated_salary'].var())"
   ]
  },
  {
   "cell_type": "markdown",
   "metadata": {},
   "source": [
    "Дисперсии отличаются менее чем на 5%."
   ]
  },
  {
   "cell_type": "markdown",
   "metadata": {},
   "source": [
    "Пороговое значение alpha примем за 5%."
   ]
  },
  {
   "cell_type": "code",
   "execution_count": 23,
   "metadata": {},
   "outputs": [
    {
     "name": "stdout",
     "output_type": "stream",
     "text": [
      "p-значение: 0.22644042802223352\n",
      "Не получилось отвергнуть нулевую гипотезу\n"
     ]
    }
   ],
   "source": [
    "alpha=0.05\n",
    "results = st.ttest_ind(\n",
    "    bank_data_churn_0['estimated_salary'], \n",
    "    bank_data_churn_1['estimated_salary'])\n",
    "\n",
    "print('p-значение:', results.pvalue)\n",
    "\n",
    "if (results.pvalue < alpha):\n",
    "    print(\"Отвергаем нулевую гипотезу\")\n",
    "else:\n",
    "    print(\"Не получилось отвергнуть нулевую гипотезу\")"
   ]
  },
  {
   "cell_type": "markdown",
   "metadata": {},
   "source": [
    "Не удалось отвергнуть нулевую гипотезу: 'Средний доход между оставшимися и ушедшими клиентами равен'."
   ]
  },
  {
   "cell_type": "markdown",
   "metadata": {},
   "source": [
    "_Проверим гипотезу различия оттока между теми клиентами, которые пользуются двумя и более продуктами банка, и теми, которые пользуются одним_\n",
    "    \n",
    "**Нулевая гипотеза H₀:**\n",
    "        \n",
    "   - Отток клиентов, которые пользуются двумя и более продуктами банка, и отток тех, которые пользуются одним, равны\n",
    "    \n",
    "**Альтернативная гипотеза H₁:**\n",
    "        \n",
    "   - Отток клиентов, которые пользуются двумя и более продуктами банка, и отток тех, которые пользуются одним, различаются"
   ]
  },
  {
   "cell_type": "code",
   "execution_count": 24,
   "metadata": {},
   "outputs": [
    {
     "data": {
      "image/png": "[encoded data removed]",
      "text/plain": [
       "<Figure size 432x288 with 1 Axes>"
      ]
     },
     "metadata": {
      "needs_background": "light"
     },
     "output_type": "display_data"
    }
   ],
   "source": [
    "# проверим распределения\n",
    "sns.distplot(bank_data.query('products == 1')['churn'], label='1')\n",
    "sns.distplot(bank_data.query('products > 1')['churn'], label='0')\n",
    "plt.title('Распределение оттока клиентов c 1 продуктом и с 2 и более продуктами', fontsize=9)\n",
    "plt.legend()\n",
    "plt.show()"
   ]
  },
  {
   "cell_type": "markdown",
   "metadata": {},
   "source": [
    "На графиках видно, что отток у клиентов с 2 и более продуктами больше, чем у клиентов с 1 продуктом. "
   ]
  },
  {
   "cell_type": "markdown",
   "metadata": {},
   "source": [
    "Данные не похожи на нормальное распределение, т.к. всего 2 значения, поэтому нужен непараметрический критерий. Так как churn - величина бинарная, будет оптимальным использование Z-критерия для сравнения долей."
   ]
  },
  {
   "cell_type": "markdown",
   "metadata": {},
   "source": [
    "Пороговое значение alpha примем за 5%."
   ]
  },
  {
   "cell_type": "code",
   "execution_count": 25,
   "metadata": {},
   "outputs": [
    {
     "name": "stdout",
     "output_type": "stream",
     "text": [
      "p-значение: 2.0079099625883425e-79\n",
      "Отвергаем нулевую гипотезу\n"
     ]
    }
   ],
   "source": [
    "alpha = 0.05\n",
    "\n",
    "results, pvalue = stests.ztest(\n",
    "    bank_data.query('products == 1')['churn'], \n",
    "    x2=bank_data.query('products > 1')['churn'],\n",
    "    value = 0,\n",
    "    alternative='two-sided')\n",
    "\n",
    "print('p-значение:', float(pvalue))\n",
    "\n",
    "if (pvalue < alpha):\n",
    "    print(\"Отвергаем нулевую гипотезу\")\n",
    "else:\n",
    "    print(\"Не получилось отвергнуть нулевую гипотезу\")"
   ]
  },
  {
   "cell_type": "markdown",
   "metadata": {},
   "source": [
    "Удалось отвергнуть нулевую гипотезу: 'Отток клиентов, которые пользуются двумя и более продуктами банка, и отток тех, которые пользуются одним, равны'"
   ]
  },
  {
   "cell_type": "markdown",
   "metadata": {},
   "source": [
    "**Вывод**\n",
    "\n",
    "В ходе проверки гипотез выяснили, что средний доход между оставшимися и ушедшими клиентами не отличается и данный показатель не отражает отток клиентов. Однако, удалось выяснить, что на отток клиентов влияет количество используемых продуктов. Клиенты, которые пользуются одним продуктов не склонны уходить. \n",
    "    "
   ]
  },
  {
   "cell_type": "markdown",
   "metadata": {},
   "source": [
    "## Шаг. Построим модель предсказания оттока клиентов"
   ]
  },
  {
   "cell_type": "markdown",
   "metadata": {},
   "source": [
    "Построим модель бинарной классификации клиентов, где целевой признак — факт оттока клиента."
   ]
  },
  {
   "cell_type": "code",
   "execution_count": 26,
   "metadata": {},
   "outputs": [],
   "source": [
    "# подготовим данные, удалим 2 столбца с названиями городов и полом\n",
    "bank_data['balance'] = bank_data['balance'].fillna(0)\n",
    "bank_data_ml= bank_data.drop(columns=['city', 'gender'])"
   ]
  },
  {
   "cell_type": "code",
   "execution_count": 27,
   "metadata": {},
   "outputs": [],
   "source": [
    "# разделим наши данные на признаки (матрица X) и целевую переменную (y)\n",
    "X = bank_data_ml.drop(columns=['churn'], axis = 1)\n",
    "y = bank_data_ml['churn']\n",
    "\n",
    "# разделяем модель на обучающую и валидационную выборку\n",
    "X_train, X_test, y_train, y_test = train_test_split(X, y, test_size=0.2, random_state=0, stratify = y)\n",
    "scaler=StandardScaler()\n",
    "scaler.fit(X_train)\n",
    "X_train_sc=scaler.transform(X_train)\n",
    "X_test_sc=scaler.transform(X_test)"
   ]
  },
  {
   "cell_type": "code",
   "execution_count": 28,
   "metadata": {},
   "outputs": [],
   "source": [
    "def train_model(n):\n",
    "    'Функция обучает модель n на тестовых данных и рассчитывает все метрики'\n",
    "    print(n)\n",
    "    model=n\n",
    "    model.fit(X_train_sc,y_train)\n",
    "    y_pred=model.predict(X_test_sc)\n",
    "    print('Accuracy: {:.3f}'.format(accuracy_score(y_test,y_pred)), \n",
    "         '\\nRecall: {:.3f}'.format(recall_score(y_test,y_pred)),\n",
    "         '\\nPrecision: {:.3f}'.format(precision_score(y_test,y_pred)),'\\n')"
   ]
  },
  {
   "cell_type": "code",
   "execution_count": 29,
   "metadata": {},
   "outputs": [
    {
     "name": "stdout",
     "output_type": "stream",
     "text": [
      "LogisticRegression()\n",
      "Accuracy: 0.807 \n",
      "Recall: 0.167 \n",
      "Precision: 0.591 \n",
      "\n",
      "RandomForestClassifier()\n",
      "Accuracy: 0.856 \n",
      "Recall: 0.423 \n",
      "Precision: 0.761 \n",
      "\n"
     ]
    }
   ],
   "source": [
    "for mod in [LogisticRegression(), RandomForestClassifier()]:\n",
    "    train_model(mod)"
   ]
  },
  {
   "cell_type": "markdown",
   "metadata": {},
   "source": [
    "**Вывод**\n",
    "\n",
    "Обе модели показывают хорошую долю правильных ответов - 81% на логистичской регрессии и 86% случайным лесом. Доля правильных прогнозов и полнота чуть выше в модели случайного леса (~45% и ~74%), однако, недостаточно велика, для предсказания: что пользователь не уйдет, а он ушел. Из этого можно сделать вывод, что на этих данных можем обучить только слаботочные модели, для повышения точности нужно больше данных.\n"
   ]
  },
  {
   "cell_type": "markdown",
   "metadata": {},
   "source": [
    "## Шаг. Вывод и рекомендации по проекту"
   ]
  },
  {
   "cell_type": "markdown",
   "metadata": {},
   "source": [
    "Из анализа можно сделать вывод, что для клиентов банка «Метанпром» с наименьшим оттоком характерно: cредний возраст от 30 до 40 лет; проживают в Рыбинске; баланс на счете от 50 до 200 тыс. рублей; пользуется 1 продуктом; имеет кредитную карту; имеет несколько объектов в собственности;\n",
    "активный клиент. \n",
    "\n",
    "Портрет клиента банка «Метанпром» с риском оттока характерно: средний возраст от 55 до 65 лет; проживает в Ростове Великом; неактивный; пользуется 3 или 4 продуктами; не имеет кредитной карты.\n",
    "\n",
    "_На основе проведенного анализа рекомендуется:_\n",
    "\n",
    "- предоставить дополнительные услуги/льготы для пользователей с 2 и более продуктами;\n",
    "- провести анализ качества предоставляемых услуг в городе Ростов Великий;\n",
    "- повышать активность клиентов: разработать программу cashback, предложить нестандартные условия по счетам и вкладам, привлечь новых клиентов за счет рекомендации друзей;\n",
    "- предложить тематические продукты с привлекательными условиями для клиентов более старшего возраста.\n"
   ]
  }
 ],
 "metadata": {
  "ExecuteTimeLog": [
   {
    "duration": 43,
    "start_time": "2022-08-07T16:54:34.457Z"
   },
   {
    "duration": 394,
    "start_time": "2022-08-07T16:54:41.878Z"
   },
   {
    "duration": 100,
    "start_time": "2022-08-07T16:54:44.676Z"
   },
   {
    "duration": 102,
    "start_time": "2022-08-07T16:55:52.487Z"
   },
   {
    "duration": 2870,
    "start_time": "2022-08-07T16:56:38.109Z"
   },
   {
    "duration": 124,
    "start_time": "2022-08-07T16:57:18.507Z"
   },
   {
    "duration": 76,
    "start_time": "2022-08-07T16:57:37.151Z"
   },
   {
    "duration": 70,
    "start_time": "2022-08-07T16:57:53.077Z"
   },
   {
    "duration": 15,
    "start_time": "2022-08-07T16:58:41.113Z"
   },
   {
    "duration": 12,
    "start_time": "2022-08-07T16:59:56.340Z"
   },
   {
    "duration": 174,
    "start_time": "2022-08-07T17:00:56.436Z"
   },
   {
    "duration": 1270,
    "start_time": "2022-08-07T17:09:17.002Z"
   },
   {
    "duration": 99,
    "start_time": "2022-08-07T17:10:47.916Z"
   },
   {
    "duration": 58,
    "start_time": "2022-08-07T17:10:54.010Z"
   },
   {
    "duration": 37,
    "start_time": "2022-08-07T17:12:06.981Z"
   },
   {
    "duration": 58,
    "start_time": "2022-08-07T17:12:12.014Z"
   },
   {
    "duration": 11,
    "start_time": "2022-08-07T17:12:23.597Z"
   },
   {
    "duration": 36,
    "start_time": "2022-08-07T17:14:11.634Z"
   },
   {
    "duration": 10,
    "start_time": "2022-08-07T17:17:06.582Z"
   },
   {
    "duration": 12,
    "start_time": "2022-08-07T17:17:23.544Z"
   },
   {
    "duration": 123,
    "start_time": "2022-08-07T17:33:37.573Z"
   },
   {
    "duration": 9,
    "start_time": "2022-08-07T17:34:49.349Z"
   },
   {
    "duration": 2,
    "start_time": "2022-08-07T17:34:58.006Z"
   },
   {
    "duration": 2,
    "start_time": "2022-08-07T17:38:51.922Z"
   },
   {
    "duration": 11,
    "start_time": "2022-08-07T17:39:19.325Z"
   },
   {
    "duration": 10,
    "start_time": "2022-08-07T17:41:01.429Z"
   },
   {
    "duration": 116,
    "start_time": "2022-08-07T18:02:11.392Z"
   },
   {
    "duration": 22,
    "start_time": "2022-08-07T18:09:52.431Z"
   },
   {
    "duration": 12,
    "start_time": "2022-08-07T18:10:07.035Z"
   },
   {
    "duration": 2001,
    "start_time": "2022-08-07T18:12:03.586Z"
   },
   {
    "duration": 1912,
    "start_time": "2022-08-07T18:13:20.677Z"
   },
   {
    "duration": 20,
    "start_time": "2022-08-07T18:13:34.729Z"
   },
   {
    "duration": 20,
    "start_time": "2022-08-07T18:13:44.264Z"
   },
   {
    "duration": 15,
    "start_time": "2022-08-07T18:13:55.529Z"
   },
   {
    "duration": 19,
    "start_time": "2022-08-07T18:17:04.259Z"
   },
   {
    "duration": 14,
    "start_time": "2022-08-07T18:17:05.866Z"
   },
   {
    "duration": 17,
    "start_time": "2022-08-07T18:17:16.788Z"
   },
   {
    "duration": 15,
    "start_time": "2022-08-07T18:17:17.523Z"
   },
   {
    "duration": 21,
    "start_time": "2022-08-07T18:19:52.464Z"
   },
   {
    "duration": 18,
    "start_time": "2022-08-07T18:20:01.526Z"
   },
   {
    "duration": 17,
    "start_time": "2022-08-07T18:20:28.047Z"
   },
   {
    "duration": 14,
    "start_time": "2022-08-07T18:20:28.726Z"
   },
   {
    "duration": 19,
    "start_time": "2022-08-07T18:20:43.369Z"
   },
   {
    "duration": 14,
    "start_time": "2022-08-07T18:20:43.865Z"
   },
   {
    "duration": 19,
    "start_time": "2022-08-07T18:22:15.602Z"
   },
   {
    "duration": 13,
    "start_time": "2022-08-07T18:22:16.107Z"
   },
   {
    "duration": 1918,
    "start_time": "2022-08-07T18:22:45.036Z"
   },
   {
    "duration": 0,
    "start_time": "2022-08-07T18:22:46.955Z"
   },
   {
    "duration": 19,
    "start_time": "2022-08-07T18:23:35.651Z"
   },
   {
    "duration": 20,
    "start_time": "2022-08-07T18:23:40.582Z"
   },
   {
    "duration": 14,
    "start_time": "2022-08-07T18:23:40.997Z"
   },
   {
    "duration": 1671,
    "start_time": "2022-08-08T09:37:06.199Z"
   },
   {
    "duration": 134,
    "start_time": "2022-08-08T09:37:07.872Z"
   },
   {
    "duration": 13,
    "start_time": "2022-08-08T09:37:08.008Z"
   },
   {
    "duration": 16,
    "start_time": "2022-08-08T09:37:08.181Z"
   },
   {
    "duration": 3,
    "start_time": "2022-08-08T09:37:10.681Z"
   },
   {
    "duration": 9,
    "start_time": "2022-08-08T09:37:12.118Z"
   },
   {
    "duration": 20,
    "start_time": "2022-08-08T09:37:14.096Z"
   },
   {
    "duration": 12,
    "start_time": "2022-08-08T09:37:15.065Z"
   },
   {
    "duration": 4,
    "start_time": "2022-08-08T09:39:07.646Z"
   },
   {
    "duration": 10,
    "start_time": "2022-08-08T09:39:38.453Z"
   },
   {
    "duration": 6,
    "start_time": "2022-08-08T09:57:40.724Z"
   },
   {
    "duration": 4,
    "start_time": "2022-08-08T09:57:58.253Z"
   },
   {
    "duration": 4,
    "start_time": "2022-08-08T09:58:01.506Z"
   },
   {
    "duration": 3,
    "start_time": "2022-08-08T09:58:03.498Z"
   },
   {
    "duration": 7,
    "start_time": "2022-08-08T09:58:10.144Z"
   },
   {
    "duration": 4,
    "start_time": "2022-08-08T09:58:16.716Z"
   },
   {
    "duration": 33,
    "start_time": "2022-08-08T09:58:17.130Z"
   },
   {
    "duration": 10,
    "start_time": "2022-08-08T09:58:17.588Z"
   },
   {
    "duration": 11,
    "start_time": "2022-08-08T09:58:18.068Z"
   },
   {
    "duration": 2,
    "start_time": "2022-08-08T09:58:20.080Z"
   },
   {
    "duration": 10,
    "start_time": "2022-08-08T09:58:20.579Z"
   },
   {
    "duration": 7,
    "start_time": "2022-08-08T09:58:21.279Z"
   },
   {
    "duration": 6,
    "start_time": "2022-08-08T10:05:38.919Z"
   },
   {
    "duration": 6,
    "start_time": "2022-08-08T10:07:25.268Z"
   },
   {
    "duration": 4,
    "start_time": "2022-08-08T10:08:08.445Z"
   },
   {
    "duration": 5,
    "start_time": "2022-08-08T10:09:14.642Z"
   },
   {
    "duration": 5,
    "start_time": "2022-08-08T10:09:42.142Z"
   },
   {
    "duration": 4,
    "start_time": "2022-08-08T10:10:51.257Z"
   },
   {
    "duration": 75,
    "start_time": "2022-08-08T10:14:43.162Z"
   },
   {
    "duration": 3,
    "start_time": "2022-08-08T10:15:33.894Z"
   },
   {
    "duration": 7,
    "start_time": "2022-08-08T10:15:51.447Z"
   },
   {
    "duration": 10,
    "start_time": "2022-08-08T10:16:21.647Z"
   },
   {
    "duration": 4,
    "start_time": "2022-08-08T10:17:57.153Z"
   },
   {
    "duration": 12,
    "start_time": "2022-08-08T10:18:31.247Z"
   },
   {
    "duration": 4,
    "start_time": "2022-08-08T10:18:39.109Z"
   },
   {
    "duration": 11,
    "start_time": "2022-08-08T10:18:40.510Z"
   },
   {
    "duration": 3,
    "start_time": "2022-08-08T10:18:45.634Z"
   },
   {
    "duration": 10,
    "start_time": "2022-08-08T10:18:46.824Z"
   },
   {
    "duration": 4,
    "start_time": "2022-08-08T10:18:53.704Z"
   },
   {
    "duration": 12,
    "start_time": "2022-08-08T10:18:54.526Z"
   },
   {
    "duration": 3,
    "start_time": "2022-08-08T10:19:02.287Z"
   },
   {
    "duration": 11,
    "start_time": "2022-08-08T10:19:03.653Z"
   },
   {
    "duration": 5,
    "start_time": "2022-08-08T10:19:10.918Z"
   },
   {
    "duration": 6,
    "start_time": "2022-08-08T10:19:11.254Z"
   },
   {
    "duration": 5,
    "start_time": "2022-08-08T10:19:11.683Z"
   },
   {
    "duration": 3,
    "start_time": "2022-08-08T10:19:12.857Z"
   },
   {
    "duration": 3,
    "start_time": "2022-08-08T10:23:03.406Z"
   },
   {
    "duration": 399,
    "start_time": "2022-08-08T10:23:29.712Z"
   },
   {
    "duration": 955,
    "start_time": "2022-08-08T10:43:02.130Z"
   },
   {
    "duration": 854,
    "start_time": "2022-08-08T10:43:22.952Z"
   },
   {
    "duration": 921,
    "start_time": "2022-08-08T10:44:04.399Z"
   },
   {
    "duration": 12,
    "start_time": "2022-08-08T10:45:24.110Z"
   },
   {
    "duration": 2298,
    "start_time": "2022-08-08T10:45:35.807Z"
   },
   {
    "duration": 2144,
    "start_time": "2022-08-08T10:50:00.175Z"
   },
   {
    "duration": 2399,
    "start_time": "2022-08-08T10:50:14.242Z"
   },
   {
    "duration": 2070,
    "start_time": "2022-08-08T10:50:21.155Z"
   },
   {
    "duration": 2174,
    "start_time": "2022-08-08T10:50:25.526Z"
   },
   {
    "duration": 2148,
    "start_time": "2022-08-08T10:51:01.730Z"
   },
   {
    "duration": 172,
    "start_time": "2022-08-08T10:53:34.934Z"
   },
   {
    "duration": 2122,
    "start_time": "2022-08-08T10:53:46.770Z"
   },
   {
    "duration": 2157,
    "start_time": "2022-08-08T10:56:47.926Z"
   },
   {
    "duration": 2182,
    "start_time": "2022-08-08T10:57:08.109Z"
   },
   {
    "duration": 2197,
    "start_time": "2022-08-08T10:57:16.395Z"
   },
   {
    "duration": 13,
    "start_time": "2022-08-08T11:00:32.771Z"
   },
   {
    "duration": 2502,
    "start_time": "2022-08-08T11:21:59.748Z"
   },
   {
    "duration": 42,
    "start_time": "2022-08-08T11:24:55.538Z"
   },
   {
    "duration": 2,
    "start_time": "2022-08-08T12:56:29.076Z"
   },
   {
    "duration": 47258,
    "start_time": "2022-08-08T12:56:44.358Z"
   },
   {
    "duration": 16,
    "start_time": "2022-08-08T13:00:15.528Z"
   },
   {
    "duration": 1121,
    "start_time": "2022-08-08T13:15:20.602Z"
   },
   {
    "duration": 12,
    "start_time": "2022-08-08T13:16:15.397Z"
   },
   {
    "duration": 10,
    "start_time": "2022-08-08T13:23:16.837Z"
   },
   {
    "duration": 3,
    "start_time": "2022-08-09T08:17:08.549Z"
   },
   {
    "duration": 9,
    "start_time": "2022-08-09T08:51:14.158Z"
   },
   {
    "duration": 13,
    "start_time": "2022-08-09T08:51:32.365Z"
   },
   {
    "duration": 102,
    "start_time": "2022-08-09T08:52:04.199Z"
   },
   {
    "duration": 240,
    "start_time": "2022-08-09T08:56:10.483Z"
   },
   {
    "duration": 237,
    "start_time": "2022-08-09T08:57:15.176Z"
   },
   {
    "duration": 226,
    "start_time": "2022-08-09T08:58:01.064Z"
   },
   {
    "duration": 222,
    "start_time": "2022-08-09T08:58:23.527Z"
   },
   {
    "duration": 259,
    "start_time": "2022-08-09T08:59:30.088Z"
   },
   {
    "duration": 219,
    "start_time": "2022-08-09T09:00:54.264Z"
   },
   {
    "duration": 5,
    "start_time": "2022-08-09T09:09:20.139Z"
   },
   {
    "duration": 4,
    "start_time": "2022-08-09T09:11:38.083Z"
   },
   {
    "duration": 5,
    "start_time": "2022-08-09T09:12:39.110Z"
   },
   {
    "duration": 79,
    "start_time": "2022-08-09T09:14:51.448Z"
   },
   {
    "duration": 104,
    "start_time": "2022-08-09T09:16:02.889Z"
   },
   {
    "duration": 5,
    "start_time": "2022-08-09T09:16:34.436Z"
   },
   {
    "duration": 1890,
    "start_time": "2022-08-09T17:09:19.676Z"
   },
   {
    "duration": 317,
    "start_time": "2022-08-09T17:09:21.568Z"
   },
   {
    "duration": 19,
    "start_time": "2022-08-09T17:09:21.888Z"
   },
   {
    "duration": 22,
    "start_time": "2022-08-09T17:09:21.910Z"
   },
   {
    "duration": 4,
    "start_time": "2022-08-09T17:09:21.934Z"
   },
   {
    "duration": 17,
    "start_time": "2022-08-09T17:09:21.940Z"
   },
   {
    "duration": 8,
    "start_time": "2022-08-09T17:09:23.667Z"
   },
   {
    "duration": 7,
    "start_time": "2022-08-09T17:09:24.438Z"
   },
   {
    "duration": 6,
    "start_time": "2022-08-09T17:09:24.855Z"
   },
   {
    "duration": 6,
    "start_time": "2022-08-09T17:09:25.278Z"
   },
   {
    "duration": 6,
    "start_time": "2022-08-09T17:09:25.680Z"
   },
   {
    "duration": 4,
    "start_time": "2022-08-09T17:09:26.748Z"
   },
   {
    "duration": 2314,
    "start_time": "2022-08-09T17:09:28.160Z"
   },
   {
    "duration": 49,
    "start_time": "2022-08-09T17:09:30.476Z"
   },
   {
    "duration": 16,
    "start_time": "2022-08-09T17:09:30.623Z"
   },
   {
    "duration": 1043,
    "start_time": "2022-08-09T17:09:32.524Z"
   },
   {
    "duration": 9,
    "start_time": "2022-08-09T17:09:34.656Z"
   },
   {
    "duration": 390,
    "start_time": "2022-08-09T17:09:34.839Z"
   },
   {
    "duration": 6,
    "start_time": "2022-08-09T17:09:35.320Z"
   },
   {
    "duration": 6,
    "start_time": "2022-08-09T17:09:37.061Z"
   },
   {
    "duration": 74,
    "start_time": "2022-08-09T17:14:18.430Z"
   },
   {
    "duration": 296,
    "start_time": "2022-08-09T17:28:31.742Z"
   },
   {
    "duration": 293,
    "start_time": "2022-08-09T17:31:26.843Z"
   },
   {
    "duration": 90,
    "start_time": "2022-08-09T17:42:28.553Z"
   },
   {
    "duration": 316,
    "start_time": "2022-08-09T17:42:38.752Z"
   },
   {
    "duration": 301,
    "start_time": "2022-08-09T17:43:10.781Z"
   },
   {
    "duration": 306,
    "start_time": "2022-08-09T17:45:09.423Z"
   },
   {
    "duration": 383,
    "start_time": "2022-08-09T17:45:24.244Z"
   },
   {
    "duration": 86,
    "start_time": "2022-08-09T17:46:05.863Z"
   },
   {
    "duration": 302,
    "start_time": "2022-08-09T17:46:15.092Z"
   },
   {
    "duration": 302,
    "start_time": "2022-08-09T17:46:30.169Z"
   },
   {
    "duration": 82,
    "start_time": "2022-08-09T17:47:08.068Z"
   },
   {
    "duration": 288,
    "start_time": "2022-08-09T17:47:28.857Z"
   },
   {
    "duration": 308,
    "start_time": "2022-08-09T17:51:07.530Z"
   },
   {
    "duration": 11,
    "start_time": "2022-08-09T18:00:17.456Z"
   },
   {
    "duration": 11,
    "start_time": "2022-08-09T18:00:42.408Z"
   },
   {
    "duration": 6,
    "start_time": "2022-08-09T18:03:58.841Z"
   },
   {
    "duration": 38,
    "start_time": "2022-08-09T18:03:59.685Z"
   },
   {
    "duration": 14,
    "start_time": "2022-08-09T18:04:00.396Z"
   },
   {
    "duration": 15,
    "start_time": "2022-08-09T18:04:00.878Z"
   },
   {
    "duration": 4,
    "start_time": "2022-08-09T18:04:02.033Z"
   },
   {
    "duration": 13,
    "start_time": "2022-08-09T18:04:02.420Z"
   },
   {
    "duration": 10,
    "start_time": "2022-08-09T18:04:02.675Z"
   },
   {
    "duration": 7,
    "start_time": "2022-08-09T18:04:03.222Z"
   },
   {
    "duration": 6,
    "start_time": "2022-08-09T18:04:03.593Z"
   },
   {
    "duration": 6,
    "start_time": "2022-08-09T18:04:03.863Z"
   },
   {
    "duration": 6,
    "start_time": "2022-08-09T18:04:04.140Z"
   },
   {
    "duration": 4,
    "start_time": "2022-08-09T18:04:05.057Z"
   },
   {
    "duration": 2612,
    "start_time": "2022-08-09T18:04:05.985Z"
   },
   {
    "duration": 45,
    "start_time": "2022-08-09T18:04:08.600Z"
   },
   {
    "duration": 16,
    "start_time": "2022-08-09T18:04:08.647Z"
   },
   {
    "duration": 1151,
    "start_time": "2022-08-09T18:04:08.666Z"
   },
   {
    "duration": 8,
    "start_time": "2022-08-09T18:04:09.819Z"
   },
   {
    "duration": 295,
    "start_time": "2022-08-09T18:04:09.828Z"
   },
   {
    "duration": 6,
    "start_time": "2022-08-09T18:04:10.127Z"
   },
   {
    "duration": 6,
    "start_time": "2022-08-09T18:04:10.961Z"
   },
   {
    "duration": 491,
    "start_time": "2022-08-09T18:04:11.783Z"
   },
   {
    "duration": 12,
    "start_time": "2022-08-09T18:04:12.934Z"
   },
   {
    "duration": 11,
    "start_time": "2022-08-09T18:07:26.141Z"
   },
   {
    "duration": 78,
    "start_time": "2022-08-09T18:13:01.765Z"
   },
   {
    "duration": 3,
    "start_time": "2022-08-09T19:33:21.745Z"
   },
   {
    "duration": 211,
    "start_time": "2022-08-09T19:35:40.657Z"
   },
   {
    "duration": 12,
    "start_time": "2022-08-09T19:43:00.244Z"
   },
   {
    "duration": 12,
    "start_time": "2022-08-09T19:46:33.931Z"
   },
   {
    "duration": 5,
    "start_time": "2022-08-09T19:48:19.721Z"
   },
   {
    "duration": 5,
    "start_time": "2022-08-09T19:48:23.773Z"
   },
   {
    "duration": 27,
    "start_time": "2022-08-09T19:48:29.346Z"
   },
   {
    "duration": 13,
    "start_time": "2022-08-09T19:49:36.398Z"
   },
   {
    "duration": 10,
    "start_time": "2022-08-09T19:49:37.775Z"
   },
   {
    "duration": 24,
    "start_time": "2022-08-09T19:49:39.463Z"
   },
   {
    "duration": 11,
    "start_time": "2022-08-09T19:50:08.687Z"
   },
   {
    "duration": 95,
    "start_time": "2022-08-09T19:50:10.100Z"
   },
   {
    "duration": 16,
    "start_time": "2022-08-09T19:50:27.290Z"
   },
   {
    "duration": 55,
    "start_time": "2022-08-09T19:50:28.347Z"
   },
   {
    "duration": 13,
    "start_time": "2022-08-09T19:51:07.816Z"
   },
   {
    "duration": 20,
    "start_time": "2022-08-09T19:51:08.328Z"
   },
   {
    "duration": 83,
    "start_time": "2022-08-09T19:51:09.011Z"
   },
   {
    "duration": 5,
    "start_time": "2022-08-09T19:52:40.550Z"
   },
   {
    "duration": 10,
    "start_time": "2022-08-09T19:52:54.160Z"
   },
   {
    "duration": 6,
    "start_time": "2022-08-09T19:54:17.838Z"
   },
   {
    "duration": 38,
    "start_time": "2022-08-09T19:54:18.960Z"
   },
   {
    "duration": 15,
    "start_time": "2022-08-09T19:54:19.615Z"
   },
   {
    "duration": 14,
    "start_time": "2022-08-09T19:54:20.113Z"
   },
   {
    "duration": 3,
    "start_time": "2022-08-09T19:54:21.724Z"
   },
   {
    "duration": 11,
    "start_time": "2022-08-09T19:54:23.564Z"
   },
   {
    "duration": 7,
    "start_time": "2022-08-09T19:54:23.578Z"
   },
   {
    "duration": 7,
    "start_time": "2022-08-09T19:54:23.782Z"
   },
   {
    "duration": 7,
    "start_time": "2022-08-09T19:54:24.572Z"
   },
   {
    "duration": 6,
    "start_time": "2022-08-09T19:54:24.778Z"
   },
   {
    "duration": 6,
    "start_time": "2022-08-09T19:54:25.287Z"
   },
   {
    "duration": 3,
    "start_time": "2022-08-09T19:54:26.654Z"
   },
   {
    "duration": 2419,
    "start_time": "2022-08-09T19:54:27.777Z"
   },
   {
    "duration": 44,
    "start_time": "2022-08-09T19:54:30.199Z"
   },
   {
    "duration": 15,
    "start_time": "2022-08-09T19:54:30.245Z"
   },
   {
    "duration": 1015,
    "start_time": "2022-08-09T19:54:30.262Z"
   },
   {
    "duration": 8,
    "start_time": "2022-08-09T19:54:34.399Z"
   },
   {
    "duration": 264,
    "start_time": "2022-08-09T19:54:34.851Z"
   },
   {
    "duration": 5,
    "start_time": "2022-08-09T19:54:35.283Z"
   },
   {
    "duration": 5,
    "start_time": "2022-08-09T19:54:36.745Z"
   },
   {
    "duration": 307,
    "start_time": "2022-08-09T19:54:38.098Z"
   },
   {
    "duration": 14,
    "start_time": "2022-08-09T19:54:39.339Z"
   },
   {
    "duration": 14,
    "start_time": "2022-08-09T19:54:41.760Z"
   },
   {
    "duration": 17,
    "start_time": "2022-08-09T19:54:42.456Z"
   },
   {
    "duration": 4,
    "start_time": "2022-08-09T19:54:43.211Z"
   },
   {
    "duration": 270,
    "start_time": "2022-08-09T19:54:44.024Z"
   },
   {
    "duration": 3,
    "start_time": "2022-08-09T20:01:41.447Z"
   },
   {
    "duration": 282,
    "start_time": "2022-08-09T20:01:41.911Z"
   },
   {
    "duration": 12,
    "start_time": "2022-08-09T20:03:21.908Z"
   },
   {
    "duration": 22,
    "start_time": "2022-08-09T20:03:24.616Z"
   },
   {
    "duration": 12,
    "start_time": "2022-08-09T20:11:25.623Z"
   },
   {
    "duration": 17,
    "start_time": "2022-08-09T20:11:35.805Z"
   },
   {
    "duration": 12,
    "start_time": "2022-08-09T20:12:25.159Z"
   },
   {
    "duration": 4,
    "start_time": "2022-08-09T20:12:44.671Z"
   },
   {
    "duration": 11,
    "start_time": "2022-08-09T20:12:53.249Z"
   },
   {
    "duration": 99,
    "start_time": "2022-08-09T20:13:17.699Z"
   },
   {
    "duration": 4,
    "start_time": "2022-08-09T20:13:27.269Z"
   },
   {
    "duration": 10,
    "start_time": "2022-08-09T20:13:27.807Z"
   },
   {
    "duration": 92,
    "start_time": "2022-08-09T20:13:28.504Z"
   },
   {
    "duration": 11,
    "start_time": "2022-08-09T20:14:08.275Z"
   },
   {
    "duration": 32,
    "start_time": "2022-08-09T20:14:09.072Z"
   },
   {
    "duration": 19,
    "start_time": "2022-08-09T20:16:21.274Z"
   },
   {
    "duration": 91,
    "start_time": "2022-08-09T20:16:26.205Z"
   },
   {
    "duration": 35,
    "start_time": "2022-08-09T20:18:52.463Z"
   },
   {
    "duration": 106,
    "start_time": "2022-08-09T20:18:53.192Z"
   },
   {
    "duration": 4,
    "start_time": "2022-08-09T20:29:10.482Z"
   },
   {
    "duration": 17,
    "start_time": "2022-08-09T20:29:10.961Z"
   },
   {
    "duration": 108,
    "start_time": "2022-08-09T20:29:11.586Z"
   },
   {
    "duration": 10,
    "start_time": "2022-08-09T20:32:29.768Z"
   },
   {
    "duration": 28,
    "start_time": "2022-08-09T20:32:30.486Z"
   },
   {
    "duration": 1357,
    "start_time": "2022-08-09T20:33:19.553Z"
   },
   {
    "duration": 6,
    "start_time": "2022-08-09T20:34:15.545Z"
   },
   {
    "duration": 38,
    "start_time": "2022-08-09T20:34:18.537Z"
   },
   {
    "duration": 15,
    "start_time": "2022-08-09T20:34:18.738Z"
   },
   {
    "duration": 17,
    "start_time": "2022-08-09T20:34:19.370Z"
   },
   {
    "duration": 4,
    "start_time": "2022-08-09T20:34:20.177Z"
   },
   {
    "duration": 13,
    "start_time": "2022-08-09T20:34:20.432Z"
   },
   {
    "duration": 10,
    "start_time": "2022-08-09T20:34:20.705Z"
   },
   {
    "duration": 7,
    "start_time": "2022-08-09T20:34:21.224Z"
   },
   {
    "duration": 7,
    "start_time": "2022-08-09T20:34:21.470Z"
   },
   {
    "duration": 5,
    "start_time": "2022-08-09T20:34:21.729Z"
   },
   {
    "duration": 9,
    "start_time": "2022-08-09T20:34:21.949Z"
   },
   {
    "duration": 4,
    "start_time": "2022-08-09T20:34:22.565Z"
   },
   {
    "duration": 2424,
    "start_time": "2022-08-09T20:34:23.177Z"
   },
   {
    "duration": 45,
    "start_time": "2022-08-09T20:34:25.603Z"
   },
   {
    "duration": 15,
    "start_time": "2022-08-09T20:34:25.650Z"
   },
   {
    "duration": 1227,
    "start_time": "2022-08-09T20:34:25.667Z"
   },
   {
    "duration": 9,
    "start_time": "2022-08-09T20:34:27.551Z"
   },
   {
    "duration": 309,
    "start_time": "2022-08-09T20:34:27.787Z"
   },
   {
    "duration": 7,
    "start_time": "2022-08-09T20:34:28.099Z"
   },
   {
    "duration": 7,
    "start_time": "2022-08-09T20:34:28.673Z"
   },
   {
    "duration": 343,
    "start_time": "2022-08-09T20:34:29.665Z"
   },
   {
    "duration": 12,
    "start_time": "2022-08-09T20:34:30.657Z"
   },
   {
    "duration": 4,
    "start_time": "2022-08-09T20:34:31.671Z"
   },
   {
    "duration": 13,
    "start_time": "2022-08-09T20:34:31.979Z"
   },
   {
    "duration": 74,
    "start_time": "2022-08-09T20:34:32.218Z"
   },
   {
    "duration": 1326,
    "start_time": "2022-08-09T20:34:32.447Z"
   },
   {
    "duration": 10,
    "start_time": "2022-08-09T20:48:04.488Z"
   },
   {
    "duration": 27,
    "start_time": "2022-08-09T20:48:04.990Z"
   },
   {
    "duration": 1337,
    "start_time": "2022-08-09T20:48:05.824Z"
   },
   {
    "duration": 4,
    "start_time": "2022-08-09T20:48:32.337Z"
   },
   {
    "duration": 10,
    "start_time": "2022-08-09T20:48:32.706Z"
   },
   {
    "duration": 65,
    "start_time": "2022-08-09T20:48:33.427Z"
   },
   {
    "duration": 1340,
    "start_time": "2022-08-09T20:48:34.092Z"
   },
   {
    "duration": 85,
    "start_time": "2022-08-09T20:49:20.507Z"
   },
   {
    "duration": 67,
    "start_time": "2022-08-09T20:49:35.825Z"
   },
   {
    "duration": 31,
    "start_time": "2022-08-09T20:49:42.676Z"
   },
   {
    "duration": 4,
    "start_time": "2022-08-09T20:50:36.003Z"
   },
   {
    "duration": 12,
    "start_time": "2022-08-09T20:50:36.599Z"
   },
   {
    "duration": 10,
    "start_time": "2022-08-09T20:51:06.320Z"
   },
   {
    "duration": 5,
    "start_time": "2022-08-09T20:51:25.985Z"
   },
   {
    "duration": 10,
    "start_time": "2022-08-09T20:51:26.529Z"
   },
   {
    "duration": 18,
    "start_time": "2022-08-09T20:52:07.277Z"
   },
   {
    "duration": 28,
    "start_time": "2022-08-09T20:52:09.458Z"
   },
   {
    "duration": 1386,
    "start_time": "2022-08-09T20:52:11.288Z"
   },
   {
    "duration": 10,
    "start_time": "2022-08-09T20:52:49.973Z"
   },
   {
    "duration": 48,
    "start_time": "2022-08-09T20:52:51.245Z"
   },
   {
    "duration": 1322,
    "start_time": "2022-08-09T20:52:52.808Z"
   },
   {
    "duration": 4,
    "start_time": "2022-08-09T20:54:10.149Z"
   },
   {
    "duration": 1515,
    "start_time": "2022-08-09T20:54:46.082Z"
   },
   {
    "duration": 4,
    "start_time": "2022-08-09T20:59:19.936Z"
   },
   {
    "duration": 1600,
    "start_time": "2022-08-09T20:59:21.898Z"
   },
   {
    "duration": 3,
    "start_time": "2022-08-09T21:03:27.749Z"
   },
   {
    "duration": 1559,
    "start_time": "2022-08-09T21:03:30.094Z"
   },
   {
    "duration": 520,
    "start_time": "2022-08-09T21:03:49.276Z"
   },
   {
    "duration": 5,
    "start_time": "2022-08-09T21:05:19.731Z"
   },
   {
    "duration": 12,
    "start_time": "2022-08-09T21:05:20.496Z"
   },
   {
    "duration": 3,
    "start_time": "2022-08-09T21:05:21.281Z"
   },
   {
    "duration": 1607,
    "start_time": "2022-08-09T21:05:22.117Z"
   },
   {
    "duration": 474,
    "start_time": "2022-08-09T21:05:31.919Z"
   },
   {
    "duration": 1341,
    "start_time": "2022-08-09T21:05:33.508Z"
   },
   {
    "duration": 4,
    "start_time": "2022-08-09T21:07:21.256Z"
   },
   {
    "duration": 1571,
    "start_time": "2022-08-09T21:07:24.739Z"
   },
   {
    "duration": 77,
    "start_time": "2022-08-09T21:08:35.276Z"
   },
   {
    "duration": 4,
    "start_time": "2022-08-09T21:08:45.656Z"
   },
   {
    "duration": 1703,
    "start_time": "2022-08-09T21:08:49.404Z"
   },
   {
    "duration": 1612,
    "start_time": "2022-08-09T21:09:02.819Z"
   },
   {
    "duration": 4,
    "start_time": "2022-08-09T21:09:20.451Z"
   },
   {
    "duration": 1482,
    "start_time": "2022-08-09T21:09:21.635Z"
   },
   {
    "duration": 1374,
    "start_time": "2022-08-09T21:09:31.075Z"
   },
   {
    "duration": 4,
    "start_time": "2022-08-09T21:10:11.078Z"
   },
   {
    "duration": 1608,
    "start_time": "2022-08-09T21:10:11.776Z"
   },
   {
    "duration": 5,
    "start_time": "2022-08-09T21:10:39.533Z"
   },
   {
    "duration": 1721,
    "start_time": "2022-08-09T21:10:40.412Z"
   },
   {
    "duration": 1598,
    "start_time": "2022-08-10T08:39:57.586Z"
   },
   {
    "duration": 73,
    "start_time": "2022-08-10T08:39:59.186Z"
   },
   {
    "duration": 13,
    "start_time": "2022-08-10T08:39:59.261Z"
   },
   {
    "duration": 17,
    "start_time": "2022-08-10T08:39:59.323Z"
   },
   {
    "duration": 3,
    "start_time": "2022-08-10T08:40:00.778Z"
   },
   {
    "duration": 10,
    "start_time": "2022-08-10T08:40:01.114Z"
   },
   {
    "duration": 8,
    "start_time": "2022-08-10T08:40:01.613Z"
   },
   {
    "duration": 6,
    "start_time": "2022-08-10T08:40:02.501Z"
   },
   {
    "duration": 6,
    "start_time": "2022-08-10T08:40:02.973Z"
   },
   {
    "duration": 6,
    "start_time": "2022-08-10T08:40:03.350Z"
   },
   {
    "duration": 5,
    "start_time": "2022-08-10T08:40:03.829Z"
   },
   {
    "duration": 3,
    "start_time": "2022-08-10T08:40:04.986Z"
   },
   {
    "duration": 2037,
    "start_time": "2022-08-10T08:40:06.023Z"
   },
   {
    "duration": 37,
    "start_time": "2022-08-10T08:40:08.062Z"
   },
   {
    "duration": 15,
    "start_time": "2022-08-10T08:40:08.199Z"
   },
   {
    "duration": 994,
    "start_time": "2022-08-10T08:40:08.896Z"
   },
   {
    "duration": 10,
    "start_time": "2022-08-10T08:40:11.142Z"
   },
   {
    "duration": 335,
    "start_time": "2022-08-10T08:40:11.510Z"
   },
   {
    "duration": 6,
    "start_time": "2022-08-10T08:40:11.957Z"
   },
   {
    "duration": 6,
    "start_time": "2022-08-10T08:40:13.269Z"
   },
   {
    "duration": 261,
    "start_time": "2022-08-10T08:40:14.685Z"
   },
   {
    "duration": 10,
    "start_time": "2022-08-10T08:40:16.181Z"
   },
   {
    "duration": 4,
    "start_time": "2022-08-10T08:40:17.974Z"
   },
   {
    "duration": 10,
    "start_time": "2022-08-10T08:40:18.398Z"
   },
   {
    "duration": 4,
    "start_time": "2022-08-10T08:40:18.733Z"
   },
   {
    "duration": 108,
    "start_time": "2022-08-10T08:40:19.143Z"
   },
   {
    "duration": 3,
    "start_time": "2022-08-10T08:41:04.912Z"
   },
   {
    "duration": 8,
    "start_time": "2022-08-10T08:41:05.442Z"
   },
   {
    "duration": 4,
    "start_time": "2022-08-10T08:41:06.415Z"
   },
   {
    "duration": 14,
    "start_time": "2022-08-10T08:41:07.091Z"
   },
   {
    "duration": 15,
    "start_time": "2022-08-10T08:42:09.973Z"
   },
   {
    "duration": 3,
    "start_time": "2022-08-10T08:42:10.487Z"
   },
   {
    "duration": 1329,
    "start_time": "2022-08-10T08:42:10.998Z"
   },
   {
    "duration": 4,
    "start_time": "2022-08-10T09:04:49.105Z"
   },
   {
    "duration": 1674,
    "start_time": "2022-08-10T19:25:40.878Z"
   },
   {
    "duration": 42,
    "start_time": "2022-08-10T19:25:42.554Z"
   },
   {
    "duration": 13,
    "start_time": "2022-08-10T19:25:42.598Z"
   },
   {
    "duration": 19,
    "start_time": "2022-08-10T19:25:42.613Z"
   },
   {
    "duration": 22,
    "start_time": "2022-08-10T19:25:42.634Z"
   },
   {
    "duration": 28,
    "start_time": "2022-08-10T19:25:42.658Z"
   },
   {
    "duration": 31,
    "start_time": "2022-08-10T19:25:42.689Z"
   },
   {
    "duration": 18,
    "start_time": "2022-08-10T19:25:42.722Z"
   },
   {
    "duration": 5,
    "start_time": "2022-08-10T19:25:42.742Z"
   },
   {
    "duration": 16,
    "start_time": "2022-08-10T19:25:42.749Z"
   },
   {
    "duration": 15,
    "start_time": "2022-08-10T19:25:42.767Z"
   },
   {
    "duration": 12,
    "start_time": "2022-08-10T19:25:42.784Z"
   },
   {
    "duration": 10,
    "start_time": "2022-08-10T19:25:42.797Z"
   },
   {
    "duration": 1915,
    "start_time": "2022-08-10T19:25:42.809Z"
   },
   {
    "duration": 35,
    "start_time": "2022-08-10T19:25:44.725Z"
   },
   {
    "duration": 12,
    "start_time": "2022-08-10T19:25:44.761Z"
   },
   {
    "duration": 825,
    "start_time": "2022-08-10T19:25:44.775Z"
   },
   {
    "duration": 15,
    "start_time": "2022-08-10T19:25:45.601Z"
   },
   {
    "duration": 300,
    "start_time": "2022-08-10T19:25:45.617Z"
   },
   {
    "duration": 4,
    "start_time": "2022-08-10T19:25:45.919Z"
   },
   {
    "duration": 7,
    "start_time": "2022-08-10T19:25:45.924Z"
   },
   {
    "duration": 250,
    "start_time": "2022-08-10T19:25:45.932Z"
   },
   {
    "duration": 10,
    "start_time": "2022-08-10T19:25:46.183Z"
   },
   {
    "duration": 16,
    "start_time": "2022-08-10T19:25:46.195Z"
   },
   {
    "duration": 26,
    "start_time": "2022-08-10T19:25:46.212Z"
   },
   {
    "duration": 7,
    "start_time": "2022-08-10T19:25:46.240Z"
   },
   {
    "duration": 1543,
    "start_time": "2022-08-10T19:25:46.249Z"
   },
   {
    "duration": 3,
    "start_time": "2022-08-11T09:34:47.016Z"
   },
   {
    "duration": 1611,
    "start_time": "2022-08-11T09:34:58.231Z"
   },
   {
    "duration": 88,
    "start_time": "2022-08-11T09:34:59.844Z"
   },
   {
    "duration": 13,
    "start_time": "2022-08-11T09:35:00.381Z"
   },
   {
    "duration": 17,
    "start_time": "2022-08-11T09:35:01.126Z"
   },
   {
    "duration": 3,
    "start_time": "2022-08-11T09:35:03.783Z"
   },
   {
    "duration": 12,
    "start_time": "2022-08-11T09:35:04.217Z"
   },
   {
    "duration": 7,
    "start_time": "2022-08-11T09:35:04.540Z"
   },
   {
    "duration": 7,
    "start_time": "2022-08-11T09:35:05.739Z"
   },
   {
    "duration": 5,
    "start_time": "2022-08-11T09:35:06.122Z"
   },
   {
    "duration": 6,
    "start_time": "2022-08-11T09:35:06.570Z"
   },
   {
    "duration": 6,
    "start_time": "2022-08-11T09:35:07.053Z"
   },
   {
    "duration": 5,
    "start_time": "2022-08-11T09:35:07.510Z"
   },
   {
    "duration": 2,
    "start_time": "2022-08-11T09:35:08.442Z"
   },
   {
    "duration": 1992,
    "start_time": "2022-08-11T09:35:13.414Z"
   },
   {
    "duration": 38,
    "start_time": "2022-08-11T09:45:32.286Z"
   },
   {
    "duration": 41,
    "start_time": "2022-08-11T10:07:06.209Z"
   },
   {
    "duration": 18,
    "start_time": "2022-08-11T10:07:17.233Z"
   },
   {
    "duration": 14,
    "start_time": "2022-08-11T10:12:26.426Z"
   },
   {
    "duration": 9,
    "start_time": "2022-08-11T10:16:25.572Z"
   },
   {
    "duration": 14,
    "start_time": "2022-08-11T10:17:18.643Z"
   },
   {
    "duration": 6,
    "start_time": "2022-08-11T10:23:21.115Z"
   },
   {
    "duration": 14,
    "start_time": "2022-08-11T10:23:21.842Z"
   },
   {
    "duration": 1231,
    "start_time": "2022-08-11T10:24:05.111Z"
   },
   {
    "duration": 16,
    "start_time": "2022-08-11T10:30:34.330Z"
   },
   {
    "duration": 16,
    "start_time": "2022-08-11T10:30:41.707Z"
   },
   {
    "duration": 13,
    "start_time": "2022-08-11T10:30:46.662Z"
   },
   {
    "duration": 16,
    "start_time": "2022-08-11T10:30:55.960Z"
   },
   {
    "duration": 15,
    "start_time": "2022-08-11T10:31:09.208Z"
   },
   {
    "duration": 5,
    "start_time": "2022-08-11T10:32:55.062Z"
   },
   {
    "duration": 16,
    "start_time": "2022-08-11T10:32:55.695Z"
   },
   {
    "duration": 5,
    "start_time": "2022-08-11T10:33:07.778Z"
   },
   {
    "duration": 14,
    "start_time": "2022-08-11T10:33:08.578Z"
   },
   {
    "duration": 1067,
    "start_time": "2022-08-11T10:55:54.656Z"
   },
   {
    "duration": 5,
    "start_time": "2022-08-11T11:03:56.741Z"
   },
   {
    "duration": 43,
    "start_time": "2022-08-11T11:03:57.041Z"
   },
   {
    "duration": 15,
    "start_time": "2022-08-11T11:03:57.306Z"
   },
   {
    "duration": 11,
    "start_time": "2022-08-11T11:03:57.590Z"
   },
   {
    "duration": 3,
    "start_time": "2022-08-11T11:03:58.952Z"
   },
   {
    "duration": 10,
    "start_time": "2022-08-11T11:03:59.156Z"
   },
   {
    "duration": 7,
    "start_time": "2022-08-11T11:03:59.360Z"
   },
   {
    "duration": 5,
    "start_time": "2022-08-11T11:03:59.750Z"
   },
   {
    "duration": 6,
    "start_time": "2022-08-11T11:04:00.174Z"
   },
   {
    "duration": 5,
    "start_time": "2022-08-11T11:04:00.399Z"
   },
   {
    "duration": 5,
    "start_time": "2022-08-11T11:04:00.639Z"
   },
   {
    "duration": 6,
    "start_time": "2022-08-11T11:04:01.094Z"
   },
   {
    "duration": 2,
    "start_time": "2022-08-11T11:04:01.729Z"
   },
   {
    "duration": 1983,
    "start_time": "2022-08-11T11:04:03.887Z"
   },
   {
    "duration": 38,
    "start_time": "2022-08-11T11:04:09.439Z"
   },
   {
    "duration": 9,
    "start_time": "2022-08-11T11:04:11.387Z"
   },
   {
    "duration": 14,
    "start_time": "2022-08-11T11:04:11.851Z"
   },
   {
    "duration": 1015,
    "start_time": "2022-08-11T11:04:14.124Z"
   },
   {
    "duration": 7,
    "start_time": "2022-08-11T11:04:21.810Z"
   },
   {
    "duration": 215,
    "start_time": "2022-08-11T11:04:22.395Z"
   },
   {
    "duration": 5,
    "start_time": "2022-08-11T11:04:24.018Z"
   },
   {
    "duration": 4,
    "start_time": "2022-08-11T11:04:25.589Z"
   },
   {
    "duration": 273,
    "start_time": "2022-08-11T11:04:27.858Z"
   },
   {
    "duration": 10,
    "start_time": "2022-08-11T11:05:01.503Z"
   },
   {
    "duration": 4,
    "start_time": "2022-08-11T11:05:07.067Z"
   },
   {
    "duration": 17,
    "start_time": "2022-08-11T11:05:07.431Z"
   },
   {
    "duration": 4,
    "start_time": "2022-08-11T11:05:08.080Z"
   },
   {
    "duration": 122,
    "start_time": "2022-08-11T11:05:09.848Z"
   },
   {
    "duration": 5,
    "start_time": "2022-08-11T11:14:12.946Z"
   },
   {
    "duration": 16,
    "start_time": "2022-08-11T11:14:17.124Z"
   },
   {
    "duration": 4,
    "start_time": "2022-08-11T11:14:18.078Z"
   },
   {
    "duration": 1591,
    "start_time": "2022-08-11T11:14:18.780Z"
   },
   {
    "duration": 48,
    "start_time": "2022-08-11T19:34:47.029Z"
   },
   {
    "duration": 1756,
    "start_time": "2022-08-11T19:34:55.507Z"
   },
   {
    "duration": 81,
    "start_time": "2022-08-11T19:34:57.265Z"
   },
   {
    "duration": 12,
    "start_time": "2022-08-11T19:34:57.348Z"
   },
   {
    "duration": 16,
    "start_time": "2022-08-11T19:34:57.362Z"
   },
   {
    "duration": 3,
    "start_time": "2022-08-11T19:34:57.725Z"
   },
   {
    "duration": 10,
    "start_time": "2022-08-11T19:34:57.907Z"
   },
   {
    "duration": 7,
    "start_time": "2022-08-11T19:34:58.125Z"
   },
   {
    "duration": 11,
    "start_time": "2022-08-11T19:34:58.483Z"
   },
   {
    "duration": 8,
    "start_time": "2022-08-11T19:34:58.685Z"
   },
   {
    "duration": 5,
    "start_time": "2022-08-11T19:34:58.932Z"
   },
   {
    "duration": 5,
    "start_time": "2022-08-11T19:34:59.142Z"
   },
   {
    "duration": 6,
    "start_time": "2022-08-11T19:34:59.339Z"
   },
   {
    "duration": 3,
    "start_time": "2022-08-11T19:34:59.683Z"
   },
   {
    "duration": 2339,
    "start_time": "2022-08-11T19:35:00.638Z"
   },
   {
    "duration": 53,
    "start_time": "2022-08-11T19:35:02.979Z"
   },
   {
    "duration": 6,
    "start_time": "2022-08-11T19:35:03.033Z"
   },
   {
    "duration": 8,
    "start_time": "2022-08-11T19:35:03.040Z"
   },
   {
    "duration": 38,
    "start_time": "2022-08-11T19:35:03.050Z"
   },
   {
    "duration": 1161,
    "start_time": "2022-08-11T19:35:03.501Z"
   },
   {
    "duration": 115,
    "start_time": "2022-08-11T19:35:05.194Z"
   },
   {
    "duration": 268,
    "start_time": "2022-08-11T19:35:05.380Z"
   },
   {
    "duration": 5,
    "start_time": "2022-08-11T19:35:05.650Z"
   },
   {
    "duration": 6,
    "start_time": "2022-08-11T19:35:06.556Z"
   },
   {
    "duration": 325,
    "start_time": "2022-08-11T19:35:07.202Z"
   },
   {
    "duration": 12,
    "start_time": "2022-08-11T19:35:08.100Z"
   },
   {
    "duration": 6,
    "start_time": "2022-08-11T19:35:09.475Z"
   },
   {
    "duration": 17,
    "start_time": "2022-08-11T19:35:09.707Z"
   },
   {
    "duration": 4,
    "start_time": "2022-08-11T19:35:09.999Z"
   },
   {
    "duration": 1617,
    "start_time": "2022-08-11T19:35:10.237Z"
   },
   {
    "duration": 8,
    "start_time": "2022-08-11T19:36:55.519Z"
   },
   {
    "duration": 15,
    "start_time": "2022-08-11T19:36:56.461Z"
   },
   {
    "duration": 4,
    "start_time": "2022-08-11T19:40:53.044Z"
   },
   {
    "duration": 8,
    "start_time": "2022-08-11T19:40:53.531Z"
   },
   {
    "duration": 14,
    "start_time": "2022-08-11T19:40:54.322Z"
   },
   {
    "duration": 89,
    "start_time": "2022-08-11T19:41:46.468Z"
   },
   {
    "duration": 17,
    "start_time": "2022-08-11T19:41:56.149Z"
   },
   {
    "duration": 17,
    "start_time": "2022-08-11T19:42:05.763Z"
   },
   {
    "duration": 15,
    "start_time": "2022-08-11T19:42:40.533Z"
   },
   {
    "duration": 16,
    "start_time": "2022-08-11T19:42:56.131Z"
   },
   {
    "duration": 14,
    "start_time": "2022-08-11T19:42:56.777Z"
   },
   {
    "duration": 23,
    "start_time": "2022-08-11T19:43:15.252Z"
   },
   {
    "duration": 1504,
    "start_time": "2022-08-11T19:51:02.639Z"
   },
   {
    "duration": 7,
    "start_time": "2022-08-11T19:53:49.289Z"
   },
   {
    "duration": 36,
    "start_time": "2022-08-11T19:53:49.534Z"
   },
   {
    "duration": 10,
    "start_time": "2022-08-11T19:53:49.830Z"
   },
   {
    "duration": 12,
    "start_time": "2022-08-11T19:53:50.419Z"
   },
   {
    "duration": 7,
    "start_time": "2022-08-11T19:53:52.386Z"
   },
   {
    "duration": 13,
    "start_time": "2022-08-11T19:53:52.836Z"
   },
   {
    "duration": 8,
    "start_time": "2022-08-11T19:53:53.311Z"
   },
   {
    "duration": 6,
    "start_time": "2022-08-11T19:53:54.239Z"
   },
   {
    "duration": 12,
    "start_time": "2022-08-11T19:53:54.687Z"
   },
   {
    "duration": 6,
    "start_time": "2022-08-11T19:53:54.961Z"
   },
   {
    "duration": 5,
    "start_time": "2022-08-11T19:53:55.211Z"
   },
   {
    "duration": 5,
    "start_time": "2022-08-11T19:53:55.464Z"
   },
   {
    "duration": 2,
    "start_time": "2022-08-11T19:53:56.002Z"
   },
   {
    "duration": 2091,
    "start_time": "2022-08-11T19:53:57.326Z"
   },
   {
    "duration": 46,
    "start_time": "2022-08-11T19:53:59.419Z"
   },
   {
    "duration": 6,
    "start_time": "2022-08-11T19:54:00.066Z"
   },
   {
    "duration": 23,
    "start_time": "2022-08-11T19:54:00.387Z"
   },
   {
    "duration": 21,
    "start_time": "2022-08-11T19:54:00.681Z"
   },
   {
    "duration": 1465,
    "start_time": "2022-08-11T19:54:02.999Z"
   },
   {
    "duration": 8,
    "start_time": "2022-08-11T19:54:05.258Z"
   },
   {
    "duration": 253,
    "start_time": "2022-08-11T19:54:05.569Z"
   },
   {
    "duration": 8,
    "start_time": "2022-08-11T19:54:05.999Z"
   },
   {
    "duration": 5,
    "start_time": "2022-08-11T19:54:06.909Z"
   },
   {
    "duration": 378,
    "start_time": "2022-08-11T19:54:08.344Z"
   },
   {
    "duration": 10,
    "start_time": "2022-08-11T19:54:12.999Z"
   },
   {
    "duration": 4,
    "start_time": "2022-08-11T19:54:15.835Z"
   },
   {
    "duration": 20,
    "start_time": "2022-08-11T19:54:16.302Z"
   },
   {
    "duration": 3,
    "start_time": "2022-08-11T19:54:16.836Z"
   },
   {
    "duration": 1329,
    "start_time": "2022-08-11T19:54:17.649Z"
   },
   {
    "duration": 1613,
    "start_time": "2022-09-21T13:26:01.440Z"
   },
   {
    "duration": 79,
    "start_time": "2022-09-21T13:26:03.055Z"
   },
   {
    "duration": 12,
    "start_time": "2022-09-21T13:26:03.135Z"
   },
   {
    "duration": 15,
    "start_time": "2022-09-21T13:26:03.148Z"
   },
   {
    "duration": 5,
    "start_time": "2022-09-21T13:26:04.080Z"
   },
   {
    "duration": 8,
    "start_time": "2022-09-21T13:26:04.375Z"
   },
   {
    "duration": 7,
    "start_time": "2022-09-21T13:26:04.645Z"
   },
   {
    "duration": 6,
    "start_time": "2022-09-21T13:26:05.349Z"
   },
   {
    "duration": 5,
    "start_time": "2022-09-21T13:26:05.717Z"
   },
   {
    "duration": 5,
    "start_time": "2022-09-21T13:26:05.963Z"
   },
   {
    "duration": 6,
    "start_time": "2022-09-21T13:26:06.213Z"
   },
   {
    "duration": 6,
    "start_time": "2022-09-21T13:26:06.429Z"
   },
   {
    "duration": 2,
    "start_time": "2022-09-21T13:26:06.925Z"
   },
   {
    "duration": 1968,
    "start_time": "2022-09-21T13:26:08.628Z"
   },
   {
    "duration": 37,
    "start_time": "2022-09-21T13:26:10.933Z"
   },
   {
    "duration": 7,
    "start_time": "2022-09-21T13:26:12.008Z"
   },
   {
    "duration": 25,
    "start_time": "2022-09-21T13:26:12.274Z"
   },
   {
    "duration": 17,
    "start_time": "2022-09-21T13:26:12.693Z"
   },
   {
    "duration": 1560,
    "start_time": "2022-09-21T13:26:14.004Z"
   },
   {
    "duration": 10,
    "start_time": "2022-09-21T13:26:19.181Z"
   },
   {
    "duration": 219,
    "start_time": "2022-09-21T13:26:19.578Z"
   },
   {
    "duration": 4,
    "start_time": "2022-09-21T13:26:20.066Z"
   },
   {
    "duration": 5,
    "start_time": "2022-09-21T13:26:21.267Z"
   },
   {
    "duration": 261,
    "start_time": "2022-09-21T13:26:22.236Z"
   },
   {
    "duration": 9,
    "start_time": "2022-09-21T13:26:23.748Z"
   },
   {
    "duration": 5,
    "start_time": "2022-09-21T13:26:25.412Z"
   },
   {
    "duration": 15,
    "start_time": "2022-09-21T13:26:25.797Z"
   },
   {
    "duration": 5,
    "start_time": "2022-09-21T13:26:26.101Z"
   },
   {
    "duration": 1508,
    "start_time": "2022-09-21T13:26:26.381Z"
   }
  ],
  "kernelspec": {
   "display_name": "Python 3 (ipykernel)",
   "language": "python",
   "name": "python3"
  },
  "language_info": {
   "codemirror_mode": {
    "name": "ipython",
    "version": 3
   },
   "file_extension": ".py",
   "mimetype": "text/x-python",
   "name": "python",
   "nbconvert_exporter": "python",
   "pygments_lexer": "ipython3",
   "version": "3.9.5"
  },
  "toc": {
   "base_numbering": 1,
   "nav_menu": {},
   "number_sections": true,
   "sideBar": true,
   "skip_h1_title": true,
   "title_cell": "Table of Contents",
   "title_sidebar": "Contents",
   "toc_cell": false,
   "toc_position": {},
   "toc_section_display": true,
   "toc_window_display": false
  }
 },
 "nbformat": 4,
 "nbformat_minor": 2
}
