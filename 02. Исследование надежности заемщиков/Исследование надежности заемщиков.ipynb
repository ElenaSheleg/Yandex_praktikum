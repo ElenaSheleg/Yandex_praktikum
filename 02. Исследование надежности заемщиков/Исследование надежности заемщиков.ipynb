{
 "cells": [
  {
   "cell_type": "markdown",
   "id": "cc696d2c",
   "metadata": {},
   "source": [
    "# Исследование надежности заемщиков"
   ]
  },
  {
   "cell_type": "markdown",
   "id": "4c281675",
   "metadata": {},
   "source": [
    "## Шаг. Обзор данных"
   ]
  },
  {
   "cell_type": "code",
   "execution_count": 1,
   "id": "aec8b94d",
   "metadata": {},
   "outputs": [
    {
     "name": "stdout",
     "output_type": "stream",
     "text": [
      "<class 'pandas.core.frame.DataFrame'>\n",
      "RangeIndex: 21525 entries, 0 to 21524\n",
      "Data columns (total 12 columns):\n",
      " #   Column            Non-Null Count  Dtype  \n",
      "---  ------            --------------  -----  \n",
      " 0   children          21525 non-null  int64  \n",
      " 1   days_employed     19351 non-null  float64\n",
      " 2   dob_years         21525 non-null  int64  \n",
      " 3   education         21525 non-null  object \n",
      " 4   education_id      21525 non-null  int64  \n",
      " 5   family_status     21525 non-null  object \n",
      " 6   family_status_id  21525 non-null  int64  \n",
      " 7   gender            21525 non-null  object \n",
      " 8   income_type       21525 non-null  object \n",
      " 9   debt              21525 non-null  int64  \n",
      " 10  total_income      19351 non-null  float64\n",
      " 11  purpose           21525 non-null  object \n",
      "dtypes: float64(2), int64(5), object(5)\n",
      "memory usage: 2.0+ MB\n"
     ]
    },
    {
     "data": {
      "text/html": [
       "<div>\n",
       "<style scoped>\n",
       "    .dataframe tbody tr th:only-of-type {\n",
       "        vertical-align: middle;\n",
       "    }\n",
       "\n",
       "    .dataframe tbody tr th {\n",
       "        vertical-align: top;\n",
       "    }\n",
       "\n",
       "    .dataframe thead th {\n",
       "        text-align: right;\n",
       "    }\n",
       "</style>\n",
       "<table border=\"1\" class=\"dataframe\">\n",
       "  <thead>\n",
       "    <tr style=\"text-align: right;\">\n",
       "      <th></th>\n",
       "      <th>children</th>\n",
       "      <th>days_employed</th>\n",
       "      <th>full_years</th>\n",
       "      <th>education</th>\n",
       "      <th>education_id</th>\n",
       "      <th>family_status</th>\n",
       "      <th>family_status_id</th>\n",
       "      <th>gender</th>\n",
       "      <th>income_type</th>\n",
       "      <th>debt</th>\n",
       "      <th>total_income</th>\n",
       "      <th>purpose</th>\n",
       "    </tr>\n",
       "  </thead>\n",
       "  <tbody>\n",
       "    <tr>\n",
       "      <th>0</th>\n",
       "      <td>1</td>\n",
       "      <td>-8437.673028</td>\n",
       "      <td>42</td>\n",
       "      <td>высшее</td>\n",
       "      <td>0</td>\n",
       "      <td>женат / замужем</td>\n",
       "      <td>0</td>\n",
       "      <td>F</td>\n",
       "      <td>сотрудник</td>\n",
       "      <td>0</td>\n",
       "      <td>253875.639453</td>\n",
       "      <td>покупка жилья</td>\n",
       "    </tr>\n",
       "    <tr>\n",
       "      <th>1</th>\n",
       "      <td>1</td>\n",
       "      <td>-4024.803754</td>\n",
       "      <td>36</td>\n",
       "      <td>среднее</td>\n",
       "      <td>1</td>\n",
       "      <td>женат / замужем</td>\n",
       "      <td>0</td>\n",
       "      <td>F</td>\n",
       "      <td>сотрудник</td>\n",
       "      <td>0</td>\n",
       "      <td>112080.014102</td>\n",
       "      <td>приобретение автомобиля</td>\n",
       "    </tr>\n",
       "    <tr>\n",
       "      <th>2</th>\n",
       "      <td>0</td>\n",
       "      <td>-5623.422610</td>\n",
       "      <td>33</td>\n",
       "      <td>среднее</td>\n",
       "      <td>1</td>\n",
       "      <td>женат / замужем</td>\n",
       "      <td>0</td>\n",
       "      <td>M</td>\n",
       "      <td>сотрудник</td>\n",
       "      <td>0</td>\n",
       "      <td>145885.952297</td>\n",
       "      <td>покупка жилья</td>\n",
       "    </tr>\n",
       "    <tr>\n",
       "      <th>3</th>\n",
       "      <td>3</td>\n",
       "      <td>-4124.747207</td>\n",
       "      <td>32</td>\n",
       "      <td>среднее</td>\n",
       "      <td>1</td>\n",
       "      <td>женат / замужем</td>\n",
       "      <td>0</td>\n",
       "      <td>M</td>\n",
       "      <td>сотрудник</td>\n",
       "      <td>0</td>\n",
       "      <td>267628.550329</td>\n",
       "      <td>дополнительное образование</td>\n",
       "    </tr>\n",
       "    <tr>\n",
       "      <th>4</th>\n",
       "      <td>0</td>\n",
       "      <td>340266.072047</td>\n",
       "      <td>53</td>\n",
       "      <td>среднее</td>\n",
       "      <td>1</td>\n",
       "      <td>гражданский брак</td>\n",
       "      <td>1</td>\n",
       "      <td>F</td>\n",
       "      <td>пенсионер</td>\n",
       "      <td>0</td>\n",
       "      <td>158616.077870</td>\n",
       "      <td>сыграть свадьбу</td>\n",
       "    </tr>\n",
       "    <tr>\n",
       "      <th>5</th>\n",
       "      <td>0</td>\n",
       "      <td>-926.185831</td>\n",
       "      <td>27</td>\n",
       "      <td>высшее</td>\n",
       "      <td>0</td>\n",
       "      <td>гражданский брак</td>\n",
       "      <td>1</td>\n",
       "      <td>M</td>\n",
       "      <td>компаньон</td>\n",
       "      <td>0</td>\n",
       "      <td>255763.565419</td>\n",
       "      <td>покупка жилья</td>\n",
       "    </tr>\n",
       "    <tr>\n",
       "      <th>6</th>\n",
       "      <td>0</td>\n",
       "      <td>-2879.202052</td>\n",
       "      <td>43</td>\n",
       "      <td>высшее</td>\n",
       "      <td>0</td>\n",
       "      <td>женат / замужем</td>\n",
       "      <td>0</td>\n",
       "      <td>F</td>\n",
       "      <td>компаньон</td>\n",
       "      <td>0</td>\n",
       "      <td>240525.971920</td>\n",
       "      <td>операции с жильем</td>\n",
       "    </tr>\n",
       "    <tr>\n",
       "      <th>7</th>\n",
       "      <td>0</td>\n",
       "      <td>-152.779569</td>\n",
       "      <td>50</td>\n",
       "      <td>среднее</td>\n",
       "      <td>1</td>\n",
       "      <td>женат / замужем</td>\n",
       "      <td>0</td>\n",
       "      <td>M</td>\n",
       "      <td>сотрудник</td>\n",
       "      <td>0</td>\n",
       "      <td>135823.934197</td>\n",
       "      <td>образование</td>\n",
       "    </tr>\n",
       "    <tr>\n",
       "      <th>8</th>\n",
       "      <td>2</td>\n",
       "      <td>-6929.865299</td>\n",
       "      <td>35</td>\n",
       "      <td>высшее</td>\n",
       "      <td>0</td>\n",
       "      <td>гражданский брак</td>\n",
       "      <td>1</td>\n",
       "      <td>F</td>\n",
       "      <td>сотрудник</td>\n",
       "      <td>0</td>\n",
       "      <td>95856.832424</td>\n",
       "      <td>на проведение свадьбы</td>\n",
       "    </tr>\n",
       "    <tr>\n",
       "      <th>9</th>\n",
       "      <td>0</td>\n",
       "      <td>-2188.756445</td>\n",
       "      <td>41</td>\n",
       "      <td>среднее</td>\n",
       "      <td>1</td>\n",
       "      <td>женат / замужем</td>\n",
       "      <td>0</td>\n",
       "      <td>M</td>\n",
       "      <td>сотрудник</td>\n",
       "      <td>0</td>\n",
       "      <td>144425.938277</td>\n",
       "      <td>покупка жилья для семьи</td>\n",
       "    </tr>\n",
       "  </tbody>\n",
       "</table>\n",
       "</div>"
      ],
      "text/plain": [
       "   children  days_employed  full_years education  education_id  \\\n",
       "0         1   -8437.673028          42    высшее             0   \n",
       "1         1   -4024.803754          36   среднее             1   \n",
       "2         0   -5623.422610          33   среднее             1   \n",
       "3         3   -4124.747207          32   среднее             1   \n",
       "4         0  340266.072047          53   среднее             1   \n",
       "5         0    -926.185831          27    высшее             0   \n",
       "6         0   -2879.202052          43    высшее             0   \n",
       "7         0    -152.779569          50   среднее             1   \n",
       "8         2   -6929.865299          35    высшее             0   \n",
       "9         0   -2188.756445          41   среднее             1   \n",
       "\n",
       "      family_status  family_status_id gender income_type  debt   total_income  \\\n",
       "0   женат / замужем                 0      F   сотрудник     0  253875.639453   \n",
       "1   женат / замужем                 0      F   сотрудник     0  112080.014102   \n",
       "2   женат / замужем                 0      M   сотрудник     0  145885.952297   \n",
       "3   женат / замужем                 0      M   сотрудник     0  267628.550329   \n",
       "4  гражданский брак                 1      F   пенсионер     0  158616.077870   \n",
       "5  гражданский брак                 1      M   компаньон     0  255763.565419   \n",
       "6   женат / замужем                 0      F   компаньон     0  240525.971920   \n",
       "7   женат / замужем                 0      M   сотрудник     0  135823.934197   \n",
       "8  гражданский брак                 1      F   сотрудник     0   95856.832424   \n",
       "9   женат / замужем                 0      M   сотрудник     0  144425.938277   \n",
       "\n",
       "                      purpose  \n",
       "0               покупка жилья  \n",
       "1     приобретение автомобиля  \n",
       "2               покупка жилья  \n",
       "3  дополнительное образование  \n",
       "4             сыграть свадьбу  \n",
       "5               покупка жилья  \n",
       "6           операции с жильем  \n",
       "7                 образование  \n",
       "8       на проведение свадьбы  \n",
       "9     покупка жилья для семьи  "
      ]
     },
     "execution_count": 1,
     "metadata": {},
     "output_type": "execute_result"
    }
   ],
   "source": [
    "import pandas as pd\n",
    "df = pd.read_csv('/datasets/data.csv')\n",
    "# ознакомимся с данными \n",
    "df.info()\n",
    "df.head(10)\n",
    "#переименуем столбец \"dob_years\" в \"full_years\" для удобной работы с ним\n",
    "df.rename(columns={'dob_years':'full_years'}, inplace=True)\n",
    "df.head(10)\n",
    "#приведем столбец 'education' к одному регистру \n",
    "df['education'] = df['education'].str.lower()\n",
    "df.head(10)"
   ]
  },
  {
   "cell_type": "markdown",
   "id": "820de37c",
   "metadata": {},
   "source": [
    "Вывод:\n",
    "При изучении общей информации о данных обнаружены следующие проблемы: \n",
    "Во-первых, дни ('days_employed') не могут быть вещественным числом и не могут быть отрицательным числом. \n",
    "Во-второх, имеет смысл переименовать столбец 'dob_years' в 'full_years'.\n",
    "В-третьих, столбец 'education' имеет разный регистр букв, необходимо привести к одному виду перед анализом.\n",
    "Доход 'total_income' необходимо перевести в int."
   ]
  },
  {
   "cell_type": "markdown",
   "id": "c9fd2495",
   "metadata": {},
   "source": [
    "## Шаг.  Заполнение пропусков"
   ]
  },
  {
   "cell_type": "markdown",
   "id": "ede7b52c",
   "metadata": {},
   "source": [
    "### Шаг. Проверка данных на аномалии и исправления"
   ]
  },
  {
   "cell_type": "code",
   "execution_count": 2,
   "id": "811bd62e",
   "metadata": {},
   "outputs": [
    {
     "name": "stdout",
     "output_type": "stream",
     "text": [
      "Доля пропущенных значений 10.10%\n",
      "Доля пропущенных значений 10.10%\n"
     ]
    }
   ],
   "source": [
    "# сколько пустых значений\n",
    "df.isnull().sum()\n",
    "# посмотрим пустые значения(Обнаружены пустые значения NaN - замещает отсутствующее в ячейке число типа float.)\n",
    "df[df['total_income'].isnull()].tail()\n",
    "# проверяем какую долю составляют пропущенные значения в каждом из столбцов с пропусками.\n",
    "pass_days_employed = len(df[df['days_employed'].isna()]) #сколько раз пропущен трудовой стаж\n",
    "quantity_days_employed = len(df['days_employed'])\n",
    "pass_total_income = len(df[df['total_income'].isna()]) #сколько раз пропущен ежемесячный доход\n",
    "quantity_total_income = len(df['total_income'])\n",
    "print(f'Доля пропущенных значений {pass_days_employed / quantity_days_employed:.2%}') \n",
    "print(f'Доля пропущенных значений {pass_total_income / quantity_total_income:.2%}') \n",
    "days_employed_mean = df['days_employed'].mean() #найдем ср. знач стажа \n",
    "total_income_median = df['total_income'].median() #найдем медиану дохода \n",
    "#заменим отрицательные числа на положительные в стаже\n",
    "def negative_to_pozitive(value):\n",
    "    if value < 0:\n",
    "        value *= -1\n",
    "        return value\n",
    "    else:\n",
    "        return value\n",
    "df['days_employed'] = df['days_employed'].apply(negative_to_pozitive)\n",
    "df['days_employed'] = df['days_employed'].fillna(days_employed_mean)\n",
    "df['total_income'] = df['total_income'].fillna(total_income_median)"
   ]
  },
  {
   "cell_type": "markdown",
   "id": "88f91fef",
   "metadata": {},
   "source": [
    "Вывод: При проверки данных обнаружены пустые значения NaN в столбцах 'days_employed' и 'total_income' (замещает отсутствующее в ячейке число типа float).\n",
    "Доля пропущенных значений в каждом столбце составляет 10.10%. \n",
    "Возможная причина возникновения пропусков связаны с тем, что у людей нет подтвержденного дохода и стажа (неофицальная работа и тд).\n",
    "Для несуществующих значений в столбце 'total_income' используем метод median() для получения более объективных данных т.к. некоторые значения сильно выделяются среди большинства.\n",
    "В столбце 'days_employed' отрицательные числа сделали положительными, пропуски в столбце 'days_employed' заменили на среднее значение. В столбце 'total_income' пропуски заменили на медианное значение. "
   ]
  },
  {
   "cell_type": "markdown",
   "id": "aec9b979",
   "metadata": {},
   "source": [
    "### Шаг. Изменение типов данных"
   ]
  },
  {
   "cell_type": "code",
   "execution_count": 3,
   "id": "5a408728",
   "metadata": {},
   "outputs": [
    {
     "data": {
      "text/html": [
       "<div>\n",
       "<style scoped>\n",
       "    .dataframe tbody tr th:only-of-type {\n",
       "        vertical-align: middle;\n",
       "    }\n",
       "\n",
       "    .dataframe tbody tr th {\n",
       "        vertical-align: top;\n",
       "    }\n",
       "\n",
       "    .dataframe thead th {\n",
       "        text-align: right;\n",
       "    }\n",
       "</style>\n",
       "<table border=\"1\" class=\"dataframe\">\n",
       "  <thead>\n",
       "    <tr style=\"text-align: right;\">\n",
       "      <th></th>\n",
       "      <th>children</th>\n",
       "      <th>days_employed</th>\n",
       "      <th>full_years</th>\n",
       "      <th>education</th>\n",
       "      <th>education_id</th>\n",
       "      <th>family_status</th>\n",
       "      <th>family_status_id</th>\n",
       "      <th>gender</th>\n",
       "      <th>income_type</th>\n",
       "      <th>debt</th>\n",
       "      <th>total_income</th>\n",
       "      <th>purpose</th>\n",
       "    </tr>\n",
       "  </thead>\n",
       "  <tbody>\n",
       "    <tr>\n",
       "      <th>0</th>\n",
       "      <td>1</td>\n",
       "      <td>8437</td>\n",
       "      <td>42</td>\n",
       "      <td>высшее</td>\n",
       "      <td>0</td>\n",
       "      <td>женат / замужем</td>\n",
       "      <td>0</td>\n",
       "      <td>F</td>\n",
       "      <td>сотрудник</td>\n",
       "      <td>0</td>\n",
       "      <td>253875</td>\n",
       "      <td>покупка жилья</td>\n",
       "    </tr>\n",
       "    <tr>\n",
       "      <th>1</th>\n",
       "      <td>1</td>\n",
       "      <td>4024</td>\n",
       "      <td>36</td>\n",
       "      <td>среднее</td>\n",
       "      <td>1</td>\n",
       "      <td>женат / замужем</td>\n",
       "      <td>0</td>\n",
       "      <td>F</td>\n",
       "      <td>сотрудник</td>\n",
       "      <td>0</td>\n",
       "      <td>112080</td>\n",
       "      <td>приобретение автомобиля</td>\n",
       "    </tr>\n",
       "    <tr>\n",
       "      <th>2</th>\n",
       "      <td>0</td>\n",
       "      <td>5623</td>\n",
       "      <td>33</td>\n",
       "      <td>среднее</td>\n",
       "      <td>1</td>\n",
       "      <td>женат / замужем</td>\n",
       "      <td>0</td>\n",
       "      <td>M</td>\n",
       "      <td>сотрудник</td>\n",
       "      <td>0</td>\n",
       "      <td>145885</td>\n",
       "      <td>покупка жилья</td>\n",
       "    </tr>\n",
       "    <tr>\n",
       "      <th>3</th>\n",
       "      <td>3</td>\n",
       "      <td>4124</td>\n",
       "      <td>32</td>\n",
       "      <td>среднее</td>\n",
       "      <td>1</td>\n",
       "      <td>женат / замужем</td>\n",
       "      <td>0</td>\n",
       "      <td>M</td>\n",
       "      <td>сотрудник</td>\n",
       "      <td>0</td>\n",
       "      <td>267628</td>\n",
       "      <td>дополнительное образование</td>\n",
       "    </tr>\n",
       "    <tr>\n",
       "      <th>4</th>\n",
       "      <td>0</td>\n",
       "      <td>340266</td>\n",
       "      <td>53</td>\n",
       "      <td>среднее</td>\n",
       "      <td>1</td>\n",
       "      <td>гражданский брак</td>\n",
       "      <td>1</td>\n",
       "      <td>F</td>\n",
       "      <td>пенсионер</td>\n",
       "      <td>0</td>\n",
       "      <td>158616</td>\n",
       "      <td>сыграть свадьбу</td>\n",
       "    </tr>\n",
       "    <tr>\n",
       "      <th>5</th>\n",
       "      <td>0</td>\n",
       "      <td>926</td>\n",
       "      <td>27</td>\n",
       "      <td>высшее</td>\n",
       "      <td>0</td>\n",
       "      <td>гражданский брак</td>\n",
       "      <td>1</td>\n",
       "      <td>M</td>\n",
       "      <td>компаньон</td>\n",
       "      <td>0</td>\n",
       "      <td>255763</td>\n",
       "      <td>покупка жилья</td>\n",
       "    </tr>\n",
       "    <tr>\n",
       "      <th>6</th>\n",
       "      <td>0</td>\n",
       "      <td>2879</td>\n",
       "      <td>43</td>\n",
       "      <td>высшее</td>\n",
       "      <td>0</td>\n",
       "      <td>женат / замужем</td>\n",
       "      <td>0</td>\n",
       "      <td>F</td>\n",
       "      <td>компаньон</td>\n",
       "      <td>0</td>\n",
       "      <td>240525</td>\n",
       "      <td>операции с жильем</td>\n",
       "    </tr>\n",
       "    <tr>\n",
       "      <th>7</th>\n",
       "      <td>0</td>\n",
       "      <td>152</td>\n",
       "      <td>50</td>\n",
       "      <td>среднее</td>\n",
       "      <td>1</td>\n",
       "      <td>женат / замужем</td>\n",
       "      <td>0</td>\n",
       "      <td>M</td>\n",
       "      <td>сотрудник</td>\n",
       "      <td>0</td>\n",
       "      <td>135823</td>\n",
       "      <td>образование</td>\n",
       "    </tr>\n",
       "    <tr>\n",
       "      <th>8</th>\n",
       "      <td>2</td>\n",
       "      <td>6929</td>\n",
       "      <td>35</td>\n",
       "      <td>высшее</td>\n",
       "      <td>0</td>\n",
       "      <td>гражданский брак</td>\n",
       "      <td>1</td>\n",
       "      <td>F</td>\n",
       "      <td>сотрудник</td>\n",
       "      <td>0</td>\n",
       "      <td>95856</td>\n",
       "      <td>на проведение свадьбы</td>\n",
       "    </tr>\n",
       "    <tr>\n",
       "      <th>9</th>\n",
       "      <td>0</td>\n",
       "      <td>2188</td>\n",
       "      <td>41</td>\n",
       "      <td>среднее</td>\n",
       "      <td>1</td>\n",
       "      <td>женат / замужем</td>\n",
       "      <td>0</td>\n",
       "      <td>M</td>\n",
       "      <td>сотрудник</td>\n",
       "      <td>0</td>\n",
       "      <td>144425</td>\n",
       "      <td>покупка жилья для семьи</td>\n",
       "    </tr>\n",
       "  </tbody>\n",
       "</table>\n",
       "</div>"
      ],
      "text/plain": [
       "   children  days_employed  full_years education  education_id  \\\n",
       "0         1           8437          42    высшее             0   \n",
       "1         1           4024          36   среднее             1   \n",
       "2         0           5623          33   среднее             1   \n",
       "3         3           4124          32   среднее             1   \n",
       "4         0         340266          53   среднее             1   \n",
       "5         0            926          27    высшее             0   \n",
       "6         0           2879          43    высшее             0   \n",
       "7         0            152          50   среднее             1   \n",
       "8         2           6929          35    высшее             0   \n",
       "9         0           2188          41   среднее             1   \n",
       "\n",
       "      family_status  family_status_id gender income_type  debt  total_income  \\\n",
       "0   женат / замужем                 0      F   сотрудник     0        253875   \n",
       "1   женат / замужем                 0      F   сотрудник     0        112080   \n",
       "2   женат / замужем                 0      M   сотрудник     0        145885   \n",
       "3   женат / замужем                 0      M   сотрудник     0        267628   \n",
       "4  гражданский брак                 1      F   пенсионер     0        158616   \n",
       "5  гражданский брак                 1      M   компаньон     0        255763   \n",
       "6   женат / замужем                 0      F   компаньон     0        240525   \n",
       "7   женат / замужем                 0      M   сотрудник     0        135823   \n",
       "8  гражданский брак                 1      F   сотрудник     0         95856   \n",
       "9   женат / замужем                 0      M   сотрудник     0        144425   \n",
       "\n",
       "                      purpose  \n",
       "0               покупка жилья  \n",
       "1     приобретение автомобиля  \n",
       "2               покупка жилья  \n",
       "3  дополнительное образование  \n",
       "4             сыграть свадьбу  \n",
       "5               покупка жилья  \n",
       "6           операции с жильем  \n",
       "7                 образование  \n",
       "8       на проведение свадьбы  \n",
       "9     покупка жилья для семьи  "
      ]
     },
     "execution_count": 3,
     "metadata": {},
     "output_type": "execute_result"
    }
   ],
   "source": [
    "df['days_employed'] = df['days_employed'].astype('int') # заменим тип float в столбце 'days_employed' на тип int\n",
    "df['total_income'] = df['total_income'].astype('int') # заменим тип float в столбце 'total_income' на тип int\n",
    "df.head(10)"
   ]
  },
  {
   "cell_type": "markdown",
   "id": "f071c50c",
   "metadata": {},
   "source": [
    "Вывод: Значения стажа работы и доход приводим к целому числу методом astype, поскольку нужен конкретный целочисленный тип, а не вещественный для дальнейшего анализа. Приведение к целому числу также позволит нам выделять одних и тех же людей, но с разными целями по кредитам."
   ]
  },
  {
   "cell_type": "code",
   "execution_count": 4,
   "id": "adf282f2",
   "metadata": {},
   "outputs": [
    {
     "data": {
      "text/plain": [
       "0"
      ]
     },
     "execution_count": 4,
     "metadata": {},
     "output_type": "execute_result"
    }
   ],
   "source": [
    "df.duplicated().sum() #поиск дубликатов \n",
    "df.drop_duplicates(subset=None, keep=\"first\", inplace=True) #удалим дубликаты\n",
    "df.duplicated().sum() #проверим наличие дубликатов после удаления "
   ]
  },
  {
   "cell_type": "markdown",
   "id": "f6ea7cac",
   "metadata": {},
   "source": [
    "Вывод:\n",
    "Для поиска дубликатов в таблице используем метода duplicated т.к. при использование метода value_counts() потребуется создавать отдельный Series, который в дальнейшем не пригодится.\n",
    "Дубликатов оказалось немного и их удалось быстро удалить. Возможно, было две-три одобренных заявки от одного человека либо просто человеческий фактор."
   ]
  },
  {
   "cell_type": "code",
   "execution_count": 5,
   "id": "9ecac60b",
   "metadata": {},
   "outputs": [
    {
     "data": {
      "text/plain": [
       "F      14174\n",
       "M       7279\n",
       "XNA        1\n",
       "Name: gender, dtype: int64"
      ]
     },
     "execution_count": 5,
     "metadata": {},
     "output_type": "execute_result"
    }
   ],
   "source": [
    "#проверка столбцов метод value_counts()\n",
    "df['children'].value_counts() \n",
    "df['full_years'].value_counts()\n",
    "df['purpose'].value_counts()\n",
    "df['gender'].value_counts()"
   ]
  },
  {
   "cell_type": "markdown",
   "id": "faf8c03c",
   "metadata": {},
   "source": [
    "Дополнительно изучив данные на уровне подсчета уникальных значений (value_counts()) для каждого столбца, был выявлен еще ряд ошибок:\n",
    "1) Столбец 'children' содержит значение 20 и -1, хотя отрицательного числа быть не может и 20 сильно выделяется на фоне остальной выборки;\n",
    "Причина: Значение 20 в количестве детей скорее всего опечатка, когда набирая 2, случайно задели ноль, а значение -1 могло отнести к ошибки выгрузки данных как в ситуации со стажем работы. \n",
    "2) Столбец 'full_years' содержит нулевой возраст;\n",
    "Причина: Нулевой возраст скорее всего он нам просто неизвестен. \n",
    "3) Столбец 'gender' содержит пол XNA;\n",
    "Причина: Поскольку пол XNA только один, а в наших данных большинство женщины - заменим значением по умолчанию - F\n",
    "4) Столбец 'purpose' содержит опечатку - ремонт жильЮ\n",
    "Причина: Ошибка в самой категории на сайте или системе, исправим на F т.к. их больше."
   ]
  },
  {
   "cell_type": "code",
   "execution_count": 6,
   "id": "05006c78",
   "metadata": {},
   "outputs": [
    {
     "data": {
      "text/plain": [
       "0"
      ]
     },
     "execution_count": 6,
     "metadata": {},
     "output_type": "execute_result"
    }
   ],
   "source": [
    "#исправим значение -1 для количества детей согласно нашей гипотезы (т.е. заменим на 1)\n",
    "df.loc[df['children'] == -1, 'children'] = 1\n",
    "# проверим\n",
    "df.loc[df['children'] == -1]['children'].count()\n"
   ]
  },
  {
   "cell_type": "code",
   "execution_count": 7,
   "id": "aff802ba",
   "metadata": {},
   "outputs": [
    {
     "data": {
      "text/plain": [
       "0"
      ]
     },
     "execution_count": 7,
     "metadata": {},
     "output_type": "execute_result"
    }
   ],
   "source": [
    "# исправим значения 20 для количества детей согласно нашей гипотезе\n",
    "df.loc[df['children'] == 20, 'children'] = 2\n",
    "# проверим\n",
    "df.loc[df['children'] == 20]['children'].count()"
   ]
  },
  {
   "cell_type": "code",
   "execution_count": 8,
   "id": "a6c40b76",
   "metadata": {},
   "outputs": [],
   "source": [
    "full_years_median = df['full_years'].median()\n",
    "df['full_years'] = df['full_years'].fillna(full_years_median)"
   ]
  },
  {
   "cell_type": "code",
   "execution_count": 9,
   "id": "ac6c3856",
   "metadata": {},
   "outputs": [
    {
     "data": {
      "text/plain": [
       "0"
      ]
     },
     "execution_count": 9,
     "metadata": {},
     "output_type": "execute_result"
    }
   ],
   "source": [
    "# исправим значение пола\n",
    "df.loc[df['gender'] == 'XNA', 'gender'] = 'F'\n",
    "# проверим\n",
    "df.loc[df['gender'] == 'XNA']['gender'].count()"
   ]
  },
  {
   "cell_type": "code",
   "execution_count": 10,
   "id": "ce32a8f4",
   "metadata": {},
   "outputs": [
    {
     "data": {
      "text/plain": [
       "0"
      ]
     },
     "execution_count": 10,
     "metadata": {},
     "output_type": "execute_result"
    }
   ],
   "source": [
    "# исправим опечатку в purpose\n",
    "df.loc[df['purpose'] == 'ремонт жилью', 'purpose'] = 'ремонт жилья'\n",
    "# проверим\n",
    "df.loc[df['purpose'] == 'ремонт жилью']['purpose'].count()"
   ]
  },
  {
   "cell_type": "markdown",
   "id": "ae7bfc7d",
   "metadata": {},
   "source": [
    "### Шаг. Формирование дополнительных датафреймов словарей, декомпозиция исходного датафрейма"
   ]
  },
  {
   "cell_type": "code",
   "execution_count": 11,
   "id": "345d00d3",
   "metadata": {},
   "outputs": [
    {
     "data": {
      "text/html": [
       "<div>\n",
       "<style scoped>\n",
       "    .dataframe tbody tr th:only-of-type {\n",
       "        vertical-align: middle;\n",
       "    }\n",
       "\n",
       "    .dataframe tbody tr th {\n",
       "        vertical-align: top;\n",
       "    }\n",
       "\n",
       "    .dataframe thead th {\n",
       "        text-align: right;\n",
       "    }\n",
       "</style>\n",
       "<table border=\"1\" class=\"dataframe\">\n",
       "  <thead>\n",
       "    <tr style=\"text-align: right;\">\n",
       "      <th></th>\n",
       "      <th>education_id</th>\n",
       "      <th>education</th>\n",
       "    </tr>\n",
       "  </thead>\n",
       "  <tbody>\n",
       "    <tr>\n",
       "      <th>0</th>\n",
       "      <td>0</td>\n",
       "      <td>высшее</td>\n",
       "    </tr>\n",
       "    <tr>\n",
       "      <th>1</th>\n",
       "      <td>1</td>\n",
       "      <td>среднее</td>\n",
       "    </tr>\n",
       "    <tr>\n",
       "      <th>2</th>\n",
       "      <td>2</td>\n",
       "      <td>неоконченное высшее</td>\n",
       "    </tr>\n",
       "    <tr>\n",
       "      <th>3</th>\n",
       "      <td>3</td>\n",
       "      <td>начальное</td>\n",
       "    </tr>\n",
       "    <tr>\n",
       "      <th>4</th>\n",
       "      <td>4</td>\n",
       "      <td>ученая степень</td>\n",
       "    </tr>\n",
       "  </tbody>\n",
       "</table>\n",
       "</div>"
      ],
      "text/plain": [
       "   education_id            education\n",
       "0             0               высшее\n",
       "1             1              среднее\n",
       "2             2  неоконченное высшее\n",
       "3             3            начальное\n",
       "4             4       ученая степень"
      ]
     },
     "execution_count": 11,
     "metadata": {},
     "output_type": "execute_result"
    }
   ],
   "source": [
    "# выделим словарь для education\n",
    "education_new = df[['education_id', 'education']]\n",
    "# удалим дубликаты из словаря\n",
    "education_new = education_new.drop_duplicates().reset_index(drop=True)\n",
    "# проверим содержимое\n",
    "education_new.head(10)"
   ]
  },
  {
   "cell_type": "code",
   "execution_count": 12,
   "id": "c447dcc0",
   "metadata": {},
   "outputs": [
    {
     "data": {
      "text/html": [
       "<div>\n",
       "<style scoped>\n",
       "    .dataframe tbody tr th:only-of-type {\n",
       "        vertical-align: middle;\n",
       "    }\n",
       "\n",
       "    .dataframe tbody tr th {\n",
       "        vertical-align: top;\n",
       "    }\n",
       "\n",
       "    .dataframe thead th {\n",
       "        text-align: right;\n",
       "    }\n",
       "</style>\n",
       "<table border=\"1\" class=\"dataframe\">\n",
       "  <thead>\n",
       "    <tr style=\"text-align: right;\">\n",
       "      <th></th>\n",
       "      <th>family_status_id</th>\n",
       "      <th>family_status</th>\n",
       "    </tr>\n",
       "  </thead>\n",
       "  <tbody>\n",
       "    <tr>\n",
       "      <th>0</th>\n",
       "      <td>0</td>\n",
       "      <td>женат / замужем</td>\n",
       "    </tr>\n",
       "    <tr>\n",
       "      <th>1</th>\n",
       "      <td>1</td>\n",
       "      <td>гражданский брак</td>\n",
       "    </tr>\n",
       "    <tr>\n",
       "      <th>2</th>\n",
       "      <td>2</td>\n",
       "      <td>вдовец / вдова</td>\n",
       "    </tr>\n",
       "    <tr>\n",
       "      <th>3</th>\n",
       "      <td>3</td>\n",
       "      <td>в разводе</td>\n",
       "    </tr>\n",
       "    <tr>\n",
       "      <th>4</th>\n",
       "      <td>4</td>\n",
       "      <td>Не женат / не замужем</td>\n",
       "    </tr>\n",
       "  </tbody>\n",
       "</table>\n",
       "</div>"
      ],
      "text/plain": [
       "   family_status_id          family_status\n",
       "0                 0        женат / замужем\n",
       "1                 1       гражданский брак\n",
       "2                 2         вдовец / вдова\n",
       "3                 3              в разводе\n",
       "4                 4  Не женат / не замужем"
      ]
     },
     "execution_count": 12,
     "metadata": {},
     "output_type": "execute_result"
    }
   ],
   "source": [
    "# выделим словарь для family_status\n",
    "family_status_new = df[['family_status_id', 'family_status']]\n",
    "# удалим дубликаты из словаря\n",
    "family_status_new = family_status_new.drop_duplicates().reset_index(drop=True)\n",
    "# проверим содержимое\n",
    "family_status_new.head(10)"
   ]
  },
  {
   "cell_type": "code",
   "execution_count": 13,
   "id": "90437b53",
   "metadata": {
    "scrolled": true
   },
   "outputs": [
    {
     "name": "stdout",
     "output_type": "stream",
     "text": [
      "<class 'pandas.core.frame.DataFrame'>\n",
      "Int64Index: 21454 entries, 0 to 21524\n",
      "Data columns (total 10 columns):\n",
      " #   Column            Non-Null Count  Dtype \n",
      "---  ------            --------------  ----- \n",
      " 0   children          21454 non-null  int64 \n",
      " 1   days_employed     21454 non-null  int64 \n",
      " 2   full_years        21454 non-null  int64 \n",
      " 3   education_id      21454 non-null  int64 \n",
      " 4   family_status_id  21454 non-null  int64 \n",
      " 5   gender            21454 non-null  object\n",
      " 6   income_type       21454 non-null  object\n",
      " 7   debt              21454 non-null  int64 \n",
      " 8   total_income      21454 non-null  int64 \n",
      " 9   purpose           21454 non-null  object\n",
      "dtypes: int64(7), object(3)\n",
      "memory usage: 1.8+ MB\n"
     ]
    }
   ],
   "source": [
    "# удалим столбцы education и family_status из основной таблицы\n",
    "del df['education']\n",
    "del df['family_status']\n",
    "#посмотрим, остались ли столбцы\n",
    "df.info()"
   ]
  },
  {
   "cell_type": "markdown",
   "id": "631c24d9",
   "metadata": {},
   "source": [
    "### Шаг.  Категоризация дохода"
   ]
  },
  {
   "cell_type": "code",
   "execution_count": 14,
   "id": "8bd6b48e",
   "metadata": {},
   "outputs": [
    {
     "data": {
      "text/plain": [
       "C    16016\n",
       "B     5041\n",
       "D      350\n",
       "A       25\n",
       "E       22\n",
       "Name: total_income_category, dtype: int64"
      ]
     },
     "execution_count": 14,
     "metadata": {},
     "output_type": "execute_result"
    }
   ],
   "source": [
    "# напишим функцию, которая оценивает приоритет в зависимости от уровня дохода \n",
    "def make_total_income_category(total_income):\n",
    "    if 0 < total_income < 30000:\n",
    "        return 'E'\n",
    "    if 30001 <= total_income < 50000:\n",
    "        return 'D'\n",
    "    if 50001 <= total_income < 200000:\n",
    "        return 'C'\n",
    "    if 200001 <= total_income <1000000:\n",
    "        return 'B'\n",
    "    return 'A'\n",
    "# добавим столбец 'total_income_category'\n",
    "df['total_income_category'] = df['total_income'].apply(make_total_income_category)\n",
    "# проверим \n",
    "df['total_income_category'].value_counts()"
   ]
  },
  {
   "cell_type": "markdown",
   "id": "7ba4fe61",
   "metadata": {},
   "source": [
    "Вывод: Входе анализа выяснили, что самая многочисленная группа кредитополучателей является группа \"С\" с доходом от 50001 до 200000 руб. Самые маленькие группы кредитополучателей являются группа \"Е\" и \"А\", с наименьшим и с наибольшим доходом соответственно."
   ]
  },
  {
   "cell_type": "markdown",
   "id": "5d055285",
   "metadata": {},
   "source": [
    "### Шаг. Категоризация целей кредита"
   ]
  },
  {
   "cell_type": "code",
   "execution_count": 15,
   "id": "227730cc",
   "metadata": {},
   "outputs": [
    {
     "data": {
      "text/plain": [
       "Counter({'операции с недвижимостью': 10811,\n",
       "         'операции с автомобилем': 4306,\n",
       "         'получения образования': 4013,\n",
       "         'проведение свадьбы': 2324})"
      ]
     },
     "execution_count": 15,
     "metadata": {},
     "output_type": "execute_result"
    }
   ],
   "source": [
    "from collections import Counter\n",
    "\n",
    "building = ['недвиж', 'жиль']\n",
    "wedding = ['свадьб']\n",
    "car = ['автом']\n",
    "education = ['образова']\n",
    "\n",
    "df['purpose_category'] = 0\n",
    "\n",
    "def get_category(list_name, category):\n",
    "  join = '|'.join(list_name)\n",
    "  index = df[df['purpose'].str.lower().str.contains(join)].index.to_list()\n",
    "  for i in index:\n",
    "    df.loc[i, 'purpose_category'] = category\n",
    "  return df\n",
    "\n",
    "\n",
    "get_category(education, 'получения образования')\n",
    "get_category(building, 'операции с недвижимостью')\n",
    "get_category(wedding, 'проведение свадьбы')\n",
    "get_category(car, 'операции с автомобилем')\n",
    "\n",
    "Counter(df['purpose_category'])"
   ]
  },
  {
   "cell_type": "markdown",
   "id": "feec52a1",
   "metadata": {},
   "source": [
    "Вывод: В столбце 'purpose' цели названы по-разному, но имеют одинаковый смысл. С помощью функции получили 4 категории основных целей кредита. Большинство клиентов обращаются за кредитом для операций с недвижимостью, и меньше всего на оплату свадьбы.\n"
   ]
  },
  {
   "cell_type": "markdown",
   "id": "639749a9",
   "metadata": {},
   "source": [
    "### Ответы на вопросы"
   ]
  },
  {
   "cell_type": "code",
   "execution_count": 16,
   "id": "08bdca90",
   "metadata": {},
   "outputs": [
    {
     "data": {
      "text/html": [
       "<div>\n",
       "<style scoped>\n",
       "    .dataframe tbody tr th:only-of-type {\n",
       "        vertical-align: middle;\n",
       "    }\n",
       "\n",
       "    .dataframe tbody tr th {\n",
       "        vertical-align: top;\n",
       "    }\n",
       "\n",
       "    .dataframe thead tr th {\n",
       "        text-align: left;\n",
       "    }\n",
       "\n",
       "    .dataframe thead tr:last-of-type th {\n",
       "        text-align: right;\n",
       "    }\n",
       "</style>\n",
       "<table border=\"1\" class=\"dataframe\">\n",
       "  <thead>\n",
       "    <tr>\n",
       "      <th></th>\n",
       "      <th>sum</th>\n",
       "      <th>count</th>\n",
       "      <th>function</th>\n",
       "    </tr>\n",
       "    <tr>\n",
       "      <th></th>\n",
       "      <th>debt</th>\n",
       "      <th>debt</th>\n",
       "      <th>debt</th>\n",
       "    </tr>\n",
       "    <tr>\n",
       "      <th>children</th>\n",
       "      <th></th>\n",
       "      <th></th>\n",
       "      <th></th>\n",
       "    </tr>\n",
       "  </thead>\n",
       "  <tbody>\n",
       "    <tr>\n",
       "      <th>5</th>\n",
       "      <td>0</td>\n",
       "      <td>9</td>\n",
       "      <td>0.0%</td>\n",
       "    </tr>\n",
       "    <tr>\n",
       "      <th>0</th>\n",
       "      <td>1063</td>\n",
       "      <td>14091</td>\n",
       "      <td>7.54%</td>\n",
       "    </tr>\n",
       "    <tr>\n",
       "      <th>3</th>\n",
       "      <td>27</td>\n",
       "      <td>330</td>\n",
       "      <td>8.18%</td>\n",
       "    </tr>\n",
       "    <tr>\n",
       "      <th>1</th>\n",
       "      <td>445</td>\n",
       "      <td>4855</td>\n",
       "      <td>9.17%</td>\n",
       "    </tr>\n",
       "    <tr>\n",
       "      <th>2</th>\n",
       "      <td>202</td>\n",
       "      <td>2128</td>\n",
       "      <td>9.49%</td>\n",
       "    </tr>\n",
       "    <tr>\n",
       "      <th>4</th>\n",
       "      <td>4</td>\n",
       "      <td>41</td>\n",
       "      <td>9.76%</td>\n",
       "    </tr>\n",
       "  </tbody>\n",
       "</table>\n",
       "</div>"
      ],
      "text/plain": [
       "           sum  count function\n",
       "          debt   debt     debt\n",
       "children                      \n",
       "5            0      9     0.0%\n",
       "0         1063  14091    7.54%\n",
       "3           27    330    8.18%\n",
       "1          445   4855    9.17%\n",
       "2          202   2128    9.49%\n",
       "4            4     41    9.76%"
      ]
     },
     "execution_count": 16,
     "metadata": {},
     "output_type": "execute_result"
    }
   ],
   "source": [
    "# функция, что посчитает нам отношение в процентах, будем использовать для ответов на все вопросы\n",
    "def function(messenger):\n",
    "    return str(round((messenger.sum() / messenger.count()) * 100, 2)) + '%'\n",
    "# построим сводную таблицу для ответа на вопрос: Есть ли зависимость между количеством детей и возвратом кредита в срок?\n",
    "data_pivot = df.pivot_table(index=['children'], values=['debt'], aggfunc=['sum','count',function])\n",
    "# сортируем\n",
    "data_pivot = data_pivot.sort_values(by=('function', 'debt'))\n",
    "data_pivot"
   ]
  },
  {
   "cell_type": "markdown",
   "id": "dc9ef627",
   "metadata": {},
   "source": [
    "Вывод: Кредитополучатели без детей реже просрочивают оплату по кредиту, чем кредитополучатели с детьми. С увеличением количества детей наблюдается увеличение количества просроченных задолженностей, хотя люди с 3 детьми чаще платят в срок чем люди с 1 ребенком. Данные не однозначные, возможно, нужна большая выборка."
   ]
  },
  {
   "cell_type": "code",
   "execution_count": 17,
   "id": "6d9a3d50",
   "metadata": {},
   "outputs": [
    {
     "data": {
      "text/html": [
       "<div>\n",
       "<style scoped>\n",
       "    .dataframe tbody tr th:only-of-type {\n",
       "        vertical-align: middle;\n",
       "    }\n",
       "\n",
       "    .dataframe tbody tr th {\n",
       "        vertical-align: top;\n",
       "    }\n",
       "\n",
       "    .dataframe thead tr th {\n",
       "        text-align: left;\n",
       "    }\n",
       "\n",
       "    .dataframe thead tr:last-of-type th {\n",
       "        text-align: right;\n",
       "    }\n",
       "</style>\n",
       "<table border=\"1\" class=\"dataframe\">\n",
       "  <thead>\n",
       "    <tr>\n",
       "      <th></th>\n",
       "      <th>sum</th>\n",
       "      <th>count</th>\n",
       "      <th>function</th>\n",
       "    </tr>\n",
       "    <tr>\n",
       "      <th></th>\n",
       "      <th>debt</th>\n",
       "      <th>debt</th>\n",
       "      <th>debt</th>\n",
       "    </tr>\n",
       "    <tr>\n",
       "      <th>family_status</th>\n",
       "      <th></th>\n",
       "      <th></th>\n",
       "      <th></th>\n",
       "    </tr>\n",
       "  </thead>\n",
       "  <tbody>\n",
       "    <tr>\n",
       "      <th>вдовец / вдова</th>\n",
       "      <td>63</td>\n",
       "      <td>959</td>\n",
       "      <td>6.57%</td>\n",
       "    </tr>\n",
       "    <tr>\n",
       "      <th>в разводе</th>\n",
       "      <td>85</td>\n",
       "      <td>1195</td>\n",
       "      <td>7.11%</td>\n",
       "    </tr>\n",
       "    <tr>\n",
       "      <th>женат / замужем</th>\n",
       "      <td>931</td>\n",
       "      <td>12339</td>\n",
       "      <td>7.55%</td>\n",
       "    </tr>\n",
       "    <tr>\n",
       "      <th>гражданский брак</th>\n",
       "      <td>388</td>\n",
       "      <td>4151</td>\n",
       "      <td>9.35%</td>\n",
       "    </tr>\n",
       "    <tr>\n",
       "      <th>Не женат / не замужем</th>\n",
       "      <td>274</td>\n",
       "      <td>2810</td>\n",
       "      <td>9.75%</td>\n",
       "    </tr>\n",
       "  </tbody>\n",
       "</table>\n",
       "</div>"
      ],
      "text/plain": [
       "                       sum  count function\n",
       "                      debt   debt     debt\n",
       "family_status                             \n",
       "вдовец / вдова          63    959    6.57%\n",
       "в разводе               85   1195    7.11%\n",
       "женат / замужем        931  12339    7.55%\n",
       "гражданский брак       388   4151    9.35%\n",
       "Не женат / не замужем  274   2810    9.75%"
      ]
     },
     "execution_count": 17,
     "metadata": {},
     "output_type": "execute_result"
    }
   ],
   "source": [
    "# так как текстовые значения family_status были удалены, необходимо их вернуть методом merge()\n",
    "df_with_family_status = df.merge(family_status_new, on='family_status_id', how='left')\n",
    "# построим сводную таблицу для ответа на вопрос (по фрейму со значениями из словаря); \n",
    "# Есть ли зависимость между семейным положением и возвратом кредита в срок?\n",
    "data_pivot = df_with_family_status.pivot_table(index=['family_status'], values=[\"debt\"], aggfunc=['sum', 'count', function])\n",
    "# сортируем\n",
    "data_pivot = data_pivot.sort_values(by=('function', 'debt'))\n",
    "data_pivot"
   ]
  },
  {
   "cell_type": "markdown",
   "id": "88b8c592",
   "metadata": {},
   "source": [
    "Вывод: Кредитополучатели \"вдовец/вдова\" и клиенты \"в разводе\" имеют наименьший риск просрочки. Вероятно, это связано с тем, что кредит берется более осознанно. Самая \"проблематичная\" категория - неженатые и состоящие в гражданском браке."
   ]
  },
  {
   "cell_type": "code",
   "execution_count": 18,
   "id": "c5f765a7",
   "metadata": {},
   "outputs": [
    {
     "data": {
      "text/html": [
       "<div>\n",
       "<style scoped>\n",
       "    .dataframe tbody tr th:only-of-type {\n",
       "        vertical-align: middle;\n",
       "    }\n",
       "\n",
       "    .dataframe tbody tr th {\n",
       "        vertical-align: top;\n",
       "    }\n",
       "\n",
       "    .dataframe thead tr th {\n",
       "        text-align: left;\n",
       "    }\n",
       "\n",
       "    .dataframe thead tr:last-of-type th {\n",
       "        text-align: right;\n",
       "    }\n",
       "</style>\n",
       "<table border=\"1\" class=\"dataframe\">\n",
       "  <thead>\n",
       "    <tr>\n",
       "      <th></th>\n",
       "      <th>sum</th>\n",
       "      <th>count</th>\n",
       "      <th>function</th>\n",
       "    </tr>\n",
       "    <tr>\n",
       "      <th></th>\n",
       "      <th>debt</th>\n",
       "      <th>debt</th>\n",
       "      <th>debt</th>\n",
       "    </tr>\n",
       "    <tr>\n",
       "      <th>total_income_category</th>\n",
       "      <th></th>\n",
       "      <th></th>\n",
       "      <th></th>\n",
       "    </tr>\n",
       "  </thead>\n",
       "  <tbody>\n",
       "    <tr>\n",
       "      <th>D</th>\n",
       "      <td>21</td>\n",
       "      <td>350</td>\n",
       "      <td>6.0%</td>\n",
       "    </tr>\n",
       "    <tr>\n",
       "      <th>B</th>\n",
       "      <td>356</td>\n",
       "      <td>5041</td>\n",
       "      <td>7.06%</td>\n",
       "    </tr>\n",
       "    <tr>\n",
       "      <th>A</th>\n",
       "      <td>2</td>\n",
       "      <td>25</td>\n",
       "      <td>8.0%</td>\n",
       "    </tr>\n",
       "    <tr>\n",
       "      <th>C</th>\n",
       "      <td>1360</td>\n",
       "      <td>16016</td>\n",
       "      <td>8.49%</td>\n",
       "    </tr>\n",
       "    <tr>\n",
       "      <th>E</th>\n",
       "      <td>2</td>\n",
       "      <td>22</td>\n",
       "      <td>9.09%</td>\n",
       "    </tr>\n",
       "  </tbody>\n",
       "</table>\n",
       "</div>"
      ],
      "text/plain": [
       "                        sum  count function\n",
       "                       debt   debt     debt\n",
       "total_income_category                      \n",
       "D                        21    350     6.0%\n",
       "B                       356   5041    7.06%\n",
       "A                         2     25     8.0%\n",
       "C                      1360  16016    8.49%\n",
       "E                         2     22    9.09%"
      ]
     },
     "execution_count": 18,
     "metadata": {},
     "output_type": "execute_result"
    }
   ],
   "source": [
    "# построим сводную таблицу для ответа на вопрос: Есть ли зависимость между уровнем дохода и возвратом кредита в срок?\n",
    "data_pivot = df.pivot_table(index=['total_income_category'], values=[\"debt\"], aggfunc=['sum', 'count', function])\n",
    "# сортируем\n",
    "data_pivot = data_pivot.sort_values(by=('function', 'debt'))\n",
    "data_pivot"
   ]
  },
  {
   "cell_type": "markdown",
   "id": "7da634ef",
   "metadata": {},
   "source": [
    "Вывод: Кредитополучатели с доходом от 30 тыс до 50 тыс  категории \"D\" являются самыми надежными. У клиентов с доходом меньше 30 тыс категория \"Е\" самый высокий риск невозврата денежных средств. Клиенты данной категории слабо оценивают свои возможности. Обращает на себя внимание кредитполучатели с доходом от от 50 тыс до 200 тыс, риск невозврата тоже достаточно велик. "
   ]
  },
  {
   "cell_type": "code",
   "execution_count": 19,
   "id": "63a48717",
   "metadata": {},
   "outputs": [
    {
     "data": {
      "text/html": [
       "<div>\n",
       "<style scoped>\n",
       "    .dataframe tbody tr th:only-of-type {\n",
       "        vertical-align: middle;\n",
       "    }\n",
       "\n",
       "    .dataframe tbody tr th {\n",
       "        vertical-align: top;\n",
       "    }\n",
       "\n",
       "    .dataframe thead tr th {\n",
       "        text-align: left;\n",
       "    }\n",
       "\n",
       "    .dataframe thead tr:last-of-type th {\n",
       "        text-align: right;\n",
       "    }\n",
       "</style>\n",
       "<table border=\"1\" class=\"dataframe\">\n",
       "  <thead>\n",
       "    <tr>\n",
       "      <th></th>\n",
       "      <th>sum</th>\n",
       "      <th>count</th>\n",
       "      <th>function</th>\n",
       "    </tr>\n",
       "    <tr>\n",
       "      <th></th>\n",
       "      <th>debt</th>\n",
       "      <th>debt</th>\n",
       "      <th>debt</th>\n",
       "    </tr>\n",
       "    <tr>\n",
       "      <th>purpose_category</th>\n",
       "      <th></th>\n",
       "      <th></th>\n",
       "      <th></th>\n",
       "    </tr>\n",
       "  </thead>\n",
       "  <tbody>\n",
       "    <tr>\n",
       "      <th>операции с недвижимостью</th>\n",
       "      <td>782</td>\n",
       "      <td>10811</td>\n",
       "      <td>7.23%</td>\n",
       "    </tr>\n",
       "    <tr>\n",
       "      <th>проведение свадьбы</th>\n",
       "      <td>186</td>\n",
       "      <td>2324</td>\n",
       "      <td>8.0%</td>\n",
       "    </tr>\n",
       "    <tr>\n",
       "      <th>получения образования</th>\n",
       "      <td>370</td>\n",
       "      <td>4013</td>\n",
       "      <td>9.22%</td>\n",
       "    </tr>\n",
       "    <tr>\n",
       "      <th>операции с автомобилем</th>\n",
       "      <td>403</td>\n",
       "      <td>4306</td>\n",
       "      <td>9.36%</td>\n",
       "    </tr>\n",
       "  </tbody>\n",
       "</table>\n",
       "</div>"
      ],
      "text/plain": [
       "                          sum  count function\n",
       "                         debt   debt     debt\n",
       "purpose_category                             \n",
       "операции с недвижимостью  782  10811    7.23%\n",
       "проведение свадьбы        186   2324     8.0%\n",
       "получения образования     370   4013    9.22%\n",
       "операции с автомобилем    403   4306    9.36%"
      ]
     },
     "execution_count": 19,
     "metadata": {},
     "output_type": "execute_result"
    }
   ],
   "source": [
    "# построим сводную таблицу для ответа на вопрос: Как разные цели кредита влияют на его возврат в срок?\n",
    "data_pivot = df.pivot_table(index=['purpose_category'], values=[\"debt\"], aggfunc=['sum', 'count', function])\n",
    "# сортируем\n",
    "data_pivot = data_pivot.sort_values(by=('function', 'debt'))\n",
    "data_pivot"
   ]
  },
  {
   "cell_type": "markdown",
   "id": "c838885a",
   "metadata": {},
   "source": [
    "Вывод: Среди 4 категорий, чаще всего платят в срок клиенты с целью кредита операции с недвижимостью. Вероятность просрочки оплаты по кредиту больше у клиентов, которым нужен кредит на операции с автомобилем и получение образования. Кредиты на свадьбу просрочивают реже - примерно, как и в случае с недвижимостью."
   ]
  },
  {
   "cell_type": "markdown",
   "id": "729f4d2e",
   "metadata": {},
   "source": [
    "## Общий вывод\n",
    "\n",
    "При анализе данных были проделаны следующие виды работ: заполнены пропущенные значения, удалены дубликаты и выделены категории для целей кредита, группировка клиентов по уровню дохода. Применив сводные таблицы, выявлены критерии влияющие на возврат кредита. \n",
    "Самый идеальный заемщик - это человек без детей, состоящий или состоявший в официальных отношениях, имеющий уровень дохода от 30 тыс до 50 тыс и берущий деньги на недвижимость.\n",
    "\n",
    "\n",
    "\n",
    "\n",
    "\n"
   ]
  }
 ],
 "metadata": {
  "ExecuteTimeLog": [
   {
    "duration": 595,
    "start_time": "2022-03-07T15:18:29.126Z"
   },
   {
    "duration": 65,
    "start_time": "2022-03-07T15:19:30.046Z"
   },
   {
    "duration": 58,
    "start_time": "2022-03-07T15:19:57.158Z"
   },
   {
    "duration": 85,
    "start_time": "2022-03-07T15:36:52.332Z"
   },
   {
    "duration": 73,
    "start_time": "2022-03-07T15:48:45.650Z"
   },
   {
    "duration": 77,
    "start_time": "2022-03-07T15:51:29.458Z"
   },
   {
    "duration": 84,
    "start_time": "2022-03-07T16:39:58.290Z"
   },
   {
    "duration": 66,
    "start_time": "2022-03-07T16:40:20.357Z"
   },
   {
    "duration": 173,
    "start_time": "2022-03-07T16:51:30.794Z"
   },
   {
    "duration": 11,
    "start_time": "2022-03-07T16:53:13.499Z"
   },
   {
    "duration": 19,
    "start_time": "2022-03-07T16:55:02.457Z"
   },
   {
    "duration": 82,
    "start_time": "2022-03-07T20:44:09.648Z"
   },
   {
    "duration": 85,
    "start_time": "2022-03-07T20:47:00.425Z"
   },
   {
    "duration": 298,
    "start_time": "2022-03-07T20:54:31.777Z"
   },
   {
    "duration": 692,
    "start_time": "2022-03-07T20:54:45.717Z"
   },
   {
    "duration": 11,
    "start_time": "2022-03-07T20:54:51.817Z"
   },
   {
    "duration": 19,
    "start_time": "2022-03-07T20:55:10.460Z"
   },
   {
    "duration": 17,
    "start_time": "2022-03-07T21:30:25.188Z"
   },
   {
    "duration": 17,
    "start_time": "2022-03-07T21:30:30.965Z"
   },
   {
    "duration": 84,
    "start_time": "2022-03-07T21:50:20.094Z"
   },
   {
    "duration": 73,
    "start_time": "2022-03-07T21:51:40.183Z"
   },
   {
    "duration": 17,
    "start_time": "2022-03-07T22:05:16.961Z"
   },
   {
    "duration": 15,
    "start_time": "2022-03-07T22:09:18.428Z"
   },
   {
    "duration": 833,
    "start_time": "2022-03-08T17:19:35.211Z"
   },
   {
    "duration": 20,
    "start_time": "2022-03-08T17:19:45.279Z"
   },
   {
    "duration": 19,
    "start_time": "2022-03-08T17:22:41.746Z"
   },
   {
    "duration": 32,
    "start_time": "2022-03-08T19:17:43.042Z"
   },
   {
    "duration": 6,
    "start_time": "2022-03-08T20:01:04.301Z"
   },
   {
    "duration": 18,
    "start_time": "2022-03-08T20:01:26.235Z"
   },
   {
    "duration": 21,
    "start_time": "2022-03-08T20:01:53.215Z"
   },
   {
    "duration": 311,
    "start_time": "2022-03-09T11:41:16.248Z"
   },
   {
    "duration": 663,
    "start_time": "2022-03-09T11:41:21.027Z"
   },
   {
    "duration": 25,
    "start_time": "2022-03-09T11:41:25.347Z"
   },
   {
    "duration": 14,
    "start_time": "2022-03-09T11:41:31.820Z"
   },
   {
    "duration": 19,
    "start_time": "2022-03-09T11:41:34.721Z"
   },
   {
    "duration": 46,
    "start_time": "2022-03-09T11:53:21.808Z"
   },
   {
    "duration": 16,
    "start_time": "2022-03-09T12:16:03.427Z"
   },
   {
    "duration": 104,
    "start_time": "2022-03-09T12:16:11.937Z"
   },
   {
    "duration": 26,
    "start_time": "2022-03-09T12:16:15.505Z"
   },
   {
    "duration": 15,
    "start_time": "2022-03-09T12:16:18.594Z"
   },
   {
    "duration": 19,
    "start_time": "2022-03-09T12:16:25.312Z"
   },
   {
    "duration": 42,
    "start_time": "2022-03-09T12:16:43.952Z"
   },
   {
    "duration": 84,
    "start_time": "2022-03-09T13:07:06.783Z"
   },
   {
    "duration": 83,
    "start_time": "2022-03-09T13:08:04.139Z"
   },
   {
    "duration": 696,
    "start_time": "2022-03-09T17:40:35.910Z"
   },
   {
    "duration": 23,
    "start_time": "2022-03-09T17:40:41.991Z"
   },
   {
    "duration": 13,
    "start_time": "2022-03-09T17:40:48.572Z"
   },
   {
    "duration": 40,
    "start_time": "2022-03-09T17:40:54.895Z"
   },
   {
    "duration": 5,
    "start_time": "2022-03-09T17:53:34.714Z"
   },
   {
    "duration": 6,
    "start_time": "2022-03-09T17:54:51.613Z"
   },
   {
    "duration": 9,
    "start_time": "2022-03-09T17:55:26.085Z"
   },
   {
    "duration": 12,
    "start_time": "2022-03-09T17:56:01.171Z"
   },
   {
    "duration": 11,
    "start_time": "2022-03-09T17:56:28.477Z"
   },
   {
    "duration": 12,
    "start_time": "2022-03-09T17:56:41.537Z"
   },
   {
    "duration": 9,
    "start_time": "2022-03-09T18:09:06.694Z"
   },
   {
    "duration": 10,
    "start_time": "2022-03-09T18:09:32.779Z"
   },
   {
    "duration": 5,
    "start_time": "2022-03-09T18:10:56.426Z"
   },
   {
    "duration": 7,
    "start_time": "2022-03-09T18:11:02.080Z"
   },
   {
    "duration": 9,
    "start_time": "2022-03-09T18:11:56.016Z"
   },
   {
    "duration": 7217,
    "start_time": "2022-03-09T18:12:56.032Z"
   },
   {
    "duration": 8,
    "start_time": "2022-03-09T18:13:18.447Z"
   },
   {
    "duration": 9,
    "start_time": "2022-03-09T18:13:46.703Z"
   },
   {
    "duration": 10,
    "start_time": "2022-03-09T18:15:22.973Z"
   },
   {
    "duration": 3,
    "start_time": "2022-03-09T18:20:39.663Z"
   },
   {
    "duration": 4,
    "start_time": "2022-03-09T18:22:19.344Z"
   },
   {
    "duration": 19,
    "start_time": "2022-03-09T18:30:12.383Z"
   },
   {
    "duration": 19,
    "start_time": "2022-03-09T18:30:43.209Z"
   },
   {
    "duration": 4,
    "start_time": "2022-03-09T18:31:08.501Z"
   },
   {
    "duration": 13,
    "start_time": "2022-03-09T18:31:30.093Z"
   },
   {
    "duration": 4,
    "start_time": "2022-03-09T18:31:56.435Z"
   },
   {
    "duration": 11,
    "start_time": "2022-03-09T18:40:13.752Z"
   },
   {
    "duration": 5,
    "start_time": "2022-03-09T18:40:19.957Z"
   },
   {
    "duration": 9,
    "start_time": "2022-03-09T18:40:23.569Z"
   },
   {
    "duration": 5,
    "start_time": "2022-03-09T18:40:50.469Z"
   },
   {
    "duration": 10,
    "start_time": "2022-03-09T18:40:53.001Z"
   },
   {
    "duration": 9,
    "start_time": "2022-03-09T18:40:54.989Z"
   },
   {
    "duration": 7,
    "start_time": "2022-03-09T18:41:26.324Z"
   },
   {
    "duration": 10,
    "start_time": "2022-03-09T18:42:10.117Z"
   },
   {
    "duration": 10,
    "start_time": "2022-03-09T18:42:38.091Z"
   },
   {
    "duration": 4,
    "start_time": "2022-03-09T18:42:56.412Z"
   },
   {
    "duration": 680,
    "start_time": "2022-03-10T10:05:44.235Z"
   },
   {
    "duration": 28,
    "start_time": "2022-03-10T10:05:48.731Z"
   },
   {
    "duration": 16,
    "start_time": "2022-03-10T10:05:52.170Z"
   },
   {
    "duration": 48,
    "start_time": "2022-03-10T10:05:54.938Z"
   },
   {
    "duration": 13,
    "start_time": "2022-03-10T10:05:57.570Z"
   },
   {
    "duration": 10,
    "start_time": "2022-03-10T10:06:01.979Z"
   },
   {
    "duration": 10,
    "start_time": "2022-03-10T10:06:04.907Z"
   },
   {
    "duration": 6,
    "start_time": "2022-03-10T10:06:05.946Z"
   },
   {
    "duration": 16,
    "start_time": "2022-03-10T10:06:06.570Z"
   },
   {
    "duration": 16,
    "start_time": "2022-03-10T10:06:07.147Z"
   },
   {
    "duration": 354,
    "start_time": "2022-03-10T19:24:32.486Z"
   },
   {
    "duration": 852,
    "start_time": "2022-03-10T19:24:39.477Z"
   },
   {
    "duration": 37,
    "start_time": "2022-03-10T19:24:47.493Z"
   },
   {
    "duration": 22,
    "start_time": "2022-03-10T19:24:52.657Z"
   },
   {
    "duration": 67,
    "start_time": "2022-03-10T19:24:57.117Z"
   },
   {
    "duration": 17,
    "start_time": "2022-03-10T19:25:01.161Z"
   },
   {
    "duration": 16,
    "start_time": "2022-03-10T19:25:07.890Z"
   },
   {
    "duration": 13,
    "start_time": "2022-03-10T19:25:10.892Z"
   },
   {
    "duration": 7,
    "start_time": "2022-03-10T19:25:12.587Z"
   },
   {
    "duration": 20,
    "start_time": "2022-03-10T19:25:14.640Z"
   },
   {
    "duration": 20,
    "start_time": "2022-03-10T19:25:16.218Z"
   },
   {
    "duration": 21,
    "start_time": "2022-03-10T19:25:19.862Z"
   },
   {
    "duration": 16,
    "start_time": "2022-03-10T19:26:25.430Z"
   },
   {
    "duration": 16,
    "start_time": "2022-03-10T19:27:32.638Z"
   },
   {
    "duration": 14,
    "start_time": "2022-03-10T19:27:51.534Z"
   },
   {
    "duration": 14,
    "start_time": "2022-03-10T19:30:46.506Z"
   },
   {
    "duration": 25,
    "start_time": "2022-03-10T20:13:29.288Z"
   },
   {
    "duration": 944,
    "start_time": "2022-03-11T11:49:34.031Z"
   },
   {
    "duration": 35,
    "start_time": "2022-03-11T11:49:39.559Z"
   },
   {
    "duration": 22,
    "start_time": "2022-03-11T11:49:42.527Z"
   },
   {
    "duration": 65,
    "start_time": "2022-03-11T11:49:45.318Z"
   },
   {
    "duration": 17,
    "start_time": "2022-03-11T11:49:48.303Z"
   },
   {
    "duration": 17,
    "start_time": "2022-03-11T12:29:29.410Z"
   },
   {
    "duration": 23190,
    "start_time": "2022-03-11T13:12:27.662Z"
   },
   {
    "duration": 24161,
    "start_time": "2022-03-11T13:13:58.156Z"
   },
   {
    "duration": 24319,
    "start_time": "2022-03-11T13:17:07.203Z"
   },
   {
    "duration": 2951,
    "start_time": "2022-03-11T13:21:30.947Z"
   },
   {
    "duration": 28,
    "start_time": "2022-03-11T13:22:09.845Z"
   },
   {
    "duration": 11690,
    "start_time": "2022-03-11T13:22:39.219Z"
   },
   {
    "duration": 2819,
    "start_time": "2022-03-11T13:22:48.097Z"
   },
   {
    "duration": 23,
    "start_time": "2022-03-11T13:22:52.361Z"
   },
   {
    "duration": 2855,
    "start_time": "2022-03-11T13:24:43.566Z"
   },
   {
    "duration": 26,
    "start_time": "2022-03-11T13:25:26.268Z"
   },
   {
    "duration": 2858,
    "start_time": "2022-03-11T13:25:49.671Z"
   },
   {
    "duration": 5286,
    "start_time": "2022-03-11T13:26:33.179Z"
   },
   {
    "duration": 2951,
    "start_time": "2022-03-11T13:27:16.611Z"
   },
   {
    "duration": 2856,
    "start_time": "2022-03-11T13:27:26.522Z"
   },
   {
    "duration": 17273,
    "start_time": "2022-03-11T13:27:56.066Z"
   },
   {
    "duration": 27851,
    "start_time": "2022-03-11T13:29:07.716Z"
   },
   {
    "duration": 23327,
    "start_time": "2022-03-11T13:30:35.110Z"
   },
   {
    "duration": 23101,
    "start_time": "2022-03-11T13:32:40.986Z"
   },
   {
    "duration": 23152,
    "start_time": "2022-03-11T13:33:30.131Z"
   },
   {
    "duration": 23055,
    "start_time": "2022-03-11T13:34:02.272Z"
   },
   {
    "duration": 24264,
    "start_time": "2022-03-11T13:35:01.976Z"
   },
   {
    "duration": 22999,
    "start_time": "2022-03-11T13:35:33.055Z"
   },
   {
    "duration": 23434,
    "start_time": "2022-03-11T13:36:17.825Z"
   },
   {
    "duration": 23769,
    "start_time": "2022-03-11T13:37:15.404Z"
   },
   {
    "duration": 692,
    "start_time": "2022-03-11T16:51:18.043Z"
   },
   {
    "duration": 23,
    "start_time": "2022-03-11T16:51:25.713Z"
   },
   {
    "duration": 14,
    "start_time": "2022-03-11T16:51:32.538Z"
   },
   {
    "duration": 42,
    "start_time": "2022-03-11T16:51:44.726Z"
   },
   {
    "duration": 11,
    "start_time": "2022-03-11T16:51:46.961Z"
   },
   {
    "duration": 9,
    "start_time": "2022-03-11T16:51:51.850Z"
   },
   {
    "duration": 9,
    "start_time": "2022-03-11T16:51:53.878Z"
   },
   {
    "duration": 4,
    "start_time": "2022-03-11T16:51:56.161Z"
   },
   {
    "duration": 11,
    "start_time": "2022-03-11T16:51:58.815Z"
   },
   {
    "duration": 261,
    "start_time": "2022-03-11T16:52:02.938Z"
   },
   {
    "duration": 71,
    "start_time": "2022-03-11T16:52:12.991Z"
   },
   {
    "duration": 68,
    "start_time": "2022-03-11T16:52:26.689Z"
   },
   {
    "duration": 220,
    "start_time": "2022-03-11T16:53:09.480Z"
   },
   {
    "duration": 263,
    "start_time": "2022-03-11T16:53:14.360Z"
   },
   {
    "duration": 71,
    "start_time": "2022-03-11T16:57:39.613Z"
   },
   {
    "duration": 27,
    "start_time": "2022-03-11T16:57:56.676Z"
   },
   {
    "duration": 19,
    "start_time": "2022-03-11T16:58:00.597Z"
   },
   {
    "duration": 47,
    "start_time": "2022-03-11T16:58:40.820Z"
   },
   {
    "duration": 12,
    "start_time": "2022-03-11T16:58:43.310Z"
   },
   {
    "duration": 8,
    "start_time": "2022-03-11T16:58:48.089Z"
   },
   {
    "duration": 9,
    "start_time": "2022-03-11T16:58:49.881Z"
   },
   {
    "duration": 5,
    "start_time": "2022-03-11T16:58:52.040Z"
   },
   {
    "duration": 11,
    "start_time": "2022-03-11T16:58:54.951Z"
   },
   {
    "duration": 12,
    "start_time": "2022-03-11T16:58:58.613Z"
   },
   {
    "duration": 279,
    "start_time": "2022-03-11T16:59:01.599Z"
   },
   {
    "duration": 16,
    "start_time": "2022-03-11T17:01:19.906Z"
   },
   {
    "duration": 12,
    "start_time": "2022-03-11T17:01:26.912Z"
   },
   {
    "duration": 77,
    "start_time": "2022-03-11T17:05:13.127Z"
   },
   {
    "duration": 27,
    "start_time": "2022-03-11T17:06:32.819Z"
   },
   {
    "duration": 15,
    "start_time": "2022-03-11T17:06:37.976Z"
   },
   {
    "duration": 40,
    "start_time": "2022-03-11T17:06:42.874Z"
   },
   {
    "duration": 11,
    "start_time": "2022-03-11T17:06:45.725Z"
   },
   {
    "duration": 8,
    "start_time": "2022-03-11T17:07:01.702Z"
   },
   {
    "duration": 8,
    "start_time": "2022-03-11T17:07:03.832Z"
   },
   {
    "duration": 4,
    "start_time": "2022-03-11T17:07:04.716Z"
   },
   {
    "duration": 10,
    "start_time": "2022-03-11T17:07:05.350Z"
   },
   {
    "duration": 10,
    "start_time": "2022-03-11T17:07:06.248Z"
   },
   {
    "duration": 11,
    "start_time": "2022-03-11T17:07:09.612Z"
   },
   {
    "duration": 11,
    "start_time": "2022-03-11T17:07:14.001Z"
   },
   {
    "duration": 11,
    "start_time": "2022-03-11T17:07:16.381Z"
   },
   {
    "duration": 17,
    "start_time": "2022-03-11T17:07:25.271Z"
   },
   {
    "duration": 13177,
    "start_time": "2022-03-11T17:07:43.587Z"
   },
   {
    "duration": 12772,
    "start_time": "2022-03-11T17:08:05.300Z"
   },
   {
    "duration": 13115,
    "start_time": "2022-03-11T17:09:59.770Z"
   },
   {
    "duration": 13259,
    "start_time": "2022-03-11T17:10:19.424Z"
   },
   {
    "duration": 13304,
    "start_time": "2022-03-11T17:11:02.797Z"
   },
   {
    "duration": 12941,
    "start_time": "2022-03-11T17:12:54.141Z"
   },
   {
    "duration": 3719,
    "start_time": "2022-03-11T17:17:29.398Z"
   },
   {
    "duration": 13745,
    "start_time": "2022-03-11T17:17:39.444Z"
   },
   {
    "duration": 12871,
    "start_time": "2022-03-11T17:18:43.837Z"
   },
   {
    "duration": 12860,
    "start_time": "2022-03-11T17:19:47.502Z"
   },
   {
    "duration": 13531,
    "start_time": "2022-03-11T17:21:32.764Z"
   },
   {
    "duration": 12900,
    "start_time": "2022-03-11T17:22:30.144Z"
   },
   {
    "duration": 13179,
    "start_time": "2022-03-11T17:22:46.652Z"
   },
   {
    "duration": 12865,
    "start_time": "2022-03-11T17:23:19.466Z"
   },
   {
    "duration": 252,
    "start_time": "2022-03-11T17:43:07.537Z"
   },
   {
    "duration": 27,
    "start_time": "2022-03-11T17:44:06.224Z"
   },
   {
    "duration": 238,
    "start_time": "2022-03-11T18:23:09.542Z"
   },
   {
    "duration": 231,
    "start_time": "2022-03-11T18:28:45.718Z"
   },
   {
    "duration": 30,
    "start_time": "2022-03-11T18:33:27.131Z"
   },
   {
    "duration": 30,
    "start_time": "2022-03-11T18:43:05.038Z"
   },
   {
    "duration": 29,
    "start_time": "2022-03-11T18:44:02.417Z"
   },
   {
    "duration": 31,
    "start_time": "2022-03-11T18:44:51.761Z"
   },
   {
    "duration": 12639,
    "start_time": "2022-03-11T18:45:21.292Z"
   },
   {
    "duration": 241,
    "start_time": "2022-03-11T18:54:07.426Z"
   },
   {
    "duration": 43,
    "start_time": "2022-03-11T18:54:28.701Z"
   },
   {
    "duration": 45,
    "start_time": "2022-03-11T18:57:35.967Z"
   },
   {
    "duration": 241,
    "start_time": "2022-03-11T20:51:14.920Z"
   },
   {
    "duration": 229,
    "start_time": "2022-03-11T20:51:46.615Z"
   },
   {
    "duration": 236,
    "start_time": "2022-03-11T20:52:39.292Z"
   },
   {
    "duration": 32,
    "start_time": "2022-03-11T20:53:27.249Z"
   },
   {
    "duration": 31,
    "start_time": "2022-03-11T21:02:41.490Z"
   },
   {
    "duration": 35,
    "start_time": "2022-03-11T21:17:20.820Z"
   },
   {
    "duration": 12842,
    "start_time": "2022-03-11T21:21:26.922Z"
   },
   {
    "duration": 35,
    "start_time": "2022-03-11T21:21:54.213Z"
   },
   {
    "duration": 73,
    "start_time": "2022-03-11T21:35:30.644Z"
   },
   {
    "duration": 76,
    "start_time": "2022-03-21T09:42:00.087Z"
   },
   {
    "duration": 11,
    "start_time": "2022-03-21T09:42:03.382Z"
   },
   {
    "duration": 115,
    "start_time": "2022-03-21T11:21:19.986Z"
   },
   {
    "duration": 32,
    "start_time": "2022-03-21T11:21:25.059Z"
   },
   {
    "duration": 22,
    "start_time": "2022-03-21T11:21:30.121Z"
   },
   {
    "duration": 68,
    "start_time": "2022-03-21T11:25:13.146Z"
   },
   {
    "duration": 15,
    "start_time": "2022-03-21T11:25:16.723Z"
   },
   {
    "duration": 9,
    "start_time": "2022-03-21T11:25:19.137Z"
   },
   {
    "duration": 10,
    "start_time": "2022-03-21T11:25:21.152Z"
   },
   {
    "duration": 6,
    "start_time": "2022-03-21T11:25:25.485Z"
   },
   {
    "duration": 12,
    "start_time": "2022-03-21T11:25:27.771Z"
   },
   {
    "duration": 13,
    "start_time": "2022-03-21T11:25:30.312Z"
   },
   {
    "duration": 18,
    "start_time": "2022-03-21T11:25:36.998Z"
   },
   {
    "duration": 17,
    "start_time": "2022-03-21T11:25:38.953Z"
   },
   {
    "duration": 21,
    "start_time": "2022-03-21T11:25:41.145Z"
   },
   {
    "duration": 23,
    "start_time": "2022-03-21T11:25:45.100Z"
   },
   {
    "duration": 15414,
    "start_time": "2022-03-21T11:25:49.530Z"
   },
   {
    "duration": 40,
    "start_time": "2022-03-21T11:29:04.573Z"
   },
   {
    "duration": 39,
    "start_time": "2022-03-21T11:29:16.700Z"
   },
   {
    "duration": 41,
    "start_time": "2022-03-21T11:31:08.723Z"
   },
   {
    "duration": 6,
    "start_time": "2022-03-21T11:32:56.294Z"
   },
   {
    "duration": 5,
    "start_time": "2022-03-21T11:33:07.421Z"
   },
   {
    "duration": 15095,
    "start_time": "2022-03-21T11:33:56.963Z"
   },
   {
    "duration": 67,
    "start_time": "2022-03-21T11:35:35.238Z"
   },
   {
    "duration": 74,
    "start_time": "2022-03-21T11:36:01.210Z"
   },
   {
    "duration": 8,
    "start_time": "2022-03-21T11:36:32.713Z"
   },
   {
    "duration": 68,
    "start_time": "2022-03-21T11:36:39.146Z"
   },
   {
    "duration": 45,
    "start_time": "2022-03-21T11:37:21.138Z"
   },
   {
    "duration": 41,
    "start_time": "2022-03-21T11:42:49.823Z"
   },
   {
    "duration": 14,
    "start_time": "2022-03-21T11:44:05.359Z"
   },
   {
    "duration": 13,
    "start_time": "2022-03-21T11:44:21.007Z"
   },
   {
    "duration": 12,
    "start_time": "2022-03-21T11:44:36.621Z"
   },
   {
    "duration": 12,
    "start_time": "2022-03-21T11:47:43.209Z"
   },
   {
    "duration": 8,
    "start_time": "2022-03-21T11:48:16.617Z"
   },
   {
    "duration": 5,
    "start_time": "2022-03-21T11:48:53.743Z"
   },
   {
    "duration": 5,
    "start_time": "2022-03-21T11:59:15.388Z"
   },
   {
    "duration": 5,
    "start_time": "2022-03-21T11:59:18.573Z"
   },
   {
    "duration": 6,
    "start_time": "2022-03-21T11:59:51.812Z"
   },
   {
    "duration": 23,
    "start_time": "2022-03-21T11:59:53.503Z"
   },
   {
    "duration": 5,
    "start_time": "2022-03-21T11:59:55.223Z"
   },
   {
    "duration": 43,
    "start_time": "2022-03-21T12:00:17.021Z"
   },
   {
    "duration": 113,
    "start_time": "2022-03-21T12:00:23.921Z"
   },
   {
    "duration": 36,
    "start_time": "2022-03-21T12:00:26.416Z"
   },
   {
    "duration": 21,
    "start_time": "2022-03-21T12:00:28.353Z"
   },
   {
    "duration": 72,
    "start_time": "2022-03-21T12:00:29.354Z"
   },
   {
    "duration": 16,
    "start_time": "2022-03-21T12:00:30.385Z"
   },
   {
    "duration": 10,
    "start_time": "2022-03-21T12:00:31.345Z"
   },
   {
    "duration": 14,
    "start_time": "2022-03-21T12:00:32.541Z"
   },
   {
    "duration": 6,
    "start_time": "2022-03-21T12:00:33.491Z"
   },
   {
    "duration": 13,
    "start_time": "2022-03-21T12:00:33.895Z"
   },
   {
    "duration": 13,
    "start_time": "2022-03-21T12:00:34.978Z"
   },
   {
    "duration": 16,
    "start_time": "2022-03-21T12:00:35.867Z"
   },
   {
    "duration": 17,
    "start_time": "2022-03-21T12:00:36.372Z"
   },
   {
    "duration": 22,
    "start_time": "2022-03-21T12:00:36.887Z"
   },
   {
    "duration": 29,
    "start_time": "2022-03-21T12:00:38.266Z"
   },
   {
    "duration": 5,
    "start_time": "2022-03-21T12:00:40.107Z"
   },
   {
    "duration": 43,
    "start_time": "2022-03-21T12:00:42.939Z"
   },
   {
    "duration": 12,
    "start_time": "2022-03-21T12:02:41.595Z"
   },
   {
    "duration": 1831,
    "start_time": "2022-03-21T12:03:00.344Z"
   },
   {
    "duration": 1813,
    "start_time": "2022-03-21T12:03:13.835Z"
   },
   {
    "duration": 46,
    "start_time": "2022-03-21T12:05:09.632Z"
   },
   {
    "duration": 41,
    "start_time": "2022-03-21T12:05:16.071Z"
   },
   {
    "duration": 1914,
    "start_time": "2022-03-21T12:10:14.071Z"
   },
   {
    "duration": 12,
    "start_time": "2022-03-21T12:10:23.139Z"
   },
   {
    "duration": 11,
    "start_time": "2022-03-21T12:11:06.961Z"
   },
   {
    "duration": 1972,
    "start_time": "2022-03-21T12:14:59.666Z"
   },
   {
    "duration": 2095,
    "start_time": "2022-03-21T12:15:14.566Z"
   },
   {
    "duration": 29,
    "start_time": "2022-03-21T12:15:41.798Z"
   },
   {
    "duration": 10,
    "start_time": "2022-03-21T12:16:16.465Z"
   },
   {
    "duration": 10,
    "start_time": "2022-03-21T12:16:23.190Z"
   },
   {
    "duration": 27,
    "start_time": "2022-03-21T12:16:37.035Z"
   },
   {
    "duration": 28,
    "start_time": "2022-03-21T12:17:20.152Z"
   },
   {
    "duration": 86,
    "start_time": "2022-03-21T12:18:53.339Z"
   },
   {
    "duration": 20,
    "start_time": "2022-03-21T12:19:00.622Z"
   },
   {
    "duration": 27,
    "start_time": "2022-03-21T12:19:59.702Z"
   },
   {
    "duration": 29,
    "start_time": "2022-03-21T12:20:55.693Z"
   },
   {
    "duration": 28,
    "start_time": "2022-03-21T12:21:31.531Z"
   },
   {
    "duration": 30,
    "start_time": "2022-03-21T12:21:40.938Z"
   },
   {
    "duration": 22,
    "start_time": "2022-03-21T12:21:50.898Z"
   },
   {
    "duration": 31,
    "start_time": "2022-03-21T12:22:02.264Z"
   },
   {
    "duration": 31,
    "start_time": "2022-03-21T12:22:17.335Z"
   },
   {
    "duration": 16784,
    "start_time": "2022-03-21T12:23:23.105Z"
   },
   {
    "duration": 15253,
    "start_time": "2022-03-21T13:01:02.111Z"
   },
   {
    "duration": 15799,
    "start_time": "2022-03-21T13:12:55.321Z"
   },
   {
    "duration": 93,
    "start_time": "2022-03-21T13:14:31.202Z"
   },
   {
    "duration": 79,
    "start_time": "2022-03-21T13:14:34.115Z"
   },
   {
    "duration": 44,
    "start_time": "2022-03-21T13:14:48.894Z"
   },
   {
    "duration": 61,
    "start_time": "2022-03-21T13:15:04.184Z"
   },
   {
    "duration": 45,
    "start_time": "2022-03-21T13:19:14.773Z"
   },
   {
    "duration": 39,
    "start_time": "2022-03-21T13:23:22.315Z"
   },
   {
    "duration": 42,
    "start_time": "2022-03-21T13:23:36.549Z"
   },
   {
    "duration": 50,
    "start_time": "2022-03-21T13:23:47.196Z"
   },
   {
    "duration": 70,
    "start_time": "2022-03-21T13:24:02.251Z"
   },
   {
    "duration": 112,
    "start_time": "2022-03-21T13:26:30.885Z"
   },
   {
    "duration": 33,
    "start_time": "2022-03-21T13:26:37.277Z"
   },
   {
    "duration": 23,
    "start_time": "2022-03-21T13:26:40.660Z"
   },
   {
    "duration": 72,
    "start_time": "2022-03-21T13:26:43.236Z"
   },
   {
    "duration": 15,
    "start_time": "2022-03-21T13:26:45.380Z"
   },
   {
    "duration": 10,
    "start_time": "2022-03-21T13:26:49.172Z"
   },
   {
    "duration": 9,
    "start_time": "2022-03-21T13:26:50.724Z"
   },
   {
    "duration": 6,
    "start_time": "2022-03-21T13:26:53.044Z"
   },
   {
    "duration": 12,
    "start_time": "2022-03-21T13:26:55.108Z"
   },
   {
    "duration": 13,
    "start_time": "2022-03-21T13:26:57.773Z"
   },
   {
    "duration": 17,
    "start_time": "2022-03-21T13:27:01.316Z"
   },
   {
    "duration": 17,
    "start_time": "2022-03-21T13:27:03.956Z"
   },
   {
    "duration": 21,
    "start_time": "2022-03-21T13:27:05.748Z"
   },
   {
    "duration": 56,
    "start_time": "2022-03-21T13:27:08.877Z"
   },
   {
    "duration": 14988,
    "start_time": "2022-03-21T13:27:12.493Z"
   },
   {
    "duration": 40,
    "start_time": "2022-03-21T13:27:32.692Z"
   },
   {
    "duration": 70,
    "start_time": "2022-03-21T13:27:59.765Z"
   },
   {
    "duration": 50,
    "start_time": "2022-03-21T13:28:02.692Z"
   },
   {
    "duration": 56,
    "start_time": "2022-03-21T13:28:05.108Z"
   },
   {
    "duration": 45,
    "start_time": "2022-03-21T13:33:26.170Z"
   },
   {
    "duration": 47,
    "start_time": "2022-03-21T13:33:42.969Z"
   },
   {
    "duration": 41,
    "start_time": "2022-03-21T13:35:07.384Z"
   },
   {
    "duration": 6,
    "start_time": "2022-03-21T13:35:28.613Z"
   },
   {
    "duration": 41,
    "start_time": "2022-03-21T13:35:48.312Z"
   },
   {
    "duration": 106,
    "start_time": "2022-03-21T13:36:17.074Z"
   },
   {
    "duration": 81,
    "start_time": "2022-03-21T13:36:44.066Z"
   },
   {
    "duration": 102,
    "start_time": "2022-03-21T13:37:17.489Z"
   },
   {
    "duration": 50,
    "start_time": "2022-03-21T13:37:23.164Z"
   },
   {
    "duration": 115,
    "start_time": "2022-03-21T13:49:11.450Z"
   },
   {
    "duration": 24,
    "start_time": "2022-03-21T13:49:45.334Z"
   },
   {
    "duration": 116,
    "start_time": "2022-03-21T13:49:54.189Z"
   },
   {
    "duration": 35,
    "start_time": "2022-03-21T13:49:57.591Z"
   },
   {
    "duration": 23,
    "start_time": "2022-03-21T13:50:00.142Z"
   },
   {
    "duration": 73,
    "start_time": "2022-03-21T13:50:03.069Z"
   },
   {
    "duration": 16,
    "start_time": "2022-03-21T13:50:06.145Z"
   },
   {
    "duration": 10,
    "start_time": "2022-03-21T13:50:08.733Z"
   },
   {
    "duration": 9,
    "start_time": "2022-03-21T13:50:10.901Z"
   },
   {
    "duration": 5,
    "start_time": "2022-03-21T13:50:13.686Z"
   },
   {
    "duration": 13,
    "start_time": "2022-03-21T13:50:15.509Z"
   },
   {
    "duration": 13,
    "start_time": "2022-03-21T13:50:17.687Z"
   },
   {
    "duration": 17,
    "start_time": "2022-03-21T13:50:20.340Z"
   },
   {
    "duration": 18,
    "start_time": "2022-03-21T13:50:22.746Z"
   },
   {
    "duration": 21,
    "start_time": "2022-03-21T13:50:24.820Z"
   },
   {
    "duration": 24,
    "start_time": "2022-03-21T13:50:27.518Z"
   },
   {
    "duration": 15446,
    "start_time": "2022-03-21T13:50:30.974Z"
   },
   {
    "duration": 46,
    "start_time": "2022-03-21T13:50:50.080Z"
   },
   {
    "duration": 103,
    "start_time": "2022-03-21T13:50:53.430Z"
   },
   {
    "duration": 57,
    "start_time": "2022-03-21T13:50:56.149Z"
   },
   {
    "duration": 56,
    "start_time": "2022-03-21T13:50:59.296Z"
   },
   {
    "duration": 563,
    "start_time": "2022-03-21T17:36:57.128Z"
   },
   {
    "duration": 24,
    "start_time": "2022-03-21T17:37:04.846Z"
   },
   {
    "duration": 14,
    "start_time": "2022-03-21T17:37:11.075Z"
   },
   {
    "duration": 46,
    "start_time": "2022-03-21T17:37:16.333Z"
   },
   {
    "duration": 11,
    "start_time": "2022-03-21T17:37:18.950Z"
   },
   {
    "duration": 14,
    "start_time": "2022-03-21T17:37:23.865Z"
   },
   {
    "duration": 9,
    "start_time": "2022-03-21T17:37:27.430Z"
   },
   {
    "duration": 5,
    "start_time": "2022-03-21T17:37:46.299Z"
   },
   {
    "duration": 13,
    "start_time": "2022-03-21T17:37:49.382Z"
   },
   {
    "duration": 10,
    "start_time": "2022-03-21T17:37:57.269Z"
   },
   {
    "duration": 14,
    "start_time": "2022-03-21T17:38:01.708Z"
   },
   {
    "duration": 17,
    "start_time": "2022-03-21T17:38:09.354Z"
   },
   {
    "duration": 15,
    "start_time": "2022-03-21T17:38:40.343Z"
   },
   {
    "duration": 16,
    "start_time": "2022-03-21T17:38:47.107Z"
   },
   {
    "duration": 9555,
    "start_time": "2022-03-21T17:38:52.547Z"
   },
   {
    "duration": 29,
    "start_time": "2022-03-21T17:39:11.901Z"
   },
   {
    "duration": 41,
    "start_time": "2022-03-21T17:39:19.712Z"
   },
   {
    "duration": 38,
    "start_time": "2022-03-21T17:39:24.653Z"
   },
   {
    "duration": 32,
    "start_time": "2022-03-21T17:39:30.523Z"
   }
  ],
  "kernelspec": {
   "display_name": "Python 3 (ipykernel)",
   "language": "python",
   "name": "python3"
  },
  "language_info": {
   "codemirror_mode": {
    "name": "ipython",
    "version": 3
   },
   "file_extension": ".py",
   "mimetype": "text/x-python",
   "name": "python",
   "nbconvert_exporter": "python",
   "pygments_lexer": "ipython3",
   "version": "3.9.5"
  },
  "toc": {
   "base_numbering": 1,
   "nav_menu": {},
   "number_sections": true,
   "sideBar": true,
   "skip_h1_title": true,
   "title_cell": "Table of Contents",
   "title_sidebar": "Contents",
   "toc_cell": false,
   "toc_position": {},
   "toc_section_display": true,
   "toc_window_display": false
  }
 },
 "nbformat": 4,
 "nbformat_minor": 5
}
