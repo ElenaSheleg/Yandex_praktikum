{
 "cells": [
  {
   "cell_type": "markdown",
   "metadata": {},
   "source": [
    "# Анализ и подготовка плана действий по удержанию клиентов сети фитнес-центров"
   ]
  },
  {
   "cell_type": "markdown",
   "metadata": {},
   "source": [
    "**Описание проекта**\n",
    "\n",
    "Сеть фитнес-центров «Культурист-датасаентист» разрабатывает стратегию взаимодействия с клиентами на основе аналитических данных. Распространённая проблема фитнес-клубов и других сервисов — отток клиентов. Как понять, что клиент больше не с вами? Можно записать в отток тех, кто попросил закрыть договор или удалил аккаунт. Однако клиенты не всегда уходят демонстративно: чаще перестают пользоваться сервисом тихо. Индикаторы оттока зависят от специфики отрасли. Когда пользователь редко, но стабильно закупается в интернет-магазине — не похоже, что он «отвалился». А вот если две недели не заходит на канал с ежедневно обновляемым контентом, дела плохи: подписчик заскучал и, кажется, оставил вас. Для фитнес-центра можно считать, что клиент попал в отток, если за последний месяц ни разу не посетил спортзал. Конечно, не исключено, что он уехал на Бали и по приезде обязательно продолжит ходить на фитнес. Однако чаще бывает наоборот. Если клиент начал новую жизнь с понедельника, немного походил в спортзал, а потом пропал — скорее всего, он не вернётся. Чтобы бороться с оттоком, отдел по работе с клиентами «Культуриста-датасаентиста» перевёл в электронный вид множество клиентских анкет.\n",
    "\n",
    "А именно:\n",
    "\n",
    "- научиться прогнозировать вероятность оттока (на уровне следующего месяца) для каждого клиента;\n",
    "- сформировать типичные портреты пользователей: выделить несколько наиболее ярких групп и охарактеризовать их основные свойства; \n",
    "- проанализировать основные признаки, наиболее сильно влияющие на отток;\n",
    "- сформулировать основные выводы и разработать рекомендации по повышению качества работы с клиентами:\n",
    "   1) выделить целевые группы клиентов;\n",
    "   2) предложить меры по снижению оттока;\n",
    "   3) определить другие особенности взаимодействия с клиентами."
   ]
  },
  {
   "cell_type": "markdown",
   "metadata": {},
   "source": [
    "**Описание данных**\n",
    "\n",
    "Данные клиента за предыдущий до проверки факта оттока месяц:\n",
    "- 'gender' — пол;\n",
    "- 'Near_Location' — проживание или работа в районе, где находится фитнес-центр;\n",
    "- 'Partner' — сотрудник компании-партнёра клуба (сотрудничество с компаниями, чьи сотрудники могут получать скидки на абонемент в таком случае фитнес-центр хранит информацию о работодателе клиента);\n",
    "- Promo_friends — факт первоначальной записи в рамках акции «приведи друга» (использовал промо-код от знакомого при оплате первого абонемента);\n",
    "- 'Phone' — наличие контактного телефона;\n",
    "- 'Age' — возраст;\n",
    "- 'Lifetime' — время с момента первого обращения в фитнес-центр (в месяцах).\n",
    "\n",
    "Информация на основе журнала посещений, покупок и информация о текущем статусе абонемента клиента:\n",
    "- 'Contract_period' — длительность текущего действующего абонемента (месяц, 6 месяцев, год);\n",
    "- 'Month_to_end_contract' — срок до окончания текущего действующего абонемента (в месяцах);\n",
    "- 'Group_visits' — факт посещения групповых занятий;\n",
    "- 'Avg_class_frequency_total' — средняя частота посещений в неделю за все время с начала действия абонемента;\n",
    "- 'Avg_class_frequency_current_month' — средняя частота посещений в неделю за предыдущий месяц;\n",
    "- 'Avg_additional_charges_total' — суммарная выручка от других услуг фитнес-центра: кафе, спорттовары, косметический и массажный салон.\n",
    "\n",
    "'Churn' — факт оттока в текущем месяце."
   ]
  },
  {
   "cell_type": "markdown",
   "metadata": {},
   "source": [
    "## Шаг. Загрузим данные "
   ]
  },
  {
   "cell_type": "code",
   "execution_count": 2,
   "metadata": {},
   "outputs": [],
   "source": [
    "import pandas as pd\n",
    "import seaborn as sns\n",
    "from sklearn.preprocessing import StandardScaler\n",
    "from sklearn.model_selection import train_test_split\n",
    "from sklearn.linear_model import LogisticRegression\n",
    "from sklearn.ensemble import RandomForestClassifier, GradientBoostingClassifier\n",
    "import matplotlib.pyplot as plt\n",
    "from sklearn.metrics import accuracy_score, precision_score, recall_score\n",
    "from scipy.cluster.hierarchy import dendrogram, linkage\n",
    "from sklearn.cluster import KMeans\n",
    "\n",
    "import plotly.express as px\n",
    "from plotly import graph_objects as go\n",
    "import warnings\n",
    "warnings.filterwarnings('ignore')\n"
   ]
  },
  {
   "cell_type": "code",
   "execution_count": 3,
   "metadata": {},
   "outputs": [],
   "source": [
    "gym = pd.read_csv('/datasets/gym_churn.csv', sep=',')"
   ]
  },
  {
   "cell_type": "code",
   "execution_count": 4,
   "metadata": {},
   "outputs": [
    {
     "name": "stdout",
     "output_type": "stream",
     "text": [
      "<class 'pandas.core.frame.DataFrame'>\n",
      "RangeIndex: 4000 entries, 0 to 3999\n",
      "Data columns (total 14 columns):\n",
      " #   Column                             Non-Null Count  Dtype  \n",
      "---  ------                             --------------  -----  \n",
      " 0   gender                             4000 non-null   int64  \n",
      " 1   Near_Location                      4000 non-null   int64  \n",
      " 2   Partner                            4000 non-null   int64  \n",
      " 3   Promo_friends                      4000 non-null   int64  \n",
      " 4   Phone                              4000 non-null   int64  \n",
      " 5   Contract_period                    4000 non-null   int64  \n",
      " 6   Group_visits                       4000 non-null   int64  \n",
      " 7   Age                                4000 non-null   int64  \n",
      " 8   Avg_additional_charges_total       4000 non-null   float64\n",
      " 9   Month_to_end_contract              4000 non-null   float64\n",
      " 10  Lifetime                           4000 non-null   int64  \n",
      " 11  Avg_class_frequency_total          4000 non-null   float64\n",
      " 12  Avg_class_frequency_current_month  4000 non-null   float64\n",
      " 13  Churn                              4000 non-null   int64  \n",
      "dtypes: float64(4), int64(10)\n",
      "memory usage: 437.6 KB\n"
     ]
    }
   ],
   "source": [
    "# посмотрим общую информацию о данных\n",
    "gym.info()"
   ]
  },
  {
   "cell_type": "code",
   "execution_count": 5,
   "metadata": {},
   "outputs": [
    {
     "data": {
      "text/html": [
       "<div>\n",
       "<style scoped>\n",
       "    .dataframe tbody tr th:only-of-type {\n",
       "        vertical-align: middle;\n",
       "    }\n",
       "\n",
       "    .dataframe tbody tr th {\n",
       "        vertical-align: top;\n",
       "    }\n",
       "\n",
       "    .dataframe thead th {\n",
       "        text-align: right;\n",
       "    }\n",
       "</style>\n",
       "<table border=\"1\" class=\"dataframe\">\n",
       "  <thead>\n",
       "    <tr style=\"text-align: right;\">\n",
       "      <th></th>\n",
       "      <th>gender</th>\n",
       "      <th>Near_Location</th>\n",
       "      <th>Partner</th>\n",
       "      <th>Promo_friends</th>\n",
       "      <th>Phone</th>\n",
       "      <th>Contract_period</th>\n",
       "      <th>Group_visits</th>\n",
       "      <th>Age</th>\n",
       "      <th>Avg_additional_charges_total</th>\n",
       "      <th>Month_to_end_contract</th>\n",
       "      <th>Lifetime</th>\n",
       "      <th>Avg_class_frequency_total</th>\n",
       "      <th>Avg_class_frequency_current_month</th>\n",
       "      <th>Churn</th>\n",
       "    </tr>\n",
       "  </thead>\n",
       "  <tbody>\n",
       "    <tr>\n",
       "      <th>0</th>\n",
       "      <td>1</td>\n",
       "      <td>1</td>\n",
       "      <td>1</td>\n",
       "      <td>1</td>\n",
       "      <td>0</td>\n",
       "      <td>6</td>\n",
       "      <td>1</td>\n",
       "      <td>29</td>\n",
       "      <td>14.227470</td>\n",
       "      <td>5.0</td>\n",
       "      <td>3</td>\n",
       "      <td>0.020398</td>\n",
       "      <td>0.000000</td>\n",
       "      <td>0</td>\n",
       "    </tr>\n",
       "    <tr>\n",
       "      <th>1</th>\n",
       "      <td>0</td>\n",
       "      <td>1</td>\n",
       "      <td>0</td>\n",
       "      <td>0</td>\n",
       "      <td>1</td>\n",
       "      <td>12</td>\n",
       "      <td>1</td>\n",
       "      <td>31</td>\n",
       "      <td>113.202938</td>\n",
       "      <td>12.0</td>\n",
       "      <td>7</td>\n",
       "      <td>1.922936</td>\n",
       "      <td>1.910244</td>\n",
       "      <td>0</td>\n",
       "    </tr>\n",
       "    <tr>\n",
       "      <th>2</th>\n",
       "      <td>0</td>\n",
       "      <td>1</td>\n",
       "      <td>1</td>\n",
       "      <td>0</td>\n",
       "      <td>1</td>\n",
       "      <td>1</td>\n",
       "      <td>0</td>\n",
       "      <td>28</td>\n",
       "      <td>129.448479</td>\n",
       "      <td>1.0</td>\n",
       "      <td>2</td>\n",
       "      <td>1.859098</td>\n",
       "      <td>1.736502</td>\n",
       "      <td>0</td>\n",
       "    </tr>\n",
       "    <tr>\n",
       "      <th>3</th>\n",
       "      <td>0</td>\n",
       "      <td>1</td>\n",
       "      <td>1</td>\n",
       "      <td>1</td>\n",
       "      <td>1</td>\n",
       "      <td>12</td>\n",
       "      <td>1</td>\n",
       "      <td>33</td>\n",
       "      <td>62.669863</td>\n",
       "      <td>12.0</td>\n",
       "      <td>2</td>\n",
       "      <td>3.205633</td>\n",
       "      <td>3.357215</td>\n",
       "      <td>0</td>\n",
       "    </tr>\n",
       "    <tr>\n",
       "      <th>4</th>\n",
       "      <td>1</td>\n",
       "      <td>1</td>\n",
       "      <td>1</td>\n",
       "      <td>1</td>\n",
       "      <td>1</td>\n",
       "      <td>1</td>\n",
       "      <td>0</td>\n",
       "      <td>26</td>\n",
       "      <td>198.362265</td>\n",
       "      <td>1.0</td>\n",
       "      <td>3</td>\n",
       "      <td>1.113884</td>\n",
       "      <td>1.120078</td>\n",
       "      <td>0</td>\n",
       "    </tr>\n",
       "  </tbody>\n",
       "</table>\n",
       "</div>"
      ],
      "text/plain": [
       "   gender  Near_Location  Partner  Promo_friends  Phone  Contract_period  \\\n",
       "0       1              1        1              1      0                6   \n",
       "1       0              1        0              0      1               12   \n",
       "2       0              1        1              0      1                1   \n",
       "3       0              1        1              1      1               12   \n",
       "4       1              1        1              1      1                1   \n",
       "\n",
       "   Group_visits  Age  Avg_additional_charges_total  Month_to_end_contract  \\\n",
       "0             1   29                     14.227470                    5.0   \n",
       "1             1   31                    113.202938                   12.0   \n",
       "2             0   28                    129.448479                    1.0   \n",
       "3             1   33                     62.669863                   12.0   \n",
       "4             0   26                    198.362265                    1.0   \n",
       "\n",
       "   Lifetime  Avg_class_frequency_total  Avg_class_frequency_current_month  \\\n",
       "0         3                   0.020398                           0.000000   \n",
       "1         7                   1.922936                           1.910244   \n",
       "2         2                   1.859098                           1.736502   \n",
       "3         2                   3.205633                           3.357215   \n",
       "4         3                   1.113884                           1.120078   \n",
       "\n",
       "   Churn  \n",
       "0      0  \n",
       "1      0  \n",
       "2      0  \n",
       "3      0  \n",
       "4      0  "
      ]
     },
     "execution_count": 5,
     "metadata": {},
     "output_type": "execute_result"
    }
   ],
   "source": [
    "# посмотрим на 5 первых значений\n",
    "gym.head()"
   ]
  },
  {
   "cell_type": "markdown",
   "metadata": {},
   "source": [
    "В датафрейме 14 колонок с записями о клиентах и действиях. Всего 4000 строк в каждом столбце, значит, пропусков нет."
   ]
  },
  {
   "cell_type": "code",
   "execution_count": 6,
   "metadata": {},
   "outputs": [],
   "source": [
    "# приведем названия столбцов датафрейма к нижнему регистру\n",
    "gym.columns = map(str.lower, gym.columns)"
   ]
  },
  {
   "cell_type": "code",
   "execution_count": 7,
   "metadata": {},
   "outputs": [],
   "source": [
    "# заменим тип данных у столбца 'Month_to_end_contract' с float64 на int64\n",
    "gym['month_to_end_contract'] = gym['month_to_end_contract'].astype('int')"
   ]
  },
  {
   "cell_type": "code",
   "execution_count": 8,
   "metadata": {},
   "outputs": [
    {
     "data": {
      "text/plain": [
       "0"
      ]
     },
     "execution_count": 8,
     "metadata": {},
     "output_type": "execute_result"
    }
   ],
   "source": [
    "# проверим на дубликаты\n",
    "gym.duplicated().sum()"
   ]
  },
  {
   "cell_type": "markdown",
   "metadata": {},
   "source": [
    "**Вывод**\n",
    "\n",
    "В датафрейме 14 колонок с записями о клиентах и действиях. Всего 4000 строк в каждом столбце, значит, пропусков нет и дубликатов нет. Название столбцов в датафрейме приведены к нижнему регистру. В 'Month_to_end_contract' тип данных заменен с float64 на int64."
   ]
  },
  {
   "cell_type": "markdown",
   "metadata": {},
   "source": [
    "## Шаг. Проведем исследовательский анализ данных (EDA)"
   ]
  },
  {
   "cell_type": "markdown",
   "metadata": {},
   "source": [
    "### Изучим средние значения и стандартные отклонения методом describe() "
   ]
  },
  {
   "cell_type": "code",
   "execution_count": 9,
   "metadata": {},
   "outputs": [
    {
     "data": {
      "text/html": [
       "<div>\n",
       "<style scoped>\n",
       "    .dataframe tbody tr th:only-of-type {\n",
       "        vertical-align: middle;\n",
       "    }\n",
       "\n",
       "    .dataframe tbody tr th {\n",
       "        vertical-align: top;\n",
       "    }\n",
       "\n",
       "    .dataframe thead th {\n",
       "        text-align: right;\n",
       "    }\n",
       "</style>\n",
       "<table border=\"1\" class=\"dataframe\">\n",
       "  <thead>\n",
       "    <tr style=\"text-align: right;\">\n",
       "      <th></th>\n",
       "      <th>gender</th>\n",
       "      <th>near_location</th>\n",
       "      <th>partner</th>\n",
       "      <th>promo_friends</th>\n",
       "      <th>phone</th>\n",
       "      <th>contract_period</th>\n",
       "      <th>group_visits</th>\n",
       "      <th>age</th>\n",
       "      <th>avg_additional_charges_total</th>\n",
       "      <th>month_to_end_contract</th>\n",
       "      <th>lifetime</th>\n",
       "      <th>avg_class_frequency_total</th>\n",
       "      <th>avg_class_frequency_current_month</th>\n",
       "      <th>churn</th>\n",
       "    </tr>\n",
       "  </thead>\n",
       "  <tbody>\n",
       "    <tr>\n",
       "      <th>count</th>\n",
       "      <td>4000.00</td>\n",
       "      <td>4000.00</td>\n",
       "      <td>4000.00</td>\n",
       "      <td>4000.00</td>\n",
       "      <td>4000.0</td>\n",
       "      <td>4000.00</td>\n",
       "      <td>4000.00</td>\n",
       "      <td>4000.00</td>\n",
       "      <td>4000.00</td>\n",
       "      <td>4000.00</td>\n",
       "      <td>4000.00</td>\n",
       "      <td>4000.00</td>\n",
       "      <td>4000.00</td>\n",
       "      <td>4000.00</td>\n",
       "    </tr>\n",
       "    <tr>\n",
       "      <th>mean</th>\n",
       "      <td>0.51</td>\n",
       "      <td>0.85</td>\n",
       "      <td>0.49</td>\n",
       "      <td>0.31</td>\n",
       "      <td>0.9</td>\n",
       "      <td>4.68</td>\n",
       "      <td>0.41</td>\n",
       "      <td>29.18</td>\n",
       "      <td>146.94</td>\n",
       "      <td>4.32</td>\n",
       "      <td>3.72</td>\n",
       "      <td>1.88</td>\n",
       "      <td>1.77</td>\n",
       "      <td>0.27</td>\n",
       "    </tr>\n",
       "    <tr>\n",
       "      <th>std</th>\n",
       "      <td>0.50</td>\n",
       "      <td>0.36</td>\n",
       "      <td>0.50</td>\n",
       "      <td>0.46</td>\n",
       "      <td>0.3</td>\n",
       "      <td>4.55</td>\n",
       "      <td>0.49</td>\n",
       "      <td>3.26</td>\n",
       "      <td>96.36</td>\n",
       "      <td>4.19</td>\n",
       "      <td>3.75</td>\n",
       "      <td>0.97</td>\n",
       "      <td>1.05</td>\n",
       "      <td>0.44</td>\n",
       "    </tr>\n",
       "    <tr>\n",
       "      <th>min</th>\n",
       "      <td>0.00</td>\n",
       "      <td>0.00</td>\n",
       "      <td>0.00</td>\n",
       "      <td>0.00</td>\n",
       "      <td>0.0</td>\n",
       "      <td>1.00</td>\n",
       "      <td>0.00</td>\n",
       "      <td>18.00</td>\n",
       "      <td>0.15</td>\n",
       "      <td>1.00</td>\n",
       "      <td>0.00</td>\n",
       "      <td>0.00</td>\n",
       "      <td>0.00</td>\n",
       "      <td>0.00</td>\n",
       "    </tr>\n",
       "    <tr>\n",
       "      <th>25%</th>\n",
       "      <td>0.00</td>\n",
       "      <td>1.00</td>\n",
       "      <td>0.00</td>\n",
       "      <td>0.00</td>\n",
       "      <td>1.0</td>\n",
       "      <td>1.00</td>\n",
       "      <td>0.00</td>\n",
       "      <td>27.00</td>\n",
       "      <td>68.87</td>\n",
       "      <td>1.00</td>\n",
       "      <td>1.00</td>\n",
       "      <td>1.18</td>\n",
       "      <td>0.96</td>\n",
       "      <td>0.00</td>\n",
       "    </tr>\n",
       "    <tr>\n",
       "      <th>50%</th>\n",
       "      <td>1.00</td>\n",
       "      <td>1.00</td>\n",
       "      <td>0.00</td>\n",
       "      <td>0.00</td>\n",
       "      <td>1.0</td>\n",
       "      <td>1.00</td>\n",
       "      <td>0.00</td>\n",
       "      <td>29.00</td>\n",
       "      <td>136.22</td>\n",
       "      <td>1.00</td>\n",
       "      <td>3.00</td>\n",
       "      <td>1.83</td>\n",
       "      <td>1.72</td>\n",
       "      <td>0.00</td>\n",
       "    </tr>\n",
       "    <tr>\n",
       "      <th>75%</th>\n",
       "      <td>1.00</td>\n",
       "      <td>1.00</td>\n",
       "      <td>1.00</td>\n",
       "      <td>1.00</td>\n",
       "      <td>1.0</td>\n",
       "      <td>6.00</td>\n",
       "      <td>1.00</td>\n",
       "      <td>31.00</td>\n",
       "      <td>210.95</td>\n",
       "      <td>6.00</td>\n",
       "      <td>5.00</td>\n",
       "      <td>2.54</td>\n",
       "      <td>2.51</td>\n",
       "      <td>1.00</td>\n",
       "    </tr>\n",
       "    <tr>\n",
       "      <th>max</th>\n",
       "      <td>1.00</td>\n",
       "      <td>1.00</td>\n",
       "      <td>1.00</td>\n",
       "      <td>1.00</td>\n",
       "      <td>1.0</td>\n",
       "      <td>12.00</td>\n",
       "      <td>1.00</td>\n",
       "      <td>41.00</td>\n",
       "      <td>552.59</td>\n",
       "      <td>12.00</td>\n",
       "      <td>31.00</td>\n",
       "      <td>6.02</td>\n",
       "      <td>6.15</td>\n",
       "      <td>1.00</td>\n",
       "    </tr>\n",
       "  </tbody>\n",
       "</table>\n",
       "</div>"
      ],
      "text/plain": [
       "        gender  near_location  partner  promo_friends   phone  \\\n",
       "count  4000.00        4000.00  4000.00        4000.00  4000.0   \n",
       "mean      0.51           0.85     0.49           0.31     0.9   \n",
       "std       0.50           0.36     0.50           0.46     0.3   \n",
       "min       0.00           0.00     0.00           0.00     0.0   \n",
       "25%       0.00           1.00     0.00           0.00     1.0   \n",
       "50%       1.00           1.00     0.00           0.00     1.0   \n",
       "75%       1.00           1.00     1.00           1.00     1.0   \n",
       "max       1.00           1.00     1.00           1.00     1.0   \n",
       "\n",
       "       contract_period  group_visits      age  avg_additional_charges_total  \\\n",
       "count          4000.00       4000.00  4000.00                       4000.00   \n",
       "mean              4.68          0.41    29.18                        146.94   \n",
       "std               4.55          0.49     3.26                         96.36   \n",
       "min               1.00          0.00    18.00                          0.15   \n",
       "25%               1.00          0.00    27.00                         68.87   \n",
       "50%               1.00          0.00    29.00                        136.22   \n",
       "75%               6.00          1.00    31.00                        210.95   \n",
       "max              12.00          1.00    41.00                        552.59   \n",
       "\n",
       "       month_to_end_contract  lifetime  avg_class_frequency_total  \\\n",
       "count                4000.00   4000.00                    4000.00   \n",
       "mean                    4.32      3.72                       1.88   \n",
       "std                     4.19      3.75                       0.97   \n",
       "min                     1.00      0.00                       0.00   \n",
       "25%                     1.00      1.00                       1.18   \n",
       "50%                     1.00      3.00                       1.83   \n",
       "75%                     6.00      5.00                       2.54   \n",
       "max                    12.00     31.00                       6.02   \n",
       "\n",
       "       avg_class_frequency_current_month    churn  \n",
       "count                            4000.00  4000.00  \n",
       "mean                                1.77     0.27  \n",
       "std                                 1.05     0.44  \n",
       "min                                 0.00     0.00  \n",
       "25%                                 0.96     0.00  \n",
       "50%                                 1.72     0.00  \n",
       "75%                                 2.51     1.00  \n",
       "max                                 6.15     1.00  "
      ]
     },
     "execution_count": 9,
     "metadata": {},
     "output_type": "execute_result"
    }
   ],
   "source": [
    "# используя метод describe() проверим данные на корректность\n",
    "gym.describe().round(2)"
   ]
  },
  {
   "cell_type": "markdown",
   "metadata": {},
   "source": [
    "**Вывод**\n",
    "\n",
    "В ходе проверки выявлено:\n",
    "    - мужчин и женщин в фитнес-клубе одинаковое количество;\n",
    "    - большинство клиентов проживает вблизи фитнес-центра - 85%;\n",
    "    - почти половина клиентов сотрудники компаний-партнеров;\n",
    "    - 30% приводят друзья;\n",
    "    - 90 % пользователей оставляют свой номер телефона;\n",
    "    - в основном абонемент покупают на 6 месяцев;\n",
    "    - более 41% посещают груповые занятия;\n",
    "    - основной возраст клиентов 29 лет, самому молодому 18 лет, самому старшему 41 год;\n",
    "    - в среднем дополнительные покупки делают на 146 у.е., медианное значение 136 у.е;\n",
    "    - среднее количество месяцев посещения 3,7;\n",
    "    - среднее количество посещений в неделю за все время практически совпадает с количеством за текущий месяц и составляет ~2 посещения в неделю;\n",
    "    - средний отток составляет 27%."
   ]
  },
  {
   "cell_type": "markdown",
   "metadata": {},
   "source": [
    "### Посмотрим на средние значения признаков в двух группах — тех, кто ушел в отток и тех, кто остался методом groupby()"
   ]
  },
  {
   "cell_type": "code",
   "execution_count": 10,
   "metadata": {},
   "outputs": [
    {
     "data": {
      "text/html": [
       "<div>\n",
       "<style scoped>\n",
       "    .dataframe tbody tr th:only-of-type {\n",
       "        vertical-align: middle;\n",
       "    }\n",
       "\n",
       "    .dataframe tbody tr th {\n",
       "        vertical-align: top;\n",
       "    }\n",
       "\n",
       "    .dataframe thead th {\n",
       "        text-align: right;\n",
       "    }\n",
       "</style>\n",
       "<table border=\"1\" class=\"dataframe\">\n",
       "  <thead>\n",
       "    <tr style=\"text-align: right;\">\n",
       "      <th>churn</th>\n",
       "      <th>0</th>\n",
       "      <th>1</th>\n",
       "    </tr>\n",
       "  </thead>\n",
       "  <tbody>\n",
       "    <tr>\n",
       "      <th>gender</th>\n",
       "      <td>0.51</td>\n",
       "      <td>0.51</td>\n",
       "    </tr>\n",
       "    <tr>\n",
       "      <th>near_location</th>\n",
       "      <td>0.87</td>\n",
       "      <td>0.77</td>\n",
       "    </tr>\n",
       "    <tr>\n",
       "      <th>partner</th>\n",
       "      <td>0.53</td>\n",
       "      <td>0.36</td>\n",
       "    </tr>\n",
       "    <tr>\n",
       "      <th>promo_friends</th>\n",
       "      <td>0.35</td>\n",
       "      <td>0.18</td>\n",
       "    </tr>\n",
       "    <tr>\n",
       "      <th>phone</th>\n",
       "      <td>0.90</td>\n",
       "      <td>0.90</td>\n",
       "    </tr>\n",
       "    <tr>\n",
       "      <th>contract_period</th>\n",
       "      <td>5.75</td>\n",
       "      <td>1.73</td>\n",
       "    </tr>\n",
       "    <tr>\n",
       "      <th>group_visits</th>\n",
       "      <td>0.46</td>\n",
       "      <td>0.27</td>\n",
       "    </tr>\n",
       "    <tr>\n",
       "      <th>age</th>\n",
       "      <td>29.98</td>\n",
       "      <td>26.99</td>\n",
       "    </tr>\n",
       "    <tr>\n",
       "      <th>avg_additional_charges_total</th>\n",
       "      <td>158.45</td>\n",
       "      <td>115.08</td>\n",
       "    </tr>\n",
       "    <tr>\n",
       "      <th>month_to_end_contract</th>\n",
       "      <td>5.28</td>\n",
       "      <td>1.66</td>\n",
       "    </tr>\n",
       "    <tr>\n",
       "      <th>lifetime</th>\n",
       "      <td>4.71</td>\n",
       "      <td>0.99</td>\n",
       "    </tr>\n",
       "    <tr>\n",
       "      <th>avg_class_frequency_total</th>\n",
       "      <td>2.02</td>\n",
       "      <td>1.47</td>\n",
       "    </tr>\n",
       "    <tr>\n",
       "      <th>avg_class_frequency_current_month</th>\n",
       "      <td>2.03</td>\n",
       "      <td>1.04</td>\n",
       "    </tr>\n",
       "  </tbody>\n",
       "</table>\n",
       "</div>"
      ],
      "text/plain": [
       "churn                                   0       1\n",
       "gender                               0.51    0.51\n",
       "near_location                        0.87    0.77\n",
       "partner                              0.53    0.36\n",
       "promo_friends                        0.35    0.18\n",
       "phone                                0.90    0.90\n",
       "contract_period                      5.75    1.73\n",
       "group_visits                         0.46    0.27\n",
       "age                                 29.98   26.99\n",
       "avg_additional_charges_total       158.45  115.08\n",
       "month_to_end_contract                5.28    1.66\n",
       "lifetime                             4.71    0.99\n",
       "avg_class_frequency_total            2.02    1.47\n",
       "avg_class_frequency_current_month    2.03    1.04"
      ]
     },
     "execution_count": 10,
     "metadata": {},
     "output_type": "execute_result"
    }
   ],
   "source": [
    "# выведем средние значения и стандартные отклонения всех признаков \n",
    "gym.groupby('churn').mean().round(2).T"
   ]
  },
  {
   "cell_type": "markdown",
   "metadata": {},
   "source": [
    "**Вывод**\n",
    "\n",
    "Среди тех кто остался, больше всего тех, кто рядом живет, сотрудник компании-партнера, пришел с другом/друзьями, давно (около полугода) в клубе\n",
    "посещает групповые занятия, кто постарше, кто больше тратит на доп.услуги (но разница незначительна)\n",
    "у кого до конца абонемента еще полгода\n",
    "у постоянных клиентов (кто давно в клубе)\n",
    "посещает фитнес от 2-х раз в неделю\n",
    "По средним значениями видно: \n",
    "    - распределение по полу примерно равное как для тех кто ушел, так и для тех, кто остался;\n",
    "    - из тех, кто ушел, 77% жили или работали там, где находился фитнес-центр, \n",
    "    - 18% первоначально записывались в рамках акции «приведи друга»;\n",
    "    - признак phone с наличием контактного телефона тоже не отличатся (90%) для обеих групп;\n",
    "    - среди тех, кто ушел, только 27% посещали групповые занятие, а среди тех, кто остался, таких 46%;\n",
    "    - видим, что ушедшие - это люди с небольшим периодом контракта (1-2 месяца), оставшиеся - с большим периодом контракта (5-6 месяцев);\n",
    "    - возраст практически одинаковый для обеих групп (26-30 лет);\n",
    "    - среди ушедших средние траты были примерно 115 у.е, а среди оставшихся - 158 у.е.;\n",
    "    - среди ушедших средний лайфтайм с момента первого обращения в фитнес-центр - меньше месяца;\n",
    "    - средняя частота посещений в неделю за предыдущий месяц у тех, кто остался, больше (2 раза в неделю), чем у тех, кто ушел (1 раз в неделю)."
   ]
  },
  {
   "cell_type": "markdown",
   "metadata": {},
   "source": [
    "### Построим столбчатые гистограммы и распределения признаков для тех, кто ушёл (отток) и тех, кто остался (не попали в отток)"
   ]
  },
  {
   "cell_type": "code",
   "execution_count": 11,
   "metadata": {},
   "outputs": [],
   "source": [
    "# построим столбчатые гистограммы и распределения признаков для тех, кто ушёл и тех, кто остался\n",
    "gym_churn_1 = gym[gym['churn']==1]\n",
    "gym_churn_0 = gym[gym['churn']==0]"
   ]
  },
  {
   "cell_type": "code",
   "execution_count": 12,
   "metadata": {},
   "outputs": [
    {
     "data": {
      "image/png": "[encoded data removed]",
      "text/plain": [
       "<Figure size 432x288 with 1 Axes>"
      ]
     },
     "metadata": {
      "needs_background": "light"
     },
     "output_type": "display_data"
    },
    {
     "data": {
      "image/png": "[encoded data removed]",
      "text/plain": [
       "<Figure size 432x288 with 1 Axes>"
      ]
     },
     "metadata": {
      "needs_background": "light"
     },
     "output_type": "display_data"
    },
    {
     "data": {
      "image/png": "[encoded data removed]",
      "text/plain": [
       "<Figure size 432x288 with 1 Axes>"
      ]
     },
     "metadata": {
      "needs_background": "light"
     },
     "output_type": "display_data"
    },
    {
     "data": {
      "image/png": "[encoded data removed]",
      "text/plain": [
       "<Figure size 432x288 with 1 Axes>"
      ]
     },
     "metadata": {
      "needs_background": "light"
     },
     "output_type": "display_data"
    },
    {
     "data": {
      "image/png": "[encoded data removed]",
      "text/plain": [
       "<Figure size 432x288 with 1 Axes>"
      ]
     },
     "metadata": {
      "needs_background": "light"
     },
     "output_type": "display_data"
    },
    {
     "data": {
      "image/png": "[encoded data removed]",
      "text/plain": [
       "<Figure size 432x288 with 1 Axes>"
      ]
     },
     "metadata": {
      "needs_background": "light"
     },
     "output_type": "display_data"
    },
    {
     "data": {
      "image/png": "[encoded data removed]",
      "text/plain": [
       "<Figure size 432x288 with 1 Axes>"
      ]
     },
     "metadata": {
      "needs_background": "light"
     },
     "output_type": "display_data"
    },
    {
     "data": {
      "image/png": "[encoded data removed]",
      "text/plain": [
       "<Figure size 432x288 with 1 Axes>"
      ]
     },
     "metadata": {
      "needs_background": "light"
     },
     "output_type": "display_data"
    },
    {
     "data": {
      "image/png": "[encoded data removed]",
      "text/plain": [
       "<Figure size 432x288 with 1 Axes>"
      ]
     },
     "metadata": {
      "needs_background": "light"
     },
     "output_type": "display_data"
    },
    {
     "data": {
      "image/png": "[encoded data removed]",
      "text/plain": [
       "<Figure size 432x288 with 1 Axes>"
      ]
     },
     "metadata": {
      "needs_background": "light"
     },
     "output_type": "display_data"
    },
    {
     "data": {
      "image/png": "[encoded data removed]",
      "text/plain": [
       "<Figure size 432x288 with 1 Axes>"
      ]
     },
     "metadata": {
      "needs_background": "light"
     },
     "output_type": "display_data"
    },
    {
     "data": {
      "image/png": "[encoded data removed]",
      "text/plain": [
       "<Figure size 432x288 with 1 Axes>"
      ]
     },
     "metadata": {
      "needs_background": "light"
     },
     "output_type": "display_data"
    },
    {
     "data": {
      "image/png": "[encoded data removed]",
      "text/plain": [
       "<Figure size 432x288 with 1 Axes>"
      ]
     },
     "metadata": {
      "needs_background": "light"
     },
     "output_type": "display_data"
    },
    {
     "data": {
      "image/png": "[encoded data removed]",
      "text/plain": [
       "<Figure size 432x288 with 1 Axes>"
      ]
     },
     "metadata": {
      "needs_background": "light"
     },
     "output_type": "display_data"
    }
   ],
   "source": [
    "for column in gym.columns:\n",
    "    gym.groupby('churn')[column].hist()\n",
    "    plt.title(column)\n",
    "    plt.legend(['Оставшиеся', 'Отток'])\n",
    "    plt.show()\n"
   ]
  },
  {
   "cell_type": "markdown",
   "metadata": {},
   "source": [
    "### Построим  и отобразим матрицу корреляций "
   ]
  },
  {
   "cell_type": "code",
   "execution_count": 13,
   "metadata": {},
   "outputs": [
    {
     "data": {
      "image/png": "[encoded data removed]",
      "text/plain": [
       "<Figure size 1296x648 with 2 Axes>"
      ]
     },
     "metadata": {
      "needs_background": "light"
     },
     "output_type": "display_data"
    }
   ],
   "source": [
    "# корреляционная матрица\n",
    "corr = gym.corr()\n",
    "\n",
    "# нарисуем heatmap\n",
    "plt.figure(figsize=(18, 9))\n",
    "sns.heatmap(corr, annot = True, square = True, cmap=\"PiYG\")\n",
    "plt.title('Матрица корреляций')\n",
    "plt.show()"
   ]
  },
  {
   "cell_type": "markdown",
   "metadata": {},
   "source": [
    "**Вывод**\n",
    "\n",
    "Согласно матрице корреляций почти все признаки слабо коррелируют между собой, кроме 'month_to_end_contract' с 'contract_period' и 'avg_class_frequency_current_month' и 'avg_class_frequency_total'. \n",
    "Длительность текущего действующего абонемента хорошо коррелирует со сроком до окончания текущего действующего абонемента (0.97). Также сильная корреляция между средней частотой посещений в неделю за все время с начала действия абонемента и средней частотой посещений в неделю за предыдущий месяц (0.95).\n",
    "\n",
    "Корелляция послабее (0.45) наблюдается между призаком 'partner' (сотрудник компании-партнёра клуба) и признаком 'promo_friends' (факт первоначальной записи в рамках акции «приведи друга»). Возможно, коллеги по работе рекомендовали клуб другим своим коллегам.\n"
   ]
  },
  {
   "cell_type": "markdown",
   "metadata": {},
   "source": [
    "\n",
    "Не стала удалять дублирующие признаки (gym = gym.drop(columns=['contract_period', 'avg_class_frequency_current_month']), чтобы исключить мультиколлинеарность т.к. на случайный лес это не влияет и у нас основная модель кластеризации, в которой наоборот, чем больше признаков, тем лучше. Поэтому удалять признаки не будем.\n"
   ]
  },
  {
   "cell_type": "markdown",
   "metadata": {},
   "source": [
    "## Шаг. Построим модель прогнозирования оттока пользователей"
   ]
  },
  {
   "cell_type": "markdown",
   "metadata": {},
   "source": [
    "Построим модель бинарной классификации клиентов, где целевой признак — факт оттока клиента в следующем месяце."
   ]
  },
  {
   "cell_type": "markdown",
   "metadata": {},
   "source": [
    "### Разобъем данные на обучающую и валидационную выборки функцией train_test_split()"
   ]
  },
  {
   "cell_type": "code",
   "execution_count": 14,
   "metadata": {},
   "outputs": [],
   "source": [
    "# разделим наши данные на признаки (матрица X) и целевую переменную (y)\n",
    "X = gym.drop(columns=['churn'], axis = 1)\n",
    "y = gym['churn']\n",
    "\n",
    "# разделяем модель на обучающую и валидационную выборку\n",
    "X_train, X_test, y_train, y_test = train_test_split(X, y, test_size=0.2, random_state=0, stratify = y)"
   ]
  },
  {
   "cell_type": "markdown",
   "metadata": {},
   "source": [
    "### Обучим модель на train-выборке двумя способами: моделью логистической регрессией и моделью случайного леса"
   ]
  },
  {
   "cell_type": "code",
   "execution_count": 15,
   "metadata": {},
   "outputs": [
    {
     "name": "stdout",
     "output_type": "stream",
     "text": [
      "Метрики для модели логистической регресии:\n",
      "Accuracy: 0.931\n",
      "Precision: 0.894\n",
      "Recall: 0.840\n"
     ]
    }
   ],
   "source": [
    "# задайте алгоритм для нашей модели\n",
    "model = LogisticRegression(solver = 'liblinear', random_state=0)\n",
    "\n",
    "# обучите модель\n",
    "model.fit(X_train, y_train)\n",
    "\n",
    "# воспользуйтесь уже обученной моделью, чтобы сделать прогнозы\n",
    "\n",
    "predictions = model.predict(X_test)\n",
    "\n",
    "print('Метрики для модели логистической регресии:')\n",
    "print('Accuracy: {:.3f}'.format(accuracy_score(y_test, predictions)))\n",
    "print('Precision: {:.3f}'.format(precision_score(y_test, predictions)))\n",
    "print('Recall: {:.3f}'.format(recall_score(y_test, predictions)))"
   ]
  },
  {
   "cell_type": "code",
   "execution_count": 16,
   "metadata": {},
   "outputs": [
    {
     "name": "stdout",
     "output_type": "stream",
     "text": [
      "Метрики для модели случайного леса:\n",
      "Accuracy: 0.922\n",
      "Precision: 0.875\n",
      "Recall: 0.825\n"
     ]
    }
   ],
   "source": [
    "# зададим алгоритм для новой модели на основе алгоритма случайного леса\n",
    "rf_model = RandomForestClassifier(random_state = 0)\n",
    "\n",
    "# обучим модель случайного леса\n",
    "\n",
    "rf_model.fit(X_train, y_train)\n",
    "# воспользуемся уже обученной моделью, чтобы сделать прогнозы\n",
    "\n",
    "rf_predictions = rf_model.predict(X_test)\n",
    "\n",
    "# выведем все метрики\n",
    "print('Метрики для модели случайного леса:')\n",
    "print('Accuracy: {:.3f}'.format(accuracy_score(y_test, rf_predictions)))\n",
    "print('Precision: {:.3f}'.format(precision_score(y_test, rf_predictions)))\n",
    "print('Recall: {:.3f}'.format(recall_score(y_test, rf_predictions)))"
   ]
  },
  {
   "cell_type": "markdown",
   "metadata": {},
   "source": [
    "**Вывод**\n",
    "\n",
    "Обе модели показывают хорошую долю правильных ответов - 93% на логистичской регрессии и 92% случайным лесом. Доля правильных прогнозов и полнота чуть выше в модели логистической регрессии, следовательно, лучше себя показала логистическая регрессия.\n",
    "    "
   ]
  },
  {
   "cell_type": "markdown",
   "metadata": {},
   "source": [
    "## Шаг. Проведем кластеризацию пользователей без столбца целевого значения"
   ]
  },
  {
   "cell_type": "markdown",
   "metadata": {},
   "source": [
    "### Стандартизируем данные"
   ]
  },
  {
   "cell_type": "code",
   "execution_count": 17,
   "metadata": {},
   "outputs": [],
   "source": [
    "# создадим новый датафрейм, без столбца с оттоком клиентов\n",
    "gym_st = gym.drop('churn', axis=1)\n",
    "\n",
    "# стандартизируем данные\n",
    "sc = StandardScaler()\n",
    "x_sc = sc.fit_transform(gym_st)"
   ]
  },
  {
   "cell_type": "markdown",
   "metadata": {},
   "source": [
    "### Построим матрицу расстояний функцией linkage() на стандартизованной матрице признаков, нарисуем дендрограмму"
   ]
  },
  {
   "cell_type": "code",
   "execution_count": 18,
   "metadata": {},
   "outputs": [],
   "source": [
    "# построим матрицу расстояний функцией linkage()\n",
    "linked = linkage(x_sc, method = 'ward')"
   ]
  },
  {
   "cell_type": "code",
   "execution_count": 19,
   "metadata": {},
   "outputs": [
    {
     "data": {
      "image/png": "[encoded data removed]",
      "text/plain": [
       "<Figure size 1080x720 with 1 Axes>"
      ]
     },
     "metadata": {
      "needs_background": "light"
     },
     "output_type": "display_data"
    }
   ],
   "source": [
    "plt.figure(figsize=(15, 10))  \n",
    "dendrogram(linked, orientation='top')\n",
    "plt.title('Кластеризация пользователей', fontsize=15)\n",
    "plt.show()"
   ]
  },
  {
   "cell_type": "markdown",
   "metadata": {},
   "source": [
    "На основании полученного графика можно выделить 4 кластера. Согласно техническому заданию количество кластеров равно n=5. После определения оптимального числа кластеров можно запустить более быстрый алгоритм K-Means."
   ]
  },
  {
   "cell_type": "markdown",
   "metadata": {},
   "source": [
    "### Обучим модель кластеризации на основании алгоритма K-Means и спрогнозирукм кластеры клиентов"
   ]
  },
  {
   "cell_type": "code",
   "execution_count": 20,
   "metadata": {},
   "outputs": [],
   "source": [
    "# задаём модель k_means с числом кластеров 5\n",
    "km = KMeans(n_clusters = 5, random_state = 0)\n",
    "\n",
    "# прогнозируем кластеры для наблюдений (алгоритм присваивает им номера от 0 до 4)\n",
    "labels = km.fit_predict(x_sc)\n",
    "\n",
    "# сохраняем метки кластера в поле нашего датасета\n",
    "gym['cluster_churn'] = labels"
   ]
  },
  {
   "cell_type": "markdown",
   "metadata": {},
   "source": [
    "### Посмотрим на средние значения признаков для кластеров"
   ]
  },
  {
   "cell_type": "code",
   "execution_count": 21,
   "metadata": {},
   "outputs": [
    {
     "data": {
      "text/html": [
       "<div>\n",
       "<style scoped>\n",
       "    .dataframe tbody tr th:only-of-type {\n",
       "        vertical-align: middle;\n",
       "    }\n",
       "\n",
       "    .dataframe tbody tr th {\n",
       "        vertical-align: top;\n",
       "    }\n",
       "\n",
       "    .dataframe thead th {\n",
       "        text-align: right;\n",
       "    }\n",
       "</style>\n",
       "<table border=\"1\" class=\"dataframe\">\n",
       "  <thead>\n",
       "    <tr style=\"text-align: right;\">\n",
       "      <th>cluster_churn</th>\n",
       "      <th>0</th>\n",
       "      <th>1</th>\n",
       "      <th>2</th>\n",
       "      <th>3</th>\n",
       "      <th>4</th>\n",
       "    </tr>\n",
       "  </thead>\n",
       "  <tbody>\n",
       "    <tr>\n",
       "      <th>gender</th>\n",
       "      <td>0.502970</td>\n",
       "      <td>0.522078</td>\n",
       "      <td>0.495050</td>\n",
       "      <td>0.485737</td>\n",
       "      <td>0.559666</td>\n",
       "    </tr>\n",
       "    <tr>\n",
       "      <th>near_location</th>\n",
       "      <td>0.959406</td>\n",
       "      <td>0.862338</td>\n",
       "      <td>0.000000</td>\n",
       "      <td>1.000000</td>\n",
       "      <td>0.976134</td>\n",
       "    </tr>\n",
       "    <tr>\n",
       "      <th>partner</th>\n",
       "      <td>0.783168</td>\n",
       "      <td>0.470130</td>\n",
       "      <td>0.463366</td>\n",
       "      <td>0.350238</td>\n",
       "      <td>0.356802</td>\n",
       "    </tr>\n",
       "    <tr>\n",
       "      <th>promo_friends</th>\n",
       "      <td>0.574257</td>\n",
       "      <td>0.306494</td>\n",
       "      <td>0.079208</td>\n",
       "      <td>0.240095</td>\n",
       "      <td>0.230310</td>\n",
       "    </tr>\n",
       "    <tr>\n",
       "      <th>phone</th>\n",
       "      <td>1.000000</td>\n",
       "      <td>0.000000</td>\n",
       "      <td>1.000000</td>\n",
       "      <td>1.000000</td>\n",
       "      <td>0.998807</td>\n",
       "    </tr>\n",
       "    <tr>\n",
       "      <th>contract_period</th>\n",
       "      <td>10.889109</td>\n",
       "      <td>4.787013</td>\n",
       "      <td>2.352475</td>\n",
       "      <td>1.948494</td>\n",
       "      <td>2.669451</td>\n",
       "    </tr>\n",
       "    <tr>\n",
       "      <th>group_visits</th>\n",
       "      <td>0.542574</td>\n",
       "      <td>0.425974</td>\n",
       "      <td>0.215842</td>\n",
       "      <td>0.341521</td>\n",
       "      <td>0.473747</td>\n",
       "    </tr>\n",
       "    <tr>\n",
       "      <th>age</th>\n",
       "      <td>29.982178</td>\n",
       "      <td>29.301299</td>\n",
       "      <td>28.477228</td>\n",
       "      <td>28.167987</td>\n",
       "      <td>30.125298</td>\n",
       "    </tr>\n",
       "    <tr>\n",
       "      <th>avg_additional_charges_total</th>\n",
       "      <td>160.761016</td>\n",
       "      <td>143.957664</td>\n",
       "      <td>135.457501</td>\n",
       "      <td>131.622204</td>\n",
       "      <td>161.657905</td>\n",
       "    </tr>\n",
       "    <tr>\n",
       "      <th>month_to_end_contract</th>\n",
       "      <td>9.954455</td>\n",
       "      <td>4.475325</td>\n",
       "      <td>2.198020</td>\n",
       "      <td>1.856577</td>\n",
       "      <td>2.459427</td>\n",
       "    </tr>\n",
       "    <tr>\n",
       "      <th>lifetime</th>\n",
       "      <td>4.736634</td>\n",
       "      <td>3.924675</td>\n",
       "      <td>2.809901</td>\n",
       "      <td>2.440571</td>\n",
       "      <td>4.898568</td>\n",
       "    </tr>\n",
       "    <tr>\n",
       "      <th>avg_class_frequency_total</th>\n",
       "      <td>1.982055</td>\n",
       "      <td>1.847220</td>\n",
       "      <td>1.660461</td>\n",
       "      <td>1.247634</td>\n",
       "      <td>2.852002</td>\n",
       "    </tr>\n",
       "    <tr>\n",
       "      <th>avg_class_frequency_current_month</th>\n",
       "      <td>1.974789</td>\n",
       "      <td>1.716369</td>\n",
       "      <td>1.477324</td>\n",
       "      <td>1.012983</td>\n",
       "      <td>2.850161</td>\n",
       "    </tr>\n",
       "    <tr>\n",
       "      <th>churn</th>\n",
       "      <td>0.027723</td>\n",
       "      <td>0.267532</td>\n",
       "      <td>0.443564</td>\n",
       "      <td>0.514263</td>\n",
       "      <td>0.068019</td>\n",
       "    </tr>\n",
       "  </tbody>\n",
       "</table>\n",
       "</div>"
      ],
      "text/plain": [
       "cluster_churn                               0           1           2  \\\n",
       "gender                               0.502970    0.522078    0.495050   \n",
       "near_location                        0.959406    0.862338    0.000000   \n",
       "partner                              0.783168    0.470130    0.463366   \n",
       "promo_friends                        0.574257    0.306494    0.079208   \n",
       "phone                                1.000000    0.000000    1.000000   \n",
       "contract_period                     10.889109    4.787013    2.352475   \n",
       "group_visits                         0.542574    0.425974    0.215842   \n",
       "age                                 29.982178   29.301299   28.477228   \n",
       "avg_additional_charges_total       160.761016  143.957664  135.457501   \n",
       "month_to_end_contract                9.954455    4.475325    2.198020   \n",
       "lifetime                             4.736634    3.924675    2.809901   \n",
       "avg_class_frequency_total            1.982055    1.847220    1.660461   \n",
       "avg_class_frequency_current_month    1.974789    1.716369    1.477324   \n",
       "churn                                0.027723    0.267532    0.443564   \n",
       "\n",
       "cluster_churn                               3           4  \n",
       "gender                               0.485737    0.559666  \n",
       "near_location                        1.000000    0.976134  \n",
       "partner                              0.350238    0.356802  \n",
       "promo_friends                        0.240095    0.230310  \n",
       "phone                                1.000000    0.998807  \n",
       "contract_period                      1.948494    2.669451  \n",
       "group_visits                         0.341521    0.473747  \n",
       "age                                 28.167987   30.125298  \n",
       "avg_additional_charges_total       131.622204  161.657905  \n",
       "month_to_end_contract                1.856577    2.459427  \n",
       "lifetime                             2.440571    4.898568  \n",
       "avg_class_frequency_total            1.247634    2.852002  \n",
       "avg_class_frequency_current_month    1.012983    2.850161  \n",
       "churn                                0.514263    0.068019  "
      ]
     },
     "execution_count": 21,
     "metadata": {},
     "output_type": "execute_result"
    }
   ],
   "source": [
    "# выводим статистику по средним значениям наших признаков по кластеру\n",
    "gym.groupby('cluster_churn').agg('mean').T"
   ]
  },
  {
   "cell_type": "markdown",
   "metadata": {},
   "source": [
    "**Вывод**\n",
    "\n",
    "После разделения на 5 кластеров можно выявить следующие закономерности:\n",
    "\n",
    "1. В 0 кластере собраны клиенты, которые живут близко к клубу и пришли по акции друзей. Большинство - это сотрудники компании-партнёра клуба. В клуб они ходят около 5 месяцев, на дополнительные услуги тратят довольно много (161 у.е.). Средняя частота посещений в неделю за все время с начала действия абонемента ~ 2 раза в неделю. Отток таких клиентов менее ~1%.\n",
    "\n",
    "2. В 1 кластере собраны клиенты, не оставившие номер телефона. Живут довольно близко к клубу, половина из клиентов - сотрудники компании-партнёра клуба. Отток таких клиенов небольшой, примерно 27%.\n",
    "\n",
    "3. В 2 кластере собраны клиенты, которые живут далеко от клуба, являются сотрудниками компании-партнёра клуба, мало посещают групповые занятия,  в клуб они ходят около 3 месяцев. Отток таких клиентов средний и составляет ~44%\n",
    "\n",
    "4. В 3 кластере собраны клиенты, которые живут близко к клубу, со средней активностью посещают групповые занятия. Средняя частота посещений в неделю за все время с начала действия абонемента ~ 1 раз в неделю. Отток таких клиентов самый значительный и составляет ~52%. . \n",
    "\n",
    "5. В 4 кластере собраны клиенты, которые живут близко к клубу. В клуб ходят около 5 месяцев, на дополнительные услуги тратят довольно много (162 у.е.). Средняя частота посещений в неделю за все время с начала действия абонемента ~ 3 раза в неделю. Отток таких клиентов менее ~1%."
   ]
  },
  {
   "cell_type": "markdown",
   "metadata": {},
   "source": [
    "### Построим графики распределения всех признаков по кластерам"
   ]
  },
  {
   "cell_type": "code",
   "execution_count": 22,
   "metadata": {},
   "outputs": [
    {
     "data": {
      "image/png": "[encoded data removed]",
      "text/plain": [
       "<Figure size 360x360 with 1 Axes>"
      ]
     },
     "metadata": {
      "needs_background": "light"
     },
     "output_type": "display_data"
    },
    {
     "data": {
      "image/png": "[encoded data removed]",
      "text/plain": [
       "<Figure size 360x360 with 1 Axes>"
      ]
     },
     "metadata": {
      "needs_background": "light"
     },
     "output_type": "display_data"
    },
    {
     "data": {
      "image/png": "[encoded data removed]",
      "text/plain": [
       "<Figure size 360x360 with 1 Axes>"
      ]
     },
     "metadata": {
      "needs_background": "light"
     },
     "output_type": "display_data"
    },
    {
     "data": {
      "image/png": "[encoded data removed]",
      "text/plain": [
       "<Figure size 360x360 with 1 Axes>"
      ]
     },
     "metadata": {
      "needs_background": "light"
     },
     "output_type": "display_data"
    },
    {
     "data": {
      "image/png": "[encoded data removed]",
      "text/plain": [
       "<Figure size 360x360 with 1 Axes>"
      ]
     },
     "metadata": {
      "needs_background": "light"
     },
     "output_type": "display_data"
    }
   ],
   "source": [
    "# построим гистограмму для столбцов 'gender', 'near_location', 'partner', 'promo_friends', 'contract_period'\n",
    "for column in ['gender', 'near_location', 'partner', 'promo_friends', 'contract_period']:\n",
    "    plt.figure(figsize=(5, 5))\n",
    "    sns.countplot(x = gym[column], hue='cluster_churn', data=gym)\n",
    "    plt.title(column)\n",
    "    plt.show()"
   ]
  },
  {
   "cell_type": "code",
   "execution_count": 23,
   "metadata": {},
   "outputs": [
    {
     "data": {
      "image/png": "[encoded data removed]",
      "text/plain": [
       "<Figure size 360x288 with 1 Axes>"
      ]
     },
     "metadata": {
      "needs_background": "light"
     },
     "output_type": "display_data"
    },
    {
     "data": {
      "image/png": "[encoded data removed]",
      "text/plain": [
       "<Figure size 360x288 with 1 Axes>"
      ]
     },
     "metadata": {
      "needs_background": "light"
     },
     "output_type": "display_data"
    },
    {
     "data": {
      "image/png": "[encoded data removed]",
      "text/plain": [
       "<Figure size 360x288 with 1 Axes>"
      ]
     },
     "metadata": {
      "needs_background": "light"
     },
     "output_type": "display_data"
    },
    {
     "data": {
      "image/png": "[encoded data removed]",
      "text/plain": [
       "<Figure size 360x288 with 1 Axes>"
      ]
     },
     "metadata": {
      "needs_background": "light"
     },
     "output_type": "display_data"
    },
    {
     "data": {
      "image/png": "[encoded data removed]",
      "text/plain": [
       "<Figure size 360x288 with 1 Axes>"
      ]
     },
     "metadata": {
      "needs_background": "light"
     },
     "output_type": "display_data"
    },
    {
     "data": {
      "image/png": "[encoded data removed]",
      "text/plain": [
       "<Figure size 360x288 with 1 Axes>"
      ]
     },
     "metadata": {
      "needs_background": "light"
     },
     "output_type": "display_data"
    }
   ],
   "source": [
    "# построим “диаграммы размаха” для столбцов 'month_to_end_contract', 'age', 'avg_additional_charges_total', 'lifetime', 'avg_class_frequency_total', 'avg_class_frequency_current_month'\n",
    "for column in ['month_to_end_contract', 'age', 'avg_additional_charges_total', 'lifetime', 'avg_class_frequency_total', 'avg_class_frequency_current_month']:\n",
    "    plt.figure(figsize=(5, 4))\n",
    "    sns.boxplot(x = 'cluster_churn', y = gym[column], data = gym)\n",
    "    plt.show()"
   ]
  },
  {
   "cell_type": "markdown",
   "metadata": {},
   "source": [
    "### **Вывод**\n",
    "\n",
    "**Признак 'gender' (Пол)**:\n",
    "\n",
    "Распределение по полу во всех кластерах практически равное. \n",
    "\n",
    "**Признак 'Near_Location' (проживание или работа в районе, где находится фитнес-центр)**:\n",
    "\n",
    "В кластерах 0, 1, 3, 4 клиенты проживают или работают в районе, где находится фитнес-ценр. Кластер 2 содержит клиентов, которые живут в других районах, то есть, дальше от центра.\n",
    "\n",
    "**Признак 'Partner' (сотрудник компании-партнёра клуба)**:\n",
    "\n",
    "В кластере 0 большая часть клиентов (78%) - сотрудники компании-партнёра клуба. В кластерах 1 и 2 почти половина клиентов - это сотрудники компании-партнёра клуба. В кластере 3 и 4 сосредоточились клиенты, в большинстве своём не являющиеся сотрудниками партнеров клуба.\n",
    "\n",
    "**Признак 'Promo_friends' (факт первоначальной записи в рамках акции «приведи друга»)**:\n",
    "\n",
    "В кластере 1, 2, 3 и 4 содержится информация о клиентах, которые в большинстве своем пришли в клуб не по акции. В кластере 0 находятся клиенты, пришедшие по акции «приведи друга».\n",
    "\n",
    "**Признак 'Phone' (наличие контактного телефона)**:\n",
    "\n",
    "Во всех кластерах, кроме 1, у клиентов есть оставленный номер телефона.\n",
    "\n",
    "**Признак 'Group_visits' (факт посещения групповых занятий)**:\n",
    "\n",
    "Примерно половина клиентов из кластеров 0, 1, 4 посещали групповые занятия. Большинство клиентов из кластера 2, 3 не ходили на групповые занятия.\n",
    "\n",
    "**Признак 'Age' (возраст)**:\n",
    "\n",
    "Во всех кластерах возраст распределен равномеро и находится в районе 28-30 лет.\n",
    "\n",
    "**Признак 'Avg_additional_charges_total' (суммарная выручка от других услуг фитнес-центра)**:\n",
    "\n",
    "Чуть больше трат замечено в кластерах 0 и 4 (среднее в районе 160-163 у.е.), меньше всего трат в кластере 3 (среднее - 132 у.е.).\n",
    "\n",
    "**Признак 'Month_to_end_contract' (срок до окончания текущего действующего абонемента)**:\n",
    "\n",
    "Меньше всего времении до окончания контракта осталось у клиентов из кластера 3(около 2 месяцев), больше всего времени есть у кластера 0 (около 10 месяцев).\n",
    "\n",
    "**Признак 'Lifetime' (время с момента первого обращения в фитнес-центр)**:\n",
    "\n",
    "Среднее время с момента первого обращения в фитнес-центр у кластеров 0, 1, 4 составляет 4-5 месяцев, у клиентов из кластеров 2 и 3, значение меньше - около 3 месяцев.\n",
    "\n",
    "**Признак 'Avg_class_frequency_total' (средняя частота посещений в неделю за все время с начала действия абонемента)**:\n",
    "\n",
    "Самая высокая средняя частота посещений в неделю у кластера 4 (3 раза внеделю), самая низкая - у кластера 3.\n",
    "\n",
    "**Признак 'Churn' (факт оттока в текущем месяце)**:\n",
    "\n",
    "В 1 и 4 кластерах собраны клиенты с меньшим оттоком, в 1 кластере средний отток больше (~ 27%).\n",
    "Самый сильный отток в кластерах 2 и 3 от 44-52%."
   ]
  },
  {
   "cell_type": "markdown",
   "metadata": {},
   "source": [
    "### Посчитаем долю оттока для каждого полученного кластера методом groupby()"
   ]
  },
  {
   "cell_type": "code",
   "execution_count": 24,
   "metadata": {},
   "outputs": [
    {
     "data": {
      "text/plain": [
       "cluster_churn\n",
       "0    0.027723\n",
       "1    0.267532\n",
       "2    0.443564\n",
       "3    0.514263\n",
       "4    0.068019\n",
       "Name: churn, dtype: float64"
      ]
     },
     "metadata": {},
     "output_type": "display_data"
    }
   ],
   "source": [
    "#посчитаем долю оттока\n",
    "churn_share = gym.groupby('cluster_churn')['churn'].agg('sum') / gym.groupby('cluster_churn')['churn'].size()\n",
    "display(churn_share)"
   ]
  },
  {
   "cell_type": "markdown",
   "metadata": {},
   "source": [
    "Кластеры 3 и 4 склонны к оттоку (44 - 52% клентов ушло), кластеры 1 и 2 более надёжны (ушло тменее 1% клиентов)."
   ]
  },
  {
   "cell_type": "markdown",
   "metadata": {},
   "source": [
    "## Вывод"
   ]
  },
  {
   "cell_type": "markdown",
   "metadata": {},
   "source": [
    "Из анализа можно сделать вывод, что для клиентов кластеров с наименьшим оттоком характерно: cредний возраст 30 лет; проживют в районе, где находится фитнес центр; чаще других посещают групповые занятия и покупают услуги фитнес-центра: кафе, спорт-товары, косметический и массажный салон; средняя частота посещений в неделю ~ 2-3 раза; время с момента первого обращения в фитнес-центр ~ 4 - 5 месяцев.\n",
    "\n",
    "На основе проведенного анализа рекомендуется:\n",
    "\n",
    "1. Поддерживать и мотивировать  кластеры, с наименьшим оттоком клиентов:\n",
    "\n",
    "- активная (таргетированная) реклама на клиентов, находящихся в непосредственной близости от фитнес-центра;\n",
    "- привлечение новых клиентов по акции \"приведи друга\";\n",
    "- повышение вовлеченности на групповых занятиях (например внедрениепоощрение их посещения);\n",
    "- проведение бесплатных занятий с выдающими тренерами или победителями международних соревнований по  фитнесу;\n",
    "- организовывать специальные предложения на абонементы длительностью от года, т.к. такие клиенты реже перестают ходить;\n",
    "- расширение программы привлечения сотрудников компаний-партнеров и списка самих партнеров.\n",
    "\n",
    "2. Улучшение и поддержание интерьера клуба и работоспособности тренажеров, чтобы клиентам было так же комфортно заниматься в нем, как раньше.\n",
    "\n",
    "3. Организовать индивидуальный подход к клиентам (заинтересованность их успехами, предложение советов и помощи, чтобы их поддержать)."
   ]
  }
 ],
 "metadata": {
  "ExecuteTimeLog": [
   {
    "duration": 1712,
    "start_time": "2022-07-19T18:27:41.141Z"
   },
   {
    "duration": 81,
    "start_time": "2022-07-19T18:33:00.293Z"
   },
   {
    "duration": 14,
    "start_time": "2022-07-19T18:34:25.167Z"
   },
   {
    "duration": 16,
    "start_time": "2022-07-19T18:35:42.282Z"
   },
   {
    "duration": 4,
    "start_time": "2022-07-19T18:40:29.883Z"
   },
   {
    "duration": 18,
    "start_time": "2022-07-19T18:40:51.310Z"
   },
   {
    "duration": 4,
    "start_time": "2022-07-19T18:41:08.324Z"
   },
   {
    "duration": 4,
    "start_time": "2022-07-19T18:41:32.460Z"
   },
   {
    "duration": 12,
    "start_time": "2022-07-19T18:41:46.068Z"
   },
   {
    "duration": 12,
    "start_time": "2022-07-19T19:43:47.261Z"
   },
   {
    "duration": 51,
    "start_time": "2022-07-19T19:47:32.789Z"
   },
   {
    "duration": 72,
    "start_time": "2022-07-19T19:48:00.539Z"
   },
   {
    "duration": 2121,
    "start_time": "2022-07-20T12:05:42.449Z"
   },
   {
    "duration": 192,
    "start_time": "2022-07-20T12:05:44.572Z"
   },
   {
    "duration": 14,
    "start_time": "2022-07-20T12:05:44.766Z"
   },
   {
    "duration": 20,
    "start_time": "2022-07-20T12:05:44.782Z"
   },
   {
    "duration": 4,
    "start_time": "2022-07-20T12:05:44.835Z"
   },
   {
    "duration": 4,
    "start_time": "2022-07-20T12:05:45.539Z"
   },
   {
    "duration": 9,
    "start_time": "2022-07-20T12:05:46.086Z"
   },
   {
    "duration": 75,
    "start_time": "2022-07-20T12:05:51.383Z"
   },
   {
    "duration": 108,
    "start_time": "2022-07-20T12:05:52.131Z"
   },
   {
    "duration": 2534,
    "start_time": "2022-07-20T18:20:02.486Z"
   },
   {
    "duration": 133,
    "start_time": "2022-07-20T18:20:05.023Z"
   },
   {
    "duration": 13,
    "start_time": "2022-07-20T18:20:05.158Z"
   },
   {
    "duration": 15,
    "start_time": "2022-07-20T18:20:05.173Z"
   },
   {
    "duration": 3,
    "start_time": "2022-07-20T18:20:05.190Z"
   },
   {
    "duration": 7,
    "start_time": "2022-07-20T18:20:05.195Z"
   },
   {
    "duration": 30,
    "start_time": "2022-07-20T18:20:05.203Z"
   },
   {
    "duration": 59,
    "start_time": "2022-07-20T18:20:06.566Z"
   },
   {
    "duration": 22,
    "start_time": "2022-07-20T18:21:07.941Z"
   },
   {
    "duration": 17,
    "start_time": "2022-07-20T18:21:38.616Z"
   },
   {
    "duration": 19,
    "start_time": "2022-07-20T18:27:41.710Z"
   },
   {
    "duration": 3,
    "start_time": "2022-07-20T18:39:18.836Z"
   },
   {
    "duration": 3427,
    "start_time": "2022-07-20T18:42:14.038Z"
   },
   {
    "duration": 3354,
    "start_time": "2022-07-20T18:43:55.263Z"
   },
   {
    "duration": 145,
    "start_time": "2022-07-20T19:08:36.964Z"
   },
   {
    "duration": 11,
    "start_time": "2022-07-20T19:18:38.956Z"
   },
   {
    "duration": 3439,
    "start_time": "2022-07-20T19:19:21.333Z"
   },
   {
    "duration": 6,
    "start_time": "2022-07-20T19:20:09.977Z"
   },
   {
    "duration": 43,
    "start_time": "2022-07-20T19:20:10.844Z"
   },
   {
    "duration": 25,
    "start_time": "2022-07-20T19:20:11.626Z"
   },
   {
    "duration": 41,
    "start_time": "2022-07-20T19:20:12.404Z"
   },
   {
    "duration": 4,
    "start_time": "2022-07-20T19:20:13.346Z"
   },
   {
    "duration": 12,
    "start_time": "2022-07-20T19:20:13.647Z"
   },
   {
    "duration": 27,
    "start_time": "2022-07-20T19:20:13.989Z"
   },
   {
    "duration": 71,
    "start_time": "2022-07-20T19:20:14.968Z"
   },
   {
    "duration": 18,
    "start_time": "2022-07-20T19:20:15.831Z"
   },
   {
    "duration": 3401,
    "start_time": "2022-07-20T19:20:16.860Z"
   },
   {
    "duration": 24,
    "start_time": "2022-07-20T19:20:20.264Z"
   },
   {
    "duration": 1,
    "start_time": "2022-07-20T19:20:20.289Z"
   },
   {
    "duration": 3364,
    "start_time": "2022-07-20T19:20:26.698Z"
   },
   {
    "duration": 955,
    "start_time": "2022-07-20T19:29:00.200Z"
   },
   {
    "duration": 5,
    "start_time": "2022-07-20T19:31:04.252Z"
   },
   {
    "duration": 32,
    "start_time": "2022-07-20T19:31:08.721Z"
   },
   {
    "duration": 13,
    "start_time": "2022-07-20T19:31:09.251Z"
   },
   {
    "duration": 12,
    "start_time": "2022-07-20T19:31:09.822Z"
   },
   {
    "duration": 3,
    "start_time": "2022-07-20T19:31:10.624Z"
   },
   {
    "duration": 4,
    "start_time": "2022-07-20T19:31:11.025Z"
   },
   {
    "duration": 14,
    "start_time": "2022-07-20T19:31:11.604Z"
   },
   {
    "duration": 56,
    "start_time": "2022-07-20T19:31:12.582Z"
   },
   {
    "duration": 17,
    "start_time": "2022-07-20T19:31:13.766Z"
   },
   {
    "duration": 3314,
    "start_time": "2022-07-20T19:31:15.950Z"
   },
   {
    "duration": 20,
    "start_time": "2022-07-20T19:31:19.266Z"
   },
   {
    "duration": 21,
    "start_time": "2022-07-20T19:32:09.671Z"
   },
   {
    "duration": 161,
    "start_time": "2022-07-20T19:33:30.479Z"
   },
   {
    "duration": 3180,
    "start_time": "2022-07-20T19:34:33.487Z"
   },
   {
    "duration": 9,
    "start_time": "2022-07-20T19:34:47.525Z"
   },
   {
    "duration": 3089,
    "start_time": "2022-07-20T19:35:06.152Z"
   },
   {
    "duration": 3524,
    "start_time": "2022-07-20T19:36:06.374Z"
   },
   {
    "duration": 11,
    "start_time": "2022-07-20T19:44:12.066Z"
   },
   {
    "duration": 2242,
    "start_time": "2022-07-20T19:44:43.002Z"
   },
   {
    "duration": 11,
    "start_time": "2022-07-20T19:49:29.514Z"
   },
   {
    "duration": 10,
    "start_time": "2022-07-20T19:49:45.843Z"
   },
   {
    "duration": 12,
    "start_time": "2022-07-20T19:49:59.869Z"
   },
   {
    "duration": 1162,
    "start_time": "2022-07-20T19:51:17.708Z"
   },
   {
    "duration": 100,
    "start_time": "2022-07-20T19:53:26.868Z"
   },
   {
    "duration": 74,
    "start_time": "2022-07-20T19:53:40.214Z"
   },
   {
    "duration": 1636,
    "start_time": "2022-07-21T17:31:31.748Z"
   },
   {
    "duration": 244,
    "start_time": "2022-07-21T17:31:35.124Z"
   },
   {
    "duration": 13,
    "start_time": "2022-07-21T17:31:38.757Z"
   },
   {
    "duration": 14,
    "start_time": "2022-07-21T17:31:39.903Z"
   },
   {
    "duration": 3,
    "start_time": "2022-07-21T17:31:41.474Z"
   },
   {
    "duration": 4,
    "start_time": "2022-07-21T17:31:42.146Z"
   },
   {
    "duration": 9,
    "start_time": "2022-07-21T17:31:42.702Z"
   },
   {
    "duration": 45,
    "start_time": "2022-07-21T17:31:45.407Z"
   },
   {
    "duration": 13,
    "start_time": "2022-07-21T17:31:47.320Z"
   },
   {
    "duration": 7,
    "start_time": "2022-07-21T17:33:29.671Z"
   },
   {
    "duration": 1825,
    "start_time": "2022-07-21T17:33:59.970Z"
   },
   {
    "duration": 1896,
    "start_time": "2022-07-21T17:34:19.235Z"
   },
   {
    "duration": 5,
    "start_time": "2022-07-21T17:40:08.674Z"
   },
   {
    "duration": 121,
    "start_time": "2022-07-21T17:40:09.134Z"
   },
   {
    "duration": 99,
    "start_time": "2022-07-21T17:40:34.302Z"
   },
   {
    "duration": 10,
    "start_time": "2022-07-21T17:40:48.424Z"
   },
   {
    "duration": 2189,
    "start_time": "2022-07-21T17:40:59.611Z"
   },
   {
    "duration": 5,
    "start_time": "2022-07-21T17:46:50.791Z"
   },
   {
    "duration": 2432,
    "start_time": "2022-07-21T17:46:51.687Z"
   },
   {
    "duration": 5,
    "start_time": "2022-07-21T17:48:14.991Z"
   },
   {
    "duration": 2178,
    "start_time": "2022-07-21T17:48:15.739Z"
   },
   {
    "duration": 2,
    "start_time": "2022-07-21T18:04:43.277Z"
   },
   {
    "duration": 1356,
    "start_time": "2022-07-21T18:05:43.046Z"
   },
   {
    "duration": 16,
    "start_time": "2022-07-21T18:07:02.660Z"
   },
   {
    "duration": 1284,
    "start_time": "2022-07-21T18:07:50.188Z"
   },
   {
    "duration": 1311,
    "start_time": "2022-07-21T18:08:08.551Z"
   },
   {
    "duration": 1425,
    "start_time": "2022-07-21T18:10:45.996Z"
   },
   {
    "duration": 1330,
    "start_time": "2022-07-21T18:11:29.469Z"
   },
   {
    "duration": 1409,
    "start_time": "2022-07-21T18:12:05.356Z"
   },
   {
    "duration": 1296,
    "start_time": "2022-07-21T18:12:35.831Z"
   },
   {
    "duration": 1329,
    "start_time": "2022-07-21T18:13:05.927Z"
   },
   {
    "duration": 1370,
    "start_time": "2022-07-21T18:13:20.593Z"
   },
   {
    "duration": 1359,
    "start_time": "2022-07-21T18:13:35.391Z"
   },
   {
    "duration": 1249,
    "start_time": "2022-07-21T18:13:53.704Z"
   },
   {
    "duration": 1264,
    "start_time": "2022-07-21T18:14:07.463Z"
   },
   {
    "duration": 79,
    "start_time": "2022-07-21T18:26:30.750Z"
   },
   {
    "duration": 4,
    "start_time": "2022-07-21T18:27:23.240Z"
   },
   {
    "duration": 6,
    "start_time": "2022-07-21T19:27:57.929Z"
   },
   {
    "duration": 4,
    "start_time": "2022-07-21T19:29:25.412Z"
   },
   {
    "duration": 955,
    "start_time": "2022-07-21T19:29:52.191Z"
   },
   {
    "duration": 3,
    "start_time": "2022-07-21T19:37:22.740Z"
   },
   {
    "duration": 531,
    "start_time": "2022-07-21T19:40:42.526Z"
   },
   {
    "duration": 298,
    "start_time": "2022-07-21T19:41:51.503Z"
   },
   {
    "duration": 7,
    "start_time": "2022-07-21T19:47:13.938Z"
   },
   {
    "duration": 571,
    "start_time": "2022-07-21T19:47:15.182Z"
   },
   {
    "duration": 301,
    "start_time": "2022-07-21T19:47:16.092Z"
   },
   {
    "duration": 310,
    "start_time": "2022-07-21T19:47:25.550Z"
   },
   {
    "duration": 6,
    "start_time": "2022-07-21T19:49:12.068Z"
   },
   {
    "duration": 575,
    "start_time": "2022-07-21T19:49:13.478Z"
   },
   {
    "duration": 297,
    "start_time": "2022-07-21T19:49:16.884Z"
   },
   {
    "duration": 7,
    "start_time": "2022-07-21T19:49:31.487Z"
   },
   {
    "duration": 601,
    "start_time": "2022-07-21T19:49:32.952Z"
   },
   {
    "duration": 293,
    "start_time": "2022-07-21T19:49:37.130Z"
   },
   {
    "duration": 3,
    "start_time": "2022-07-21T19:51:56.141Z"
   },
   {
    "duration": 29,
    "start_time": "2022-07-21T19:51:56.574Z"
   },
   {
    "duration": 10,
    "start_time": "2022-07-21T19:51:57.062Z"
   },
   {
    "duration": 10,
    "start_time": "2022-07-21T19:51:57.537Z"
   },
   {
    "duration": 3,
    "start_time": "2022-07-21T19:51:58.259Z"
   },
   {
    "duration": 3,
    "start_time": "2022-07-21T19:51:58.643Z"
   },
   {
    "duration": 8,
    "start_time": "2022-07-21T19:51:59.015Z"
   },
   {
    "duration": 46,
    "start_time": "2022-07-21T19:52:00.922Z"
   },
   {
    "duration": 13,
    "start_time": "2022-07-21T19:52:02.062Z"
   },
   {
    "duration": 4,
    "start_time": "2022-07-21T19:52:03.003Z"
   },
   {
    "duration": 2197,
    "start_time": "2022-07-21T19:52:03.290Z"
   },
   {
    "duration": 1233,
    "start_time": "2022-07-21T19:52:05.489Z"
   },
   {
    "duration": 5,
    "start_time": "2022-07-21T19:52:06.724Z"
   },
   {
    "duration": 540,
    "start_time": "2022-07-21T19:52:07.217Z"
   },
   {
    "duration": 485,
    "start_time": "2022-07-21T19:52:07.759Z"
   },
   {
    "duration": 73,
    "start_time": "2022-07-21T19:52:08.246Z"
   },
   {
    "duration": 73,
    "start_time": "2022-07-21T19:52:54.521Z"
   },
   {
    "duration": 3,
    "start_time": "2022-07-21T19:53:54.356Z"
   },
   {
    "duration": 1057,
    "start_time": "2022-07-21T19:53:55.018Z"
   },
   {
    "duration": 4,
    "start_time": "2022-07-21T19:54:19.134Z"
   },
   {
    "duration": 3,
    "start_time": "2022-07-21T19:54:25.988Z"
   },
   {
    "duration": 530,
    "start_time": "2022-07-21T19:55:49.323Z"
   },
   {
    "duration": 608,
    "start_time": "2022-07-21T19:57:27.045Z"
   },
   {
    "duration": 335,
    "start_time": "2022-07-21T19:57:29.528Z"
   },
   {
    "duration": 526,
    "start_time": "2022-07-21T20:01:03.432Z"
   },
   {
    "duration": 320,
    "start_time": "2022-07-21T20:01:05.871Z"
   },
   {
    "duration": 4,
    "start_time": "2022-07-21T20:01:33.898Z"
   },
   {
    "duration": 31,
    "start_time": "2022-07-21T20:01:34.222Z"
   },
   {
    "duration": 11,
    "start_time": "2022-07-21T20:01:34.527Z"
   },
   {
    "duration": 11,
    "start_time": "2022-07-21T20:01:34.864Z"
   },
   {
    "duration": 3,
    "start_time": "2022-07-21T20:01:35.436Z"
   },
   {
    "duration": 3,
    "start_time": "2022-07-21T20:01:35.793Z"
   },
   {
    "duration": 12,
    "start_time": "2022-07-21T20:01:36.113Z"
   },
   {
    "duration": 45,
    "start_time": "2022-07-21T20:01:37.266Z"
   },
   {
    "duration": 15,
    "start_time": "2022-07-21T20:01:37.955Z"
   },
   {
    "duration": 5,
    "start_time": "2022-07-21T20:01:38.720Z"
   },
   {
    "duration": 2147,
    "start_time": "2022-07-21T20:01:39.093Z"
   },
   {
    "duration": 1371,
    "start_time": "2022-07-21T20:01:41.242Z"
   },
   {
    "duration": 6,
    "start_time": "2022-07-21T20:01:42.615Z"
   },
   {
    "duration": 600,
    "start_time": "2022-07-21T20:01:43.456Z"
   },
   {
    "duration": 319,
    "start_time": "2022-07-21T20:01:44.153Z"
   },
   {
    "duration": 91,
    "start_time": "2022-07-21T20:01:44.815Z"
   },
   {
    "duration": 7,
    "start_time": "2022-07-21T20:02:44.744Z"
   },
   {
    "duration": 593,
    "start_time": "2022-07-21T20:02:45.868Z"
   },
   {
    "duration": 337,
    "start_time": "2022-07-21T20:02:47.712Z"
   },
   {
    "duration": 4,
    "start_time": "2022-07-21T20:46:35.842Z"
   },
   {
    "duration": 33,
    "start_time": "2022-07-21T20:46:36.148Z"
   },
   {
    "duration": 13,
    "start_time": "2022-07-21T20:46:36.739Z"
   },
   {
    "duration": 16,
    "start_time": "2022-07-21T20:46:37.290Z"
   },
   {
    "duration": 3,
    "start_time": "2022-07-21T20:46:37.905Z"
   },
   {
    "duration": 4,
    "start_time": "2022-07-21T20:46:38.186Z"
   },
   {
    "duration": 11,
    "start_time": "2022-07-21T20:46:38.557Z"
   },
   {
    "duration": 54,
    "start_time": "2022-07-21T20:46:39.696Z"
   },
   {
    "duration": 14,
    "start_time": "2022-07-21T20:46:40.531Z"
   },
   {
    "duration": 5,
    "start_time": "2022-07-21T20:46:41.599Z"
   },
   {
    "duration": 2462,
    "start_time": "2022-07-21T20:46:41.922Z"
   },
   {
    "duration": 1312,
    "start_time": "2022-07-21T20:46:44.385Z"
   },
   {
    "duration": 6,
    "start_time": "2022-07-21T20:46:45.699Z"
   },
   {
    "duration": 558,
    "start_time": "2022-07-21T20:46:49.704Z"
   },
   {
    "duration": 348,
    "start_time": "2022-07-21T20:46:50.487Z"
   },
   {
    "duration": 131,
    "start_time": "2022-07-21T20:46:51.664Z"
   },
   {
    "duration": 317,
    "start_time": "2022-07-21T20:47:11.757Z"
   },
   {
    "duration": 72,
    "start_time": "2022-07-21T20:47:13.103Z"
   },
   {
    "duration": 7,
    "start_time": "2022-07-21T20:48:11.777Z"
   },
   {
    "duration": 417,
    "start_time": "2022-07-21T20:48:13.540Z"
   },
   {
    "duration": 310,
    "start_time": "2022-07-21T20:48:14.315Z"
   },
   {
    "duration": 76,
    "start_time": "2022-07-21T20:48:15.103Z"
   },
   {
    "duration": 311,
    "start_time": "2022-07-21T20:50:06.304Z"
   },
   {
    "duration": 314,
    "start_time": "2022-07-21T20:50:14.962Z"
   },
   {
    "duration": 90,
    "start_time": "2022-07-21T20:56:12.761Z"
   },
   {
    "duration": 364,
    "start_time": "2022-07-21T20:56:20.581Z"
   },
   {
    "duration": 2031,
    "start_time": "2022-07-22T19:18:44.968Z"
   },
   {
    "duration": 145,
    "start_time": "2022-07-22T19:18:47.002Z"
   },
   {
    "duration": 17,
    "start_time": "2022-07-22T19:18:47.149Z"
   },
   {
    "duration": 33,
    "start_time": "2022-07-22T19:18:47.169Z"
   },
   {
    "duration": 4,
    "start_time": "2022-07-22T19:18:47.204Z"
   },
   {
    "duration": 4,
    "start_time": "2022-07-22T19:18:47.494Z"
   },
   {
    "duration": 14,
    "start_time": "2022-07-22T19:18:47.834Z"
   },
   {
    "duration": 79,
    "start_time": "2022-07-22T19:18:49.157Z"
   },
   {
    "duration": 21,
    "start_time": "2022-07-22T19:18:51.075Z"
   },
   {
    "duration": 9,
    "start_time": "2022-07-22T19:18:52.964Z"
   },
   {
    "duration": 3150,
    "start_time": "2022-07-22T19:18:54.336Z"
   },
   {
    "duration": 1962,
    "start_time": "2022-07-22T19:18:57.488Z"
   },
   {
    "duration": 11,
    "start_time": "2022-07-22T19:19:01.629Z"
   },
   {
    "duration": 77,
    "start_time": "2022-07-22T19:19:16.553Z"
   },
   {
    "duration": 437,
    "start_time": "2022-07-22T19:19:17.203Z"
   },
   {
    "duration": 1163,
    "start_time": "2022-07-22T19:35:40.651Z"
   },
   {
    "duration": 3,
    "start_time": "2022-07-22T19:36:25.785Z"
   },
   {
    "duration": 1019,
    "start_time": "2022-07-22T19:38:08.355Z"
   },
   {
    "duration": 13,
    "start_time": "2022-07-22T19:38:13.798Z"
   },
   {
    "duration": 1011,
    "start_time": "2022-07-22T19:38:14.899Z"
   },
   {
    "duration": 173515,
    "start_time": "2022-07-22T19:40:31.485Z"
   },
   {
    "duration": 147389,
    "start_time": "2022-07-22T19:54:01.855Z"
   },
   {
    "duration": 4051,
    "start_time": "2022-07-23T13:07:56.035Z"
   },
   {
    "duration": 261,
    "start_time": "2022-07-23T13:08:00.088Z"
   },
   {
    "duration": 15,
    "start_time": "2022-07-23T13:08:00.350Z"
   },
   {
    "duration": 28,
    "start_time": "2022-07-23T13:08:00.368Z"
   },
   {
    "duration": 4,
    "start_time": "2022-07-23T13:08:00.397Z"
   },
   {
    "duration": 43,
    "start_time": "2022-07-23T13:08:00.403Z"
   },
   {
    "duration": 16,
    "start_time": "2022-07-23T13:08:00.448Z"
   },
   {
    "duration": 66,
    "start_time": "2022-07-23T13:08:00.467Z"
   },
   {
    "duration": 23,
    "start_time": "2022-07-23T13:08:01.357Z"
   },
   {
    "duration": 7,
    "start_time": "2022-07-23T13:08:03.171Z"
   },
   {
    "duration": 3175,
    "start_time": "2022-07-23T13:08:03.493Z"
   },
   {
    "duration": 1980,
    "start_time": "2022-07-23T13:08:06.670Z"
   },
   {
    "duration": 8,
    "start_time": "2022-07-23T13:08:08.652Z"
   },
   {
    "duration": 154,
    "start_time": "2022-07-23T13:08:08.662Z"
   },
   {
    "duration": 524,
    "start_time": "2022-07-23T13:08:08.819Z"
   },
   {
    "duration": 13,
    "start_time": "2022-07-23T13:08:09.346Z"
   },
   {
    "duration": 871,
    "start_time": "2022-07-23T13:08:09.402Z"
   },
   {
    "duration": 143012,
    "start_time": "2022-07-23T13:08:10.276Z"
   },
   {
    "duration": 3,
    "start_time": "2022-07-23T13:17:21.144Z"
   },
   {
    "duration": 1063,
    "start_time": "2022-07-23T13:18:03.391Z"
   },
   {
    "duration": 3,
    "start_time": "2022-07-23T13:19:18.930Z"
   },
   {
    "duration": 25,
    "start_time": "2022-07-23T14:14:57.670Z"
   },
   {
    "duration": 18,
    "start_time": "2022-07-23T14:15:34.956Z"
   },
   {
    "duration": 18,
    "start_time": "2022-07-23T14:21:29.237Z"
   },
   {
    "duration": 23,
    "start_time": "2022-07-23T14:21:37.296Z"
   },
   {
    "duration": 1655,
    "start_time": "2022-07-23T20:30:07.327Z"
   },
   {
    "duration": 71,
    "start_time": "2022-07-23T20:30:09.321Z"
   },
   {
    "duration": 12,
    "start_time": "2022-07-23T20:30:10.284Z"
   },
   {
    "duration": 15,
    "start_time": "2022-07-23T20:30:10.970Z"
   },
   {
    "duration": 3,
    "start_time": "2022-07-23T20:30:12.147Z"
   },
   {
    "duration": 4,
    "start_time": "2022-07-23T20:30:12.652Z"
   },
   {
    "duration": 8,
    "start_time": "2022-07-23T20:30:13.297Z"
   },
   {
    "duration": 52,
    "start_time": "2022-07-23T20:30:15.218Z"
   },
   {
    "duration": 18,
    "start_time": "2022-07-23T20:30:45.057Z"
   },
   {
    "duration": 6,
    "start_time": "2022-07-23T20:31:10.269Z"
   },
   {
    "duration": 2256,
    "start_time": "2022-07-23T20:31:11.152Z"
   },
   {
    "duration": 1562,
    "start_time": "2022-07-23T20:31:14.374Z"
   },
   {
    "duration": 7,
    "start_time": "2022-07-23T20:31:34.514Z"
   },
   {
    "duration": 96,
    "start_time": "2022-07-23T20:31:36.366Z"
   },
   {
    "duration": 323,
    "start_time": "2022-07-23T20:31:37.190Z"
   },
   {
    "duration": 8,
    "start_time": "2022-07-23T20:31:51.776Z"
   },
   {
    "duration": 552,
    "start_time": "2022-07-23T20:31:53.406Z"
   },
   {
    "duration": 106338,
    "start_time": "2022-07-23T20:31:54.160Z"
   },
   {
    "duration": 1563,
    "start_time": "2022-07-23T20:33:40.499Z"
   },
   {
    "duration": 125,
    "start_time": "2022-07-23T20:33:42.064Z"
   },
   {
    "duration": 11,
    "start_time": "2022-07-23T20:36:04.844Z"
   },
   {
    "duration": 1325,
    "start_time": "2022-07-23T20:40:25.245Z"
   },
   {
    "duration": 12,
    "start_time": "2022-07-23T20:40:27.685Z"
   },
   {
    "duration": 13,
    "start_time": "2022-07-23T20:40:33.943Z"
   },
   {
    "duration": 1866,
    "start_time": "2022-07-24T08:45:23.719Z"
   },
   {
    "duration": 128,
    "start_time": "2022-07-24T08:45:25.587Z"
   },
   {
    "duration": 14,
    "start_time": "2022-07-24T08:45:25.717Z"
   },
   {
    "duration": 19,
    "start_time": "2022-07-24T08:45:26.246Z"
   },
   {
    "duration": 4,
    "start_time": "2022-07-24T08:45:27.540Z"
   },
   {
    "duration": 4,
    "start_time": "2022-07-24T08:45:28.174Z"
   },
   {
    "duration": 10,
    "start_time": "2022-07-24T08:45:28.763Z"
   },
   {
    "duration": 58,
    "start_time": "2022-07-24T08:45:31.012Z"
   },
   {
    "duration": 16,
    "start_time": "2022-07-24T08:45:32.847Z"
   },
   {
    "duration": 6,
    "start_time": "2022-07-24T08:45:34.897Z"
   },
   {
    "duration": 2779,
    "start_time": "2022-07-24T08:45:36.046Z"
   },
   {
    "duration": 1882,
    "start_time": "2022-07-24T08:45:38.828Z"
   },
   {
    "duration": 12,
    "start_time": "2022-07-24T08:45:41.813Z"
   },
   {
    "duration": 41,
    "start_time": "2022-07-24T08:45:44.169Z"
   },
   {
    "duration": 416,
    "start_time": "2022-07-24T08:45:45.103Z"
   },
   {
    "duration": 10,
    "start_time": "2022-07-24T08:45:48.035Z"
   },
   {
    "duration": 613,
    "start_time": "2022-07-24T08:45:49.467Z"
   },
   {
    "duration": 126126,
    "start_time": "2022-07-24T08:45:51.020Z"
   },
   {
    "duration": 1423,
    "start_time": "2022-07-24T08:58:07.488Z"
   },
   {
    "duration": 22,
    "start_time": "2022-07-24T08:58:10.342Z"
   },
   {
    "duration": 19,
    "start_time": "2022-07-24T08:59:16.498Z"
   },
   {
    "duration": 20,
    "start_time": "2022-07-24T08:59:20.714Z"
   },
   {
    "duration": 3,
    "start_time": "2022-07-24T09:11:26.291Z"
   },
   {
    "duration": 129,
    "start_time": "2022-07-24T09:11:44.446Z"
   },
   {
    "duration": 23,
    "start_time": "2022-07-24T09:12:24.639Z"
   },
   {
    "duration": 914,
    "start_time": "2022-07-24T09:12:48.244Z"
   },
   {
    "duration": 1274,
    "start_time": "2022-07-24T09:14:42.470Z"
   },
   {
    "duration": 1050,
    "start_time": "2022-07-24T09:14:55.693Z"
   },
   {
    "duration": 1238,
    "start_time": "2022-07-24T09:15:08.520Z"
   },
   {
    "duration": 958,
    "start_time": "2022-07-24T09:15:29.060Z"
   },
   {
    "duration": 1079,
    "start_time": "2022-07-24T09:15:42.947Z"
   },
   {
    "duration": 1037,
    "start_time": "2022-07-24T09:16:21.676Z"
   },
   {
    "duration": 1127,
    "start_time": "2022-07-24T09:16:38.248Z"
   },
   {
    "duration": 1009,
    "start_time": "2022-07-24T09:16:55.144Z"
   },
   {
    "duration": 998,
    "start_time": "2022-07-24T09:53:16.072Z"
   },
   {
    "duration": 937,
    "start_time": "2022-07-24T09:55:05.368Z"
   },
   {
    "duration": 2,
    "start_time": "2022-07-24T11:14:38.705Z"
   },
   {
    "duration": 10,
    "start_time": "2022-07-24T11:15:45.327Z"
   },
   {
    "duration": 71,
    "start_time": "2022-07-24T11:17:48.612Z"
   },
   {
    "duration": 1725,
    "start_time": "2022-07-24T13:09:22.972Z"
   },
   {
    "duration": 32,
    "start_time": "2022-07-24T13:09:24.699Z"
   },
   {
    "duration": 11,
    "start_time": "2022-07-24T13:09:24.733Z"
   },
   {
    "duration": 19,
    "start_time": "2022-07-24T13:09:24.746Z"
   },
   {
    "duration": 3,
    "start_time": "2022-07-24T13:09:24.767Z"
   },
   {
    "duration": 8,
    "start_time": "2022-07-24T13:09:24.772Z"
   },
   {
    "duration": 11,
    "start_time": "2022-07-24T13:09:24.781Z"
   },
   {
    "duration": 58,
    "start_time": "2022-07-24T13:09:24.794Z"
   },
   {
    "duration": 16,
    "start_time": "2022-07-24T13:09:24.854Z"
   },
   {
    "duration": 6,
    "start_time": "2022-07-24T13:09:24.873Z"
   },
   {
    "duration": 2643,
    "start_time": "2022-07-24T13:09:24.880Z"
   },
   {
    "duration": 1516,
    "start_time": "2022-07-24T13:09:27.524Z"
   },
   {
    "duration": 10,
    "start_time": "2022-07-24T13:09:29.042Z"
   },
   {
    "duration": 59,
    "start_time": "2022-07-24T13:09:29.054Z"
   },
   {
    "duration": 546,
    "start_time": "2022-07-24T13:09:29.116Z"
   },
   {
    "duration": 8,
    "start_time": "2022-07-24T13:09:29.664Z"
   },
   {
    "duration": 593,
    "start_time": "2022-07-24T13:09:29.674Z"
   },
   {
    "duration": 115491,
    "start_time": "2022-07-24T13:09:30.269Z"
   },
   {
    "duration": 1347,
    "start_time": "2022-07-24T13:11:25.763Z"
   },
   {
    "duration": 96,
    "start_time": "2022-07-24T13:11:27.112Z"
   },
   {
    "duration": 885,
    "start_time": "2022-07-24T13:11:27.210Z"
   },
   {
    "duration": 1179,
    "start_time": "2022-07-24T13:11:28.096Z"
   },
   {
    "duration": 9,
    "start_time": "2022-07-24T13:11:29.277Z"
   },
   {
    "duration": 77,
    "start_time": "2022-07-24T18:50:45.852Z"
   },
   {
    "duration": 1922,
    "start_time": "2022-07-24T18:51:04.864Z"
   },
   {
    "duration": 133,
    "start_time": "2022-07-24T18:51:06.789Z"
   },
   {
    "duration": 14,
    "start_time": "2022-07-24T18:51:06.924Z"
   },
   {
    "duration": 16,
    "start_time": "2022-07-24T18:51:06.940Z"
   },
   {
    "duration": 7,
    "start_time": "2022-07-24T18:51:08.019Z"
   },
   {
    "duration": 3,
    "start_time": "2022-07-24T18:51:08.531Z"
   },
   {
    "duration": 10,
    "start_time": "2022-07-24T18:51:08.991Z"
   },
   {
    "duration": 58,
    "start_time": "2022-07-24T18:51:10.998Z"
   },
   {
    "duration": 18,
    "start_time": "2022-07-24T18:51:12.734Z"
   },
   {
    "duration": 6,
    "start_time": "2022-07-24T18:51:14.676Z"
   },
   {
    "duration": 2819,
    "start_time": "2022-07-24T18:51:14.922Z"
   },
   {
    "duration": 1847,
    "start_time": "2022-07-24T18:51:17.743Z"
   },
   {
    "duration": 8,
    "start_time": "2022-07-24T18:51:23.149Z"
   },
   {
    "duration": 66,
    "start_time": "2022-07-24T18:51:24.651Z"
   },
   {
    "duration": 419,
    "start_time": "2022-07-24T18:51:25.286Z"
   },
   {
    "duration": 12,
    "start_time": "2022-07-24T18:51:27.684Z"
   },
   {
    "duration": 675,
    "start_time": "2022-07-24T18:51:29.005Z"
   },
   {
    "duration": 130520,
    "start_time": "2022-07-24T18:51:29.682Z"
   },
   {
    "duration": 1066,
    "start_time": "2022-07-24T18:54:58.352Z"
   },
   {
    "duration": 16,
    "start_time": "2022-07-24T18:55:01.466Z"
   },
   {
    "duration": 1011,
    "start_time": "2022-07-24T18:55:11.439Z"
   },
   {
    "duration": 1300,
    "start_time": "2022-07-24T18:55:12.455Z"
   },
   {
    "duration": 21,
    "start_time": "2022-07-24T18:55:15.406Z"
   },
   {
    "duration": 51,
    "start_time": "2022-08-09T20:16:44.399Z"
   },
   {
    "duration": 1712,
    "start_time": "2022-08-09T20:16:54.180Z"
   },
   {
    "duration": 159,
    "start_time": "2022-08-09T20:16:55.894Z"
   },
   {
    "duration": 13,
    "start_time": "2022-08-09T20:16:56.055Z"
   },
   {
    "duration": 19,
    "start_time": "2022-08-09T20:16:56.069Z"
   },
   {
    "duration": 3,
    "start_time": "2022-08-09T20:16:56.089Z"
   },
   {
    "duration": 8,
    "start_time": "2022-08-09T20:16:56.093Z"
   },
   {
    "duration": 8,
    "start_time": "2022-08-09T20:16:56.236Z"
   },
   {
    "duration": 53,
    "start_time": "2022-08-09T20:16:57.410Z"
   },
   {
    "duration": 17,
    "start_time": "2022-08-09T20:16:58.243Z"
   },
   {
    "duration": 6,
    "start_time": "2022-08-09T20:16:59.071Z"
   },
   {
    "duration": 2796,
    "start_time": "2022-08-09T20:16:59.250Z"
   },
   {
    "duration": 1722,
    "start_time": "2022-08-09T20:17:02.049Z"
   },
   {
    "duration": 8,
    "start_time": "2022-08-09T20:17:03.773Z"
   },
   {
    "duration": 40,
    "start_time": "2022-08-09T20:17:03.783Z"
   },
   {
    "duration": 471,
    "start_time": "2022-08-09T20:17:03.895Z"
   },
   {
    "duration": 10,
    "start_time": "2022-08-09T20:17:04.368Z"
   },
   {
    "duration": 630,
    "start_time": "2022-08-09T20:17:04.379Z"
   },
   {
    "duration": 122334,
    "start_time": "2022-08-09T20:17:05.011Z"
   },
   {
    "duration": 1550,
    "start_time": "2022-08-09T20:19:07.348Z"
   },
   {
    "duration": 106,
    "start_time": "2022-08-09T20:19:08.901Z"
   },
   {
    "duration": 1934,
    "start_time": "2022-08-09T20:19:09.009Z"
   },
   {
    "duration": 1451,
    "start_time": "2022-08-09T20:19:10.945Z"
   },
   {
    "duration": 8,
    "start_time": "2022-08-09T20:19:12.398Z"
   }
  ],
  "kernelspec": {
   "display_name": "Python 3 (ipykernel)",
   "language": "python",
   "name": "python3"
  },
  "language_info": {
   "codemirror_mode": {
    "name": "ipython",
    "version": 3
   },
   "file_extension": ".py",
   "mimetype": "text/x-python",
   "name": "python",
   "nbconvert_exporter": "python",
   "pygments_lexer": "ipython3",
   "version": "3.9.5"
  },
  "toc": {
   "base_numbering": 1,
   "nav_menu": {},
   "number_sections": true,
   "sideBar": true,
   "skip_h1_title": true,
   "title_cell": "Table of Contents",
   "title_sidebar": "Contents",
   "toc_cell": false,
   "toc_position": {},
   "toc_section_display": true,
   "toc_window_display": false
  }
 },
 "nbformat": 4,
 "nbformat_minor": 2
}
