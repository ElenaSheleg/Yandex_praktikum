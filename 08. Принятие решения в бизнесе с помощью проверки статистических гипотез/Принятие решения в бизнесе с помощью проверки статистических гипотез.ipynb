{
 "cells": [
  {
   "cell_type": "markdown",
   "metadata": {},
   "source": [
    "# Принятие решения в бизнесе с помощью проверки статистических гипотез"
   ]
  },
  {
   "cell_type": "markdown",
   "metadata": {},
   "source": [
    "**Описание проекта**\n",
    "\n",
    "Аналитику крупного интернет-магазина вместе с отделом маркетинга необходимо подготовить список гипотез для увеличения выручки. Приоритизировать гипотезы, запустить A/B-тест и проанализировать результаты.\n"
   ]
  },
  {
   "cell_type": "markdown",
   "metadata": {},
   "source": [
    "**Часть 1. Приоритизация гипотез**"
   ]
  },
  {
   "cell_type": "markdown",
   "metadata": {},
   "source": [
    "В файле */datasets/hypothesis.csv* 9 гипотез по увеличению выручки интернет-магазина с указанными параметрами **Reach, Impact, Confidence, Effort.**\n",
    "\n",
    "**Задача**\n",
    "\n",
    "- Примените фреймворк ICE для приоритизации гипотез. Отсортируйте их по убыванию приоритета.\n",
    "- Примените фреймворк RICE для приоритизации гипотез. Отсортируйте их по убыванию приоритета.\n",
    "- Укажите, как изменилась приоритизация гипотез при применении RICE вместо ICE. Объясните, почему так произошло."
   ]
  },
  {
   "cell_type": "markdown",
   "metadata": {},
   "source": [
    "**Часть 2. Анализ A/B-теста** "
   ]
  },
  {
   "cell_type": "markdown",
   "metadata": {},
   "source": [
    "Вы провели A/B-тест и получили результаты, которые описаны в файлах /datasets/orders.csv и /datasets/visitors.csv**"
   ]
  },
  {
   "cell_type": "markdown",
   "metadata": {},
   "source": [
    "**Задача:**\n",
    "\n",
    "**Проанализируйте A/B-тест:**\n",
    "\n",
    "- Постройте график кумулятивной выручки по группам. Сделайте выводы и предположения.\n",
    "- Постройте график кумулятивного среднего чека по группам. Сделайте выводы и предположения.\n",
    "- Постройте график относительного изменения кумулятивного среднего чека группы B к группе A. Сделайте выводы и предположения.\n",
    "- Постройте график кумулятивной конверсии по группам. Сделайте выводы и предположения.\n",
    "- Постройте график относительного изменения кумулятивной конверсии группы B к группе A. Сделайте выводы и предположения.\n",
    "- Постройте точечный график количества заказов по пользователям. Сделайте выводы и предположения.\n",
    "- Посчитайте 95-й и 99-й перцентили количества заказов на пользователя. Выберите границу для определения аномальных пользователей.\n",
    "- Постройте точечный график стоимостей заказов. Сделайте выводы и предположения.\n",
    "- Посчитайте 95-й и 99-й перцентили стоимости заказов. Выберите границу для определения аномальных заказов.\n",
    "- Посчитайте статистическую значимость различий в конверсии между группами по «сырым» данным. Сделайте выводы и предположения.\n",
    "- Посчитайте статистическую значимость различий в среднем чеке заказа между группами по «сырым» данным. Сделайте выводы и предположения.\n",
    "- Посчитайте статистическую значимость различий в конверсии между группами по «очищенным» данным. Сделайте выводы и предположения.\n",
    "- Посчитайте статистическую значимость различий в среднем чеке заказа между группами по «очищенным» данным. Сделайте выводы и предположения."
   ]
  },
  {
   "cell_type": "markdown",
   "metadata": {},
   "source": [
    "**Примите решение по результатам теста и объясните его. Варианты решений:**\n",
    "\n",
    "- Остановить тест, зафиксировать победу одной из групп.\n",
    "- Остановить тест, зафиксировать отсутствие различий между группами.\n",
    "- Продолжить тест."
   ]
  },
  {
   "cell_type": "markdown",
   "metadata": {},
   "source": [
    "**Описание данных** \n",
    "\n",
    "Данные для первой части\n",
    "- Файл /datasets/hypothesis.csv. Скачать датасет\n",
    "- Hypothesis — краткое описание гипотезы;\n",
    "- Reach — охват пользователей по 10-балльной шкале;\n",
    "- Impact — влияние на пользователей по 10-балльной шкале;\n",
    "- Confidence — уверенность в гипотезе по 10-балльной шкале;\n",
    "- Efforts — затраты ресурсов на проверку гипотезы по 10-балльной шкале. Чем больше значение Efforts, тем дороже проверка гипотезы.\n",
    "\n",
    "Данные для второй части\n",
    "\n",
    "Файл /datasets/orders.csv. Скачать датасет\n",
    "- transactionId — идентификатор заказа;\n",
    "- visitorId — идентификатор пользователя, совершившего заказ;\n",
    "- date — дата, когда был совершён заказ;\n",
    "- revenue — выручка заказа;\n",
    "- group — группа A/B-теста, в которую попал заказ.\n",
    "\n",
    "Файл /datasets/visitors.csv. Скачать датасет\n",
    "- date — дата;\n",
    "- group — группа A/B-теста;\n",
    "- visitors — количество пользователей в указанную дату в указанной группе A/B-теста"
   ]
  },
  {
   "cell_type": "markdown",
   "metadata": {},
   "source": [
    "## Шаг. Загрузим данные и подготовим их к анализу"
   ]
  },
  {
   "cell_type": "markdown",
   "metadata": {},
   "source": [
    "Путь к файлам:\n",
    "- '/datasets/hypothesis.csv'\n",
    "- '/datasets/orders.csv'\n",
    "- '/datasets/visitors.csv'"
   ]
  },
  {
   "cell_type": "code",
   "execution_count": 1,
   "metadata": {},
   "outputs": [],
   "source": [
    "# импортируем нужные библиотеки\n",
    "from pymystem3 import Mystem\n",
    "import numpy as np\n",
    "import pandas as pd\n",
    "import seaborn as sns\n",
    "from matplotlib import pyplot as plt\n",
    "from IPython.display import display\n",
    "\n",
    "import scipy.stats as stats\n",
    "import datetime as dt"
   ]
  },
  {
   "cell_type": "code",
   "execution_count": 2,
   "metadata": {},
   "outputs": [],
   "source": [
    "# загрузим данные\n",
    "hypothesis, orders, visitors = (\n",
    "    pd.read_csv('/datasets/hypothesis.csv'),  # журнал гипотез\n",
    "    pd.read_csv('/datasets/orders.csv'),  # журнал заказов\n",
    "    pd.read_csv('/datasets/visitors.csv')  # журнал посетителей\n",
    ")"
   ]
  },
  {
   "cell_type": "markdown",
   "metadata": {},
   "source": [
    "###  Изучим и подготовим к анализу данные о гипотезах  (hypothesis)"
   ]
  },
  {
   "cell_type": "code",
   "execution_count": 3,
   "metadata": {},
   "outputs": [
    {
     "name": "stdout",
     "output_type": "stream",
     "text": [
      "<class 'pandas.core.frame.DataFrame'>\n",
      "RangeIndex: 9 entries, 0 to 8\n",
      "Data columns (total 5 columns):\n",
      " #   Column      Non-Null Count  Dtype \n",
      "---  ------      --------------  ----- \n",
      " 0   Hypothesis  9 non-null      object\n",
      " 1   Reach       9 non-null      int64 \n",
      " 2   Impact      9 non-null      int64 \n",
      " 3   Confidence  9 non-null      int64 \n",
      " 4   Efforts     9 non-null      int64 \n",
      "dtypes: int64(4), object(1)\n",
      "memory usage: 488.0+ bytes\n"
     ]
    },
    {
     "data": {
      "text/html": [
       "<div>\n",
       "<style scoped>\n",
       "    .dataframe tbody tr th:only-of-type {\n",
       "        vertical-align: middle;\n",
       "    }\n",
       "\n",
       "    .dataframe tbody tr th {\n",
       "        vertical-align: top;\n",
       "    }\n",
       "\n",
       "    .dataframe thead th {\n",
       "        text-align: right;\n",
       "    }\n",
       "</style>\n",
       "<table border=\"1\" class=\"dataframe\">\n",
       "  <thead>\n",
       "    <tr style=\"text-align: right;\">\n",
       "      <th></th>\n",
       "      <th>Hypothesis</th>\n",
       "      <th>Reach</th>\n",
       "      <th>Impact</th>\n",
       "      <th>Confidence</th>\n",
       "      <th>Efforts</th>\n",
       "    </tr>\n",
       "  </thead>\n",
       "  <tbody>\n",
       "    <tr>\n",
       "      <th>0</th>\n",
       "      <td>Добавить два новых канала привлечения трафика,...</td>\n",
       "      <td>3</td>\n",
       "      <td>10</td>\n",
       "      <td>8</td>\n",
       "      <td>6</td>\n",
       "    </tr>\n",
       "    <tr>\n",
       "      <th>1</th>\n",
       "      <td>Запустить собственную службу доставки, что сок...</td>\n",
       "      <td>2</td>\n",
       "      <td>5</td>\n",
       "      <td>4</td>\n",
       "      <td>10</td>\n",
       "    </tr>\n",
       "    <tr>\n",
       "      <th>2</th>\n",
       "      <td>Добавить блоки рекомендаций товаров на сайт ин...</td>\n",
       "      <td>8</td>\n",
       "      <td>3</td>\n",
       "      <td>7</td>\n",
       "      <td>3</td>\n",
       "    </tr>\n",
       "    <tr>\n",
       "      <th>3</th>\n",
       "      <td>Изменить структура категорий, что увеличит кон...</td>\n",
       "      <td>8</td>\n",
       "      <td>3</td>\n",
       "      <td>3</td>\n",
       "      <td>8</td>\n",
       "    </tr>\n",
       "    <tr>\n",
       "      <th>4</th>\n",
       "      <td>Изменить цвет фона главной страницы, чтобы уве...</td>\n",
       "      <td>3</td>\n",
       "      <td>1</td>\n",
       "      <td>1</td>\n",
       "      <td>1</td>\n",
       "    </tr>\n",
       "    <tr>\n",
       "      <th>5</th>\n",
       "      <td>Добавить страницу отзывов клиентов о магазине,...</td>\n",
       "      <td>3</td>\n",
       "      <td>2</td>\n",
       "      <td>2</td>\n",
       "      <td>3</td>\n",
       "    </tr>\n",
       "    <tr>\n",
       "      <th>6</th>\n",
       "      <td>Показать на главной странице баннеры с актуаль...</td>\n",
       "      <td>5</td>\n",
       "      <td>3</td>\n",
       "      <td>8</td>\n",
       "      <td>3</td>\n",
       "    </tr>\n",
       "    <tr>\n",
       "      <th>7</th>\n",
       "      <td>Добавить форму подписки на все основные страни...</td>\n",
       "      <td>10</td>\n",
       "      <td>7</td>\n",
       "      <td>8</td>\n",
       "      <td>5</td>\n",
       "    </tr>\n",
       "    <tr>\n",
       "      <th>8</th>\n",
       "      <td>Запустить акцию, дающую скидку на товар в день...</td>\n",
       "      <td>1</td>\n",
       "      <td>9</td>\n",
       "      <td>9</td>\n",
       "      <td>5</td>\n",
       "    </tr>\n",
       "  </tbody>\n",
       "</table>\n",
       "</div>"
      ],
      "text/plain": [
       "                                          Hypothesis  Reach  Impact  \\\n",
       "0  Добавить два новых канала привлечения трафика,...      3      10   \n",
       "1  Запустить собственную службу доставки, что сок...      2       5   \n",
       "2  Добавить блоки рекомендаций товаров на сайт ин...      8       3   \n",
       "3  Изменить структура категорий, что увеличит кон...      8       3   \n",
       "4  Изменить цвет фона главной страницы, чтобы уве...      3       1   \n",
       "5  Добавить страницу отзывов клиентов о магазине,...      3       2   \n",
       "6  Показать на главной странице баннеры с актуаль...      5       3   \n",
       "7  Добавить форму подписки на все основные страни...     10       7   \n",
       "8  Запустить акцию, дающую скидку на товар в день...      1       9   \n",
       "\n",
       "   Confidence  Efforts  \n",
       "0           8        6  \n",
       "1           4       10  \n",
       "2           7        3  \n",
       "3           3        8  \n",
       "4           1        1  \n",
       "5           2        3  \n",
       "6           8        3  \n",
       "7           8        5  \n",
       "8           9        5  "
      ]
     },
     "execution_count": 3,
     "metadata": {},
     "output_type": "execute_result"
    }
   ],
   "source": [
    "# изучим информацию о гипотезах\n",
    "hypothesis.info()\n",
    "hypothesis.head(9)"
   ]
  },
  {
   "cell_type": "markdown",
   "metadata": {},
   "source": [
    "Данные корректные, целостные, типы правильные, дубликатов нет - таблица готова к анализу."
   ]
  },
  {
   "cell_type": "markdown",
   "metadata": {},
   "source": [
    "###  Изучим и подготовим к анализу данные о заказах (orders)"
   ]
  },
  {
   "cell_type": "code",
   "execution_count": 4,
   "metadata": {},
   "outputs": [
    {
     "name": "stdout",
     "output_type": "stream",
     "text": [
      "<class 'pandas.core.frame.DataFrame'>\n",
      "RangeIndex: 1197 entries, 0 to 1196\n",
      "Data columns (total 5 columns):\n",
      " #   Column         Non-Null Count  Dtype \n",
      "---  ------         --------------  ----- \n",
      " 0   transactionId  1197 non-null   int64 \n",
      " 1   visitorId      1197 non-null   int64 \n",
      " 2   date           1197 non-null   object\n",
      " 3   revenue        1197 non-null   int64 \n",
      " 4   group          1197 non-null   object\n",
      "dtypes: int64(3), object(2)\n",
      "memory usage: 46.9+ KB\n"
     ]
    },
    {
     "data": {
      "text/html": [
       "<div>\n",
       "<style scoped>\n",
       "    .dataframe tbody tr th:only-of-type {\n",
       "        vertical-align: middle;\n",
       "    }\n",
       "\n",
       "    .dataframe tbody tr th {\n",
       "        vertical-align: top;\n",
       "    }\n",
       "\n",
       "    .dataframe thead th {\n",
       "        text-align: right;\n",
       "    }\n",
       "</style>\n",
       "<table border=\"1\" class=\"dataframe\">\n",
       "  <thead>\n",
       "    <tr style=\"text-align: right;\">\n",
       "      <th></th>\n",
       "      <th>transactionId</th>\n",
       "      <th>visitorId</th>\n",
       "      <th>date</th>\n",
       "      <th>revenue</th>\n",
       "      <th>group</th>\n",
       "    </tr>\n",
       "  </thead>\n",
       "  <tbody>\n",
       "    <tr>\n",
       "      <th>0</th>\n",
       "      <td>3667963787</td>\n",
       "      <td>3312258926</td>\n",
       "      <td>2019-08-15</td>\n",
       "      <td>1650</td>\n",
       "      <td>B</td>\n",
       "    </tr>\n",
       "    <tr>\n",
       "      <th>1</th>\n",
       "      <td>2804400009</td>\n",
       "      <td>3642806036</td>\n",
       "      <td>2019-08-15</td>\n",
       "      <td>730</td>\n",
       "      <td>B</td>\n",
       "    </tr>\n",
       "    <tr>\n",
       "      <th>2</th>\n",
       "      <td>2961555356</td>\n",
       "      <td>4069496402</td>\n",
       "      <td>2019-08-15</td>\n",
       "      <td>400</td>\n",
       "      <td>A</td>\n",
       "    </tr>\n",
       "    <tr>\n",
       "      <th>3</th>\n",
       "      <td>3797467345</td>\n",
       "      <td>1196621759</td>\n",
       "      <td>2019-08-15</td>\n",
       "      <td>9759</td>\n",
       "      <td>B</td>\n",
       "    </tr>\n",
       "    <tr>\n",
       "      <th>4</th>\n",
       "      <td>2282983706</td>\n",
       "      <td>2322279887</td>\n",
       "      <td>2019-08-15</td>\n",
       "      <td>2308</td>\n",
       "      <td>B</td>\n",
       "    </tr>\n",
       "  </tbody>\n",
       "</table>\n",
       "</div>"
      ],
      "text/plain": [
       "   transactionId   visitorId        date  revenue group\n",
       "0     3667963787  3312258926  2019-08-15     1650     B\n",
       "1     2804400009  3642806036  2019-08-15      730     B\n",
       "2     2961555356  4069496402  2019-08-15      400     A\n",
       "3     3797467345  1196621759  2019-08-15     9759     B\n",
       "4     2282983706  2322279887  2019-08-15     2308     B"
      ]
     },
     "execution_count": 4,
     "metadata": {},
     "output_type": "execute_result"
    }
   ],
   "source": [
    "# изучим информацию о заказах\n",
    "orders.info()\n",
    "orders.head()"
   ]
  },
  {
   "cell_type": "code",
   "execution_count": 5,
   "metadata": {},
   "outputs": [],
   "source": [
    "# поменяем тип столбца \"date\" на datetime\n",
    "orders[\"date\"] = orders[\"date\"].map(lambda x: dt.datetime.strptime(x, '%Y-%m-%d'))"
   ]
  },
  {
   "cell_type": "code",
   "execution_count": 6,
   "metadata": {},
   "outputs": [
    {
     "data": {
      "text/html": [
       "<div>\n",
       "<style scoped>\n",
       "    .dataframe tbody tr th:only-of-type {\n",
       "        vertical-align: middle;\n",
       "    }\n",
       "\n",
       "    .dataframe tbody tr th {\n",
       "        vertical-align: top;\n",
       "    }\n",
       "\n",
       "    .dataframe thead th {\n",
       "        text-align: right;\n",
       "    }\n",
       "</style>\n",
       "<table border=\"1\" class=\"dataframe\">\n",
       "  <thead>\n",
       "    <tr style=\"text-align: right;\">\n",
       "      <th></th>\n",
       "      <th>transactionId</th>\n",
       "      <th>visitorId</th>\n",
       "      <th>revenue</th>\n",
       "    </tr>\n",
       "  </thead>\n",
       "  <tbody>\n",
       "    <tr>\n",
       "      <th>count</th>\n",
       "      <td>1.197000e+03</td>\n",
       "      <td>1.197000e+03</td>\n",
       "      <td>1.197000e+03</td>\n",
       "    </tr>\n",
       "    <tr>\n",
       "      <th>mean</th>\n",
       "      <td>2.155621e+09</td>\n",
       "      <td>2.165960e+09</td>\n",
       "      <td>8.348006e+03</td>\n",
       "    </tr>\n",
       "    <tr>\n",
       "      <th>std</th>\n",
       "      <td>1.229085e+09</td>\n",
       "      <td>1.236014e+09</td>\n",
       "      <td>3.919113e+04</td>\n",
       "    </tr>\n",
       "    <tr>\n",
       "      <th>min</th>\n",
       "      <td>1.062393e+06</td>\n",
       "      <td>5.114589e+06</td>\n",
       "      <td>5.000000e+01</td>\n",
       "    </tr>\n",
       "    <tr>\n",
       "      <th>25%</th>\n",
       "      <td>1.166776e+09</td>\n",
       "      <td>1.111826e+09</td>\n",
       "      <td>1.220000e+03</td>\n",
       "    </tr>\n",
       "    <tr>\n",
       "      <th>50%</th>\n",
       "      <td>2.145194e+09</td>\n",
       "      <td>2.217985e+09</td>\n",
       "      <td>2.978000e+03</td>\n",
       "    </tr>\n",
       "    <tr>\n",
       "      <th>75%</th>\n",
       "      <td>3.237740e+09</td>\n",
       "      <td>3.177606e+09</td>\n",
       "      <td>8.290000e+03</td>\n",
       "    </tr>\n",
       "    <tr>\n",
       "      <th>max</th>\n",
       "      <td>4.293856e+09</td>\n",
       "      <td>4.283872e+09</td>\n",
       "      <td>1.294500e+06</td>\n",
       "    </tr>\n",
       "  </tbody>\n",
       "</table>\n",
       "</div>"
      ],
      "text/plain": [
       "       transactionId     visitorId       revenue\n",
       "count   1.197000e+03  1.197000e+03  1.197000e+03\n",
       "mean    2.155621e+09  2.165960e+09  8.348006e+03\n",
       "std     1.229085e+09  1.236014e+09  3.919113e+04\n",
       "min     1.062393e+06  5.114589e+06  5.000000e+01\n",
       "25%     1.166776e+09  1.111826e+09  1.220000e+03\n",
       "50%     2.145194e+09  2.217985e+09  2.978000e+03\n",
       "75%     3.237740e+09  3.177606e+09  8.290000e+03\n",
       "max     4.293856e+09  4.283872e+09  1.294500e+06"
      ]
     },
     "execution_count": 6,
     "metadata": {},
     "output_type": "execute_result"
    }
   ],
   "source": [
    "orders.describe()"
   ]
  },
  {
   "cell_type": "code",
   "execution_count": 7,
   "metadata": {},
   "outputs": [
    {
     "name": "stdout",
     "output_type": "stream",
     "text": [
      "Кол-во дубликатов = 0\n"
     ]
    }
   ],
   "source": [
    "# проверим дубликаты\n",
    "print(\"Кол-во дубликатов =\", orders.duplicated().sum())"
   ]
  },
  {
   "cell_type": "markdown",
   "metadata": {},
   "source": [
    "В процессе предобработки изменен тип столбца \"date\" на datetime. Данные корректные, целостные, типы правильные, дубликатов нет - таблица готова к анализу."
   ]
  },
  {
   "cell_type": "markdown",
   "metadata": {},
   "source": [
    "###  Изучим и подготовим к анализу данные о посетителях (visitors)"
   ]
  },
  {
   "cell_type": "code",
   "execution_count": 8,
   "metadata": {},
   "outputs": [
    {
     "name": "stdout",
     "output_type": "stream",
     "text": [
      "<class 'pandas.core.frame.DataFrame'>\n",
      "RangeIndex: 62 entries, 0 to 61\n",
      "Data columns (total 3 columns):\n",
      " #   Column    Non-Null Count  Dtype \n",
      "---  ------    --------------  ----- \n",
      " 0   date      62 non-null     object\n",
      " 1   group     62 non-null     object\n",
      " 2   visitors  62 non-null     int64 \n",
      "dtypes: int64(1), object(2)\n",
      "memory usage: 1.6+ KB\n"
     ]
    },
    {
     "data": {
      "text/html": [
       "<div>\n",
       "<style scoped>\n",
       "    .dataframe tbody tr th:only-of-type {\n",
       "        vertical-align: middle;\n",
       "    }\n",
       "\n",
       "    .dataframe tbody tr th {\n",
       "        vertical-align: top;\n",
       "    }\n",
       "\n",
       "    .dataframe thead th {\n",
       "        text-align: right;\n",
       "    }\n",
       "</style>\n",
       "<table border=\"1\" class=\"dataframe\">\n",
       "  <thead>\n",
       "    <tr style=\"text-align: right;\">\n",
       "      <th></th>\n",
       "      <th>date</th>\n",
       "      <th>group</th>\n",
       "      <th>visitors</th>\n",
       "    </tr>\n",
       "  </thead>\n",
       "  <tbody>\n",
       "    <tr>\n",
       "      <th>0</th>\n",
       "      <td>2019-08-01</td>\n",
       "      <td>A</td>\n",
       "      <td>719</td>\n",
       "    </tr>\n",
       "    <tr>\n",
       "      <th>1</th>\n",
       "      <td>2019-08-02</td>\n",
       "      <td>A</td>\n",
       "      <td>619</td>\n",
       "    </tr>\n",
       "    <tr>\n",
       "      <th>2</th>\n",
       "      <td>2019-08-03</td>\n",
       "      <td>A</td>\n",
       "      <td>507</td>\n",
       "    </tr>\n",
       "    <tr>\n",
       "      <th>3</th>\n",
       "      <td>2019-08-04</td>\n",
       "      <td>A</td>\n",
       "      <td>717</td>\n",
       "    </tr>\n",
       "    <tr>\n",
       "      <th>4</th>\n",
       "      <td>2019-08-05</td>\n",
       "      <td>A</td>\n",
       "      <td>756</td>\n",
       "    </tr>\n",
       "  </tbody>\n",
       "</table>\n",
       "</div>"
      ],
      "text/plain": [
       "         date group  visitors\n",
       "0  2019-08-01     A       719\n",
       "1  2019-08-02     A       619\n",
       "2  2019-08-03     A       507\n",
       "3  2019-08-04     A       717\n",
       "4  2019-08-05     A       756"
      ]
     },
     "execution_count": 8,
     "metadata": {},
     "output_type": "execute_result"
    }
   ],
   "source": [
    "# изучим информацию о посетителях\n",
    "visitors.info()\n",
    "visitors.head()"
   ]
  },
  {
   "cell_type": "code",
   "execution_count": 9,
   "metadata": {},
   "outputs": [],
   "source": [
    "# поменяем тип столбца \"visitors\" на datetime\n",
    "visitors[\"date\"] = visitors[\"date\"].map(lambda x: dt.datetime.strptime(x, '%Y-%m-%d'))"
   ]
  },
  {
   "cell_type": "code",
   "execution_count": 10,
   "metadata": {},
   "outputs": [
    {
     "data": {
      "text/html": [
       "<div>\n",
       "<style scoped>\n",
       "    .dataframe tbody tr th:only-of-type {\n",
       "        vertical-align: middle;\n",
       "    }\n",
       "\n",
       "    .dataframe tbody tr th {\n",
       "        vertical-align: top;\n",
       "    }\n",
       "\n",
       "    .dataframe thead th {\n",
       "        text-align: right;\n",
       "    }\n",
       "</style>\n",
       "<table border=\"1\" class=\"dataframe\">\n",
       "  <thead>\n",
       "    <tr style=\"text-align: right;\">\n",
       "      <th></th>\n",
       "      <th>visitors</th>\n",
       "    </tr>\n",
       "  </thead>\n",
       "  <tbody>\n",
       "    <tr>\n",
       "      <th>count</th>\n",
       "      <td>62.000000</td>\n",
       "    </tr>\n",
       "    <tr>\n",
       "      <th>mean</th>\n",
       "      <td>607.290323</td>\n",
       "    </tr>\n",
       "    <tr>\n",
       "      <th>std</th>\n",
       "      <td>114.400560</td>\n",
       "    </tr>\n",
       "    <tr>\n",
       "      <th>min</th>\n",
       "      <td>361.000000</td>\n",
       "    </tr>\n",
       "    <tr>\n",
       "      <th>25%</th>\n",
       "      <td>534.000000</td>\n",
       "    </tr>\n",
       "    <tr>\n",
       "      <th>50%</th>\n",
       "      <td>624.500000</td>\n",
       "    </tr>\n",
       "    <tr>\n",
       "      <th>75%</th>\n",
       "      <td>710.500000</td>\n",
       "    </tr>\n",
       "    <tr>\n",
       "      <th>max</th>\n",
       "      <td>770.000000</td>\n",
       "    </tr>\n",
       "  </tbody>\n",
       "</table>\n",
       "</div>"
      ],
      "text/plain": [
       "         visitors\n",
       "count   62.000000\n",
       "mean   607.290323\n",
       "std    114.400560\n",
       "min    361.000000\n",
       "25%    534.000000\n",
       "50%    624.500000\n",
       "75%    710.500000\n",
       "max    770.000000"
      ]
     },
     "execution_count": 10,
     "metadata": {},
     "output_type": "execute_result"
    }
   ],
   "source": [
    "visitors.describe()"
   ]
  },
  {
   "cell_type": "code",
   "execution_count": 11,
   "metadata": {},
   "outputs": [
    {
     "name": "stdout",
     "output_type": "stream",
     "text": [
      "Кол-во дубликатов = 0\n"
     ]
    }
   ],
   "source": [
    "# проверим дубликаты\n",
    "print(\"Кол-во дубликатов =\",visitors.duplicated().sum())"
   ]
  },
  {
   "cell_type": "markdown",
   "metadata": {},
   "source": [
    "В процессе предобработки изменен тип столбца \"date\" на datetime. Данные корректные, целостные, типы правильные, дубликатов нет - таблица готова к анализу."
   ]
  },
  {
   "cell_type": "markdown",
   "metadata": {},
   "source": [
    "## Шаг.  Приоритизация гипотез"
   ]
  },
  {
   "cell_type": "markdown",
   "metadata": {},
   "source": [
    "- Примените фреймворк ICE для приоритизации гипотез. Отсортируйте их по убыванию приоритета.\n",
    "- Примените фреймворк RICE для приоритизации гипотез. Отсортируйте их по убыванию приоритета.\n",
    "- Укажите, как изменилась приоритизация гипотез при применении RICE вместо ICE. Объясните, почему так произошло."
   ]
  },
  {
   "cell_type": "code",
   "execution_count": 12,
   "metadata": {},
   "outputs": [
    {
     "data": {
      "text/html": [
       "<div>\n",
       "<style scoped>\n",
       "    .dataframe tbody tr th:only-of-type {\n",
       "        vertical-align: middle;\n",
       "    }\n",
       "\n",
       "    .dataframe tbody tr th {\n",
       "        vertical-align: top;\n",
       "    }\n",
       "\n",
       "    .dataframe thead th {\n",
       "        text-align: right;\n",
       "    }\n",
       "</style>\n",
       "<table border=\"1\" class=\"dataframe\">\n",
       "  <thead>\n",
       "    <tr style=\"text-align: right;\">\n",
       "      <th></th>\n",
       "      <th>Hypothesis</th>\n",
       "      <th>Reach</th>\n",
       "      <th>Impact</th>\n",
       "      <th>Confidence</th>\n",
       "      <th>Efforts</th>\n",
       "    </tr>\n",
       "  </thead>\n",
       "  <tbody>\n",
       "    <tr>\n",
       "      <th>0</th>\n",
       "      <td>Добавить два новых канала привлечения трафика,...</td>\n",
       "      <td>3</td>\n",
       "      <td>10</td>\n",
       "      <td>8</td>\n",
       "      <td>6</td>\n",
       "    </tr>\n",
       "    <tr>\n",
       "      <th>1</th>\n",
       "      <td>Запустить собственную службу доставки, что сок...</td>\n",
       "      <td>2</td>\n",
       "      <td>5</td>\n",
       "      <td>4</td>\n",
       "      <td>10</td>\n",
       "    </tr>\n",
       "    <tr>\n",
       "      <th>2</th>\n",
       "      <td>Добавить блоки рекомендаций товаров на сайт ин...</td>\n",
       "      <td>8</td>\n",
       "      <td>3</td>\n",
       "      <td>7</td>\n",
       "      <td>3</td>\n",
       "    </tr>\n",
       "    <tr>\n",
       "      <th>3</th>\n",
       "      <td>Изменить структура категорий, что увеличит кон...</td>\n",
       "      <td>8</td>\n",
       "      <td>3</td>\n",
       "      <td>3</td>\n",
       "      <td>8</td>\n",
       "    </tr>\n",
       "    <tr>\n",
       "      <th>4</th>\n",
       "      <td>Изменить цвет фона главной страницы, чтобы уве...</td>\n",
       "      <td>3</td>\n",
       "      <td>1</td>\n",
       "      <td>1</td>\n",
       "      <td>1</td>\n",
       "    </tr>\n",
       "    <tr>\n",
       "      <th>5</th>\n",
       "      <td>Добавить страницу отзывов клиентов о магазине,...</td>\n",
       "      <td>3</td>\n",
       "      <td>2</td>\n",
       "      <td>2</td>\n",
       "      <td>3</td>\n",
       "    </tr>\n",
       "    <tr>\n",
       "      <th>6</th>\n",
       "      <td>Показать на главной странице баннеры с актуаль...</td>\n",
       "      <td>5</td>\n",
       "      <td>3</td>\n",
       "      <td>8</td>\n",
       "      <td>3</td>\n",
       "    </tr>\n",
       "    <tr>\n",
       "      <th>7</th>\n",
       "      <td>Добавить форму подписки на все основные страни...</td>\n",
       "      <td>10</td>\n",
       "      <td>7</td>\n",
       "      <td>8</td>\n",
       "      <td>5</td>\n",
       "    </tr>\n",
       "    <tr>\n",
       "      <th>8</th>\n",
       "      <td>Запустить акцию, дающую скидку на товар в день...</td>\n",
       "      <td>1</td>\n",
       "      <td>9</td>\n",
       "      <td>9</td>\n",
       "      <td>5</td>\n",
       "    </tr>\n",
       "  </tbody>\n",
       "</table>\n",
       "</div>"
      ],
      "text/plain": [
       "                                          Hypothesis  Reach  Impact  \\\n",
       "0  Добавить два новых канала привлечения трафика,...      3      10   \n",
       "1  Запустить собственную службу доставки, что сок...      2       5   \n",
       "2  Добавить блоки рекомендаций товаров на сайт ин...      8       3   \n",
       "3  Изменить структура категорий, что увеличит кон...      8       3   \n",
       "4  Изменить цвет фона главной страницы, чтобы уве...      3       1   \n",
       "5  Добавить страницу отзывов клиентов о магазине,...      3       2   \n",
       "6  Показать на главной странице баннеры с актуаль...      5       3   \n",
       "7  Добавить форму подписки на все основные страни...     10       7   \n",
       "8  Запустить акцию, дающую скидку на товар в день...      1       9   \n",
       "\n",
       "   Confidence  Efforts  \n",
       "0           8        6  \n",
       "1           4       10  \n",
       "2           7        3  \n",
       "3           3        8  \n",
       "4           1        1  \n",
       "5           2        3  \n",
       "6           8        3  \n",
       "7           8        5  \n",
       "8           9        5  "
      ]
     },
     "execution_count": 12,
     "metadata": {},
     "output_type": "execute_result"
    }
   ],
   "source": [
    "hypothesis"
   ]
  },
  {
   "cell_type": "code",
   "execution_count": 13,
   "metadata": {},
   "outputs": [],
   "source": [
    "# применим фреймворк ICE для приоритизации гипотез, значение округлим до десятых\n",
    "hypothesis['ICE'] = ((hypothesis['Impact'] * hypothesis['Confidence']) / hypothesis['Efforts']).round(1)"
   ]
  },
  {
   "cell_type": "code",
   "execution_count": 14,
   "metadata": {},
   "outputs": [
    {
     "data": {
      "text/html": [
       "<div>\n",
       "<style scoped>\n",
       "    .dataframe tbody tr th:only-of-type {\n",
       "        vertical-align: middle;\n",
       "    }\n",
       "\n",
       "    .dataframe tbody tr th {\n",
       "        vertical-align: top;\n",
       "    }\n",
       "\n",
       "    .dataframe thead th {\n",
       "        text-align: right;\n",
       "    }\n",
       "</style>\n",
       "<table border=\"1\" class=\"dataframe\">\n",
       "  <thead>\n",
       "    <tr style=\"text-align: right;\">\n",
       "      <th></th>\n",
       "      <th>ICE</th>\n",
       "      <th>Hypothesis</th>\n",
       "    </tr>\n",
       "  </thead>\n",
       "  <tbody>\n",
       "    <tr>\n",
       "      <th>8</th>\n",
       "      <td>16.2</td>\n",
       "      <td>Запустить акцию, дающую скидку на товар в день...</td>\n",
       "    </tr>\n",
       "    <tr>\n",
       "      <th>0</th>\n",
       "      <td>13.3</td>\n",
       "      <td>Добавить два новых канала привлечения трафика,...</td>\n",
       "    </tr>\n",
       "    <tr>\n",
       "      <th>7</th>\n",
       "      <td>11.2</td>\n",
       "      <td>Добавить форму подписки на все основные страни...</td>\n",
       "    </tr>\n",
       "    <tr>\n",
       "      <th>6</th>\n",
       "      <td>8.0</td>\n",
       "      <td>Показать на главной странице баннеры с актуаль...</td>\n",
       "    </tr>\n",
       "    <tr>\n",
       "      <th>2</th>\n",
       "      <td>7.0</td>\n",
       "      <td>Добавить блоки рекомендаций товаров на сайт ин...</td>\n",
       "    </tr>\n",
       "    <tr>\n",
       "      <th>1</th>\n",
       "      <td>2.0</td>\n",
       "      <td>Запустить собственную службу доставки, что сок...</td>\n",
       "    </tr>\n",
       "    <tr>\n",
       "      <th>5</th>\n",
       "      <td>1.3</td>\n",
       "      <td>Добавить страницу отзывов клиентов о магазине,...</td>\n",
       "    </tr>\n",
       "    <tr>\n",
       "      <th>3</th>\n",
       "      <td>1.1</td>\n",
       "      <td>Изменить структура категорий, что увеличит кон...</td>\n",
       "    </tr>\n",
       "    <tr>\n",
       "      <th>4</th>\n",
       "      <td>1.0</td>\n",
       "      <td>Изменить цвет фона главной страницы, чтобы уве...</td>\n",
       "    </tr>\n",
       "  </tbody>\n",
       "</table>\n",
       "</div>"
      ],
      "text/plain": [
       "    ICE                                         Hypothesis\n",
       "8  16.2  Запустить акцию, дающую скидку на товар в день...\n",
       "0  13.3  Добавить два новых канала привлечения трафика,...\n",
       "7  11.2  Добавить форму подписки на все основные страни...\n",
       "6   8.0  Показать на главной странице баннеры с актуаль...\n",
       "2   7.0  Добавить блоки рекомендаций товаров на сайт ин...\n",
       "1   2.0  Запустить собственную службу доставки, что сок...\n",
       "5   1.3  Добавить страницу отзывов клиентов о магазине,...\n",
       "3   1.1  Изменить структура категорий, что увеличит кон...\n",
       "4   1.0  Изменить цвет фона главной страницы, чтобы уве..."
      ]
     },
     "metadata": {},
     "output_type": "display_data"
    }
   ],
   "source": [
    "# отсортируем по убыванию приоритета\n",
    "display(hypothesis[['ICE', 'Hypothesis']].sort_values(by='ICE', ascending=False))"
   ]
  },
  {
   "cell_type": "code",
   "execution_count": 15,
   "metadata": {},
   "outputs": [],
   "source": [
    "# применим фреймворк RICE для приоритизации гипотез\n",
    "hypothesis['RICE'] = (hypothesis['Reach'] * hypothesis['Impact'] * hypothesis['Confidence']) / hypothesis['Efforts']"
   ]
  },
  {
   "cell_type": "code",
   "execution_count": 16,
   "metadata": {},
   "outputs": [
    {
     "data": {
      "text/html": [
       "<div>\n",
       "<style scoped>\n",
       "    .dataframe tbody tr th:only-of-type {\n",
       "        vertical-align: middle;\n",
       "    }\n",
       "\n",
       "    .dataframe tbody tr th {\n",
       "        vertical-align: top;\n",
       "    }\n",
       "\n",
       "    .dataframe thead th {\n",
       "        text-align: right;\n",
       "    }\n",
       "</style>\n",
       "<table border=\"1\" class=\"dataframe\">\n",
       "  <thead>\n",
       "    <tr style=\"text-align: right;\">\n",
       "      <th></th>\n",
       "      <th>RICE</th>\n",
       "      <th>Hypothesis</th>\n",
       "      <th>Reach</th>\n",
       "    </tr>\n",
       "  </thead>\n",
       "  <tbody>\n",
       "    <tr>\n",
       "      <th>7</th>\n",
       "      <td>112.0</td>\n",
       "      <td>Добавить форму подписки на все основные страни...</td>\n",
       "      <td>10</td>\n",
       "    </tr>\n",
       "    <tr>\n",
       "      <th>2</th>\n",
       "      <td>56.0</td>\n",
       "      <td>Добавить блоки рекомендаций товаров на сайт ин...</td>\n",
       "      <td>8</td>\n",
       "    </tr>\n",
       "    <tr>\n",
       "      <th>0</th>\n",
       "      <td>40.0</td>\n",
       "      <td>Добавить два новых канала привлечения трафика,...</td>\n",
       "      <td>3</td>\n",
       "    </tr>\n",
       "    <tr>\n",
       "      <th>6</th>\n",
       "      <td>40.0</td>\n",
       "      <td>Показать на главной странице баннеры с актуаль...</td>\n",
       "      <td>5</td>\n",
       "    </tr>\n",
       "    <tr>\n",
       "      <th>8</th>\n",
       "      <td>16.2</td>\n",
       "      <td>Запустить акцию, дающую скидку на товар в день...</td>\n",
       "      <td>1</td>\n",
       "    </tr>\n",
       "    <tr>\n",
       "      <th>3</th>\n",
       "      <td>9.0</td>\n",
       "      <td>Изменить структура категорий, что увеличит кон...</td>\n",
       "      <td>8</td>\n",
       "    </tr>\n",
       "    <tr>\n",
       "      <th>1</th>\n",
       "      <td>4.0</td>\n",
       "      <td>Запустить собственную службу доставки, что сок...</td>\n",
       "      <td>2</td>\n",
       "    </tr>\n",
       "    <tr>\n",
       "      <th>5</th>\n",
       "      <td>4.0</td>\n",
       "      <td>Добавить страницу отзывов клиентов о магазине,...</td>\n",
       "      <td>3</td>\n",
       "    </tr>\n",
       "    <tr>\n",
       "      <th>4</th>\n",
       "      <td>3.0</td>\n",
       "      <td>Изменить цвет фона главной страницы, чтобы уве...</td>\n",
       "      <td>3</td>\n",
       "    </tr>\n",
       "  </tbody>\n",
       "</table>\n",
       "</div>"
      ],
      "text/plain": [
       "    RICE                                         Hypothesis  Reach\n",
       "7  112.0  Добавить форму подписки на все основные страни...     10\n",
       "2   56.0  Добавить блоки рекомендаций товаров на сайт ин...      8\n",
       "0   40.0  Добавить два новых канала привлечения трафика,...      3\n",
       "6   40.0  Показать на главной странице баннеры с актуаль...      5\n",
       "8   16.2  Запустить акцию, дающую скидку на товар в день...      1\n",
       "3    9.0  Изменить структура категорий, что увеличит кон...      8\n",
       "1    4.0  Запустить собственную службу доставки, что сок...      2\n",
       "5    4.0  Добавить страницу отзывов клиентов о магазине,...      3\n",
       "4    3.0  Изменить цвет фона главной страницы, чтобы уве...      3"
      ]
     },
     "metadata": {},
     "output_type": "display_data"
    }
   ],
   "source": [
    "# отсортируем по убыванию приоритета\n",
    "display(hypothesis[['RICE', 'Hypothesis', 'Reach']].sort_values(by='RICE', ascending=False))"
   ]
  },
  {
   "cell_type": "markdown",
   "metadata": {},
   "source": [
    "**Вывод**\n",
    "\n",
    "Наиболее перспективные гипотезы по ICE - это гипотезы с индексами №8, №0, №7 , а в RICE - №7(была на 3 месте в ICE), №2(была на 5 месте в ICE), №0(на 2 месте в ICE). Лидер таблицы ICE - №8 сместился на пятую позицию в RICE, в то время как №2 перешел на второе место в RICE с пятого в ICE. Такое отличие продиктовано, тем что в фреймворке RICE учитывается важный параметр - Reach (скольких пользователей затронет изменение, которое хотим внести). В гипотезах №7 и №2, этот параметр довольно высок (в №7 Reach равен максимальному значению 10, а в №2 равен 8, тоже высокий, а в лидере ICE - в №8 Reach равен минимальному значению 1). Следовательно, для тестирования необходимо выбрать гипотезу №7 и возможно еще №2."
   ]
  },
  {
   "cell_type": "markdown",
   "metadata": {},
   "source": [
    "## Шаг. Анализ A/B-теста"
   ]
  },
  {
   "cell_type": "markdown",
   "metadata": {},
   "source": [
    "### График кумулятивной выручки"
   ]
  },
  {
   "cell_type": "code",
   "execution_count": 17,
   "metadata": {},
   "outputs": [
    {
     "data": {
      "text/html": [
       "<div>\n",
       "<style scoped>\n",
       "    .dataframe tbody tr th:only-of-type {\n",
       "        vertical-align: middle;\n",
       "    }\n",
       "\n",
       "    .dataframe tbody tr th {\n",
       "        vertical-align: top;\n",
       "    }\n",
       "\n",
       "    .dataframe thead th {\n",
       "        text-align: right;\n",
       "    }\n",
       "</style>\n",
       "<table border=\"1\" class=\"dataframe\">\n",
       "  <thead>\n",
       "    <tr style=\"text-align: right;\">\n",
       "      <th></th>\n",
       "      <th>transactionId</th>\n",
       "      <th>visitorId</th>\n",
       "      <th>date</th>\n",
       "      <th>revenue</th>\n",
       "      <th>group</th>\n",
       "    </tr>\n",
       "  </thead>\n",
       "  <tbody>\n",
       "    <tr>\n",
       "      <th>0</th>\n",
       "      <td>3667963787</td>\n",
       "      <td>3312258926</td>\n",
       "      <td>2019-08-15</td>\n",
       "      <td>1650</td>\n",
       "      <td>B</td>\n",
       "    </tr>\n",
       "    <tr>\n",
       "      <th>1</th>\n",
       "      <td>2804400009</td>\n",
       "      <td>3642806036</td>\n",
       "      <td>2019-08-15</td>\n",
       "      <td>730</td>\n",
       "      <td>B</td>\n",
       "    </tr>\n",
       "    <tr>\n",
       "      <th>2</th>\n",
       "      <td>2961555356</td>\n",
       "      <td>4069496402</td>\n",
       "      <td>2019-08-15</td>\n",
       "      <td>400</td>\n",
       "      <td>A</td>\n",
       "    </tr>\n",
       "  </tbody>\n",
       "</table>\n",
       "</div>"
      ],
      "text/plain": [
       "   transactionId   visitorId       date  revenue group\n",
       "0     3667963787  3312258926 2019-08-15     1650     B\n",
       "1     2804400009  3642806036 2019-08-15      730     B\n",
       "2     2961555356  4069496402 2019-08-15      400     A"
      ]
     },
     "execution_count": 17,
     "metadata": {},
     "output_type": "execute_result"
    }
   ],
   "source": [
    "# посмотрим информацию о заказах\n",
    "orders.head(3)"
   ]
  },
  {
   "cell_type": "code",
   "execution_count": 18,
   "metadata": {},
   "outputs": [
    {
     "data": {
      "text/plain": [
       "group\n",
       "A    112473\n",
       "B    147274\n",
       "Name: revenue, dtype: int64"
      ]
     },
     "execution_count": 18,
     "metadata": {},
     "output_type": "execute_result"
    }
   ],
   "source": [
    "# рассчитаем медианную выручку за день в каждой группе, чтобы иметь представление сколько выручка за день\n",
    "orders.groupby(['date','group'])['revenue'].sum().groupby('group').median()"
   ]
  },
  {
   "cell_type": "code",
   "execution_count": 19,
   "metadata": {},
   "outputs": [
    {
     "data": {
      "text/html": [
       "<div>\n",
       "<style scoped>\n",
       "    .dataframe tbody tr th:only-of-type {\n",
       "        vertical-align: middle;\n",
       "    }\n",
       "\n",
       "    .dataframe tbody tr th {\n",
       "        vertical-align: top;\n",
       "    }\n",
       "\n",
       "    .dataframe thead th {\n",
       "        text-align: right;\n",
       "    }\n",
       "</style>\n",
       "<table border=\"1\" class=\"dataframe\">\n",
       "  <thead>\n",
       "    <tr style=\"text-align: right;\">\n",
       "      <th></th>\n",
       "      <th>date</th>\n",
       "      <th>group</th>\n",
       "      <th>visitors</th>\n",
       "    </tr>\n",
       "  </thead>\n",
       "  <tbody>\n",
       "    <tr>\n",
       "      <th>0</th>\n",
       "      <td>2019-08-01</td>\n",
       "      <td>A</td>\n",
       "      <td>719</td>\n",
       "    </tr>\n",
       "    <tr>\n",
       "      <th>1</th>\n",
       "      <td>2019-08-02</td>\n",
       "      <td>A</td>\n",
       "      <td>619</td>\n",
       "    </tr>\n",
       "    <tr>\n",
       "      <th>2</th>\n",
       "      <td>2019-08-03</td>\n",
       "      <td>A</td>\n",
       "      <td>507</td>\n",
       "    </tr>\n",
       "  </tbody>\n",
       "</table>\n",
       "</div>"
      ],
      "text/plain": [
       "        date group  visitors\n",
       "0 2019-08-01     A       719\n",
       "1 2019-08-02     A       619\n",
       "2 2019-08-03     A       507"
      ]
     },
     "execution_count": 19,
     "metadata": {},
     "output_type": "execute_result"
    }
   ],
   "source": [
    "# посмотрим информацию о посетителях\n",
    "visitors.head(3)"
   ]
  },
  {
   "cell_type": "code",
   "execution_count": 20,
   "metadata": {},
   "outputs": [
    {
     "data": {
      "text/html": [
       "<div>\n",
       "<style scoped>\n",
       "    .dataframe tbody tr th:only-of-type {\n",
       "        vertical-align: middle;\n",
       "    }\n",
       "\n",
       "    .dataframe tbody tr th {\n",
       "        vertical-align: top;\n",
       "    }\n",
       "\n",
       "    .dataframe thead th {\n",
       "        text-align: right;\n",
       "    }\n",
       "</style>\n",
       "<table border=\"1\" class=\"dataframe\">\n",
       "  <thead>\n",
       "    <tr style=\"text-align: right;\">\n",
       "      <th></th>\n",
       "      <th>date</th>\n",
       "      <th>group</th>\n",
       "    </tr>\n",
       "  </thead>\n",
       "  <tbody>\n",
       "    <tr>\n",
       "      <th>0</th>\n",
       "      <td>2019-08-01</td>\n",
       "      <td>A</td>\n",
       "    </tr>\n",
       "    <tr>\n",
       "      <th>1</th>\n",
       "      <td>2019-08-01</td>\n",
       "      <td>B</td>\n",
       "    </tr>\n",
       "    <tr>\n",
       "      <th>2</th>\n",
       "      <td>2019-08-02</td>\n",
       "      <td>A</td>\n",
       "    </tr>\n",
       "    <tr>\n",
       "      <th>3</th>\n",
       "      <td>2019-08-02</td>\n",
       "      <td>B</td>\n",
       "    </tr>\n",
       "    <tr>\n",
       "      <th>4</th>\n",
       "      <td>2019-08-03</td>\n",
       "      <td>A</td>\n",
       "    </tr>\n",
       "    <tr>\n",
       "      <th>...</th>\n",
       "      <td>...</td>\n",
       "      <td>...</td>\n",
       "    </tr>\n",
       "    <tr>\n",
       "      <th>57</th>\n",
       "      <td>2019-08-29</td>\n",
       "      <td>B</td>\n",
       "    </tr>\n",
       "    <tr>\n",
       "      <th>58</th>\n",
       "      <td>2019-08-30</td>\n",
       "      <td>A</td>\n",
       "    </tr>\n",
       "    <tr>\n",
       "      <th>59</th>\n",
       "      <td>2019-08-30</td>\n",
       "      <td>B</td>\n",
       "    </tr>\n",
       "    <tr>\n",
       "      <th>60</th>\n",
       "      <td>2019-08-31</td>\n",
       "      <td>A</td>\n",
       "    </tr>\n",
       "    <tr>\n",
       "      <th>61</th>\n",
       "      <td>2019-08-31</td>\n",
       "      <td>B</td>\n",
       "    </tr>\n",
       "  </tbody>\n",
       "</table>\n",
       "<p>62 rows × 2 columns</p>\n",
       "</div>"
      ],
      "text/plain": [
       "         date group\n",
       "0  2019-08-01     A\n",
       "1  2019-08-01     B\n",
       "2  2019-08-02     A\n",
       "3  2019-08-02     B\n",
       "4  2019-08-03     A\n",
       "..        ...   ...\n",
       "57 2019-08-29     B\n",
       "58 2019-08-30     A\n",
       "59 2019-08-30     B\n",
       "60 2019-08-31     A\n",
       "61 2019-08-31     B\n",
       "\n",
       "[62 rows x 2 columns]"
      ]
     },
     "execution_count": 20,
     "metadata": {},
     "output_type": "execute_result"
    }
   ],
   "source": [
    "# cравним идентичны ли даты и группы в таблицах посетителей и заказов для безпроблемного объединения данных \n",
    "orders[['date','group']].drop_duplicates().sort_values(by=['date','group']).reset_index(drop=True)"
   ]
  },
  {
   "cell_type": "code",
   "execution_count": 21,
   "metadata": {},
   "outputs": [],
   "source": [
    "contrast = orders[['date','group']].drop_duplicates().sort_values(by=['date','group']).reset_index(drop=True) == visitors[['date','group']].drop_duplicates().sort_values(by=['date','group']).reset_index(drop=True)"
   ]
  },
  {
   "cell_type": "code",
   "execution_count": 22,
   "metadata": {},
   "outputs": [
    {
     "data": {
      "text/html": [
       "<div>\n",
       "<style scoped>\n",
       "    .dataframe tbody tr th:only-of-type {\n",
       "        vertical-align: middle;\n",
       "    }\n",
       "\n",
       "    .dataframe tbody tr th {\n",
       "        vertical-align: top;\n",
       "    }\n",
       "\n",
       "    .dataframe thead th {\n",
       "        text-align: right;\n",
       "    }\n",
       "</style>\n",
       "<table border=\"1\" class=\"dataframe\">\n",
       "  <thead>\n",
       "    <tr style=\"text-align: right;\">\n",
       "      <th></th>\n",
       "      <th>date</th>\n",
       "      <th>group</th>\n",
       "    </tr>\n",
       "  </thead>\n",
       "  <tbody>\n",
       "    <tr>\n",
       "      <th>0</th>\n",
       "      <td>True</td>\n",
       "      <td>True</td>\n",
       "    </tr>\n",
       "    <tr>\n",
       "      <th>1</th>\n",
       "      <td>True</td>\n",
       "      <td>True</td>\n",
       "    </tr>\n",
       "    <tr>\n",
       "      <th>2</th>\n",
       "      <td>True</td>\n",
       "      <td>True</td>\n",
       "    </tr>\n",
       "    <tr>\n",
       "      <th>3</th>\n",
       "      <td>True</td>\n",
       "      <td>True</td>\n",
       "    </tr>\n",
       "    <tr>\n",
       "      <th>4</th>\n",
       "      <td>True</td>\n",
       "      <td>True</td>\n",
       "    </tr>\n",
       "    <tr>\n",
       "      <th>...</th>\n",
       "      <td>...</td>\n",
       "      <td>...</td>\n",
       "    </tr>\n",
       "    <tr>\n",
       "      <th>57</th>\n",
       "      <td>True</td>\n",
       "      <td>True</td>\n",
       "    </tr>\n",
       "    <tr>\n",
       "      <th>58</th>\n",
       "      <td>True</td>\n",
       "      <td>True</td>\n",
       "    </tr>\n",
       "    <tr>\n",
       "      <th>59</th>\n",
       "      <td>True</td>\n",
       "      <td>True</td>\n",
       "    </tr>\n",
       "    <tr>\n",
       "      <th>60</th>\n",
       "      <td>True</td>\n",
       "      <td>True</td>\n",
       "    </tr>\n",
       "    <tr>\n",
       "      <th>61</th>\n",
       "      <td>True</td>\n",
       "      <td>True</td>\n",
       "    </tr>\n",
       "  </tbody>\n",
       "</table>\n",
       "<p>62 rows × 2 columns</p>\n",
       "</div>"
      ],
      "text/plain": [
       "    date  group\n",
       "0   True   True\n",
       "1   True   True\n",
       "2   True   True\n",
       "3   True   True\n",
       "4   True   True\n",
       "..   ...    ...\n",
       "57  True   True\n",
       "58  True   True\n",
       "59  True   True\n",
       "60  True   True\n",
       "61  True   True\n",
       "\n",
       "[62 rows x 2 columns]"
      ]
     },
     "metadata": {},
     "output_type": "display_data"
    }
   ],
   "source": [
    "display(contrast)"
   ]
  },
  {
   "cell_type": "markdown",
   "metadata": {},
   "source": [
    "Все пары дата-группа в таблицах посетители и заказы совпадают, можно проводить объдинение."
   ]
  },
  {
   "cell_type": "markdown",
   "metadata": {},
   "source": [
    "Cоздадим таблицу **cumulativeData** куммулятивных данных по обеим таблицам."
   ]
  },
  {
   "cell_type": "code",
   "execution_count": 23,
   "metadata": {},
   "outputs": [],
   "source": [
    "# создаем массив уникальных пар значений дат и групп теста\n",
    "datesGroups = orders[['date','group']].drop_duplicates() "
   ]
  },
  {
   "cell_type": "code",
   "execution_count": 24,
   "metadata": {},
   "outputs": [],
   "source": [
    "# получаем агрегированные кумулятивные по дням данные о заказах \n",
    "ordersAggregated = datesGroups.apply(lambda x: orders[np.logical_and(orders['date'] <= x['date'], orders['group'] == x['group'])].\n",
    "                                     agg({'date' : 'max', \n",
    "                                          'group' : 'max', \n",
    "                                          'transactionId' : 'nunique',\n",
    "                                          'visitorId' : 'nunique', \n",
    "                                          'revenue' : 'sum'}), axis=1).sort_values(by=['date','group'])\n",
    "\n",
    "# получаем агрегированные кумулятивные по дням данные о посетителях интернет-магазина \n",
    "visitorsAggregated = datesGroups.apply(lambda x: visitors[np.logical_and(visitors['date'] <= x['date'], visitors['group'] == x['group'])].\n",
    "                                       agg({'date' : 'max', \n",
    "                                            'group' : 'max', \n",
    "                                            'visitors' : 'sum'}), axis=1).sort_values(by=['date','group'])\n"
   ]
  },
  {
   "cell_type": "code",
   "execution_count": 25,
   "metadata": {},
   "outputs": [],
   "source": [
    "# объединяем кумулятивные данные в одной таблице и присваиваем ее столбцам понятные названия\n",
    "cumulativeData = ordersAggregated.merge(visitorsAggregated, left_on=['date', 'group'], right_on=['date', 'group'])\n",
    "cumulativeData.columns = ['date', 'group', 'orders', 'buyers', 'revenue', 'visitors']"
   ]
  },
  {
   "cell_type": "code",
   "execution_count": 26,
   "metadata": {},
   "outputs": [
    {
     "data": {
      "text/html": [
       "<div>\n",
       "<style scoped>\n",
       "    .dataframe tbody tr th:only-of-type {\n",
       "        vertical-align: middle;\n",
       "    }\n",
       "\n",
       "    .dataframe tbody tr th {\n",
       "        vertical-align: top;\n",
       "    }\n",
       "\n",
       "    .dataframe thead th {\n",
       "        text-align: right;\n",
       "    }\n",
       "</style>\n",
       "<table border=\"1\" class=\"dataframe\">\n",
       "  <thead>\n",
       "    <tr style=\"text-align: right;\">\n",
       "      <th></th>\n",
       "      <th>date</th>\n",
       "      <th>group</th>\n",
       "      <th>orders</th>\n",
       "      <th>buyers</th>\n",
       "      <th>revenue</th>\n",
       "      <th>visitors</th>\n",
       "    </tr>\n",
       "  </thead>\n",
       "  <tbody>\n",
       "    <tr>\n",
       "      <th>0</th>\n",
       "      <td>2019-08-01</td>\n",
       "      <td>A</td>\n",
       "      <td>24</td>\n",
       "      <td>20</td>\n",
       "      <td>148579</td>\n",
       "      <td>719</td>\n",
       "    </tr>\n",
       "    <tr>\n",
       "      <th>1</th>\n",
       "      <td>2019-08-01</td>\n",
       "      <td>B</td>\n",
       "      <td>21</td>\n",
       "      <td>20</td>\n",
       "      <td>101217</td>\n",
       "      <td>713</td>\n",
       "    </tr>\n",
       "    <tr>\n",
       "      <th>2</th>\n",
       "      <td>2019-08-02</td>\n",
       "      <td>A</td>\n",
       "      <td>44</td>\n",
       "      <td>38</td>\n",
       "      <td>242401</td>\n",
       "      <td>1338</td>\n",
       "    </tr>\n",
       "    <tr>\n",
       "      <th>3</th>\n",
       "      <td>2019-08-02</td>\n",
       "      <td>B</td>\n",
       "      <td>45</td>\n",
       "      <td>43</td>\n",
       "      <td>266748</td>\n",
       "      <td>1294</td>\n",
       "    </tr>\n",
       "    <tr>\n",
       "      <th>4</th>\n",
       "      <td>2019-08-03</td>\n",
       "      <td>A</td>\n",
       "      <td>68</td>\n",
       "      <td>62</td>\n",
       "      <td>354874</td>\n",
       "      <td>1845</td>\n",
       "    </tr>\n",
       "  </tbody>\n",
       "</table>\n",
       "</div>"
      ],
      "text/plain": [
       "        date group  orders  buyers  revenue  visitors\n",
       "0 2019-08-01     A      24      20   148579       719\n",
       "1 2019-08-01     B      21      20   101217       713\n",
       "2 2019-08-02     A      44      38   242401      1338\n",
       "3 2019-08-02     B      45      43   266748      1294\n",
       "4 2019-08-03     A      68      62   354874      1845"
      ]
     },
     "metadata": {},
     "output_type": "display_data"
    }
   ],
   "source": [
    "display(cumulativeData.head(5)) "
   ]
  },
  {
   "cell_type": "markdown",
   "metadata": {},
   "source": [
    "Построим графики кумулятивной выручки по дням по группам."
   ]
  },
  {
   "cell_type": "code",
   "execution_count": 27,
   "metadata": {},
   "outputs": [
    {
     "data": {
      "image/png": "[encoded data removed]",
      "text/plain": [
       "<Figure size 1008x504 with 1 Axes>"
      ]
     },
     "metadata": {
      "needs_background": "light"
     },
     "output_type": "display_data"
    }
   ],
   "source": [
    "# датафрейм с кумулятивным количеством заказов и кумулятивной выручкой по дням в группе А\n",
    "cumulativeRevenueA = cumulativeData[cumulativeData['group']=='A'][['date','revenue', 'orders']]\n",
    "\n",
    "# датафрейм с кумулятивным количеством заказов и кумулятивной выручкой по дням в группе B\n",
    "cumulativeRevenueB = cumulativeData[cumulativeData['group']=='B'][['date','revenue', 'orders']]\n",
    "\n",
    "from pandas.plotting import register_matplotlib_converters\n",
    "register_matplotlib_converters()\n",
    "\n",
    "# строим график выручки группы А и B\n",
    "plt.figure(figsize=(14,7))\n",
    "plt.plot(cumulativeRevenueA['date'], cumulativeRevenueA['revenue'], label='Кумулятивная выручка группы A')\n",
    "plt.plot(cumulativeRevenueB['date'], cumulativeRevenueB['revenue'], label='Кумулятивная выручка группы B')\n",
    "plt.title('Графики кумулятивных выручек группы А и В')\n",
    "plt.xlabel('Дата')\n",
    "plt.ylabel('Выручка')\n",
    "plt.grid()\n",
    "plt.legend();"
   ]
  },
  {
   "cell_type": "markdown",
   "metadata": {},
   "source": [
    "https://slemeshevsky.github.io/python-course/visual/html/._visual-flatly002.html\n",
    "    \n",
    "https://python-scripts.com/plot-with-pandas\n",
    "\n",
    "https://pythobyte.com/introduction-to-data-visualization-in-python-with-pandas-9f8fe4ec/"
   ]
  },
  {
   "cell_type": "markdown",
   "metadata": {},
   "source": [
    "**Вывод**\n",
    "\n",
    "В первой половине месяца видно, что выручка в группе \"B\" растёт чуть быстрее, чем в \"A\". 13 августа выручки примерно равны. Во  второй половине месяца очивидно, что выручка в группе \"B\" однозначно существенно больше. Надо отметить сильный всплеск выручки в группе \"B\" произошел 19 августа, скорее всего это были крупные заказы. По графикам можно предположить, что после всплеска 19.08.2019г в группе \"В\", выручки росли примерно одинаково."
   ]
  },
  {
   "cell_type": "markdown",
   "metadata": {},
   "source": [
    "### График кумулятивного среднего чека"
   ]
  },
  {
   "cell_type": "code",
   "execution_count": 28,
   "metadata": {},
   "outputs": [
    {
     "data": {
      "image/png": "[encoded data removed]",
      "text/plain": [
       "<Figure size 1008x504 with 1 Axes>"
      ]
     },
     "metadata": {
      "needs_background": "light"
     },
     "output_type": "display_data"
    }
   ],
   "source": [
    "# построим и проанализируем графики среднего кумулятивного чека по группам(разделим кумулятивную выручку на кумулятивное число заказов):\n",
    "plt.figure(figsize=(14,7))\n",
    "plt.grid()\n",
    "plt.plot(cumulativeRevenueA['date'], cumulativeRevenueA['revenue']/cumulativeRevenueA['orders'], label='Средний кумулятивный чек группы A')\n",
    "plt.plot(cumulativeRevenueB['date'], cumulativeRevenueB['revenue']/cumulativeRevenueB['orders'], label='Средний кумулятивный чек группы B')\n",
    "plt.title('Графики средних кумулятивных чеков группы А и В')\n",
    "plt.xlabel('Дата')\n",
    "plt.ylabel('Выручка')\n",
    "plt.legend();"
   ]
  },
  {
   "cell_type": "markdown",
   "metadata": {},
   "source": [
    "**Вывод**\n",
    "\n",
    "В первой половине месяца в группе \"B\" чек преимущественно больше, но есть даты, где, и наоборот, чек больше в группе \"A\" — это начало месяца 1 августа и 12-14 августа. Далее чек группы \"B\" стабильно больше. На графике видно сильное влияние на средний чек крупного заказа, после этого заказа (19 августа) средний чек в группе \"B\" постепенно стал снижаться, в то время как в группе \"A\" средний чек с 18 августа постепенно растет."
   ]
  },
  {
   "cell_type": "markdown",
   "metadata": {},
   "source": [
    "### График относительного изменения кумулятивного среднего чека"
   ]
  },
  {
   "cell_type": "code",
   "execution_count": 29,
   "metadata": {},
   "outputs": [
    {
     "data": {
      "image/png": "[encoded data removed]",
      "text/plain": [
       "<Figure size 1008x504 with 1 Axes>"
      ]
     },
     "metadata": {
      "needs_background": "light"
     },
     "output_type": "display_data"
    }
   ],
   "source": [
    "# cобирем данные в одном датафрейме и построим график относительного изменения кумулятивного среднего чека групп\n",
    "mergedCumulativeRevenue = cumulativeRevenueA.merge(cumulativeRevenueB, left_on='date', right_on='date', how='left', suffixes=['A', 'B'])\n",
    "\n",
    "plt.figure(figsize=(14,7))\n",
    "plt.grid()\n",
    "plt.plot(mergedCumulativeRevenue['date'], (mergedCumulativeRevenue['revenueB']/mergedCumulativeRevenue['ordersB'])/ \\\n",
    "         (mergedCumulativeRevenue['revenueA']/mergedCumulativeRevenue['ordersA'])-1)\n",
    "plt.title('Относительное изменение кумулятивного среднего чека групп \"B\" к \"А\"')\n",
    "plt.xlabel('Дата')\n",
    "plt.ylabel('Значение')\n",
    "plt.axhline(y=0, color='green', linestyle='--') ;"
   ]
  },
  {
   "cell_type": "markdown",
   "metadata": {},
   "source": [
    "**Вывод**\n",
    "\n",
    "Средний чек группы \"B\" рос с 1 августа, 2 августа уже превысил средний чек группы \"A\" и рос до 7 августа. Но 7-8 августа пошло обратное движение до 13 августа, причем 3 дня с 12 по 14 августа средний чек группы \"A\" был больше среднего чека группы \"B\". Но с 13 августа средний чек группы \"B\" опять начал расти и уже 15 августа наступил переломный момент. На следующий день средний чек группы \"B\" оказался больше и находился больше среднего чека группы \"A\" до конца месяца. Хорошо видно, что 19 августа был сильный рост за счет аномального заказа с большим объемом, в последующие дни средний чек группы \"B\" также постепенно снижался."
   ]
  },
  {
   "cell_type": "markdown",
   "metadata": {},
   "source": [
    "### График кумулятивной конверсии"
   ]
  },
  {
   "cell_type": "code",
   "execution_count": 30,
   "metadata": {},
   "outputs": [
    {
     "data": {
      "image/png": "[encoded data removed]",
      "text/plain": [
       "<Figure size 1008x504 with 1 Axes>"
      ]
     },
     "metadata": {
      "needs_background": "light"
     },
     "output_type": "display_data"
    }
   ],
   "source": [
    "# построим и проанализируем график кумулятивной конверсии\n",
    "\n",
    "# считаем кумулятивную конверсию\n",
    "cumulativeData['conversion'] = cumulativeData['orders']/cumulativeData['visitors']\n",
    "\n",
    "# отделяем данные по группам А и  B\n",
    "cumulativeDataA = cumulativeData[cumulativeData['group']=='A']\n",
    "cumulativeDataB = cumulativeData[cumulativeData['group']=='B']\n",
    "\n",
    "# строим графики\n",
    "plt.figure(figsize=(14,7))\n",
    "plt.grid()\n",
    "plt.plot(cumulativeDataA['date'], cumulativeDataA['conversion'], label='кумулятивная конверсия A')\n",
    "plt.plot(cumulativeDataB['date'], cumulativeDataB['conversion'], label='кумулятивная конверсия B')\n",
    "plt.title('Кумулятивная конверсия')\n",
    "plt.xlabel('Дата')\n",
    "plt.ylabel('Значение')\n",
    "plt.legend();"
   ]
  },
  {
   "cell_type": "markdown",
   "metadata": {},
   "source": [
    "**Вывод** \n",
    "\n",
    "С начала месяца конверсия (1-5 августа) сегмента \"A\" была значительно больше, даже 3 августа она была максимальной за весь период наблюдения между группами (исключение 2 августа). После пика конверсия сегмента \"А\" стала сильно падать, а начиная с 9 августа стагнировала в минимальном диапазоне 0,029-0,031. Конверсия группы \"B\" с 4 августа пошла расти и уже 6 августа превысила конверсию группы \"A\" и росла до 10 августа чуть выше 0,036. В дальнейшем пошло постепенное снижение, с всплеском роста конверсии 15-17 августа до чуть ниже 0,036. Можно сделать общий вывод - начиная с 6 августа конверсия сегмента \"B\" в целом значительно больше конверсии сегмента \"A\"."
   ]
  },
  {
   "cell_type": "markdown",
   "metadata": {},
   "source": [
    "### График относительного изменения кумулятивной конверсии"
   ]
  },
  {
   "cell_type": "code",
   "execution_count": 31,
   "metadata": {
    "scrolled": true
   },
   "outputs": [
    {
     "data": {
      "image/png": "[encoded data removed]",
      "text/plain": [
       "<Figure size 720x360 with 1 Axes>"
      ]
     },
     "metadata": {
      "needs_background": "light"
     },
     "output_type": "display_data"
    }
   ],
   "source": [
    "# постром и проанализируем график относительного изменения кумулятивной конверсии группы B к группе A\n",
    "mergedCumulativeConversions = cumulativeDataA[['date','conversion']].merge(cumulativeDataB[['date','conversion']], left_on='date', right_on='date', how='left', suffixes=['A', 'B'])\n",
    "plt.figure(figsize=(10,5))\n",
    "plt.grid()\n",
    "plt.plot(mergedCumulativeConversions['date'], \n",
    "         mergedCumulativeConversions['conversionB']/mergedCumulativeConversions['conversionA']-1, \n",
    "         label=\"Относительный прирост конверсии группы B относительно группы A\")\n",
    "\n",
    "plt.title('Относительное изменение кумулятивной конверсии группы B к группе A')\n",
    "plt.xlabel('Дата')\n",
    "plt.ylabel('Значение')\n",
    "\n",
    "plt.axhline(y=0, color='green', linestyle='--') \n",
    "plt.axhline(y=0.21, color='red', linestyle='--')\n",
    "plt.axhline(y=0.058, color='red', linestyle='--');"
   ]
  },
  {
   "cell_type": "markdown",
   "metadata": {},
   "source": [
    "**Вывод**\n",
    "\n",
    "В начале месяца (01.09 по 05.09) конверсия сегмента \"A\" была больше на 5-10%. Исключение составляет 02.09., в этот день был сильный рост конверсии в группе \"B\" и по итогу дня результат сегмента \"B\" был на 5% больше сегмента \"A\". Скорее всего это связано с проведением маркетинговых акций, т.к. из пункта 3.4. виден рост конверсий обеих групп. Начиная с 6 августа группа \"B\" лидировала до конца периода. Её конверсия росла до 15.09., и разница с конверсией группы \"A\" на максимуме составляла 21%, затем пошло постепенное снижение относительной конверсии.\n"
   ]
  },
  {
   "cell_type": "markdown",
   "metadata": {},
   "source": [
    "### График количества заказов по пользователям"
   ]
  },
  {
   "cell_type": "code",
   "execution_count": 32,
   "metadata": {},
   "outputs": [
    {
     "data": {
      "text/html": [
       "<div>\n",
       "<style scoped>\n",
       "    .dataframe tbody tr th:only-of-type {\n",
       "        vertical-align: middle;\n",
       "    }\n",
       "\n",
       "    .dataframe tbody tr th {\n",
       "        vertical-align: top;\n",
       "    }\n",
       "\n",
       "    .dataframe thead th {\n",
       "        text-align: right;\n",
       "    }\n",
       "</style>\n",
       "<table border=\"1\" class=\"dataframe\">\n",
       "  <thead>\n",
       "    <tr style=\"text-align: right;\">\n",
       "      <th></th>\n",
       "      <th>transactionId</th>\n",
       "      <th>visitorId</th>\n",
       "      <th>date</th>\n",
       "      <th>revenue</th>\n",
       "      <th>group</th>\n",
       "    </tr>\n",
       "  </thead>\n",
       "  <tbody>\n",
       "    <tr>\n",
       "      <th>0</th>\n",
       "      <td>3667963787</td>\n",
       "      <td>3312258926</td>\n",
       "      <td>2019-08-15</td>\n",
       "      <td>1650</td>\n",
       "      <td>B</td>\n",
       "    </tr>\n",
       "    <tr>\n",
       "      <th>1</th>\n",
       "      <td>2804400009</td>\n",
       "      <td>3642806036</td>\n",
       "      <td>2019-08-15</td>\n",
       "      <td>730</td>\n",
       "      <td>B</td>\n",
       "    </tr>\n",
       "    <tr>\n",
       "      <th>2</th>\n",
       "      <td>2961555356</td>\n",
       "      <td>4069496402</td>\n",
       "      <td>2019-08-15</td>\n",
       "      <td>400</td>\n",
       "      <td>A</td>\n",
       "    </tr>\n",
       "  </tbody>\n",
       "</table>\n",
       "</div>"
      ],
      "text/plain": [
       "   transactionId   visitorId       date  revenue group\n",
       "0     3667963787  3312258926 2019-08-15     1650     B\n",
       "1     2804400009  3642806036 2019-08-15      730     B\n",
       "2     2961555356  4069496402 2019-08-15      400     A"
      ]
     },
     "execution_count": 32,
     "metadata": {},
     "output_type": "execute_result"
    }
   ],
   "source": [
    "# изучим данные о заказах еще раз \n",
    "orders.head(3)"
   ]
  },
  {
   "cell_type": "code",
   "execution_count": 33,
   "metadata": {},
   "outputs": [
    {
     "data": {
      "text/html": [
       "<div>\n",
       "<style scoped>\n",
       "    .dataframe tbody tr th:only-of-type {\n",
       "        vertical-align: middle;\n",
       "    }\n",
       "\n",
       "    .dataframe tbody tr th {\n",
       "        vertical-align: top;\n",
       "    }\n",
       "\n",
       "    .dataframe thead th {\n",
       "        text-align: right;\n",
       "    }\n",
       "</style>\n",
       "<table border=\"1\" class=\"dataframe\">\n",
       "  <thead>\n",
       "    <tr style=\"text-align: right;\">\n",
       "      <th></th>\n",
       "      <th>user_id</th>\n",
       "      <th>orders</th>\n",
       "    </tr>\n",
       "  </thead>\n",
       "  <tbody>\n",
       "    <tr>\n",
       "      <th>1023</th>\n",
       "      <td>4256040402</td>\n",
       "      <td>11</td>\n",
       "    </tr>\n",
       "    <tr>\n",
       "      <th>591</th>\n",
       "      <td>2458001652</td>\n",
       "      <td>11</td>\n",
       "    </tr>\n",
       "    <tr>\n",
       "      <th>569</th>\n",
       "      <td>2378935119</td>\n",
       "      <td>9</td>\n",
       "    </tr>\n",
       "    <tr>\n",
       "      <th>487</th>\n",
       "      <td>2038680547</td>\n",
       "      <td>8</td>\n",
       "    </tr>\n",
       "    <tr>\n",
       "      <th>44</th>\n",
       "      <td>199603092</td>\n",
       "      <td>5</td>\n",
       "    </tr>\n",
       "    <tr>\n",
       "      <th>744</th>\n",
       "      <td>3062433592</td>\n",
       "      <td>5</td>\n",
       "    </tr>\n",
       "    <tr>\n",
       "      <th>55</th>\n",
       "      <td>237748145</td>\n",
       "      <td>5</td>\n",
       "    </tr>\n",
       "    <tr>\n",
       "      <th>917</th>\n",
       "      <td>3803269165</td>\n",
       "      <td>5</td>\n",
       "    </tr>\n",
       "    <tr>\n",
       "      <th>299</th>\n",
       "      <td>1230306981</td>\n",
       "      <td>5</td>\n",
       "    </tr>\n",
       "    <tr>\n",
       "      <th>897</th>\n",
       "      <td>3717692402</td>\n",
       "      <td>5</td>\n",
       "    </tr>\n",
       "  </tbody>\n",
       "</table>\n",
       "</div>"
      ],
      "text/plain": [
       "         user_id  orders\n",
       "1023  4256040402      11\n",
       "591   2458001652      11\n",
       "569   2378935119       9\n",
       "487   2038680547       8\n",
       "44     199603092       5\n",
       "744   3062433592       5\n",
       "55     237748145       5\n",
       "917   3803269165       5\n",
       "299   1230306981       5\n",
       "897   3717692402       5"
      ]
     },
     "execution_count": 33,
     "metadata": {},
     "output_type": "execute_result"
    }
   ],
   "source": [
    "# сгруппирует заказы по пользователям и подсчитает число уникальных заказов по сгруппированным данным\n",
    "ordersByUsers = orders.drop(['group', 'revenue', 'date'], axis=1).groupby('visitorId', as_index=False).agg({'transactionId':'nunique'})\n",
    "\n",
    "# создадим датафрейме с двумя стобцами \n",
    "ordersByUsers.columns = ['user_id','orders']\n",
    "\n",
    "# отсортирует датафрейм по значению в столбце, выведем 10 значений \n",
    "ordersByUsers.sort_values(by='orders',ascending=False).head(10)"
   ]
  },
  {
   "cell_type": "code",
   "execution_count": 34,
   "metadata": {},
   "outputs": [
    {
     "data": {
      "image/png": "[encoded data removed]",
      "text/plain": [
       "<Figure size 1008x504 with 1 Axes>"
      ]
     },
     "metadata": {
      "needs_background": "light"
     },
     "output_type": "display_data"
    }
   ],
   "source": [
    "# построим точечную диаграмму количества заказов по пользователям\n",
    "x_values = pd.Series(range(0,len(ordersByUsers)))\n",
    "plt.figure(figsize=(14,7))\n",
    "plt.grid()\n",
    "plt.title('График количества заказов по пользователям')\n",
    "plt.xlabel('Кол-во пользователей')\n",
    "plt.ylabel('Кол-во заказов')\n",
    "plt.scatter(x_values, ordersByUsers['orders'], alpha=0.5);"
   ]
  },
  {
   "cell_type": "markdown",
   "metadata": {},
   "source": [
    "**Вывод**\n",
    "\n",
    "На точечной диаграмме видно, что больше всего пользователей, которые совершили 1 заказ. Тех, кто совершил 2 или 3 заказа уже не так много. Необходимо посчитать перцентили (95 и 99). А все что выше 3 заказов - явно уже аномалия."
   ]
  },
  {
   "cell_type": "markdown",
   "metadata": {},
   "source": [
    "### Граница заказов для определения аномальных пользователей"
   ]
  },
  {
   "cell_type": "code",
   "execution_count": 35,
   "metadata": {},
   "outputs": [
    {
     "name": "stdout",
     "output_type": "stream",
     "text": [
      "95 и 99 перцентили по заказам: [2. 4.]\n"
     ]
    }
   ],
   "source": [
    "# для подсчёта перцентилей применяют метод percentile()\n",
    "print('95 и 99 перцентили по заказам:', np.percentile(ordersByUsers['orders'], [95, 99])) "
   ]
  },
  {
   "cell_type": "code",
   "execution_count": 36,
   "metadata": {},
   "outputs": [
    {
     "name": "stdout",
     "output_type": "stream",
     "text": [
      "перцентили c 95 по 99 по заказам: [2. 2. 2. 3. 4.]\n"
     ]
    }
   ],
   "source": [
    "# для большей точности рассчитаем все перцентили с 95 по 99\n",
    "print('перцентили c 95 по 99 по заказам:', np.percentile(ordersByUsers['orders'], [95,96,97,98,99])) "
   ]
  },
  {
   "cell_type": "markdown",
   "metadata": {},
   "source": [
    "**Вывод**\n",
    "    \n",
    "Большинство пользователей (98%) оформляют 1 или 2 заказа. Всё, что выше можно считать аномалия."
   ]
  },
  {
   "cell_type": "markdown",
   "metadata": {},
   "source": [
    "### График стоимостей заказов"
   ]
  },
  {
   "cell_type": "code",
   "execution_count": 37,
   "metadata": {},
   "outputs": [
    {
     "data": {
      "image/png": "[encoded data removed]",
      "text/plain": [
       "<Figure size 1008x504 with 1 Axes>"
      ]
     },
     "metadata": {
      "needs_background": "light"
     },
     "output_type": "display_data"
    }
   ],
   "source": [
    "# построим и проанализируем точечный график стоимости заказов \n",
    "x_values = pd.Series(range(0,len(orders['revenue'])))\n",
    "\n",
    "plt.figure(figsize=(14,7))\n",
    "plt.grid()\n",
    "plt.title('График стоимостей заказов')\n",
    "plt.xlabel('Кол-во пользователей')\n",
    "plt.ylabel('Стоимость заказов')\n",
    "plt.scatter(x_values, orders['revenue'], alpha=0.5);"
   ]
  },
  {
   "cell_type": "markdown",
   "metadata": {},
   "source": [
    "Заказов стоимостью 200 000 рублей не очень много. Есть выбросы в районе 200 000 - 1 250 000 рублей. Построим более наглядный график, для это уберем явные выбросы с 'revenue' больше 200 000 рублей."
   ]
  },
  {
   "cell_type": "code",
   "execution_count": 38,
   "metadata": {},
   "outputs": [
    {
     "data": {
      "image/png": "[encoded data removed]",
      "text/plain": [
       "<Figure size 1008x504 with 1 Axes>"
      ]
     },
     "metadata": {
      "needs_background": "light"
     },
     "output_type": "display_data"
    }
   ],
   "source": [
    "new_orders = orders[orders['revenue']<=200000]['revenue']\n",
    "xn_values = pd.Series(range(0,len(new_orders)))\n",
    "plt.figure(figsize=(14,7))\n",
    "plt.grid()\n",
    "plt.title('График стоимостей заказов')\n",
    "plt.xlabel('Кол-во пользователей')\n",
    "plt.ylabel('Стоимость заказов')\n",
    "plt.scatter(xn_values, new_orders, alpha=0.5);"
   ]
  },
  {
   "cell_type": "markdown",
   "metadata": {},
   "source": [
    "**Вывод**\n",
    "\n",
    "В результате дополнительного графика можем выбрать границу аномальных заказов. Хорошо видно, что есть 2 аномальных заказ на ~1.3 млн и ~200 тысяч, остальные заказы примерно не больше 100 тысяч. Чтобы найти более точную границу аномальных заказов рассчитаем перцентили."
   ]
  },
  {
   "cell_type": "markdown",
   "metadata": {},
   "source": [
    "### Граница для определения аномальных заказов по выручке"
   ]
  },
  {
   "cell_type": "code",
   "execution_count": 39,
   "metadata": {},
   "outputs": [
    {
     "name": "stdout",
     "output_type": "stream",
     "text": [
      "95 и 99 перцентили по выручке заказов:  [28000.  58233.2]\n"
     ]
    }
   ],
   "source": [
    "# посчитаем 95-й и 99-й перцентили стоимости заказов\n",
    "print('95 и 99 перцентили по выручке заказов: ', np.percentile(orders['revenue'], [95, 99])) "
   ]
  },
  {
   "cell_type": "markdown",
   "metadata": {},
   "source": [
    "**Вывод**\n",
    "\n",
    "99% заказов меньше суммы 58233.2 рублей, установим её в качестве границы для аномалий."
   ]
  },
  {
   "cell_type": "markdown",
   "metadata": {},
   "source": [
    "### Различия в конверсии между группами по «сырым» данным"
   ]
  },
  {
   "cell_type": "code",
   "execution_count": 40,
   "metadata": {},
   "outputs": [
    {
     "data": {
      "text/html": [
       "<div>\n",
       "<style scoped>\n",
       "    .dataframe tbody tr th:only-of-type {\n",
       "        vertical-align: middle;\n",
       "    }\n",
       "\n",
       "    .dataframe tbody tr th {\n",
       "        vertical-align: top;\n",
       "    }\n",
       "\n",
       "    .dataframe thead th {\n",
       "        text-align: right;\n",
       "    }\n",
       "</style>\n",
       "<table border=\"1\" class=\"dataframe\">\n",
       "  <thead>\n",
       "    <tr style=\"text-align: right;\">\n",
       "      <th></th>\n",
       "      <th>date</th>\n",
       "      <th>group</th>\n",
       "      <th>visitors</th>\n",
       "    </tr>\n",
       "  </thead>\n",
       "  <tbody>\n",
       "    <tr>\n",
       "      <th>0</th>\n",
       "      <td>2019-08-01</td>\n",
       "      <td>A</td>\n",
       "      <td>719</td>\n",
       "    </tr>\n",
       "    <tr>\n",
       "      <th>1</th>\n",
       "      <td>2019-08-02</td>\n",
       "      <td>A</td>\n",
       "      <td>619</td>\n",
       "    </tr>\n",
       "    <tr>\n",
       "      <th>2</th>\n",
       "      <td>2019-08-03</td>\n",
       "      <td>A</td>\n",
       "      <td>507</td>\n",
       "    </tr>\n",
       "  </tbody>\n",
       "</table>\n",
       "</div>"
      ],
      "text/plain": [
       "        date group  visitors\n",
       "0 2019-08-01     A       719\n",
       "1 2019-08-02     A       619\n",
       "2 2019-08-03     A       507"
      ]
     },
     "execution_count": 40,
     "metadata": {},
     "output_type": "execute_result"
    }
   ],
   "source": [
    "# посмотрим информацию о посетителях\n",
    "visitors.head(3)"
   ]
  },
  {
   "cell_type": "code",
   "execution_count": 41,
   "metadata": {},
   "outputs": [
    {
     "data": {
      "text/html": [
       "<div>\n",
       "<style scoped>\n",
       "    .dataframe tbody tr th:only-of-type {\n",
       "        vertical-align: middle;\n",
       "    }\n",
       "\n",
       "    .dataframe tbody tr th {\n",
       "        vertical-align: top;\n",
       "    }\n",
       "\n",
       "    .dataframe thead th {\n",
       "        text-align: right;\n",
       "    }\n",
       "</style>\n",
       "<table border=\"1\" class=\"dataframe\">\n",
       "  <thead>\n",
       "    <tr style=\"text-align: right;\">\n",
       "      <th></th>\n",
       "      <th>transactionId</th>\n",
       "      <th>visitorId</th>\n",
       "      <th>date</th>\n",
       "      <th>revenue</th>\n",
       "      <th>group</th>\n",
       "    </tr>\n",
       "  </thead>\n",
       "  <tbody>\n",
       "    <tr>\n",
       "      <th>0</th>\n",
       "      <td>3667963787</td>\n",
       "      <td>3312258926</td>\n",
       "      <td>2019-08-15</td>\n",
       "      <td>1650</td>\n",
       "      <td>B</td>\n",
       "    </tr>\n",
       "    <tr>\n",
       "      <th>1</th>\n",
       "      <td>2804400009</td>\n",
       "      <td>3642806036</td>\n",
       "      <td>2019-08-15</td>\n",
       "      <td>730</td>\n",
       "      <td>B</td>\n",
       "    </tr>\n",
       "    <tr>\n",
       "      <th>2</th>\n",
       "      <td>2961555356</td>\n",
       "      <td>4069496402</td>\n",
       "      <td>2019-08-15</td>\n",
       "      <td>400</td>\n",
       "      <td>A</td>\n",
       "    </tr>\n",
       "  </tbody>\n",
       "</table>\n",
       "</div>"
      ],
      "text/plain": [
       "   transactionId   visitorId       date  revenue group\n",
       "0     3667963787  3312258926 2019-08-15     1650     B\n",
       "1     2804400009  3642806036 2019-08-15      730     B\n",
       "2     2961555356  4069496402 2019-08-15      400     A"
      ]
     },
     "execution_count": 41,
     "metadata": {},
     "output_type": "execute_result"
    }
   ],
   "source": [
    "# посмотрим информацию о заказах\n",
    "orders.head(3)"
   ]
  },
  {
   "cell_type": "code",
   "execution_count": 42,
   "metadata": {},
   "outputs": [],
   "source": [
    "# cоберем все данные по заказам и визитам в одну таблицуи добавим к ним кумулятивные показатели \n",
    "visitorsADaily = visitors[visitors['group']=='A'][['date', 'visitors']]\n",
    "visitorsADaily.columns = ['date', 'visitorsPerDateA']\n",
    "\n",
    "visitorsACummulative = visitorsADaily.apply(lambda x: visitorsADaily[visitorsADaily['date'] <= x['date']].agg({'date' : 'max', 'visitorsPerDateA' : 'sum'}), axis=1)\n",
    "visitorsACummulative.columns = ['date', 'visitorsCummulativeA']\n",
    "\n",
    "visitorsBDaily = visitors[visitors['group']=='B'][['date', 'visitors']]\n",
    "visitorsBDaily.columns = ['date', 'visitorsPerDateB']\n",
    "\n",
    "visitorsBCummulative = visitorsBDaily.apply(lambda x: visitorsBDaily[visitorsBDaily['date'] <= x['date']].agg({'date' : 'max', 'visitorsPerDateB' : 'sum'}), axis=1)\n",
    "visitorsBCummulative.columns = ['date', 'visitorsCummulativeB']\n",
    "\n",
    "\n",
    "ordersADaily = orders[orders['group']=='A'][['date', 'transactionId', 'visitorId', 'revenue']].groupby('date', as_index=False).agg({'transactionId' : 'nunique', 'revenue' : 'sum'})\n",
    "ordersADaily.columns = ['date', 'ordersPerDateA', 'revenuePerDateA']\n",
    "\n",
    "ordersACummulative = ordersADaily.apply(lambda x: ordersADaily[ordersADaily['date'] <= x['date']].agg({'date' : 'max','ordersPerDateA' : 'sum','revenuePerDateA' : 'sum'}), axis=1).sort_values(by=['date'])\n",
    "ordersACummulative.columns = ['date', 'ordersCummulativeA', 'revenueCummulativeA']\n",
    "\n",
    "ordersBDaily = orders[orders['group']=='B'][['date', 'transactionId', 'visitorId', 'revenue']].groupby('date', as_index=False).agg({'transactionId' : 'nunique', 'revenue' : 'sum'})\n",
    "ordersBDaily.columns = ['date', 'ordersPerDateB', 'revenuePerDateB']\n",
    "\n",
    "ordersBCummulative = ordersBDaily.apply(lambda x: ordersBDaily[ordersBDaily['date'] <= x['date']].agg({'date' : 'max', 'ordersPerDateB' : 'sum','revenuePerDateB' : 'sum'}), axis=1).sort_values(by=['date'])\n",
    "\n",
    "ordersBCummulative.columns = ['date', 'ordersCummulativeB', 'revenueCummulativeB']\n"
   ]
  },
  {
   "cell_type": "code",
   "execution_count": 43,
   "metadata": {},
   "outputs": [
    {
     "data": {
      "text/html": [
       "<div>\n",
       "<style scoped>\n",
       "    .dataframe tbody tr th:only-of-type {\n",
       "        vertical-align: middle;\n",
       "    }\n",
       "\n",
       "    .dataframe tbody tr th {\n",
       "        vertical-align: top;\n",
       "    }\n",
       "\n",
       "    .dataframe thead th {\n",
       "        text-align: right;\n",
       "    }\n",
       "</style>\n",
       "<table border=\"1\" class=\"dataframe\">\n",
       "  <thead>\n",
       "    <tr style=\"text-align: right;\">\n",
       "      <th></th>\n",
       "      <th>date</th>\n",
       "      <th>ordersPerDateA</th>\n",
       "      <th>revenuePerDateA</th>\n",
       "      <th>ordersPerDateB</th>\n",
       "      <th>revenuePerDateB</th>\n",
       "      <th>ordersCummulativeA</th>\n",
       "      <th>revenueCummulativeA</th>\n",
       "      <th>ordersCummulativeB</th>\n",
       "      <th>revenueCummulativeB</th>\n",
       "      <th>visitorsPerDateA</th>\n",
       "      <th>visitorsPerDateB</th>\n",
       "      <th>visitorsCummulativeA</th>\n",
       "      <th>visitorsCummulativeB</th>\n",
       "    </tr>\n",
       "  </thead>\n",
       "  <tbody>\n",
       "    <tr>\n",
       "      <th>0</th>\n",
       "      <td>2019-08-01</td>\n",
       "      <td>24</td>\n",
       "      <td>148579</td>\n",
       "      <td>21</td>\n",
       "      <td>101217</td>\n",
       "      <td>24</td>\n",
       "      <td>148579</td>\n",
       "      <td>21</td>\n",
       "      <td>101217</td>\n",
       "      <td>719</td>\n",
       "      <td>713</td>\n",
       "      <td>719</td>\n",
       "      <td>713</td>\n",
       "    </tr>\n",
       "    <tr>\n",
       "      <th>1</th>\n",
       "      <td>2019-08-02</td>\n",
       "      <td>20</td>\n",
       "      <td>93822</td>\n",
       "      <td>24</td>\n",
       "      <td>165531</td>\n",
       "      <td>44</td>\n",
       "      <td>242401</td>\n",
       "      <td>45</td>\n",
       "      <td>266748</td>\n",
       "      <td>619</td>\n",
       "      <td>581</td>\n",
       "      <td>1338</td>\n",
       "      <td>1294</td>\n",
       "    </tr>\n",
       "    <tr>\n",
       "      <th>2</th>\n",
       "      <td>2019-08-03</td>\n",
       "      <td>24</td>\n",
       "      <td>112473</td>\n",
       "      <td>16</td>\n",
       "      <td>114248</td>\n",
       "      <td>68</td>\n",
       "      <td>354874</td>\n",
       "      <td>61</td>\n",
       "      <td>380996</td>\n",
       "      <td>507</td>\n",
       "      <td>509</td>\n",
       "      <td>1845</td>\n",
       "      <td>1803</td>\n",
       "    </tr>\n",
       "    <tr>\n",
       "      <th>3</th>\n",
       "      <td>2019-08-04</td>\n",
       "      <td>16</td>\n",
       "      <td>70825</td>\n",
       "      <td>17</td>\n",
       "      <td>108571</td>\n",
       "      <td>84</td>\n",
       "      <td>425699</td>\n",
       "      <td>78</td>\n",
       "      <td>489567</td>\n",
       "      <td>717</td>\n",
       "      <td>770</td>\n",
       "      <td>2562</td>\n",
       "      <td>2573</td>\n",
       "    </tr>\n",
       "    <tr>\n",
       "      <th>4</th>\n",
       "      <td>2019-08-05</td>\n",
       "      <td>25</td>\n",
       "      <td>124218</td>\n",
       "      <td>23</td>\n",
       "      <td>92428</td>\n",
       "      <td>109</td>\n",
       "      <td>549917</td>\n",
       "      <td>101</td>\n",
       "      <td>581995</td>\n",
       "      <td>756</td>\n",
       "      <td>707</td>\n",
       "      <td>3318</td>\n",
       "      <td>3280</td>\n",
       "    </tr>\n",
       "  </tbody>\n",
       "</table>\n",
       "</div>"
      ],
      "text/plain": [
       "        date  ordersPerDateA  revenuePerDateA  ordersPerDateB  \\\n",
       "0 2019-08-01              24           148579              21   \n",
       "1 2019-08-02              20            93822              24   \n",
       "2 2019-08-03              24           112473              16   \n",
       "3 2019-08-04              16            70825              17   \n",
       "4 2019-08-05              25           124218              23   \n",
       "\n",
       "   revenuePerDateB  ordersCummulativeA  revenueCummulativeA  \\\n",
       "0           101217                  24               148579   \n",
       "1           165531                  44               242401   \n",
       "2           114248                  68               354874   \n",
       "3           108571                  84               425699   \n",
       "4            92428                 109               549917   \n",
       "\n",
       "   ordersCummulativeB  revenueCummulativeB  visitorsPerDateA  \\\n",
       "0                  21               101217               719   \n",
       "1                  45               266748               619   \n",
       "2                  61               380996               507   \n",
       "3                  78               489567               717   \n",
       "4                 101               581995               756   \n",
       "\n",
       "   visitorsPerDateB  visitorsCummulativeA  visitorsCummulativeB  \n",
       "0               713                   719                   713  \n",
       "1               581                  1338                  1294  \n",
       "2               509                  1845                  1803  \n",
       "3               770                  2562                  2573  \n",
       "4               707                  3318                  3280  "
      ]
     },
     "execution_count": 43,
     "metadata": {},
     "output_type": "execute_result"
    }
   ],
   "source": [
    "data = ( \n",
    "    ordersADaily.merge(\n",
    "        ordersBDaily, left_on='date', right_on='date', how='left'\n",
    "    )\n",
    "    .merge(ordersACummulative, left_on='date', right_on='date', how='left')\n",
    "    .merge(ordersBCummulative, left_on='date', right_on='date', how='left')\n",
    "    .merge(visitorsADaily, left_on='date', right_on='date', how='left')\n",
    "    .merge(visitorsBDaily, left_on='date', right_on='date', how='left')\n",
    "    .merge(visitorsACummulative, left_on='date', right_on='date', how='left')\n",
    "    .merge(visitorsBCummulative, left_on='date', right_on='date', how='left')\n",
    ")\n",
    "data.head(5)"
   ]
  },
  {
   "cell_type": "markdown",
   "metadata": {},
   "source": [
    "Применим критерий и отформатируем p-value, округлив его до трёх знаков после запятой. \n",
    "\n",
    "В **sampleA** сохраним выборку, где каждый элемент — число заказов определённого пользователя, в том числе ноль. Значит, число элементов sampleA — это количество пользователей, сумма всех элементов — количество заказов. Чтобы получить конверсию в группе, поделим сумму заказов на число пользователей — найдём среднее в выборке **sampleA** методом mean(). \n",
    "\n",
    "Аналогично найдём конверсию группы B: **SampleB.mean()**.\n",
    "    \n",
    "Выведем относительный прирост конверсии группы \"B\": конверсия группы \"B\" / конверсия группы \"A\" - 1. Округлим до трёх знаков после запятой (пороговое значение возьмём равное 5%).\n",
    "\n",
    "За нулевую гипотезу возьмём что: **\"Статистически значимых различий в конверсии между группами нет\"**; тогда альтернативная гипотеза будет гласить: **\"Статистически значимые различия есть\"**."
   ]
  },
  {
   "cell_type": "code",
   "execution_count": 44,
   "metadata": {},
   "outputs": [
    {
     "name": "stdout",
     "output_type": "stream",
     "text": [
      "alpha = 0.05\n",
      "p-value = 0.017\n",
      "Относительный показатель 'B' и 'A' = 0.138\n"
     ]
    }
   ],
   "source": [
    "ordersByUsersA = orders[orders['group']=='A'].groupby('visitorId', as_index=False).agg({'transactionId' : 'nunique'})\n",
    "ordersByUsersA.columns = ['userId', 'orders']\n",
    "\n",
    "ordersByUsersB = orders[orders['group']=='B'].groupby('visitorId', as_index=False).agg({'transactionId' : 'nunique'})\n",
    "ordersByUsersB.columns = ['userId', 'orders']\n",
    "\n",
    "sampleA = pd.concat([ordersByUsersA['orders'],pd.Series(0, index=np.arange(data['visitorsPerDateA'].sum() - len(ordersByUsersA['orders'])), name='orders')],axis=0)\n",
    "\n",
    "sampleB = pd.concat([ordersByUsersB['orders'],pd.Series(0, index=np.arange(data['visitorsPerDateB'].sum() - len(ordersByUsersB['orders'])), name='orders')],axis=0)\n",
    "\n",
    "print('alpha =',0.05)\n",
    "print('p-value = {0:.3f}'.format(stats.mannwhitneyu(sampleA, sampleB, alternative = 'two-sided')[1]))\n",
    "print(\"Относительный показатель 'B' и 'A' = {0:.3f}\".format(sampleB.mean()/sampleA.mean()-1)) "
   ]
  },
  {
   "cell_type": "markdown",
   "metadata": {},
   "source": [
    "**Вывод**\n",
    "\n",
    "P-value = 0.017 меньше 0.05. Значит, нулевую гипотезу о том, что статистически значимых различий в конверсии между группами нет - отвергаем. Это значит, что по «сырым» данным различиям в конверсии группы \"A\" и \"B\" есть. А относительный выигрыш группы \"B\" над \"A\" равен 13.8% ."
   ]
  },
  {
   "cell_type": "markdown",
   "metadata": {},
   "source": [
    "### Статистическая значимость различий в среднем чеке заказа между группами по «сырым» данным"
   ]
  },
  {
   "cell_type": "markdown",
   "metadata": {},
   "source": [
    "Чтобы рассчитать статистическую значимость различий в среднем чеке между группами, передадим критерию mannwhitneyu() данные о выручке с заказов, где пороговое значение возьмём равное 5%. И найдём относительные различия в среднем чеке между группами.\n",
    "\n",
    "За нулевую гипотезу возьмём что: **\"Статистически значимых различий в средних чеках между группами нет\"**, тогда альтернативная гипотеза будет гласить: **\"Статистически значимые различия есть\"**."
   ]
  },
  {
   "cell_type": "code",
   "execution_count": 45,
   "metadata": {},
   "outputs": [
    {
     "name": "stdout",
     "output_type": "stream",
     "text": [
      "alpha = 0.05\n",
      "p-value = 0.729\n",
      "Относительный показатель 'B' и 'A' = 0.259\n"
     ]
    }
   ],
   "source": [
    "print('alpha =',0.05)\n",
    "print('p-value = {0:.3f}'.format(stats.mannwhitneyu(orders[orders['group']=='A']['revenue'], orders[orders['group']=='B']['revenue'], alternative = 'two-sided')[1]))\n",
    "print(\"Относительный показатель 'B' и 'A' = {0:.3f}\".format(orders[orders['group']=='B']['revenue'].mean()/orders[orders['group']=='A']['revenue'].mean()-1)) "
   ]
  },
  {
   "cell_type": "markdown",
   "metadata": {},
   "source": [
    "**Вывод**\n",
    "\n",
    "P-value существенно больше 0.05. Значит, причин отвергать нулевую гипотезу и считать, что в среднем чеке есть различия, нет. То есть средние чеки по \"сырым\" данным схожи. И при этом, средний чек группы \"B\" значительно выше среднего чека группы \"A\" на 25,9%."
   ]
  },
  {
   "cell_type": "markdown",
   "metadata": {},
   "source": [
    "### Различия в конверсии между группами по «очищенным» данным"
   ]
  },
  {
   "cell_type": "markdown",
   "metadata": {},
   "source": [
    "После проведенных исследований из пунктов 3.6-3.9, приняли за аномальных пользователей тех, кто совершил 3 и больше заказов или совершил заказ дороже 58233.2 рублей. Сделаем срезы пользователей с числом заказов больше 2 — usersWithManyOrders и пользователей, совершивших заказы дороже 58233.2 — usersWithExpensiveOrders. Объединим их в таблице abnormalUsers. Узнаем, сколько всего аномальных пользователей методом shape()."
   ]
  },
  {
   "cell_type": "code",
   "execution_count": 46,
   "metadata": {},
   "outputs": [
    {
     "name": "stdout",
     "output_type": "stream",
     "text": [
      "1099    148427295\n",
      "18      199603092\n",
      "23      237748145\n",
      "37      249864742\n",
      "68      457167155\n",
      "dtype: int64\n",
      "Всего аномальных пользователей = 31\n"
     ]
    }
   ],
   "source": [
    "# делаем срезы пользователей с числом заказов > 2 (usersWithManyOrders) и \n",
    "# пользователей совершивших заказы на сумму > 58233.2 (usersWithExpensiveOrders)\n",
    "usersWithManyOrders = pd.concat(\n",
    "    [\n",
    "        ordersByUsersA[ordersByUsersA['orders'] > 2]['userId'], \n",
    "        ordersByUsersB[ordersByUsersB['orders'] > 2]['userId']\n",
    "    ], \n",
    "    axis = 0\n",
    ")\n",
    "usersWithExpensiveOrders = orders[orders['revenue'] > 58233.2]['visitorId']\n",
    "abnormalUsers = (\n",
    "    pd.concat([usersWithManyOrders, usersWithExpensiveOrders], axis = 0)\n",
    "    .drop_duplicates().sort_values()\n",
    ")\n",
    "print(abnormalUsers.head(5))\n",
    "print(\"Всего аномальных пользователей =\" ,len(abnormalUsers)) "
   ]
  },
  {
   "cell_type": "code",
   "execution_count": 47,
   "metadata": {},
   "outputs": [],
   "source": [
    "# cоздадим переменные sampleAFiltered и sampleBFiltered, в которых сохраните очищенные данные о заказах — не включая аномальных пользователей\n",
    "sampleAFiltered = pd.concat(\n",
    "    [\n",
    "        ordersByUsersA[\n",
    "            np.logical_not(ordersByUsersA['userId'].isin(abnormalUsers))\n",
    "        ]['orders'], \n",
    "        pd.Series(\n",
    "            0, \n",
    "            index=np.arange(\n",
    "                data['visitorsPerDateA'].sum() - len(ordersByUsersA['orders'])\n",
    "            ),\n",
    "            name='orders'\n",
    "        )\n",
    "    ],\n",
    "    axis=0,\n",
    ")\n",
    "\n",
    "sampleBFiltered = pd.concat(\n",
    "    [\n",
    "        ordersByUsersB[\n",
    "            np.logical_not(ordersByUsersB['userId'].isin(abnormalUsers))\n",
    "        ]['orders'],\n",
    "        pd.Series(\n",
    "            0, index=np.arange(\n",
    "                data['visitorsPerDateB'].sum() - len(ordersByUsersB['orders'])\n",
    "            ),\n",
    "            name='orders'\n",
    "        )\n",
    "    ],\n",
    "    axis=0,\n",
    ") "
   ]
  },
  {
   "cell_type": "markdown",
   "metadata": {},
   "source": [
    "Применим статистический критерий Манна-Уитни к полученным выборкам.\n",
    "\n",
    "За нулевую гипотезу возьмём что: **Cтатистически значимых различий в конверсии между группами нет\"**, тогда альтернативная гипотеза будет гласить: **Статистически значимые различия есть**."
   ]
  },
  {
   "cell_type": "code",
   "execution_count": 48,
   "metadata": {},
   "outputs": [
    {
     "name": "stdout",
     "output_type": "stream",
     "text": [
      "alpha = 0.05\n",
      "p-value = 0.010\n",
      "Относительный показатель 'B' и 'A' = 0.174\n"
     ]
    }
   ],
   "source": [
    "print('alpha =',0.05)\n",
    "print('p-value = {0:.3f}'.format(stats.mannwhitneyu(sampleAFiltered, sampleBFiltered, alternative = 'two-sided')[1]))\n",
    "print(\"Относительный показатель 'B' и 'A' = {0:.3f}\".format(sampleBFiltered.mean()/sampleAFiltered.mean()-1)) "
   ]
  },
  {
   "cell_type": "markdown",
   "metadata": {},
   "source": [
    "**Вывод**\n",
    "\n",
    "P-value = 0.01 меньше 0.05. Значит, нулевую гипотезу о том, что статистически значимых различий в конверсии между группами нет, - отвергаем. следовательно, «очищенным» данным различия в конверсии групп \"A\" и \"B\" есть. А относительный выигрыш группы \"B\" над \"A\" равен 17,4% (выше, чем с «сырыми» данными - 13.8%) ."
   ]
  },
  {
   "cell_type": "markdown",
   "metadata": {},
   "source": [
    "### Статистическая значимость различий в среднем чеке заказа между группами по «очищенным» данным"
   ]
  },
  {
   "cell_type": "markdown",
   "metadata": {},
   "source": [
    "За нулевую гипотезу возьмём что: **\"Статистически значимых различий в средних чеках между группами нет\"**,  тогда альтернативная гипотеза будет гласить: **Статистически значимые различия есть**."
   ]
  },
  {
   "cell_type": "code",
   "execution_count": 49,
   "metadata": {},
   "outputs": [
    {
     "name": "stdout",
     "output_type": "stream",
     "text": [
      "alpha = 0.05\n",
      "p-value = 0.798\n",
      "Относительный показатель 'B' и 'A' = -0.020\n"
     ]
    }
   ],
   "source": [
    "print('alpha =',0.05)\n",
    "print('p-value = {0:.3f}'.format(stats.mannwhitneyu(\n",
    "    orders[np.logical_and(\n",
    "        orders['group']=='A',\n",
    "        np.logical_not(orders['visitorId'].isin(abnormalUsers)))]['revenue'],\n",
    "    orders[np.logical_and(\n",
    "        orders['group']=='B',\n",
    "        np.logical_not(orders['visitorId'].isin(abnormalUsers)))]['revenue'], alternative = 'two-sided')[1]))\n",
    "\n",
    "print(\"Относительный показатель 'B' и 'A' = {0:.3f}\".format(\n",
    "    orders[np.logical_and(orders['group']=='B',np.logical_not(orders['visitorId'].isin(abnormalUsers)))]['revenue'].mean()/\n",
    "    orders[np.logical_and(\n",
    "        orders['group']=='A',\n",
    "        np.logical_not(orders['visitorId'].isin(abnormalUsers)))]['revenue'].mean() - 1)) "
   ]
  },
  {
   "cell_type": "markdown",
   "metadata": {},
   "source": [
    "**Вывод**\n",
    "\n",
    "P-value значительно больше 0.05. Значит, причин отвергать нулевую гипотезу и считать, что в среднем чеке есть различия, тоже нет (как и с \"сырыми\" данными). Однако, средний чек группы \"B\" оказался незначительно ниже среднего чека группы \"A\" на 2%, в то время как по \"сырым\" данным, он был больше на 25,9%. Данное различие связано с аномальным заказом на 1,3 млн."
   ]
  },
  {
   "cell_type": "markdown",
   "metadata": {},
   "source": [
    "### Решение по результатам теста"
   ]
  },
  {
   "cell_type": "markdown",
   "metadata": {},
   "source": [
    "Примите решение по результатам теста и объясните его. Варианты решений: 1. Остановить тест, зафиксировать победу одной из групп. 2. Остановить тест, зафиксировать отсутствие различий между группами. 3. Продолжить тест."
   ]
  },
  {
   "cell_type": "markdown",
   "metadata": {},
   "source": [
    "**По результатам тестирования было выявлено:**\n",
    "\n",
    "И по \"сырым\" и по \"очищенным\" данным различия в конверсии групп \"A\" и \"B\" существенны. По \"сырым\" данным относительный выигрыш сегмента \"B\" над \"А\" составляет 13,8%, а по \"очищенным\" - 17,4%.\n",
    "\n",
    "Однако, по \"сырым\" и по \"очищенным\" данным различия в средних чеках групп \"A\" и \"B\" отстутствует. Несмотря на то, что средний чек группы \"B\" оказался ниже среднего чека группы A по \"очищенным\" данным на 2%, в то время как по \"сырым\" данным, он был больше на 25,9%. Данное различие связано с аномальным заказом на 1,3 млн. После анализа выбросов чеки сравнялись.\n",
    "\n",
    "Результаты тестирования вполне однозначны. В итоге можно принять решение остановить тестирование и констатировать успех и победу группы \"B\". Группа \"B\" значительно эффективнее группы \"A\" по конверсии, хотя по среднему чеку группы примерно равны."
   ]
  }
 ],
 "metadata": {
  "ExecuteTimeLog": [
   {
    "duration": 30,
    "start_time": "2022-06-07T11:13:56.022Z"
   },
   {
    "duration": 32,
    "start_time": "2022-06-07T11:17:55.241Z"
   },
   {
    "duration": 25,
    "start_time": "2022-06-07T11:17:59.684Z"
   },
   {
    "duration": 23,
    "start_time": "2022-06-07T11:26:07.590Z"
   },
   {
    "duration": 3,
    "start_time": "2022-06-07T11:28:35.200Z"
   },
   {
    "duration": 53,
    "start_time": "2022-06-07T12:02:14.656Z"
   },
   {
    "duration": 1212,
    "start_time": "2022-06-07T12:02:58.281Z"
   },
   {
    "duration": 209,
    "start_time": "2022-06-07T12:02:59.496Z"
   },
   {
    "duration": 79,
    "start_time": "2022-06-07T12:03:27.485Z"
   },
   {
    "duration": 44,
    "start_time": "2022-06-07T12:20:49.300Z"
   },
   {
    "duration": 37,
    "start_time": "2022-06-07T12:20:57.732Z"
   },
   {
    "duration": 82,
    "start_time": "2022-06-07T12:20:59.467Z"
   },
   {
    "duration": 3,
    "start_time": "2022-06-07T12:22:08.046Z"
   },
   {
    "duration": 77,
    "start_time": "2022-06-07T12:22:08.499Z"
   },
   {
    "duration": 4,
    "start_time": "2022-06-07T12:23:46.452Z"
   },
   {
    "duration": 97,
    "start_time": "2022-06-07T12:23:46.764Z"
   },
   {
    "duration": 27,
    "start_time": "2022-06-07T12:28:40.184Z"
   },
   {
    "duration": 21,
    "start_time": "2022-06-07T12:29:31.935Z"
   },
   {
    "duration": 16,
    "start_time": "2022-06-07T12:29:42.148Z"
   },
   {
    "duration": 19,
    "start_time": "2022-06-07T12:29:50.582Z"
   },
   {
    "duration": 20,
    "start_time": "2022-06-07T12:30:08.040Z"
   },
   {
    "duration": 25,
    "start_time": "2022-06-07T12:30:17.960Z"
   },
   {
    "duration": 3,
    "start_time": "2022-06-07T12:37:21.274Z"
   },
   {
    "duration": 17,
    "start_time": "2022-06-07T12:52:41.192Z"
   },
   {
    "duration": 15,
    "start_time": "2022-06-07T12:53:59.949Z"
   },
   {
    "duration": 11,
    "start_time": "2022-06-07T12:54:12.433Z"
   },
   {
    "duration": 52,
    "start_time": "2022-06-07T12:54:31.026Z"
   },
   {
    "duration": 22,
    "start_time": "2022-06-07T12:54:42.896Z"
   },
   {
    "duration": 28,
    "start_time": "2022-06-07T12:55:46.706Z"
   },
   {
    "duration": 13,
    "start_time": "2022-06-07T12:55:54.808Z"
   },
   {
    "duration": 13,
    "start_time": "2022-06-07T12:57:11.673Z"
   },
   {
    "duration": 7,
    "start_time": "2022-06-07T12:58:35.095Z"
   },
   {
    "duration": 17,
    "start_time": "2022-06-07T13:34:39.842Z"
   },
   {
    "duration": 237,
    "start_time": "2022-06-07T13:34:40.150Z"
   },
   {
    "duration": 33,
    "start_time": "2022-06-07T13:34:40.428Z"
   },
   {
    "duration": 7,
    "start_time": "2022-06-07T13:34:40.691Z"
   },
   {
    "duration": 4,
    "start_time": "2022-06-07T13:34:57.045Z"
   },
   {
    "duration": 72,
    "start_time": "2022-06-07T13:34:57.745Z"
   },
   {
    "duration": 21,
    "start_time": "2022-06-07T13:34:58.734Z"
   },
   {
    "duration": 23,
    "start_time": "2022-06-07T13:35:00.186Z"
   },
   {
    "duration": 17,
    "start_time": "2022-06-07T13:35:01.244Z"
   },
   {
    "duration": 19,
    "start_time": "2022-06-07T13:35:01.649Z"
   },
   {
    "duration": 6,
    "start_time": "2022-06-07T13:35:03.396Z"
   },
   {
    "duration": 3,
    "start_time": "2022-06-07T13:35:13.602Z"
   },
   {
    "duration": 5,
    "start_time": "2022-06-07T18:19:13.848Z"
   },
   {
    "duration": 174,
    "start_time": "2022-06-07T18:19:15.153Z"
   },
   {
    "duration": 20,
    "start_time": "2022-06-07T18:19:16.571Z"
   },
   {
    "duration": 15,
    "start_time": "2022-06-07T18:19:18.673Z"
   },
   {
    "duration": 11,
    "start_time": "2022-06-07T18:19:19.219Z"
   },
   {
    "duration": 22,
    "start_time": "2022-06-07T18:19:19.788Z"
   },
   {
    "duration": 6,
    "start_time": "2022-06-07T18:19:20.275Z"
   },
   {
    "duration": 2,
    "start_time": "2022-06-07T18:55:43.662Z"
   },
   {
    "duration": 15,
    "start_time": "2022-06-07T18:56:08.311Z"
   },
   {
    "duration": 4,
    "start_time": "2022-06-07T18:56:22.927Z"
   },
   {
    "duration": 67,
    "start_time": "2022-06-07T18:56:23.712Z"
   },
   {
    "duration": 16,
    "start_time": "2022-06-07T18:56:25.444Z"
   },
   {
    "duration": 14,
    "start_time": "2022-06-07T18:56:27.211Z"
   },
   {
    "duration": 10,
    "start_time": "2022-06-07T18:56:27.869Z"
   },
   {
    "duration": 16,
    "start_time": "2022-06-07T18:56:28.664Z"
   },
   {
    "duration": 6,
    "start_time": "2022-06-07T18:56:29.541Z"
   },
   {
    "duration": 16,
    "start_time": "2022-06-07T18:56:31.349Z"
   },
   {
    "duration": 5,
    "start_time": "2022-06-07T18:57:49.344Z"
   },
   {
    "duration": 7,
    "start_time": "2022-06-07T18:58:01.369Z"
   },
   {
    "duration": 10,
    "start_time": "2022-06-07T18:58:21.761Z"
   },
   {
    "duration": 10,
    "start_time": "2022-06-07T18:58:48.064Z"
   },
   {
    "duration": 4,
    "start_time": "2022-06-07T18:59:19.159Z"
   },
   {
    "duration": 10,
    "start_time": "2022-06-07T19:31:15.468Z"
   },
   {
    "duration": 30,
    "start_time": "2022-06-07T19:36:47.059Z"
   },
   {
    "duration": 10,
    "start_time": "2022-06-07T19:37:08.395Z"
   },
   {
    "duration": 3,
    "start_time": "2022-06-07T19:37:18.350Z"
   },
   {
    "duration": 4,
    "start_time": "2022-06-07T19:37:25.523Z"
   },
   {
    "duration": 11,
    "start_time": "2022-06-07T19:38:50.384Z"
   },
   {
    "duration": 4,
    "start_time": "2022-06-07T19:44:17.081Z"
   },
   {
    "duration": 10,
    "start_time": "2022-06-07T19:44:18.847Z"
   },
   {
    "duration": 4,
    "start_time": "2022-06-07T19:44:38.950Z"
   },
   {
    "duration": 11,
    "start_time": "2022-06-07T19:44:39.554Z"
   },
   {
    "duration": 11,
    "start_time": "2022-06-07T19:46:12.874Z"
   },
   {
    "duration": 4,
    "start_time": "2022-06-07T19:47:29.861Z"
   },
   {
    "duration": 4,
    "start_time": "2022-06-07T19:49:51.202Z"
   },
   {
    "duration": 12,
    "start_time": "2022-06-07T19:49:51.858Z"
   },
   {
    "duration": 10,
    "start_time": "2022-06-07T19:50:55.560Z"
   },
   {
    "duration": 28,
    "start_time": "2022-06-07T19:53:47.701Z"
   },
   {
    "duration": 26,
    "start_time": "2022-06-07T20:16:32.895Z"
   },
   {
    "duration": 1033,
    "start_time": "2022-06-08T10:41:50.165Z"
   },
   {
    "duration": 176,
    "start_time": "2022-06-08T10:41:51.200Z"
   },
   {
    "duration": 19,
    "start_time": "2022-06-08T10:41:52.557Z"
   },
   {
    "duration": 14,
    "start_time": "2022-06-08T10:41:54.957Z"
   },
   {
    "duration": 12,
    "start_time": "2022-06-08T10:41:55.604Z"
   },
   {
    "duration": 18,
    "start_time": "2022-06-08T10:41:56.279Z"
   },
   {
    "duration": 6,
    "start_time": "2022-06-08T10:41:57.094Z"
   },
   {
    "duration": 14,
    "start_time": "2022-06-08T10:41:58.605Z"
   },
   {
    "duration": 5,
    "start_time": "2022-06-08T10:41:59.117Z"
   },
   {
    "duration": 11,
    "start_time": "2022-06-08T10:41:59.661Z"
   },
   {
    "duration": 4,
    "start_time": "2022-06-08T10:42:00.182Z"
   },
   {
    "duration": 7,
    "start_time": "2022-06-08T10:42:02.093Z"
   },
   {
    "duration": 5,
    "start_time": "2022-06-08T10:42:02.693Z"
   },
   {
    "duration": 8,
    "start_time": "2022-06-08T10:42:03.318Z"
   },
   {
    "duration": 4,
    "start_time": "2022-06-08T10:42:03.893Z"
   },
   {
    "duration": 11,
    "start_time": "2022-06-08T10:42:04.565Z"
   },
   {
    "duration": 10,
    "start_time": "2022-06-08T11:59:07.354Z"
   },
   {
    "duration": 13,
    "start_time": "2022-06-08T12:01:16.810Z"
   },
   {
    "duration": 7,
    "start_time": "2022-06-08T12:04:11.037Z"
   },
   {
    "duration": 14,
    "start_time": "2022-06-08T12:39:32.502Z"
   },
   {
    "duration": 12,
    "start_time": "2022-06-08T12:43:48.312Z"
   },
   {
    "duration": 9,
    "start_time": "2022-06-08T12:44:34.398Z"
   },
   {
    "duration": 11,
    "start_time": "2022-06-08T12:44:52.926Z"
   },
   {
    "duration": 6,
    "start_time": "2022-06-08T12:47:40.383Z"
   },
   {
    "duration": 33,
    "start_time": "2022-06-08T12:58:47.390Z"
   },
   {
    "duration": 23,
    "start_time": "2022-06-08T12:58:58.910Z"
   },
   {
    "duration": 161,
    "start_time": "2022-06-08T12:59:12.334Z"
   },
   {
    "duration": 103,
    "start_time": "2022-06-08T13:01:36.103Z"
   },
   {
    "duration": 244,
    "start_time": "2022-06-08T13:01:44.191Z"
   },
   {
    "duration": 6,
    "start_time": "2022-06-08T13:01:44.704Z"
   },
   {
    "duration": 6,
    "start_time": "2022-06-08T13:02:03.512Z"
   },
   {
    "duration": 9,
    "start_time": "2022-06-08T13:02:42.502Z"
   },
   {
    "duration": 459,
    "start_time": "2022-06-08T13:08:24.818Z"
   },
   {
    "duration": 339,
    "start_time": "2022-06-08T13:08:54.888Z"
   },
   {
    "duration": 238,
    "start_time": "2022-06-08T13:09:34.125Z"
   },
   {
    "duration": 202,
    "start_time": "2022-06-08T13:15:38.787Z"
   },
   {
    "duration": 202,
    "start_time": "2022-06-08T13:16:19.678Z"
   },
   {
    "duration": 276,
    "start_time": "2022-06-08T13:16:42.567Z"
   },
   {
    "duration": 194,
    "start_time": "2022-06-08T13:16:47.085Z"
   },
   {
    "duration": 210,
    "start_time": "2022-06-08T13:17:08.446Z"
   },
   {
    "duration": 221,
    "start_time": "2022-06-08T13:17:20.054Z"
   },
   {
    "duration": 66,
    "start_time": "2022-06-08T17:14:50.108Z"
   },
   {
    "duration": 1342,
    "start_time": "2022-06-08T17:15:00.573Z"
   },
   {
    "duration": 226,
    "start_time": "2022-06-08T17:15:01.918Z"
   },
   {
    "duration": 20,
    "start_time": "2022-06-08T17:15:03.371Z"
   },
   {
    "duration": 15,
    "start_time": "2022-06-08T17:15:05.092Z"
   },
   {
    "duration": 11,
    "start_time": "2022-06-08T17:15:05.599Z"
   },
   {
    "duration": 17,
    "start_time": "2022-06-08T17:15:06.095Z"
   },
   {
    "duration": 5,
    "start_time": "2022-06-08T17:15:06.549Z"
   },
   {
    "duration": 15,
    "start_time": "2022-06-08T17:15:07.996Z"
   },
   {
    "duration": 6,
    "start_time": "2022-06-08T17:15:08.552Z"
   },
   {
    "duration": 12,
    "start_time": "2022-06-08T17:15:08.984Z"
   },
   {
    "duration": 8,
    "start_time": "2022-06-08T17:15:09.455Z"
   },
   {
    "duration": 10,
    "start_time": "2022-06-08T17:15:11.284Z"
   },
   {
    "duration": 6,
    "start_time": "2022-06-08T17:15:11.577Z"
   },
   {
    "duration": 10,
    "start_time": "2022-06-08T17:15:18.383Z"
   },
   {
    "duration": 4,
    "start_time": "2022-06-08T17:15:19.371Z"
   },
   {
    "duration": 9,
    "start_time": "2022-06-08T17:15:20.196Z"
   },
   {
    "duration": 9,
    "start_time": "2022-06-08T17:15:28.571Z"
   },
   {
    "duration": 19,
    "start_time": "2022-06-08T17:15:29.355Z"
   },
   {
    "duration": 8,
    "start_time": "2022-06-08T17:15:29.907Z"
   },
   {
    "duration": 15,
    "start_time": "2022-06-08T17:15:30.733Z"
   },
   {
    "duration": 4,
    "start_time": "2022-06-08T17:15:31.416Z"
   },
   {
    "duration": 64,
    "start_time": "2022-06-08T17:15:32.305Z"
   },
   {
    "duration": 5,
    "start_time": "2022-06-08T17:15:38.122Z"
   },
   {
    "duration": 286,
    "start_time": "2022-06-08T17:15:38.507Z"
   },
   {
    "duration": 7,
    "start_time": "2022-06-08T17:15:39.230Z"
   },
   {
    "duration": 8,
    "start_time": "2022-06-08T17:15:40.078Z"
   },
   {
    "duration": 323,
    "start_time": "2022-06-08T17:15:41.153Z"
   },
   {
    "duration": 213,
    "start_time": "2022-06-08T17:15:43.671Z"
   },
   {
    "duration": 10,
    "start_time": "2022-06-08T17:16:16.149Z"
   },
   {
    "duration": 11,
    "start_time": "2022-06-08T17:16:17.406Z"
   },
   {
    "duration": 6,
    "start_time": "2022-06-08T17:16:31.477Z"
   },
   {
    "duration": 291,
    "start_time": "2022-06-08T17:16:31.791Z"
   },
   {
    "duration": 10,
    "start_time": "2022-06-08T17:16:34.005Z"
   },
   {
    "duration": 14,
    "start_time": "2022-06-08T17:16:34.653Z"
   },
   {
    "duration": 240,
    "start_time": "2022-06-08T17:16:36.076Z"
   },
   {
    "duration": 213,
    "start_time": "2022-06-08T17:16:37.634Z"
   },
   {
    "duration": 219,
    "start_time": "2022-06-08T17:23:32.005Z"
   },
   {
    "duration": 363,
    "start_time": "2022-06-08T18:33:25.061Z"
   },
   {
    "duration": 331,
    "start_time": "2022-06-08T18:33:43.563Z"
   },
   {
    "duration": 412,
    "start_time": "2022-06-08T18:37:04.579Z"
   },
   {
    "duration": 1357,
    "start_time": "2022-06-08T20:15:13.910Z"
   },
   {
    "duration": 180,
    "start_time": "2022-06-08T20:15:15.269Z"
   },
   {
    "duration": 19,
    "start_time": "2022-06-08T20:15:16.168Z"
   },
   {
    "duration": 21,
    "start_time": "2022-06-08T20:15:17.564Z"
   },
   {
    "duration": 22,
    "start_time": "2022-06-08T20:15:17.867Z"
   },
   {
    "duration": 20,
    "start_time": "2022-06-08T20:15:18.262Z"
   },
   {
    "duration": 7,
    "start_time": "2022-06-08T20:15:18.615Z"
   },
   {
    "duration": 20,
    "start_time": "2022-06-08T20:15:19.553Z"
   },
   {
    "duration": 6,
    "start_time": "2022-06-08T20:15:19.954Z"
   },
   {
    "duration": 11,
    "start_time": "2022-06-08T20:15:20.311Z"
   },
   {
    "duration": 6,
    "start_time": "2022-06-08T20:15:20.621Z"
   },
   {
    "duration": 9,
    "start_time": "2022-06-08T20:15:22.607Z"
   },
   {
    "duration": 6,
    "start_time": "2022-06-08T20:15:22.995Z"
   },
   {
    "duration": 8,
    "start_time": "2022-06-08T20:15:23.304Z"
   },
   {
    "duration": 5,
    "start_time": "2022-06-08T20:15:23.720Z"
   },
   {
    "duration": 12,
    "start_time": "2022-06-08T20:15:24.111Z"
   },
   {
    "duration": 11,
    "start_time": "2022-06-08T20:15:25.362Z"
   },
   {
    "duration": 13,
    "start_time": "2022-06-08T20:15:25.716Z"
   },
   {
    "duration": 9,
    "start_time": "2022-06-08T20:15:26.039Z"
   },
   {
    "duration": 19,
    "start_time": "2022-06-08T20:15:26.413Z"
   },
   {
    "duration": 11,
    "start_time": "2022-06-08T20:15:26.743Z"
   },
   {
    "duration": 10,
    "start_time": "2022-06-08T20:15:28.064Z"
   },
   {
    "duration": 6,
    "start_time": "2022-06-08T20:15:30.311Z"
   },
   {
    "duration": 249,
    "start_time": "2022-06-08T20:15:30.765Z"
   },
   {
    "duration": 7,
    "start_time": "2022-06-08T20:15:31.535Z"
   },
   {
    "duration": 12,
    "start_time": "2022-06-08T20:15:32.245Z"
   },
   {
    "duration": 290,
    "start_time": "2022-06-08T20:15:34.239Z"
   },
   {
    "duration": 215,
    "start_time": "2022-06-08T20:15:36.665Z"
   },
   {
    "duration": 381,
    "start_time": "2022-06-08T20:15:39.921Z"
   },
   {
    "duration": 22,
    "start_time": "2022-06-08T20:16:30.815Z"
   },
   {
    "duration": 3,
    "start_time": "2022-06-09T09:52:41.330Z"
   },
   {
    "duration": 1359,
    "start_time": "2022-06-09T09:52:54.987Z"
   },
   {
    "duration": 182,
    "start_time": "2022-06-09T09:52:56.349Z"
   },
   {
    "duration": 21,
    "start_time": "2022-06-09T09:52:57.908Z"
   },
   {
    "duration": 16,
    "start_time": "2022-06-09T09:52:59.463Z"
   },
   {
    "duration": 13,
    "start_time": "2022-06-09T09:52:59.859Z"
   },
   {
    "duration": 21,
    "start_time": "2022-06-09T09:53:00.301Z"
   },
   {
    "duration": 9,
    "start_time": "2022-06-09T09:53:00.756Z"
   },
   {
    "duration": 18,
    "start_time": "2022-06-09T09:53:01.871Z"
   },
   {
    "duration": 6,
    "start_time": "2022-06-09T09:53:02.901Z"
   },
   {
    "duration": 11,
    "start_time": "2022-06-09T09:53:03.357Z"
   },
   {
    "duration": 5,
    "start_time": "2022-06-09T09:53:03.668Z"
   },
   {
    "duration": 8,
    "start_time": "2022-06-09T09:53:05.507Z"
   },
   {
    "duration": 5,
    "start_time": "2022-06-09T09:53:05.924Z"
   },
   {
    "duration": 10,
    "start_time": "2022-06-09T09:53:06.308Z"
   },
   {
    "duration": 4,
    "start_time": "2022-06-09T09:53:06.892Z"
   },
   {
    "duration": 12,
    "start_time": "2022-06-09T09:53:07.261Z"
   },
   {
    "duration": 8,
    "start_time": "2022-06-09T09:53:08.674Z"
   },
   {
    "duration": 13,
    "start_time": "2022-06-09T09:53:08.870Z"
   },
   {
    "duration": 9,
    "start_time": "2022-06-09T09:53:09.331Z"
   },
   {
    "duration": 16,
    "start_time": "2022-06-09T09:53:09.811Z"
   },
   {
    "duration": 17,
    "start_time": "2022-06-09T09:53:10.257Z"
   },
   {
    "duration": 14,
    "start_time": "2022-06-09T09:53:10.685Z"
   },
   {
    "duration": 7,
    "start_time": "2022-06-09T09:53:11.508Z"
   },
   {
    "duration": 276,
    "start_time": "2022-06-09T09:53:11.813Z"
   },
   {
    "duration": 8,
    "start_time": "2022-06-09T09:53:12.275Z"
   },
   {
    "duration": 12,
    "start_time": "2022-06-09T09:53:12.666Z"
   },
   {
    "duration": 301,
    "start_time": "2022-06-09T09:53:13.685Z"
   },
   {
    "duration": 210,
    "start_time": "2022-06-09T09:53:15.285Z"
   },
   {
    "duration": 409,
    "start_time": "2022-06-09T09:53:17.091Z"
   },
   {
    "duration": 229,
    "start_time": "2022-06-09T09:57:28.577Z"
   },
   {
    "duration": 235,
    "start_time": "2022-06-09T11:05:05.788Z"
   },
   {
    "duration": 335,
    "start_time": "2022-06-09T11:05:07.762Z"
   },
   {
    "duration": 266,
    "start_time": "2022-06-09T11:05:16.286Z"
   },
   {
    "duration": 398,
    "start_time": "2022-06-09T11:07:08.982Z"
   },
   {
    "duration": 342,
    "start_time": "2022-06-09T11:07:46.095Z"
   },
   {
    "duration": 326,
    "start_time": "2022-06-09T11:08:09.036Z"
   },
   {
    "duration": 335,
    "start_time": "2022-06-09T11:08:23.795Z"
   },
   {
    "duration": 323,
    "start_time": "2022-06-09T11:08:41.089Z"
   },
   {
    "duration": 330,
    "start_time": "2022-06-09T11:34:18.277Z"
   },
   {
    "duration": 305,
    "start_time": "2022-06-09T11:34:27.340Z"
   },
   {
    "duration": 294,
    "start_time": "2022-06-09T11:36:20.965Z"
   },
   {
    "duration": 336,
    "start_time": "2022-06-09T11:36:47.169Z"
   },
   {
    "duration": 358,
    "start_time": "2022-06-09T11:37:24.619Z"
   },
   {
    "duration": 311,
    "start_time": "2022-06-09T11:37:38.349Z"
   },
   {
    "duration": 384,
    "start_time": "2022-06-09T11:46:39.273Z"
   },
   {
    "duration": 231,
    "start_time": "2022-06-09T11:49:36.474Z"
   },
   {
    "duration": 208,
    "start_time": "2022-06-09T11:49:48.522Z"
   },
   {
    "duration": 313,
    "start_time": "2022-06-09T11:49:54.266Z"
   },
   {
    "duration": 226,
    "start_time": "2022-06-09T11:50:20.628Z"
   },
   {
    "duration": 297,
    "start_time": "2022-06-09T11:50:33.164Z"
   },
   {
    "duration": 9,
    "start_time": "2022-06-09T12:24:32.118Z"
   },
   {
    "duration": 27,
    "start_time": "2022-06-09T12:25:13.815Z"
   },
   {
    "duration": 23,
    "start_time": "2022-06-09T12:25:25.262Z"
   },
   {
    "duration": 23,
    "start_time": "2022-06-09T12:25:35.873Z"
   },
   {
    "duration": 163,
    "start_time": "2022-06-09T12:25:41.447Z"
   },
   {
    "duration": 15,
    "start_time": "2022-06-09T12:37:01.553Z"
   },
   {
    "duration": 142,
    "start_time": "2022-06-09T12:38:41.181Z"
   },
   {
    "duration": 134,
    "start_time": "2022-06-09T12:38:51.446Z"
   },
   {
    "duration": 8,
    "start_time": "2022-06-09T13:32:23.357Z"
   },
   {
    "duration": 6,
    "start_time": "2022-06-09T13:32:32.977Z"
   },
   {
    "duration": 5,
    "start_time": "2022-06-09T13:32:53.882Z"
   },
   {
    "duration": 4,
    "start_time": "2022-06-09T13:34:44.290Z"
   },
   {
    "duration": 4,
    "start_time": "2022-06-09T13:34:48.515Z"
   },
   {
    "duration": 4,
    "start_time": "2022-06-09T13:35:04.451Z"
   },
   {
    "duration": 1300,
    "start_time": "2022-06-09T17:42:59.915Z"
   },
   {
    "duration": 202,
    "start_time": "2022-06-09T17:43:01.217Z"
   },
   {
    "duration": 19,
    "start_time": "2022-06-09T17:43:01.421Z"
   },
   {
    "duration": 15,
    "start_time": "2022-06-09T17:43:01.626Z"
   },
   {
    "duration": 16,
    "start_time": "2022-06-09T17:43:02.021Z"
   },
   {
    "duration": 22,
    "start_time": "2022-06-09T17:43:02.311Z"
   },
   {
    "duration": 6,
    "start_time": "2022-06-09T17:43:02.623Z"
   },
   {
    "duration": 16,
    "start_time": "2022-06-09T17:43:03.392Z"
   },
   {
    "duration": 4,
    "start_time": "2022-06-09T17:43:03.711Z"
   },
   {
    "duration": 13,
    "start_time": "2022-06-09T17:43:03.943Z"
   },
   {
    "duration": 5,
    "start_time": "2022-06-09T17:43:04.255Z"
   },
   {
    "duration": 8,
    "start_time": "2022-06-09T17:43:05.312Z"
   },
   {
    "duration": 6,
    "start_time": "2022-06-09T17:43:05.566Z"
   },
   {
    "duration": 11,
    "start_time": "2022-06-09T17:43:06.010Z"
   },
   {
    "duration": 8,
    "start_time": "2022-06-09T17:43:06.311Z"
   },
   {
    "duration": 10,
    "start_time": "2022-06-09T17:43:06.516Z"
   },
   {
    "duration": 11,
    "start_time": "2022-06-09T17:43:07.499Z"
   },
   {
    "duration": 10,
    "start_time": "2022-06-09T17:43:07.765Z"
   },
   {
    "duration": 9,
    "start_time": "2022-06-09T17:43:08.030Z"
   },
   {
    "duration": 18,
    "start_time": "2022-06-09T17:43:08.323Z"
   },
   {
    "duration": 11,
    "start_time": "2022-06-09T17:43:08.524Z"
   },
   {
    "duration": 9,
    "start_time": "2022-06-09T17:43:08.769Z"
   },
   {
    "duration": 6,
    "start_time": "2022-06-09T17:43:09.407Z"
   },
   {
    "duration": 262,
    "start_time": "2022-06-09T17:43:09.627Z"
   },
   {
    "duration": 16,
    "start_time": "2022-06-09T17:43:09.890Z"
   },
   {
    "duration": 8,
    "start_time": "2022-06-09T17:43:10.074Z"
   },
   {
    "duration": 315,
    "start_time": "2022-06-09T17:43:10.511Z"
   },
   {
    "duration": 216,
    "start_time": "2022-06-09T17:43:11.120Z"
   },
   {
    "duration": 332,
    "start_time": "2022-06-09T17:43:11.646Z"
   },
   {
    "duration": 236,
    "start_time": "2022-06-09T17:43:12.244Z"
   },
   {
    "duration": 372,
    "start_time": "2022-06-09T17:43:12.872Z"
   },
   {
    "duration": 9,
    "start_time": "2022-06-09T17:43:13.505Z"
   },
   {
    "duration": 12,
    "start_time": "2022-06-09T17:43:13.843Z"
   },
   {
    "duration": 148,
    "start_time": "2022-06-09T17:43:14.235Z"
   },
   {
    "duration": 5,
    "start_time": "2022-06-09T17:43:17.405Z"
   },
   {
    "duration": 4,
    "start_time": "2022-06-09T17:43:18.211Z"
   },
   {
    "duration": 209,
    "start_time": "2022-06-09T18:06:22.310Z"
   },
   {
    "duration": 242,
    "start_time": "2022-06-09T18:14:48.354Z"
   },
   {
    "duration": 165,
    "start_time": "2022-06-09T18:14:54.912Z"
   },
   {
    "duration": 100,
    "start_time": "2022-06-09T18:15:49.676Z"
   },
   {
    "duration": 307,
    "start_time": "2022-06-09T18:16:24.208Z"
   },
   {
    "duration": 185,
    "start_time": "2022-06-09T18:17:04.942Z"
   },
   {
    "duration": 166,
    "start_time": "2022-06-09T18:17:14.919Z"
   },
   {
    "duration": 148,
    "start_time": "2022-06-09T18:18:35.151Z"
   },
   {
    "duration": 4,
    "start_time": "2022-06-09T18:18:40.159Z"
   },
   {
    "duration": 5,
    "start_time": "2022-06-09T18:18:40.435Z"
   },
   {
    "duration": 218,
    "start_time": "2022-06-09T18:18:42.516Z"
   },
   {
    "duration": 4,
    "start_time": "2022-06-09T18:20:25.542Z"
   },
   {
    "duration": 88,
    "start_time": "2022-06-09T18:20:26.037Z"
   },
   {
    "duration": 16,
    "start_time": "2022-06-09T18:20:26.941Z"
   },
   {
    "duration": 15,
    "start_time": "2022-06-09T18:20:28.621Z"
   },
   {
    "duration": 18,
    "start_time": "2022-06-09T18:20:29.142Z"
   },
   {
    "duration": 18,
    "start_time": "2022-06-09T18:20:29.620Z"
   },
   {
    "duration": 6,
    "start_time": "2022-06-09T18:20:30.116Z"
   },
   {
    "duration": 15,
    "start_time": "2022-06-09T18:20:31.654Z"
   },
   {
    "duration": 4,
    "start_time": "2022-06-09T18:20:32.324Z"
   },
   {
    "duration": 19,
    "start_time": "2022-06-09T18:20:32.894Z"
   },
   {
    "duration": 5,
    "start_time": "2022-06-09T18:20:33.444Z"
   },
   {
    "duration": 10,
    "start_time": "2022-06-09T18:20:35.605Z"
   },
   {
    "duration": 4,
    "start_time": "2022-06-09T18:20:36.234Z"
   },
   {
    "duration": 9,
    "start_time": "2022-06-09T18:20:36.851Z"
   },
   {
    "duration": 5,
    "start_time": "2022-06-09T18:20:37.383Z"
   },
   {
    "duration": 10,
    "start_time": "2022-06-09T18:20:37.921Z"
   },
   {
    "duration": 8,
    "start_time": "2022-06-09T18:20:40.383Z"
   },
   {
    "duration": 10,
    "start_time": "2022-06-09T18:20:41.209Z"
   },
   {
    "duration": 8,
    "start_time": "2022-06-09T18:20:41.781Z"
   },
   {
    "duration": 14,
    "start_time": "2022-06-09T18:20:42.308Z"
   },
   {
    "duration": 15,
    "start_time": "2022-06-09T18:20:42.791Z"
   },
   {
    "duration": 10,
    "start_time": "2022-06-09T18:20:43.238Z"
   },
   {
    "duration": 6,
    "start_time": "2022-06-09T18:20:45.107Z"
   },
   {
    "duration": 268,
    "start_time": "2022-06-09T18:20:45.583Z"
   },
   {
    "duration": 8,
    "start_time": "2022-06-09T18:20:46.391Z"
   },
   {
    "duration": 10,
    "start_time": "2022-06-09T18:20:47.041Z"
   },
   {
    "duration": 212,
    "start_time": "2022-06-09T18:20:48.670Z"
   },
   {
    "duration": 225,
    "start_time": "2022-06-09T18:20:50.907Z"
   },
   {
    "duration": 299,
    "start_time": "2022-06-09T18:20:53.355Z"
   },
   {
    "duration": 235,
    "start_time": "2022-06-09T18:20:55.334Z"
   },
   {
    "duration": 478,
    "start_time": "2022-06-09T18:20:58.583Z"
   },
   {
    "duration": 8,
    "start_time": "2022-06-09T18:21:02.839Z"
   },
   {
    "duration": 14,
    "start_time": "2022-06-09T18:21:03.713Z"
   },
   {
    "duration": 150,
    "start_time": "2022-06-09T18:21:04.709Z"
   },
   {
    "duration": 4,
    "start_time": "2022-06-09T18:21:07.483Z"
   },
   {
    "duration": 11,
    "start_time": "2022-06-09T18:21:09.994Z"
   },
   {
    "duration": 164,
    "start_time": "2022-06-09T18:21:15.596Z"
   },
   {
    "duration": 162,
    "start_time": "2022-06-09T18:21:53.614Z"
   },
   {
    "duration": 194,
    "start_time": "2022-06-09T18:31:32.143Z"
   },
   {
    "duration": 166,
    "start_time": "2022-06-09T18:31:53.746Z"
   },
   {
    "duration": 3,
    "start_time": "2022-06-09T18:40:26.535Z"
   },
   {
    "duration": 94,
    "start_time": "2022-06-09T18:40:26.914Z"
   },
   {
    "duration": 16,
    "start_time": "2022-06-09T18:40:28.317Z"
   },
   {
    "duration": 16,
    "start_time": "2022-06-09T18:40:29.926Z"
   },
   {
    "duration": 12,
    "start_time": "2022-06-09T18:40:30.575Z"
   },
   {
    "duration": 24,
    "start_time": "2022-06-09T18:40:31.306Z"
   },
   {
    "duration": 7,
    "start_time": "2022-06-09T18:40:32.022Z"
   },
   {
    "duration": 20,
    "start_time": "2022-06-09T18:40:39.982Z"
   },
   {
    "duration": 5,
    "start_time": "2022-06-09T18:40:40.726Z"
   },
   {
    "duration": 13,
    "start_time": "2022-06-09T18:40:41.304Z"
   },
   {
    "duration": 6,
    "start_time": "2022-06-09T18:40:41.942Z"
   },
   {
    "duration": 8,
    "start_time": "2022-06-09T18:40:43.452Z"
   },
   {
    "duration": 4,
    "start_time": "2022-06-09T18:40:43.750Z"
   },
   {
    "duration": 15,
    "start_time": "2022-06-09T18:40:44.006Z"
   },
   {
    "duration": 5,
    "start_time": "2022-06-09T18:40:44.386Z"
   },
   {
    "duration": 12,
    "start_time": "2022-06-09T18:40:44.678Z"
   },
   {
    "duration": 9,
    "start_time": "2022-06-09T18:40:45.691Z"
   },
   {
    "duration": 11,
    "start_time": "2022-06-09T18:40:45.934Z"
   },
   {
    "duration": 11,
    "start_time": "2022-06-09T18:40:46.109Z"
   },
   {
    "duration": 16,
    "start_time": "2022-06-09T18:40:46.255Z"
   },
   {
    "duration": 13,
    "start_time": "2022-06-09T18:40:46.442Z"
   },
   {
    "duration": 11,
    "start_time": "2022-06-09T18:40:46.660Z"
   },
   {
    "duration": 7,
    "start_time": "2022-06-09T18:40:47.246Z"
   },
   {
    "duration": 271,
    "start_time": "2022-06-09T18:40:47.419Z"
   },
   {
    "duration": 19,
    "start_time": "2022-06-09T18:40:47.692Z"
   },
   {
    "duration": 9,
    "start_time": "2022-06-09T18:40:47.752Z"
   },
   {
    "duration": 231,
    "start_time": "2022-06-09T18:40:48.487Z"
   },
   {
    "duration": 249,
    "start_time": "2022-06-09T18:40:49.259Z"
   },
   {
    "duration": 291,
    "start_time": "2022-06-09T18:40:51.847Z"
   },
   {
    "duration": 252,
    "start_time": "2022-06-09T18:40:53.053Z"
   },
   {
    "duration": 352,
    "start_time": "2022-06-09T18:40:53.907Z"
   },
   {
    "duration": 22,
    "start_time": "2022-06-09T18:40:54.590Z"
   },
   {
    "duration": 12,
    "start_time": "2022-06-09T18:40:54.761Z"
   },
   {
    "duration": 232,
    "start_time": "2022-06-09T18:40:54.931Z"
   },
   {
    "duration": 5,
    "start_time": "2022-06-09T18:40:55.642Z"
   },
   {
    "duration": 5,
    "start_time": "2022-06-09T18:40:55.861Z"
   },
   {
    "duration": 161,
    "start_time": "2022-06-09T18:40:59.480Z"
   },
   {
    "duration": 170,
    "start_time": "2022-06-09T18:41:00.935Z"
   },
   {
    "duration": 3,
    "start_time": "2022-06-09T18:53:26.763Z"
   },
   {
    "duration": 5,
    "start_time": "2022-06-09T21:04:35.213Z"
   },
   {
    "duration": 33,
    "start_time": "2022-06-09T21:04:57.171Z"
   },
   {
    "duration": 4,
    "start_time": "2022-06-09T21:05:20.113Z"
   },
   {
    "duration": 2,
    "start_time": "2022-06-09T21:07:59.633Z"
   },
   {
    "duration": 183,
    "start_time": "2022-06-09T21:08:55.365Z"
   },
   {
    "duration": 30,
    "start_time": "2022-06-09T21:09:10.613Z"
   },
   {
    "duration": 161,
    "start_time": "2022-06-09T21:09:54.365Z"
   },
   {
    "duration": 33,
    "start_time": "2022-06-09T21:10:49.373Z"
   },
   {
    "duration": 9,
    "start_time": "2022-06-09T21:11:43.431Z"
   },
   {
    "duration": 8,
    "start_time": "2022-06-09T21:12:01.665Z"
   },
   {
    "duration": 23,
    "start_time": "2022-06-09T21:12:15.435Z"
   },
   {
    "duration": 16,
    "start_time": "2022-06-09T21:13:09.615Z"
   },
   {
    "duration": 3,
    "start_time": "2022-06-09T21:13:30.762Z"
   },
   {
    "duration": 1587,
    "start_time": "2022-06-10T09:01:11.049Z"
   },
   {
    "duration": 219,
    "start_time": "2022-06-10T09:01:12.639Z"
   },
   {
    "duration": 29,
    "start_time": "2022-06-10T09:01:13.861Z"
   },
   {
    "duration": 21,
    "start_time": "2022-06-10T09:01:15.460Z"
   },
   {
    "duration": 15,
    "start_time": "2022-06-10T09:01:16.020Z"
   },
   {
    "duration": 26,
    "start_time": "2022-06-10T09:01:16.437Z"
   },
   {
    "duration": 7,
    "start_time": "2022-06-10T09:01:16.997Z"
   },
   {
    "duration": 21,
    "start_time": "2022-06-10T09:01:18.507Z"
   },
   {
    "duration": 6,
    "start_time": "2022-06-10T09:01:18.980Z"
   },
   {
    "duration": 15,
    "start_time": "2022-06-10T09:01:19.501Z"
   },
   {
    "duration": 6,
    "start_time": "2022-06-10T09:01:19.980Z"
   },
   {
    "duration": 14,
    "start_time": "2022-06-10T09:01:22.094Z"
   },
   {
    "duration": 7,
    "start_time": "2022-06-10T09:01:22.612Z"
   },
   {
    "duration": 12,
    "start_time": "2022-06-10T09:01:23.108Z"
   },
   {
    "duration": 6,
    "start_time": "2022-06-10T09:01:23.747Z"
   },
   {
    "duration": 24,
    "start_time": "2022-06-10T09:01:24.239Z"
   },
   {
    "duration": 10,
    "start_time": "2022-06-10T09:01:27.772Z"
   },
   {
    "duration": 13,
    "start_time": "2022-06-10T09:01:28.365Z"
   },
   {
    "duration": 11,
    "start_time": "2022-06-10T09:01:29.284Z"
   },
   {
    "duration": 19,
    "start_time": "2022-06-10T09:01:29.989Z"
   },
   {
    "duration": 19,
    "start_time": "2022-06-10T09:01:30.612Z"
   },
   {
    "duration": 16,
    "start_time": "2022-06-10T09:01:31.420Z"
   },
   {
    "duration": 9,
    "start_time": "2022-06-10T09:01:33.828Z"
   },
   {
    "duration": 485,
    "start_time": "2022-06-10T09:01:34.588Z"
   },
   {
    "duration": 13,
    "start_time": "2022-06-10T09:01:35.924Z"
   },
   {
    "duration": 13,
    "start_time": "2022-06-10T09:01:36.803Z"
   },
   {
    "duration": 366,
    "start_time": "2022-06-10T09:01:37.996Z"
   },
   {
    "duration": 234,
    "start_time": "2022-06-10T09:01:40.283Z"
   },
   {
    "duration": 334,
    "start_time": "2022-06-10T09:01:43.764Z"
   },
   {
    "duration": 226,
    "start_time": "2022-06-10T09:01:47.533Z"
   },
   {
    "duration": 295,
    "start_time": "2022-06-10T09:01:51.475Z"
   },
   {
    "duration": 13,
    "start_time": "2022-06-10T09:01:54.924Z"
   },
   {
    "duration": 16,
    "start_time": "2022-06-10T09:01:55.804Z"
   },
   {
    "duration": 215,
    "start_time": "2022-06-10T09:01:56.716Z"
   },
   {
    "duration": 7,
    "start_time": "2022-06-10T09:01:59.036Z"
   },
   {
    "duration": 5,
    "start_time": "2022-06-10T09:01:59.708Z"
   },
   {
    "duration": 219,
    "start_time": "2022-06-10T09:02:02.827Z"
   },
   {
    "duration": 361,
    "start_time": "2022-06-10T09:02:04.526Z"
   },
   {
    "duration": 5,
    "start_time": "2022-06-10T09:02:07.683Z"
   },
   {
    "duration": 252,
    "start_time": "2022-06-10T09:02:10.268Z"
   },
   {
    "duration": 35,
    "start_time": "2022-06-10T09:02:11.756Z"
   },
   {
    "duration": 186,
    "start_time": "2022-06-10T09:02:12.941Z"
   },
   {
    "duration": 39,
    "start_time": "2022-06-10T09:02:15.508Z"
   },
   {
    "duration": 33,
    "start_time": "2022-06-10T09:02:35.442Z"
   },
   {
    "duration": 34,
    "start_time": "2022-06-10T09:02:40.068Z"
   },
   {
    "duration": 15,
    "start_time": "2022-06-10T09:02:44.175Z"
   },
   {
    "duration": 11,
    "start_time": "2022-06-10T09:02:44.492Z"
   },
   {
    "duration": 23,
    "start_time": "2022-06-10T09:02:44.861Z"
   },
   {
    "duration": 17,
    "start_time": "2022-06-10T09:02:45.917Z"
   },
   {
    "duration": 8,
    "start_time": "2022-06-10T09:22:05.588Z"
   },
   {
    "duration": 7,
    "start_time": "2022-06-10T09:22:16.111Z"
   },
   {
    "duration": 9,
    "start_time": "2022-06-10T09:22:16.796Z"
   },
   {
    "duration": 8,
    "start_time": "2022-06-10T09:22:21.109Z"
   },
   {
    "duration": 180,
    "start_time": "2022-06-10T09:27:00.380Z"
   },
   {
    "duration": 28,
    "start_time": "2022-06-10T09:27:01.047Z"
   },
   {
    "duration": 33,
    "start_time": "2022-06-10T09:28:19.184Z"
   },
   {
    "duration": 29,
    "start_time": "2022-06-10T09:28:31.447Z"
   },
   {
    "duration": 32,
    "start_time": "2022-06-10T09:28:48.407Z"
   },
   {
    "duration": 19,
    "start_time": "2022-06-10T09:29:01.383Z"
   },
   {
    "duration": 26,
    "start_time": "2022-06-10T09:29:17.712Z"
   },
   {
    "duration": 178,
    "start_time": "2022-06-10T09:40:42.883Z"
   },
   {
    "duration": 28,
    "start_time": "2022-06-10T09:40:43.583Z"
   },
   {
    "duration": 198,
    "start_time": "2022-06-10T09:49:05.954Z"
   },
   {
    "duration": 244,
    "start_time": "2022-06-10T09:50:14.523Z"
   },
   {
    "duration": 35,
    "start_time": "2022-06-10T09:50:14.994Z"
   },
   {
    "duration": 168,
    "start_time": "2022-06-10T09:50:16.113Z"
   },
   {
    "duration": 31,
    "start_time": "2022-06-10T09:50:38.649Z"
   },
   {
    "duration": 12,
    "start_time": "2022-06-10T10:31:53.374Z"
   },
   {
    "duration": 298,
    "start_time": "2022-06-10T11:55:24.985Z"
   },
   {
    "duration": 300,
    "start_time": "2022-06-10T11:55:34.992Z"
   },
   {
    "duration": 300,
    "start_time": "2022-06-10T11:55:50.321Z"
   },
   {
    "duration": 298,
    "start_time": "2022-06-10T11:56:02.250Z"
   },
   {
    "duration": 373,
    "start_time": "2022-06-10T11:56:12.521Z"
   },
   {
    "duration": 335,
    "start_time": "2022-06-10T11:56:18.410Z"
   },
   {
    "duration": 281,
    "start_time": "2022-06-10T11:56:35.563Z"
   },
   {
    "duration": 28,
    "start_time": "2022-06-10T11:59:22.683Z"
   },
   {
    "duration": 9,
    "start_time": "2022-06-10T12:03:35.037Z"
   },
   {
    "duration": 13,
    "start_time": "2022-06-10T12:03:54.819Z"
   },
   {
    "duration": 17,
    "start_time": "2022-06-10T12:32:57.391Z"
   },
   {
    "duration": 30,
    "start_time": "2022-06-10T12:32:57.923Z"
   },
   {
    "duration": 10,
    "start_time": "2022-06-10T13:15:48.126Z"
   },
   {
    "duration": 8,
    "start_time": "2022-06-10T13:17:27.502Z"
   },
   {
    "duration": 6,
    "start_time": "2022-06-10T13:19:04.139Z"
   },
   {
    "duration": 5,
    "start_time": "2022-06-10T13:19:23.091Z"
   },
   {
    "duration": 8,
    "start_time": "2022-06-10T13:19:50.891Z"
   },
   {
    "duration": 8,
    "start_time": "2022-06-10T13:21:13.739Z"
   },
   {
    "duration": 19,
    "start_time": "2022-06-10T13:21:15.324Z"
   },
   {
    "duration": 8,
    "start_time": "2022-06-10T13:24:07.273Z"
   },
   {
    "duration": 7,
    "start_time": "2022-06-10T13:24:07.829Z"
   },
   {
    "duration": 21,
    "start_time": "2022-06-10T13:24:10.221Z"
   },
   {
    "duration": 1434,
    "start_time": "2022-06-10T19:36:34.427Z"
   },
   {
    "duration": 214,
    "start_time": "2022-06-10T19:36:36.918Z"
   },
   {
    "duration": 21,
    "start_time": "2022-06-10T19:36:38.517Z"
   },
   {
    "duration": 15,
    "start_time": "2022-06-10T19:36:40.634Z"
   },
   {
    "duration": 11,
    "start_time": "2022-06-10T19:36:41.356Z"
   },
   {
    "duration": 24,
    "start_time": "2022-06-10T19:36:42.092Z"
   },
   {
    "duration": 6,
    "start_time": "2022-06-10T19:36:42.753Z"
   },
   {
    "duration": 17,
    "start_time": "2022-06-10T19:36:44.516Z"
   },
   {
    "duration": 5,
    "start_time": "2022-06-10T19:36:45.279Z"
   },
   {
    "duration": 24,
    "start_time": "2022-06-10T19:36:45.984Z"
   },
   {
    "duration": 5,
    "start_time": "2022-06-10T19:36:46.838Z"
   },
   {
    "duration": 8,
    "start_time": "2022-06-10T19:36:49.323Z"
   },
   {
    "duration": 5,
    "start_time": "2022-06-10T19:36:49.758Z"
   },
   {
    "duration": 10,
    "start_time": "2022-06-10T19:36:50.255Z"
   },
   {
    "duration": 6,
    "start_time": "2022-06-10T19:36:50.708Z"
   },
   {
    "duration": 11,
    "start_time": "2022-06-10T19:36:51.376Z"
   },
   {
    "duration": 8,
    "start_time": "2022-06-10T19:36:53.034Z"
   },
   {
    "duration": 12,
    "start_time": "2022-06-10T19:36:53.572Z"
   },
   {
    "duration": 16,
    "start_time": "2022-06-10T19:36:54.205Z"
   },
   {
    "duration": 14,
    "start_time": "2022-06-10T19:36:54.521Z"
   },
   {
    "duration": 22,
    "start_time": "2022-06-10T19:36:54.893Z"
   },
   {
    "duration": 9,
    "start_time": "2022-06-10T19:36:55.167Z"
   },
   {
    "duration": 6,
    "start_time": "2022-06-10T19:36:56.269Z"
   },
   {
    "duration": 279,
    "start_time": "2022-06-10T19:36:56.512Z"
   },
   {
    "duration": 7,
    "start_time": "2022-06-10T19:36:56.830Z"
   },
   {
    "duration": 9,
    "start_time": "2022-06-10T19:36:57.184Z"
   },
   {
    "duration": 320,
    "start_time": "2022-06-10T19:37:07.179Z"
   },
   {
    "duration": 234,
    "start_time": "2022-06-10T19:37:08.416Z"
   },
   {
    "duration": 394,
    "start_time": "2022-06-10T19:37:09.461Z"
   },
   {
    "duration": 254,
    "start_time": "2022-06-10T19:37:10.628Z"
   },
   {
    "duration": 333,
    "start_time": "2022-06-10T19:37:11.587Z"
   },
   {
    "duration": 10,
    "start_time": "2022-06-10T19:37:12.518Z"
   },
   {
    "duration": 13,
    "start_time": "2022-06-10T19:37:12.862Z"
   },
   {
    "duration": 154,
    "start_time": "2022-06-10T19:37:13.218Z"
   },
   {
    "duration": 5,
    "start_time": "2022-06-10T19:37:14.011Z"
   },
   {
    "duration": 4,
    "start_time": "2022-06-10T19:37:14.321Z"
   },
   {
    "duration": 163,
    "start_time": "2022-06-10T19:37:15.020Z"
   },
   {
    "duration": 283,
    "start_time": "2022-06-10T19:37:15.462Z"
   },
   {
    "duration": 5,
    "start_time": "2022-06-10T19:37:16.117Z"
   },
   {
    "duration": 7,
    "start_time": "2022-06-10T19:37:16.748Z"
   },
   {
    "duration": 8,
    "start_time": "2022-06-10T19:37:16.962Z"
   },
   {
    "duration": 192,
    "start_time": "2022-06-10T19:37:17.219Z"
   },
   {
    "duration": 28,
    "start_time": "2022-06-10T19:37:17.417Z"
   },
   {
    "duration": 35,
    "start_time": "2022-06-10T19:37:18.042Z"
   },
   {
    "duration": 11,
    "start_time": "2022-06-10T19:37:19.270Z"
   },
   {
    "duration": 12,
    "start_time": "2022-06-10T19:37:21.602Z"
   },
   {
    "duration": 9,
    "start_time": "2022-06-10T19:37:22.121Z"
   },
   {
    "duration": 25,
    "start_time": "2022-06-10T19:37:22.818Z"
   },
   {
    "duration": 13,
    "start_time": "2022-06-10T19:37:23.826Z"
   },
   {
    "duration": 14,
    "start_time": "2022-06-10T19:39:06.897Z"
   },
   {
    "duration": 21,
    "start_time": "2022-06-10T19:39:07.990Z"
   },
   {
    "duration": 5,
    "start_time": "2022-06-10T19:41:36.410Z"
   },
   {
    "duration": 86,
    "start_time": "2022-06-10T19:41:37.232Z"
   },
   {
    "duration": 24,
    "start_time": "2022-06-10T19:41:38.892Z"
   },
   {
    "duration": 19,
    "start_time": "2022-06-10T19:41:41.317Z"
   },
   {
    "duration": 12,
    "start_time": "2022-06-10T19:41:41.974Z"
   },
   {
    "duration": 19,
    "start_time": "2022-06-10T19:41:42.624Z"
   },
   {
    "duration": 6,
    "start_time": "2022-06-10T19:41:43.250Z"
   },
   {
    "duration": 17,
    "start_time": "2022-06-10T19:41:45.168Z"
   },
   {
    "duration": 5,
    "start_time": "2022-06-10T19:41:45.825Z"
   },
   {
    "duration": 12,
    "start_time": "2022-06-10T19:41:46.320Z"
   },
   {
    "duration": 6,
    "start_time": "2022-06-10T19:41:46.764Z"
   },
   {
    "duration": 8,
    "start_time": "2022-06-10T19:41:49.246Z"
   },
   {
    "duration": 5,
    "start_time": "2022-06-10T19:41:49.818Z"
   },
   {
    "duration": 9,
    "start_time": "2022-06-10T19:41:50.346Z"
   },
   {
    "duration": 9,
    "start_time": "2022-06-10T19:41:50.900Z"
   },
   {
    "duration": 10,
    "start_time": "2022-06-10T19:41:51.631Z"
   },
   {
    "duration": 9,
    "start_time": "2022-06-10T19:41:54.519Z"
   },
   {
    "duration": 10,
    "start_time": "2022-06-10T19:41:54.980Z"
   },
   {
    "duration": 8,
    "start_time": "2022-06-10T19:41:55.736Z"
   },
   {
    "duration": 17,
    "start_time": "2022-06-10T19:41:57.093Z"
   },
   {
    "duration": 12,
    "start_time": "2022-06-10T19:41:58.619Z"
   },
   {
    "duration": 9,
    "start_time": "2022-06-10T19:41:59.455Z"
   },
   {
    "duration": 295,
    "start_time": "2022-06-10T19:45:04.812Z"
   },
   {
    "duration": 8,
    "start_time": "2022-06-10T19:45:05.631Z"
   },
   {
    "duration": 9,
    "start_time": "2022-06-10T19:45:06.278Z"
   },
   {
    "duration": 263,
    "start_time": "2022-06-10T19:45:08.224Z"
   },
   {
    "duration": 226,
    "start_time": "2022-06-10T19:45:24.862Z"
   },
   {
    "duration": 328,
    "start_time": "2022-06-10T19:46:13.024Z"
   },
   {
    "duration": 261,
    "start_time": "2022-06-10T19:46:15.924Z"
   },
   {
    "duration": 314,
    "start_time": "2022-06-10T19:46:24.526Z"
   },
   {
    "duration": 8,
    "start_time": "2022-06-10T19:46:26.548Z"
   },
   {
    "duration": 13,
    "start_time": "2022-06-10T19:46:27.532Z"
   },
   {
    "duration": 156,
    "start_time": "2022-06-10T19:46:28.332Z"
   },
   {
    "duration": 7,
    "start_time": "2022-06-10T19:46:30.535Z"
   },
   {
    "duration": 8,
    "start_time": "2022-06-10T19:46:30.826Z"
   },
   {
    "duration": 201,
    "start_time": "2022-06-10T19:46:33.018Z"
   },
   {
    "duration": 239,
    "start_time": "2022-06-10T19:46:34.875Z"
   },
   {
    "duration": 6,
    "start_time": "2022-06-10T19:46:38.774Z"
   },
   {
    "duration": 8,
    "start_time": "2022-06-10T19:46:40.972Z"
   },
   {
    "duration": 9,
    "start_time": "2022-06-10T19:46:41.846Z"
   },
   {
    "duration": 49,
    "start_time": "2022-06-10T19:48:12.282Z"
   },
   {
    "duration": 30,
    "start_time": "2022-06-10T19:48:13.058Z"
   },
   {
    "duration": 223,
    "start_time": "2022-06-10T19:48:57.680Z"
   },
   {
    "duration": 47,
    "start_time": "2022-06-10T19:48:58.576Z"
   },
   {
    "duration": 40,
    "start_time": "2022-06-10T19:49:00.967Z"
   },
   {
    "duration": 12,
    "start_time": "2022-06-10T19:49:07.786Z"
   },
   {
    "duration": 12,
    "start_time": "2022-06-10T19:49:11.270Z"
   },
   {
    "duration": 9,
    "start_time": "2022-06-10T19:49:12.448Z"
   },
   {
    "duration": 44,
    "start_time": "2022-06-10T19:49:14.594Z"
   },
   {
    "duration": 21,
    "start_time": "2022-06-10T19:49:17.795Z"
   },
   {
    "duration": 11,
    "start_time": "2022-06-10T19:53:49.475Z"
   },
   {
    "duration": 19,
    "start_time": "2022-06-10T19:55:06.938Z"
   },
   {
    "duration": 24,
    "start_time": "2022-06-10T19:55:32.358Z"
   },
   {
    "duration": 46,
    "start_time": "2022-06-10T20:00:34.184Z"
   },
   {
    "duration": 29,
    "start_time": "2022-06-10T20:44:21.754Z"
   },
   {
    "duration": 10,
    "start_time": "2022-06-10T20:44:36.433Z"
   },
   {
    "duration": 37,
    "start_time": "2022-06-10T20:45:13.938Z"
   },
   {
    "duration": 7,
    "start_time": "2022-06-10T20:54:55.593Z"
   },
   {
    "duration": 83,
    "start_time": "2022-06-10T20:54:55.832Z"
   },
   {
    "duration": 26,
    "start_time": "2022-06-10T20:54:56.717Z"
   },
   {
    "duration": 16,
    "start_time": "2022-06-10T20:54:57.934Z"
   },
   {
    "duration": 16,
    "start_time": "2022-06-10T20:54:58.288Z"
   },
   {
    "duration": 19,
    "start_time": "2022-06-10T20:54:58.535Z"
   },
   {
    "duration": 8,
    "start_time": "2022-06-10T20:54:58.923Z"
   },
   {
    "duration": 17,
    "start_time": "2022-06-10T20:54:59.732Z"
   },
   {
    "duration": 4,
    "start_time": "2022-06-10T20:55:00.088Z"
   },
   {
    "duration": 15,
    "start_time": "2022-06-10T20:55:00.411Z"
   },
   {
    "duration": 5,
    "start_time": "2022-06-10T20:55:00.786Z"
   },
   {
    "duration": 11,
    "start_time": "2022-06-10T20:55:01.936Z"
   },
   {
    "duration": 8,
    "start_time": "2022-06-10T20:55:02.215Z"
   },
   {
    "duration": 17,
    "start_time": "2022-06-10T20:55:02.486Z"
   },
   {
    "duration": 6,
    "start_time": "2022-06-10T20:55:02.731Z"
   },
   {
    "duration": 14,
    "start_time": "2022-06-10T20:55:02.892Z"
   },
   {
    "duration": 24,
    "start_time": "2022-06-10T20:55:04.009Z"
   },
   {
    "duration": 12,
    "start_time": "2022-06-10T20:55:04.249Z"
   },
   {
    "duration": 8,
    "start_time": "2022-06-10T20:55:04.482Z"
   },
   {
    "duration": 20,
    "start_time": "2022-06-10T20:55:04.719Z"
   },
   {
    "duration": 13,
    "start_time": "2022-06-10T20:55:04.943Z"
   },
   {
    "duration": 16,
    "start_time": "2022-06-10T20:55:05.234Z"
   },
   {
    "duration": 6,
    "start_time": "2022-06-10T20:55:06.259Z"
   },
   {
    "duration": 320,
    "start_time": "2022-06-10T20:55:06.620Z"
   },
   {
    "duration": 6,
    "start_time": "2022-06-10T20:55:06.953Z"
   },
   {
    "duration": 9,
    "start_time": "2022-06-10T20:55:07.334Z"
   },
   {
    "duration": 257,
    "start_time": "2022-06-10T20:55:08.034Z"
   },
   {
    "duration": 456,
    "start_time": "2022-06-10T20:55:08.976Z"
   },
   {
    "duration": 415,
    "start_time": "2022-06-10T20:55:09.892Z"
   },
   {
    "duration": 324,
    "start_time": "2022-06-10T20:55:10.762Z"
   },
   {
    "duration": 308,
    "start_time": "2022-06-10T20:55:11.761Z"
   },
   {
    "duration": 11,
    "start_time": "2022-06-10T20:55:12.839Z"
   },
   {
    "duration": 12,
    "start_time": "2022-06-10T20:55:13.180Z"
   },
   {
    "duration": 179,
    "start_time": "2022-06-10T20:55:13.542Z"
   },
   {
    "duration": 4,
    "start_time": "2022-06-10T20:55:14.355Z"
   },
   {
    "duration": 5,
    "start_time": "2022-06-10T20:55:14.672Z"
   },
   {
    "duration": 212,
    "start_time": "2022-06-10T20:55:15.650Z"
   },
   {
    "duration": 217,
    "start_time": "2022-06-10T20:55:16.360Z"
   },
   {
    "duration": 5,
    "start_time": "2022-06-10T20:55:17.284Z"
   },
   {
    "duration": 10,
    "start_time": "2022-06-10T20:55:18.321Z"
   },
   {
    "duration": 11,
    "start_time": "2022-06-10T20:55:18.642Z"
   },
   {
    "duration": 255,
    "start_time": "2022-06-10T20:55:18.945Z"
   },
   {
    "duration": 37,
    "start_time": "2022-06-10T20:55:19.210Z"
   },
   {
    "duration": 66,
    "start_time": "2022-06-10T20:55:19.885Z"
   },
   {
    "duration": 11,
    "start_time": "2022-06-10T20:55:21.056Z"
   },
   {
    "duration": 10,
    "start_time": "2022-06-10T20:55:22.153Z"
   },
   {
    "duration": 8,
    "start_time": "2022-06-10T20:55:22.382Z"
   },
   {
    "duration": 22,
    "start_time": "2022-06-10T20:55:22.863Z"
   },
   {
    "duration": 19,
    "start_time": "2022-06-10T20:55:23.914Z"
   },
   {
    "duration": 1032,
    "start_time": "2022-06-11T11:16:09.121Z"
   },
   {
    "duration": 84,
    "start_time": "2022-06-11T11:16:10.160Z"
   },
   {
    "duration": 24,
    "start_time": "2022-06-11T11:16:10.249Z"
   },
   {
    "duration": 22,
    "start_time": "2022-06-11T11:16:10.275Z"
   },
   {
    "duration": 11,
    "start_time": "2022-06-11T11:16:10.299Z"
   },
   {
    "duration": 22,
    "start_time": "2022-06-11T11:16:10.311Z"
   },
   {
    "duration": 7,
    "start_time": "2022-06-11T11:16:10.334Z"
   },
   {
    "duration": 16,
    "start_time": "2022-06-11T11:16:10.360Z"
   },
   {
    "duration": 7,
    "start_time": "2022-06-11T11:16:10.379Z"
   },
   {
    "duration": 15,
    "start_time": "2022-06-11T11:16:10.388Z"
   },
   {
    "duration": 8,
    "start_time": "2022-06-11T11:16:10.404Z"
   },
   {
    "duration": 12,
    "start_time": "2022-06-11T11:16:10.414Z"
   },
   {
    "duration": 11,
    "start_time": "2022-06-11T11:16:10.427Z"
   },
   {
    "duration": 33,
    "start_time": "2022-06-11T11:16:10.439Z"
   },
   {
    "duration": 7,
    "start_time": "2022-06-11T11:16:10.474Z"
   },
   {
    "duration": 15,
    "start_time": "2022-06-11T11:16:10.482Z"
   },
   {
    "duration": 21,
    "start_time": "2022-06-11T11:16:10.499Z"
   },
   {
    "duration": 18,
    "start_time": "2022-06-11T11:16:10.521Z"
   },
   {
    "duration": 7,
    "start_time": "2022-06-11T11:16:10.541Z"
   },
   {
    "duration": 33,
    "start_time": "2022-06-11T11:16:10.549Z"
   },
   {
    "duration": 13,
    "start_time": "2022-06-11T11:16:10.584Z"
   },
   {
    "duration": 12,
    "start_time": "2022-06-11T11:16:10.598Z"
   },
   {
    "duration": 21,
    "start_time": "2022-06-11T11:16:10.611Z"
   },
   {
    "duration": 287,
    "start_time": "2022-06-11T11:16:10.634Z"
   },
   {
    "duration": 6,
    "start_time": "2022-06-11T11:16:10.923Z"
   },
   {
    "duration": 15,
    "start_time": "2022-06-11T11:16:10.931Z"
   },
   {
    "duration": 315,
    "start_time": "2022-06-11T11:16:10.962Z"
   },
   {
    "duration": 219,
    "start_time": "2022-06-11T11:16:11.278Z"
   },
   {
    "duration": 307,
    "start_time": "2022-06-11T11:16:11.498Z"
   },
   {
    "duration": 267,
    "start_time": "2022-06-11T11:16:11.807Z"
   },
   {
    "duration": 299,
    "start_time": "2022-06-11T11:16:12.075Z"
   },
   {
    "duration": 9,
    "start_time": "2022-06-11T11:16:12.375Z"
   },
   {
    "duration": 15,
    "start_time": "2022-06-11T11:16:12.385Z"
   },
   {
    "duration": 168,
    "start_time": "2022-06-11T11:16:12.402Z"
   },
   {
    "duration": 5,
    "start_time": "2022-06-11T11:16:12.572Z"
   },
   {
    "duration": 12,
    "start_time": "2022-06-11T11:16:12.578Z"
   },
   {
    "duration": 183,
    "start_time": "2022-06-11T11:16:12.592Z"
   },
   {
    "duration": 307,
    "start_time": "2022-06-11T11:16:12.777Z"
   },
   {
    "duration": 4,
    "start_time": "2022-06-11T11:16:13.086Z"
   },
   {
    "duration": 12,
    "start_time": "2022-06-11T11:16:13.092Z"
   },
   {
    "duration": 17,
    "start_time": "2022-06-11T11:16:13.106Z"
   },
   {
    "duration": 193,
    "start_time": "2022-06-11T11:16:13.125Z"
   },
   {
    "duration": 26,
    "start_time": "2022-06-11T11:16:13.320Z"
   },
   {
    "duration": 35,
    "start_time": "2022-06-11T11:16:13.372Z"
   },
   {
    "duration": 11,
    "start_time": "2022-06-11T11:16:13.409Z"
   },
   {
    "duration": 9,
    "start_time": "2022-06-11T11:16:13.422Z"
   },
   {
    "duration": 11,
    "start_time": "2022-06-11T11:16:13.432Z"
   },
   {
    "duration": 51,
    "start_time": "2022-06-11T11:16:13.444Z"
   },
   {
    "duration": 14,
    "start_time": "2022-06-11T11:16:13.497Z"
   },
   {
    "duration": 49,
    "start_time": "2022-06-11T11:33:46.724Z"
   },
   {
    "duration": 55,
    "start_time": "2022-06-11T12:34:54.085Z"
   },
   {
    "duration": 1404,
    "start_time": "2022-06-11T12:35:06.455Z"
   },
   {
    "duration": 211,
    "start_time": "2022-06-11T12:35:07.861Z"
   },
   {
    "duration": 20,
    "start_time": "2022-06-11T12:35:08.074Z"
   },
   {
    "duration": 16,
    "start_time": "2022-06-11T12:35:09.362Z"
   },
   {
    "duration": 12,
    "start_time": "2022-06-11T12:35:10.155Z"
   },
   {
    "duration": 24,
    "start_time": "2022-06-11T12:35:10.514Z"
   },
   {
    "duration": 7,
    "start_time": "2022-06-11T12:35:10.993Z"
   },
   {
    "duration": 14,
    "start_time": "2022-06-11T12:35:12.007Z"
   },
   {
    "duration": 5,
    "start_time": "2022-06-11T12:35:12.419Z"
   },
   {
    "duration": 13,
    "start_time": "2022-06-11T12:35:12.735Z"
   },
   {
    "duration": 5,
    "start_time": "2022-06-11T12:35:13.155Z"
   },
   {
    "duration": 8,
    "start_time": "2022-06-11T12:35:14.719Z"
   },
   {
    "duration": 6,
    "start_time": "2022-06-11T12:35:15.119Z"
   },
   {
    "duration": 9,
    "start_time": "2022-06-11T12:35:15.391Z"
   },
   {
    "duration": 4,
    "start_time": "2022-06-11T12:35:15.818Z"
   },
   {
    "duration": 13,
    "start_time": "2022-06-11T12:35:16.070Z"
   },
   {
    "duration": 8,
    "start_time": "2022-06-11T12:35:18.444Z"
   },
   {
    "duration": 12,
    "start_time": "2022-06-11T12:35:18.744Z"
   },
   {
    "duration": 8,
    "start_time": "2022-06-11T12:35:19.142Z"
   },
   {
    "duration": 20,
    "start_time": "2022-06-11T12:35:19.545Z"
   },
   {
    "duration": 15,
    "start_time": "2022-06-11T12:35:19.827Z"
   },
   {
    "duration": 13,
    "start_time": "2022-06-11T12:35:20.037Z"
   },
   {
    "duration": 8,
    "start_time": "2022-06-11T12:35:21.127Z"
   },
   {
    "duration": 292,
    "start_time": "2022-06-11T12:35:21.518Z"
   },
   {
    "duration": 16,
    "start_time": "2022-06-11T12:35:21.826Z"
   },
   {
    "duration": 10,
    "start_time": "2022-06-11T12:35:22.110Z"
   },
   {
    "duration": 481,
    "start_time": "2022-06-11T12:35:23.181Z"
   },
   {
    "duration": 238,
    "start_time": "2022-06-11T12:35:25.025Z"
   },
   {
    "duration": 385,
    "start_time": "2022-06-11T12:35:26.496Z"
   },
   {
    "duration": 239,
    "start_time": "2022-06-11T12:35:27.328Z"
   },
   {
    "duration": 305,
    "start_time": "2022-06-11T12:35:28.118Z"
   },
   {
    "duration": 9,
    "start_time": "2022-06-11T12:35:28.940Z"
   },
   {
    "duration": 11,
    "start_time": "2022-06-11T12:35:29.496Z"
   },
   {
    "duration": 160,
    "start_time": "2022-06-11T12:35:29.892Z"
   },
   {
    "duration": 5,
    "start_time": "2022-06-11T12:35:30.827Z"
   },
   {
    "duration": 4,
    "start_time": "2022-06-11T12:35:31.386Z"
   },
   {
    "duration": 155,
    "start_time": "2022-06-11T12:35:34.049Z"
   },
   {
    "duration": 292,
    "start_time": "2022-06-11T12:35:35.095Z"
   },
   {
    "duration": 4,
    "start_time": "2022-06-11T12:35:36.454Z"
   },
   {
    "duration": 8,
    "start_time": "2022-06-11T12:35:37.469Z"
   },
   {
    "duration": 8,
    "start_time": "2022-06-11T12:35:37.739Z"
   },
   {
    "duration": 185,
    "start_time": "2022-06-11T12:35:38.166Z"
   },
   {
    "duration": 26,
    "start_time": "2022-06-11T12:35:38.492Z"
   },
   {
    "duration": 33,
    "start_time": "2022-06-11T12:35:39.163Z"
   },
   {
    "duration": 10,
    "start_time": "2022-06-11T12:35:40.591Z"
   },
   {
    "duration": 14,
    "start_time": "2022-06-11T12:35:41.731Z"
   },
   {
    "duration": 8,
    "start_time": "2022-06-11T12:35:42.493Z"
   },
   {
    "duration": 23,
    "start_time": "2022-06-11T12:35:43.684Z"
   },
   {
    "duration": 13,
    "start_time": "2022-06-11T12:35:45.095Z"
   },
   {
    "duration": 216,
    "start_time": "2022-06-11T12:36:26.782Z"
   },
   {
    "duration": 214,
    "start_time": "2022-06-11T13:16:24.461Z"
   },
   {
    "duration": 248,
    "start_time": "2022-06-11T13:19:18.835Z"
   },
   {
    "duration": 220,
    "start_time": "2022-06-11T13:19:25.491Z"
   },
   {
    "duration": 379,
    "start_time": "2022-06-11T13:21:41.744Z"
   },
   {
    "duration": 174,
    "start_time": "2022-06-11T13:25:39.689Z"
   },
   {
    "duration": 197,
    "start_time": "2022-06-11T13:26:38.508Z"
   },
   {
    "duration": 225,
    "start_time": "2022-06-11T13:28:57.194Z"
   },
   {
    "duration": 440,
    "start_time": "2022-06-11T13:34:38.418Z"
   },
   {
    "duration": 244,
    "start_time": "2022-06-11T13:34:50.660Z"
   },
   {
    "duration": 236,
    "start_time": "2022-06-11T13:35:14.539Z"
   },
   {
    "duration": 270,
    "start_time": "2022-06-11T13:35:25.867Z"
   },
   {
    "duration": 282,
    "start_time": "2022-06-11T13:35:41.856Z"
   },
   {
    "duration": 9,
    "start_time": "2022-06-11T13:35:48.594Z"
   },
   {
    "duration": 12,
    "start_time": "2022-06-11T13:35:48.992Z"
   },
   {
    "duration": 137,
    "start_time": "2022-06-11T13:35:49.452Z"
   },
   {
    "duration": 148,
    "start_time": "2022-06-11T13:38:52.396Z"
   },
   {
    "duration": 176,
    "start_time": "2022-06-11T13:39:11.272Z"
   },
   {
    "duration": 245,
    "start_time": "2022-06-11T13:40:32.791Z"
   },
   {
    "duration": 165,
    "start_time": "2022-06-11T13:41:25.299Z"
   },
   {
    "duration": 4,
    "start_time": "2022-06-11T13:41:33.599Z"
   },
   {
    "duration": 7,
    "start_time": "2022-06-11T13:41:34.492Z"
   },
   {
    "duration": 7,
    "start_time": "2022-06-11T13:41:34.834Z"
   },
   {
    "duration": 176,
    "start_time": "2022-06-11T13:41:35.311Z"
   },
   {
    "duration": 28,
    "start_time": "2022-06-11T13:41:35.617Z"
   },
   {
    "duration": 32,
    "start_time": "2022-06-11T13:41:36.646Z"
   },
   {
    "duration": 11,
    "start_time": "2022-06-11T13:41:40.311Z"
   },
   {
    "duration": 8,
    "start_time": "2022-06-11T13:41:42.892Z"
   },
   {
    "duration": 7,
    "start_time": "2022-06-11T13:41:44.027Z"
   },
   {
    "duration": 29,
    "start_time": "2022-06-11T13:41:44.731Z"
   },
   {
    "duration": 15,
    "start_time": "2022-06-11T13:41:46.350Z"
   },
   {
    "duration": 3,
    "start_time": "2022-06-11T13:43:19.027Z"
   },
   {
    "duration": 72,
    "start_time": "2022-06-11T13:43:25.155Z"
   },
   {
    "duration": 16,
    "start_time": "2022-06-11T13:43:28.036Z"
   },
   {
    "duration": 10,
    "start_time": "2022-06-11T13:43:59.378Z"
   },
   {
    "duration": 16,
    "start_time": "2022-06-11T13:44:10.494Z"
   },
   {
    "duration": 15,
    "start_time": "2022-06-11T13:44:45.515Z"
   },
   {
    "duration": 11,
    "start_time": "2022-06-11T13:44:46.653Z"
   },
   {
    "duration": 18,
    "start_time": "2022-06-11T13:44:48.395Z"
   },
   {
    "duration": 6,
    "start_time": "2022-06-11T13:44:48.959Z"
   },
   {
    "duration": 14,
    "start_time": "2022-06-11T13:44:51.318Z"
   },
   {
    "duration": 5,
    "start_time": "2022-06-11T13:44:52.091Z"
   },
   {
    "duration": 12,
    "start_time": "2022-06-11T13:44:52.970Z"
   },
   {
    "duration": 5,
    "start_time": "2022-06-11T13:44:53.898Z"
   },
   {
    "duration": 7,
    "start_time": "2022-06-11T13:45:16.497Z"
   },
   {
    "duration": 5,
    "start_time": "2022-06-11T13:45:17.922Z"
   },
   {
    "duration": 9,
    "start_time": "2022-06-11T13:45:19.113Z"
   },
   {
    "duration": 5,
    "start_time": "2022-06-11T13:45:21.968Z"
   },
   {
    "duration": 10,
    "start_time": "2022-06-11T13:45:22.960Z"
   },
   {
    "duration": 8,
    "start_time": "2022-06-11T13:45:29.843Z"
   },
   {
    "duration": 10,
    "start_time": "2022-06-11T13:45:30.752Z"
   },
   {
    "duration": 7,
    "start_time": "2022-06-11T13:45:31.714Z"
   },
   {
    "duration": 13,
    "start_time": "2022-06-11T13:45:32.530Z"
   },
   {
    "duration": 13,
    "start_time": "2022-06-11T13:45:33.356Z"
   },
   {
    "duration": 9,
    "start_time": "2022-06-11T13:45:34.032Z"
   },
   {
    "duration": 6,
    "start_time": "2022-06-11T13:45:36.367Z"
   },
   {
    "duration": 247,
    "start_time": "2022-06-11T13:45:37.219Z"
   },
   {
    "duration": 6,
    "start_time": "2022-06-11T13:45:38.208Z"
   },
   {
    "duration": 9,
    "start_time": "2022-06-11T13:45:39.319Z"
   },
   {
    "duration": 259,
    "start_time": "2022-06-11T13:45:42.604Z"
   },
   {
    "duration": 328,
    "start_time": "2022-06-11T13:47:19.840Z"
   },
   {
    "duration": 324,
    "start_time": "2022-06-11T13:47:22.677Z"
   },
   {
    "duration": 260,
    "start_time": "2022-06-11T13:47:25.439Z"
   },
   {
    "duration": 325,
    "start_time": "2022-06-11T13:47:27.200Z"
   },
   {
    "duration": 8,
    "start_time": "2022-06-11T13:47:29.126Z"
   },
   {
    "duration": 12,
    "start_time": "2022-06-11T13:47:29.726Z"
   },
   {
    "duration": 150,
    "start_time": "2022-06-11T13:47:30.558Z"
   },
   {
    "duration": 4,
    "start_time": "2022-06-11T13:47:33.118Z"
   },
   {
    "duration": 4,
    "start_time": "2022-06-11T13:47:33.596Z"
   },
   {
    "duration": 159,
    "start_time": "2022-06-11T13:47:35.400Z"
   },
   {
    "duration": 163,
    "start_time": "2022-06-11T13:47:36.653Z"
   },
   {
    "duration": 4,
    "start_time": "2022-06-11T13:47:39.838Z"
   },
   {
    "duration": 7,
    "start_time": "2022-06-11T13:47:41.693Z"
   },
   {
    "duration": 8,
    "start_time": "2022-06-11T13:47:42.026Z"
   },
   {
    "duration": 174,
    "start_time": "2022-06-11T13:47:42.349Z"
   },
   {
    "duration": 38,
    "start_time": "2022-06-11T13:47:42.727Z"
   },
   {
    "duration": 31,
    "start_time": "2022-06-11T13:47:43.724Z"
   },
   {
    "duration": 11,
    "start_time": "2022-06-11T13:47:45.944Z"
   },
   {
    "duration": 11,
    "start_time": "2022-06-11T13:47:57.935Z"
   },
   {
    "duration": 9,
    "start_time": "2022-06-11T13:48:11.292Z"
   },
   {
    "duration": 22,
    "start_time": "2022-06-11T13:48:11.925Z"
   },
   {
    "duration": 13,
    "start_time": "2022-06-11T13:48:14.059Z"
   },
   {
    "duration": 1357,
    "start_time": "2022-06-12T07:28:44.510Z"
   },
   {
    "duration": 212,
    "start_time": "2022-06-12T07:28:45.870Z"
   },
   {
    "duration": 22,
    "start_time": "2022-06-12T07:28:46.083Z"
   },
   {
    "duration": 24,
    "start_time": "2022-06-12T07:28:46.107Z"
   },
   {
    "duration": 26,
    "start_time": "2022-06-12T07:28:46.135Z"
   },
   {
    "duration": 28,
    "start_time": "2022-06-12T07:28:46.163Z"
   },
   {
    "duration": 9,
    "start_time": "2022-06-12T07:28:46.193Z"
   },
   {
    "duration": 52,
    "start_time": "2022-06-12T07:28:46.204Z"
   },
   {
    "duration": 29,
    "start_time": "2022-06-12T07:28:46.259Z"
   },
   {
    "duration": 41,
    "start_time": "2022-06-12T07:28:46.292Z"
   },
   {
    "duration": 21,
    "start_time": "2022-06-12T07:28:46.335Z"
   },
   {
    "duration": 37,
    "start_time": "2022-06-12T07:28:46.358Z"
   },
   {
    "duration": 14,
    "start_time": "2022-06-12T07:28:46.397Z"
   },
   {
    "duration": 21,
    "start_time": "2022-06-12T07:28:46.414Z"
   },
   {
    "duration": 40,
    "start_time": "2022-06-12T07:28:46.436Z"
   },
   {
    "duration": 29,
    "start_time": "2022-06-12T07:28:46.478Z"
   },
   {
    "duration": 33,
    "start_time": "2022-06-12T07:28:46.509Z"
   },
   {
    "duration": 50,
    "start_time": "2022-06-12T07:28:46.544Z"
   },
   {
    "duration": 14,
    "start_time": "2022-06-12T07:28:46.596Z"
   },
   {
    "duration": 32,
    "start_time": "2022-06-12T07:28:46.612Z"
   },
   {
    "duration": 45,
    "start_time": "2022-06-12T07:28:46.646Z"
   },
   {
    "duration": 15,
    "start_time": "2022-06-12T07:28:46.693Z"
   },
   {
    "duration": 9,
    "start_time": "2022-06-12T07:28:46.709Z"
   },
   {
    "duration": 275,
    "start_time": "2022-06-12T07:28:46.719Z"
   },
   {
    "duration": 7,
    "start_time": "2022-06-12T07:28:46.995Z"
   },
   {
    "duration": 11,
    "start_time": "2022-06-12T07:28:47.003Z"
   },
   {
    "duration": 378,
    "start_time": "2022-06-12T07:28:47.015Z"
   },
   {
    "duration": 255,
    "start_time": "2022-06-12T07:28:47.397Z"
   },
   {
    "duration": 356,
    "start_time": "2022-06-12T07:28:47.654Z"
   },
   {
    "duration": 262,
    "start_time": "2022-06-12T07:28:48.012Z"
   },
   {
    "duration": 299,
    "start_time": "2022-06-12T07:28:48.276Z"
   },
   {
    "duration": 8,
    "start_time": "2022-06-12T07:28:48.577Z"
   },
   {
    "duration": 17,
    "start_time": "2022-06-12T07:28:48.586Z"
   },
   {
    "duration": 179,
    "start_time": "2022-06-12T07:28:48.605Z"
   },
   {
    "duration": 5,
    "start_time": "2022-06-12T07:28:48.786Z"
   },
   {
    "duration": 9,
    "start_time": "2022-06-12T07:28:48.793Z"
   },
   {
    "duration": 186,
    "start_time": "2022-06-12T07:28:48.803Z"
   },
   {
    "duration": 228,
    "start_time": "2022-06-12T07:28:48.991Z"
   },
   {
    "duration": 5,
    "start_time": "2022-06-12T07:28:49.221Z"
   },
   {
    "duration": 53,
    "start_time": "2022-06-12T07:28:49.228Z"
   },
   {
    "duration": 19,
    "start_time": "2022-06-12T07:28:49.283Z"
   },
   {
    "duration": 288,
    "start_time": "2022-06-12T07:28:49.304Z"
   },
   {
    "duration": 57,
    "start_time": "2022-06-12T07:28:49.594Z"
   },
   {
    "duration": 40,
    "start_time": "2022-06-12T07:28:49.657Z"
   },
   {
    "duration": 12,
    "start_time": "2022-06-12T07:28:49.699Z"
   },
   {
    "duration": 14,
    "start_time": "2022-06-12T07:28:49.713Z"
   },
   {
    "duration": 46,
    "start_time": "2022-06-12T07:28:49.729Z"
   },
   {
    "duration": 26,
    "start_time": "2022-06-12T07:28:49.777Z"
   },
   {
    "duration": 14,
    "start_time": "2022-06-12T07:28:49.804Z"
   }
  ],
  "kernelspec": {
   "display_name": "Python 3 (ipykernel)",
   "language": "python",
   "name": "python3"
  },
  "language_info": {
   "codemirror_mode": {
    "name": "ipython",
    "version": 3
   },
   "file_extension": ".py",
   "mimetype": "text/x-python",
   "name": "python",
   "nbconvert_exporter": "python",
   "pygments_lexer": "ipython3",
   "version": "3.9.5"
  },
  "toc": {
   "base_numbering": 1,
   "nav_menu": {},
   "number_sections": true,
   "sideBar": true,
   "skip_h1_title": true,
   "title_cell": "Table of Contents",
   "title_sidebar": "Contents",
   "toc_cell": false,
   "toc_position": {
    "height": "calc(100% - 180px)",
    "left": "10px",
    "top": "150px",
    "width": "277.101px"
   },
   "toc_section_display": true,
   "toc_window_display": false
  }
 },
 "nbformat": 4,
 "nbformat_minor": 2
}
