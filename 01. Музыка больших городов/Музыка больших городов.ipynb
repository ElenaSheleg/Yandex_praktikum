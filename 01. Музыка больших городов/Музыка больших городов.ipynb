{
 "cells": [
  {
   "cell_type": "markdown",
   "metadata": {
    "id": "E0vqbgi9ay0H"
   },
   "source": [
    "# Яндекс.Музыка"
   ]
  },
  {
   "cell_type": "markdown",
   "metadata": {
    "id": "VUC88oWjTJw2"
   },
   "source": [
    "Сравнение Москвы и Петербурга окружено мифами. Например:\n",
    " * Москва — мегаполис, подчинённый жёсткому ритму рабочей недели;\n",
    " * Петербург — культурная столица, со своими вкусами.\n",
    "\n",
    "На данных Яндекс.Музыки вы сравните поведение пользователей двух столиц.\n",
    "\n",
    "**Цель исследования** — проверьте три гипотезы:\n",
    "1. Активность пользователей зависит от дня недели. Причём в Москве и Петербурге это проявляется по-разному.\n",
    "2. В понедельник утром в Москве преобладают одни жанры, а в Петербурге — другие. Так же и вечером пятницы преобладают разные жанры — в зависимости от города. \n",
    "3. Москва и Петербург предпочитают разные жанры музыки. В Москве чаще слушают поп-музыку, в Петербурге — русский рэп.\n",
    "\n",
    "**Ход исследования**\n",
    "\n",
    "Данные о поведении пользователей вы получите из файла `yandex_music_project.csv`. О качестве данных ничего не известно. Поэтому перед проверкой гипотез понадобится обзор данных. \n",
    "\n",
    "Вы проверите данные на ошибки и оцените их влияние на исследование. Затем, на этапе предобработки вы поищете возможность исправить самые критичные ошибки данных.\n",
    " \n",
    "Таким образом, исследование пройдёт в три этапа:\n",
    " 1. Обзор данных.\n",
    " 2. Предобработка данных.\n",
    " 3. Проверка гипотез.\n",
    "\n"
   ]
  },
  {
   "cell_type": "markdown",
   "metadata": {
    "id": "Ml1hmfXC_Zcs"
   },
   "source": [
    "## Обзор данных\n",
    "\n",
    "Составьте первое представление о данных Яндекс.Музыки.\n",
    "\n",
    "\n"
   ]
  },
  {
   "cell_type": "markdown",
   "metadata": {
    "id": "57eAOGIz_Zcs"
   },
   "source": [
    "Основной инструмент аналитика — `pandas`. Импортируйте эту библиотеку."
   ]
  },
  {
   "cell_type": "code",
   "execution_count": 9,
   "metadata": {
    "id": "AXN7PHPN_Zcs"
   },
   "outputs": [],
   "source": [
    "import pandas as pd# импорт библиотеки pandas"
   ]
  },
  {
   "cell_type": "markdown",
   "metadata": {
    "id": "SG23P8tt_Zcs"
   },
   "source": [
    "Прочитайте файл `yandex_music_project.csv` из папки `/datasets` и сохраните его в переменной `df`:"
   ]
  },
  {
   "cell_type": "code",
   "execution_count": 10,
   "metadata": {
    "id": "fFVu7vqh_Zct"
   },
   "outputs": [],
   "source": [
    "df = pd.read_csv('/datasets/yandex_music_project.csv')# чтение файла с данными и сохранение в df"
   ]
  },
  {
   "cell_type": "markdown",
   "metadata": {
    "id": "rDoOMd3uTqnZ"
   },
   "source": [
    "Выведите на экран первые десять строк таблицы:"
   ]
  },
  {
   "cell_type": "code",
   "execution_count": 51,
   "metadata": {
    "id": "oWTVX3gW_Zct"
   },
   "outputs": [
    {
     "data": {
      "text/html": [
       "<div>\n",
       "<style scoped>\n",
       "    .dataframe tbody tr th:only-of-type {\n",
       "        vertical-align: middle;\n",
       "    }\n",
       "\n",
       "    .dataframe tbody tr th {\n",
       "        vertical-align: top;\n",
       "    }\n",
       "\n",
       "    .dataframe thead th {\n",
       "        text-align: right;\n",
       "    }\n",
       "</style>\n",
       "<table border=\"1\" class=\"dataframe\">\n",
       "  <thead>\n",
       "    <tr style=\"text-align: right;\">\n",
       "      <th></th>\n",
       "      <th>user_id</th>\n",
       "      <th>track</th>\n",
       "      <th>artist</th>\n",
       "      <th>genre</th>\n",
       "      <th>city</th>\n",
       "      <th>time</th>\n",
       "      <th>day</th>\n",
       "    </tr>\n",
       "  </thead>\n",
       "  <tbody>\n",
       "    <tr>\n",
       "      <td>0</td>\n",
       "      <td>FFB692EC</td>\n",
       "      <td>Kamigata To Boots</td>\n",
       "      <td>The Mass Missile</td>\n",
       "      <td>rock</td>\n",
       "      <td>Saint-Petersburg</td>\n",
       "      <td>20:28:33</td>\n",
       "      <td>Wednesday</td>\n",
       "    </tr>\n",
       "    <tr>\n",
       "      <td>1</td>\n",
       "      <td>55204538</td>\n",
       "      <td>Delayed Because of Accident</td>\n",
       "      <td>Andreas Rönnberg</td>\n",
       "      <td>rock</td>\n",
       "      <td>Moscow</td>\n",
       "      <td>14:07:09</td>\n",
       "      <td>Friday</td>\n",
       "    </tr>\n",
       "    <tr>\n",
       "      <td>2</td>\n",
       "      <td>20EC38</td>\n",
       "      <td>Funiculì funiculà</td>\n",
       "      <td>Mario Lanza</td>\n",
       "      <td>pop</td>\n",
       "      <td>Saint-Petersburg</td>\n",
       "      <td>20:58:07</td>\n",
       "      <td>Wednesday</td>\n",
       "    </tr>\n",
       "    <tr>\n",
       "      <td>3</td>\n",
       "      <td>A3DD03C9</td>\n",
       "      <td>Dragons in the Sunset</td>\n",
       "      <td>Fire + Ice</td>\n",
       "      <td>folk</td>\n",
       "      <td>Saint-Petersburg</td>\n",
       "      <td>08:37:09</td>\n",
       "      <td>Monday</td>\n",
       "    </tr>\n",
       "    <tr>\n",
       "      <td>4</td>\n",
       "      <td>E2DC1FAE</td>\n",
       "      <td>Soul People</td>\n",
       "      <td>Space Echo</td>\n",
       "      <td>dance</td>\n",
       "      <td>Moscow</td>\n",
       "      <td>08:34:34</td>\n",
       "      <td>Monday</td>\n",
       "    </tr>\n",
       "    <tr>\n",
       "      <td>5</td>\n",
       "      <td>842029A1</td>\n",
       "      <td>Преданная</td>\n",
       "      <td>IMPERVTOR</td>\n",
       "      <td>rusrap</td>\n",
       "      <td>Saint-Petersburg</td>\n",
       "      <td>13:09:41</td>\n",
       "      <td>Friday</td>\n",
       "    </tr>\n",
       "    <tr>\n",
       "      <td>6</td>\n",
       "      <td>4CB90AA5</td>\n",
       "      <td>True</td>\n",
       "      <td>Roman Messer</td>\n",
       "      <td>dance</td>\n",
       "      <td>Moscow</td>\n",
       "      <td>13:00:07</td>\n",
       "      <td>Wednesday</td>\n",
       "    </tr>\n",
       "    <tr>\n",
       "      <td>7</td>\n",
       "      <td>F03E1C1F</td>\n",
       "      <td>Feeling This Way</td>\n",
       "      <td>Polina Griffith</td>\n",
       "      <td>dance</td>\n",
       "      <td>Moscow</td>\n",
       "      <td>20:47:49</td>\n",
       "      <td>Wednesday</td>\n",
       "    </tr>\n",
       "    <tr>\n",
       "      <td>8</td>\n",
       "      <td>8FA1D3BE</td>\n",
       "      <td>И вновь продолжается бой</td>\n",
       "      <td>unknown</td>\n",
       "      <td>ruspop</td>\n",
       "      <td>Moscow</td>\n",
       "      <td>09:17:40</td>\n",
       "      <td>Friday</td>\n",
       "    </tr>\n",
       "    <tr>\n",
       "      <td>9</td>\n",
       "      <td>E772D5C0</td>\n",
       "      <td>Pessimist</td>\n",
       "      <td>unknown</td>\n",
       "      <td>dance</td>\n",
       "      <td>Saint-Petersburg</td>\n",
       "      <td>21:20:49</td>\n",
       "      <td>Wednesday</td>\n",
       "    </tr>\n",
       "  </tbody>\n",
       "</table>\n",
       "</div>"
      ],
      "text/plain": [
       "    user_id                        track            artist   genre  \\\n",
       "0  FFB692EC            Kamigata To Boots  The Mass Missile    rock   \n",
       "1  55204538  Delayed Because of Accident  Andreas Rönnberg    rock   \n",
       "2    20EC38            Funiculì funiculà       Mario Lanza     pop   \n",
       "3  A3DD03C9        Dragons in the Sunset        Fire + Ice    folk   \n",
       "4  E2DC1FAE                  Soul People        Space Echo   dance   \n",
       "5  842029A1                    Преданная         IMPERVTOR  rusrap   \n",
       "6  4CB90AA5                         True      Roman Messer   dance   \n",
       "7  F03E1C1F             Feeling This Way   Polina Griffith   dance   \n",
       "8  8FA1D3BE     И вновь продолжается бой           unknown  ruspop   \n",
       "9  E772D5C0                    Pessimist           unknown   dance   \n",
       "\n",
       "               city      time        day  \n",
       "0  Saint-Petersburg  20:28:33  Wednesday  \n",
       "1            Moscow  14:07:09     Friday  \n",
       "2  Saint-Petersburg  20:58:07  Wednesday  \n",
       "3  Saint-Petersburg  08:37:09     Monday  \n",
       "4            Moscow  08:34:34     Monday  \n",
       "5  Saint-Petersburg  13:09:41     Friday  \n",
       "6            Moscow  13:00:07  Wednesday  \n",
       "7            Moscow  20:47:49  Wednesday  \n",
       "8            Moscow  09:17:40     Friday  \n",
       "9  Saint-Petersburg  21:20:49  Wednesday  "
      ]
     },
     "execution_count": 51,
     "metadata": {},
     "output_type": "execute_result"
    }
   ],
   "source": [
    "df.head(10)# получение первых 10 строк таблицы df"
   ]
  },
  {
   "cell_type": "markdown",
   "metadata": {
    "id": "EO73Kwic_Zct"
   },
   "source": [
    "Одной командой получить общую информацию о таблице:"
   ]
  },
  {
   "cell_type": "code",
   "execution_count": 12,
   "metadata": {
    "id": "DSf2kIb-_Zct"
   },
   "outputs": [
    {
     "name": "stdout",
     "output_type": "stream",
     "text": [
      "<class 'pandas.core.frame.DataFrame'>\n",
      "RangeIndex: 65079 entries, 0 to 65078\n",
      "Data columns (total 7 columns):\n",
      "  userID    65079 non-null object\n",
      "Track       63848 non-null object\n",
      "artist      57876 non-null object\n",
      "genre       63881 non-null object\n",
      "  City      65079 non-null object\n",
      "time        65079 non-null object\n",
      "Day         65079 non-null object\n",
      "dtypes: object(7)\n",
      "memory usage: 3.5+ MB\n"
     ]
    }
   ],
   "source": [
    "df.info()# получение общей информации о данных в таблице df"
   ]
  },
  {
   "cell_type": "markdown",
   "metadata": {
    "id": "TaQ2Iwbr_Zct"
   },
   "source": [
    "Итак, в таблице семь столбцов. Тип данных во всех столбцах — `object`.\n",
    "\n",
    "Согласно документации к данным:\n",
    "* `userID` — идентификатор пользователя;\n",
    "* `Track` — название трека;  \n",
    "* `artist` — имя исполнителя;\n",
    "* `genre` — название жанра;\n",
    "* `City` — город пользователя;\n",
    "* `time` — время начала прослушивания;\n",
    "* `Day` — день недели.\n",
    "\n",
    "В названиях колонок видны три нарушения стиля:\n",
    "1. Строчные буквы сочетаются с прописными.\n",
    "2. Встречаются пробелы.\n",
    "3. Найдите ещё одну проблему в названии колонок и опишите её в этом пункте.\n",
    "\n",
    "\n",
    "\n",
    "Количество значений в столбцах различается. Значит, в данных есть пропущенные значения.\n",
    "\n",
    "3. Несоблюдение стиля написания составных слов в колонке `userID`, названия столбцов лучше писать в «змеином_регистре»."
   ]
  },
  {
   "cell_type": "markdown",
   "metadata": {
    "id": "MCB6-dXG_Zct"
   },
   "source": [
    "**Выводы**\n",
    "\n",
    "В каждой строке таблицы — данные о прослушанном треке. Часть колонок описывает саму композицию: название, исполнителя и жанр. Остальные данные рассказывают о пользователе: из какого он города, когда он слушал музыку. \n",
    "\n",
    "Предварительно можно утверждать, что, данных достаточно для проверки гипотез. Но встречаются пропуски в данных, а в названиях колонок — расхождения с хорошим стилем.\n",
    "\n",
    "Чтобы двигаться дальше, нужно устранить проблемы в данных."
   ]
  },
  {
   "cell_type": "markdown",
   "metadata": {
    "id": "SjYF6Ub9_Zct"
   },
   "source": [
    "## Предобработка данных\n",
    "Исправьте стиль в заголовках столбцов, исключите пропуски. Затем проверьте данные на дубликаты."
   ]
  },
  {
   "cell_type": "markdown",
   "metadata": {
    "id": "dIaKXr29_Zct"
   },
   "source": [
    "### Стиль заголовков\n",
    "Выведите на экран названия столбцов:"
   ]
  },
  {
   "cell_type": "code",
   "execution_count": 13,
   "metadata": {
    "id": "oKOTdF_Q_Zct"
   },
   "outputs": [
    {
     "data": {
      "text/plain": [
       "Index(['  userID', 'Track', 'artist', 'genre', '  City  ', 'time', 'Day'], dtype='object')"
      ]
     },
     "execution_count": 13,
     "metadata": {},
     "output_type": "execute_result"
    }
   ],
   "source": [
    "df.columns# перечень названий столбцов таблицы df"
   ]
  },
  {
   "cell_type": "markdown",
   "metadata": {
    "id": "zj5534cv_Zct"
   },
   "source": [
    "Приведите названия в соответствие с хорошим стилем:\n",
    "* несколько слов в названии запишите в «змеином_регистре»,\n",
    "* все символы сделайте строчными,\n",
    "* устраните пробелы.\n",
    "\n",
    "Для этого переименуйте колонки так:\n",
    "* `'  userID'` → `'user_id'`;\n",
    "* `'Track'` → `'track'`;\n",
    "* `'  City  '` → `'city'`;\n",
    "* `'Day'` → `'day'`."
   ]
  },
  {
   "cell_type": "code",
   "execution_count": 14,
   "metadata": {
    "id": "ISlFqs5y_Zct"
   },
   "outputs": [],
   "source": [
    "df = df.rename(columns={'  userID':'user_id',\n",
    "'Track':'track',\n",
    "'  City  ':'city',\n",
    "'Day':'day'})# переименование столбцов"
   ]
  },
  {
   "cell_type": "markdown",
   "metadata": {
    "id": "1dqbh00J_Zct"
   },
   "source": [
    "Проверьте результат. Для этого ещё раз выведите на экран названия столбцов:"
   ]
  },
  {
   "cell_type": "code",
   "execution_count": 15,
   "metadata": {
    "id": "d4NOAmTW_Zct"
   },
   "outputs": [
    {
     "data": {
      "text/plain": [
       "Index(['user_id', 'track', 'artist', 'genre', 'city', 'time', 'day'], dtype='object')"
      ]
     },
     "execution_count": 15,
     "metadata": {},
     "output_type": "execute_result"
    }
   ],
   "source": [
    "df.columns# проверка результатов - перечень названий столбцов"
   ]
  },
  {
   "cell_type": "markdown",
   "metadata": {
    "id": "5ISfbcfY_Zct"
   },
   "source": [
    "### Пропуски значений\n",
    "Сначала посчитайте, сколько в таблице пропущенных значений. Для этого достаточно двух методов `pandas`:"
   ]
  },
  {
   "cell_type": "code",
   "execution_count": 16,
   "metadata": {
    "id": "RskX29qr_Zct"
   },
   "outputs": [
    {
     "data": {
      "text/plain": [
       "user_id       0\n",
       "track      1231\n",
       "artist     7203\n",
       "genre      1198\n",
       "city          0\n",
       "time          0\n",
       "day           0\n",
       "dtype: int64"
      ]
     },
     "execution_count": 16,
     "metadata": {},
     "output_type": "execute_result"
    }
   ],
   "source": [
    "df.isna().sum()# подсчёт пропусков"
   ]
  },
  {
   "cell_type": "markdown",
   "metadata": {
    "id": "qubhgnlO_Zct"
   },
   "source": [
    "Не все пропущенные значения влияют на исследование. Так в `track` и `artist` пропуски не важны для вашей работы. Достаточно заменить их явными обозначениями.\n",
    "\n",
    "Но пропуски в `genre` могут помешать сравнению музыкальных вкусов в Москве и Санкт-Петербурге. На практике было бы правильно установить причину пропусков и восстановить данные. Такой возможности нет в учебном проекте. Придётся:\n",
    "* заполнить и эти пропуски явными обозначениями,\n",
    "* оценить, насколько они повредят расчётам. "
   ]
  },
  {
   "cell_type": "markdown",
   "metadata": {
    "id": "fSv2laPA_Zct"
   },
   "source": [
    "Замените пропущенные значения в столбцах `track`, `artist` и `genre` на строку `'unknown'`. Для этого создайте список `columns_to_replace`, переберите его элементы циклом `for` и для каждого столбца выполните замену пропущенных значений:"
   ]
  },
  {
   "cell_type": "code",
   "execution_count": 17,
   "metadata": {
    "id": "KplB5qWs_Zct"
   },
   "outputs": [],
   "source": [
    "columns_to_replace = ['track', 'artist', 'genre']\n",
    "for item in columns_to_replace:\n",
    "    df[item] = df[item].fillna('unknown')# перебор названий столбцов в цикле и замена пропущенных значений на 'unknown'"
   ]
  },
  {
   "cell_type": "markdown",
   "metadata": {
    "id": "Ilsm-MZo_Zct"
   },
   "source": [
    "Убедитесь, что в таблице не осталось пропусков. Для этого ещё раз посчитайте пропущенные значения."
   ]
  },
  {
   "cell_type": "code",
   "execution_count": 18,
   "metadata": {
    "id": "Tq4nYRX4_Zct"
   },
   "outputs": [
    {
     "data": {
      "text/plain": [
       "user_id    0\n",
       "track      0\n",
       "artist     0\n",
       "genre      0\n",
       "city       0\n",
       "time       0\n",
       "day        0\n",
       "dtype: int64"
      ]
     },
     "execution_count": 18,
     "metadata": {},
     "output_type": "execute_result"
    }
   ],
   "source": [
    "df.isna().sum()# подсчёт пропусков"
   ]
  },
  {
   "cell_type": "markdown",
   "metadata": {
    "id": "BWKRtBJ3_Zct"
   },
   "source": [
    "### Дубликаты\n",
    "Посчитайте явные дубликаты в таблице одной командой:"
   ]
  },
  {
   "cell_type": "code",
   "execution_count": 19,
   "metadata": {
    "id": "36eES_S0_Zct"
   },
   "outputs": [
    {
     "data": {
      "text/plain": [
       "3826"
      ]
     },
     "execution_count": 19,
     "metadata": {},
     "output_type": "execute_result"
    }
   ],
   "source": [
    "df.duplicated().sum()# подсчёт явных дубликатов"
   ]
  },
  {
   "cell_type": "markdown",
   "metadata": {
    "id": "Ot25h6XR_Zct"
   },
   "source": [
    "Вызовите специальный метод `pandas`, чтобы удалить явные дубликаты:"
   ]
  },
  {
   "cell_type": "code",
   "execution_count": 52,
   "metadata": {
    "id": "exFHq6tt_Zct"
   },
   "outputs": [],
   "source": [
    "df = df.drop_duplicates().reset_index(drop=True) # удаление явных дубликатов (с удалением старых индексов и формированием новых)"
   ]
  },
  {
   "cell_type": "markdown",
   "metadata": {
    "id": "Im2YwBEG_Zct"
   },
   "source": [
    "Ещё раз посчитайте явные дубликаты в таблице — убедитесь, что полностью от них избавились:"
   ]
  },
  {
   "cell_type": "code",
   "execution_count": 21,
   "metadata": {
    "id": "-8PuNWQ0_Zct"
   },
   "outputs": [
    {
     "data": {
      "text/plain": [
       "0"
      ]
     },
     "execution_count": 21,
     "metadata": {},
     "output_type": "execute_result"
    }
   ],
   "source": [
    "df.duplicated().sum()# проверка на отсутствие дубликатов"
   ]
  },
  {
   "cell_type": "markdown",
   "metadata": {
    "id": "QlFBsxAr_Zct"
   },
   "source": [
    "Теперь избавьтесь от неявных дубликатов в колонке `genre`. Например, название одного и того же жанра может быть записано немного по-разному. Такие ошибки тоже повлияют на результат исследования."
   ]
  },
  {
   "cell_type": "markdown",
   "metadata": {
    "id": "eSjWwsOh_Zct"
   },
   "source": [
    "Выведите на экран список уникальных названий жанров, отсортированный в алфавитном порядке. Для этого:\n",
    "* извлеките нужный столбец датафрейма, \n",
    "* примените к нему метод сортировки,\n",
    "* для отсортированного столбца вызовите метод, который вернёт уникальные значения из столбца."
   ]
  },
  {
   "cell_type": "code",
   "execution_count": 22,
   "metadata": {
    "id": "JIUcqzZN_Zct"
   },
   "outputs": [
    {
     "data": {
      "text/plain": [
       "array(['acid', 'acoustic', 'action', 'adult', 'africa', 'afrikaans',\n",
       "       'alternative', 'alternativepunk', 'ambient', 'americana',\n",
       "       'animated', 'anime', 'arabesk', 'arabic', 'arena',\n",
       "       'argentinetango', 'art', 'audiobook', 'author', 'avantgarde',\n",
       "       'axé', 'baile', 'balkan', 'beats', 'bigroom', 'black', 'bluegrass',\n",
       "       'blues', 'bollywood', 'bossa', 'brazilian', 'breakbeat', 'breaks',\n",
       "       'broadway', 'cantautori', 'cantopop', 'canzone', 'caribbean',\n",
       "       'caucasian', 'celtic', 'chamber', 'chanson', 'children', 'chill',\n",
       "       'chinese', 'choral', 'christian', 'christmas', 'classical',\n",
       "       'classicmetal', 'club', 'colombian', 'comedy', 'conjazz',\n",
       "       'contemporary', 'country', 'cuban', 'dance', 'dancehall',\n",
       "       'dancepop', 'dark', 'death', 'deep', 'deutschrock', 'deutschspr',\n",
       "       'dirty', 'disco', 'dnb', 'documentary', 'downbeat', 'downtempo',\n",
       "       'drum', 'dub', 'dubstep', 'eastern', 'easy', 'electronic',\n",
       "       'electropop', 'emo', 'entehno', 'epicmetal', 'estrada', 'ethnic',\n",
       "       'eurofolk', 'european', 'experimental', 'extrememetal', 'fado',\n",
       "       'fairytail', 'film', 'fitness', 'flamenco', 'folk', 'folklore',\n",
       "       'folkmetal', 'folkrock', 'folktronica', 'forró', 'frankreich',\n",
       "       'französisch', 'french', 'funk', 'future', 'gangsta', 'garage',\n",
       "       'german', 'ghazal', 'gitarre', 'glitch', 'gospel', 'gothic',\n",
       "       'grime', 'grunge', 'gypsy', 'handsup', \"hard'n'heavy\", 'hardcore',\n",
       "       'hardstyle', 'hardtechno', 'hip', 'hip-hop', 'hiphop',\n",
       "       'historisch', 'holiday', 'hop', 'horror', 'house', 'hymn', 'idm',\n",
       "       'independent', 'indian', 'indie', 'indipop', 'industrial',\n",
       "       'inspirational', 'instrumental', 'international', 'irish', 'jam',\n",
       "       'japanese', 'jazz', 'jewish', 'jpop', 'jungle', 'k-pop',\n",
       "       'karadeniz', 'karaoke', 'kayokyoku', 'korean', 'laiko', 'latin',\n",
       "       'latino', 'leftfield', 'local', 'lounge', 'loungeelectronic',\n",
       "       'lovers', 'malaysian', 'mandopop', 'marschmusik', 'meditative',\n",
       "       'mediterranean', 'melodic', 'metal', 'metalcore', 'mexican',\n",
       "       'middle', 'minimal', 'miscellaneous', 'modern', 'mood', 'mpb',\n",
       "       'muslim', 'native', 'neoklassik', 'neue', 'new', 'newage',\n",
       "       'newwave', 'nu', 'nujazz', 'numetal', 'oceania', 'old', 'opera',\n",
       "       'orchestral', 'other', 'piano', 'podcasts', 'pop', 'popdance',\n",
       "       'popelectronic', 'popeurodance', 'poprussian', 'post',\n",
       "       'posthardcore', 'postrock', 'power', 'progmetal', 'progressive',\n",
       "       'psychedelic', 'punjabi', 'punk', 'quebecois', 'ragga', 'ram',\n",
       "       'rancheras', 'rap', 'rave', 'reggae', 'reggaeton', 'regional',\n",
       "       'relax', 'religious', 'retro', 'rhythm', 'rnb', 'rnr', 'rock',\n",
       "       'rockabilly', 'rockalternative', 'rockindie', 'rockother',\n",
       "       'romance', 'roots', 'ruspop', 'rusrap', 'rusrock', 'russian',\n",
       "       'salsa', 'samba', 'scenic', 'schlager', 'self', 'sertanejo',\n",
       "       'shanson', 'shoegazing', 'showtunes', 'singer', 'ska', 'skarock',\n",
       "       'slow', 'smooth', 'soft', 'soul', 'soulful', 'sound', 'soundtrack',\n",
       "       'southern', 'specialty', 'speech', 'spiritual', 'sport',\n",
       "       'stonerrock', 'surf', 'swing', 'synthpop', 'synthrock',\n",
       "       'sängerportrait', 'tango', 'tanzorchester', 'taraftar', 'tatar',\n",
       "       'tech', 'techno', 'teen', 'thrash', 'top', 'traditional',\n",
       "       'tradjazz', 'trance', 'tribal', 'trip', 'triphop', 'tropical',\n",
       "       'türk', 'türkçe', 'ukrrock', 'unknown', 'urban', 'uzbek',\n",
       "       'variété', 'vi', 'videogame', 'vocal', 'western', 'world',\n",
       "       'worldbeat', 'ïîï', 'электроника'], dtype=object)"
      ]
     },
     "execution_count": 22,
     "metadata": {},
     "output_type": "execute_result"
    }
   ],
   "source": [
    "df['genre'].sort_values().unique()# Просмотр уникальных названий жанров"
   ]
  },
  {
   "cell_type": "markdown",
   "metadata": {
    "id": "qej-Qmuo_Zct"
   },
   "source": [
    "Просмотрите список и найдите неявные дубликаты названия `hiphop`. Это могут быть названия с ошибками или альтернативные названия того же жанра.\n",
    "\n",
    "Вы увидите следующие неявные дубликаты:\n",
    "* *hip*,\n",
    "* *hop*,\n",
    "* *hip-hop*.\n",
    "\n",
    "Чтобы очистить от них таблицу, напишите функцию `replace_wrong_genres()` с двумя параметрами: \n",
    "* `wrong_genres` — список дубликатов,\n",
    "* `correct_genre` — строка с правильным значением.\n",
    "\n",
    "Функция должна исправить колонку `genre` в таблице `df`: заменить каждое значение из списка `wrong_genres` на значение из `correct_genre`."
   ]
  },
  {
   "cell_type": "code",
   "execution_count": 54,
   "metadata": {
    "id": "ErNDkmns_Zct"
   },
   "outputs": [],
   "source": [
    "def replace_wrong_genres(wrong_genres, correct_genre):\n",
    "    for wrong_genre in wrong_genres:\n",
    "        df['genre'] = wrong_genre.replace(wrong_genre, correct_genre)# Функция для замены неявных дубликатов"
   ]
  },
  {
   "cell_type": "markdown",
   "metadata": {
    "id": "aDoBJxbA_Zct"
   },
   "source": [
    "Вызовите `replace_wrong_genres()` и передайте ей такие аргументы, чтобы она устранила неявные дубликаты: вместо `hip`, `hop` и `hip-hop` в таблице должно быть значение `hiphop`:"
   ]
  },
  {
   "cell_type": "code",
   "execution_count": 24,
   "metadata": {
    "id": "YN5i2hpmSo09"
   },
   "outputs": [],
   "source": [
    "wrong_name = ['hip', 'hop', 'hip-hop']\n",
    "correct_name = 'hiphop'\n",
    "replace_wrong_genres(wrong_name, correct_name)# Устранение неявных дубликатов)# Устранение неявных дубликатов"
   ]
  },
  {
   "cell_type": "markdown",
   "metadata": {
    "id": "zQKF16_RG15m"
   },
   "source": [
    "Проверьте, что заменили неправильные названия:\n",
    "\n",
    "*   hip\n",
    "*   hop\n",
    "*   hip-hop\n",
    "\n",
    "Выведите отсортированный список уникальных значений столбца `genre`:"
   ]
  },
  {
   "cell_type": "code",
   "execution_count": 25,
   "metadata": {
    "id": "wvixALnFG15m"
   },
   "outputs": [
    {
     "data": {
      "text/plain": [
       "array(['acid', 'acoustic', 'action', 'adult', 'africa', 'afrikaans',\n",
       "       'alternative', 'alternativepunk', 'ambient', 'americana',\n",
       "       'animated', 'anime', 'arabesk', 'arabic', 'arena',\n",
       "       'argentinetango', 'art', 'audiobook', 'author', 'avantgarde',\n",
       "       'axé', 'baile', 'balkan', 'beats', 'bigroom', 'black', 'bluegrass',\n",
       "       'blues', 'bollywood', 'bossa', 'brazilian', 'breakbeat', 'breaks',\n",
       "       'broadway', 'cantautori', 'cantopop', 'canzone', 'caribbean',\n",
       "       'caucasian', 'celtic', 'chamber', 'chanson', 'children', 'chill',\n",
       "       'chinese', 'choral', 'christian', 'christmas', 'classical',\n",
       "       'classicmetal', 'club', 'colombian', 'comedy', 'conjazz',\n",
       "       'contemporary', 'country', 'cuban', 'dance', 'dancehall',\n",
       "       'dancepop', 'dark', 'death', 'deep', 'deutschrock', 'deutschspr',\n",
       "       'dirty', 'disco', 'dnb', 'documentary', 'downbeat', 'downtempo',\n",
       "       'drum', 'dub', 'dubstep', 'eastern', 'easy', 'electronic',\n",
       "       'electropop', 'emo', 'entehno', 'epicmetal', 'estrada', 'ethnic',\n",
       "       'eurofolk', 'european', 'experimental', 'extrememetal', 'fado',\n",
       "       'fairytail', 'film', 'fitness', 'flamenco', 'folk', 'folklore',\n",
       "       'folkmetal', 'folkrock', 'folktronica', 'forró', 'frankreich',\n",
       "       'französisch', 'french', 'funk', 'future', 'gangsta', 'garage',\n",
       "       'german', 'ghazal', 'gitarre', 'glitch', 'gospel', 'gothic',\n",
       "       'grime', 'grunge', 'gypsy', 'handsup', \"hard'n'heavy\", 'hardcore',\n",
       "       'hardstyle', 'hardtechno', 'hiphop', 'historisch', 'holiday',\n",
       "       'horror', 'house', 'hymn', 'idm', 'independent', 'indian', 'indie',\n",
       "       'indipop', 'industrial', 'inspirational', 'instrumental',\n",
       "       'international', 'irish', 'jam', 'japanese', 'jazz', 'jewish',\n",
       "       'jpop', 'jungle', 'k-pop', 'karadeniz', 'karaoke', 'kayokyoku',\n",
       "       'korean', 'laiko', 'latin', 'latino', 'leftfield', 'local',\n",
       "       'lounge', 'loungeelectronic', 'lovers', 'malaysian', 'mandopop',\n",
       "       'marschmusik', 'meditative', 'mediterranean', 'melodic', 'metal',\n",
       "       'metalcore', 'mexican', 'middle', 'minimal', 'miscellaneous',\n",
       "       'modern', 'mood', 'mpb', 'muslim', 'native', 'neoklassik', 'neue',\n",
       "       'new', 'newage', 'newwave', 'nu', 'nujazz', 'numetal', 'oceania',\n",
       "       'old', 'opera', 'orchestral', 'other', 'piano', 'podcasts', 'pop',\n",
       "       'popdance', 'popelectronic', 'popeurodance', 'poprussian', 'post',\n",
       "       'posthardcore', 'postrock', 'power', 'progmetal', 'progressive',\n",
       "       'psychedelic', 'punjabi', 'punk', 'quebecois', 'ragga', 'ram',\n",
       "       'rancheras', 'rap', 'rave', 'reggae', 'reggaeton', 'regional',\n",
       "       'relax', 'religious', 'retro', 'rhythm', 'rnb', 'rnr', 'rock',\n",
       "       'rockabilly', 'rockalternative', 'rockindie', 'rockother',\n",
       "       'romance', 'roots', 'ruspop', 'rusrap', 'rusrock', 'russian',\n",
       "       'salsa', 'samba', 'scenic', 'schlager', 'self', 'sertanejo',\n",
       "       'shanson', 'shoegazing', 'showtunes', 'singer', 'ska', 'skarock',\n",
       "       'slow', 'smooth', 'soft', 'soul', 'soulful', 'sound', 'soundtrack',\n",
       "       'southern', 'specialty', 'speech', 'spiritual', 'sport',\n",
       "       'stonerrock', 'surf', 'swing', 'synthpop', 'synthrock',\n",
       "       'sängerportrait', 'tango', 'tanzorchester', 'taraftar', 'tatar',\n",
       "       'tech', 'techno', 'teen', 'thrash', 'top', 'traditional',\n",
       "       'tradjazz', 'trance', 'tribal', 'trip', 'triphop', 'tropical',\n",
       "       'türk', 'türkçe', 'ukrrock', 'unknown', 'urban', 'uzbek',\n",
       "       'variété', 'vi', 'videogame', 'vocal', 'western', 'world',\n",
       "       'worldbeat', 'ïîï', 'электроника'], dtype=object)"
      ]
     },
     "execution_count": 25,
     "metadata": {},
     "output_type": "execute_result"
    }
   ],
   "source": [
    "df['genre'].sort_values().unique()# Проверка на неявные дубликаты"
   ]
  },
  {
   "cell_type": "markdown",
   "metadata": {
    "id": "jz6a9-7HQUDd"
   },
   "source": [
    "**Выводы**\n",
    "\n",
    "Предобработка обнаружила три проблемы в данных:\n",
    "\n",
    "- нарушения в стиле заголовков,\n",
    "- пропущенные значения,\n",
    "- дубликаты — явные и неявные.\n",
    "\n",
    "Вы исправили заголовки, чтобы упростить работу с таблицей. Без дубликатов исследование станет более точным.\n",
    "\n",
    "Пропущенные значения вы заменили на `'unknown'`. Ещё предстоит увидеть, не повредят ли исследованию пропуски в колонке `genre`.\n",
    "\n",
    "Теперь можно перейти к проверке гипотез. "
   ]
  },
  {
   "cell_type": "markdown",
   "metadata": {
    "id": "WttZHXH0SqKk"
   },
   "source": [
    "## Проверка гипотез"
   ]
  },
  {
   "cell_type": "markdown",
   "metadata": {
    "id": "Im936VVi_Zcu"
   },
   "source": [
    "### Сравнение поведения пользователей двух столиц"
   ]
  },
  {
   "cell_type": "markdown",
   "metadata": {
    "id": "nwt_MuaL_Zcu"
   },
   "source": [
    "Первая гипотеза утверждает, что пользователи по-разному слушают музыку в Москве и Санкт-Петербурге. Проверьте это предположение по данным о трёх днях недели — понедельнике, среде и пятнице. Для этого:\n",
    "\n",
    "* Разделите пользователей Москвы и Санкт-Петербурга\n",
    "* Сравните, сколько треков послушала каждая группа пользователей в понедельник, среду и пятницу.\n"
   ]
  },
  {
   "cell_type": "markdown",
   "metadata": {
    "id": "8Dw_YMmT_Zcu"
   },
   "source": [
    "Для тренировки сначала выполните каждый из расчётов по отдельности. \n",
    "\n",
    "Оцените активность пользователей в каждом городе. Сгруппируйте данные по городу и посчитайте прослушивания в каждой группе.\n",
    "\n"
   ]
  },
  {
   "cell_type": "code",
   "execution_count": 26,
   "metadata": {
    "id": "0_Qs96oh_Zcu"
   },
   "outputs": [
    {
     "data": {
      "text/plain": [
       "city\n",
       "Moscow              42741\n",
       "Saint-Petersburg    18512\n",
       "Name: track, dtype: int64"
      ]
     },
     "execution_count": 26,
     "metadata": {},
     "output_type": "execute_result"
    }
   ],
   "source": [
    "df.groupby('city')['track'].count()# Подсчёт прослушиваний в каждом городе"
   ]
  },
  {
   "cell_type": "markdown",
   "metadata": {
    "id": "dzli3w8o_Zcu"
   },
   "source": [
    "В Москве прослушиваний больше, чем в Петербурге. Из этого не следует, что московские пользователи чаще слушают музыку. Просто самих пользователей в Москве больше.\n",
    "\n",
    "Теперь сгруппируйте данные по дню недели и подсчитайте прослушивания в понедельник, среду и пятницу. Учтите, что в данных есть информация только о прослушиваниях только за эти дни.\n"
   ]
  },
  {
   "cell_type": "code",
   "execution_count": 27,
   "metadata": {
    "id": "uZMKjiJz_Zcu"
   },
   "outputs": [
    {
     "data": {
      "text/plain": [
       "day\n",
       "Friday       21840\n",
       "Monday       21354\n",
       "Wednesday    18059\n",
       "Name: track, dtype: int64"
      ]
     },
     "execution_count": 27,
     "metadata": {},
     "output_type": "execute_result"
    }
   ],
   "source": [
    "df.groupby('day')['track'].count()# Подсчёт прослушиваний в каждый из трёх дней"
   ]
  },
  {
   "cell_type": "markdown",
   "metadata": {
    "id": "cC2tNrlL_Zcu"
   },
   "source": [
    "В среднем пользователи из двух городов менее активны по средам. Но картина может измениться, если рассмотреть каждый город в отдельности."
   ]
  },
  {
   "cell_type": "markdown",
   "metadata": {
    "id": "POzs8bGa_Zcu"
   },
   "source": [
    "Вы видели, как работает группировка по городу и по дням недели. Теперь напишите функцию, которая объединит два эти расчёта.\n",
    "\n",
    "Создайте функцию `number_tracks()`, которая посчитает прослушивания для заданного дня и города. Ей понадобятся два параметра:\n",
    "* день недели,\n",
    "* название города.\n",
    "\n",
    "В функции сохраните в переменную строки исходной таблицы, у которых значение:\n",
    "  * в колонке `day` равно параметру `day`,\n",
    "  * в колонке `city` равно параметру `city`.\n",
    "\n",
    "Для этого примените последовательную фильтрацию с логической индексацией.\n",
    "\n",
    "Затем посчитайте значения в столбце `user_id` получившейся таблицы. Результат сохраните в новую переменную. Верните эту переменную из функции."
   ]
  },
  {
   "cell_type": "code",
   "execution_count": 28,
   "metadata": {
    "id": "Nz3GdQB1_Zcu"
   },
   "outputs": [],
   "source": [
    "def number_tracks(day, city):\n",
    "    track_list = df.loc[(df['day'] == day) & (df['city'] == city)]\n",
    "    track_list_count = track_list['user_id'].count()\n",
    "    return track_list_count\n",
    "# <создание функции number_tracks()> # Объявляется функция с двумя параметрами: day, city.\n",
    "# В переменной track_list сохраняются те строки таблицы df, для которых \n",
    "# значение в столбце 'day' равно параметру day и одновременно значение\n",
    "# в столбце 'city' равно параметру city (используйте последовательную фильтрацию\n",
    "# с помощью логической индексации).\n",
    "# В переменной track_list_count сохраняется число значений столбца 'user_id',\n",
    "# рассчитанное методом count() для таблицы track_list.\n",
    "# Функция возвращает число - значение track_list_count.\n",
    "# Функция для подсчёта прослушиваний для конкретного города и дня.\n",
    "# С помощью последовательной фильтрации с логической индексацией она \n",
    "# сначала получит из исходной таблицы строки с нужным днём,\n",
    "# затем из результата отфильтрует строки с нужным городом,\n",
    "# методом count() посчитает количество значений в колонке user_id. \n",
    "# Это количество функция вернёт в качестве результата"
   ]
  },
  {
   "cell_type": "markdown",
   "metadata": {
    "id": "ytf7xFrFJQ2r"
   },
   "source": [
    "Вызовите `number_tracks()` шесть раз, меняя значение параметров — так, чтобы получить данные для каждого города в каждый из трёх дней."
   ]
  },
  {
   "cell_type": "code",
   "execution_count": 29,
   "metadata": {
    "id": "rJcRATNQ_Zcu"
   },
   "outputs": [
    {
     "data": {
      "text/plain": [
       "15740"
      ]
     },
     "execution_count": 29,
     "metadata": {},
     "output_type": "execute_result"
    }
   ],
   "source": [
    "number_tracks('Monday','Moscow')# количество прослушиваний в Москве по понедельникам"
   ]
  },
  {
   "cell_type": "code",
   "execution_count": 30,
   "metadata": {
    "id": "hq_ncZ5T_Zcu"
   },
   "outputs": [
    {
     "data": {
      "text/plain": [
       "5614"
      ]
     },
     "execution_count": 30,
     "metadata": {},
     "output_type": "execute_result"
    }
   ],
   "source": [
    "number_tracks('Monday','Saint-Petersburg')# количество прослушиваний в Санкт-Петербурге по понедельникам"
   ]
  },
  {
   "cell_type": "code",
   "execution_count": 31,
   "metadata": {
    "id": "_NTy2VPU_Zcu"
   },
   "outputs": [
    {
     "data": {
      "text/plain": [
       "11056"
      ]
     },
     "execution_count": 31,
     "metadata": {},
     "output_type": "execute_result"
    }
   ],
   "source": [
    "number_tracks('Wednesday','Moscow')# количество прослушиваний в Москве по средам"
   ]
  },
  {
   "cell_type": "code",
   "execution_count": 32,
   "metadata": {
    "id": "j2y3TAwo_Zcu"
   },
   "outputs": [
    {
     "data": {
      "text/plain": [
       "7003"
      ]
     },
     "execution_count": 32,
     "metadata": {},
     "output_type": "execute_result"
    }
   ],
   "source": [
    "number_tracks('Wednesday','Saint-Petersburg')# количество прослушиваний в Санкт-Петербурге по средам"
   ]
  },
  {
   "cell_type": "code",
   "execution_count": 33,
   "metadata": {
    "id": "vYDw5u_K_Zcu"
   },
   "outputs": [
    {
     "data": {
      "text/plain": [
       "15945"
      ]
     },
     "execution_count": 33,
     "metadata": {},
     "output_type": "execute_result"
    }
   ],
   "source": [
    "number_tracks('Friday','Moscow')# количество прослушиваний в Москве по пятницам"
   ]
  },
  {
   "cell_type": "code",
   "execution_count": 34,
   "metadata": {
    "id": "8_yzFtW3_Zcu"
   },
   "outputs": [
    {
     "data": {
      "text/plain": [
       "5895"
      ]
     },
     "execution_count": 34,
     "metadata": {},
     "output_type": "execute_result"
    }
   ],
   "source": [
    "number_tracks('Friday','Saint-Petersburg')# количество прослушиваний в Санкт-Петербурге по пятницам"
   ]
  },
  {
   "cell_type": "markdown",
   "metadata": {
    "id": "7QXffbO-_Zcu"
   },
   "source": [
    "Создайте c помощью конструктора `pd.DataFrame` таблицу, где\n",
    "* названия колонок — `['city', 'monday', 'wednesday', 'friday']`;\n",
    "* данные — результаты, которые вы получили с помощью `number_tracks`."
   ]
  },
  {
   "cell_type": "code",
   "execution_count": 35,
   "metadata": {
    "id": "APAcLpOr_Zcu"
   },
   "outputs": [
    {
     "data": {
      "text/html": [
       "<div>\n",
       "<style scoped>\n",
       "    .dataframe tbody tr th:only-of-type {\n",
       "        vertical-align: middle;\n",
       "    }\n",
       "\n",
       "    .dataframe tbody tr th {\n",
       "        vertical-align: top;\n",
       "    }\n",
       "\n",
       "    .dataframe thead th {\n",
       "        text-align: right;\n",
       "    }\n",
       "</style>\n",
       "<table border=\"1\" class=\"dataframe\">\n",
       "  <thead>\n",
       "    <tr style=\"text-align: right;\">\n",
       "      <th></th>\n",
       "      <th>city</th>\n",
       "      <th>monday</th>\n",
       "      <th>wednesday</th>\n",
       "      <th>friday</th>\n",
       "    </tr>\n",
       "  </thead>\n",
       "  <tbody>\n",
       "    <tr>\n",
       "      <td>0</td>\n",
       "      <td>Moscow</td>\n",
       "      <td>15740</td>\n",
       "      <td>11056</td>\n",
       "      <td>15945</td>\n",
       "    </tr>\n",
       "    <tr>\n",
       "      <td>1</td>\n",
       "      <td>Saint-Petersburg</td>\n",
       "      <td>5614</td>\n",
       "      <td>7003</td>\n",
       "      <td>5895</td>\n",
       "    </tr>\n",
       "  </tbody>\n",
       "</table>\n",
       "</div>"
      ],
      "text/plain": [
       "               city  monday  wednesday  friday\n",
       "0            Moscow   15740      11056   15945\n",
       "1  Saint-Petersburg    5614       7003    5895"
      ]
     },
     "metadata": {},
     "output_type": "display_data"
    }
   ],
   "source": [
    "data = [['Moscow', 15740, 11056, 15945], \n",
    "        ['Saint-Petersburg', 5614, 7003, 5895]]\n",
    "table_result = pd.DataFrame(data = data, columns = ['city', 'monday', 'wednesday', 'friday'])\n",
    "display(table_result)\n",
    "# Таблица с результатами"
   ]
  },
  {
   "cell_type": "markdown",
   "metadata": {
    "id": "-EgPIHYu_Zcu"
   },
   "source": [
    "**Выводы**\n",
    "\n",
    "Данные показывают разницу поведения пользователей:\n",
    "\n",
    "- В Москве пик прослушиваний приходится на понедельник и пятницу, а в среду заметен спад.\n",
    "- В Петербурге, наоборот, больше слушают музыку по средам. Активность в понедельник и пятницу здесь почти в равной мере уступает среде.\n",
    "\n",
    "Значит, данные говорят в пользу первой гипотезы."
   ]
  },
  {
   "cell_type": "markdown",
   "metadata": {
    "id": "atZAxtq4_Zcu"
   },
   "source": [
    "### Музыка в начале и в конце недели"
   ]
  },
  {
   "cell_type": "markdown",
   "metadata": {
    "id": "eXrQqXFH_Zcu"
   },
   "source": [
    "Согласно второй гипотезе, утром в понедельник в Москве преобладают одни жанры, а в Петербурге — другие. Так же и вечером пятницы преобладают разные жанры — в зависимости от города."
   ]
  },
  {
   "cell_type": "markdown",
   "metadata": {
    "id": "S8UcW6Hw_Zcu"
   },
   "source": [
    "Сохраните таблицы с данными в две переменные:\n",
    "* по Москве — в `moscow_general`;\n",
    "* по Санкт-Петербургу — в `spb_general`."
   ]
  },
  {
   "cell_type": "code",
   "execution_count": 36,
   "metadata": {
    "id": "qeaFfM_P_Zcu"
   },
   "outputs": [],
   "source": [
    "moscow_general=df[df['city'] == 'Moscow']# получение таблицы moscow_general из тех строк таблицы df, \n",
    "# для которых значение в столбце 'city' равно 'Moscow'\n"
   ]
  },
  {
   "cell_type": "code",
   "execution_count": 37,
   "metadata": {
    "id": "ORaVRKto_Zcu"
   },
   "outputs": [],
   "source": [
    "spb_general = df[df.city == 'Saint-Petersburg']# получение таблицы spb_general из тех строк таблицы df,\n",
    "# для которых значение в столбце 'city' равно 'Saint-Petersburg'\n"
   ]
  },
  {
   "cell_type": "markdown",
   "metadata": {
    "id": "MEJV-CX2_Zcu"
   },
   "source": [
    "Создайте функцию `genre_weekday()` с четырьмя параметрами:\n",
    "* таблица (датафрейм) с данными,\n",
    "* день недели,\n",
    "* начальная временная метка в формате 'hh:mm', \n",
    "* последняя временная метка в формате 'hh:mm'.\n",
    "\n",
    "Функция должна вернуть информацию о топ-10 жанров тех треков, которые прослушивали в указанный день, в промежутке между двумя отметками времени."
   ]
  },
  {
   "cell_type": "code",
   "execution_count": 38,
   "metadata": {
    "id": "laJT9BYl_Zcu"
   },
   "outputs": [],
   "source": [
    "def genre_weekday(df, day, time1, time2):\n",
    "    genre_df=df.loc[(df['day'] == day) & (df['time'] > time1) & (df['time'] < time2)]\n",
    "    genre_df_count = genre_df.groupby('genre')['genre'].count()\n",
    "    genre_df_sorted = genre_df_count.sort_values(ascending = False)\n",
    "    return genre_df_sorted.head(10)\n",
    "# Объявление функции genre_weekday() с параметрами table, day, time1, time2,\n",
    "# которая возвращает информацию о самых популярных жанрах в указанный день в\n",
    "# заданное время:\n",
    "# 1) в переменную genre_df сохраняются те строки переданного датафрейма table, для\n",
    "#    которых одновременно:\n",
    "#    - значение в столбце day равно значению аргумента day\n",
    "#    - значение в столбце time больше значения аргумента time1\n",
    "#    - значение в столбце time меньше значения аргумента time2\n",
    "#    Используйте последовательную фильтрацию с помощью логической индексации.\n",
    "# 2) сгруппировать датафрейм genre_df по столбцу genre, взять один из его\n",
    "#    столбцов и посчитать методом count() количество записей для каждого из\n",
    "#    присутствующих жанров, получившийся Series записать в переменную\n",
    "#    genre_df_count\n",
    "# 3) отсортировать genre_df_count по убыванию встречаемости и сохранить\n",
    "#    в переменную genre_df_sorted\n",
    "# 4) вернуть Series из 10 первых значений genre_df_sorted, это будут топ-10\n",
    "#    популярных жанров (в указанный день, в заданное время)"
   ]
  },
  {
   "cell_type": "markdown",
   "metadata": {
    "id": "la2s2_PF_Zcu"
   },
   "source": [
    "Cравните результаты функции `genre_weekday()` для Москвы и Санкт-Петербурга в понедельник утром (с 7:00 до 11:00) и в пятницу вечером (с 17:00 до 23:00):"
   ]
  },
  {
   "cell_type": "code",
   "execution_count": 39,
   "metadata": {
    "id": "yz7itPUQ_Zcu"
   },
   "outputs": [
    {
     "data": {
      "text/plain": [
       "genre\n",
       "pop            781\n",
       "dance          549\n",
       "electronic     480\n",
       "rock           474\n",
       "hiphop         286\n",
       "ruspop         186\n",
       "world          181\n",
       "rusrap         175\n",
       "alternative    164\n",
       "unknown        161\n",
       "Name: genre, dtype: int64"
      ]
     },
     "execution_count": 39,
     "metadata": {},
     "output_type": "execute_result"
    }
   ],
   "source": [
    "genre_weekday(moscow_general, 'Monday', '07:00:00', '11:00:00')# вызов функции для утра понедельника в Москве (вместо df — таблица moscow_general)\n",
    "# объекты, хранящие время, являются строками и сравниваются как строки\n",
    "# пример вызова: genre_weekday(moscow_general, 'Monday', '07:00', '11:00')"
   ]
  },
  {
   "cell_type": "code",
   "execution_count": 40,
   "metadata": {
    "id": "kwUcHPdy_Zcu"
   },
   "outputs": [
    {
     "data": {
      "text/plain": [
       "genre\n",
       "pop            218\n",
       "dance          182\n",
       "rock           162\n",
       "electronic     147\n",
       "hiphop          80\n",
       "ruspop          64\n",
       "alternative     58\n",
       "rusrap          55\n",
       "jazz            44\n",
       "classical       40\n",
       "Name: genre, dtype: int64"
      ]
     },
     "execution_count": 40,
     "metadata": {},
     "output_type": "execute_result"
    }
   ],
   "source": [
    "genre_weekday(spb_general, 'Monday', '07:00:00', '11:00:00')# вызов функции для утра понедельника в Петербурге (вместо df — таблица spb_general)"
   ]
  },
  {
   "cell_type": "code",
   "execution_count": 41,
   "metadata": {
    "id": "EzXVRE1o_Zcu"
   },
   "outputs": [
    {
     "data": {
      "text/plain": [
       "genre\n",
       "pop            713\n",
       "rock           517\n",
       "dance          495\n",
       "electronic     482\n",
       "hiphop         273\n",
       "world          208\n",
       "ruspop         170\n",
       "alternative    163\n",
       "classical      163\n",
       "rusrap         142\n",
       "Name: genre, dtype: int64"
      ]
     },
     "execution_count": 41,
     "metadata": {},
     "output_type": "execute_result"
    }
   ],
   "source": [
    "genre_weekday(moscow_general, 'Friday', '17:00:00', '23:00:00')# вызов функции для вечера пятницы в Москве"
   ]
  },
  {
   "cell_type": "code",
   "execution_count": 42,
   "metadata": {
    "id": "JZaEKu5v_Zcu"
   },
   "outputs": [
    {
     "data": {
      "text/plain": [
       "genre\n",
       "pop            256\n",
       "rock           216\n",
       "electronic     216\n",
       "dance          210\n",
       "hiphop          97\n",
       "alternative     63\n",
       "jazz            61\n",
       "classical       60\n",
       "rusrap          59\n",
       "world           54\n",
       "Name: genre, dtype: int64"
      ]
     },
     "execution_count": 42,
     "metadata": {},
     "output_type": "execute_result"
    }
   ],
   "source": [
    "genre_weekday(spb_general, 'Friday', '17:00:00', '23:00:00')# вызов функции для вечера пятницы в Петербурге"
   ]
  },
  {
   "cell_type": "markdown",
   "metadata": {
    "id": "wrCe4MNX_Zcu"
   },
   "source": [
    "**Выводы**\n",
    "\n",
    "Если сравнить топ-10 жанров в понедельник утром, можно сделать такие выводы:\n",
    "\n",
    "1. В Москве и Петербурге слушают похожую музыку. Единственное отличие — в московский рейтинг вошёл жанр “world”, а в петербургский — джаз и классика.\n",
    "\n",
    "2. В Москве пропущенных значений оказалось так много, что значение `'unknown'` заняло десятое место среди самых популярных жанров. Значит, пропущенные значения занимают существенную долю в данных и угрожают достоверности исследования.\n",
    "\n",
    "Вечер пятницы не меняет эту картину. Некоторые жанры поднимаются немного выше, другие спускаются, но в целом топ-10 остаётся тем же самым.\n",
    "\n",
    "Таким образом, вторая гипотеза подтвердилась лишь частично:\n",
    "* Пользователи слушают похожую музыку в начале недели и в конце.\n",
    "* Разница между Москвой и Петербургом не слишком выражена. В Москве чаще слушают русскую популярную музыку, в Петербурге — джаз.\n",
    "\n",
    "Однако пропуски в данных ставят под сомнение этот результат. В Москве их так много, что рейтинг топ-10 мог бы выглядеть иначе, если бы не утерянные  данные о жанрах."
   ]
  },
  {
   "cell_type": "markdown",
   "metadata": {
    "id": "JolODAqr_Zcu"
   },
   "source": [
    "### Жанровые предпочтения в Москве и Петербурге\n",
    "\n",
    "Гипотеза: Петербург — столица рэпа, музыку этого жанра там слушают чаще, чем в Москве.  А Москва — город контрастов, в котором, тем не менее, преобладает поп-музыка."
   ]
  },
  {
   "cell_type": "markdown",
   "metadata": {
    "id": "DlegSvaT_Zcu"
   },
   "source": [
    "Сгруппируйте таблицу `moscow_general` по жанру и посчитайте прослушивания треков каждого жанра методом `count()`. Затем отсортируйте результат в порядке убывания и сохраните его в таблице `moscow_genres`."
   ]
  },
  {
   "cell_type": "code",
   "execution_count": 43,
   "metadata": {
    "id": "r19lIPke_Zcu"
   },
   "outputs": [],
   "source": [
    "moscow_genres = moscow_general.groupby('genre')['genre'].count().sort_values(ascending = False)\n",
    "# одной строкой: группировка таблицы moscow_general по столбцу 'genre', \n",
    "# подсчёт числа значений 'genre' в этой группировке методом count(), \n",
    "# сортировка получившегося Series в порядке убывания и сохранение в moscow_genres"
   ]
  },
  {
   "cell_type": "markdown",
   "metadata": {
    "id": "6kMuomxTiIr8"
   },
   "source": [
    "Выведите на экран первые десять строк `moscow_genres`:"
   ]
  },
  {
   "cell_type": "code",
   "execution_count": 44,
   "metadata": {
    "id": "WhCSooF8_Zcv"
   },
   "outputs": [
    {
     "data": {
      "text/plain": [
       "genre\n",
       "pop            5892\n",
       "dance          4435\n",
       "rock           3965\n",
       "electronic     3786\n",
       "hiphop         2096\n",
       "classical      1616\n",
       "world          1432\n",
       "alternative    1379\n",
       "ruspop         1372\n",
       "rusrap         1161\n",
       "Name: genre, dtype: int64"
      ]
     },
     "metadata": {},
     "output_type": "display_data"
    }
   ],
   "source": [
    "display(moscow_genres.head(10))# просмотр первых 10 строк moscow_genres"
   ]
  },
  {
   "cell_type": "markdown",
   "metadata": {
    "id": "cnPG2vnN_Zcv"
   },
   "source": [
    "Теперь повторите то же и для Петербурга.\n",
    "\n",
    "Сгруппируйте таблицу `spb_general` по жанру. Посчитайте прослушивания треков каждого жанра. Результат отсортируйте в порядке убывания и сохраните в таблице `spb_genres`:\n"
   ]
  },
  {
   "cell_type": "code",
   "execution_count": 45,
   "metadata": {
    "id": "gluLIpE7_Zcv"
   },
   "outputs": [],
   "source": [
    "spb_genres = spb_general.groupby('genre')['genre'].count().sort_values(ascending = False)\n",
    "# одной строкой: группировка таблицы spb_general по столбцу 'genre', \n",
    "# подсчёт числа значений 'genre' в этой группировке методом count(), \n",
    "# сортировка получившегося Series в порядке убывания и сохранение в spb_genres"
   ]
  },
  {
   "cell_type": "markdown",
   "metadata": {
    "id": "5Doha_ODgyQ8"
   },
   "source": [
    "Выведите на экран первые десять строк `spb_genres`:"
   ]
  },
  {
   "cell_type": "code",
   "execution_count": 46,
   "metadata": {
    "id": "uaGJHjVU_Zcv"
   },
   "outputs": [
    {
     "data": {
      "text/plain": [
       "genre\n",
       "pop            2431\n",
       "dance          1932\n",
       "rock           1879\n",
       "electronic     1736\n",
       "hiphop          960\n",
       "alternative     649\n",
       "classical       646\n",
       "rusrap          564\n",
       "ruspop          538\n",
       "world           515\n",
       "Name: genre, dtype: int64"
      ]
     },
     "metadata": {},
     "output_type": "display_data"
    }
   ],
   "source": [
    "display(spb_genres[:10])# просмотр первых 10 строк spb_genres"
   ]
  },
  {
   "cell_type": "markdown",
   "metadata": {
    "id": "RY51YJYu_Zcv"
   },
   "source": [
    "**Выводы**"
   ]
  },
  {
   "cell_type": "markdown",
   "metadata": {
    "id": "nVhnJEm__Zcv"
   },
   "source": [
    "Гипотеза частично подтвердилась:\n",
    "* Поп-музыка — самый популярный жанр в Москве, как и предполагала гипотеза. Более того, в топ-10 жанров встречается близкий жанр — русская популярная музыка.\n",
    "* Вопреки ожиданиям, рэп одинаково популярен в Москве и Петербурге. \n"
   ]
  },
  {
   "cell_type": "markdown",
   "metadata": {
    "id": "ykKQ0N65_Zcv"
   },
   "source": [
    "## Итоги исследования"
   ]
  },
  {
   "cell_type": "markdown",
   "metadata": {
    "id": "tjUwbHb3_Zcv"
   },
   "source": [
    "Вы проверили три гипотезы и установили:\n",
    "\n",
    "1. День недели по-разному влияет на активность пользователей в Москве и Петербурге. \n",
    "\n",
    "Первая гипотеза полностью подтвердилась.\n",
    "\n",
    "2. Музыкальные предпочтения не сильно меняются в течение недели — будь то Москва или Петербург. Небольшие различия заметны в начале недели, по понедельникам:\n",
    "* в Москве слушают музыку жанра “world”,\n",
    "* в Петербурге — джаз и классику.\n",
    "\n",
    "Таким образом, вторая гипотеза подтвердилась лишь отчасти. Этот результат мог оказаться иным, если бы не пропуски в данных.\n",
    "\n",
    "3. Во вкусах пользователей Москвы и Петербурга больше общего чем различий. Вопреки ожиданиям, предпочтения жанров в Петербурге напоминают московские.\n",
    "\n",
    "Третья гипотеза не подтвердилась. Если различия в предпочтениях и существуют, на основной массе пользователей они незаметны.\n",
    "\n",
    "**На практике исследования содержат проверки статистических гипотез.**\n",
    "Из данных одного сервиса не всегда можно сделать вывод о всех жителях города.\n",
    "Проверки статистических гипотез покажут, насколько они достоверны, исходя из имеющихся данных. \n",
    "С методами проверок гипотез вы ещё познакомитесь в следующих темах."
   ]
  }
 ],
 "metadata": {
  "ExecuteTimeLog": [
   {
    "duration": 718,
    "start_time": "2022-02-23T16:12:39.033Z"
   },
   {
    "duration": 430,
    "start_time": "2022-02-23T16:17:18.921Z"
   },
   {
    "duration": 29,
    "start_time": "2022-02-23T16:18:26.817Z"
   },
   {
    "duration": 32,
    "start_time": "2022-02-23T16:19:20.411Z"
   },
   {
    "duration": 6,
    "start_time": "2022-02-23T16:43:15.656Z"
   },
   {
    "duration": 79,
    "start_time": "2022-02-23T16:50:38.115Z"
   },
   {
    "duration": 28,
    "start_time": "2022-02-23T16:51:19.636Z"
   },
   {
    "duration": 6,
    "start_time": "2022-02-23T16:52:29.597Z"
   },
   {
    "duration": 35,
    "start_time": "2022-02-23T16:55:09.391Z"
   },
   {
    "duration": 3,
    "start_time": "2022-02-23T17:05:29.220Z"
   },
   {
    "duration": 30,
    "start_time": "2022-02-23T17:05:57.274Z"
   },
   {
    "duration": 11,
    "start_time": "2022-02-23T17:06:41.421Z"
   },
   {
    "duration": 83,
    "start_time": "2022-02-23T17:06:45.812Z"
   },
   {
    "duration": 76,
    "start_time": "2022-02-23T17:07:00.563Z"
   },
   {
    "duration": 347,
    "start_time": "2022-02-23T17:07:13.158Z"
   },
   {
    "duration": 222,
    "start_time": "2022-02-23T17:08:34.181Z"
   },
   {
    "duration": 226,
    "start_time": "2022-02-23T17:10:43.532Z"
   },
   {
    "duration": 28,
    "start_time": "2022-02-23T17:13:36.742Z"
   },
   {
    "duration": 32,
    "start_time": "2022-02-23T17:14:03.018Z"
   },
   {
    "duration": 317,
    "start_time": "2022-02-23T17:16:21.747Z"
   },
   {
    "duration": 89,
    "start_time": "2022-02-23T17:16:36.759Z"
   },
   {
    "duration": 97,
    "start_time": "2022-02-23T17:17:51.077Z"
   },
   {
    "duration": 108,
    "start_time": "2022-02-23T17:19:46.958Z"
   },
   {
    "duration": 92,
    "start_time": "2022-02-23T17:20:05.435Z"
   },
   {
    "duration": 58,
    "start_time": "2022-02-23T17:30:51.554Z"
   },
   {
    "duration": 5,
    "start_time": "2022-02-23T18:06:03.749Z"
   },
   {
    "duration": 22,
    "start_time": "2022-02-23T18:25:14.971Z"
   },
   {
    "duration": 266,
    "start_time": "2022-02-23T18:29:52.541Z"
   },
   {
    "duration": 59,
    "start_time": "2022-02-23T18:30:20.835Z"
   },
   {
    "duration": 21,
    "start_time": "2022-02-23T18:34:59.560Z"
   },
   {
    "duration": 30,
    "start_time": "2022-02-23T18:35:13.958Z"
   },
   {
    "duration": 287,
    "start_time": "2022-02-24T11:11:13.445Z"
   },
   {
    "duration": 268,
    "start_time": "2022-02-24T11:11:56.660Z"
   },
   {
    "duration": 237,
    "start_time": "2022-02-24T11:16:01.926Z"
   },
   {
    "duration": 246,
    "start_time": "2022-02-24T11:16:46.662Z"
   },
   {
    "duration": 240,
    "start_time": "2022-02-24T11:18:12.527Z"
   },
   {
    "duration": 231,
    "start_time": "2022-02-24T11:19:17.815Z"
   },
   {
    "duration": 677,
    "start_time": "2022-02-24T11:20:19.271Z"
   },
   {
    "duration": 158,
    "start_time": "2022-02-24T11:20:25.337Z"
   },
   {
    "duration": 20,
    "start_time": "2022-02-24T11:20:30.890Z"
   },
   {
    "duration": 28,
    "start_time": "2022-02-24T11:20:38.966Z"
   },
   {
    "duration": 5,
    "start_time": "2022-02-24T11:20:43.082Z"
   },
   {
    "duration": 26,
    "start_time": "2022-02-24T11:20:50.654Z"
   },
   {
    "duration": 4,
    "start_time": "2022-02-24T11:20:53.879Z"
   },
   {
    "duration": 26,
    "start_time": "2022-02-24T11:20:56.530Z"
   },
   {
    "duration": 20,
    "start_time": "2022-02-24T11:20:59.438Z"
   },
   {
    "duration": 26,
    "start_time": "2022-02-24T11:21:01.839Z"
   },
   {
    "duration": 68,
    "start_time": "2022-02-24T11:21:04.338Z"
   },
   {
    "duration": 77,
    "start_time": "2022-02-24T11:21:07.222Z"
   },
   {
    "duration": 62,
    "start_time": "2022-02-24T11:21:09.430Z"
   },
   {
    "duration": 44,
    "start_time": "2022-02-24T11:21:12.231Z"
   },
   {
    "duration": 4,
    "start_time": "2022-02-24T11:21:16.836Z"
   },
   {
    "duration": 17,
    "start_time": "2022-02-24T11:21:19.143Z"
   },
   {
    "duration": 44,
    "start_time": "2022-02-24T11:21:22.047Z"
   },
   {
    "duration": 39,
    "start_time": "2022-02-24T11:21:27.313Z"
   },
   {
    "duration": 120,
    "start_time": "2022-02-24T11:23:43.162Z"
   },
   {
    "duration": 112,
    "start_time": "2022-02-24T11:23:54.455Z"
   },
   {
    "duration": 13,
    "start_time": "2022-02-24T11:24:00.680Z"
   },
   {
    "duration": 37,
    "start_time": "2022-02-24T11:25:00.311Z"
   },
   {
    "duration": 37,
    "start_time": "2022-02-24T11:26:40.977Z"
   },
   {
    "duration": 89,
    "start_time": "2022-02-24T11:27:20.985Z"
   },
   {
    "duration": 14,
    "start_time": "2022-02-24T11:27:31.417Z"
   },
   {
    "duration": 13,
    "start_time": "2022-02-24T11:27:41.706Z"
   },
   {
    "duration": 37,
    "start_time": "2022-02-24T11:27:56.833Z"
   },
   {
    "duration": 37,
    "start_time": "2022-02-24T11:28:06.715Z"
   },
   {
    "duration": 40,
    "start_time": "2022-02-24T11:28:11.313Z"
   },
   {
    "duration": 62,
    "start_time": "2022-02-24T11:28:19.241Z"
   },
   {
    "duration": 4,
    "start_time": "2022-02-24T11:38:47.813Z"
   },
   {
    "duration": 539,
    "start_time": "2022-02-24T11:41:43.871Z"
   },
   {
    "duration": 4,
    "start_time": "2022-02-24T11:42:11.975Z"
   },
   {
    "duration": 507,
    "start_time": "2022-02-24T11:42:14.926Z"
   },
   {
    "duration": 5,
    "start_time": "2022-02-24T11:42:27.423Z"
   },
   {
    "duration": 489,
    "start_time": "2022-02-24T11:42:37.934Z"
   },
   {
    "duration": 500,
    "start_time": "2022-02-24T11:44:06.360Z"
   },
   {
    "duration": 84,
    "start_time": "2022-02-24T11:46:00.514Z"
   },
   {
    "duration": 4,
    "start_time": "2022-02-24T11:46:19.022Z"
   },
   {
    "duration": 492,
    "start_time": "2022-02-24T11:46:23.512Z"
   },
   {
    "duration": 3,
    "start_time": "2022-02-24T11:48:24.882Z"
   },
   {
    "duration": 17,
    "start_time": "2022-02-24T11:49:44.481Z"
   },
   {
    "duration": 13,
    "start_time": "2022-02-24T11:50:00.496Z"
   },
   {
    "duration": 4,
    "start_time": "2022-02-24T11:50:50.697Z"
   },
   {
    "duration": 503,
    "start_time": "2022-02-24T11:50:55.642Z"
   },
   {
    "duration": 3,
    "start_time": "2022-02-24T11:57:15.988Z"
   },
   {
    "duration": 14,
    "start_time": "2022-02-24T11:57:44.804Z"
   },
   {
    "duration": 14,
    "start_time": "2022-02-24T11:57:47.933Z"
   },
   {
    "duration": 298,
    "start_time": "2022-02-24T12:06:08.829Z"
   },
   {
    "duration": 507,
    "start_time": "2022-02-24T12:07:13.632Z"
   },
   {
    "duration": 5,
    "start_time": "2022-02-24T12:07:48.972Z"
   },
   {
    "duration": 498,
    "start_time": "2022-02-24T12:08:01.891Z"
   },
   {
    "duration": 309,
    "start_time": "2022-02-24T12:09:37.579Z"
   },
   {
    "duration": 14,
    "start_time": "2022-02-24T12:09:46.821Z"
   },
   {
    "duration": 4,
    "start_time": "2022-02-24T12:13:47.048Z"
   },
   {
    "duration": 499,
    "start_time": "2022-02-24T12:13:50.814Z"
   },
   {
    "duration": 4,
    "start_time": "2022-02-24T12:14:27.022Z"
   },
   {
    "duration": 759,
    "start_time": "2022-02-24T12:14:31.195Z"
   },
   {
    "duration": 4,
    "start_time": "2022-02-24T12:16:00.070Z"
   },
   {
    "duration": 8,
    "start_time": "2022-02-24T12:16:01.091Z"
   },
   {
    "duration": 483,
    "start_time": "2022-02-24T12:16:03.815Z"
   },
   {
    "duration": 3,
    "start_time": "2022-02-24T12:17:54.900Z"
   },
   {
    "duration": 158,
    "start_time": "2022-02-24T12:17:56.601Z"
   },
   {
    "duration": 12,
    "start_time": "2022-02-24T12:17:57.212Z"
   },
   {
    "duration": 6444,
    "start_time": "2022-02-24T12:18:01.956Z"
   },
   {
    "duration": 6525,
    "start_time": "2022-02-24T12:18:17.449Z"
   },
   {
    "duration": 4,
    "start_time": "2022-02-24T12:18:30.137Z"
   },
   {
    "duration": 6402,
    "start_time": "2022-02-24T12:18:31.786Z"
   },
   {
    "duration": 3,
    "start_time": "2022-02-24T12:18:42.743Z"
   },
   {
    "duration": 157,
    "start_time": "2022-02-24T12:18:43.582Z"
   },
   {
    "duration": 11,
    "start_time": "2022-02-24T12:18:44.190Z"
   },
   {
    "duration": 29,
    "start_time": "2022-02-24T12:18:44.820Z"
   },
   {
    "duration": 5,
    "start_time": "2022-02-24T12:18:46.261Z"
   },
   {
    "duration": 26,
    "start_time": "2022-02-24T12:18:46.945Z"
   },
   {
    "duration": 5,
    "start_time": "2022-02-24T12:18:47.543Z"
   },
   {
    "duration": 29,
    "start_time": "2022-02-24T12:18:48.652Z"
   },
   {
    "duration": 22,
    "start_time": "2022-02-24T12:18:49.879Z"
   },
   {
    "duration": 29,
    "start_time": "2022-02-24T12:18:50.516Z"
   },
   {
    "duration": 78,
    "start_time": "2022-02-24T12:18:51.268Z"
   },
   {
    "duration": 85,
    "start_time": "2022-02-24T12:18:51.921Z"
   },
   {
    "duration": 72,
    "start_time": "2022-02-24T12:18:52.565Z"
   },
   {
    "duration": 47,
    "start_time": "2022-02-24T12:18:53.562Z"
   },
   {
    "duration": 3,
    "start_time": "2022-02-24T12:18:54.253Z"
   },
   {
    "duration": 17,
    "start_time": "2022-02-24T12:18:54.922Z"
   },
   {
    "duration": 46,
    "start_time": "2022-02-24T12:18:56.138Z"
   },
   {
    "duration": 14,
    "start_time": "2022-02-24T12:18:58.199Z"
   },
   {
    "duration": 16,
    "start_time": "2022-02-24T12:18:59.136Z"
   },
   {
    "duration": 4,
    "start_time": "2022-02-24T12:19:00.508Z"
   },
   {
    "duration": 491,
    "start_time": "2022-02-24T12:19:02.489Z"
   },
   {
    "duration": 234,
    "start_time": "2022-02-24T12:20:49.847Z"
   },
   {
    "duration": 4,
    "start_time": "2022-02-24T12:20:59.814Z"
   },
   {
    "duration": 539,
    "start_time": "2022-02-24T12:21:01.026Z"
   },
   {
    "duration": 5,
    "start_time": "2022-02-24T12:21:25.637Z"
   },
   {
    "duration": 494,
    "start_time": "2022-02-24T12:21:26.826Z"
   },
   {
    "duration": 4,
    "start_time": "2022-02-24T12:23:02.425Z"
   },
   {
    "duration": 21,
    "start_time": "2022-02-24T12:23:04.434Z"
   },
   {
    "duration": 4,
    "start_time": "2022-02-24T12:23:54.589Z"
   },
   {
    "duration": 522,
    "start_time": "2022-02-24T12:23:55.959Z"
   },
   {
    "duration": 10,
    "start_time": "2022-02-24T12:24:21.065Z"
   },
   {
    "duration": 22,
    "start_time": "2022-02-24T12:24:21.903Z"
   },
   {
    "duration": 4,
    "start_time": "2022-02-24T12:24:51.534Z"
   },
   {
    "duration": 21,
    "start_time": "2022-02-24T12:24:52.153Z"
   },
   {
    "duration": 3,
    "start_time": "2022-02-24T12:32:37.087Z"
   },
   {
    "duration": 20,
    "start_time": "2022-02-24T12:32:37.854Z"
   },
   {
    "duration": 754,
    "start_time": "2022-02-25T13:01:52.484Z"
   },
   {
    "duration": 223,
    "start_time": "2022-02-25T13:01:55.363Z"
   },
   {
    "duration": 38,
    "start_time": "2022-02-25T13:01:57.348Z"
   },
   {
    "duration": 33,
    "start_time": "2022-02-25T13:02:00.795Z"
   },
   {
    "duration": 7,
    "start_time": "2022-02-25T13:02:05.516Z"
   },
   {
    "duration": 27,
    "start_time": "2022-02-25T13:02:08.813Z"
   },
   {
    "duration": 6,
    "start_time": "2022-02-25T13:02:11.555Z"
   },
   {
    "duration": 31,
    "start_time": "2022-02-25T13:02:13.979Z"
   },
   {
    "duration": 23,
    "start_time": "2022-02-25T13:02:22.147Z"
   },
   {
    "duration": 32,
    "start_time": "2022-02-25T13:02:25.268Z"
   },
   {
    "duration": 82,
    "start_time": "2022-02-25T13:03:08.844Z"
   },
   {
    "duration": 109,
    "start_time": "2022-02-25T13:03:12.533Z"
   },
   {
    "duration": 99,
    "start_time": "2022-02-25T13:03:20.770Z"
   },
   {
    "duration": 91,
    "start_time": "2022-02-25T13:03:25.908Z"
   },
   {
    "duration": 59,
    "start_time": "2022-02-25T13:03:34.916Z"
   },
   {
    "duration": 3,
    "start_time": "2022-02-25T13:03:39.539Z"
   },
   {
    "duration": 21,
    "start_time": "2022-02-25T13:03:42.092Z"
   },
   {
    "duration": 59,
    "start_time": "2022-02-25T13:03:46.716Z"
   },
   {
    "duration": 18,
    "start_time": "2022-02-25T13:03:53.148Z"
   },
   {
    "duration": 20,
    "start_time": "2022-02-25T13:03:56.964Z"
   },
   {
    "duration": 5,
    "start_time": "2022-02-25T13:09:02.316Z"
   },
   {
    "duration": 15,
    "start_time": "2022-02-25T13:09:14.336Z"
   },
   {
    "duration": 15,
    "start_time": "2022-02-25T13:10:26.292Z"
   },
   {
    "duration": 5,
    "start_time": "2022-02-25T13:10:29.305Z"
   },
   {
    "duration": 599,
    "start_time": "2022-02-25T13:10:32.121Z"
   },
   {
    "duration": 85,
    "start_time": "2022-02-25T13:10:59.297Z"
   },
   {
    "duration": 4,
    "start_time": "2022-02-25T13:11:43.457Z"
   },
   {
    "duration": 709,
    "start_time": "2022-02-25T13:11:47.039Z"
   },
   {
    "duration": 4,
    "start_time": "2022-02-25T13:12:15.498Z"
   },
   {
    "duration": 22,
    "start_time": "2022-02-25T13:12:18.562Z"
   },
   {
    "duration": 19,
    "start_time": "2022-02-25T13:29:47.206Z"
   },
   {
    "duration": 89,
    "start_time": "2022-02-25T13:30:24.484Z"
   },
   {
    "duration": 21,
    "start_time": "2022-02-25T13:30:29.956Z"
   },
   {
    "duration": 19,
    "start_time": "2022-02-25T13:30:59.677Z"
   },
   {
    "duration": 24,
    "start_time": "2022-02-25T13:31:43.053Z"
   },
   {
    "duration": 3,
    "start_time": "2022-02-25T13:31:53.820Z"
   },
   {
    "duration": 21,
    "start_time": "2022-02-25T13:31:56.500Z"
   },
   {
    "duration": 119,
    "start_time": "2022-02-25T17:05:54.583Z"
   },
   {
    "duration": 85,
    "start_time": "2022-02-25T17:06:35.224Z"
   },
   {
    "duration": 605,
    "start_time": "2022-02-25T17:07:05.081Z"
   },
   {
    "duration": 3,
    "start_time": "2022-02-25T17:07:15.096Z"
   },
   {
    "duration": 135,
    "start_time": "2022-02-25T17:07:17.978Z"
   },
   {
    "duration": 19,
    "start_time": "2022-02-25T17:07:20.354Z"
   },
   {
    "duration": 26,
    "start_time": "2022-02-25T17:07:27.164Z"
   },
   {
    "duration": 5,
    "start_time": "2022-02-25T17:07:34.866Z"
   },
   {
    "duration": 23,
    "start_time": "2022-02-25T17:07:40.121Z"
   },
   {
    "duration": 4,
    "start_time": "2022-02-25T17:07:43.550Z"
   },
   {
    "duration": 27,
    "start_time": "2022-02-25T17:07:48.600Z"
   },
   {
    "duration": 20,
    "start_time": "2022-02-25T17:07:59.643Z"
   },
   {
    "duration": 27,
    "start_time": "2022-02-25T17:08:02.495Z"
   },
   {
    "duration": 62,
    "start_time": "2022-02-25T17:08:08.999Z"
   },
   {
    "duration": 80,
    "start_time": "2022-02-25T17:08:11.681Z"
   },
   {
    "duration": 59,
    "start_time": "2022-02-25T17:08:15.812Z"
   },
   {
    "duration": 46,
    "start_time": "2022-02-25T17:08:23.521Z"
   },
   {
    "duration": 4,
    "start_time": "2022-02-25T17:08:31.051Z"
   },
   {
    "duration": 18,
    "start_time": "2022-02-25T17:08:35.243Z"
   },
   {
    "duration": 45,
    "start_time": "2022-02-25T17:08:40.949Z"
   },
   {
    "duration": 12,
    "start_time": "2022-02-25T17:08:47.195Z"
   },
   {
    "duration": 13,
    "start_time": "2022-02-25T17:08:52.053Z"
   },
   {
    "duration": 4,
    "start_time": "2022-02-25T17:08:57.805Z"
   },
   {
    "duration": 18,
    "start_time": "2022-02-25T17:09:00.641Z"
   },
   {
    "duration": 17,
    "start_time": "2022-02-25T17:09:03.671Z"
   },
   {
    "duration": 18,
    "start_time": "2022-02-25T17:09:06.523Z"
   },
   {
    "duration": 15,
    "start_time": "2022-02-25T17:09:08.699Z"
   },
   {
    "duration": 16,
    "start_time": "2022-02-25T17:09:12.156Z"
   },
   {
    "duration": 91,
    "start_time": "2022-02-25T17:10:48.095Z"
   },
   {
    "duration": 9,
    "start_time": "2022-02-25T17:13:25.954Z"
   },
   {
    "duration": 12,
    "start_time": "2022-02-25T17:17:02.814Z"
   },
   {
    "duration": 10,
    "start_time": "2022-02-25T17:17:54.422Z"
   },
   {
    "duration": 84,
    "start_time": "2022-02-25T17:35:42.885Z"
   },
   {
    "duration": 105,
    "start_time": "2022-02-25T17:36:22.596Z"
   },
   {
    "duration": 5,
    "start_time": "2022-02-25T17:37:06.057Z"
   },
   {
    "duration": 624,
    "start_time": "2022-02-25T17:38:32.646Z"
   },
   {
    "duration": 502,
    "start_time": "2022-02-25T17:39:10.401Z"
   },
   {
    "duration": 489,
    "start_time": "2022-02-25T17:41:41.710Z"
   },
   {
    "duration": 505,
    "start_time": "2022-02-25T17:46:46.193Z"
   },
   {
    "duration": 12,
    "start_time": "2022-02-25T17:47:15.759Z"
   },
   {
    "duration": 11,
    "start_time": "2022-02-25T17:47:19.944Z"
   },
   {
    "duration": 473,
    "start_time": "2022-02-25T17:47:35.005Z"
   },
   {
    "duration": 4,
    "start_time": "2022-02-25T17:47:38.578Z"
   },
   {
    "duration": 4,
    "start_time": "2022-02-25T17:48:02.357Z"
   },
   {
    "duration": 563,
    "start_time": "2022-02-25T17:48:08.063Z"
   },
   {
    "duration": 14,
    "start_time": "2022-02-25T17:51:47.270Z"
   },
   {
    "duration": 12,
    "start_time": "2022-02-25T17:52:01.233Z"
   },
   {
    "duration": 505,
    "start_time": "2022-02-25T17:52:06.800Z"
   },
   {
    "duration": 4,
    "start_time": "2022-02-25T17:54:09.857Z"
   },
   {
    "duration": 7132,
    "start_time": "2022-02-25T17:54:19.177Z"
   },
   {
    "duration": 77,
    "start_time": "2022-02-25T17:57:12.970Z"
   },
   {
    "duration": 13,
    "start_time": "2022-02-25T17:57:32.530Z"
   },
   {
    "duration": 11,
    "start_time": "2022-02-25T17:57:35.562Z"
   },
   {
    "duration": 13,
    "start_time": "2022-02-25T17:58:20.354Z"
   },
   {
    "duration": 4,
    "start_time": "2022-02-25T18:21:10.292Z"
   },
   {
    "duration": 6864,
    "start_time": "2022-02-25T18:21:18.144Z"
   },
   {
    "duration": 4,
    "start_time": "2022-02-25T18:23:05.962Z"
   },
   {
    "duration": 6881,
    "start_time": "2022-02-25T18:23:10.920Z"
   },
   {
    "duration": 4,
    "start_time": "2022-02-25T18:23:56.697Z"
   },
   {
    "duration": 6688,
    "start_time": "2022-02-25T18:24:00.409Z"
   },
   {
    "duration": 1192,
    "start_time": "2022-02-25T18:27:46.889Z"
   },
   {
    "duration": 1207,
    "start_time": "2022-02-25T18:28:02.022Z"
   },
   {
    "duration": 1197,
    "start_time": "2022-02-25T18:28:02.033Z"
   },
   {
    "duration": 1190,
    "start_time": "2022-02-25T18:28:02.041Z"
   },
   {
    "duration": 3,
    "start_time": "2022-02-25T18:28:03.587Z"
   },
   {
    "duration": 6325,
    "start_time": "2022-02-25T18:29:09.402Z"
   },
   {
    "duration": 5,
    "start_time": "2022-02-25T18:32:50.536Z"
   },
   {
    "duration": 496,
    "start_time": "2022-02-25T18:32:53.433Z"
   },
   {
    "duration": 5,
    "start_time": "2022-02-25T18:34:04.501Z"
   },
   {
    "duration": 494,
    "start_time": "2022-02-25T18:34:06.084Z"
   },
   {
    "duration": 5,
    "start_time": "2022-02-25T18:35:20.940Z"
   },
   {
    "duration": 6886,
    "start_time": "2022-02-25T18:35:22.178Z"
   },
   {
    "duration": 4,
    "start_time": "2022-02-25T18:35:50.044Z"
   },
   {
    "duration": 486,
    "start_time": "2022-02-25T18:35:50.775Z"
   },
   {
    "duration": 4,
    "start_time": "2022-02-25T18:36:05.245Z"
   },
   {
    "duration": 20,
    "start_time": "2022-02-25T18:36:06.738Z"
   },
   {
    "duration": 4,
    "start_time": "2022-02-25T18:36:26.836Z"
   },
   {
    "duration": 19,
    "start_time": "2022-02-25T18:36:27.527Z"
   },
   {
    "duration": 16,
    "start_time": "2022-02-25T19:37:34.694Z"
   },
   {
    "duration": 20,
    "start_time": "2022-02-25T19:38:47.436Z"
   },
   {
    "duration": 16,
    "start_time": "2022-02-25T19:38:53.757Z"
   },
   {
    "duration": 253,
    "start_time": "2022-02-25T19:44:50.555Z"
   },
   {
    "duration": 307,
    "start_time": "2022-02-25T19:45:22.859Z"
   },
   {
    "duration": 264,
    "start_time": "2022-02-25T19:45:41.990Z"
   },
   {
    "duration": 25,
    "start_time": "2022-02-25T19:47:57.120Z"
   },
   {
    "duration": 10,
    "start_time": "2022-02-25T19:49:11.232Z"
   },
   {
    "duration": 229,
    "start_time": "2022-02-25T19:50:48.380Z"
   },
   {
    "duration": 26,
    "start_time": "2022-02-25T19:50:58.018Z"
   },
   {
    "duration": 345,
    "start_time": "2022-02-25T19:53:36.181Z"
   },
   {
    "duration": 7580,
    "start_time": "2022-02-25T19:54:59.667Z"
   },
   {
    "duration": 10,
    "start_time": "2022-02-25T19:55:17.631Z"
   },
   {
    "duration": 281,
    "start_time": "2022-02-25T19:58:36.267Z"
   },
   {
    "duration": 246,
    "start_time": "2022-02-25T19:58:46.065Z"
   },
   {
    "duration": 262,
    "start_time": "2022-02-25T19:59:14.756Z"
   },
   {
    "duration": 26,
    "start_time": "2022-02-25T19:59:48.729Z"
   },
   {
    "duration": 10,
    "start_time": "2022-02-25T19:59:53.680Z"
   },
   {
    "duration": 25,
    "start_time": "2022-02-25T20:07:22.556Z"
   },
   {
    "duration": 10,
    "start_time": "2022-02-25T20:07:26.596Z"
   },
   {
    "duration": 25,
    "start_time": "2022-02-25T20:08:44.599Z"
   },
   {
    "duration": 10,
    "start_time": "2022-02-25T20:08:49.025Z"
   },
   {
    "duration": 16,
    "start_time": "2022-02-25T20:10:09.406Z"
   },
   {
    "duration": 10,
    "start_time": "2022-02-25T20:10:47.416Z"
   },
   {
    "duration": 10,
    "start_time": "2022-02-25T20:11:07.914Z"
   },
   {
    "duration": 9,
    "start_time": "2022-02-25T20:12:01.049Z"
   },
   {
    "duration": 292,
    "start_time": "2022-02-25T20:13:26.827Z"
   },
   {
    "duration": 282,
    "start_time": "2022-02-25T20:13:40.462Z"
   },
   {
    "duration": 28,
    "start_time": "2022-02-25T20:13:50.730Z"
   },
   {
    "duration": 9,
    "start_time": "2022-02-25T20:13:54.486Z"
   },
   {
    "duration": 305,
    "start_time": "2022-02-25T20:15:00.287Z"
   },
   {
    "duration": 9,
    "start_time": "2022-02-25T20:15:31.936Z"
   },
   {
    "duration": 6,
    "start_time": "2022-02-25T20:15:36.865Z"
   },
   {
    "duration": 7,
    "start_time": "2022-02-25T20:16:20.015Z"
   },
   {
    "duration": 5,
    "start_time": "2022-02-25T20:16:24.266Z"
   },
   {
    "duration": 620,
    "start_time": "2022-03-06T16:25:00.743Z"
   },
   {
    "duration": 153,
    "start_time": "2022-03-06T16:25:01.365Z"
   },
   {
    "duration": 34,
    "start_time": "2022-03-06T16:25:01.521Z"
   },
   {
    "duration": 33,
    "start_time": "2022-03-06T16:25:01.558Z"
   },
   {
    "duration": 6,
    "start_time": "2022-03-06T16:25:01.593Z"
   },
   {
    "duration": 53,
    "start_time": "2022-03-06T16:25:01.601Z"
   },
   {
    "duration": 7,
    "start_time": "2022-03-06T16:25:01.655Z"
   },
   {
    "duration": 25,
    "start_time": "2022-03-06T16:25:01.665Z"
   },
   {
    "duration": 47,
    "start_time": "2022-03-06T16:25:01.693Z"
   },
   {
    "duration": 25,
    "start_time": "2022-03-06T16:25:01.741Z"
   },
   {
    "duration": 76,
    "start_time": "2022-03-06T16:25:01.767Z"
   },
   {
    "duration": 78,
    "start_time": "2022-03-06T16:25:01.845Z"
   },
   {
    "duration": 61,
    "start_time": "2022-03-06T16:25:01.937Z"
   },
   {
    "duration": 55,
    "start_time": "2022-03-06T16:25:02.000Z"
   },
   {
    "duration": 11,
    "start_time": "2022-03-06T16:25:02.056Z"
   },
   {
    "duration": 26,
    "start_time": "2022-03-06T16:25:02.068Z"
   },
   {
    "duration": 52,
    "start_time": "2022-03-06T16:25:02.096Z"
   },
   {
    "duration": 37,
    "start_time": "2022-03-06T16:25:02.150Z"
   },
   {
    "duration": 42,
    "start_time": "2022-03-06T16:25:02.189Z"
   },
   {
    "duration": 14,
    "start_time": "2022-03-06T16:25:02.232Z"
   },
   {
    "duration": 40,
    "start_time": "2022-03-06T16:25:02.247Z"
   },
   {
    "duration": 14,
    "start_time": "2022-03-06T16:25:02.289Z"
   },
   {
    "duration": 16,
    "start_time": "2022-03-06T16:25:02.307Z"
   },
   {
    "duration": 15,
    "start_time": "2022-03-06T16:25:02.325Z"
   },
   {
    "duration": 22,
    "start_time": "2022-03-06T16:25:02.341Z"
   },
   {
    "duration": 14,
    "start_time": "2022-03-06T16:25:02.365Z"
   },
   {
    "duration": 12,
    "start_time": "2022-03-06T16:25:02.381Z"
   },
   {
    "duration": 19,
    "start_time": "2022-03-06T16:25:02.395Z"
   },
   {
    "duration": 31,
    "start_time": "2022-03-06T16:25:02.416Z"
   },
   {
    "duration": 5,
    "start_time": "2022-03-06T16:25:02.450Z"
   },
   {
    "duration": 33,
    "start_time": "2022-03-06T16:25:02.458Z"
   },
   {
    "duration": 19,
    "start_time": "2022-03-06T16:25:02.493Z"
   },
   {
    "duration": 19,
    "start_time": "2022-03-06T16:25:02.538Z"
   },
   {
    "duration": 14,
    "start_time": "2022-03-06T16:25:02.558Z"
   },
   {
    "duration": 22,
    "start_time": "2022-03-06T16:25:02.574Z"
   },
   {
    "duration": 10,
    "start_time": "2022-03-06T16:25:02.597Z"
   },
   {
    "duration": 21,
    "start_time": "2022-03-06T16:25:02.608Z"
   },
   {
    "duration": 12,
    "start_time": "2022-03-06T16:25:02.630Z"
   },
   {
    "duration": 510,
    "start_time": "2022-03-06T16:59:50.961Z"
   },
   {
    "duration": 293,
    "start_time": "2022-03-06T17:00:37.680Z"
   },
   {
    "duration": 343,
    "start_time": "2022-03-06T17:03:37.374Z"
   },
   {
    "duration": 124,
    "start_time": "2022-03-06T17:04:07.730Z"
   },
   {
    "duration": 230,
    "start_time": "2022-03-06T21:05:10.494Z"
   },
   {
    "duration": 182,
    "start_time": "2022-03-06T21:05:22.814Z"
   },
   {
    "duration": 186,
    "start_time": "2022-03-06T21:09:02.354Z"
   },
   {
    "duration": 3,
    "start_time": "2022-03-06T21:17:03.458Z"
   },
   {
    "duration": 226,
    "start_time": "2022-03-06T21:18:59.219Z"
   },
   {
    "duration": 200,
    "start_time": "2022-03-06T21:19:06.092Z"
   },
   {
    "duration": 189,
    "start_time": "2022-03-06T21:23:14.643Z"
   },
   {
    "duration": 182,
    "start_time": "2022-03-06T21:23:26.478Z"
   },
   {
    "duration": 584,
    "start_time": "2022-03-06T21:23:34.467Z"
   },
   {
    "duration": 133,
    "start_time": "2022-03-06T21:23:44.672Z"
   },
   {
    "duration": 7,
    "start_time": "2022-03-06T21:24:02.844Z"
   },
   {
    "duration": 24,
    "start_time": "2022-03-06T21:24:38.173Z"
   },
   {
    "duration": 8,
    "start_time": "2022-03-06T21:24:45.749Z"
   },
   {
    "duration": 23,
    "start_time": "2022-03-06T21:24:51.599Z"
   },
   {
    "duration": 4,
    "start_time": "2022-03-06T21:24:55.715Z"
   },
   {
    "duration": 24,
    "start_time": "2022-03-06T21:25:04.231Z"
   },
   {
    "duration": 17,
    "start_time": "2022-03-06T21:25:11.971Z"
   },
   {
    "duration": 35,
    "start_time": "2022-03-06T21:25:18.039Z"
   },
   {
    "duration": 59,
    "start_time": "2022-03-06T21:25:25.715Z"
   },
   {
    "duration": 68,
    "start_time": "2022-03-06T21:25:35.898Z"
   },
   {
    "duration": 48,
    "start_time": "2022-03-06T21:25:47.764Z"
   },
   {
    "duration": 40,
    "start_time": "2022-03-06T21:25:52.882Z"
   },
   {
    "duration": 3,
    "start_time": "2022-03-06T21:25:59.834Z"
   },
   {
    "duration": 10,
    "start_time": "2022-03-06T21:26:04.889Z"
   },
   {
    "duration": 41,
    "start_time": "2022-03-06T21:26:08.331Z"
   },
   {
    "duration": 12,
    "start_time": "2022-03-06T21:26:15.005Z"
   },
   {
    "duration": 11,
    "start_time": "2022-03-06T21:26:18.746Z"
   },
   {
    "duration": 4,
    "start_time": "2022-03-06T21:26:24.806Z"
   },
   {
    "duration": 20,
    "start_time": "2022-03-06T21:26:34.706Z"
   },
   {
    "duration": 14,
    "start_time": "2022-03-06T21:26:37.069Z"
   },
   {
    "duration": 15,
    "start_time": "2022-03-06T21:26:38.922Z"
   },
   {
    "duration": 13,
    "start_time": "2022-03-06T21:26:43.051Z"
   },
   {
    "duration": 16,
    "start_time": "2022-03-06T21:26:45.194Z"
   },
   {
    "duration": 14,
    "start_time": "2022-03-06T21:26:46.114Z"
   },
   {
    "duration": 9,
    "start_time": "2022-03-06T21:26:51.600Z"
   },
   {
    "duration": 11,
    "start_time": "2022-03-06T21:27:01.961Z"
   },
   {
    "duration": 10,
    "start_time": "2022-03-06T21:27:03.701Z"
   },
   {
    "duration": 4,
    "start_time": "2022-03-06T21:27:10.668Z"
   },
   {
    "duration": 18,
    "start_time": "2022-03-06T21:27:17.446Z"
   },
   {
    "duration": 13,
    "start_time": "2022-03-06T21:27:21.778Z"
   },
   {
    "duration": 18,
    "start_time": "2022-03-06T21:27:27.126Z"
   },
   {
    "duration": 14,
    "start_time": "2022-03-06T21:27:32.981Z"
   },
   {
    "duration": 9,
    "start_time": "2022-03-06T21:27:43.253Z"
   },
   {
    "duration": 5,
    "start_time": "2022-03-06T21:27:46.766Z"
   },
   {
    "duration": 7,
    "start_time": "2022-03-06T21:27:53.480Z"
   },
   {
    "duration": 5,
    "start_time": "2022-03-06T21:27:56.286Z"
   },
   {
    "duration": 11,
    "start_time": "2022-03-06T21:47:23.438Z"
   },
   {
    "duration": 7,
    "start_time": "2022-03-06T21:47:37.985Z"
   },
   {
    "duration": 12,
    "start_time": "2022-03-06T21:47:49.538Z"
   },
   {
    "duration": 6,
    "start_time": "2022-03-06T21:47:58.689Z"
   },
   {
    "duration": 11,
    "start_time": "2022-03-06T21:48:06.039Z"
   },
   {
    "duration": 64,
    "start_time": "2022-03-06T21:48:51.940Z"
   },
   {
    "duration": 5,
    "start_time": "2022-03-06T21:51:56.777Z"
   },
   {
    "duration": 3,
    "start_time": "2022-03-06T21:52:19.742Z"
   }
  ],
  "colab": {
   "collapsed_sections": [
    "E0vqbgi9ay0H",
    "VUC88oWjTJw2"
   ],
   "name": "yandex_music_project_2021.2.ipynb",
   "provenance": []
  },
  "kernelspec": {
   "display_name": "Python 3 (ipykernel)",
   "language": "python",
   "name": "python3"
  },
  "language_info": {
   "codemirror_mode": {
    "name": "ipython",
    "version": 3
   },
   "file_extension": ".py",
   "mimetype": "text/x-python",
   "name": "python",
   "nbconvert_exporter": "python",
   "pygments_lexer": "ipython3",
   "version": "3.9.5"
  },
  "toc": {
   "base_numbering": 1,
   "nav_menu": {},
   "number_sections": true,
   "sideBar": true,
   "skip_h1_title": true,
   "title_cell": "Table of Contents",
   "title_sidebar": "Contents",
   "toc_cell": false,
   "toc_position": {
    "height": "calc(100% - 180px)",
    "left": "10px",
    "top": "150px",
    "width": "165px"
   },
   "toc_section_display": true,
   "toc_window_display": true
  }
 },
 "nbformat": 4,
 "nbformat_minor": 1
}
