{
 "cells": [
  {
   "cell_type": "markdown",
   "metadata": {},
   "source": [
    "# Определение перспективного тарифа для телеком-компании"
   ]
  },
  {
   "cell_type": "markdown",
   "metadata": {},
   "source": [
    "**Описание проекта**\n",
    "В условной компании — федерального оператора сотовой связи, клиентам предлагают два тарифных плана: «Смарт» и «Ультра». Чтобы скорректировать рекламный бюджет, коммерческий департамент хочет понять, какой тариф приносит больше денег.\n",
    "\n",
    "Необходимо выполнить предварительный анализ тарифов на небольшой выборке клиентов. В распоряжении данные 500 пользователей: кто они, откуда, каким тарифом пользуются, сколько звонков и сообщений каждый отправил за 2018 год. Нужно проанализировать поведение клиентов и сделать вывод — какой тариф лучше.\n",
    "\n",
    "**Описание тарифов**\n",
    "\n",
    "**Тариф «Смарт»**\n",
    "\n",
    "1. Ежемесячная плата: 550 рублей\n",
    "2. Включено 500 минут разговора, 50 сообщений и 15 Гб интернет-трафика\n",
    "3. Стоимость услуг сверх тарифного пакета: 1. минута разговора: 3 рубля ; 2. сообщение: 3 рубля; 3. 1 Гб интернет-трафика: 200 рублей.\n",
    "\n",
    "**Тариф «Ультра»**\n",
    "1. Ежемесячная плата: 1950 рублей\n",
    "2. Включено 3000 минут разговора, 1000 сообщений и 30 Гб интернет-трафика\n",
    "3. Стоимость услуг сверх тарифного пакета: 1. минута разговора: 1 рубль; 2. сообщение: 1 рубль; 3. 1 Гб интернет-трафика: 150 рублей.\n",
    "\n",
    "*Примечание:\n",
    "«Мегалайн» всегда округляет секунды до минут, а мегабайты — до гигабайт. Каждый звонок округляется отдельно: даже если он длился всего 1 секунду, будет засчитан как 1 минута. Для веб-трафика отдельные сессии не считаются. Вместо этого общая сумма за месяц округляется в бо́льшую сторону. Если абонент использует 1025 мегабайт в этом месяце, с него возьмут плату за 2 гигабайта.*"
   ]
  },
  {
   "cell_type": "code",
   "execution_count": 1,
   "metadata": {},
   "outputs": [],
   "source": [
    "import pandas as pd\n",
    "import numpy as np\n",
    "import datetime\n",
    "import scipy.stats as st\n",
    "from tqdm import tqdm\n",
    "import matplotlib.pyplot as plt\n",
    "import seaborn as sns"
   ]
  },
  {
   "cell_type": "markdown",
   "metadata": {},
   "source": [
    "## Шаг. Откроем файл с данными и изучим общую информацию"
   ]
  },
  {
   "cell_type": "markdown",
   "metadata": {},
   "source": [
    "###  Информация о звонках"
   ]
  },
  {
   "cell_type": "code",
   "execution_count": 2,
   "metadata": {},
   "outputs": [
    {
     "data": {
      "text/html": [
       "<div>\n",
       "<style scoped>\n",
       "    .dataframe tbody tr th:only-of-type {\n",
       "        vertical-align: middle;\n",
       "    }\n",
       "\n",
       "    .dataframe tbody tr th {\n",
       "        vertical-align: top;\n",
       "    }\n",
       "\n",
       "    .dataframe thead th {\n",
       "        text-align: right;\n",
       "    }\n",
       "</style>\n",
       "<table border=\"1\" class=\"dataframe\">\n",
       "  <thead>\n",
       "    <tr style=\"text-align: right;\">\n",
       "      <th></th>\n",
       "      <th>id</th>\n",
       "      <th>call_date</th>\n",
       "      <th>duration</th>\n",
       "      <th>user_id</th>\n",
       "    </tr>\n",
       "  </thead>\n",
       "  <tbody>\n",
       "    <tr>\n",
       "      <th>0</th>\n",
       "      <td>1000_0</td>\n",
       "      <td>2018-07-25</td>\n",
       "      <td>0.00</td>\n",
       "      <td>1000</td>\n",
       "    </tr>\n",
       "    <tr>\n",
       "      <th>1</th>\n",
       "      <td>1000_1</td>\n",
       "      <td>2018-08-17</td>\n",
       "      <td>0.00</td>\n",
       "      <td>1000</td>\n",
       "    </tr>\n",
       "    <tr>\n",
       "      <th>2</th>\n",
       "      <td>1000_2</td>\n",
       "      <td>2018-06-11</td>\n",
       "      <td>2.85</td>\n",
       "      <td>1000</td>\n",
       "    </tr>\n",
       "    <tr>\n",
       "      <th>3</th>\n",
       "      <td>1000_3</td>\n",
       "      <td>2018-09-21</td>\n",
       "      <td>13.80</td>\n",
       "      <td>1000</td>\n",
       "    </tr>\n",
       "    <tr>\n",
       "      <th>4</th>\n",
       "      <td>1000_4</td>\n",
       "      <td>2018-12-15</td>\n",
       "      <td>5.18</td>\n",
       "      <td>1000</td>\n",
       "    </tr>\n",
       "  </tbody>\n",
       "</table>\n",
       "</div>"
      ],
      "text/plain": [
       "       id   call_date  duration  user_id\n",
       "0  1000_0  2018-07-25      0.00     1000\n",
       "1  1000_1  2018-08-17      0.00     1000\n",
       "2  1000_2  2018-06-11      2.85     1000\n",
       "3  1000_3  2018-09-21     13.80     1000\n",
       "4  1000_4  2018-12-15      5.18     1000"
      ]
     },
     "metadata": {},
     "output_type": "display_data"
    },
    {
     "name": "stdout",
     "output_type": "stream",
     "text": [
      "<class 'pandas.core.frame.DataFrame'>\n",
      "RangeIndex: 202607 entries, 0 to 202606\n",
      "Data columns (total 4 columns):\n",
      " #   Column     Non-Null Count   Dtype  \n",
      "---  ------     --------------   -----  \n",
      " 0   id         202607 non-null  object \n",
      " 1   call_date  202607 non-null  object \n",
      " 2   duration   202607 non-null  float64\n",
      " 3   user_id    202607 non-null  int64  \n",
      "dtypes: float64(1), int64(1), object(2)\n",
      "memory usage: 6.2+ MB\n",
      "Количество дубликатов 0\n"
     ]
    }
   ],
   "source": [
    "data_calls = pd.read_csv('/datasets/calls.csv')\n",
    "display(data_calls.head())\n",
    "data_calls.info()\n",
    "data_calls.describe()\n",
    "print('Количество дубликатов', data_calls.duplicated().sum())"
   ]
  },
  {
   "cell_type": "markdown",
   "metadata": {},
   "source": [
    "**Вывод**\n",
    "1. Есть звонки продолжительностью 0 минут (пропущенные звонки), поэтому их не нужно удалять;\n",
    "2. Пропущенных значений нет;  \n",
    "3. Надо перевести время (call_date) к типу данных datetime; \n",
    "4. Время звонка округлить до целого в большую сторону.\n"
   ]
  },
  {
   "cell_type": "markdown",
   "metadata": {},
   "source": [
    "### Информация об интернет сессиях"
   ]
  },
  {
   "cell_type": "code",
   "execution_count": 3,
   "metadata": {},
   "outputs": [
    {
     "data": {
      "text/html": [
       "<div>\n",
       "<style scoped>\n",
       "    .dataframe tbody tr th:only-of-type {\n",
       "        vertical-align: middle;\n",
       "    }\n",
       "\n",
       "    .dataframe tbody tr th {\n",
       "        vertical-align: top;\n",
       "    }\n",
       "\n",
       "    .dataframe thead th {\n",
       "        text-align: right;\n",
       "    }\n",
       "</style>\n",
       "<table border=\"1\" class=\"dataframe\">\n",
       "  <thead>\n",
       "    <tr style=\"text-align: right;\">\n",
       "      <th></th>\n",
       "      <th>Unnamed: 0</th>\n",
       "      <th>id</th>\n",
       "      <th>mb_used</th>\n",
       "      <th>session_date</th>\n",
       "      <th>user_id</th>\n",
       "    </tr>\n",
       "  </thead>\n",
       "  <tbody>\n",
       "    <tr>\n",
       "      <th>0</th>\n",
       "      <td>0</td>\n",
       "      <td>1000_0</td>\n",
       "      <td>112.95</td>\n",
       "      <td>2018-11-25</td>\n",
       "      <td>1000</td>\n",
       "    </tr>\n",
       "    <tr>\n",
       "      <th>1</th>\n",
       "      <td>1</td>\n",
       "      <td>1000_1</td>\n",
       "      <td>1052.81</td>\n",
       "      <td>2018-09-07</td>\n",
       "      <td>1000</td>\n",
       "    </tr>\n",
       "    <tr>\n",
       "      <th>2</th>\n",
       "      <td>2</td>\n",
       "      <td>1000_2</td>\n",
       "      <td>1197.26</td>\n",
       "      <td>2018-06-25</td>\n",
       "      <td>1000</td>\n",
       "    </tr>\n",
       "    <tr>\n",
       "      <th>3</th>\n",
       "      <td>3</td>\n",
       "      <td>1000_3</td>\n",
       "      <td>550.27</td>\n",
       "      <td>2018-08-22</td>\n",
       "      <td>1000</td>\n",
       "    </tr>\n",
       "    <tr>\n",
       "      <th>4</th>\n",
       "      <td>4</td>\n",
       "      <td>1000_4</td>\n",
       "      <td>302.56</td>\n",
       "      <td>2018-09-24</td>\n",
       "      <td>1000</td>\n",
       "    </tr>\n",
       "  </tbody>\n",
       "</table>\n",
       "</div>"
      ],
      "text/plain": [
       "   Unnamed: 0      id  mb_used session_date  user_id\n",
       "0           0  1000_0   112.95   2018-11-25     1000\n",
       "1           1  1000_1  1052.81   2018-09-07     1000\n",
       "2           2  1000_2  1197.26   2018-06-25     1000\n",
       "3           3  1000_3   550.27   2018-08-22     1000\n",
       "4           4  1000_4   302.56   2018-09-24     1000"
      ]
     },
     "metadata": {},
     "output_type": "display_data"
    },
    {
     "name": "stdout",
     "output_type": "stream",
     "text": [
      "<class 'pandas.core.frame.DataFrame'>\n",
      "RangeIndex: 149396 entries, 0 to 149395\n",
      "Data columns (total 5 columns):\n",
      " #   Column        Non-Null Count   Dtype  \n",
      "---  ------        --------------   -----  \n",
      " 0   Unnamed: 0    149396 non-null  int64  \n",
      " 1   id            149396 non-null  object \n",
      " 2   mb_used       149396 non-null  float64\n",
      " 3   session_date  149396 non-null  object \n",
      " 4   user_id       149396 non-null  int64  \n",
      "dtypes: float64(1), int64(2), object(2)\n",
      "memory usage: 5.7+ MB\n",
      "Количество дубликатов 0\n"
     ]
    }
   ],
   "source": [
    "data_internet = pd.read_csv('/datasets/internet.csv')\n",
    "display(data_internet.head())\n",
    "data_internet.info()\n",
    "data_internet.describe()\n",
    "print('Количество дубликатов', data_internet.duplicated().sum())"
   ]
  },
  {
   "cell_type": "markdown",
   "metadata": {},
   "source": [
    "`Unnamed: 0` возникает, когда данные сохраняют с указанием индекса `pd.DataFrame().to_csv(..., index=column)`. Если при чтении указать этот столбец `pd.read_csv(..., index_col=0)` - данные сразу прочитаются корректно."
   ]
  },
  {
   "cell_type": "markdown",
   "metadata": {},
   "source": [
    "**Вывод**\n",
    "\n",
    "1. Пропущенных значений нет; \n",
    "2. Надо перевести время (session_date) к типу данных datetime; \n",
    "3. Объём потраченного за сессию интернет-трафика переведем в ГБ, т.к. перерасход начисляется за гигабайты и преобразуем в int с округлением в большую сторону. "
   ]
  },
  {
   "cell_type": "markdown",
   "metadata": {},
   "source": [
    "### Информация о сообщениях"
   ]
  },
  {
   "cell_type": "code",
   "execution_count": 4,
   "metadata": {},
   "outputs": [
    {
     "data": {
      "text/html": [
       "<div>\n",
       "<style scoped>\n",
       "    .dataframe tbody tr th:only-of-type {\n",
       "        vertical-align: middle;\n",
       "    }\n",
       "\n",
       "    .dataframe tbody tr th {\n",
       "        vertical-align: top;\n",
       "    }\n",
       "\n",
       "    .dataframe thead th {\n",
       "        text-align: right;\n",
       "    }\n",
       "</style>\n",
       "<table border=\"1\" class=\"dataframe\">\n",
       "  <thead>\n",
       "    <tr style=\"text-align: right;\">\n",
       "      <th></th>\n",
       "      <th>id</th>\n",
       "      <th>message_date</th>\n",
       "      <th>user_id</th>\n",
       "    </tr>\n",
       "  </thead>\n",
       "  <tbody>\n",
       "    <tr>\n",
       "      <th>0</th>\n",
       "      <td>1000_0</td>\n",
       "      <td>2018-06-27</td>\n",
       "      <td>1000</td>\n",
       "    </tr>\n",
       "    <tr>\n",
       "      <th>1</th>\n",
       "      <td>1000_1</td>\n",
       "      <td>2018-10-08</td>\n",
       "      <td>1000</td>\n",
       "    </tr>\n",
       "    <tr>\n",
       "      <th>2</th>\n",
       "      <td>1000_2</td>\n",
       "      <td>2018-08-04</td>\n",
       "      <td>1000</td>\n",
       "    </tr>\n",
       "    <tr>\n",
       "      <th>3</th>\n",
       "      <td>1000_3</td>\n",
       "      <td>2018-06-16</td>\n",
       "      <td>1000</td>\n",
       "    </tr>\n",
       "    <tr>\n",
       "      <th>4</th>\n",
       "      <td>1000_4</td>\n",
       "      <td>2018-12-05</td>\n",
       "      <td>1000</td>\n",
       "    </tr>\n",
       "  </tbody>\n",
       "</table>\n",
       "</div>"
      ],
      "text/plain": [
       "       id message_date  user_id\n",
       "0  1000_0   2018-06-27     1000\n",
       "1  1000_1   2018-10-08     1000\n",
       "2  1000_2   2018-08-04     1000\n",
       "3  1000_3   2018-06-16     1000\n",
       "4  1000_4   2018-12-05     1000"
      ]
     },
     "metadata": {},
     "output_type": "display_data"
    },
    {
     "name": "stdout",
     "output_type": "stream",
     "text": [
      "<class 'pandas.core.frame.DataFrame'>\n",
      "RangeIndex: 123036 entries, 0 to 123035\n",
      "Data columns (total 3 columns):\n",
      " #   Column        Non-Null Count   Dtype \n",
      "---  ------        --------------   ----- \n",
      " 0   id            123036 non-null  object\n",
      " 1   message_date  123036 non-null  object\n",
      " 2   user_id       123036 non-null  int64 \n",
      "dtypes: int64(1), object(2)\n",
      "memory usage: 2.8+ MB\n",
      "Количество дубликатов 0\n"
     ]
    }
   ],
   "source": [
    "data_messages = pd.read_csv('/datasets/messages.csv')\n",
    "display(data_messages.head())\n",
    "data_messages.info()\n",
    "data_messages.describe()\n",
    "print('Количество дубликатов', data_messages.duplicated().sum())"
   ]
  },
  {
   "cell_type": "markdown",
   "metadata": {},
   "source": [
    "**Вывод**\n",
    "\n",
    "1. Пропущенных значений нет; \n",
    "2. Надо перевести время (message_date) к типу данных datetime.\n"
   ]
  },
  {
   "cell_type": "markdown",
   "metadata": {},
   "source": [
    "### Информация о тарифах"
   ]
  },
  {
   "cell_type": "code",
   "execution_count": 5,
   "metadata": {},
   "outputs": [
    {
     "data": {
      "text/html": [
       "<div>\n",
       "<style scoped>\n",
       "    .dataframe tbody tr th:only-of-type {\n",
       "        vertical-align: middle;\n",
       "    }\n",
       "\n",
       "    .dataframe tbody tr th {\n",
       "        vertical-align: top;\n",
       "    }\n",
       "\n",
       "    .dataframe thead th {\n",
       "        text-align: right;\n",
       "    }\n",
       "</style>\n",
       "<table border=\"1\" class=\"dataframe\">\n",
       "  <thead>\n",
       "    <tr style=\"text-align: right;\">\n",
       "      <th></th>\n",
       "      <th>messages_included</th>\n",
       "      <th>mb_per_month_included</th>\n",
       "      <th>minutes_included</th>\n",
       "      <th>rub_monthly_fee</th>\n",
       "      <th>rub_per_gb</th>\n",
       "      <th>rub_per_message</th>\n",
       "      <th>rub_per_minute</th>\n",
       "      <th>tariff_name</th>\n",
       "    </tr>\n",
       "  </thead>\n",
       "  <tbody>\n",
       "    <tr>\n",
       "      <th>0</th>\n",
       "      <td>50</td>\n",
       "      <td>15360</td>\n",
       "      <td>500</td>\n",
       "      <td>550</td>\n",
       "      <td>200</td>\n",
       "      <td>3</td>\n",
       "      <td>3</td>\n",
       "      <td>smart</td>\n",
       "    </tr>\n",
       "    <tr>\n",
       "      <th>1</th>\n",
       "      <td>1000</td>\n",
       "      <td>30720</td>\n",
       "      <td>3000</td>\n",
       "      <td>1950</td>\n",
       "      <td>150</td>\n",
       "      <td>1</td>\n",
       "      <td>1</td>\n",
       "      <td>ultra</td>\n",
       "    </tr>\n",
       "  </tbody>\n",
       "</table>\n",
       "</div>"
      ],
      "text/plain": [
       "   messages_included  mb_per_month_included  minutes_included  \\\n",
       "0                 50                  15360               500   \n",
       "1               1000                  30720              3000   \n",
       "\n",
       "   rub_monthly_fee  rub_per_gb  rub_per_message  rub_per_minute tariff_name  \n",
       "0              550         200                3               3       smart  \n",
       "1             1950         150                1               1       ultra  "
      ]
     },
     "metadata": {},
     "output_type": "display_data"
    },
    {
     "name": "stdout",
     "output_type": "stream",
     "text": [
      "<class 'pandas.core.frame.DataFrame'>\n",
      "RangeIndex: 2 entries, 0 to 1\n",
      "Data columns (total 8 columns):\n",
      " #   Column                 Non-Null Count  Dtype \n",
      "---  ------                 --------------  ----- \n",
      " 0   messages_included      2 non-null      int64 \n",
      " 1   mb_per_month_included  2 non-null      int64 \n",
      " 2   minutes_included       2 non-null      int64 \n",
      " 3   rub_monthly_fee        2 non-null      int64 \n",
      " 4   rub_per_gb             2 non-null      int64 \n",
      " 5   rub_per_message        2 non-null      int64 \n",
      " 6   rub_per_minute         2 non-null      int64 \n",
      " 7   tariff_name            2 non-null      object\n",
      "dtypes: int64(7), object(1)\n",
      "memory usage: 256.0+ bytes\n",
      "Количество дубликатов 0\n"
     ]
    }
   ],
   "source": [
    "data_tariffs = pd.read_csv('/datasets/tariffs.csv')\n",
    "display(data_tariffs.head())\n",
    "data_tariffs.info()\n",
    "data_tariffs.describe()\n",
    "print('Количество дубликатов', data_tariffs.duplicated().sum())"
   ]
  },
  {
   "cell_type": "markdown",
   "metadata": {},
   "source": [
    "**Вывод**\n",
    "\n",
    "1. Пропущенных значений нет, с данными в целом все в порядке."
   ]
  },
  {
   "cell_type": "markdown",
   "metadata": {},
   "source": [
    "### Информация о пользователях"
   ]
  },
  {
   "cell_type": "code",
   "execution_count": 6,
   "metadata": {},
   "outputs": [
    {
     "data": {
      "text/html": [
       "<div>\n",
       "<style scoped>\n",
       "    .dataframe tbody tr th:only-of-type {\n",
       "        vertical-align: middle;\n",
       "    }\n",
       "\n",
       "    .dataframe tbody tr th {\n",
       "        vertical-align: top;\n",
       "    }\n",
       "\n",
       "    .dataframe thead th {\n",
       "        text-align: right;\n",
       "    }\n",
       "</style>\n",
       "<table border=\"1\" class=\"dataframe\">\n",
       "  <thead>\n",
       "    <tr style=\"text-align: right;\">\n",
       "      <th></th>\n",
       "      <th>user_id</th>\n",
       "      <th>age</th>\n",
       "      <th>churn_date</th>\n",
       "      <th>city</th>\n",
       "      <th>first_name</th>\n",
       "      <th>last_name</th>\n",
       "      <th>reg_date</th>\n",
       "      <th>tariff</th>\n",
       "    </tr>\n",
       "  </thead>\n",
       "  <tbody>\n",
       "    <tr>\n",
       "      <th>0</th>\n",
       "      <td>1000</td>\n",
       "      <td>52</td>\n",
       "      <td>NaN</td>\n",
       "      <td>Краснодар</td>\n",
       "      <td>Рафаил</td>\n",
       "      <td>Верещагин</td>\n",
       "      <td>2018-05-25</td>\n",
       "      <td>ultra</td>\n",
       "    </tr>\n",
       "    <tr>\n",
       "      <th>1</th>\n",
       "      <td>1001</td>\n",
       "      <td>41</td>\n",
       "      <td>NaN</td>\n",
       "      <td>Москва</td>\n",
       "      <td>Иван</td>\n",
       "      <td>Ежов</td>\n",
       "      <td>2018-11-01</td>\n",
       "      <td>smart</td>\n",
       "    </tr>\n",
       "    <tr>\n",
       "      <th>2</th>\n",
       "      <td>1002</td>\n",
       "      <td>59</td>\n",
       "      <td>NaN</td>\n",
       "      <td>Стерлитамак</td>\n",
       "      <td>Евгений</td>\n",
       "      <td>Абрамович</td>\n",
       "      <td>2018-06-17</td>\n",
       "      <td>smart</td>\n",
       "    </tr>\n",
       "    <tr>\n",
       "      <th>3</th>\n",
       "      <td>1003</td>\n",
       "      <td>23</td>\n",
       "      <td>NaN</td>\n",
       "      <td>Москва</td>\n",
       "      <td>Белла</td>\n",
       "      <td>Белякова</td>\n",
       "      <td>2018-08-17</td>\n",
       "      <td>ultra</td>\n",
       "    </tr>\n",
       "    <tr>\n",
       "      <th>4</th>\n",
       "      <td>1004</td>\n",
       "      <td>68</td>\n",
       "      <td>NaN</td>\n",
       "      <td>Новокузнецк</td>\n",
       "      <td>Татьяна</td>\n",
       "      <td>Авдеенко</td>\n",
       "      <td>2018-05-14</td>\n",
       "      <td>ultra</td>\n",
       "    </tr>\n",
       "  </tbody>\n",
       "</table>\n",
       "</div>"
      ],
      "text/plain": [
       "   user_id  age churn_date         city first_name  last_name    reg_date  \\\n",
       "0     1000   52        NaN    Краснодар     Рафаил  Верещагин  2018-05-25   \n",
       "1     1001   41        NaN       Москва       Иван       Ежов  2018-11-01   \n",
       "2     1002   59        NaN  Стерлитамак    Евгений  Абрамович  2018-06-17   \n",
       "3     1003   23        NaN       Москва      Белла   Белякова  2018-08-17   \n",
       "4     1004   68        NaN  Новокузнецк    Татьяна   Авдеенко  2018-05-14   \n",
       "\n",
       "  tariff  \n",
       "0  ultra  \n",
       "1  smart  \n",
       "2  smart  \n",
       "3  ultra  \n",
       "4  ultra  "
      ]
     },
     "metadata": {},
     "output_type": "display_data"
    },
    {
     "name": "stdout",
     "output_type": "stream",
     "text": [
      "<class 'pandas.core.frame.DataFrame'>\n",
      "RangeIndex: 500 entries, 0 to 499\n",
      "Data columns (total 8 columns):\n",
      " #   Column      Non-Null Count  Dtype \n",
      "---  ------      --------------  ----- \n",
      " 0   user_id     500 non-null    int64 \n",
      " 1   age         500 non-null    int64 \n",
      " 2   churn_date  38 non-null     object\n",
      " 3   city        500 non-null    object\n",
      " 4   first_name  500 non-null    object\n",
      " 5   last_name   500 non-null    object\n",
      " 6   reg_date    500 non-null    object\n",
      " 7   tariff      500 non-null    object\n",
      "dtypes: int64(2), object(6)\n",
      "memory usage: 31.4+ KB\n",
      "Количество дубликатов 0\n"
     ]
    }
   ],
   "source": [
    "data_users = pd.read_csv('/datasets/users.csv')\n",
    "display(data_users.head())\n",
    "data_users.info()\n",
    "data_users.describe()\n",
    "print('Количество дубликатов', data_users.duplicated().sum())"
   ]
  },
  {
   "cell_type": "markdown",
   "metadata": {},
   "source": [
    "**Вывод**\n",
    "1. Cогласно документациия: если значение пропущено, то тариф ещё действовал на момент выгрузки данных будет корректно оставить пропущенные значения без изменений;\n",
    "2. Надо перевести время (reg_date) к типу данных datetime.\n"
   ]
  },
  {
   "cell_type": "markdown",
   "metadata": {},
   "source": [
    "## Шаг. Подготовим данные для дальнейшего анализа"
   ]
  },
  {
   "cell_type": "markdown",
   "metadata": {},
   "source": [
    "### Преобразуем данные к нужным типам "
   ]
  },
  {
   "cell_type": "code",
   "execution_count": 7,
   "metadata": {},
   "outputs": [],
   "source": [
    "# приведем значения столбцов call_date, session_date, message_date, reg_date к типу данных datetime\n",
    "data_calls['call_date'] = pd.to_datetime(data_calls['call_date'], format='%Y-%m-%d')\n",
    "data_internet['session_date'] = pd.to_datetime(data_internet['session_date'], format='%Y-%m-%d')\n",
    "data_messages['message_date'] = pd.to_datetime(data_messages['message_date'], format='%Y-%m-%d')\n",
    "data_users['reg_date'] = pd.to_datetime(data_users['reg_date'], format='%Y-%m-%d')"
   ]
  },
  {
   "cell_type": "markdown",
   "metadata": {},
   "source": [
    "### Найдем дополнительные данные для анализа и исправим ошибки"
   ]
  },
  {
   "cell_type": "code",
   "execution_count": 8,
   "metadata": {},
   "outputs": [],
   "source": [
    "# добавляем столбец month в data_calls, data_internet, data_messages\n",
    "# находим количество сделанных звонков и израсходованных минут разговора по месяцам\n",
    "data_calls['month'] = pd.to_datetime(data_calls['call_date']).dt.month\n",
    "\n",
    "# находим объем израсходованного интернет-трафика по месяцам\n",
    "data_internet['month'] = pd.to_datetime(data_internet['session_date']).dt.month\n",
    "\n",
    "# находим количество отправленных сообщений по месяцам\n",
    "data_messages['month'] = pd.to_datetime(data_messages['message_date']).dt.month"
   ]
  },
  {
   "cell_type": "code",
   "execution_count": 9,
   "metadata": {},
   "outputs": [],
   "source": [
    "# в таблице с интернет-трафиком и тарифом для дальнейшего анализа переведем мб в гб\n",
    "data_internet['gb_used'] = data_internet['mb_used'] /1024\n",
    "data_tariffs['gb_per_month_included'] = data_tariffs['mb_per_month_included'] / 1024"
   ]
  },
  {
   "cell_type": "code",
   "execution_count": 10,
   "metadata": {},
   "outputs": [],
   "source": [
    "# округлим в большую сторону звонки \n",
    "data_calls['duration'] = np.ceil(data_calls['duration']) "
   ]
  },
  {
   "cell_type": "markdown",
   "metadata": {},
   "source": [
    "### Создадим новый датасет и наполним его необходимыми данными"
   ]
  },
  {
   "cell_type": "markdown",
   "metadata": {},
   "source": [
    "- user_id - уникальный идентификатор пользователя\n",
    "- month - месяц, где 1 - это январь, а 12 - декабрь.\n",
    "- count_calls - количество звонков\n",
    "- sum_minut - общая продолжительность звонков\n",
    "- count_messages - количество сообщений\n",
    "- sum_gb - количество израсходованного трафика, в гб"
   ]
  },
  {
   "cell_type": "code",
   "execution_count": 11,
   "metadata": {},
   "outputs": [
    {
     "data": {
      "text/html": [
       "<div>\n",
       "<style scoped>\n",
       "    .dataframe tbody tr th:only-of-type {\n",
       "        vertical-align: middle;\n",
       "    }\n",
       "\n",
       "    .dataframe tbody tr th {\n",
       "        vertical-align: top;\n",
       "    }\n",
       "\n",
       "    .dataframe thead th {\n",
       "        text-align: right;\n",
       "    }\n",
       "</style>\n",
       "<table border=\"1\" class=\"dataframe\">\n",
       "  <thead>\n",
       "    <tr style=\"text-align: right;\">\n",
       "      <th></th>\n",
       "      <th>user_id</th>\n",
       "      <th>month</th>\n",
       "      <th>count_calls</th>\n",
       "      <th>sum_minut</th>\n",
       "    </tr>\n",
       "  </thead>\n",
       "  <tbody>\n",
       "    <tr>\n",
       "      <th>0</th>\n",
       "      <td>1000</td>\n",
       "      <td>5</td>\n",
       "      <td>22</td>\n",
       "      <td>159</td>\n",
       "    </tr>\n",
       "    <tr>\n",
       "      <th>1</th>\n",
       "      <td>1000</td>\n",
       "      <td>6</td>\n",
       "      <td>43</td>\n",
       "      <td>172</td>\n",
       "    </tr>\n",
       "    <tr>\n",
       "      <th>2</th>\n",
       "      <td>1000</td>\n",
       "      <td>7</td>\n",
       "      <td>47</td>\n",
       "      <td>340</td>\n",
       "    </tr>\n",
       "    <tr>\n",
       "      <th>3</th>\n",
       "      <td>1000</td>\n",
       "      <td>8</td>\n",
       "      <td>52</td>\n",
       "      <td>408</td>\n",
       "    </tr>\n",
       "    <tr>\n",
       "      <th>4</th>\n",
       "      <td>1000</td>\n",
       "      <td>9</td>\n",
       "      <td>58</td>\n",
       "      <td>466</td>\n",
       "    </tr>\n",
       "  </tbody>\n",
       "</table>\n",
       "</div>"
      ],
      "text/plain": [
       "   user_id  month  count_calls  sum_minut\n",
       "0     1000      5           22        159\n",
       "1     1000      6           43        172\n",
       "2     1000      7           47        340\n",
       "3     1000      8           52        408\n",
       "4     1000      9           58        466"
      ]
     },
     "execution_count": 11,
     "metadata": {},
     "output_type": "execute_result"
    }
   ],
   "source": [
    "# cоздадим свобную таблицу длительности звонков по пользователям и месяцам,выведем кол-во звонков и сумму продолжительности звонков в минутах \n",
    "data_calls_pivot = data_calls.pivot_table(index = ['user_id','month'], values = 'duration' , aggfunc= ['count','sum']).reset_index()\n",
    "\n",
    "# изменим название для удобства, чтобы название соответствовало содержимому\n",
    "data_calls_pivot.columns = ['user_id', 'month', 'count_calls', 'sum_minut']\n",
    "\n",
    "# приведем в целочисленный тип\n",
    "data_calls_pivot['sum_minut'] = data_calls_pivot['sum_minut'].astype('int64')\n",
    "\n",
    "data_calls_pivot.head()"
   ]
  },
  {
   "cell_type": "code",
   "execution_count": 12,
   "metadata": {},
   "outputs": [
    {
     "data": {
      "text/html": [
       "<div>\n",
       "<style scoped>\n",
       "    .dataframe tbody tr th:only-of-type {\n",
       "        vertical-align: middle;\n",
       "    }\n",
       "\n",
       "    .dataframe tbody tr th {\n",
       "        vertical-align: top;\n",
       "    }\n",
       "\n",
       "    .dataframe thead th {\n",
       "        text-align: right;\n",
       "    }\n",
       "</style>\n",
       "<table border=\"1\" class=\"dataframe\">\n",
       "  <thead>\n",
       "    <tr style=\"text-align: right;\">\n",
       "      <th></th>\n",
       "      <th>user_id</th>\n",
       "      <th>month</th>\n",
       "      <th>count_messages</th>\n",
       "    </tr>\n",
       "  </thead>\n",
       "  <tbody>\n",
       "    <tr>\n",
       "      <th>0</th>\n",
       "      <td>1000</td>\n",
       "      <td>5</td>\n",
       "      <td>22</td>\n",
       "    </tr>\n",
       "    <tr>\n",
       "      <th>1</th>\n",
       "      <td>1000</td>\n",
       "      <td>6</td>\n",
       "      <td>60</td>\n",
       "    </tr>\n",
       "    <tr>\n",
       "      <th>2</th>\n",
       "      <td>1000</td>\n",
       "      <td>7</td>\n",
       "      <td>75</td>\n",
       "    </tr>\n",
       "    <tr>\n",
       "      <th>3</th>\n",
       "      <td>1000</td>\n",
       "      <td>8</td>\n",
       "      <td>81</td>\n",
       "    </tr>\n",
       "    <tr>\n",
       "      <th>4</th>\n",
       "      <td>1000</td>\n",
       "      <td>9</td>\n",
       "      <td>57</td>\n",
       "    </tr>\n",
       "  </tbody>\n",
       "</table>\n",
       "</div>"
      ],
      "text/plain": [
       "   user_id  month  count_messages\n",
       "0     1000      5              22\n",
       "1     1000      6              60\n",
       "2     1000      7              75\n",
       "3     1000      8              81\n",
       "4     1000      9              57"
      ]
     },
     "execution_count": 12,
     "metadata": {},
     "output_type": "execute_result"
    }
   ],
   "source": [
    "# cоздадим свобную таблицу кол-во сообщений по пользователям и месяцам, выведем кол-во сообщений\n",
    "data_messages_pivot = data_messages.pivot_table(index=['user_id', 'month'], values='message_date', aggfunc='count').reset_index()\n",
    "\n",
    "# изменим название для удобства, чтобы название соответствовало содержимому\n",
    "data_messages_pivot.columns = ['user_id', 'month', 'count_messages']\n",
    "\n",
    "# приведем в целочисленный тип\n",
    "data_messages_pivot['count_messages'] = data_messages_pivot['count_messages'].astype('int64')\n",
    "\n",
    "data_messages_pivot.head()"
   ]
  },
  {
   "cell_type": "code",
   "execution_count": 13,
   "metadata": {},
   "outputs": [
    {
     "data": {
      "text/html": [
       "<div>\n",
       "<style scoped>\n",
       "    .dataframe tbody tr th:only-of-type {\n",
       "        vertical-align: middle;\n",
       "    }\n",
       "\n",
       "    .dataframe tbody tr th {\n",
       "        vertical-align: top;\n",
       "    }\n",
       "\n",
       "    .dataframe thead th {\n",
       "        text-align: right;\n",
       "    }\n",
       "</style>\n",
       "<table border=\"1\" class=\"dataframe\">\n",
       "  <thead>\n",
       "    <tr style=\"text-align: right;\">\n",
       "      <th></th>\n",
       "      <th>user_id</th>\n",
       "      <th>month</th>\n",
       "      <th>sum_gb</th>\n",
       "    </tr>\n",
       "  </thead>\n",
       "  <tbody>\n",
       "    <tr>\n",
       "      <th>0</th>\n",
       "      <td>1000</td>\n",
       "      <td>5</td>\n",
       "      <td>3.0</td>\n",
       "    </tr>\n",
       "    <tr>\n",
       "      <th>1</th>\n",
       "      <td>1000</td>\n",
       "      <td>6</td>\n",
       "      <td>23.0</td>\n",
       "    </tr>\n",
       "    <tr>\n",
       "      <th>2</th>\n",
       "      <td>1000</td>\n",
       "      <td>7</td>\n",
       "      <td>14.0</td>\n",
       "    </tr>\n",
       "    <tr>\n",
       "      <th>3</th>\n",
       "      <td>1000</td>\n",
       "      <td>8</td>\n",
       "      <td>14.0</td>\n",
       "    </tr>\n",
       "    <tr>\n",
       "      <th>4</th>\n",
       "      <td>1000</td>\n",
       "      <td>9</td>\n",
       "      <td>15.0</td>\n",
       "    </tr>\n",
       "  </tbody>\n",
       "</table>\n",
       "</div>"
      ],
      "text/plain": [
       "   user_id  month  sum_gb\n",
       "0     1000      5     3.0\n",
       "1     1000      6    23.0\n",
       "2     1000      7    14.0\n",
       "3     1000      8    14.0\n",
       "4     1000      9    15.0"
      ]
     },
     "execution_count": 13,
     "metadata": {},
     "output_type": "execute_result"
    }
   ],
   "source": [
    "# cоздадим свобную таблицу кол-во израсходованного трафика в гб по пользователям и месяцам, выведем кол-во израсходованного трафика\n",
    "data_internet_pivot = data_internet.pivot_table(index=['user_id', 'month'], values='gb_used', aggfunc='sum').reset_index()     \n",
    "\n",
    "# изменим название для удобства, чтобы название соответствовало содержимому\n",
    "data_internet_pivot.columns = ['user_id', 'month', 'sum_gb']\n",
    "\n",
    "# округлим кол-во сумму гигабайт\n",
    "data_internet_pivot['sum_gb'] = data_internet_pivot['sum_gb'].apply(np.ceil)\n",
    "\n",
    "data_internet_pivot.head()"
   ]
  },
  {
   "cell_type": "code",
   "execution_count": 14,
   "metadata": {},
   "outputs": [
    {
     "name": "stdout",
     "output_type": "stream",
     "text": [
      "<class 'pandas.core.frame.DataFrame'>\n",
      "Int64Index: 3214 entries, 0 to 3213\n",
      "Data columns (total 8 columns):\n",
      " #   Column          Non-Null Count  Dtype  \n",
      "---  ------          --------------  -----  \n",
      " 0   user_id         3214 non-null   int64  \n",
      " 1   month           3214 non-null   int64  \n",
      " 2   count_calls     3174 non-null   float64\n",
      " 3   sum_minut       3174 non-null   float64\n",
      " 4   count_messages  2717 non-null   float64\n",
      " 5   sum_gb          3203 non-null   float64\n",
      " 6   tariff          3214 non-null   object \n",
      " 7   city            3214 non-null   object \n",
      "dtypes: float64(4), int64(2), object(2)\n",
      "memory usage: 226.0+ KB\n"
     ]
    },
    {
     "data": {
      "text/html": [
       "<div>\n",
       "<style scoped>\n",
       "    .dataframe tbody tr th:only-of-type {\n",
       "        vertical-align: middle;\n",
       "    }\n",
       "\n",
       "    .dataframe tbody tr th {\n",
       "        vertical-align: top;\n",
       "    }\n",
       "\n",
       "    .dataframe thead th {\n",
       "        text-align: right;\n",
       "    }\n",
       "</style>\n",
       "<table border=\"1\" class=\"dataframe\">\n",
       "  <thead>\n",
       "    <tr style=\"text-align: right;\">\n",
       "      <th></th>\n",
       "      <th>user_id</th>\n",
       "      <th>month</th>\n",
       "      <th>count_calls</th>\n",
       "      <th>sum_minut</th>\n",
       "      <th>count_messages</th>\n",
       "      <th>sum_gb</th>\n",
       "      <th>tariff</th>\n",
       "      <th>city</th>\n",
       "    </tr>\n",
       "  </thead>\n",
       "  <tbody>\n",
       "    <tr>\n",
       "      <th>0</th>\n",
       "      <td>1000</td>\n",
       "      <td>5</td>\n",
       "      <td>22.0</td>\n",
       "      <td>159.0</td>\n",
       "      <td>22.0</td>\n",
       "      <td>3.0</td>\n",
       "      <td>ultra</td>\n",
       "      <td>Краснодар</td>\n",
       "    </tr>\n",
       "    <tr>\n",
       "      <th>1</th>\n",
       "      <td>1000</td>\n",
       "      <td>6</td>\n",
       "      <td>43.0</td>\n",
       "      <td>172.0</td>\n",
       "      <td>60.0</td>\n",
       "      <td>23.0</td>\n",
       "      <td>ultra</td>\n",
       "      <td>Краснодар</td>\n",
       "    </tr>\n",
       "    <tr>\n",
       "      <th>2</th>\n",
       "      <td>1000</td>\n",
       "      <td>7</td>\n",
       "      <td>47.0</td>\n",
       "      <td>340.0</td>\n",
       "      <td>75.0</td>\n",
       "      <td>14.0</td>\n",
       "      <td>ultra</td>\n",
       "      <td>Краснодар</td>\n",
       "    </tr>\n",
       "    <tr>\n",
       "      <th>3</th>\n",
       "      <td>1000</td>\n",
       "      <td>8</td>\n",
       "      <td>52.0</td>\n",
       "      <td>408.0</td>\n",
       "      <td>81.0</td>\n",
       "      <td>14.0</td>\n",
       "      <td>ultra</td>\n",
       "      <td>Краснодар</td>\n",
       "    </tr>\n",
       "    <tr>\n",
       "      <th>4</th>\n",
       "      <td>1000</td>\n",
       "      <td>9</td>\n",
       "      <td>58.0</td>\n",
       "      <td>466.0</td>\n",
       "      <td>57.0</td>\n",
       "      <td>15.0</td>\n",
       "      <td>ultra</td>\n",
       "      <td>Краснодар</td>\n",
       "    </tr>\n",
       "  </tbody>\n",
       "</table>\n",
       "</div>"
      ],
      "text/plain": [
       "   user_id  month  count_calls  sum_minut  count_messages  sum_gb tariff  \\\n",
       "0     1000      5         22.0      159.0            22.0     3.0  ultra   \n",
       "1     1000      6         43.0      172.0            60.0    23.0  ultra   \n",
       "2     1000      7         47.0      340.0            75.0    14.0  ultra   \n",
       "3     1000      8         52.0      408.0            81.0    14.0  ultra   \n",
       "4     1000      9         58.0      466.0            57.0    15.0  ultra   \n",
       "\n",
       "        city  \n",
       "0  Краснодар  \n",
       "1  Краснодар  \n",
       "2  Краснодар  \n",
       "3  Краснодар  \n",
       "4  Краснодар  "
      ]
     },
     "execution_count": 14,
     "metadata": {},
     "output_type": "execute_result"
    }
   ],
   "source": [
    "# cоединим полученные данные сгрупированые по месяцам в один датасет\n",
    "# применим метод merge к подготовленным ранее сводным таблицам \n",
    "data=data_calls_pivot.merge(data_messages_pivot, on=['user_id', 'month'], how='outer')\n",
    "\n",
    "data = data.merge(data_internet_pivot,  on = ['user_id','month'], how = 'outer')\n",
    "\n",
    "# добавим в таблицу значение тарифа и города\n",
    "data = data.merge(data_users[['user_id','tariff','city']], on = 'user_id')\n",
    "\n",
    "data.info()\n",
    "data.head()"
   ]
  },
  {
   "cell_type": "markdown",
   "metadata": {},
   "source": [
    "Вместо этих 2 строк:\n",
    "    \n",
    "    data = data.merge(data_users[['user_id','tariff']], on = 'user_id')\n",
    "    data = data.merge(data_users[['user_id','city']], on = 'user_id')\n",
    "    \n",
    "можно сделать сразу так:\n",
    "    \n",
    "    data = data.merge(data_users[['user_id','tariff','city']], on = 'user_id')\n",
    "    "
   ]
  },
  {
   "cell_type": "markdown",
   "metadata": {},
   "source": [
    "### Найдем помесячную выручку с каждого пользователя"
   ]
  },
  {
   "cell_type": "code",
   "execution_count": 15,
   "metadata": {},
   "outputs": [
    {
     "data": {
      "text/html": [
       "<div>\n",
       "<style scoped>\n",
       "    .dataframe tbody tr th:only-of-type {\n",
       "        vertical-align: middle;\n",
       "    }\n",
       "\n",
       "    .dataframe tbody tr th {\n",
       "        vertical-align: top;\n",
       "    }\n",
       "\n",
       "    .dataframe thead th {\n",
       "        text-align: right;\n",
       "    }\n",
       "</style>\n",
       "<table border=\"1\" class=\"dataframe\">\n",
       "  <thead>\n",
       "    <tr style=\"text-align: right;\">\n",
       "      <th></th>\n",
       "      <th>messages_included</th>\n",
       "      <th>mb_per_month_included</th>\n",
       "      <th>minutes_included</th>\n",
       "      <th>rub_monthly_fee</th>\n",
       "      <th>rub_per_gb</th>\n",
       "      <th>rub_per_message</th>\n",
       "      <th>rub_per_minute</th>\n",
       "      <th>tariff_name</th>\n",
       "      <th>gb_per_month_included</th>\n",
       "    </tr>\n",
       "  </thead>\n",
       "  <tbody>\n",
       "    <tr>\n",
       "      <th>0</th>\n",
       "      <td>50</td>\n",
       "      <td>15360</td>\n",
       "      <td>500</td>\n",
       "      <td>550</td>\n",
       "      <td>200</td>\n",
       "      <td>3</td>\n",
       "      <td>3</td>\n",
       "      <td>smart</td>\n",
       "      <td>15.0</td>\n",
       "    </tr>\n",
       "    <tr>\n",
       "      <th>1</th>\n",
       "      <td>1000</td>\n",
       "      <td>30720</td>\n",
       "      <td>3000</td>\n",
       "      <td>1950</td>\n",
       "      <td>150</td>\n",
       "      <td>1</td>\n",
       "      <td>1</td>\n",
       "      <td>ultra</td>\n",
       "      <td>30.0</td>\n",
       "    </tr>\n",
       "  </tbody>\n",
       "</table>\n",
       "</div>"
      ],
      "text/plain": [
       "   messages_included  mb_per_month_included  minutes_included  \\\n",
       "0                 50                  15360               500   \n",
       "1               1000                  30720              3000   \n",
       "\n",
       "   rub_monthly_fee  rub_per_gb  rub_per_message  rub_per_minute tariff_name  \\\n",
       "0              550         200                3               3       smart   \n",
       "1             1950         150                1               1       ultra   \n",
       "\n",
       "   gb_per_month_included  \n",
       "0                   15.0  \n",
       "1                   30.0  "
      ]
     },
     "execution_count": 15,
     "metadata": {},
     "output_type": "execute_result"
    }
   ],
   "source": [
    "#вспомним условия каждого тарифа\n",
    "data_tariffs.head() "
   ]
  },
  {
   "cell_type": "code",
   "execution_count": 16,
   "metadata": {},
   "outputs": [],
   "source": [
    "def price(df):\n",
    "    sum_minut = df['sum_minut']\n",
    "    count_messages = df['count_messages']\n",
    "    sum_gb = df['sum_gb']\n",
    "    tariff = df['tariff']\n",
    "    if tariff == 'smart':\n",
    "        if sum_minut > 500:\n",
    "            price_min=(sum_minut-500)*3 # стоимость минут потраченных сверх тарифа\n",
    "        else:\n",
    "            price_min = 0\n",
    "        if count_messages > 50:\n",
    "            price_message=(count_messages-50)*3 # стоимость сообщений потраченных сверх тарифа\n",
    "        else:\n",
    "            price_message = 0\n",
    "        if sum_gb > 15:\n",
    "            price_gb=(sum_gb-15)*200 # стоимость гб потраченных сверх тарифа\n",
    "        else:\n",
    "            price_gb = 0\n",
    "        return price_min + price_message + price_gb + 550 # цена за месяц: тариф + потраченное сверху\n",
    "    elif tariff == 'ultra':\n",
    "        if sum_minut > 3000:\n",
    "            price_min=sum_minut-3000 # стоимость минут потраченных сверх тарифа\n",
    "        else:\n",
    "            price_min = 0\n",
    "        if count_messages > 1000:\n",
    "            price_message=count_messages-1000 #стоимость сообщений потраченных сверх тарифа\n",
    "        else:\n",
    "            price_message = 0\n",
    "        if sum_gb > 30:\n",
    "            price_gb=(sum_gb-30)*150 #стоимость гб потраченных сверх тарифа\n",
    "        else:\n",
    "            price_gb = 0\n",
    "        return price_min + price_message + price_gb + 1950 # цена за месяц: тариф + потраченное сверху\n",
    "   \n",
    "data['price_month'] =  data.apply(price, axis=1) # новый столбец, функцию ко всей строке\n"
   ]
  },
  {
   "cell_type": "code",
   "execution_count": 17,
   "metadata": {},
   "outputs": [
    {
     "data": {
      "text/html": [
       "<div>\n",
       "<style scoped>\n",
       "    .dataframe tbody tr th:only-of-type {\n",
       "        vertical-align: middle;\n",
       "    }\n",
       "\n",
       "    .dataframe tbody tr th {\n",
       "        vertical-align: top;\n",
       "    }\n",
       "\n",
       "    .dataframe thead th {\n",
       "        text-align: right;\n",
       "    }\n",
       "</style>\n",
       "<table border=\"1\" class=\"dataframe\">\n",
       "  <thead>\n",
       "    <tr style=\"text-align: right;\">\n",
       "      <th></th>\n",
       "      <th>user_id</th>\n",
       "      <th>month</th>\n",
       "      <th>count_calls</th>\n",
       "      <th>sum_minut</th>\n",
       "      <th>count_messages</th>\n",
       "      <th>sum_gb</th>\n",
       "      <th>tariff</th>\n",
       "      <th>city</th>\n",
       "      <th>price_month</th>\n",
       "    </tr>\n",
       "  </thead>\n",
       "  <tbody>\n",
       "    <tr>\n",
       "      <th>0</th>\n",
       "      <td>1000</td>\n",
       "      <td>5</td>\n",
       "      <td>22.0</td>\n",
       "      <td>159.0</td>\n",
       "      <td>22.0</td>\n",
       "      <td>3.0</td>\n",
       "      <td>ultra</td>\n",
       "      <td>Краснодар</td>\n",
       "      <td>1950.0</td>\n",
       "    </tr>\n",
       "    <tr>\n",
       "      <th>1</th>\n",
       "      <td>1000</td>\n",
       "      <td>6</td>\n",
       "      <td>43.0</td>\n",
       "      <td>172.0</td>\n",
       "      <td>60.0</td>\n",
       "      <td>23.0</td>\n",
       "      <td>ultra</td>\n",
       "      <td>Краснодар</td>\n",
       "      <td>1950.0</td>\n",
       "    </tr>\n",
       "    <tr>\n",
       "      <th>2</th>\n",
       "      <td>1000</td>\n",
       "      <td>7</td>\n",
       "      <td>47.0</td>\n",
       "      <td>340.0</td>\n",
       "      <td>75.0</td>\n",
       "      <td>14.0</td>\n",
       "      <td>ultra</td>\n",
       "      <td>Краснодар</td>\n",
       "      <td>1950.0</td>\n",
       "    </tr>\n",
       "    <tr>\n",
       "      <th>3</th>\n",
       "      <td>1000</td>\n",
       "      <td>8</td>\n",
       "      <td>52.0</td>\n",
       "      <td>408.0</td>\n",
       "      <td>81.0</td>\n",
       "      <td>14.0</td>\n",
       "      <td>ultra</td>\n",
       "      <td>Краснодар</td>\n",
       "      <td>1950.0</td>\n",
       "    </tr>\n",
       "    <tr>\n",
       "      <th>4</th>\n",
       "      <td>1000</td>\n",
       "      <td>9</td>\n",
       "      <td>58.0</td>\n",
       "      <td>466.0</td>\n",
       "      <td>57.0</td>\n",
       "      <td>15.0</td>\n",
       "      <td>ultra</td>\n",
       "      <td>Краснодар</td>\n",
       "      <td>1950.0</td>\n",
       "    </tr>\n",
       "  </tbody>\n",
       "</table>\n",
       "</div>"
      ],
      "text/plain": [
       "   user_id  month  count_calls  sum_minut  count_messages  sum_gb tariff  \\\n",
       "0     1000      5         22.0      159.0            22.0     3.0  ultra   \n",
       "1     1000      6         43.0      172.0            60.0    23.0  ultra   \n",
       "2     1000      7         47.0      340.0            75.0    14.0  ultra   \n",
       "3     1000      8         52.0      408.0            81.0    14.0  ultra   \n",
       "4     1000      9         58.0      466.0            57.0    15.0  ultra   \n",
       "\n",
       "        city  price_month  \n",
       "0  Краснодар       1950.0  \n",
       "1  Краснодар       1950.0  \n",
       "2  Краснодар       1950.0  \n",
       "3  Краснодар       1950.0  \n",
       "4  Краснодар       1950.0  "
      ]
     },
     "metadata": {},
     "output_type": "display_data"
    },
    {
     "name": "stdout",
     "output_type": "stream",
     "text": [
      "<class 'pandas.core.frame.DataFrame'>\n",
      "Int64Index: 3214 entries, 0 to 3213\n",
      "Data columns (total 9 columns):\n",
      " #   Column          Non-Null Count  Dtype  \n",
      "---  ------          --------------  -----  \n",
      " 0   user_id         3214 non-null   int64  \n",
      " 1   month           3214 non-null   int64  \n",
      " 2   count_calls     3174 non-null   float64\n",
      " 3   sum_minut       3174 non-null   float64\n",
      " 4   count_messages  2717 non-null   float64\n",
      " 5   sum_gb          3203 non-null   float64\n",
      " 6   tariff          3214 non-null   object \n",
      " 7   city            3214 non-null   object \n",
      " 8   price_month     3214 non-null   float64\n",
      "dtypes: float64(5), int64(2), object(2)\n",
      "memory usage: 251.1+ KB\n"
     ]
    }
   ],
   "source": [
    "# проверим результат\n",
    "display(data.head()) \n",
    "data.info()"
   ]
  },
  {
   "cell_type": "markdown",
   "metadata": {},
   "source": [
    "**Вывод**\n",
    "\n",
    "На основании первичных данных был создан датафрейм со следующей информацией:\n",
    "\n",
    "user_id - уникальный идентификатор пользователя;\n",
    "month - месяц, где 1 - это январь, а 12 - декабрь;\n",
    "count_calls - количество звонков;\n",
    "sum_minut - общая продолжительность звонков;\n",
    "count_messages - количество сообщений;\n",
    "sum_gb   - количество израсходованного трафика, в мб;\n",
    "tariff - название тарифного плана;\n",
    "city - город проживание пользователя;\n",
    "price_month  - помесячная выручка."
   ]
  },
  {
   "cell_type": "markdown",
   "metadata": {},
   "source": [
    "## Шаг. Проанализируем данные "
   ]
  },
  {
   "cell_type": "markdown",
   "metadata": {},
   "source": [
    "### Определим медиану и среднее количество, дисперсию и стандартное отклонение "
   ]
  },
  {
   "cell_type": "code",
   "execution_count": 18,
   "metadata": {},
   "outputs": [
    {
     "data": {
      "text/html": [
       "<div>\n",
       "<style scoped>\n",
       "    .dataframe tbody tr th:only-of-type {\n",
       "        vertical-align: middle;\n",
       "    }\n",
       "\n",
       "    .dataframe tbody tr th {\n",
       "        vertical-align: top;\n",
       "    }\n",
       "\n",
       "    .dataframe thead tr th {\n",
       "        text-align: left;\n",
       "    }\n",
       "\n",
       "    .dataframe thead tr:last-of-type th {\n",
       "        text-align: right;\n",
       "    }\n",
       "</style>\n",
       "<table border=\"1\" class=\"dataframe\">\n",
       "  <thead>\n",
       "    <tr>\n",
       "      <th></th>\n",
       "      <th colspan=\"3\" halign=\"left\">mean</th>\n",
       "      <th colspan=\"3\" halign=\"left\">var</th>\n",
       "      <th colspan=\"3\" halign=\"left\">std</th>\n",
       "    </tr>\n",
       "    <tr>\n",
       "      <th></th>\n",
       "      <th>count_messages</th>\n",
       "      <th>sum_gb</th>\n",
       "      <th>sum_minut</th>\n",
       "      <th>count_messages</th>\n",
       "      <th>sum_gb</th>\n",
       "      <th>sum_minut</th>\n",
       "      <th>count_messages</th>\n",
       "      <th>sum_gb</th>\n",
       "      <th>sum_minut</th>\n",
       "    </tr>\n",
       "    <tr>\n",
       "      <th>tariff</th>\n",
       "      <th></th>\n",
       "      <th></th>\n",
       "      <th></th>\n",
       "      <th></th>\n",
       "      <th></th>\n",
       "      <th></th>\n",
       "      <th></th>\n",
       "      <th></th>\n",
       "      <th></th>\n",
       "    </tr>\n",
       "  </thead>\n",
       "  <tbody>\n",
       "    <tr>\n",
       "      <th>smart</th>\n",
       "      <td>38.716441</td>\n",
       "      <td>16.336176</td>\n",
       "      <td>419.062978</td>\n",
       "      <td>717.594201</td>\n",
       "      <td>32.923756</td>\n",
       "      <td>35844.189551</td>\n",
       "      <td>26.787949</td>\n",
       "      <td>5.737923</td>\n",
       "      <td>189.325618</td>\n",
       "    </tr>\n",
       "    <tr>\n",
       "      <th>ultra</th>\n",
       "      <td>61.161006</td>\n",
       "      <td>19.694359</td>\n",
       "      <td>545.451104</td>\n",
       "      <td>2109.659183</td>\n",
       "      <td>94.146734</td>\n",
       "      <td>94203.418396</td>\n",
       "      <td>45.931026</td>\n",
       "      <td>9.702924</td>\n",
       "      <td>306.925754</td>\n",
       "    </tr>\n",
       "  </tbody>\n",
       "</table>\n",
       "</div>"
      ],
      "text/plain": [
       "                 mean                                   var             \\\n",
       "       count_messages     sum_gb   sum_minut count_messages     sum_gb   \n",
       "tariff                                                                   \n",
       "smart       38.716441  16.336176  419.062978     717.594201  32.923756   \n",
       "ultra       61.161006  19.694359  545.451104    2109.659183  94.146734   \n",
       "\n",
       "                                std                        \n",
       "           sum_minut count_messages    sum_gb   sum_minut  \n",
       "tariff                                                     \n",
       "smart   35844.189551      26.787949  5.737923  189.325618  \n",
       "ultra   94203.418396      45.931026  9.702924  306.925754  "
      ]
     },
     "execution_count": 18,
     "metadata": {},
     "output_type": "execute_result"
    }
   ],
   "source": [
    "# посчитаем среднее количество, дисперсию и стандартное отклонение тарифов SMART и UlTRA\n",
    "data.pivot_table(index = 'tariff', \n",
    "                    values = ['sum_minut',\n",
    "                              'count_messages',\n",
    "                              'sum_gb'\n",
    "                             ], \n",
    "                    aggfunc = ['mean',\n",
    "                               'var',\n",
    "                               'std']\n",
    "                   )"
   ]
  },
  {
   "cell_type": "markdown",
   "metadata": {},
   "source": [
    "### Определим среднее, дисперсию и стандартное отклонение для помесячной выручки Посмотрим на гистограмму распределения¶"
   ]
  },
  {
   "cell_type": "code",
   "execution_count": 19,
   "metadata": {},
   "outputs": [
    {
     "data": {
      "text/html": [
       "<div>\n",
       "<style scoped>\n",
       "    .dataframe tbody tr th:only-of-type {\n",
       "        vertical-align: middle;\n",
       "    }\n",
       "\n",
       "    .dataframe tbody tr th {\n",
       "        vertical-align: top;\n",
       "    }\n",
       "\n",
       "    .dataframe thead tr th {\n",
       "        text-align: left;\n",
       "    }\n",
       "\n",
       "    .dataframe thead tr:last-of-type th {\n",
       "        text-align: right;\n",
       "    }\n",
       "</style>\n",
       "<table border=\"1\" class=\"dataframe\">\n",
       "  <thead>\n",
       "    <tr>\n",
       "      <th></th>\n",
       "      <th>mean</th>\n",
       "      <th>var</th>\n",
       "      <th>std</th>\n",
       "    </tr>\n",
       "    <tr>\n",
       "      <th></th>\n",
       "      <th>price_month</th>\n",
       "      <th>price_month</th>\n",
       "      <th>price_month</th>\n",
       "    </tr>\n",
       "    <tr>\n",
       "      <th>tariff</th>\n",
       "      <th></th>\n",
       "      <th></th>\n",
       "      <th></th>\n",
       "    </tr>\n",
       "  </thead>\n",
       "  <tbody>\n",
       "    <tr>\n",
       "      <th>smart</th>\n",
       "      <td>1289.973531</td>\n",
       "      <td>669785.708006</td>\n",
       "      <td>818.404367</td>\n",
       "    </tr>\n",
       "    <tr>\n",
       "      <th>ultra</th>\n",
       "      <td>2070.152284</td>\n",
       "      <td>141516.745079</td>\n",
       "      <td>376.187114</td>\n",
       "    </tr>\n",
       "  </tbody>\n",
       "</table>\n",
       "</div>"
      ],
      "text/plain": [
       "               mean            var         std\n",
       "        price_month    price_month price_month\n",
       "tariff                                        \n",
       "smart   1289.973531  669785.708006  818.404367\n",
       "ultra   2070.152284  141516.745079  376.187114"
      ]
     },
     "execution_count": 19,
     "metadata": {},
     "output_type": "execute_result"
    }
   ],
   "source": [
    "# посчитаем среднее количество, дисперсию и стандартное отклонение помесячной выручки тарифов SMART и UlTRA\n",
    "data.pivot_table(index = 'tariff', \n",
    "                 values = 'price_month', \n",
    "                 aggfunc = ['mean',\n",
    "                            'var',\n",
    "                            'std'\n",
    "                              ]\n",
    "                   )"
   ]
  },
  {
   "cell_type": "markdown",
   "metadata": {},
   "source": [
    " **Вывод**\n",
    "Из полученных результатов можно описать поведение пользователей следующим образом. \n",
    "Пользователи тарифа Смарт в среднем используют 419 мин разговора, 39 смс и 16,3 Гб интернет-трафика. \n",
    "Пользователи тарифа Ультра в среднем используют 545 мин разговора, 62 смс и 19,7 Гб интернет-трафика. \n",
    "Исходя из этого можно сделать вывод, что в среднем минуты разговора, включённые в оба тарифа, удовлетворяют нужды пользователей, так же в среднем количества смс, включённые в оба тарифа больше, чем количество смс отправленных в среднем. \n",
    "Однако, в тарифе Смарт пользователи чаще уходят за рамки тарифного пакета интернет-трафика, это означает, что часть пользователей докупает интернет-трафик. А пользователи тарифа Ультра не превышают интернет-трафик включенный в тариф, что означает,  пользователям данного тарифа не нужно докупать дополнительный интернет-трафик.\n",
    "\n"
   ]
  },
  {
   "cell_type": "markdown",
   "metadata": {},
   "source": [
    "###  Построим гистограммы распределения"
   ]
  },
  {
   "cell_type": "code",
   "execution_count": 20,
   "metadata": {},
   "outputs": [
    {
     "data": {
      "image/png": "[encoded data removed]",
      "text/plain": [
       "<Figure size 576x432 with 1 Axes>"
      ]
     },
     "metadata": {
      "needs_background": "light"
     },
     "output_type": "display_data"
    },
    {
     "data": {
      "image/png": "[encoded data removed]",
      "text/plain": [
       "<Figure size 576x432 with 1 Axes>"
      ]
     },
     "metadata": {
      "needs_background": "light"
     },
     "output_type": "display_data"
    },
    {
     "data": {
      "image/png": "[encoded data removed]",
      "text/plain": [
       "<Figure size 576x432 with 1 Axes>"
      ]
     },
     "metadata": {
      "needs_background": "light"
     },
     "output_type": "display_data"
    },
    {
     "data": {
      "image/png": "[encoded data removed]",
      "text/plain": [
       "<Figure size 576x432 with 1 Axes>"
      ]
     },
     "metadata": {
      "needs_background": "light"
     },
     "output_type": "display_data"
    }
   ],
   "source": [
    "# построим гистограммы распределения \n",
    "list_of_columns=['sum_minut','count_messages','sum_gb', 'price_month']\n",
    "\n",
    "tariffs = ['ultra','smart']\n",
    "for column in list_of_columns:\n",
    "        data.loc[data.loc[:,'tariff'] == 'smart'][column].plot(\n",
    "            kind = 'hist',\n",
    "            bins = 30,\n",
    "            label = 'smart', \n",
    "            figsize = (8,6),\n",
    "            grid=True\n",
    "        )\n",
    "        data.loc[data.loc[:,'tariff'] == 'ultra'][column].plot(\n",
    "            kind = 'hist',\n",
    "            bins = 30,\n",
    "            alpha =0.7,\n",
    "            label = 'ultra',\n",
    "            figsize = (8,6),\n",
    "            grid=True\n",
    "        )\n",
    "        plt.title(column)\n",
    "        plt.xlabel(column)\n",
    "        plt.ylabel('users')\n",
    "        plt.legend()\n",
    "        plt.show()\n",
    "        "
   ]
  },
  {
   "cell_type": "markdown",
   "metadata": {},
   "source": [
    "**Вывод**\n",
    "\n",
    "1.Гистограмма распределения плотности среднего значения длительности звонков имеет нормальное распределение и скошен влево.\n",
    "2.Гистограмма распределения плотности среднего значения сообщений имеет нормальное распределение и скошен влево.\n",
    "3.Гистограмма распределения плотности среднего значения интернет-трафика имеет нормальное распределение.\n",
    "4.Гистограмма распределения плотности среднего значения выручки имеет нормальное распределение.\n",
    "\n",
    "По гистограммам наглядно видно, что по тарифу Смарт примерно 20% абонентов выходят за границы звонков, 10% за границы сообщений и около 35% выходят за границы трафика. По тарифу Ультра примерно 10% абонентов выходят за границы трафика. Также на гистограммах видно, что более популярен тариф Смарт.\n"
   ]
  },
  {
   "cell_type": "markdown",
   "metadata": {},
   "source": [
    "## Проверим гипотезы"
   ]
  },
  {
   "cell_type": "markdown",
   "metadata": {},
   "source": [
    "### Cредняя выручка пользователей тарифов «Ультра» и «Смарт» различаются"
   ]
  },
  {
   "cell_type": "markdown",
   "metadata": {},
   "source": [
    "Гипотеза о равенстве средних двух генеральных совокупностей, следовательно:\n",
    "\n",
    "**Нулевая гипотеза**: средняя выручка пользователей тарифов Ультра и Смарт равны.\n",
    "\n",
    "**Альтернативная гипотеза**: средняя выручка пользователей тарифов Ультра и Смарт различается.\n",
    "\n",
    "Проверим нулевую гипотезу."
   ]
  },
  {
   "cell_type": "code",
   "execution_count": 21,
   "metadata": {},
   "outputs": [
    {
     "name": "stdout",
     "output_type": "stream",
     "text": [
      "p-значение: 1.4229814360764067e-160\n",
      "Отвергаем нулевую гипотезу\n"
     ]
    }
   ],
   "source": [
    "# проверяем нулевую гипотезу\n",
    "alpha = .05\n",
    "price_month_ultra = data.loc[data.loc[:,'tariff'] == 'ultra']['price_month']\n",
    "price_month_smart = data.loc[data.loc[:,'tariff'] == 'smart']['price_month']\n",
    "result = st.ttest_ind(price_month_ultra, price_month_smart)\n",
    "prob = result.pvalue\n",
    "print('p-значение:', prob)\n",
    "if prob < alpha:\n",
    "    print(\"Отвергаем нулевую гипотезу\")\n",
    "else:\n",
    "    print(\"Не получилось нулевую гипотезу\")"
   ]
  },
  {
   "cell_type": "markdown",
   "metadata": {},
   "source": [
    "**Вывод**\n",
    "\n",
    "Очень низкое p-значение (значение вероятности) - средняя выручка пользователей тарифов Ультра и Смарт различается. \n",
    "\n",
    "Отвергаем нулевую гипотезу."
   ]
  },
  {
   "cell_type": "markdown",
   "metadata": {},
   "source": [
    "### Cредняя выручка пользователей из Москвы отличается от выручки пользователей из других регионов"
   ]
  },
  {
   "cell_type": "markdown",
   "metadata": {},
   "source": [
    "Cредняя выручка пользователей из Москвы отличается от выручки пользователей из других регионов.\n",
    "Следовательно:\n",
    "\n",
    "**Нулевая гипотеза**: средняя выручка пользователей из Москвы равна выручке пользователей из других регионов.\n",
    "\n",
    "**Альтернативная гипотеза**: средняя выручка пользователей из Москвы отличается от выручки пользователей из других регионов.\n",
    "\n",
    "Проверим нулевую гипотезу."
   ]
  },
  {
   "cell_type": "code",
   "execution_count": 22,
   "metadata": {},
   "outputs": [
    {
     "name": "stdout",
     "output_type": "stream",
     "text": [
      "p-значение: 0.5440152911670224\n",
      "Не получилось отвергнуть нулевую гипотезу\n"
     ]
    }
   ],
   "source": [
    "# проверяем нулевую гипотезу\n",
    "alpha = .05\n",
    "city_moscow = data.loc[data.loc[:,'city'] == 'Москва']['price_month']\n",
    "city_other = data.loc[data.loc[:,'city'] != 'Москва']['price_month']\n",
    "result_city = st.ttest_ind(city_moscow, city_other) \n",
    "prob_city = result_city.pvalue\n",
    "print('p-значение:', prob_city)\n",
    "if prob_city < alpha:\n",
    "    print(\"Отвергаем нулевую гипотезу\")\n",
    "else:\n",
    "    print(\"Не получилось отвергнуть нулевую гипотезу\")"
   ]
  },
  {
   "cell_type": "markdown",
   "metadata": {},
   "source": [
    "**Вывод**\n",
    "\n",
    "Высокое p-значение/значение вероятности - cредняя выручка пользователей из Москвы близка к равной выручке пользователей из других регионов.\n",
    "\n",
    "Не получилось отвергнуть нулевую гипотезу."
   ]
  },
  {
   "cell_type": "markdown",
   "metadata": {},
   "source": [
    "## Общий вывод"
   ]
  },
  {
   "cell_type": "markdown",
   "metadata": {},
   "source": [
    "1.\tДанные со звонками, сообщениями и интернетом, пользователями не содержали пропущенных значений, нет дубликатов. В таблице звонков была продолжительность 0.0 минут, это не отвеченные звонки, не имеет смысла их убирать, т.к. для анализа суммируем сумму минут за месяц. В целом данные приходят без артефактов и достаточно чистые.\n",
    "2.\tПользователи тарифа Смарт в среднем используют 433 мин разговора, 39 смс и 15,3 Гб интернет-трафика. Пользователи тарифа Ультра в среднем используют 572 мин разговора, 62 смс и 18,6 Гб интернет-трафика. Исходя из этого можно сделать вывод, что в среднем минуты разговора, включённые в оба тарифа, удовлетворяют нужды пользователей, так же в среднем количества смс, включённые в оба тарифа больше, чем количество смс отправленных в среднем. Однако, в тарифе Смарт пользователи чаще уходят за рамки тарифного пакета интернет-трафика, это означает, что часть пользователей докупает интернет-трафик. А пользователи тарифа Ультра не превышают интернет-трафик включенный в тариф, что означает, пользователям данного тарифа не нужно докупать дополнительный интернет-трафик.\n",
    "3.\tСредняя выручка пользователей тарифов Ультра и Смарт не может быть равной.\n",
    "4.\tСредняя выручка пользователей из Москвы близка к равной выручке пользователей из других регионов.\n",
    "\n",
    "Рекламный бюджет выгоднее всего перераспределить в пользу тарифа Ультра несмотря на то, что его пользователи меньше выходят за рамки тарифного пакета, в отличие от абонентов тарифа Смарт.Так же можно заметить, что медианное и среднее значение дохода у абонентов тарифа Ультра выше. Кроме того, в процессе анализа  узнали, что в среднем разница медианных и среднеарифметических значений дохода с разных тарифов отличается ~1000 в пользу тарифа Ультра.\n"
   ]
  }
 ],
 "metadata": {
  "ExecuteTimeLog": [
   {
    "duration": 1325,
    "start_time": "2022-04-12T11:51:01.561Z"
   },
   {
    "duration": 441,
    "start_time": "2022-04-12T12:01:24.255Z"
   },
   {
    "duration": 310,
    "start_time": "2022-04-12T12:11:00.381Z"
   },
   {
    "duration": 3,
    "start_time": "2022-04-12T13:11:47.127Z"
   },
   {
    "duration": 139,
    "start_time": "2022-04-12T13:14:05.968Z"
   },
   {
    "duration": 114,
    "start_time": "2022-04-12T13:37:27.672Z"
   },
   {
    "duration": 234,
    "start_time": "2022-04-12T13:39:01.099Z"
   },
   {
    "duration": 137,
    "start_time": "2022-04-12T13:39:31.844Z"
   },
   {
    "duration": 1570,
    "start_time": "2022-04-12T17:23:54.691Z"
   },
   {
    "duration": 390,
    "start_time": "2022-04-12T17:23:56.264Z"
   },
   {
    "duration": 231,
    "start_time": "2022-04-12T17:23:59.234Z"
   },
   {
    "duration": 178,
    "start_time": "2022-04-12T17:24:01.060Z"
   },
   {
    "duration": 110,
    "start_time": "2022-04-12T17:24:02.809Z"
   },
   {
    "duration": 56,
    "start_time": "2022-04-12T17:51:04.497Z"
   },
   {
    "duration": 41,
    "start_time": "2022-04-12T18:15:05.172Z"
   },
   {
    "duration": 3,
    "start_time": "2022-04-12T18:15:20.216Z"
   },
   {
    "duration": 223,
    "start_time": "2022-04-12T18:15:23.776Z"
   },
   {
    "duration": 192,
    "start_time": "2022-04-12T18:15:24.533Z"
   },
   {
    "duration": 148,
    "start_time": "2022-04-12T18:15:26.052Z"
   },
   {
    "duration": 73,
    "start_time": "2022-04-12T18:15:27.655Z"
   },
   {
    "duration": 55,
    "start_time": "2022-04-12T18:15:29.572Z"
   },
   {
    "duration": 220,
    "start_time": "2022-04-12T18:36:39.526Z"
   },
   {
    "duration": 2,
    "start_time": "2022-04-12T18:55:13.722Z"
   },
   {
    "duration": 123,
    "start_time": "2022-04-12T19:03:06.854Z"
   },
   {
    "duration": 10,
    "start_time": "2022-04-12T19:04:11.231Z"
   },
   {
    "duration": 10,
    "start_time": "2022-04-12T19:04:50.325Z"
   },
   {
    "duration": 61,
    "start_time": "2022-04-12T19:05:53.640Z"
   },
   {
    "duration": 87,
    "start_time": "2022-04-12T19:09:46.045Z"
   },
   {
    "duration": 22,
    "start_time": "2022-04-12T19:11:42.122Z"
   },
   {
    "duration": 56,
    "start_time": "2022-04-12T19:12:27.438Z"
   },
   {
    "duration": 33,
    "start_time": "2022-04-12T19:12:58.782Z"
   },
   {
    "duration": 3122,
    "start_time": "2022-04-12T20:08:25.481Z"
   },
   {
    "duration": 3234,
    "start_time": "2022-04-12T20:09:42.790Z"
   },
   {
    "duration": 37,
    "start_time": "2022-04-12T20:10:05.389Z"
   },
   {
    "duration": 196,
    "start_time": "2022-04-12T20:16:17.922Z"
   },
   {
    "duration": 100,
    "start_time": "2022-04-12T20:19:29.913Z"
   },
   {
    "duration": 128,
    "start_time": "2022-04-12T20:20:10.397Z"
   },
   {
    "duration": 220,
    "start_time": "2022-04-12T20:21:03.787Z"
   },
   {
    "duration": 155,
    "start_time": "2022-04-12T20:21:45.283Z"
   },
   {
    "duration": 103,
    "start_time": "2022-04-12T20:23:04.550Z"
   },
   {
    "duration": 8,
    "start_time": "2022-04-12T20:31:13.637Z"
   },
   {
    "duration": 11,
    "start_time": "2022-04-12T20:32:10.097Z"
   },
   {
    "duration": 13,
    "start_time": "2022-04-12T20:32:35.310Z"
   },
   {
    "duration": 13,
    "start_time": "2022-04-12T20:33:57.533Z"
   },
   {
    "duration": 9,
    "start_time": "2022-04-12T20:34:07.754Z"
   },
   {
    "duration": 8,
    "start_time": "2022-04-12T20:43:59.091Z"
   },
   {
    "duration": 44,
    "start_time": "2022-04-13T12:04:31.510Z"
   },
   {
    "duration": 7,
    "start_time": "2022-04-13T12:06:03.887Z"
   },
   {
    "duration": 8,
    "start_time": "2022-04-13T12:07:50.575Z"
   },
   {
    "duration": 6,
    "start_time": "2022-04-13T12:14:52.776Z"
   },
   {
    "duration": 6,
    "start_time": "2022-04-13T12:16:12.601Z"
   },
   {
    "duration": 6,
    "start_time": "2022-04-13T12:16:49.930Z"
   },
   {
    "duration": 6,
    "start_time": "2022-04-13T12:17:38.371Z"
   },
   {
    "duration": 7,
    "start_time": "2022-04-13T12:18:10.787Z"
   },
   {
    "duration": 8,
    "start_time": "2022-04-13T12:19:44.044Z"
   },
   {
    "duration": 6,
    "start_time": "2022-04-13T12:22:35.069Z"
   },
   {
    "duration": 1328,
    "start_time": "2022-04-13T12:22:43.765Z"
   },
   {
    "duration": 208,
    "start_time": "2022-04-13T12:22:47.613Z"
   },
   {
    "duration": 165,
    "start_time": "2022-04-13T12:22:48.661Z"
   },
   {
    "duration": 109,
    "start_time": "2022-04-13T12:22:49.453Z"
   },
   {
    "duration": 62,
    "start_time": "2022-04-13T12:22:50.169Z"
   },
   {
    "duration": 49,
    "start_time": "2022-04-13T12:22:50.959Z"
   },
   {
    "duration": 66,
    "start_time": "2022-04-13T12:22:52.277Z"
   },
   {
    "duration": 76,
    "start_time": "2022-04-13T12:22:52.805Z"
   },
   {
    "duration": 10,
    "start_time": "2022-04-13T12:22:53.292Z"
   },
   {
    "duration": 7,
    "start_time": "2022-04-13T12:22:53.668Z"
   },
   {
    "duration": 28,
    "start_time": "2022-04-13T12:22:54.565Z"
   },
   {
    "duration": 28,
    "start_time": "2022-04-13T12:22:58.956Z"
   },
   {
    "duration": 37,
    "start_time": "2022-04-13T12:24:13.622Z"
   },
   {
    "duration": 55,
    "start_time": "2022-04-13T12:24:51.229Z"
   },
   {
    "duration": 59,
    "start_time": "2022-04-13T12:27:43.382Z"
   },
   {
    "duration": 48,
    "start_time": "2022-04-13T12:31:35.136Z"
   },
   {
    "duration": 196,
    "start_time": "2022-04-13T12:39:17.262Z"
   },
   {
    "duration": 197,
    "start_time": "2022-04-13T12:39:26.993Z"
   },
   {
    "duration": 84,
    "start_time": "2022-04-13T12:40:15.655Z"
   },
   {
    "duration": 59,
    "start_time": "2022-04-13T12:40:42.476Z"
   },
   {
    "duration": 56,
    "start_time": "2022-04-13T12:44:59.887Z"
   },
   {
    "duration": 76,
    "start_time": "2022-04-13T12:46:57.184Z"
   },
   {
    "duration": 84,
    "start_time": "2022-04-13T12:49:15.768Z"
   },
   {
    "duration": 65,
    "start_time": "2022-04-13T12:50:03.173Z"
   },
   {
    "duration": 55,
    "start_time": "2022-04-13T12:50:26.207Z"
   },
   {
    "duration": 57,
    "start_time": "2022-04-13T12:51:07.296Z"
   },
   {
    "duration": 36,
    "start_time": "2022-04-13T12:52:41.784Z"
   },
   {
    "duration": 3,
    "start_time": "2022-04-13T12:53:06.272Z"
   },
   {
    "duration": 220,
    "start_time": "2022-04-13T12:53:07.196Z"
   },
   {
    "duration": 170,
    "start_time": "2022-04-13T12:53:07.760Z"
   },
   {
    "duration": 135,
    "start_time": "2022-04-13T12:53:08.290Z"
   },
   {
    "duration": 43,
    "start_time": "2022-04-13T12:53:08.832Z"
   },
   {
    "duration": 51,
    "start_time": "2022-04-13T12:53:09.392Z"
   },
   {
    "duration": 73,
    "start_time": "2022-04-13T12:53:10.392Z"
   },
   {
    "duration": 78,
    "start_time": "2022-04-13T12:53:10.738Z"
   },
   {
    "duration": 8,
    "start_time": "2022-04-13T12:53:10.920Z"
   },
   {
    "duration": 4,
    "start_time": "2022-04-13T12:53:11.295Z"
   },
   {
    "duration": 46,
    "start_time": "2022-04-13T12:58:12.308Z"
   },
   {
    "duration": 45,
    "start_time": "2022-04-13T12:58:46.946Z"
   },
   {
    "duration": 49,
    "start_time": "2022-04-13T13:03:23.740Z"
   },
   {
    "duration": 16,
    "start_time": "2022-04-13T13:04:33.971Z"
   },
   {
    "duration": 44,
    "start_time": "2022-04-13T13:04:44.332Z"
   },
   {
    "duration": 45,
    "start_time": "2022-04-13T13:07:13.173Z"
   },
   {
    "duration": 55,
    "start_time": "2022-04-13T13:12:45.963Z"
   },
   {
    "duration": 43,
    "start_time": "2022-04-13T13:12:59.627Z"
   },
   {
    "duration": 45,
    "start_time": "2022-04-13T13:14:37.736Z"
   },
   {
    "duration": 47,
    "start_time": "2022-04-13T13:16:13.310Z"
   },
   {
    "duration": 43,
    "start_time": "2022-04-13T13:16:21.217Z"
   },
   {
    "duration": 2,
    "start_time": "2022-04-13T13:16:30.071Z"
   },
   {
    "duration": 207,
    "start_time": "2022-04-13T13:16:30.920Z"
   },
   {
    "duration": 183,
    "start_time": "2022-04-13T13:16:31.473Z"
   },
   {
    "duration": 119,
    "start_time": "2022-04-13T13:16:32.019Z"
   },
   {
    "duration": 43,
    "start_time": "2022-04-13T13:16:32.547Z"
   },
   {
    "duration": 50,
    "start_time": "2022-04-13T13:16:33.265Z"
   },
   {
    "duration": 69,
    "start_time": "2022-04-13T13:16:34.112Z"
   },
   {
    "duration": 151,
    "start_time": "2022-04-13T13:16:34.487Z"
   },
   {
    "duration": 19,
    "start_time": "2022-04-13T13:16:34.696Z"
   },
   {
    "duration": 5,
    "start_time": "2022-04-13T13:16:34.888Z"
   },
   {
    "duration": 69,
    "start_time": "2022-04-13T13:16:35.600Z"
   },
   {
    "duration": 44,
    "start_time": "2022-04-13T13:16:54.224Z"
   },
   {
    "duration": 16,
    "start_time": "2022-04-13T13:20:16.945Z"
   },
   {
    "duration": 76,
    "start_time": "2022-04-13T13:21:37.397Z"
   },
   {
    "duration": 20,
    "start_time": "2022-04-13T13:23:22.474Z"
   },
   {
    "duration": 3,
    "start_time": "2022-04-13T13:23:39.813Z"
   },
   {
    "duration": 7,
    "start_time": "2022-04-13T13:23:58.570Z"
   },
   {
    "duration": 24,
    "start_time": "2022-04-13T13:24:36.972Z"
   },
   {
    "duration": 17,
    "start_time": "2022-04-13T13:26:01.132Z"
   },
   {
    "duration": 20,
    "start_time": "2022-04-13T13:26:21.476Z"
   },
   {
    "duration": 47,
    "start_time": "2022-04-13T13:44:07.147Z"
   },
   {
    "duration": 46,
    "start_time": "2022-04-13T13:44:50.100Z"
   },
   {
    "duration": 50,
    "start_time": "2022-04-13T13:59:40.825Z"
   },
   {
    "duration": 49,
    "start_time": "2022-04-13T14:00:25.521Z"
   },
   {
    "duration": 48,
    "start_time": "2022-04-13T14:00:48.152Z"
   },
   {
    "duration": 48,
    "start_time": "2022-04-13T14:05:10.466Z"
   },
   {
    "duration": 46,
    "start_time": "2022-04-13T14:05:56.588Z"
   },
   {
    "duration": 51,
    "start_time": "2022-04-13T14:06:12.301Z"
   },
   {
    "duration": 48,
    "start_time": "2022-04-13T14:06:45.187Z"
   },
   {
    "duration": 11,
    "start_time": "2022-04-13T14:11:09.163Z"
   },
   {
    "duration": 50,
    "start_time": "2022-04-13T14:11:21.108Z"
   },
   {
    "duration": 102,
    "start_time": "2022-04-13T14:11:22.045Z"
   },
   {
    "duration": 15,
    "start_time": "2022-04-13T14:11:22.461Z"
   },
   {
    "duration": 4,
    "start_time": "2022-04-13T14:11:23.189Z"
   },
   {
    "duration": 2793,
    "start_time": "2022-04-13T14:12:44.525Z"
   },
   {
    "duration": 8,
    "start_time": "2022-04-13T14:14:03.381Z"
   },
   {
    "duration": 45,
    "start_time": "2022-04-13T14:14:11.086Z"
   },
   {
    "duration": 19,
    "start_time": "2022-04-13T14:14:15.823Z"
   },
   {
    "duration": 1271,
    "start_time": "2022-04-13T18:18:30.965Z"
   },
   {
    "duration": 202,
    "start_time": "2022-04-13T18:18:34.720Z"
   },
   {
    "duration": 174,
    "start_time": "2022-04-13T18:18:37.571Z"
   },
   {
    "duration": 115,
    "start_time": "2022-04-13T18:18:40.497Z"
   },
   {
    "duration": 43,
    "start_time": "2022-04-13T18:18:42.876Z"
   },
   {
    "duration": 39,
    "start_time": "2022-04-13T18:18:44.959Z"
   },
   {
    "duration": 80,
    "start_time": "2022-04-13T18:18:47.906Z"
   },
   {
    "duration": 82,
    "start_time": "2022-04-13T18:18:49.699Z"
   },
   {
    "duration": 11,
    "start_time": "2022-04-13T18:18:50.533Z"
   },
   {
    "duration": 6,
    "start_time": "2022-04-13T18:18:51.211Z"
   },
   {
    "duration": 53,
    "start_time": "2022-04-13T18:18:56.038Z"
   },
   {
    "duration": 23,
    "start_time": "2022-04-13T18:18:57.402Z"
   },
   {
    "duration": 27,
    "start_time": "2022-04-13T18:22:23.756Z"
   },
   {
    "duration": 12,
    "start_time": "2022-04-13T18:39:08.031Z"
   },
   {
    "duration": 4,
    "start_time": "2022-04-13T18:40:02.069Z"
   },
   {
    "duration": 193,
    "start_time": "2022-04-13T18:40:03.610Z"
   },
   {
    "duration": 165,
    "start_time": "2022-04-13T18:40:04.425Z"
   },
   {
    "duration": 113,
    "start_time": "2022-04-13T18:40:05.272Z"
   },
   {
    "duration": 46,
    "start_time": "2022-04-13T18:40:06.060Z"
   },
   {
    "duration": 40,
    "start_time": "2022-04-13T18:40:06.866Z"
   },
   {
    "duration": 73,
    "start_time": "2022-04-13T18:40:07.864Z"
   },
   {
    "duration": 80,
    "start_time": "2022-04-13T18:40:08.470Z"
   },
   {
    "duration": 9,
    "start_time": "2022-04-13T18:40:08.696Z"
   },
   {
    "duration": 4,
    "start_time": "2022-04-13T18:40:08.950Z"
   },
   {
    "duration": 50,
    "start_time": "2022-04-13T18:40:09.852Z"
   },
   {
    "duration": 19,
    "start_time": "2022-04-13T18:40:10.209Z"
   },
   {
    "duration": 25,
    "start_time": "2022-04-13T18:40:10.672Z"
   },
   {
    "duration": 12,
    "start_time": "2022-04-13T18:40:11.167Z"
   },
   {
    "duration": 11,
    "start_time": "2022-04-13T18:42:17.471Z"
   },
   {
    "duration": 17,
    "start_time": "2022-04-13T18:42:46.390Z"
   },
   {
    "duration": 18,
    "start_time": "2022-04-13T18:43:50.357Z"
   },
   {
    "duration": 11,
    "start_time": "2022-04-13T18:43:59.333Z"
   },
   {
    "duration": 11,
    "start_time": "2022-04-13T18:44:10.853Z"
   },
   {
    "duration": 12,
    "start_time": "2022-04-13T18:44:14.032Z"
   },
   {
    "duration": 15,
    "start_time": "2022-04-13T18:45:31.037Z"
   },
   {
    "duration": 23,
    "start_time": "2022-04-13T18:45:55.370Z"
   },
   {
    "duration": 21,
    "start_time": "2022-04-13T18:46:56.955Z"
   },
   {
    "duration": 30,
    "start_time": "2022-04-13T19:06:55.399Z"
   },
   {
    "duration": 11,
    "start_time": "2022-04-13T19:07:56.499Z"
   },
   {
    "duration": 10,
    "start_time": "2022-04-13T19:08:11.261Z"
   },
   {
    "duration": 21,
    "start_time": "2022-04-13T19:08:44.846Z"
   },
   {
    "duration": 104,
    "start_time": "2022-04-13T19:09:23.349Z"
   },
   {
    "duration": 13,
    "start_time": "2022-04-13T19:10:01.779Z"
   },
   {
    "duration": 19,
    "start_time": "2022-04-13T19:10:33.761Z"
   },
   {
    "duration": 1031,
    "start_time": "2022-04-13T19:28:05.526Z"
   },
   {
    "duration": 1286,
    "start_time": "2022-04-13T19:28:32.362Z"
   },
   {
    "duration": 8,
    "start_time": "2022-04-13T19:41:23.491Z"
   },
   {
    "duration": 5,
    "start_time": "2022-04-13T19:41:24.916Z"
   },
   {
    "duration": 1044,
    "start_time": "2022-04-13T19:41:28.038Z"
   },
   {
    "duration": 7,
    "start_time": "2022-04-13T19:43:36.712Z"
   },
   {
    "duration": 4,
    "start_time": "2022-04-13T19:43:37.484Z"
   },
   {
    "duration": 1001,
    "start_time": "2022-04-13T19:43:38.347Z"
   },
   {
    "duration": 71,
    "start_time": "2022-04-13T19:52:07.732Z"
   },
   {
    "duration": 66,
    "start_time": "2022-04-13T19:52:33.185Z"
   },
   {
    "duration": 65,
    "start_time": "2022-04-13T19:52:52.973Z"
   },
   {
    "duration": 50,
    "start_time": "2022-04-13T19:52:58.719Z"
   },
   {
    "duration": 58,
    "start_time": "2022-04-13T19:53:18.466Z"
   },
   {
    "duration": 55,
    "start_time": "2022-04-13T19:53:26.863Z"
   },
   {
    "duration": 75,
    "start_time": "2022-04-13T19:53:36.031Z"
   },
   {
    "duration": 49,
    "start_time": "2022-04-13T19:53:43.448Z"
   },
   {
    "duration": 49,
    "start_time": "2022-04-13T19:55:09.615Z"
   },
   {
    "duration": 46,
    "start_time": "2022-04-13T19:55:57.178Z"
   },
   {
    "duration": 20,
    "start_time": "2022-04-13T19:55:59.093Z"
   },
   {
    "duration": 22,
    "start_time": "2022-04-13T19:55:59.917Z"
   },
   {
    "duration": 12,
    "start_time": "2022-04-13T19:56:00.900Z"
   },
   {
    "duration": 46,
    "start_time": "2022-04-13T20:35:51.067Z"
   },
   {
    "duration": 47,
    "start_time": "2022-04-13T20:39:39.761Z"
   },
   {
    "duration": 52,
    "start_time": "2022-04-13T20:40:00.451Z"
   },
   {
    "duration": 50,
    "start_time": "2022-04-13T20:40:22.095Z"
   },
   {
    "duration": 19,
    "start_time": "2022-04-13T20:41:47.864Z"
   },
   {
    "duration": 23,
    "start_time": "2022-04-13T20:44:10.270Z"
   },
   {
    "duration": 14,
    "start_time": "2022-04-13T20:44:21.249Z"
   },
   {
    "duration": 8,
    "start_time": "2022-04-13T20:45:48.782Z"
   },
   {
    "duration": 4,
    "start_time": "2022-04-13T20:45:52.013Z"
   },
   {
    "duration": 8,
    "start_time": "2022-04-13T20:45:52.667Z"
   },
   {
    "duration": 55,
    "start_time": "2022-04-13T20:45:54.211Z"
   },
   {
    "duration": 19,
    "start_time": "2022-04-13T20:45:54.523Z"
   },
   {
    "duration": 22,
    "start_time": "2022-04-13T20:45:55.043Z"
   },
   {
    "duration": 12,
    "start_time": "2022-04-13T20:45:55.457Z"
   },
   {
    "duration": 22,
    "start_time": "2022-04-13T20:46:58.923Z"
   },
   {
    "duration": 20,
    "start_time": "2022-04-13T20:47:07.939Z"
   },
   {
    "duration": 1058,
    "start_time": "2022-04-13T20:48:02.089Z"
   },
   {
    "duration": 23,
    "start_time": "2022-04-13T20:48:26.744Z"
   },
   {
    "duration": 17,
    "start_time": "2022-04-13T20:51:13.595Z"
   },
   {
    "duration": 18,
    "start_time": "2022-04-13T20:58:25.156Z"
   },
   {
    "duration": 16,
    "start_time": "2022-04-13T20:59:21.476Z"
   },
   {
    "duration": 25,
    "start_time": "2022-04-13T21:00:16.530Z"
   },
   {
    "duration": 25,
    "start_time": "2022-04-13T21:01:04.055Z"
   },
   {
    "duration": 20,
    "start_time": "2022-04-13T21:04:33.950Z"
   },
   {
    "duration": 23,
    "start_time": "2022-04-13T21:04:41.429Z"
   },
   {
    "duration": 27,
    "start_time": "2022-04-13T21:04:42.219Z"
   },
   {
    "duration": 35,
    "start_time": "2022-04-13T21:05:21.425Z"
   },
   {
    "duration": 22,
    "start_time": "2022-04-13T21:05:34.108Z"
   },
   {
    "duration": 22,
    "start_time": "2022-04-13T21:05:35.895Z"
   },
   {
    "duration": 29,
    "start_time": "2022-04-13T21:05:36.725Z"
   },
   {
    "duration": 27,
    "start_time": "2022-04-13T21:07:02.555Z"
   },
   {
    "duration": 26,
    "start_time": "2022-04-13T21:07:56.165Z"
   },
   {
    "duration": 24,
    "start_time": "2022-04-13T21:08:05.461Z"
   },
   {
    "duration": 27,
    "start_time": "2022-04-13T21:08:13.250Z"
   },
   {
    "duration": 49,
    "start_time": "2022-04-13T21:09:43.152Z"
   },
   {
    "duration": 53,
    "start_time": "2022-04-13T21:09:52.483Z"
   },
   {
    "duration": 53,
    "start_time": "2022-04-13T21:10:02.560Z"
   },
   {
    "duration": 1457,
    "start_time": "2022-04-14T07:48:52.171Z"
   },
   {
    "duration": 245,
    "start_time": "2022-04-14T07:48:54.034Z"
   },
   {
    "duration": 217,
    "start_time": "2022-04-14T07:48:57.034Z"
   },
   {
    "duration": 145,
    "start_time": "2022-04-14T07:48:59.314Z"
   },
   {
    "duration": 49,
    "start_time": "2022-04-14T07:49:01.051Z"
   },
   {
    "duration": 62,
    "start_time": "2022-04-14T07:49:02.935Z"
   },
   {
    "duration": 136,
    "start_time": "2022-04-14T07:49:05.250Z"
   },
   {
    "duration": 104,
    "start_time": "2022-04-14T07:49:06.418Z"
   },
   {
    "duration": 9,
    "start_time": "2022-04-14T07:49:07.242Z"
   },
   {
    "duration": 11,
    "start_time": "2022-04-14T07:49:07.858Z"
   },
   {
    "duration": 89,
    "start_time": "2022-04-14T07:49:09.267Z"
   },
   {
    "duration": 26,
    "start_time": "2022-04-14T07:49:10.259Z"
   },
   {
    "duration": 37,
    "start_time": "2022-04-14T07:49:11.125Z"
   },
   {
    "duration": 30,
    "start_time": "2022-04-14T07:49:11.935Z"
   },
   {
    "duration": 39,
    "start_time": "2022-04-14T07:50:03.492Z"
   },
   {
    "duration": 32,
    "start_time": "2022-04-14T07:55:06.117Z"
   },
   {
    "duration": 36,
    "start_time": "2022-04-14T07:55:07.044Z"
   },
   {
    "duration": 191,
    "start_time": "2022-04-14T08:08:08.505Z"
   },
   {
    "duration": 57,
    "start_time": "2022-04-14T08:08:17.254Z"
   },
   {
    "duration": 3,
    "start_time": "2022-04-14T08:09:51.219Z"
   },
   {
    "duration": 219,
    "start_time": "2022-04-14T08:09:52.451Z"
   },
   {
    "duration": 189,
    "start_time": "2022-04-14T08:09:53.195Z"
   },
   {
    "duration": 126,
    "start_time": "2022-04-14T08:09:53.858Z"
   },
   {
    "duration": 53,
    "start_time": "2022-04-14T08:09:54.475Z"
   },
   {
    "duration": 43,
    "start_time": "2022-04-14T08:09:55.123Z"
   },
   {
    "duration": 76,
    "start_time": "2022-04-14T08:09:55.899Z"
   },
   {
    "duration": 88,
    "start_time": "2022-04-14T08:09:56.242Z"
   },
   {
    "duration": 5,
    "start_time": "2022-04-14T08:09:56.418Z"
   },
   {
    "duration": 10,
    "start_time": "2022-04-14T08:09:56.594Z"
   },
   {
    "duration": 47,
    "start_time": "2022-04-14T08:09:57.387Z"
   },
   {
    "duration": 25,
    "start_time": "2022-04-14T08:09:57.620Z"
   },
   {
    "duration": 27,
    "start_time": "2022-04-14T08:09:58.049Z"
   },
   {
    "duration": 36,
    "start_time": "2022-04-14T08:09:58.267Z"
   },
   {
    "duration": 22,
    "start_time": "2022-04-14T08:11:50.941Z"
   },
   {
    "duration": 26,
    "start_time": "2022-04-14T08:11:57.748Z"
   },
   {
    "duration": 36,
    "start_time": "2022-04-14T08:11:58.301Z"
   },
   {
    "duration": 25,
    "start_time": "2022-04-14T08:12:49.980Z"
   },
   {
    "duration": 37,
    "start_time": "2022-04-14T08:12:53.440Z"
   },
   {
    "duration": 27,
    "start_time": "2022-04-14T08:13:59.853Z"
   },
   {
    "duration": 26,
    "start_time": "2022-04-14T08:14:12.332Z"
   },
   {
    "duration": 39,
    "start_time": "2022-04-14T08:14:13.044Z"
   },
   {
    "duration": 37,
    "start_time": "2022-04-14T08:16:59.008Z"
   },
   {
    "duration": 39,
    "start_time": "2022-04-14T08:17:16.257Z"
   },
   {
    "duration": 41,
    "start_time": "2022-04-14T08:18:46.511Z"
   },
   {
    "duration": 37,
    "start_time": "2022-04-14T08:18:55.487Z"
   },
   {
    "duration": 35,
    "start_time": "2022-04-14T08:19:03.320Z"
   },
   {
    "duration": 35,
    "start_time": "2022-04-14T09:08:39.878Z"
   },
   {
    "duration": 36,
    "start_time": "2022-04-14T09:21:00.337Z"
   },
   {
    "duration": 56,
    "start_time": "2022-04-14T09:21:51.522Z"
   },
   {
    "duration": 3,
    "start_time": "2022-04-14T09:23:32.392Z"
   },
   {
    "duration": 9,
    "start_time": "2022-04-14T09:24:43.654Z"
   },
   {
    "duration": 62,
    "start_time": "2022-04-14T13:46:45.629Z"
   },
   {
    "duration": 18,
    "start_time": "2022-04-14T13:47:12.846Z"
   },
   {
    "duration": 68,
    "start_time": "2022-04-14T19:15:15.757Z"
   },
   {
    "duration": 1738,
    "start_time": "2022-04-14T19:15:25.414Z"
   },
   {
    "duration": 276,
    "start_time": "2022-04-14T19:15:27.155Z"
   },
   {
    "duration": 228,
    "start_time": "2022-04-14T19:15:28.192Z"
   },
   {
    "duration": 152,
    "start_time": "2022-04-14T19:15:29.372Z"
   },
   {
    "duration": 70,
    "start_time": "2022-04-14T19:15:30.396Z"
   },
   {
    "duration": 64,
    "start_time": "2022-04-14T19:15:31.271Z"
   },
   {
    "duration": 105,
    "start_time": "2022-04-14T19:15:32.440Z"
   },
   {
    "duration": 110,
    "start_time": "2022-04-14T19:15:33.141Z"
   },
   {
    "duration": 10,
    "start_time": "2022-04-14T19:15:33.401Z"
   },
   {
    "duration": 12,
    "start_time": "2022-04-14T19:15:33.677Z"
   },
   {
    "duration": 73,
    "start_time": "2022-04-14T19:15:34.343Z"
   },
   {
    "duration": 32,
    "start_time": "2022-04-14T19:15:34.579Z"
   },
   {
    "duration": 39,
    "start_time": "2022-04-14T19:15:34.822Z"
   },
   {
    "duration": 48,
    "start_time": "2022-04-14T19:15:35.000Z"
   },
   {
    "duration": 12,
    "start_time": "2022-04-14T19:15:35.500Z"
   },
   {
    "duration": 75,
    "start_time": "2022-04-14T19:15:35.762Z"
   },
   {
    "duration": 26,
    "start_time": "2022-04-14T19:15:36.000Z"
   },
   {
    "duration": 11,
    "start_time": "2022-04-14T19:15:37.372Z"
   },
   {
    "duration": 42,
    "start_time": "2022-04-14T19:16:33.907Z"
   },
   {
    "duration": 44,
    "start_time": "2022-04-14T20:34:05.753Z"
   },
   {
    "duration": 16,
    "start_time": "2022-04-14T20:34:21.706Z"
   },
   {
    "duration": 29,
    "start_time": "2022-04-14T20:34:39.002Z"
   },
   {
    "duration": 41,
    "start_time": "2022-04-14T20:35:16.724Z"
   },
   {
    "duration": 54,
    "start_time": "2022-04-15T10:54:38.773Z"
   },
   {
    "duration": 1574,
    "start_time": "2022-04-15T10:55:30.908Z"
   },
   {
    "duration": 237,
    "start_time": "2022-04-15T10:55:34.053Z"
   },
   {
    "duration": 208,
    "start_time": "2022-04-15T10:55:35.661Z"
   },
   {
    "duration": 137,
    "start_time": "2022-04-15T10:55:37.212Z"
   },
   {
    "duration": 47,
    "start_time": "2022-04-15T10:55:38.613Z"
   },
   {
    "duration": 43,
    "start_time": "2022-04-15T10:55:40.332Z"
   },
   {
    "duration": 86,
    "start_time": "2022-04-15T10:55:42.182Z"
   },
   {
    "duration": 91,
    "start_time": "2022-04-15T10:55:43.109Z"
   },
   {
    "duration": 9,
    "start_time": "2022-04-15T10:55:43.813Z"
   },
   {
    "duration": 12,
    "start_time": "2022-04-15T10:55:44.381Z"
   },
   {
    "duration": 66,
    "start_time": "2022-04-15T10:55:46.246Z"
   },
   {
    "duration": 27,
    "start_time": "2022-04-15T10:55:46.781Z"
   },
   {
    "duration": 31,
    "start_time": "2022-04-15T10:55:47.388Z"
   },
   {
    "duration": 39,
    "start_time": "2022-04-15T10:55:47.870Z"
   },
   {
    "duration": 10,
    "start_time": "2022-04-15T10:55:48.910Z"
   },
   {
    "duration": 50,
    "start_time": "2022-04-15T10:55:49.814Z"
   },
   {
    "duration": 20,
    "start_time": "2022-04-15T10:55:50.373Z"
   },
   {
    "duration": 10,
    "start_time": "2022-04-15T10:55:53.229Z"
   },
   {
    "duration": 31,
    "start_time": "2022-04-15T10:55:53.790Z"
   },
   {
    "duration": 9,
    "start_time": "2022-04-15T10:55:54.720Z"
   },
   {
    "duration": 9,
    "start_time": "2022-04-15T10:56:47.358Z"
   },
   {
    "duration": 8,
    "start_time": "2022-04-15T11:20:41.336Z"
   },
   {
    "duration": 183,
    "start_time": "2022-04-15T11:20:53.439Z"
   },
   {
    "duration": 6,
    "start_time": "2022-04-15T11:21:20.664Z"
   },
   {
    "duration": 8,
    "start_time": "2022-04-15T11:23:32.568Z"
   },
   {
    "duration": 8,
    "start_time": "2022-04-15T11:23:41.634Z"
   },
   {
    "duration": 150,
    "start_time": "2022-04-15T11:28:22.107Z"
   },
   {
    "duration": 145,
    "start_time": "2022-04-15T11:28:28.383Z"
   },
   {
    "duration": 7,
    "start_time": "2022-04-15T11:29:42.323Z"
   },
   {
    "duration": 163,
    "start_time": "2022-04-15T11:32:23.884Z"
   },
   {
    "duration": 7,
    "start_time": "2022-04-15T11:32:39.532Z"
   },
   {
    "duration": 6,
    "start_time": "2022-04-15T11:39:37.584Z"
   },
   {
    "duration": 7,
    "start_time": "2022-04-15T11:40:00.895Z"
   },
   {
    "duration": 75,
    "start_time": "2022-04-15T11:40:15.391Z"
   },
   {
    "duration": 9,
    "start_time": "2022-04-15T11:40:21.919Z"
   },
   {
    "duration": 7,
    "start_time": "2022-04-15T11:49:50.187Z"
   },
   {
    "duration": 7,
    "start_time": "2022-04-15T11:49:55.042Z"
   },
   {
    "duration": 7,
    "start_time": "2022-04-15T11:50:09.650Z"
   },
   {
    "duration": 7,
    "start_time": "2022-04-15T12:29:08.110Z"
   },
   {
    "duration": 6,
    "start_time": "2022-04-15T12:41:32.660Z"
   },
   {
    "duration": 339,
    "start_time": "2022-04-15T12:42:57.200Z"
   },
   {
    "duration": 264,
    "start_time": "2022-04-15T12:43:14.697Z"
   },
   {
    "duration": 230,
    "start_time": "2022-04-15T12:44:41.498Z"
   },
   {
    "duration": 321,
    "start_time": "2022-04-15T12:45:45.762Z"
   },
   {
    "duration": 319,
    "start_time": "2022-04-15T12:46:23.690Z"
   },
   {
    "duration": 385,
    "start_time": "2022-04-15T12:50:39.797Z"
   },
   {
    "duration": 261,
    "start_time": "2022-04-15T12:50:57.794Z"
   },
   {
    "duration": 4,
    "start_time": "2022-04-15T12:52:06.269Z"
   },
   {
    "duration": 231,
    "start_time": "2022-04-15T12:52:22.220Z"
   },
   {
    "duration": 213,
    "start_time": "2022-04-15T12:53:19.764Z"
   },
   {
    "duration": 157,
    "start_time": "2022-04-15T12:53:43.850Z"
   },
   {
    "duration": 157,
    "start_time": "2022-04-15T12:53:54.552Z"
   },
   {
    "duration": 161,
    "start_time": "2022-04-15T12:56:09.819Z"
   },
   {
    "duration": 19,
    "start_time": "2022-04-15T12:58:18.310Z"
   },
   {
    "duration": 6,
    "start_time": "2022-04-15T13:00:05.752Z"
   },
   {
    "duration": 145,
    "start_time": "2022-04-15T13:02:24.682Z"
   },
   {
    "duration": 187,
    "start_time": "2022-04-15T13:02:43.092Z"
   },
   {
    "duration": 16,
    "start_time": "2022-04-15T13:05:34.794Z"
   },
   {
    "duration": 19,
    "start_time": "2022-04-15T13:05:45.828Z"
   },
   {
    "duration": 10,
    "start_time": "2022-04-15T13:11:10.397Z"
   },
   {
    "duration": 16,
    "start_time": "2022-04-15T13:11:26.668Z"
   },
   {
    "duration": 21,
    "start_time": "2022-04-15T13:13:54.938Z"
   },
   {
    "duration": 199,
    "start_time": "2022-04-15T13:19:27.978Z"
   },
   {
    "duration": 143,
    "start_time": "2022-04-15T13:20:07.592Z"
   },
   {
    "duration": 28,
    "start_time": "2022-04-15T14:13:01.567Z"
   },
   {
    "duration": 149,
    "start_time": "2022-04-15T14:13:51.569Z"
   },
   {
    "duration": 243,
    "start_time": "2022-04-15T14:14:18.144Z"
   },
   {
    "duration": 143,
    "start_time": "2022-04-15T14:14:48.152Z"
   },
   {
    "duration": 384,
    "start_time": "2022-04-15T14:14:57.041Z"
   },
   {
    "duration": 165,
    "start_time": "2022-04-15T14:15:17.018Z"
   },
   {
    "duration": 333,
    "start_time": "2022-04-15T14:15:39.153Z"
   },
   {
    "duration": 350,
    "start_time": "2022-04-15T14:16:21.404Z"
   },
   {
    "duration": 215,
    "start_time": "2022-04-15T14:17:09.636Z"
   },
   {
    "duration": 296,
    "start_time": "2022-04-15T14:17:17.081Z"
   },
   {
    "duration": 252,
    "start_time": "2022-04-15T14:17:26.495Z"
   },
   {
    "duration": 249,
    "start_time": "2022-04-15T14:18:12.507Z"
   },
   {
    "duration": 179,
    "start_time": "2022-04-15T14:18:48.178Z"
   },
   {
    "duration": 347,
    "start_time": "2022-04-15T14:18:54.546Z"
   },
   {
    "duration": 1441,
    "start_time": "2022-04-16T12:02:29.695Z"
   },
   {
    "duration": 221,
    "start_time": "2022-04-16T12:02:32.461Z"
   },
   {
    "duration": 194,
    "start_time": "2022-04-16T12:02:34.950Z"
   },
   {
    "duration": 122,
    "start_time": "2022-04-16T12:02:36.689Z"
   },
   {
    "duration": 49,
    "start_time": "2022-04-16T12:02:38.497Z"
   },
   {
    "duration": 52,
    "start_time": "2022-04-16T12:02:40.344Z"
   },
   {
    "duration": 81,
    "start_time": "2022-04-16T12:02:42.796Z"
   },
   {
    "duration": 81,
    "start_time": "2022-04-16T12:02:44.018Z"
   },
   {
    "duration": 7,
    "start_time": "2022-04-16T12:02:44.741Z"
   },
   {
    "duration": 11,
    "start_time": "2022-04-16T12:02:45.343Z"
   },
   {
    "duration": 61,
    "start_time": "2022-04-16T12:02:47.330Z"
   },
   {
    "duration": 24,
    "start_time": "2022-04-16T12:02:48.278Z"
   },
   {
    "duration": 28,
    "start_time": "2022-04-16T12:02:48.925Z"
   },
   {
    "duration": 31,
    "start_time": "2022-04-16T12:02:49.502Z"
   },
   {
    "duration": 9,
    "start_time": "2022-04-16T12:02:50.784Z"
   },
   {
    "duration": 44,
    "start_time": "2022-04-16T12:02:51.419Z"
   },
   {
    "duration": 20,
    "start_time": "2022-04-16T12:02:52.017Z"
   },
   {
    "duration": 11,
    "start_time": "2022-04-16T12:02:54.895Z"
   },
   {
    "duration": 38,
    "start_time": "2022-04-16T12:02:55.985Z"
   },
   {
    "duration": 7,
    "start_time": "2022-04-16T12:02:56.851Z"
   },
   {
    "duration": 6,
    "start_time": "2022-04-16T12:02:57.817Z"
   },
   {
    "duration": 6,
    "start_time": "2022-04-16T12:02:59.132Z"
   },
   {
    "duration": 184,
    "start_time": "2022-04-16T12:03:00.643Z"
   },
   {
    "duration": 29,
    "start_time": "2022-04-16T12:22:44.486Z"
   },
   {
    "duration": 15,
    "start_time": "2022-04-16T12:23:03.783Z"
   },
   {
    "duration": 101,
    "start_time": "2022-04-16T12:23:57.492Z"
   },
   {
    "duration": 37,
    "start_time": "2022-04-16T12:24:03.526Z"
   },
   {
    "duration": 17,
    "start_time": "2022-04-16T12:31:13.454Z"
   },
   {
    "duration": 9,
    "start_time": "2022-04-16T12:42:16.405Z"
   },
   {
    "duration": 8,
    "start_time": "2022-04-16T12:42:48.497Z"
   },
   {
    "duration": 10,
    "start_time": "2022-04-16T12:43:37.507Z"
   },
   {
    "duration": 64,
    "start_time": "2022-04-16T12:47:09.491Z"
   },
   {
    "duration": 842,
    "start_time": "2022-04-16T12:55:16.870Z"
   },
   {
    "duration": 38,
    "start_time": "2022-04-16T13:09:22.816Z"
   },
   {
    "duration": 762,
    "start_time": "2022-04-16T13:09:27.067Z"
   },
   {
    "duration": 41,
    "start_time": "2022-04-16T13:51:42.770Z"
   },
   {
    "duration": 814,
    "start_time": "2022-04-16T13:57:23.427Z"
   },
   {
    "duration": 110,
    "start_time": "2022-04-16T13:59:47.786Z"
   },
   {
    "duration": 790,
    "start_time": "2022-04-16T14:00:23.472Z"
   },
   {
    "duration": 809,
    "start_time": "2022-04-16T14:00:45.008Z"
   },
   {
    "duration": 779,
    "start_time": "2022-04-16T14:01:43.118Z"
   },
   {
    "duration": 918,
    "start_time": "2022-04-16T14:04:49.151Z"
   },
   {
    "duration": 47,
    "start_time": "2022-04-17T09:11:15.755Z"
   },
   {
    "duration": 1297,
    "start_time": "2022-04-17T09:11:33.809Z"
   },
   {
    "duration": 221,
    "start_time": "2022-04-17T09:11:35.298Z"
   },
   {
    "duration": 185,
    "start_time": "2022-04-17T09:11:37.191Z"
   },
   {
    "duration": 115,
    "start_time": "2022-04-17T09:11:38.509Z"
   },
   {
    "duration": 45,
    "start_time": "2022-04-17T09:11:39.616Z"
   },
   {
    "duration": 49,
    "start_time": "2022-04-17T09:11:40.691Z"
   },
   {
    "duration": 79,
    "start_time": "2022-04-17T09:11:42.128Z"
   },
   {
    "duration": 81,
    "start_time": "2022-04-17T09:11:42.803Z"
   },
   {
    "duration": 7,
    "start_time": "2022-04-17T09:11:43.106Z"
   },
   {
    "duration": 12,
    "start_time": "2022-04-17T09:11:43.395Z"
   },
   {
    "duration": 59,
    "start_time": "2022-04-17T09:11:44.533Z"
   },
   {
    "duration": 24,
    "start_time": "2022-04-17T09:11:44.858Z"
   },
   {
    "duration": 27,
    "start_time": "2022-04-17T09:11:45.152Z"
   },
   {
    "duration": 30,
    "start_time": "2022-04-17T09:11:45.480Z"
   },
   {
    "duration": 9,
    "start_time": "2022-04-17T09:11:46.198Z"
   },
   {
    "duration": 45,
    "start_time": "2022-04-17T09:11:46.525Z"
   },
   {
    "duration": 17,
    "start_time": "2022-04-17T09:11:46.873Z"
   },
   {
    "duration": 35,
    "start_time": "2022-04-17T09:11:48.184Z"
   },
   {
    "duration": 859,
    "start_time": "2022-04-17T09:11:48.875Z"
   },
   {
    "duration": 70,
    "start_time": "2022-04-17T09:11:50.051Z"
   },
   {
    "duration": 28,
    "start_time": "2022-04-17T09:13:14.667Z"
   },
   {
    "duration": 262,
    "start_time": "2022-04-17T09:15:02.359Z"
   },
   {
    "duration": 1031,
    "start_time": "2022-04-17T09:29:30.609Z"
   },
   {
    "duration": 27,
    "start_time": "2022-04-17T09:29:46.601Z"
   },
   {
    "duration": 350,
    "start_time": "2022-04-17T09:29:47.375Z"
   },
   {
    "duration": 36,
    "start_time": "2022-04-17T09:31:54.248Z"
   },
   {
    "duration": 1022,
    "start_time": "2022-04-17T09:32:05.558Z"
   },
   {
    "duration": 27,
    "start_time": "2022-04-17T09:32:07.142Z"
   },
   {
    "duration": 331,
    "start_time": "2022-04-17T09:32:07.922Z"
   },
   {
    "duration": 28,
    "start_time": "2022-04-17T09:32:47.225Z"
   },
   {
    "duration": 35,
    "start_time": "2022-04-17T09:34:53.275Z"
   },
   {
    "duration": 26,
    "start_time": "2022-04-17T09:34:54.277Z"
   },
   {
    "duration": 1005,
    "start_time": "2022-04-17T09:34:55.747Z"
   },
   {
    "duration": 3,
    "start_time": "2022-04-17T09:37:38.733Z"
   },
   {
    "duration": 205,
    "start_time": "2022-04-17T09:37:39.750Z"
   },
   {
    "duration": 176,
    "start_time": "2022-04-17T09:37:40.599Z"
   },
   {
    "duration": 120,
    "start_time": "2022-04-17T09:37:41.364Z"
   },
   {
    "duration": 45,
    "start_time": "2022-04-17T09:37:42.006Z"
   },
   {
    "duration": 46,
    "start_time": "2022-04-17T09:37:42.633Z"
   },
   {
    "duration": 67,
    "start_time": "2022-04-17T09:37:43.431Z"
   },
   {
    "duration": 165,
    "start_time": "2022-04-17T09:37:43.896Z"
   },
   {
    "duration": 5,
    "start_time": "2022-04-17T09:37:44.141Z"
   },
   {
    "duration": 9,
    "start_time": "2022-04-17T09:37:44.337Z"
   },
   {
    "duration": 53,
    "start_time": "2022-04-17T09:37:44.941Z"
   },
   {
    "duration": 22,
    "start_time": "2022-04-17T09:37:45.134Z"
   },
   {
    "duration": 25,
    "start_time": "2022-04-17T09:37:45.326Z"
   },
   {
    "duration": 30,
    "start_time": "2022-04-17T09:37:45.582Z"
   },
   {
    "duration": 9,
    "start_time": "2022-04-17T09:37:45.933Z"
   },
   {
    "duration": 43,
    "start_time": "2022-04-17T09:37:46.154Z"
   },
   {
    "duration": 16,
    "start_time": "2022-04-17T09:37:46.361Z"
   },
   {
    "duration": 35,
    "start_time": "2022-04-17T09:37:47.274Z"
   },
   {
    "duration": 28,
    "start_time": "2022-04-17T09:37:47.801Z"
   },
   {
    "duration": 986,
    "start_time": "2022-04-17T09:37:48.364Z"
   },
   {
    "duration": 41,
    "start_time": "2022-04-17T09:58:19.571Z"
   },
   {
    "duration": 15,
    "start_time": "2022-04-17T10:25:29.261Z"
   },
   {
    "duration": 20,
    "start_time": "2022-04-17T10:27:12.644Z"
   },
   {
    "duration": 8,
    "start_time": "2022-04-17T10:30:22.649Z"
   },
   {
    "duration": 4,
    "start_time": "2022-04-17T10:30:32.824Z"
   },
   {
    "duration": 1933,
    "start_time": "2022-04-17T11:05:05.994Z"
   },
   {
    "duration": 0,
    "start_time": "2022-04-17T11:05:07.929Z"
   },
   {
    "duration": 0,
    "start_time": "2022-04-17T11:05:07.931Z"
   },
   {
    "duration": 23,
    "start_time": "2022-04-17T11:05:08.266Z"
   },
   {
    "duration": 26,
    "start_time": "2022-04-17T11:05:08.718Z"
   },
   {
    "duration": 34,
    "start_time": "2022-04-17T11:05:09.152Z"
   },
   {
    "duration": 9,
    "start_time": "2022-04-17T11:05:09.906Z"
   },
   {
    "duration": 67,
    "start_time": "2022-04-17T11:05:10.261Z"
   },
   {
    "duration": 18,
    "start_time": "2022-04-17T11:05:10.535Z"
   },
   {
    "duration": 35,
    "start_time": "2022-04-17T11:05:11.672Z"
   },
   {
    "duration": 26,
    "start_time": "2022-04-17T11:05:13.916Z"
   },
   {
    "duration": 1148,
    "start_time": "2022-04-17T11:05:15.814Z"
   },
   {
    "duration": 27,
    "start_time": "2022-04-17T11:06:52.442Z"
   },
   {
    "duration": 1847,
    "start_time": "2022-04-17T11:26:44.823Z"
   },
   {
    "duration": 5,
    "start_time": "2022-04-17T11:35:07.833Z"
   },
   {
    "duration": 8,
    "start_time": "2022-04-17T11:35:10.582Z"
   },
   {
    "duration": 48,
    "start_time": "2022-04-17T11:35:11.549Z"
   },
   {
    "duration": 20,
    "start_time": "2022-04-17T11:35:11.797Z"
   },
   {
    "duration": 23,
    "start_time": "2022-04-17T11:35:12.063Z"
   },
   {
    "duration": 31,
    "start_time": "2022-04-17T11:35:12.331Z"
   },
   {
    "duration": 9,
    "start_time": "2022-04-17T11:35:12.781Z"
   },
   {
    "duration": 45,
    "start_time": "2022-04-17T11:35:13.063Z"
   },
   {
    "duration": 18,
    "start_time": "2022-04-17T11:35:13.333Z"
   },
   {
    "duration": 34,
    "start_time": "2022-04-17T11:35:14.449Z"
   },
   {
    "duration": 25,
    "start_time": "2022-04-17T11:35:14.933Z"
   },
   {
    "duration": 1087,
    "start_time": "2022-04-17T11:35:15.943Z"
   },
   {
    "duration": 1035,
    "start_time": "2022-04-17T11:36:03.488Z"
   },
   {
    "duration": 1123,
    "start_time": "2022-04-17T11:36:25.718Z"
   },
   {
    "duration": 1059,
    "start_time": "2022-04-17T11:38:01.652Z"
   },
   {
    "duration": 1106,
    "start_time": "2022-04-17T11:38:05.500Z"
   },
   {
    "duration": 1124,
    "start_time": "2022-04-17T11:41:50.614Z"
   },
   {
    "duration": 1160,
    "start_time": "2022-04-17T11:42:01.790Z"
   },
   {
    "duration": 952,
    "start_time": "2022-04-17T11:42:41.767Z"
   },
   {
    "duration": 1202,
    "start_time": "2022-04-17T11:44:00.771Z"
   },
   {
    "duration": 1031,
    "start_time": "2022-04-17T11:44:13.235Z"
   },
   {
    "duration": 970,
    "start_time": "2022-04-17T11:46:48.381Z"
   },
   {
    "duration": 3,
    "start_time": "2022-04-17T13:16:15.553Z"
   },
   {
    "duration": 207,
    "start_time": "2022-04-17T13:16:17.377Z"
   },
   {
    "duration": 177,
    "start_time": "2022-04-17T13:16:18.910Z"
   },
   {
    "duration": 127,
    "start_time": "2022-04-17T13:16:20.571Z"
   },
   {
    "duration": 144,
    "start_time": "2022-04-17T13:16:22.265Z"
   },
   {
    "duration": 45,
    "start_time": "2022-04-17T13:16:23.499Z"
   },
   {
    "duration": 85,
    "start_time": "2022-04-17T13:16:24.939Z"
   },
   {
    "duration": 79,
    "start_time": "2022-04-17T13:16:25.676Z"
   },
   {
    "duration": 6,
    "start_time": "2022-04-17T13:16:26.029Z"
   },
   {
    "duration": 9,
    "start_time": "2022-04-17T13:16:26.335Z"
   },
   {
    "duration": 54,
    "start_time": "2022-04-17T13:16:27.263Z"
   },
   {
    "duration": 23,
    "start_time": "2022-04-17T13:16:27.555Z"
   },
   {
    "duration": 29,
    "start_time": "2022-04-17T13:16:27.803Z"
   },
   {
    "duration": 32,
    "start_time": "2022-04-17T13:16:28.078Z"
   },
   {
    "duration": 9,
    "start_time": "2022-04-17T13:16:28.637Z"
   },
   {
    "duration": 47,
    "start_time": "2022-04-17T13:16:28.949Z"
   },
   {
    "duration": 24,
    "start_time": "2022-04-17T13:16:29.426Z"
   },
   {
    "duration": 44,
    "start_time": "2022-04-17T13:16:32.360Z"
   },
   {
    "duration": 29,
    "start_time": "2022-04-17T13:16:33.501Z"
   },
   {
    "duration": 969,
    "start_time": "2022-04-17T13:16:36.730Z"
   },
   {
    "duration": 3,
    "start_time": "2022-04-17T13:48:53.343Z"
   },
   {
    "duration": 11,
    "start_time": "2022-04-17T13:55:27.298Z"
   },
   {
    "duration": 1722,
    "start_time": "2022-04-17T13:56:41.799Z"
   },
   {
    "duration": 2385,
    "start_time": "2022-04-17T13:57:52.473Z"
   },
   {
    "duration": 1270,
    "start_time": "2022-04-17T13:58:13.544Z"
   },
   {
    "duration": 8,
    "start_time": "2022-04-17T14:00:45.464Z"
   },
   {
    "duration": 9,
    "start_time": "2022-04-17T14:15:32.305Z"
   },
   {
    "duration": 9,
    "start_time": "2022-04-17T14:18:20.760Z"
   },
   {
    "duration": 9,
    "start_time": "2022-04-17T14:18:33.623Z"
   },
   {
    "duration": 9,
    "start_time": "2022-04-17T14:21:45.190Z"
   },
   {
    "duration": 9,
    "start_time": "2022-04-17T14:21:49.965Z"
   },
   {
    "duration": 5,
    "start_time": "2022-04-17T14:33:29.630Z"
   },
   {
    "duration": 9,
    "start_time": "2022-04-17T14:33:30.454Z"
   },
   {
    "duration": 140,
    "start_time": "2022-04-17T14:33:31.795Z"
   },
   {
    "duration": 21,
    "start_time": "2022-04-17T14:33:32.123Z"
   },
   {
    "duration": 23,
    "start_time": "2022-04-17T14:33:32.435Z"
   },
   {
    "duration": 30,
    "start_time": "2022-04-17T14:33:32.720Z"
   },
   {
    "duration": 9,
    "start_time": "2022-04-17T14:33:33.154Z"
   },
   {
    "duration": 53,
    "start_time": "2022-04-17T14:33:33.469Z"
   },
   {
    "duration": 19,
    "start_time": "2022-04-17T14:33:33.670Z"
   },
   {
    "duration": 41,
    "start_time": "2022-04-17T14:33:35.564Z"
   },
   {
    "duration": 32,
    "start_time": "2022-04-17T14:33:36.366Z"
   },
   {
    "duration": 4,
    "start_time": "2022-04-17T14:34:03.521Z"
   },
   {
    "duration": 222,
    "start_time": "2022-04-17T14:34:04.572Z"
   },
   {
    "duration": 182,
    "start_time": "2022-04-17T14:34:06.369Z"
   },
   {
    "duration": 127,
    "start_time": "2022-04-17T14:34:08.184Z"
   },
   {
    "duration": 46,
    "start_time": "2022-04-17T14:34:11.033Z"
   },
   {
    "duration": 50,
    "start_time": "2022-04-17T14:34:13.047Z"
   },
   {
    "duration": 72,
    "start_time": "2022-04-17T14:34:14.310Z"
   },
   {
    "duration": 84,
    "start_time": "2022-04-17T14:34:14.712Z"
   },
   {
    "duration": 7,
    "start_time": "2022-04-17T14:34:14.987Z"
   },
   {
    "duration": 9,
    "start_time": "2022-04-17T14:34:15.257Z"
   },
   {
    "duration": 46,
    "start_time": "2022-04-17T14:34:23.678Z"
   },
   {
    "duration": 24,
    "start_time": "2022-04-17T14:34:24.421Z"
   },
   {
    "duration": 28,
    "start_time": "2022-04-17T14:34:25.029Z"
   },
   {
    "duration": 32,
    "start_time": "2022-04-17T14:34:25.638Z"
   },
   {
    "duration": 10,
    "start_time": "2022-04-17T14:34:26.559Z"
   },
   {
    "duration": 45,
    "start_time": "2022-04-17T14:34:26.918Z"
   },
   {
    "duration": 18,
    "start_time": "2022-04-17T14:34:27.354Z"
   },
   {
    "duration": 38,
    "start_time": "2022-04-17T14:34:28.664Z"
   },
   {
    "duration": 28,
    "start_time": "2022-04-17T14:34:29.292Z"
   },
   {
    "duration": 980,
    "start_time": "2022-04-17T14:34:30.658Z"
   },
   {
    "duration": 8,
    "start_time": "2022-04-17T14:34:34.558Z"
   },
   {
    "duration": 8,
    "start_time": "2022-04-17T14:34:36.941Z"
   },
   {
    "duration": 12,
    "start_time": "2022-04-17T15:29:20.555Z"
   },
   {
    "duration": 37,
    "start_time": "2022-04-17T15:29:28.534Z"
   },
   {
    "duration": 23,
    "start_time": "2022-04-17T15:35:30.860Z"
   },
   {
    "duration": 23,
    "start_time": "2022-04-17T15:35:35.745Z"
   },
   {
    "duration": 30,
    "start_time": "2022-04-17T15:35:38.448Z"
   },
   {
    "duration": 8,
    "start_time": "2022-04-17T15:35:39.526Z"
   },
   {
    "duration": 45,
    "start_time": "2022-04-17T15:35:39.810Z"
   },
   {
    "duration": 16,
    "start_time": "2022-04-17T15:35:40.273Z"
   },
   {
    "duration": 35,
    "start_time": "2022-04-17T15:35:42.322Z"
   },
   {
    "duration": 6,
    "start_time": "2022-04-17T15:37:15.345Z"
   },
   {
    "duration": 40,
    "start_time": "2022-04-17T15:37:16.742Z"
   },
   {
    "duration": 21,
    "start_time": "2022-04-17T15:37:18.605Z"
   },
   {
    "duration": 22,
    "start_time": "2022-04-17T15:37:19.788Z"
   },
   {
    "duration": 31,
    "start_time": "2022-04-17T15:37:21.765Z"
   },
   {
    "duration": 9,
    "start_time": "2022-04-17T15:37:22.444Z"
   },
   {
    "duration": 50,
    "start_time": "2022-04-17T15:37:22.986Z"
   },
   {
    "duration": 18,
    "start_time": "2022-04-17T15:37:23.646Z"
   },
   {
    "duration": 34,
    "start_time": "2022-04-17T15:37:28.628Z"
   },
   {
    "duration": 31,
    "start_time": "2022-04-17T15:38:27.980Z"
   },
   {
    "duration": 34,
    "start_time": "2022-04-17T15:38:59.303Z"
   },
   {
    "duration": 15,
    "start_time": "2022-04-17T15:39:18.357Z"
   },
   {
    "duration": 40,
    "start_time": "2022-04-17T15:39:28.953Z"
   },
   {
    "duration": 18,
    "start_time": "2022-04-17T15:39:43.102Z"
   },
   {
    "duration": 20,
    "start_time": "2022-04-17T15:39:49.470Z"
   },
   {
    "duration": 20,
    "start_time": "2022-04-17T15:40:02.730Z"
   },
   {
    "duration": 17,
    "start_time": "2022-04-17T15:40:06.480Z"
   },
   {
    "duration": 31,
    "start_time": "2022-04-17T15:43:27.145Z"
   },
   {
    "duration": 32,
    "start_time": "2022-04-17T15:43:37.798Z"
   },
   {
    "duration": 3,
    "start_time": "2022-04-17T15:45:50.704Z"
   },
   {
    "duration": 7,
    "start_time": "2022-04-17T15:45:51.351Z"
   },
   {
    "duration": 41,
    "start_time": "2022-04-17T15:45:52.178Z"
   },
   {
    "duration": 21,
    "start_time": "2022-04-17T15:45:52.520Z"
   },
   {
    "duration": 23,
    "start_time": "2022-04-17T15:45:54.066Z"
   },
   {
    "duration": 34,
    "start_time": "2022-04-17T15:45:56.031Z"
   },
   {
    "duration": 10,
    "start_time": "2022-04-17T15:45:57.179Z"
   },
   {
    "duration": 46,
    "start_time": "2022-04-17T15:45:58.057Z"
   },
   {
    "duration": 17,
    "start_time": "2022-04-17T15:45:58.962Z"
   },
   {
    "duration": 40,
    "start_time": "2022-04-17T15:46:01.980Z"
   },
   {
    "duration": 5,
    "start_time": "2022-04-17T15:47:00.848Z"
   },
   {
    "duration": 8,
    "start_time": "2022-04-17T15:47:01.917Z"
   },
   {
    "duration": 43,
    "start_time": "2022-04-17T15:47:02.662Z"
   },
   {
    "duration": 21,
    "start_time": "2022-04-17T15:47:02.887Z"
   },
   {
    "duration": 23,
    "start_time": "2022-04-17T15:47:03.130Z"
   },
   {
    "duration": 31,
    "start_time": "2022-04-17T15:47:03.379Z"
   },
   {
    "duration": 9,
    "start_time": "2022-04-17T15:47:03.873Z"
   },
   {
    "duration": 46,
    "start_time": "2022-04-17T15:47:04.122Z"
   },
   {
    "duration": 18,
    "start_time": "2022-04-17T15:47:04.787Z"
   },
   {
    "duration": 36,
    "start_time": "2022-04-17T15:47:06.816Z"
   },
   {
    "duration": 13,
    "start_time": "2022-04-17T15:49:15.393Z"
   },
   {
    "duration": 5,
    "start_time": "2022-04-17T15:50:29.951Z"
   },
   {
    "duration": 5,
    "start_time": "2022-04-17T15:50:34.293Z"
   },
   {
    "duration": 45,
    "start_time": "2022-04-17T15:50:35.302Z"
   },
   {
    "duration": 22,
    "start_time": "2022-04-17T15:50:38.139Z"
   },
   {
    "duration": 23,
    "start_time": "2022-04-17T15:50:39.053Z"
   },
   {
    "duration": 36,
    "start_time": "2022-04-17T15:50:43.696Z"
   },
   {
    "duration": 9,
    "start_time": "2022-04-17T15:50:44.626Z"
   },
   {
    "duration": 46,
    "start_time": "2022-04-17T15:50:45.609Z"
   },
   {
    "duration": 18,
    "start_time": "2022-04-17T15:50:46.163Z"
   },
   {
    "duration": 34,
    "start_time": "2022-04-17T15:50:48.266Z"
   },
   {
    "duration": 34,
    "start_time": "2022-04-17T15:52:57.619Z"
   },
   {
    "duration": 26,
    "start_time": "2022-04-17T15:52:59.270Z"
   },
   {
    "duration": 1113,
    "start_time": "2022-04-17T15:53:00.953Z"
   },
   {
    "duration": 2466,
    "start_time": "2022-04-17T19:32:01.180Z"
   },
   {
    "duration": 399,
    "start_time": "2022-04-17T19:32:03.650Z"
   },
   {
    "duration": 350,
    "start_time": "2022-04-17T19:32:04.906Z"
   },
   {
    "duration": 226,
    "start_time": "2022-04-17T19:32:06.772Z"
   },
   {
    "duration": 85,
    "start_time": "2022-04-17T19:32:08.631Z"
   },
   {
    "duration": 81,
    "start_time": "2022-04-17T19:32:10.365Z"
   },
   {
    "duration": 174,
    "start_time": "2022-04-17T19:32:12.976Z"
   },
   {
    "duration": 171,
    "start_time": "2022-04-17T19:32:14.248Z"
   },
   {
    "duration": 14,
    "start_time": "2022-04-17T19:32:14.867Z"
   },
   {
    "duration": 11,
    "start_time": "2022-04-17T19:32:15.442Z"
   },
   {
    "duration": 110,
    "start_time": "2022-04-17T19:32:17.043Z"
   },
   {
    "duration": 47,
    "start_time": "2022-04-17T19:32:17.642Z"
   },
   {
    "duration": 50,
    "start_time": "2022-04-17T19:32:18.290Z"
   },
   {
    "duration": 68,
    "start_time": "2022-04-17T19:32:18.893Z"
   },
   {
    "duration": 14,
    "start_time": "2022-04-17T19:32:19.938Z"
   },
   {
    "duration": 85,
    "start_time": "2022-04-17T19:32:20.565Z"
   },
   {
    "duration": 30,
    "start_time": "2022-04-17T19:32:21.192Z"
   },
   {
    "duration": 54,
    "start_time": "2022-04-17T19:32:23.364Z"
   },
   {
    "duration": 39,
    "start_time": "2022-04-17T19:32:25.059Z"
   },
   {
    "duration": 1721,
    "start_time": "2022-04-17T19:32:27.023Z"
   },
   {
    "duration": 11,
    "start_time": "2022-04-17T19:32:29.880Z"
   },
   {
    "duration": 10,
    "start_time": "2022-04-17T19:32:32.273Z"
   },
   {
    "duration": 11,
    "start_time": "2022-04-17T19:33:01.159Z"
   },
   {
    "duration": 12,
    "start_time": "2022-04-17T19:33:07.259Z"
   },
   {
    "duration": 11,
    "start_time": "2022-04-17T19:33:10.809Z"
   },
   {
    "duration": 4,
    "start_time": "2022-04-17T20:34:23.736Z"
   },
   {
    "duration": 267,
    "start_time": "2022-04-17T20:34:25.893Z"
   },
   {
    "duration": 225,
    "start_time": "2022-04-17T20:34:27.707Z"
   },
   {
    "duration": 156,
    "start_time": "2022-04-17T20:34:28.668Z"
   },
   {
    "duration": 65,
    "start_time": "2022-04-17T20:34:29.974Z"
   },
   {
    "duration": 61,
    "start_time": "2022-04-17T20:34:31.821Z"
   },
   {
    "duration": 108,
    "start_time": "2022-04-17T20:34:34.532Z"
   },
   {
    "duration": 118,
    "start_time": "2022-04-17T20:34:35.836Z"
   },
   {
    "duration": 7,
    "start_time": "2022-04-17T20:34:36.765Z"
   },
   {
    "duration": 7,
    "start_time": "2022-04-17T20:34:37.632Z"
   },
   {
    "duration": 74,
    "start_time": "2022-04-17T20:34:39.819Z"
   },
   {
    "duration": 30,
    "start_time": "2022-04-17T20:34:40.754Z"
   },
   {
    "duration": 40,
    "start_time": "2022-04-17T20:34:41.559Z"
   },
   {
    "duration": 49,
    "start_time": "2022-04-17T20:34:42.382Z"
   },
   {
    "duration": 13,
    "start_time": "2022-04-17T20:34:43.817Z"
   },
   {
    "duration": 82,
    "start_time": "2022-04-17T20:34:44.410Z"
   },
   {
    "duration": 27,
    "start_time": "2022-04-17T20:34:45.629Z"
   },
   {
    "duration": 58,
    "start_time": "2022-04-17T20:34:48.726Z"
   },
   {
    "duration": 41,
    "start_time": "2022-04-17T20:34:50.359Z"
   },
   {
    "duration": 1739,
    "start_time": "2022-04-17T20:34:56.373Z"
   },
   {
    "duration": 10,
    "start_time": "2022-04-17T20:35:02.205Z"
   },
   {
    "duration": 11,
    "start_time": "2022-04-17T20:35:04.745Z"
   },
   {
    "duration": 3182,
    "start_time": "2022-04-26T13:13:18.713Z"
   },
   {
    "duration": 839,
    "start_time": "2022-04-26T13:13:21.901Z"
   },
   {
    "duration": 513,
    "start_time": "2022-04-26T13:13:22.797Z"
   },
   {
    "duration": 380,
    "start_time": "2022-04-26T13:13:23.314Z"
   },
   {
    "duration": 124,
    "start_time": "2022-04-26T13:13:23.697Z"
   },
   {
    "duration": 111,
    "start_time": "2022-04-26T13:13:23.823Z"
   },
   {
    "duration": 278,
    "start_time": "2022-04-26T13:13:23.936Z"
   },
   {
    "duration": 279,
    "start_time": "2022-04-26T13:13:24.216Z"
   },
   {
    "duration": 11,
    "start_time": "2022-04-26T13:13:24.497Z"
   },
   {
    "duration": 13,
    "start_time": "2022-04-26T13:13:24.515Z"
   },
   {
    "duration": 178,
    "start_time": "2022-04-26T13:13:24.530Z"
   },
   {
    "duration": 87,
    "start_time": "2022-04-26T13:13:24.710Z"
   },
   {
    "duration": 95,
    "start_time": "2022-04-26T13:13:24.801Z"
   },
   {
    "duration": 106,
    "start_time": "2022-04-26T13:13:24.898Z"
   },
   {
    "duration": 13,
    "start_time": "2022-04-26T13:13:25.007Z"
   },
   {
    "duration": 184,
    "start_time": "2022-04-26T13:13:25.023Z"
   },
   {
    "duration": 91,
    "start_time": "2022-04-26T13:13:25.212Z"
   },
   {
    "duration": 110,
    "start_time": "2022-04-26T13:13:25.308Z"
   },
   {
    "duration": 98,
    "start_time": "2022-04-26T13:13:25.421Z"
   },
   {
    "duration": 3610,
    "start_time": "2022-04-26T13:13:25.521Z"
   },
   {
    "duration": 64,
    "start_time": "2022-04-26T13:13:29.133Z"
   },
   {
    "duration": 26,
    "start_time": "2022-04-26T13:13:29.200Z"
   },
   {
    "duration": 198,
    "start_time": "2022-04-26T13:14:53.837Z"
   },
   {
    "duration": 3091,
    "start_time": "2022-04-26T13:15:53.436Z"
   },
   {
    "duration": 576,
    "start_time": "2022-04-26T13:15:56.530Z"
   },
   {
    "duration": 584,
    "start_time": "2022-04-26T13:15:57.109Z"
   },
   {
    "duration": 331,
    "start_time": "2022-04-26T13:15:57.697Z"
   },
   {
    "duration": 165,
    "start_time": "2022-04-26T13:15:58.031Z"
   },
   {
    "duration": 110,
    "start_time": "2022-04-26T13:15:58.198Z"
   },
   {
    "duration": 218,
    "start_time": "2022-04-26T13:15:58.310Z"
   },
   {
    "duration": 294,
    "start_time": "2022-04-26T13:15:58.531Z"
   },
   {
    "duration": 65,
    "start_time": "2022-04-26T13:15:58.828Z"
   },
   {
    "duration": 12,
    "start_time": "2022-04-26T13:15:58.899Z"
   },
   {
    "duration": 221,
    "start_time": "2022-04-26T13:15:58.914Z"
   },
   {
    "duration": 87,
    "start_time": "2022-04-26T13:15:59.137Z"
   },
   {
    "duration": 104,
    "start_time": "2022-04-26T13:15:59.227Z"
   },
   {
    "duration": 175,
    "start_time": "2022-04-26T13:15:59.333Z"
   },
   {
    "duration": 14,
    "start_time": "2022-04-26T13:15:59.511Z"
   },
   {
    "duration": 184,
    "start_time": "2022-04-26T13:15:59.528Z"
   },
   {
    "duration": 81,
    "start_time": "2022-04-26T13:15:59.715Z"
   },
   {
    "duration": 104,
    "start_time": "2022-04-26T13:15:59.798Z"
   },
   {
    "duration": 44,
    "start_time": "2022-04-26T13:15:59.904Z"
   },
   {
    "duration": 2367,
    "start_time": "2022-04-26T13:15:59.993Z"
   },
   {
    "duration": 14,
    "start_time": "2022-04-26T13:16:02.362Z"
   },
   {
    "duration": 13,
    "start_time": "2022-04-26T13:16:02.394Z"
   },
   {
    "duration": 1534,
    "start_time": "2022-04-26T14:59:09.627Z"
   },
   {
    "duration": 267,
    "start_time": "2022-04-26T14:59:11.163Z"
   },
   {
    "duration": 229,
    "start_time": "2022-04-26T14:59:11.433Z"
   },
   {
    "duration": 153,
    "start_time": "2022-04-26T14:59:11.665Z"
   },
   {
    "duration": 77,
    "start_time": "2022-04-26T14:59:11.820Z"
   },
   {
    "duration": 68,
    "start_time": "2022-04-26T14:59:11.899Z"
   },
   {
    "duration": 112,
    "start_time": "2022-04-26T14:59:11.970Z"
   },
   {
    "duration": 128,
    "start_time": "2022-04-26T14:59:12.084Z"
   },
   {
    "duration": 12,
    "start_time": "2022-04-26T14:59:12.215Z"
   },
   {
    "duration": 10,
    "start_time": "2022-04-26T14:59:12.230Z"
   },
   {
    "duration": 94,
    "start_time": "2022-04-26T14:59:12.243Z"
   },
   {
    "duration": 29,
    "start_time": "2022-04-26T14:59:12.339Z"
   },
   {
    "duration": 61,
    "start_time": "2022-04-26T14:59:12.370Z"
   },
   {
    "duration": 65,
    "start_time": "2022-04-26T14:59:12.433Z"
   },
   {
    "duration": 14,
    "start_time": "2022-04-26T14:59:12.501Z"
   },
   {
    "duration": 106,
    "start_time": "2022-04-26T14:59:12.518Z"
   },
   {
    "duration": 29,
    "start_time": "2022-04-26T14:59:12.626Z"
   },
   {
    "duration": 74,
    "start_time": "2022-04-26T14:59:12.657Z"
   },
   {
    "duration": 61,
    "start_time": "2022-04-26T14:59:12.734Z"
   },
   {
    "duration": 1677,
    "start_time": "2022-04-26T14:59:12.797Z"
   },
   {
    "duration": 22,
    "start_time": "2022-04-26T14:59:14.477Z"
   },
   {
    "duration": 20,
    "start_time": "2022-04-26T14:59:14.501Z"
   },
   {
    "duration": 1928,
    "start_time": "2022-04-26T15:05:13.735Z"
   },
   {
    "duration": 404,
    "start_time": "2022-04-26T15:05:15.667Z"
   },
   {
    "duration": 341,
    "start_time": "2022-04-26T15:05:16.074Z"
   },
   {
    "duration": 219,
    "start_time": "2022-04-26T15:05:16.419Z"
   },
   {
    "duration": 95,
    "start_time": "2022-04-26T15:05:16.642Z"
   },
   {
    "duration": 84,
    "start_time": "2022-04-26T15:05:17.212Z"
   },
   {
    "duration": 164,
    "start_time": "2022-04-26T15:05:19.247Z"
   },
   {
    "duration": 105,
    "start_time": "2022-04-26T15:05:20.196Z"
   },
   {
    "duration": 135,
    "start_time": "2022-04-26T15:05:34.329Z"
   },
   {
    "duration": 29,
    "start_time": "2022-04-26T15:05:41.748Z"
   },
   {
    "duration": 1480,
    "start_time": "2022-04-26T15:13:38.415Z"
   },
   {
    "duration": 279,
    "start_time": "2022-04-26T15:13:39.898Z"
   },
   {
    "duration": 235,
    "start_time": "2022-04-26T15:13:40.193Z"
   },
   {
    "duration": 168,
    "start_time": "2022-04-26T15:13:40.433Z"
   },
   {
    "duration": 70,
    "start_time": "2022-04-26T15:13:40.604Z"
   },
   {
    "duration": 66,
    "start_time": "2022-04-26T15:13:40.692Z"
   },
   {
    "duration": 109,
    "start_time": "2022-04-26T15:13:40.760Z"
   },
   {
    "duration": 121,
    "start_time": "2022-04-26T15:13:40.872Z"
   },
   {
    "duration": 12,
    "start_time": "2022-04-26T15:13:40.995Z"
   },
   {
    "duration": 9,
    "start_time": "2022-04-26T15:13:41.010Z"
   },
   {
    "duration": 96,
    "start_time": "2022-04-26T15:13:41.021Z"
   },
   {
    "duration": 30,
    "start_time": "2022-04-26T15:13:41.119Z"
   },
   {
    "duration": 65,
    "start_time": "2022-04-26T15:13:41.152Z"
   },
   {
    "duration": 48,
    "start_time": "2022-04-26T15:13:41.220Z"
   },
   {
    "duration": 13,
    "start_time": "2022-04-26T15:13:41.294Z"
   },
   {
    "duration": 90,
    "start_time": "2022-04-26T15:13:41.310Z"
   },
   {
    "duration": 25,
    "start_time": "2022-04-26T15:13:41.403Z"
   },
   {
    "duration": 78,
    "start_time": "2022-04-26T15:13:41.431Z"
   },
   {
    "duration": 40,
    "start_time": "2022-04-26T15:13:41.512Z"
   },
   {
    "duration": 1685,
    "start_time": "2022-04-26T15:13:41.554Z"
   },
   {
    "duration": 12,
    "start_time": "2022-04-26T15:13:43.242Z"
   },
   {
    "duration": 36,
    "start_time": "2022-04-26T15:13:43.257Z"
   },
   {
    "duration": 62,
    "start_time": "2022-04-27T08:53:51.298Z"
   },
   {
    "duration": 1339,
    "start_time": "2022-04-27T08:53:53.969Z"
   },
   {
    "duration": 284,
    "start_time": "2022-04-27T08:53:57.539Z"
   },
   {
    "duration": 185,
    "start_time": "2022-04-27T08:55:39.126Z"
   },
   {
    "duration": 123,
    "start_time": "2022-04-27T08:55:40.347Z"
   },
   {
    "duration": 46,
    "start_time": "2022-04-27T08:55:40.934Z"
   },
   {
    "duration": 61,
    "start_time": "2022-04-27T08:55:41.523Z"
   },
   {
    "duration": 88,
    "start_time": "2022-04-27T08:55:42.691Z"
   },
   {
    "duration": 89,
    "start_time": "2022-04-27T08:55:43.099Z"
   },
   {
    "duration": 9,
    "start_time": "2022-04-27T08:55:43.530Z"
   },
   {
    "duration": 12,
    "start_time": "2022-04-27T08:55:43.928Z"
   },
   {
    "duration": 69,
    "start_time": "2022-04-27T08:55:45.043Z"
   },
   {
    "duration": 23,
    "start_time": "2022-04-27T08:55:45.274Z"
   },
   {
    "duration": 29,
    "start_time": "2022-04-27T08:55:45.739Z"
   },
   {
    "duration": 34,
    "start_time": "2022-04-27T08:55:46.426Z"
   },
   {
    "duration": 8,
    "start_time": "2022-04-27T08:55:47.138Z"
   },
   {
    "duration": 42,
    "start_time": "2022-04-27T08:55:47.339Z"
   },
   {
    "duration": 19,
    "start_time": "2022-04-27T08:55:47.730Z"
   },
   {
    "duration": 30,
    "start_time": "2022-04-27T08:55:48.842Z"
   },
   {
    "duration": 29,
    "start_time": "2022-04-27T08:55:49.428Z"
   },
   {
    "duration": 1030,
    "start_time": "2022-04-27T08:55:50.363Z"
   },
   {
    "duration": 8,
    "start_time": "2022-04-27T08:55:51.850Z"
   },
   {
    "duration": 7,
    "start_time": "2022-04-27T08:55:53.546Z"
   },
   {
    "duration": 364,
    "start_time": "2022-04-27T08:57:32.398Z"
   },
   {
    "duration": 1072,
    "start_time": "2022-04-27T09:08:04.624Z"
   },
   {
    "duration": 1690,
    "start_time": "2022-04-27T09:08:12.229Z"
   },
   {
    "duration": 1183,
    "start_time": "2022-04-27T09:08:20.681Z"
   },
   {
    "duration": 276,
    "start_time": "2022-04-27T09:10:19.322Z"
   },
   {
    "duration": 198,
    "start_time": "2022-04-27T09:10:36.530Z"
   },
   {
    "duration": 74,
    "start_time": "2022-04-27T09:10:46.802Z"
   },
   {
    "duration": 124,
    "start_time": "2022-04-27T09:11:03.250Z"
   },
   {
    "duration": 108,
    "start_time": "2022-04-27T09:12:25.504Z"
   },
   {
    "duration": 53,
    "start_time": "2022-04-27T09:13:09.138Z"
   },
   {
    "duration": 814,
    "start_time": "2022-04-27T09:14:46.569Z"
   },
   {
    "duration": 238,
    "start_time": "2022-04-27T09:14:57.925Z"
   },
   {
    "duration": 308,
    "start_time": "2022-04-27T09:16:02.482Z"
   },
   {
    "duration": 363,
    "start_time": "2022-04-27T09:16:20.489Z"
   },
   {
    "duration": 4,
    "start_time": "2022-04-27T09:25:00.794Z"
   },
   {
    "duration": 20,
    "start_time": "2022-04-27T09:25:05.666Z"
   },
   {
    "duration": 17,
    "start_time": "2022-04-27T09:25:13.858Z"
   },
   {
    "duration": 3,
    "start_time": "2022-04-27T09:28:02.932Z"
   },
   {
    "duration": 342,
    "start_time": "2022-04-27T09:28:04.628Z"
   },
   {
    "duration": 240,
    "start_time": "2022-04-27T09:28:06.628Z"
   },
   {
    "duration": 170,
    "start_time": "2022-04-27T09:28:08.576Z"
   },
   {
    "duration": 54,
    "start_time": "2022-04-27T09:28:10.713Z"
   },
   {
    "duration": 73,
    "start_time": "2022-04-27T09:28:12.183Z"
   },
   {
    "duration": 77,
    "start_time": "2022-04-27T09:28:18.116Z"
   },
   {
    "duration": 107,
    "start_time": "2022-04-27T09:28:20.457Z"
   },
   {
    "duration": 5,
    "start_time": "2022-04-27T09:28:21.960Z"
   },
   {
    "duration": 6,
    "start_time": "2022-04-27T09:28:22.525Z"
   },
   {
    "duration": 39,
    "start_time": "2022-04-27T09:28:27.644Z"
   },
   {
    "duration": 33,
    "start_time": "2022-04-27T09:28:39.697Z"
   },
   {
    "duration": 26,
    "start_time": "2022-04-27T09:28:41.527Z"
   },
   {
    "duration": 41,
    "start_time": "2022-04-27T10:36:33.498Z"
   },
   {
    "duration": 27,
    "start_time": "2022-04-27T10:36:50.330Z"
   },
   {
    "duration": 32,
    "start_time": "2022-04-27T10:38:09.552Z"
   },
   {
    "duration": 10,
    "start_time": "2022-04-27T10:38:12.399Z"
   },
   {
    "duration": 58,
    "start_time": "2022-04-27T10:38:12.665Z"
   },
   {
    "duration": 19,
    "start_time": "2022-04-27T10:38:13.271Z"
   },
   {
    "duration": 41,
    "start_time": "2022-04-27T10:38:14.832Z"
   },
   {
    "duration": 30,
    "start_time": "2022-04-27T10:38:15.629Z"
   },
   {
    "duration": 1172,
    "start_time": "2022-04-27T10:38:17.400Z"
   },
   {
    "duration": 11,
    "start_time": "2022-04-27T10:38:20.128Z"
   },
   {
    "duration": 7,
    "start_time": "2022-04-27T10:38:22.152Z"
   },
   {
    "duration": 26,
    "start_time": "2022-04-27T10:41:17.735Z"
   },
   {
    "duration": 40,
    "start_time": "2022-04-27T10:45:54.112Z"
   },
   {
    "duration": 21,
    "start_time": "2022-04-27T10:47:34.449Z"
   },
   {
    "duration": 44,
    "start_time": "2022-04-27T10:47:40.975Z"
   },
   {
    "duration": 16,
    "start_time": "2022-04-27T10:47:44.337Z"
   },
   {
    "duration": 69,
    "start_time": "2022-04-27T10:47:45.381Z"
   },
   {
    "duration": 31,
    "start_time": "2022-04-27T10:47:47.225Z"
   },
   {
    "duration": 33,
    "start_time": "2022-04-27T10:47:51.461Z"
   },
   {
    "duration": 22,
    "start_time": "2022-04-27T10:47:52.965Z"
   },
   {
    "duration": 1770,
    "start_time": "2022-04-28T04:17:46.855Z"
   },
   {
    "duration": 407,
    "start_time": "2022-04-28T04:17:48.628Z"
   },
   {
    "duration": 315,
    "start_time": "2022-04-28T04:17:49.036Z"
   },
   {
    "duration": 220,
    "start_time": "2022-04-28T04:17:49.354Z"
   },
   {
    "duration": 155,
    "start_time": "2022-04-28T04:17:49.576Z"
   },
   {
    "duration": 81,
    "start_time": "2022-04-28T04:17:49.733Z"
   },
   {
    "duration": 116,
    "start_time": "2022-04-28T04:17:49.816Z"
   },
   {
    "duration": 121,
    "start_time": "2022-04-28T04:17:49.933Z"
   },
   {
    "duration": 10,
    "start_time": "2022-04-28T04:17:50.056Z"
   },
   {
    "duration": 4,
    "start_time": "2022-04-28T04:17:50.069Z"
   },
   {
    "duration": 72,
    "start_time": "2022-04-28T04:17:50.074Z"
   },
   {
    "duration": 20,
    "start_time": "2022-04-28T04:17:50.148Z"
   },
   {
    "duration": 27,
    "start_time": "2022-04-28T04:17:50.169Z"
   },
   {
    "duration": 51,
    "start_time": "2022-04-28T04:17:50.198Z"
   },
   {
    "duration": 8,
    "start_time": "2022-04-28T04:17:50.251Z"
   },
   {
    "duration": 78,
    "start_time": "2022-04-28T04:17:50.261Z"
   },
   {
    "duration": 20,
    "start_time": "2022-04-28T04:17:50.341Z"
   },
   {
    "duration": 33,
    "start_time": "2022-04-28T04:17:50.363Z"
   },
   {
    "duration": 42,
    "start_time": "2022-04-28T04:17:50.397Z"
   },
   {
    "duration": 1611,
    "start_time": "2022-04-28T04:17:50.440Z"
   },
   {
    "duration": 9,
    "start_time": "2022-04-28T04:17:52.053Z"
   },
   {
    "duration": 61,
    "start_time": "2022-04-28T04:17:52.063Z"
   },
   {
    "duration": 1316,
    "start_time": "2022-04-28T06:40:04.396Z"
   },
   {
    "duration": 300,
    "start_time": "2022-04-28T06:40:07.544Z"
   },
   {
    "duration": 231,
    "start_time": "2022-04-28T06:40:08.749Z"
   },
   {
    "duration": 155,
    "start_time": "2022-04-28T06:40:10.343Z"
   },
   {
    "duration": 36,
    "start_time": "2022-04-28T06:40:11.453Z"
   },
   {
    "duration": 38,
    "start_time": "2022-04-28T06:40:12.922Z"
   },
   {
    "duration": 75,
    "start_time": "2022-04-28T06:40:16.439Z"
   },
   {
    "duration": 81,
    "start_time": "2022-04-28T06:40:17.143Z"
   },
   {
    "duration": 16,
    "start_time": "2022-04-28T06:40:17.831Z"
   },
   {
    "duration": 6,
    "start_time": "2022-04-28T06:40:18.310Z"
   },
   {
    "duration": 54,
    "start_time": "2022-04-28T06:40:20.725Z"
   },
   {
    "duration": 22,
    "start_time": "2022-04-28T06:40:21.182Z"
   },
   {
    "duration": 28,
    "start_time": "2022-04-28T06:40:22.135Z"
   },
   {
    "duration": 29,
    "start_time": "2022-04-28T06:40:23.518Z"
   },
   {
    "duration": 9,
    "start_time": "2022-04-28T06:40:26.734Z"
   },
   {
    "duration": 55,
    "start_time": "2022-04-28T06:40:27.464Z"
   },
   {
    "duration": 18,
    "start_time": "2022-04-28T06:40:28.665Z"
   },
   {
    "duration": 31,
    "start_time": "2022-04-28T06:40:31.304Z"
   },
   {
    "duration": 23,
    "start_time": "2022-04-28T06:40:32.903Z"
   },
   {
    "duration": 957,
    "start_time": "2022-04-28T06:40:37.232Z"
   },
   {
    "duration": 9,
    "start_time": "2022-04-28T06:40:40.518Z"
   },
   {
    "duration": 9,
    "start_time": "2022-04-28T06:40:41.935Z"
   },
   {
    "duration": 30,
    "start_time": "2022-04-28T06:41:56.390Z"
   },
   {
    "duration": 9,
    "start_time": "2022-04-28T06:42:04.927Z"
   },
   {
    "duration": 55,
    "start_time": "2022-04-28T06:42:05.577Z"
   },
   {
    "duration": 19,
    "start_time": "2022-04-28T06:42:07.568Z"
   },
   {
    "duration": 28,
    "start_time": "2022-04-28T06:42:10.832Z"
   },
   {
    "duration": 24,
    "start_time": "2022-04-28T06:42:15.831Z"
   },
   {
    "duration": 864,
    "start_time": "2022-04-28T06:42:22.008Z"
   },
   {
    "duration": 9,
    "start_time": "2022-04-28T06:42:25.126Z"
   },
   {
    "duration": 8,
    "start_time": "2022-04-28T06:42:26.888Z"
   },
   {
    "duration": 1112,
    "start_time": "2022-06-07T18:48:10.428Z"
   },
   {
    "duration": 377,
    "start_time": "2022-06-07T18:48:21.648Z"
   },
   {
    "duration": 423,
    "start_time": "2022-06-07T18:50:20.820Z"
   },
   {
    "duration": 368,
    "start_time": "2022-06-07T18:50:22.650Z"
   },
   {
    "duration": 93,
    "start_time": "2022-06-07T18:50:23.675Z"
   },
   {
    "duration": 93,
    "start_time": "2022-06-07T18:50:24.586Z"
   },
   {
    "duration": 67,
    "start_time": "2022-06-07T18:50:26.912Z"
   },
   {
    "duration": 153,
    "start_time": "2022-06-07T18:50:27.687Z"
   },
   {
    "duration": 18,
    "start_time": "2022-06-07T18:50:28.390Z"
   },
   {
    "duration": 5,
    "start_time": "2022-06-07T18:50:28.720Z"
   },
   {
    "duration": 52,
    "start_time": "2022-06-07T18:50:30.104Z"
   },
   {
    "duration": 20,
    "start_time": "2022-06-07T18:50:30.439Z"
   },
   {
    "duration": 28,
    "start_time": "2022-06-07T18:50:30.819Z"
   },
   {
    "duration": 29,
    "start_time": "2022-06-07T18:50:31.557Z"
   },
   {
    "duration": 10,
    "start_time": "2022-06-07T18:50:32.943Z"
   },
   {
    "duration": 54,
    "start_time": "2022-06-07T18:50:33.221Z"
   },
   {
    "duration": 18,
    "start_time": "2022-06-07T18:50:33.543Z"
   },
   {
    "duration": 27,
    "start_time": "2022-06-07T18:50:34.946Z"
   },
   {
    "duration": 25,
    "start_time": "2022-06-07T18:50:35.743Z"
   },
   {
    "duration": 1052,
    "start_time": "2022-06-07T18:50:36.997Z"
   },
   {
    "duration": 8,
    "start_time": "2022-06-07T18:50:39.779Z"
   },
   {
    "duration": 8,
    "start_time": "2022-06-07T18:50:41.945Z"
   },
   {
    "duration": 61,
    "start_time": "2023-01-07T22:04:41.354Z"
   }
  ],
  "kernelspec": {
   "display_name": "Python 3 (ipykernel)",
   "language": "python",
   "name": "python3"
  },
  "language_info": {
   "codemirror_mode": {
    "name": "ipython",
    "version": 3
   },
   "file_extension": ".py",
   "mimetype": "text/x-python",
   "name": "python",
   "nbconvert_exporter": "python",
   "pygments_lexer": "ipython3",
   "version": "3.9.5"
  },
  "toc": {
   "base_numbering": 1,
   "nav_menu": {},
   "number_sections": true,
   "sideBar": true,
   "skip_h1_title": true,
   "title_cell": "Table of Contents",
   "title_sidebar": "Contents",
   "toc_cell": false,
   "toc_position": {
    "height": "calc(100% - 180px)",
    "left": "10px",
    "top": "150px",
    "width": "252.758px"
   },
   "toc_section_display": true,
   "toc_window_display": false
  }
 },
 "nbformat": 4,
 "nbformat_minor": 2
}
