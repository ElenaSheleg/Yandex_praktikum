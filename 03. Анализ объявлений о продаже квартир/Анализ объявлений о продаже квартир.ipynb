{
 "cells": [
  {
   "cell_type": "markdown",
   "metadata": {
    "toc": true
   },
   "source": [
    "<h1>Содержание<span class=\"tocSkip\"></span></h1>\n",
    "<div class=\"toc\"><ul class=\"toc-item\"><li><span><a href=\"#Шаг.-Изучение-данных-из-файла\" data-toc-modified-id=\"Шаг.-Изучение-данных-из-файла-1\"><span class=\"toc-item-num\">1&nbsp;&nbsp;</span>Шаг. Изучение данных из файла</a></span></li><li><span><a href=\"#Шаг.-Предобработка-данных\" data-toc-modified-id=\"Шаг.-Предобработка-данных-2\"><span class=\"toc-item-num\">2&nbsp;&nbsp;</span>Шаг. Предобработка данных</a></span></li><li><span><a href=\"#Шаг.-Расчёты-и-добавление-результатов-в-таблицу\" data-toc-modified-id=\"Шаг.-Расчёты-и-добавление-результатов-в-таблицу-3\"><span class=\"toc-item-num\">3&nbsp;&nbsp;</span>Шаг. Расчёты и добавление результатов в таблицу</a></span></li><li><span><a href=\"#Шаг.-Исследовательский-анализ-данных\" data-toc-modified-id=\"Шаг.-Исследовательский-анализ-данных-4\"><span class=\"toc-item-num\">4&nbsp;&nbsp;</span>Шаг. Исследовательский анализ данных</a></span></li><li><span><a href=\"#Общий-вывод\" data-toc-modified-id=\"Общий-вывод-5\"><span class=\"toc-item-num\">5&nbsp;&nbsp;</span>Общий вывод</a></span></li><li><span><a href=\"#Чек-лист-готовности-проекта\" data-toc-modified-id=\"Чек-лист-готовности-проекта-6\"><span class=\"toc-item-num\">6&nbsp;&nbsp;</span>Чек-лист готовности проекта</a></span></li></ul></div>"
   ]
  },
  {
   "cell_type": "markdown",
   "metadata": {},
   "source": [
    "# Исследование объявлений о продаже квартир\n",
    "\n",
    "В вашем распоряжении данные сервиса Яндекc Недвижимость — архив объявлений о продаже квартир в Санкт-Петербурге и соседних населённых пунктах за несколько лет. Нужно научиться определять рыночную стоимость объектов недвижимости. Ваша задача — установить параметры. Это позволит построить автоматизированную систему: она отследит аномалии и мошенническую деятельность. \n",
    "\n",
    "По каждой квартире на продажу доступны два вида данных. Первые вписаны пользователем, вторые получены автоматически на основе картографических данных. Например, расстояние до центра, аэропорта, ближайшего парка и водоёма. "
   ]
  },
  {
   "cell_type": "markdown",
   "metadata": {},
   "source": [
    "## Шаг. Изучение данных из файла"
   ]
  },
  {
   "cell_type": "code",
   "execution_count": 2,
   "metadata": {},
   "outputs": [
    {
     "data": {
      "text/html": [
       "<div>\n",
       "<style scoped>\n",
       "    .dataframe tbody tr th:only-of-type {\n",
       "        vertical-align: middle;\n",
       "    }\n",
       "\n",
       "    .dataframe tbody tr th {\n",
       "        vertical-align: top;\n",
       "    }\n",
       "\n",
       "    .dataframe thead th {\n",
       "        text-align: right;\n",
       "    }\n",
       "</style>\n",
       "<table border=\"1\" class=\"dataframe\">\n",
       "  <thead>\n",
       "    <tr style=\"text-align: right;\">\n",
       "      <th></th>\n",
       "      <th>total_images</th>\n",
       "      <th>last_price</th>\n",
       "      <th>total_area</th>\n",
       "      <th>first_day_exposition</th>\n",
       "      <th>rooms</th>\n",
       "      <th>ceiling_height</th>\n",
       "      <th>floors_total</th>\n",
       "      <th>living_area</th>\n",
       "      <th>floor</th>\n",
       "      <th>is_apartment</th>\n",
       "      <th>studio</th>\n",
       "      <th>open_plan</th>\n",
       "      <th>kitchen_area</th>\n",
       "      <th>balcony</th>\n",
       "      <th>locality_name</th>\n",
       "      <th>airports_nearest</th>\n",
       "      <th>cityCenters_nearest</th>\n",
       "      <th>parks_around3000</th>\n",
       "      <th>parks_nearest</th>\n",
       "      <th>ponds_around3000</th>\n",
       "      <th>ponds_nearest</th>\n",
       "      <th>days_exposition</th>\n",
       "    </tr>\n",
       "  </thead>\n",
       "  <tbody>\n",
       "    <tr>\n",
       "      <th>0</th>\n",
       "      <td>20</td>\n",
       "      <td>13,000,000.00</td>\n",
       "      <td>108.00</td>\n",
       "      <td>2019-03-07T00:00:00</td>\n",
       "      <td>3</td>\n",
       "      <td>2.70</td>\n",
       "      <td>16.00</td>\n",
       "      <td>51.00</td>\n",
       "      <td>8</td>\n",
       "      <td>NaN</td>\n",
       "      <td>False</td>\n",
       "      <td>False</td>\n",
       "      <td>25.00</td>\n",
       "      <td>NaN</td>\n",
       "      <td>Санкт-Петербург</td>\n",
       "      <td>18,863.00</td>\n",
       "      <td>16,028.00</td>\n",
       "      <td>1.00</td>\n",
       "      <td>482.00</td>\n",
       "      <td>2.00</td>\n",
       "      <td>755.00</td>\n",
       "      <td>NaN</td>\n",
       "    </tr>\n",
       "    <tr>\n",
       "      <th>1</th>\n",
       "      <td>7</td>\n",
       "      <td>3,350,000.00</td>\n",
       "      <td>40.40</td>\n",
       "      <td>2018-12-04T00:00:00</td>\n",
       "      <td>1</td>\n",
       "      <td>NaN</td>\n",
       "      <td>11.00</td>\n",
       "      <td>18.60</td>\n",
       "      <td>1</td>\n",
       "      <td>NaN</td>\n",
       "      <td>False</td>\n",
       "      <td>False</td>\n",
       "      <td>11.00</td>\n",
       "      <td>2.00</td>\n",
       "      <td>посёлок Шушары</td>\n",
       "      <td>12,817.00</td>\n",
       "      <td>18,603.00</td>\n",
       "      <td>0.00</td>\n",
       "      <td>NaN</td>\n",
       "      <td>0.00</td>\n",
       "      <td>NaN</td>\n",
       "      <td>81.00</td>\n",
       "    </tr>\n",
       "    <tr>\n",
       "      <th>2</th>\n",
       "      <td>10</td>\n",
       "      <td>5,196,000.00</td>\n",
       "      <td>56.00</td>\n",
       "      <td>2015-08-20T00:00:00</td>\n",
       "      <td>2</td>\n",
       "      <td>NaN</td>\n",
       "      <td>5.00</td>\n",
       "      <td>34.30</td>\n",
       "      <td>4</td>\n",
       "      <td>NaN</td>\n",
       "      <td>False</td>\n",
       "      <td>False</td>\n",
       "      <td>8.30</td>\n",
       "      <td>0.00</td>\n",
       "      <td>Санкт-Петербург</td>\n",
       "      <td>21,741.00</td>\n",
       "      <td>13,933.00</td>\n",
       "      <td>1.00</td>\n",
       "      <td>90.00</td>\n",
       "      <td>2.00</td>\n",
       "      <td>574.00</td>\n",
       "      <td>558.00</td>\n",
       "    </tr>\n",
       "    <tr>\n",
       "      <th>3</th>\n",
       "      <td>0</td>\n",
       "      <td>64,900,000.00</td>\n",
       "      <td>159.00</td>\n",
       "      <td>2015-07-24T00:00:00</td>\n",
       "      <td>3</td>\n",
       "      <td>NaN</td>\n",
       "      <td>14.00</td>\n",
       "      <td>NaN</td>\n",
       "      <td>9</td>\n",
       "      <td>NaN</td>\n",
       "      <td>False</td>\n",
       "      <td>False</td>\n",
       "      <td>NaN</td>\n",
       "      <td>0.00</td>\n",
       "      <td>Санкт-Петербург</td>\n",
       "      <td>28,098.00</td>\n",
       "      <td>6,800.00</td>\n",
       "      <td>2.00</td>\n",
       "      <td>84.00</td>\n",
       "      <td>3.00</td>\n",
       "      <td>234.00</td>\n",
       "      <td>424.00</td>\n",
       "    </tr>\n",
       "    <tr>\n",
       "      <th>4</th>\n",
       "      <td>2</td>\n",
       "      <td>10,000,000.00</td>\n",
       "      <td>100.00</td>\n",
       "      <td>2018-06-19T00:00:00</td>\n",
       "      <td>2</td>\n",
       "      <td>3.03</td>\n",
       "      <td>14.00</td>\n",
       "      <td>32.00</td>\n",
       "      <td>13</td>\n",
       "      <td>NaN</td>\n",
       "      <td>False</td>\n",
       "      <td>False</td>\n",
       "      <td>41.00</td>\n",
       "      <td>NaN</td>\n",
       "      <td>Санкт-Петербург</td>\n",
       "      <td>31,856.00</td>\n",
       "      <td>8,098.00</td>\n",
       "      <td>2.00</td>\n",
       "      <td>112.00</td>\n",
       "      <td>1.00</td>\n",
       "      <td>48.00</td>\n",
       "      <td>121.00</td>\n",
       "    </tr>\n",
       "    <tr>\n",
       "      <th>5</th>\n",
       "      <td>10</td>\n",
       "      <td>2,890,000.00</td>\n",
       "      <td>30.40</td>\n",
       "      <td>2018-09-10T00:00:00</td>\n",
       "      <td>1</td>\n",
       "      <td>NaN</td>\n",
       "      <td>12.00</td>\n",
       "      <td>14.40</td>\n",
       "      <td>5</td>\n",
       "      <td>NaN</td>\n",
       "      <td>False</td>\n",
       "      <td>False</td>\n",
       "      <td>9.10</td>\n",
       "      <td>NaN</td>\n",
       "      <td>городской посёлок Янино-1</td>\n",
       "      <td>NaN</td>\n",
       "      <td>NaN</td>\n",
       "      <td>NaN</td>\n",
       "      <td>NaN</td>\n",
       "      <td>NaN</td>\n",
       "      <td>NaN</td>\n",
       "      <td>55.00</td>\n",
       "    </tr>\n",
       "    <tr>\n",
       "      <th>6</th>\n",
       "      <td>6</td>\n",
       "      <td>3,700,000.00</td>\n",
       "      <td>37.30</td>\n",
       "      <td>2017-11-02T00:00:00</td>\n",
       "      <td>1</td>\n",
       "      <td>NaN</td>\n",
       "      <td>26.00</td>\n",
       "      <td>10.60</td>\n",
       "      <td>6</td>\n",
       "      <td>NaN</td>\n",
       "      <td>False</td>\n",
       "      <td>False</td>\n",
       "      <td>14.40</td>\n",
       "      <td>1.00</td>\n",
       "      <td>посёлок Парголово</td>\n",
       "      <td>52,996.00</td>\n",
       "      <td>19,143.00</td>\n",
       "      <td>0.00</td>\n",
       "      <td>NaN</td>\n",
       "      <td>0.00</td>\n",
       "      <td>NaN</td>\n",
       "      <td>155.00</td>\n",
       "    </tr>\n",
       "    <tr>\n",
       "      <th>7</th>\n",
       "      <td>5</td>\n",
       "      <td>7,915,000.00</td>\n",
       "      <td>71.60</td>\n",
       "      <td>2019-04-18T00:00:00</td>\n",
       "      <td>2</td>\n",
       "      <td>NaN</td>\n",
       "      <td>24.00</td>\n",
       "      <td>NaN</td>\n",
       "      <td>22</td>\n",
       "      <td>NaN</td>\n",
       "      <td>False</td>\n",
       "      <td>False</td>\n",
       "      <td>18.90</td>\n",
       "      <td>2.00</td>\n",
       "      <td>Санкт-Петербург</td>\n",
       "      <td>23,982.00</td>\n",
       "      <td>11,634.00</td>\n",
       "      <td>0.00</td>\n",
       "      <td>NaN</td>\n",
       "      <td>0.00</td>\n",
       "      <td>NaN</td>\n",
       "      <td>NaN</td>\n",
       "    </tr>\n",
       "    <tr>\n",
       "      <th>8</th>\n",
       "      <td>20</td>\n",
       "      <td>2,900,000.00</td>\n",
       "      <td>33.16</td>\n",
       "      <td>2018-05-23T00:00:00</td>\n",
       "      <td>1</td>\n",
       "      <td>NaN</td>\n",
       "      <td>27.00</td>\n",
       "      <td>15.43</td>\n",
       "      <td>26</td>\n",
       "      <td>NaN</td>\n",
       "      <td>False</td>\n",
       "      <td>False</td>\n",
       "      <td>8.81</td>\n",
       "      <td>NaN</td>\n",
       "      <td>посёлок Мурино</td>\n",
       "      <td>NaN</td>\n",
       "      <td>NaN</td>\n",
       "      <td>NaN</td>\n",
       "      <td>NaN</td>\n",
       "      <td>NaN</td>\n",
       "      <td>NaN</td>\n",
       "      <td>189.00</td>\n",
       "    </tr>\n",
       "    <tr>\n",
       "      <th>9</th>\n",
       "      <td>18</td>\n",
       "      <td>5,400,000.00</td>\n",
       "      <td>61.00</td>\n",
       "      <td>2017-02-26T00:00:00</td>\n",
       "      <td>3</td>\n",
       "      <td>2.50</td>\n",
       "      <td>9.00</td>\n",
       "      <td>43.60</td>\n",
       "      <td>7</td>\n",
       "      <td>NaN</td>\n",
       "      <td>False</td>\n",
       "      <td>False</td>\n",
       "      <td>6.50</td>\n",
       "      <td>2.00</td>\n",
       "      <td>Санкт-Петербург</td>\n",
       "      <td>50,898.00</td>\n",
       "      <td>15,008.00</td>\n",
       "      <td>0.00</td>\n",
       "      <td>NaN</td>\n",
       "      <td>0.00</td>\n",
       "      <td>NaN</td>\n",
       "      <td>289.00</td>\n",
       "    </tr>\n",
       "  </tbody>\n",
       "</table>\n",
       "</div>"
      ],
      "text/plain": [
       "   total_images    last_price  total_area first_day_exposition  rooms  \\\n",
       "0            20 13,000,000.00      108.00  2019-03-07T00:00:00      3   \n",
       "1             7  3,350,000.00       40.40  2018-12-04T00:00:00      1   \n",
       "2            10  5,196,000.00       56.00  2015-08-20T00:00:00      2   \n",
       "3             0 64,900,000.00      159.00  2015-07-24T00:00:00      3   \n",
       "4             2 10,000,000.00      100.00  2018-06-19T00:00:00      2   \n",
       "5            10  2,890,000.00       30.40  2018-09-10T00:00:00      1   \n",
       "6             6  3,700,000.00       37.30  2017-11-02T00:00:00      1   \n",
       "7             5  7,915,000.00       71.60  2019-04-18T00:00:00      2   \n",
       "8            20  2,900,000.00       33.16  2018-05-23T00:00:00      1   \n",
       "9            18  5,400,000.00       61.00  2017-02-26T00:00:00      3   \n",
       "\n",
       "   ceiling_height  floors_total  living_area  floor is_apartment  studio  \\\n",
       "0            2.70         16.00        51.00      8          NaN   False   \n",
       "1             NaN         11.00        18.60      1          NaN   False   \n",
       "2             NaN          5.00        34.30      4          NaN   False   \n",
       "3             NaN         14.00          NaN      9          NaN   False   \n",
       "4            3.03         14.00        32.00     13          NaN   False   \n",
       "5             NaN         12.00        14.40      5          NaN   False   \n",
       "6             NaN         26.00        10.60      6          NaN   False   \n",
       "7             NaN         24.00          NaN     22          NaN   False   \n",
       "8             NaN         27.00        15.43     26          NaN   False   \n",
       "9            2.50          9.00        43.60      7          NaN   False   \n",
       "\n",
       "   open_plan  kitchen_area  balcony              locality_name  \\\n",
       "0      False         25.00      NaN            Санкт-Петербург   \n",
       "1      False         11.00     2.00             посёлок Шушары   \n",
       "2      False          8.30     0.00            Санкт-Петербург   \n",
       "3      False           NaN     0.00            Санкт-Петербург   \n",
       "4      False         41.00      NaN            Санкт-Петербург   \n",
       "5      False          9.10      NaN  городской посёлок Янино-1   \n",
       "6      False         14.40     1.00          посёлок Парголово   \n",
       "7      False         18.90     2.00            Санкт-Петербург   \n",
       "8      False          8.81      NaN             посёлок Мурино   \n",
       "9      False          6.50     2.00            Санкт-Петербург   \n",
       "\n",
       "   airports_nearest  cityCenters_nearest  parks_around3000  parks_nearest  \\\n",
       "0         18,863.00            16,028.00              1.00         482.00   \n",
       "1         12,817.00            18,603.00              0.00            NaN   \n",
       "2         21,741.00            13,933.00              1.00          90.00   \n",
       "3         28,098.00             6,800.00              2.00          84.00   \n",
       "4         31,856.00             8,098.00              2.00         112.00   \n",
       "5               NaN                  NaN               NaN            NaN   \n",
       "6         52,996.00            19,143.00              0.00            NaN   \n",
       "7         23,982.00            11,634.00              0.00            NaN   \n",
       "8               NaN                  NaN               NaN            NaN   \n",
       "9         50,898.00            15,008.00              0.00            NaN   \n",
       "\n",
       "   ponds_around3000  ponds_nearest  days_exposition  \n",
       "0              2.00         755.00              NaN  \n",
       "1              0.00            NaN            81.00  \n",
       "2              2.00         574.00           558.00  \n",
       "3              3.00         234.00           424.00  \n",
       "4              1.00          48.00           121.00  \n",
       "5               NaN            NaN            55.00  \n",
       "6              0.00            NaN           155.00  \n",
       "7              0.00            NaN              NaN  \n",
       "8               NaN            NaN           189.00  \n",
       "9              0.00            NaN           289.00  "
      ]
     },
     "metadata": {},
     "output_type": "display_data"
    },
    {
     "name": "stdout",
     "output_type": "stream",
     "text": [
      "<class 'pandas.core.frame.DataFrame'>\n",
      "RangeIndex: 23699 entries, 0 to 23698\n",
      "Data columns (total 22 columns):\n",
      " #   Column                Non-Null Count  Dtype  \n",
      "---  ------                --------------  -----  \n",
      " 0   total_images          23699 non-null  int64  \n",
      " 1   last_price            23699 non-null  float64\n",
      " 2   total_area            23699 non-null  float64\n",
      " 3   first_day_exposition  23699 non-null  object \n",
      " 4   rooms                 23699 non-null  int64  \n",
      " 5   ceiling_height        14504 non-null  float64\n",
      " 6   floors_total          23613 non-null  float64\n",
      " 7   living_area           21796 non-null  float64\n",
      " 8   floor                 23699 non-null  int64  \n",
      " 9   is_apartment          2775 non-null   object \n",
      " 10  studio                23699 non-null  bool   \n",
      " 11  open_plan             23699 non-null  bool   \n",
      " 12  kitchen_area          21421 non-null  float64\n",
      " 13  balcony               12180 non-null  float64\n",
      " 14  locality_name         23650 non-null  object \n",
      " 15  airports_nearest      18157 non-null  float64\n",
      " 16  cityCenters_nearest   18180 non-null  float64\n",
      " 17  parks_around3000      18181 non-null  float64\n",
      " 18  parks_nearest         8079 non-null   float64\n",
      " 19  ponds_around3000      18181 non-null  float64\n",
      " 20  ponds_nearest         9110 non-null   float64\n",
      " 21  days_exposition       20518 non-null  float64\n",
      "dtypes: bool(2), float64(14), int64(3), object(3)\n",
      "memory usage: 3.7+ MB\n",
      "\n",
      "Число дубликатов: 0\n"
     ]
    },
    {
     "data": {
      "text/html": [
       "<div>\n",
       "<style scoped>\n",
       "    .dataframe tbody tr th:only-of-type {\n",
       "        vertical-align: middle;\n",
       "    }\n",
       "\n",
       "    .dataframe tbody tr th {\n",
       "        vertical-align: top;\n",
       "    }\n",
       "\n",
       "    .dataframe thead th {\n",
       "        text-align: right;\n",
       "    }\n",
       "</style>\n",
       "<table border=\"1\" class=\"dataframe\">\n",
       "  <thead>\n",
       "    <tr style=\"text-align: right;\">\n",
       "      <th></th>\n",
       "      <th>total_images</th>\n",
       "      <th>last_price</th>\n",
       "      <th>total_area</th>\n",
       "      <th>rooms</th>\n",
       "      <th>ceiling_height</th>\n",
       "      <th>floors_total</th>\n",
       "      <th>living_area</th>\n",
       "      <th>floor</th>\n",
       "      <th>kitchen_area</th>\n",
       "      <th>balcony</th>\n",
       "      <th>airports_nearest</th>\n",
       "      <th>cityCenters_nearest</th>\n",
       "      <th>parks_around3000</th>\n",
       "      <th>parks_nearest</th>\n",
       "      <th>ponds_around3000</th>\n",
       "      <th>ponds_nearest</th>\n",
       "      <th>days_exposition</th>\n",
       "    </tr>\n",
       "  </thead>\n",
       "  <tbody>\n",
       "    <tr>\n",
       "      <th>count</th>\n",
       "      <td>23,699.00</td>\n",
       "      <td>23,699.00</td>\n",
       "      <td>23,699.00</td>\n",
       "      <td>23,699.00</td>\n",
       "      <td>14,504.00</td>\n",
       "      <td>23,613.00</td>\n",
       "      <td>21,796.00</td>\n",
       "      <td>23,699.00</td>\n",
       "      <td>21,421.00</td>\n",
       "      <td>12,180.00</td>\n",
       "      <td>18,157.00</td>\n",
       "      <td>18,180.00</td>\n",
       "      <td>18,181.00</td>\n",
       "      <td>8,079.00</td>\n",
       "      <td>18,181.00</td>\n",
       "      <td>9,110.00</td>\n",
       "      <td>20,518.00</td>\n",
       "    </tr>\n",
       "    <tr>\n",
       "      <th>mean</th>\n",
       "      <td>9.86</td>\n",
       "      <td>6,541,548.77</td>\n",
       "      <td>60.35</td>\n",
       "      <td>2.07</td>\n",
       "      <td>2.77</td>\n",
       "      <td>10.67</td>\n",
       "      <td>34.46</td>\n",
       "      <td>5.89</td>\n",
       "      <td>10.57</td>\n",
       "      <td>1.15</td>\n",
       "      <td>28,793.67</td>\n",
       "      <td>14,191.28</td>\n",
       "      <td>0.61</td>\n",
       "      <td>490.80</td>\n",
       "      <td>0.77</td>\n",
       "      <td>517.98</td>\n",
       "      <td>180.89</td>\n",
       "    </tr>\n",
       "    <tr>\n",
       "      <th>std</th>\n",
       "      <td>5.68</td>\n",
       "      <td>10,887,013.27</td>\n",
       "      <td>35.65</td>\n",
       "      <td>1.08</td>\n",
       "      <td>1.26</td>\n",
       "      <td>6.60</td>\n",
       "      <td>22.03</td>\n",
       "      <td>4.89</td>\n",
       "      <td>5.91</td>\n",
       "      <td>1.07</td>\n",
       "      <td>12,630.88</td>\n",
       "      <td>8,608.39</td>\n",
       "      <td>0.80</td>\n",
       "      <td>342.32</td>\n",
       "      <td>0.94</td>\n",
       "      <td>277.72</td>\n",
       "      <td>219.73</td>\n",
       "    </tr>\n",
       "    <tr>\n",
       "      <th>min</th>\n",
       "      <td>0.00</td>\n",
       "      <td>12,190.00</td>\n",
       "      <td>12.00</td>\n",
       "      <td>0.00</td>\n",
       "      <td>1.00</td>\n",
       "      <td>1.00</td>\n",
       "      <td>2.00</td>\n",
       "      <td>1.00</td>\n",
       "      <td>1.30</td>\n",
       "      <td>0.00</td>\n",
       "      <td>0.00</td>\n",
       "      <td>181.00</td>\n",
       "      <td>0.00</td>\n",
       "      <td>1.00</td>\n",
       "      <td>0.00</td>\n",
       "      <td>13.00</td>\n",
       "      <td>1.00</td>\n",
       "    </tr>\n",
       "    <tr>\n",
       "      <th>25%</th>\n",
       "      <td>6.00</td>\n",
       "      <td>3,400,000.00</td>\n",
       "      <td>40.00</td>\n",
       "      <td>1.00</td>\n",
       "      <td>2.52</td>\n",
       "      <td>5.00</td>\n",
       "      <td>18.60</td>\n",
       "      <td>2.00</td>\n",
       "      <td>7.00</td>\n",
       "      <td>0.00</td>\n",
       "      <td>18,585.00</td>\n",
       "      <td>9,238.00</td>\n",
       "      <td>0.00</td>\n",
       "      <td>288.00</td>\n",
       "      <td>0.00</td>\n",
       "      <td>294.00</td>\n",
       "      <td>45.00</td>\n",
       "    </tr>\n",
       "    <tr>\n",
       "      <th>50%</th>\n",
       "      <td>9.00</td>\n",
       "      <td>4,650,000.00</td>\n",
       "      <td>52.00</td>\n",
       "      <td>2.00</td>\n",
       "      <td>2.65</td>\n",
       "      <td>9.00</td>\n",
       "      <td>30.00</td>\n",
       "      <td>4.00</td>\n",
       "      <td>9.10</td>\n",
       "      <td>1.00</td>\n",
       "      <td>26,726.00</td>\n",
       "      <td>13,098.50</td>\n",
       "      <td>0.00</td>\n",
       "      <td>455.00</td>\n",
       "      <td>1.00</td>\n",
       "      <td>502.00</td>\n",
       "      <td>95.00</td>\n",
       "    </tr>\n",
       "    <tr>\n",
       "      <th>75%</th>\n",
       "      <td>14.00</td>\n",
       "      <td>6,800,000.00</td>\n",
       "      <td>69.90</td>\n",
       "      <td>3.00</td>\n",
       "      <td>2.80</td>\n",
       "      <td>16.00</td>\n",
       "      <td>42.30</td>\n",
       "      <td>8.00</td>\n",
       "      <td>12.00</td>\n",
       "      <td>2.00</td>\n",
       "      <td>37,273.00</td>\n",
       "      <td>16,293.00</td>\n",
       "      <td>1.00</td>\n",
       "      <td>612.00</td>\n",
       "      <td>1.00</td>\n",
       "      <td>729.00</td>\n",
       "      <td>232.00</td>\n",
       "    </tr>\n",
       "    <tr>\n",
       "      <th>max</th>\n",
       "      <td>50.00</td>\n",
       "      <td>763,000,000.00</td>\n",
       "      <td>900.00</td>\n",
       "      <td>19.00</td>\n",
       "      <td>100.00</td>\n",
       "      <td>60.00</td>\n",
       "      <td>409.70</td>\n",
       "      <td>33.00</td>\n",
       "      <td>112.00</td>\n",
       "      <td>5.00</td>\n",
       "      <td>84,869.00</td>\n",
       "      <td>65,968.00</td>\n",
       "      <td>3.00</td>\n",
       "      <td>3,190.00</td>\n",
       "      <td>3.00</td>\n",
       "      <td>1,344.00</td>\n",
       "      <td>1,580.00</td>\n",
       "    </tr>\n",
       "  </tbody>\n",
       "</table>\n",
       "</div>"
      ],
      "text/plain": [
       "       total_images     last_price  total_area     rooms  ceiling_height  \\\n",
       "count     23,699.00      23,699.00   23,699.00 23,699.00       14,504.00   \n",
       "mean           9.86   6,541,548.77       60.35      2.07            2.77   \n",
       "std            5.68  10,887,013.27       35.65      1.08            1.26   \n",
       "min            0.00      12,190.00       12.00      0.00            1.00   \n",
       "25%            6.00   3,400,000.00       40.00      1.00            2.52   \n",
       "50%            9.00   4,650,000.00       52.00      2.00            2.65   \n",
       "75%           14.00   6,800,000.00       69.90      3.00            2.80   \n",
       "max           50.00 763,000,000.00      900.00     19.00          100.00   \n",
       "\n",
       "       floors_total  living_area     floor  kitchen_area   balcony  \\\n",
       "count     23,613.00    21,796.00 23,699.00     21,421.00 12,180.00   \n",
       "mean          10.67        34.46      5.89         10.57      1.15   \n",
       "std            6.60        22.03      4.89          5.91      1.07   \n",
       "min            1.00         2.00      1.00          1.30      0.00   \n",
       "25%            5.00        18.60      2.00          7.00      0.00   \n",
       "50%            9.00        30.00      4.00          9.10      1.00   \n",
       "75%           16.00        42.30      8.00         12.00      2.00   \n",
       "max           60.00       409.70     33.00        112.00      5.00   \n",
       "\n",
       "       airports_nearest  cityCenters_nearest  parks_around3000  parks_nearest  \\\n",
       "count         18,157.00            18,180.00         18,181.00       8,079.00   \n",
       "mean          28,793.67            14,191.28              0.61         490.80   \n",
       "std           12,630.88             8,608.39              0.80         342.32   \n",
       "min                0.00               181.00              0.00           1.00   \n",
       "25%           18,585.00             9,238.00              0.00         288.00   \n",
       "50%           26,726.00            13,098.50              0.00         455.00   \n",
       "75%           37,273.00            16,293.00              1.00         612.00   \n",
       "max           84,869.00            65,968.00              3.00       3,190.00   \n",
       "\n",
       "       ponds_around3000  ponds_nearest  days_exposition  \n",
       "count         18,181.00       9,110.00        20,518.00  \n",
       "mean               0.77         517.98           180.89  \n",
       "std                0.94         277.72           219.73  \n",
       "min                0.00          13.00             1.00  \n",
       "25%                0.00         294.00            45.00  \n",
       "50%                1.00         502.00            95.00  \n",
       "75%                1.00         729.00           232.00  \n",
       "max                3.00       1,344.00         1,580.00  "
      ]
     },
     "execution_count": 2,
     "metadata": {},
     "output_type": "execute_result"
    }
   ],
   "source": [
    "import pandas as pd\n",
    "# команда, позволяющая отображать в блокноте графики Matplotlib\n",
    "%matplotlib inline \n",
    "import matplotlib.pyplot as plt\n",
    "import seaborn as sns\n",
    "sns.set() # функция, позволяющая получить стилизованные графики\n",
    "pd.options.display.float_format = '{:,.2f}'.format # функция, позволяющая отображать все числа с двумя знаками после запятой\n",
    "pd.options.display.max_columns = 100 # функция, позволяющая регулировать число выводимых столбцов\n",
    "# выгрузим данные в csv-файл, чтоб была возможность работать с ними в дальнейшем\n",
    "data = pd.read_csv('/datasets/real_estate_data.csv', sep='\\t')\n",
    "display(data.head(10)) # выведем первых 10 строк\n",
    "\n",
    "data.info() # краткая сводка данных\n",
    "\n",
    "print('\\nЧисло дубликатов:', data.duplicated().sum()) # найдем кол-во дубликатов в датафрейме\n",
    "\n",
    "data.describe() # выведем общую информацию о датафрейме"
   ]
  },
  {
   "cell_type": "markdown",
   "metadata": {},
   "source": [
    "**Вывод**\n",
    "\n",
    "Всего 23699 объявления о продаже квартир в Санкт-Петербурге и соседних населённых пунктах за несколько лет. Для целого ряда столбцов ('ceiling_height', 'is_apartment', 'balcony', 'parks_nearest', 'ponds_nearest') есть значительное кол-во пропущенных значений и некорректный тип данных. По ряду признаков есть аномальные значения: высота потолков 100м; количество комнат 19 и тд."
   ]
  },
  {
   "cell_type": "markdown",
   "metadata": {},
   "source": [
    "## Шаг. Предобработка данных"
   ]
  },
  {
   "cell_type": "code",
   "execution_count": 3,
   "metadata": {},
   "outputs": [
    {
     "name": "stderr",
     "output_type": "stream",
     "text": [
      "/opt/conda/lib/python3.9/site-packages/numpy/lib/nanfunctions.py:1117: RuntimeWarning: Mean of empty slice\n",
      "  return np.nanmean(a, axis, out=out, keepdims=keepdims)\n",
      "/opt/conda/lib/python3.9/site-packages/numpy/lib/nanfunctions.py:1117: RuntimeWarning: Mean of empty slice\n",
      "  return np.nanmean(a, axis, out=out, keepdims=keepdims)\n",
      "/opt/conda/lib/python3.9/site-packages/numpy/lib/nanfunctions.py:1117: RuntimeWarning: Mean of empty slice\n",
      "  return np.nanmean(a, axis, out=out, keepdims=keepdims)\n",
      "/opt/conda/lib/python3.9/site-packages/numpy/lib/nanfunctions.py:1117: RuntimeWarning: Mean of empty slice\n",
      "  return np.nanmean(a, axis, out=out, keepdims=keepdims)\n",
      "/opt/conda/lib/python3.9/site-packages/numpy/lib/nanfunctions.py:1117: RuntimeWarning: Mean of empty slice\n",
      "  return np.nanmean(a, axis, out=out, keepdims=keepdims)\n",
      "/opt/conda/lib/python3.9/site-packages/numpy/lib/nanfunctions.py:1117: RuntimeWarning: Mean of empty slice\n",
      "  return np.nanmean(a, axis, out=out, keepdims=keepdims)\n",
      "/opt/conda/lib/python3.9/site-packages/numpy/lib/nanfunctions.py:1117: RuntimeWarning: Mean of empty slice\n",
      "  return np.nanmean(a, axis, out=out, keepdims=keepdims)\n",
      "/opt/conda/lib/python3.9/site-packages/numpy/lib/nanfunctions.py:1117: RuntimeWarning: Mean of empty slice\n",
      "  return np.nanmean(a, axis, out=out, keepdims=keepdims)\n",
      "/opt/conda/lib/python3.9/site-packages/numpy/lib/nanfunctions.py:1117: RuntimeWarning: Mean of empty slice\n",
      "  return np.nanmean(a, axis, out=out, keepdims=keepdims)\n",
      "/opt/conda/lib/python3.9/site-packages/numpy/lib/nanfunctions.py:1117: RuntimeWarning: Mean of empty slice\n",
      "  return np.nanmean(a, axis, out=out, keepdims=keepdims)\n",
      "/opt/conda/lib/python3.9/site-packages/numpy/lib/nanfunctions.py:1117: RuntimeWarning: Mean of empty slice\n",
      "  return np.nanmean(a, axis, out=out, keepdims=keepdims)\n",
      "/opt/conda/lib/python3.9/site-packages/numpy/lib/nanfunctions.py:1117: RuntimeWarning: Mean of empty slice\n",
      "  return np.nanmean(a, axis, out=out, keepdims=keepdims)\n",
      "/opt/conda/lib/python3.9/site-packages/numpy/lib/nanfunctions.py:1117: RuntimeWarning: Mean of empty slice\n",
      "  return np.nanmean(a, axis, out=out, keepdims=keepdims)\n",
      "/opt/conda/lib/python3.9/site-packages/numpy/lib/nanfunctions.py:1117: RuntimeWarning: Mean of empty slice\n",
      "  return np.nanmean(a, axis, out=out, keepdims=keepdims)\n",
      "/opt/conda/lib/python3.9/site-packages/numpy/lib/nanfunctions.py:1117: RuntimeWarning: Mean of empty slice\n",
      "  return np.nanmean(a, axis, out=out, keepdims=keepdims)\n",
      "/opt/conda/lib/python3.9/site-packages/numpy/lib/nanfunctions.py:1117: RuntimeWarning: Mean of empty slice\n",
      "  return np.nanmean(a, axis, out=out, keepdims=keepdims)\n",
      "/opt/conda/lib/python3.9/site-packages/numpy/lib/nanfunctions.py:1117: RuntimeWarning: Mean of empty slice\n",
      "  return np.nanmean(a, axis, out=out, keepdims=keepdims)\n",
      "/opt/conda/lib/python3.9/site-packages/numpy/lib/nanfunctions.py:1117: RuntimeWarning: Mean of empty slice\n",
      "  return np.nanmean(a, axis, out=out, keepdims=keepdims)\n",
      "/opt/conda/lib/python3.9/site-packages/numpy/lib/nanfunctions.py:1117: RuntimeWarning: Mean of empty slice\n",
      "  return np.nanmean(a, axis, out=out, keepdims=keepdims)\n",
      "/opt/conda/lib/python3.9/site-packages/numpy/lib/nanfunctions.py:1117: RuntimeWarning: Mean of empty slice\n",
      "  return np.nanmean(a, axis, out=out, keepdims=keepdims)\n",
      "/opt/conda/lib/python3.9/site-packages/numpy/lib/nanfunctions.py:1117: RuntimeWarning: Mean of empty slice\n",
      "  return np.nanmean(a, axis, out=out, keepdims=keepdims)\n",
      "/opt/conda/lib/python3.9/site-packages/numpy/lib/nanfunctions.py:1117: RuntimeWarning: Mean of empty slice\n",
      "  return np.nanmean(a, axis, out=out, keepdims=keepdims)\n",
      "/opt/conda/lib/python3.9/site-packages/numpy/lib/nanfunctions.py:1117: RuntimeWarning: Mean of empty slice\n",
      "  return np.nanmean(a, axis, out=out, keepdims=keepdims)\n",
      "/opt/conda/lib/python3.9/site-packages/numpy/lib/nanfunctions.py:1117: RuntimeWarning: Mean of empty slice\n",
      "  return np.nanmean(a, axis, out=out, keepdims=keepdims)\n",
      "/opt/conda/lib/python3.9/site-packages/numpy/lib/nanfunctions.py:1117: RuntimeWarning: Mean of empty slice\n",
      "  return np.nanmean(a, axis, out=out, keepdims=keepdims)\n",
      "/opt/conda/lib/python3.9/site-packages/numpy/lib/nanfunctions.py:1117: RuntimeWarning: Mean of empty slice\n",
      "  return np.nanmean(a, axis, out=out, keepdims=keepdims)\n",
      "/opt/conda/lib/python3.9/site-packages/numpy/lib/nanfunctions.py:1117: RuntimeWarning: Mean of empty slice\n",
      "  return np.nanmean(a, axis, out=out, keepdims=keepdims)\n",
      "/opt/conda/lib/python3.9/site-packages/numpy/lib/nanfunctions.py:1117: RuntimeWarning: Mean of empty slice\n",
      "  return np.nanmean(a, axis, out=out, keepdims=keepdims)\n",
      "/opt/conda/lib/python3.9/site-packages/numpy/lib/nanfunctions.py:1117: RuntimeWarning: Mean of empty slice\n",
      "  return np.nanmean(a, axis, out=out, keepdims=keepdims)\n",
      "/opt/conda/lib/python3.9/site-packages/numpy/lib/nanfunctions.py:1117: RuntimeWarning: Mean of empty slice\n",
      "  return np.nanmean(a, axis, out=out, keepdims=keepdims)\n",
      "/opt/conda/lib/python3.9/site-packages/numpy/lib/nanfunctions.py:1117: RuntimeWarning: Mean of empty slice\n",
      "  return np.nanmean(a, axis, out=out, keepdims=keepdims)\n",
      "/opt/conda/lib/python3.9/site-packages/numpy/lib/nanfunctions.py:1117: RuntimeWarning: Mean of empty slice\n",
      "  return np.nanmean(a, axis, out=out, keepdims=keepdims)\n",
      "/opt/conda/lib/python3.9/site-packages/numpy/lib/nanfunctions.py:1117: RuntimeWarning: Mean of empty slice\n",
      "  return np.nanmean(a, axis, out=out, keepdims=keepdims)\n",
      "/opt/conda/lib/python3.9/site-packages/numpy/lib/nanfunctions.py:1117: RuntimeWarning: Mean of empty slice\n",
      "  return np.nanmean(a, axis, out=out, keepdims=keepdims)\n",
      "/opt/conda/lib/python3.9/site-packages/numpy/lib/nanfunctions.py:1117: RuntimeWarning: Mean of empty slice\n",
      "  return np.nanmean(a, axis, out=out, keepdims=keepdims)\n",
      "/opt/conda/lib/python3.9/site-packages/numpy/lib/nanfunctions.py:1117: RuntimeWarning: Mean of empty slice\n",
      "  return np.nanmean(a, axis, out=out, keepdims=keepdims)\n",
      "/opt/conda/lib/python3.9/site-packages/numpy/lib/nanfunctions.py:1117: RuntimeWarning: Mean of empty slice\n",
      "  return np.nanmean(a, axis, out=out, keepdims=keepdims)\n",
      "/opt/conda/lib/python3.9/site-packages/numpy/lib/nanfunctions.py:1117: RuntimeWarning: Mean of empty slice\n",
      "  return np.nanmean(a, axis, out=out, keepdims=keepdims)\n",
      "/opt/conda/lib/python3.9/site-packages/numpy/lib/nanfunctions.py:1117: RuntimeWarning: Mean of empty slice\n",
      "  return np.nanmean(a, axis, out=out, keepdims=keepdims)\n",
      "/opt/conda/lib/python3.9/site-packages/numpy/lib/nanfunctions.py:1117: RuntimeWarning: Mean of empty slice\n",
      "  return np.nanmean(a, axis, out=out, keepdims=keepdims)\n",
      "/opt/conda/lib/python3.9/site-packages/numpy/lib/nanfunctions.py:1117: RuntimeWarning: Mean of empty slice\n",
      "  return np.nanmean(a, axis, out=out, keepdims=keepdims)\n",
      "/opt/conda/lib/python3.9/site-packages/numpy/lib/nanfunctions.py:1117: RuntimeWarning: Mean of empty slice\n",
      "  return np.nanmean(a, axis, out=out, keepdims=keepdims)\n",
      "/opt/conda/lib/python3.9/site-packages/numpy/lib/nanfunctions.py:1117: RuntimeWarning: Mean of empty slice\n",
      "  return np.nanmean(a, axis, out=out, keepdims=keepdims)\n",
      "/opt/conda/lib/python3.9/site-packages/numpy/lib/nanfunctions.py:1117: RuntimeWarning: Mean of empty slice\n",
      "  return np.nanmean(a, axis, out=out, keepdims=keepdims)\n",
      "/opt/conda/lib/python3.9/site-packages/numpy/lib/nanfunctions.py:1117: RuntimeWarning: Mean of empty slice\n",
      "  return np.nanmean(a, axis, out=out, keepdims=keepdims)\n",
      "/opt/conda/lib/python3.9/site-packages/numpy/lib/nanfunctions.py:1117: RuntimeWarning: Mean of empty slice\n",
      "  return np.nanmean(a, axis, out=out, keepdims=keepdims)\n",
      "/opt/conda/lib/python3.9/site-packages/numpy/lib/nanfunctions.py:1117: RuntimeWarning: Mean of empty slice\n",
      "  return np.nanmean(a, axis, out=out, keepdims=keepdims)\n",
      "/opt/conda/lib/python3.9/site-packages/numpy/lib/nanfunctions.py:1117: RuntimeWarning: Mean of empty slice\n",
      "  return np.nanmean(a, axis, out=out, keepdims=keepdims)\n",
      "/opt/conda/lib/python3.9/site-packages/numpy/lib/nanfunctions.py:1117: RuntimeWarning: Mean of empty slice\n",
      "  return np.nanmean(a, axis, out=out, keepdims=keepdims)\n",
      "/opt/conda/lib/python3.9/site-packages/numpy/lib/nanfunctions.py:1117: RuntimeWarning: Mean of empty slice\n",
      "  return np.nanmean(a, axis, out=out, keepdims=keepdims)\n",
      "/opt/conda/lib/python3.9/site-packages/numpy/lib/nanfunctions.py:1117: RuntimeWarning: Mean of empty slice\n",
      "  return np.nanmean(a, axis, out=out, keepdims=keepdims)\n",
      "/opt/conda/lib/python3.9/site-packages/numpy/lib/nanfunctions.py:1117: RuntimeWarning: Mean of empty slice\n",
      "  return np.nanmean(a, axis, out=out, keepdims=keepdims)\n",
      "/opt/conda/lib/python3.9/site-packages/numpy/lib/nanfunctions.py:1117: RuntimeWarning: Mean of empty slice\n",
      "  return np.nanmean(a, axis, out=out, keepdims=keepdims)\n",
      "/opt/conda/lib/python3.9/site-packages/numpy/lib/nanfunctions.py:1117: RuntimeWarning: Mean of empty slice\n",
      "  return np.nanmean(a, axis, out=out, keepdims=keepdims)\n",
      "/opt/conda/lib/python3.9/site-packages/numpy/lib/nanfunctions.py:1117: RuntimeWarning: Mean of empty slice\n",
      "  return np.nanmean(a, axis, out=out, keepdims=keepdims)\n",
      "/opt/conda/lib/python3.9/site-packages/numpy/lib/nanfunctions.py:1117: RuntimeWarning: Mean of empty slice\n",
      "  return np.nanmean(a, axis, out=out, keepdims=keepdims)\n",
      "/opt/conda/lib/python3.9/site-packages/numpy/lib/nanfunctions.py:1117: RuntimeWarning: Mean of empty slice\n",
      "  return np.nanmean(a, axis, out=out, keepdims=keepdims)\n",
      "/opt/conda/lib/python3.9/site-packages/numpy/lib/nanfunctions.py:1117: RuntimeWarning: Mean of empty slice\n",
      "  return np.nanmean(a, axis, out=out, keepdims=keepdims)\n",
      "/opt/conda/lib/python3.9/site-packages/numpy/lib/nanfunctions.py:1117: RuntimeWarning: Mean of empty slice\n",
      "  return np.nanmean(a, axis, out=out, keepdims=keepdims)\n",
      "/opt/conda/lib/python3.9/site-packages/numpy/lib/nanfunctions.py:1117: RuntimeWarning: Mean of empty slice\n",
      "  return np.nanmean(a, axis, out=out, keepdims=keepdims)\n",
      "/opt/conda/lib/python3.9/site-packages/numpy/lib/nanfunctions.py:1117: RuntimeWarning: Mean of empty slice\n",
      "  return np.nanmean(a, axis, out=out, keepdims=keepdims)\n",
      "/opt/conda/lib/python3.9/site-packages/numpy/lib/nanfunctions.py:1117: RuntimeWarning: Mean of empty slice\n",
      "  return np.nanmean(a, axis, out=out, keepdims=keepdims)\n",
      "/opt/conda/lib/python3.9/site-packages/numpy/lib/nanfunctions.py:1117: RuntimeWarning: Mean of empty slice\n",
      "  return np.nanmean(a, axis, out=out, keepdims=keepdims)\n",
      "/opt/conda/lib/python3.9/site-packages/numpy/lib/nanfunctions.py:1117: RuntimeWarning: Mean of empty slice\n",
      "  return np.nanmean(a, axis, out=out, keepdims=keepdims)\n",
      "/opt/conda/lib/python3.9/site-packages/numpy/lib/nanfunctions.py:1117: RuntimeWarning: Mean of empty slice\n",
      "  return np.nanmean(a, axis, out=out, keepdims=keepdims)\n",
      "/opt/conda/lib/python3.9/site-packages/numpy/lib/nanfunctions.py:1117: RuntimeWarning: Mean of empty slice\n",
      "  return np.nanmean(a, axis, out=out, keepdims=keepdims)\n",
      "/opt/conda/lib/python3.9/site-packages/numpy/lib/nanfunctions.py:1117: RuntimeWarning: Mean of empty slice\n",
      "  return np.nanmean(a, axis, out=out, keepdims=keepdims)\n",
      "/opt/conda/lib/python3.9/site-packages/numpy/lib/nanfunctions.py:1117: RuntimeWarning: Mean of empty slice\n",
      "  return np.nanmean(a, axis, out=out, keepdims=keepdims)\n",
      "/opt/conda/lib/python3.9/site-packages/numpy/lib/nanfunctions.py:1117: RuntimeWarning: Mean of empty slice\n",
      "  return np.nanmean(a, axis, out=out, keepdims=keepdims)\n",
      "/opt/conda/lib/python3.9/site-packages/numpy/lib/nanfunctions.py:1117: RuntimeWarning: Mean of empty slice\n",
      "  return np.nanmean(a, axis, out=out, keepdims=keepdims)\n",
      "/opt/conda/lib/python3.9/site-packages/numpy/lib/nanfunctions.py:1117: RuntimeWarning: Mean of empty slice\n",
      "  return np.nanmean(a, axis, out=out, keepdims=keepdims)\n",
      "/opt/conda/lib/python3.9/site-packages/numpy/lib/nanfunctions.py:1117: RuntimeWarning: Mean of empty slice\n",
      "  return np.nanmean(a, axis, out=out, keepdims=keepdims)\n",
      "/opt/conda/lib/python3.9/site-packages/numpy/lib/nanfunctions.py:1117: RuntimeWarning: Mean of empty slice\n",
      "  return np.nanmean(a, axis, out=out, keepdims=keepdims)\n",
      "/opt/conda/lib/python3.9/site-packages/numpy/lib/nanfunctions.py:1117: RuntimeWarning: Mean of empty slice\n",
      "  return np.nanmean(a, axis, out=out, keepdims=keepdims)\n",
      "/opt/conda/lib/python3.9/site-packages/numpy/lib/nanfunctions.py:1117: RuntimeWarning: Mean of empty slice\n",
      "  return np.nanmean(a, axis, out=out, keepdims=keepdims)\n",
      "/opt/conda/lib/python3.9/site-packages/numpy/lib/nanfunctions.py:1117: RuntimeWarning: Mean of empty slice\n",
      "  return np.nanmean(a, axis, out=out, keepdims=keepdims)\n",
      "/opt/conda/lib/python3.9/site-packages/numpy/lib/nanfunctions.py:1117: RuntimeWarning: Mean of empty slice\n",
      "  return np.nanmean(a, axis, out=out, keepdims=keepdims)\n",
      "/opt/conda/lib/python3.9/site-packages/numpy/lib/nanfunctions.py:1117: RuntimeWarning: Mean of empty slice\n",
      "  return np.nanmean(a, axis, out=out, keepdims=keepdims)\n",
      "/opt/conda/lib/python3.9/site-packages/numpy/lib/nanfunctions.py:1117: RuntimeWarning: Mean of empty slice\n",
      "  return np.nanmean(a, axis, out=out, keepdims=keepdims)\n",
      "/opt/conda/lib/python3.9/site-packages/numpy/lib/nanfunctions.py:1117: RuntimeWarning: Mean of empty slice\n",
      "  return np.nanmean(a, axis, out=out, keepdims=keepdims)\n",
      "/opt/conda/lib/python3.9/site-packages/numpy/lib/nanfunctions.py:1117: RuntimeWarning: Mean of empty slice\n",
      "  return np.nanmean(a, axis, out=out, keepdims=keepdims)\n",
      "/opt/conda/lib/python3.9/site-packages/numpy/lib/nanfunctions.py:1117: RuntimeWarning: Mean of empty slice\n",
      "  return np.nanmean(a, axis, out=out, keepdims=keepdims)\n",
      "/opt/conda/lib/python3.9/site-packages/numpy/lib/nanfunctions.py:1117: RuntimeWarning: Mean of empty slice\n",
      "  return np.nanmean(a, axis, out=out, keepdims=keepdims)\n",
      "/opt/conda/lib/python3.9/site-packages/numpy/lib/nanfunctions.py:1117: RuntimeWarning: Mean of empty slice\n",
      "  return np.nanmean(a, axis, out=out, keepdims=keepdims)\n",
      "/opt/conda/lib/python3.9/site-packages/numpy/lib/nanfunctions.py:1117: RuntimeWarning: Mean of empty slice\n",
      "  return np.nanmean(a, axis, out=out, keepdims=keepdims)\n",
      "/opt/conda/lib/python3.9/site-packages/numpy/lib/nanfunctions.py:1117: RuntimeWarning: Mean of empty slice\n",
      "  return np.nanmean(a, axis, out=out, keepdims=keepdims)\n",
      "/opt/conda/lib/python3.9/site-packages/numpy/lib/nanfunctions.py:1117: RuntimeWarning: Mean of empty slice\n",
      "  return np.nanmean(a, axis, out=out, keepdims=keepdims)\n",
      "/opt/conda/lib/python3.9/site-packages/numpy/lib/nanfunctions.py:1117: RuntimeWarning: Mean of empty slice\n",
      "  return np.nanmean(a, axis, out=out, keepdims=keepdims)\n",
      "/opt/conda/lib/python3.9/site-packages/numpy/lib/nanfunctions.py:1117: RuntimeWarning: Mean of empty slice\n",
      "  return np.nanmean(a, axis, out=out, keepdims=keepdims)\n",
      "/opt/conda/lib/python3.9/site-packages/numpy/lib/nanfunctions.py:1117: RuntimeWarning: Mean of empty slice\n",
      "  return np.nanmean(a, axis, out=out, keepdims=keepdims)\n",
      "/opt/conda/lib/python3.9/site-packages/numpy/lib/nanfunctions.py:1117: RuntimeWarning: Mean of empty slice\n",
      "  return np.nanmean(a, axis, out=out, keepdims=keepdims)\n",
      "/opt/conda/lib/python3.9/site-packages/numpy/lib/nanfunctions.py:1117: RuntimeWarning: Mean of empty slice\n",
      "  return np.nanmean(a, axis, out=out, keepdims=keepdims)\n",
      "/opt/conda/lib/python3.9/site-packages/numpy/lib/nanfunctions.py:1117: RuntimeWarning: Mean of empty slice\n",
      "  return np.nanmean(a, axis, out=out, keepdims=keepdims)\n",
      "/opt/conda/lib/python3.9/site-packages/numpy/lib/nanfunctions.py:1117: RuntimeWarning: Mean of empty slice\n",
      "  return np.nanmean(a, axis, out=out, keepdims=keepdims)\n",
      "/opt/conda/lib/python3.9/site-packages/numpy/lib/nanfunctions.py:1117: RuntimeWarning: Mean of empty slice\n",
      "  return np.nanmean(a, axis, out=out, keepdims=keepdims)\n",
      "/opt/conda/lib/python3.9/site-packages/numpy/lib/nanfunctions.py:1117: RuntimeWarning: Mean of empty slice\n",
      "  return np.nanmean(a, axis, out=out, keepdims=keepdims)\n",
      "/opt/conda/lib/python3.9/site-packages/numpy/lib/nanfunctions.py:1117: RuntimeWarning: Mean of empty slice\n",
      "  return np.nanmean(a, axis, out=out, keepdims=keepdims)\n",
      "/opt/conda/lib/python3.9/site-packages/numpy/lib/nanfunctions.py:1117: RuntimeWarning: Mean of empty slice\n",
      "  return np.nanmean(a, axis, out=out, keepdims=keepdims)\n",
      "/opt/conda/lib/python3.9/site-packages/numpy/lib/nanfunctions.py:1117: RuntimeWarning: Mean of empty slice\n",
      "  return np.nanmean(a, axis, out=out, keepdims=keepdims)\n",
      "/opt/conda/lib/python3.9/site-packages/numpy/lib/nanfunctions.py:1117: RuntimeWarning: Mean of empty slice\n",
      "  return np.nanmean(a, axis, out=out, keepdims=keepdims)\n",
      "/opt/conda/lib/python3.9/site-packages/numpy/lib/nanfunctions.py:1117: RuntimeWarning: Mean of empty slice\n",
      "  return np.nanmean(a, axis, out=out, keepdims=keepdims)\n",
      "/opt/conda/lib/python3.9/site-packages/numpy/lib/nanfunctions.py:1117: RuntimeWarning: Mean of empty slice\n",
      "  return np.nanmean(a, axis, out=out, keepdims=keepdims)\n",
      "/opt/conda/lib/python3.9/site-packages/numpy/lib/nanfunctions.py:1117: RuntimeWarning: Mean of empty slice\n",
      "  return np.nanmean(a, axis, out=out, keepdims=keepdims)\n",
      "/opt/conda/lib/python3.9/site-packages/numpy/lib/nanfunctions.py:1117: RuntimeWarning: Mean of empty slice\n",
      "  return np.nanmean(a, axis, out=out, keepdims=keepdims)\n",
      "/opt/conda/lib/python3.9/site-packages/numpy/lib/nanfunctions.py:1117: RuntimeWarning: Mean of empty slice\n",
      "  return np.nanmean(a, axis, out=out, keepdims=keepdims)\n",
      "/opt/conda/lib/python3.9/site-packages/numpy/lib/nanfunctions.py:1117: RuntimeWarning: Mean of empty slice\n",
      "  return np.nanmean(a, axis, out=out, keepdims=keepdims)\n",
      "/opt/conda/lib/python3.9/site-packages/numpy/lib/nanfunctions.py:1117: RuntimeWarning: Mean of empty slice\n",
      "  return np.nanmean(a, axis, out=out, keepdims=keepdims)\n",
      "/opt/conda/lib/python3.9/site-packages/numpy/lib/nanfunctions.py:1117: RuntimeWarning: Mean of empty slice\n",
      "  return np.nanmean(a, axis, out=out, keepdims=keepdims)\n",
      "/opt/conda/lib/python3.9/site-packages/numpy/lib/nanfunctions.py:1117: RuntimeWarning: Mean of empty slice\n",
      "  return np.nanmean(a, axis, out=out, keepdims=keepdims)\n",
      "/opt/conda/lib/python3.9/site-packages/numpy/lib/nanfunctions.py:1117: RuntimeWarning: Mean of empty slice\n",
      "  return np.nanmean(a, axis, out=out, keepdims=keepdims)\n",
      "/opt/conda/lib/python3.9/site-packages/numpy/lib/nanfunctions.py:1117: RuntimeWarning: Mean of empty slice\n",
      "  return np.nanmean(a, axis, out=out, keepdims=keepdims)\n",
      "/opt/conda/lib/python3.9/site-packages/numpy/lib/nanfunctions.py:1117: RuntimeWarning: Mean of empty slice\n",
      "  return np.nanmean(a, axis, out=out, keepdims=keepdims)\n",
      "/opt/conda/lib/python3.9/site-packages/numpy/lib/nanfunctions.py:1117: RuntimeWarning: Mean of empty slice\n",
      "  return np.nanmean(a, axis, out=out, keepdims=keepdims)\n",
      "/opt/conda/lib/python3.9/site-packages/numpy/lib/nanfunctions.py:1117: RuntimeWarning: Mean of empty slice\n",
      "  return np.nanmean(a, axis, out=out, keepdims=keepdims)\n",
      "/opt/conda/lib/python3.9/site-packages/numpy/lib/nanfunctions.py:1117: RuntimeWarning: Mean of empty slice\n",
      "  return np.nanmean(a, axis, out=out, keepdims=keepdims)\n",
      "/opt/conda/lib/python3.9/site-packages/numpy/lib/nanfunctions.py:1117: RuntimeWarning: Mean of empty slice\n",
      "  return np.nanmean(a, axis, out=out, keepdims=keepdims)\n",
      "/opt/conda/lib/python3.9/site-packages/numpy/lib/nanfunctions.py:1117: RuntimeWarning: Mean of empty slice\n",
      "  return np.nanmean(a, axis, out=out, keepdims=keepdims)\n",
      "/opt/conda/lib/python3.9/site-packages/numpy/lib/nanfunctions.py:1117: RuntimeWarning: Mean of empty slice\n",
      "  return np.nanmean(a, axis, out=out, keepdims=keepdims)\n",
      "/opt/conda/lib/python3.9/site-packages/numpy/lib/nanfunctions.py:1117: RuntimeWarning: Mean of empty slice\n",
      "  return np.nanmean(a, axis, out=out, keepdims=keepdims)\n",
      "/opt/conda/lib/python3.9/site-packages/numpy/lib/nanfunctions.py:1117: RuntimeWarning: Mean of empty slice\n",
      "  return np.nanmean(a, axis, out=out, keepdims=keepdims)\n",
      "/opt/conda/lib/python3.9/site-packages/numpy/lib/nanfunctions.py:1117: RuntimeWarning: Mean of empty slice\n",
      "  return np.nanmean(a, axis, out=out, keepdims=keepdims)\n",
      "/opt/conda/lib/python3.9/site-packages/numpy/lib/nanfunctions.py:1117: RuntimeWarning: Mean of empty slice\n",
      "  return np.nanmean(a, axis, out=out, keepdims=keepdims)\n",
      "/opt/conda/lib/python3.9/site-packages/numpy/lib/nanfunctions.py:1117: RuntimeWarning: Mean of empty slice\n",
      "  return np.nanmean(a, axis, out=out, keepdims=keepdims)\n",
      "/opt/conda/lib/python3.9/site-packages/numpy/lib/nanfunctions.py:1117: RuntimeWarning: Mean of empty slice\n",
      "  return np.nanmean(a, axis, out=out, keepdims=keepdims)\n",
      "/opt/conda/lib/python3.9/site-packages/numpy/lib/nanfunctions.py:1117: RuntimeWarning: Mean of empty slice\n",
      "  return np.nanmean(a, axis, out=out, keepdims=keepdims)\n",
      "/opt/conda/lib/python3.9/site-packages/numpy/lib/nanfunctions.py:1117: RuntimeWarning: Mean of empty slice\n",
      "  return np.nanmean(a, axis, out=out, keepdims=keepdims)\n",
      "/opt/conda/lib/python3.9/site-packages/numpy/lib/nanfunctions.py:1117: RuntimeWarning: Mean of empty slice\n",
      "  return np.nanmean(a, axis, out=out, keepdims=keepdims)\n",
      "/opt/conda/lib/python3.9/site-packages/numpy/lib/nanfunctions.py:1117: RuntimeWarning: Mean of empty slice\n",
      "  return np.nanmean(a, axis, out=out, keepdims=keepdims)\n",
      "/opt/conda/lib/python3.9/site-packages/numpy/lib/nanfunctions.py:1117: RuntimeWarning: Mean of empty slice\n",
      "  return np.nanmean(a, axis, out=out, keepdims=keepdims)\n",
      "/opt/conda/lib/python3.9/site-packages/numpy/lib/nanfunctions.py:1117: RuntimeWarning: Mean of empty slice\n",
      "  return np.nanmean(a, axis, out=out, keepdims=keepdims)\n",
      "/opt/conda/lib/python3.9/site-packages/numpy/lib/nanfunctions.py:1117: RuntimeWarning: Mean of empty slice\n",
      "  return np.nanmean(a, axis, out=out, keepdims=keepdims)\n",
      "/opt/conda/lib/python3.9/site-packages/numpy/lib/nanfunctions.py:1117: RuntimeWarning: Mean of empty slice\n",
      "  return np.nanmean(a, axis, out=out, keepdims=keepdims)\n",
      "/opt/conda/lib/python3.9/site-packages/numpy/lib/nanfunctions.py:1117: RuntimeWarning: Mean of empty slice\n",
      "  return np.nanmean(a, axis, out=out, keepdims=keepdims)\n",
      "/opt/conda/lib/python3.9/site-packages/numpy/lib/nanfunctions.py:1117: RuntimeWarning: Mean of empty slice\n",
      "  return np.nanmean(a, axis, out=out, keepdims=keepdims)\n",
      "/opt/conda/lib/python3.9/site-packages/numpy/lib/nanfunctions.py:1117: RuntimeWarning: Mean of empty slice\n",
      "  return np.nanmean(a, axis, out=out, keepdims=keepdims)\n",
      "/opt/conda/lib/python3.9/site-packages/numpy/lib/nanfunctions.py:1117: RuntimeWarning: Mean of empty slice\n",
      "  return np.nanmean(a, axis, out=out, keepdims=keepdims)\n",
      "/opt/conda/lib/python3.9/site-packages/numpy/lib/nanfunctions.py:1117: RuntimeWarning: Mean of empty slice\n",
      "  return np.nanmean(a, axis, out=out, keepdims=keepdims)\n",
      "/opt/conda/lib/python3.9/site-packages/numpy/lib/nanfunctions.py:1117: RuntimeWarning: Mean of empty slice\n",
      "  return np.nanmean(a, axis, out=out, keepdims=keepdims)\n",
      "/opt/conda/lib/python3.9/site-packages/numpy/lib/nanfunctions.py:1117: RuntimeWarning: Mean of empty slice\n",
      "  return np.nanmean(a, axis, out=out, keepdims=keepdims)\n",
      "/opt/conda/lib/python3.9/site-packages/numpy/lib/nanfunctions.py:1117: RuntimeWarning: Mean of empty slice\n",
      "  return np.nanmean(a, axis, out=out, keepdims=keepdims)\n",
      "/opt/conda/lib/python3.9/site-packages/numpy/lib/nanfunctions.py:1117: RuntimeWarning: Mean of empty slice\n",
      "  return np.nanmean(a, axis, out=out, keepdims=keepdims)\n",
      "/opt/conda/lib/python3.9/site-packages/numpy/lib/nanfunctions.py:1117: RuntimeWarning: Mean of empty slice\n",
      "  return np.nanmean(a, axis, out=out, keepdims=keepdims)\n",
      "/opt/conda/lib/python3.9/site-packages/numpy/lib/nanfunctions.py:1117: RuntimeWarning: Mean of empty slice\n",
      "  return np.nanmean(a, axis, out=out, keepdims=keepdims)\n",
      "/opt/conda/lib/python3.9/site-packages/numpy/lib/nanfunctions.py:1117: RuntimeWarning: Mean of empty slice\n",
      "  return np.nanmean(a, axis, out=out, keepdims=keepdims)\n",
      "/opt/conda/lib/python3.9/site-packages/numpy/lib/nanfunctions.py:1117: RuntimeWarning: Mean of empty slice\n",
      "  return np.nanmean(a, axis, out=out, keepdims=keepdims)\n",
      "/opt/conda/lib/python3.9/site-packages/numpy/lib/nanfunctions.py:1117: RuntimeWarning: Mean of empty slice\n",
      "  return np.nanmean(a, axis, out=out, keepdims=keepdims)\n",
      "/opt/conda/lib/python3.9/site-packages/numpy/lib/nanfunctions.py:1117: RuntimeWarning: Mean of empty slice\n",
      "  return np.nanmean(a, axis, out=out, keepdims=keepdims)\n",
      "/opt/conda/lib/python3.9/site-packages/numpy/lib/nanfunctions.py:1117: RuntimeWarning: Mean of empty slice\n",
      "  return np.nanmean(a, axis, out=out, keepdims=keepdims)\n",
      "/opt/conda/lib/python3.9/site-packages/numpy/lib/nanfunctions.py:1117: RuntimeWarning: Mean of empty slice\n",
      "  return np.nanmean(a, axis, out=out, keepdims=keepdims)\n",
      "/opt/conda/lib/python3.9/site-packages/numpy/lib/nanfunctions.py:1117: RuntimeWarning: Mean of empty slice\n",
      "  return np.nanmean(a, axis, out=out, keepdims=keepdims)\n",
      "/opt/conda/lib/python3.9/site-packages/numpy/lib/nanfunctions.py:1117: RuntimeWarning: Mean of empty slice\n",
      "  return np.nanmean(a, axis, out=out, keepdims=keepdims)\n",
      "/opt/conda/lib/python3.9/site-packages/numpy/lib/nanfunctions.py:1117: RuntimeWarning: Mean of empty slice\n",
      "  return np.nanmean(a, axis, out=out, keepdims=keepdims)\n",
      "/opt/conda/lib/python3.9/site-packages/numpy/lib/nanfunctions.py:1117: RuntimeWarning: Mean of empty slice\n",
      "  return np.nanmean(a, axis, out=out, keepdims=keepdims)\n",
      "/opt/conda/lib/python3.9/site-packages/numpy/lib/nanfunctions.py:1117: RuntimeWarning: Mean of empty slice\n",
      "  return np.nanmean(a, axis, out=out, keepdims=keepdims)\n",
      "/opt/conda/lib/python3.9/site-packages/numpy/lib/nanfunctions.py:1117: RuntimeWarning: Mean of empty slice\n",
      "  return np.nanmean(a, axis, out=out, keepdims=keepdims)\n",
      "/opt/conda/lib/python3.9/site-packages/numpy/lib/nanfunctions.py:1117: RuntimeWarning: Mean of empty slice\n",
      "  return np.nanmean(a, axis, out=out, keepdims=keepdims)\n",
      "/opt/conda/lib/python3.9/site-packages/numpy/lib/nanfunctions.py:1117: RuntimeWarning: Mean of empty slice\n",
      "  return np.nanmean(a, axis, out=out, keepdims=keepdims)\n",
      "/opt/conda/lib/python3.9/site-packages/numpy/lib/nanfunctions.py:1117: RuntimeWarning: Mean of empty slice\n",
      "  return np.nanmean(a, axis, out=out, keepdims=keepdims)\n",
      "/opt/conda/lib/python3.9/site-packages/numpy/lib/nanfunctions.py:1117: RuntimeWarning: Mean of empty slice\n",
      "  return np.nanmean(a, axis, out=out, keepdims=keepdims)\n",
      "/opt/conda/lib/python3.9/site-packages/numpy/lib/nanfunctions.py:1117: RuntimeWarning: Mean of empty slice\n",
      "  return np.nanmean(a, axis, out=out, keepdims=keepdims)\n",
      "/opt/conda/lib/python3.9/site-packages/numpy/lib/nanfunctions.py:1117: RuntimeWarning: Mean of empty slice\n",
      "  return np.nanmean(a, axis, out=out, keepdims=keepdims)\n",
      "/opt/conda/lib/python3.9/site-packages/numpy/lib/nanfunctions.py:1117: RuntimeWarning: Mean of empty slice\n",
      "  return np.nanmean(a, axis, out=out, keepdims=keepdims)\n",
      "/opt/conda/lib/python3.9/site-packages/numpy/lib/nanfunctions.py:1117: RuntimeWarning: Mean of empty slice\n",
      "  return np.nanmean(a, axis, out=out, keepdims=keepdims)\n",
      "/opt/conda/lib/python3.9/site-packages/numpy/lib/nanfunctions.py:1117: RuntimeWarning: Mean of empty slice\n",
      "  return np.nanmean(a, axis, out=out, keepdims=keepdims)\n",
      "/opt/conda/lib/python3.9/site-packages/numpy/lib/nanfunctions.py:1117: RuntimeWarning: Mean of empty slice\n",
      "  return np.nanmean(a, axis, out=out, keepdims=keepdims)\n",
      "/opt/conda/lib/python3.9/site-packages/numpy/lib/nanfunctions.py:1117: RuntimeWarning: Mean of empty slice\n",
      "  return np.nanmean(a, axis, out=out, keepdims=keepdims)\n",
      "/opt/conda/lib/python3.9/site-packages/numpy/lib/nanfunctions.py:1117: RuntimeWarning: Mean of empty slice\n",
      "  return np.nanmean(a, axis, out=out, keepdims=keepdims)\n",
      "/opt/conda/lib/python3.9/site-packages/numpy/lib/nanfunctions.py:1117: RuntimeWarning: Mean of empty slice\n",
      "  return np.nanmean(a, axis, out=out, keepdims=keepdims)\n",
      "/opt/conda/lib/python3.9/site-packages/numpy/lib/nanfunctions.py:1117: RuntimeWarning: Mean of empty slice\n",
      "  return np.nanmean(a, axis, out=out, keepdims=keepdims)\n",
      "/opt/conda/lib/python3.9/site-packages/numpy/lib/nanfunctions.py:1117: RuntimeWarning: Mean of empty slice\n",
      "  return np.nanmean(a, axis, out=out, keepdims=keepdims)\n",
      "/opt/conda/lib/python3.9/site-packages/numpy/lib/nanfunctions.py:1117: RuntimeWarning: Mean of empty slice\n",
      "  return np.nanmean(a, axis, out=out, keepdims=keepdims)\n",
      "/opt/conda/lib/python3.9/site-packages/numpy/lib/nanfunctions.py:1117: RuntimeWarning: Mean of empty slice\n",
      "  return np.nanmean(a, axis, out=out, keepdims=keepdims)\n",
      "/opt/conda/lib/python3.9/site-packages/numpy/lib/nanfunctions.py:1117: RuntimeWarning: Mean of empty slice\n",
      "  return np.nanmean(a, axis, out=out, keepdims=keepdims)\n",
      "/opt/conda/lib/python3.9/site-packages/numpy/lib/nanfunctions.py:1117: RuntimeWarning: Mean of empty slice\n",
      "  return np.nanmean(a, axis, out=out, keepdims=keepdims)\n",
      "/opt/conda/lib/python3.9/site-packages/numpy/lib/nanfunctions.py:1117: RuntimeWarning: Mean of empty slice\n",
      "  return np.nanmean(a, axis, out=out, keepdims=keepdims)\n",
      "/opt/conda/lib/python3.9/site-packages/numpy/lib/nanfunctions.py:1117: RuntimeWarning: Mean of empty slice\n",
      "  return np.nanmean(a, axis, out=out, keepdims=keepdims)\n",
      "/opt/conda/lib/python3.9/site-packages/numpy/lib/nanfunctions.py:1117: RuntimeWarning: Mean of empty slice\n",
      "  return np.nanmean(a, axis, out=out, keepdims=keepdims)\n",
      "/opt/conda/lib/python3.9/site-packages/numpy/lib/nanfunctions.py:1117: RuntimeWarning: Mean of empty slice\n",
      "  return np.nanmean(a, axis, out=out, keepdims=keepdims)\n",
      "/opt/conda/lib/python3.9/site-packages/numpy/lib/nanfunctions.py:1117: RuntimeWarning: Mean of empty slice\n",
      "  return np.nanmean(a, axis, out=out, keepdims=keepdims)\n",
      "/opt/conda/lib/python3.9/site-packages/numpy/lib/nanfunctions.py:1117: RuntimeWarning: Mean of empty slice\n",
      "  return np.nanmean(a, axis, out=out, keepdims=keepdims)\n",
      "/opt/conda/lib/python3.9/site-packages/numpy/lib/nanfunctions.py:1117: RuntimeWarning: Mean of empty slice\n",
      "  return np.nanmean(a, axis, out=out, keepdims=keepdims)\n",
      "/opt/conda/lib/python3.9/site-packages/numpy/lib/nanfunctions.py:1117: RuntimeWarning: Mean of empty slice\n",
      "  return np.nanmean(a, axis, out=out, keepdims=keepdims)\n",
      "/opt/conda/lib/python3.9/site-packages/numpy/lib/nanfunctions.py:1117: RuntimeWarning: Mean of empty slice\n",
      "  return np.nanmean(a, axis, out=out, keepdims=keepdims)\n",
      "/opt/conda/lib/python3.9/site-packages/numpy/lib/nanfunctions.py:1117: RuntimeWarning: Mean of empty slice\n",
      "  return np.nanmean(a, axis, out=out, keepdims=keepdims)\n",
      "/opt/conda/lib/python3.9/site-packages/numpy/lib/nanfunctions.py:1117: RuntimeWarning: Mean of empty slice\n",
      "  return np.nanmean(a, axis, out=out, keepdims=keepdims)\n",
      "/opt/conda/lib/python3.9/site-packages/numpy/lib/nanfunctions.py:1117: RuntimeWarning: Mean of empty slice\n",
      "  return np.nanmean(a, axis, out=out, keepdims=keepdims)\n",
      "/opt/conda/lib/python3.9/site-packages/numpy/lib/nanfunctions.py:1117: RuntimeWarning: Mean of empty slice\n",
      "  return np.nanmean(a, axis, out=out, keepdims=keepdims)\n",
      "/opt/conda/lib/python3.9/site-packages/numpy/lib/nanfunctions.py:1117: RuntimeWarning: Mean of empty slice\n",
      "  return np.nanmean(a, axis, out=out, keepdims=keepdims)\n",
      "/opt/conda/lib/python3.9/site-packages/numpy/lib/nanfunctions.py:1117: RuntimeWarning: Mean of empty slice\n",
      "  return np.nanmean(a, axis, out=out, keepdims=keepdims)\n",
      "/opt/conda/lib/python3.9/site-packages/numpy/lib/nanfunctions.py:1117: RuntimeWarning: Mean of empty slice\n",
      "  return np.nanmean(a, axis, out=out, keepdims=keepdims)\n",
      "/opt/conda/lib/python3.9/site-packages/numpy/lib/nanfunctions.py:1117: RuntimeWarning: Mean of empty slice\n",
      "  return np.nanmean(a, axis, out=out, keepdims=keepdims)\n",
      "/opt/conda/lib/python3.9/site-packages/numpy/lib/nanfunctions.py:1117: RuntimeWarning: Mean of empty slice\n",
      "  return np.nanmean(a, axis, out=out, keepdims=keepdims)\n",
      "/opt/conda/lib/python3.9/site-packages/numpy/lib/nanfunctions.py:1117: RuntimeWarning: Mean of empty slice\n",
      "  return np.nanmean(a, axis, out=out, keepdims=keepdims)\n",
      "/opt/conda/lib/python3.9/site-packages/numpy/lib/nanfunctions.py:1117: RuntimeWarning: Mean of empty slice\n",
      "  return np.nanmean(a, axis, out=out, keepdims=keepdims)\n",
      "/opt/conda/lib/python3.9/site-packages/numpy/lib/nanfunctions.py:1117: RuntimeWarning: Mean of empty slice\n",
      "  return np.nanmean(a, axis, out=out, keepdims=keepdims)\n",
      "/opt/conda/lib/python3.9/site-packages/numpy/lib/nanfunctions.py:1117: RuntimeWarning: Mean of empty slice\n",
      "  return np.nanmean(a, axis, out=out, keepdims=keepdims)\n",
      "/opt/conda/lib/python3.9/site-packages/numpy/lib/nanfunctions.py:1117: RuntimeWarning: Mean of empty slice\n",
      "  return np.nanmean(a, axis, out=out, keepdims=keepdims)\n",
      "/opt/conda/lib/python3.9/site-packages/numpy/lib/nanfunctions.py:1117: RuntimeWarning: Mean of empty slice\n",
      "  return np.nanmean(a, axis, out=out, keepdims=keepdims)\n",
      "/opt/conda/lib/python3.9/site-packages/numpy/lib/nanfunctions.py:1117: RuntimeWarning: Mean of empty slice\n",
      "  return np.nanmean(a, axis, out=out, keepdims=keepdims)\n",
      "/opt/conda/lib/python3.9/site-packages/numpy/lib/nanfunctions.py:1117: RuntimeWarning: Mean of empty slice\n",
      "  return np.nanmean(a, axis, out=out, keepdims=keepdims)\n",
      "/opt/conda/lib/python3.9/site-packages/numpy/lib/nanfunctions.py:1117: RuntimeWarning: Mean of empty slice\n",
      "  return np.nanmean(a, axis, out=out, keepdims=keepdims)\n",
      "/opt/conda/lib/python3.9/site-packages/numpy/lib/nanfunctions.py:1117: RuntimeWarning: Mean of empty slice\n",
      "  return np.nanmean(a, axis, out=out, keepdims=keepdims)\n",
      "/opt/conda/lib/python3.9/site-packages/numpy/lib/nanfunctions.py:1117: RuntimeWarning: Mean of empty slice\n",
      "  return np.nanmean(a, axis, out=out, keepdims=keepdims)\n",
      "/opt/conda/lib/python3.9/site-packages/numpy/lib/nanfunctions.py:1117: RuntimeWarning: Mean of empty slice\n",
      "  return np.nanmean(a, axis, out=out, keepdims=keepdims)\n",
      "/opt/conda/lib/python3.9/site-packages/numpy/lib/nanfunctions.py:1117: RuntimeWarning: Mean of empty slice\n",
      "  return np.nanmean(a, axis, out=out, keepdims=keepdims)\n",
      "/opt/conda/lib/python3.9/site-packages/numpy/lib/nanfunctions.py:1117: RuntimeWarning: Mean of empty slice\n",
      "  return np.nanmean(a, axis, out=out, keepdims=keepdims)\n",
      "/opt/conda/lib/python3.9/site-packages/numpy/lib/nanfunctions.py:1117: RuntimeWarning: Mean of empty slice\n",
      "  return np.nanmean(a, axis, out=out, keepdims=keepdims)\n",
      "/opt/conda/lib/python3.9/site-packages/numpy/lib/nanfunctions.py:1117: RuntimeWarning: Mean of empty slice\n",
      "  return np.nanmean(a, axis, out=out, keepdims=keepdims)\n",
      "/opt/conda/lib/python3.9/site-packages/numpy/lib/nanfunctions.py:1117: RuntimeWarning: Mean of empty slice\n",
      "  return np.nanmean(a, axis, out=out, keepdims=keepdims)\n",
      "/opt/conda/lib/python3.9/site-packages/numpy/lib/nanfunctions.py:1117: RuntimeWarning: Mean of empty slice\n",
      "  return np.nanmean(a, axis, out=out, keepdims=keepdims)\n",
      "/opt/conda/lib/python3.9/site-packages/numpy/lib/nanfunctions.py:1117: RuntimeWarning: Mean of empty slice\n",
      "  return np.nanmean(a, axis, out=out, keepdims=keepdims)\n",
      "/opt/conda/lib/python3.9/site-packages/numpy/lib/nanfunctions.py:1117: RuntimeWarning: Mean of empty slice\n",
      "  return np.nanmean(a, axis, out=out, keepdims=keepdims)\n",
      "/opt/conda/lib/python3.9/site-packages/numpy/lib/nanfunctions.py:1117: RuntimeWarning: Mean of empty slice\n",
      "  return np.nanmean(a, axis, out=out, keepdims=keepdims)\n",
      "/opt/conda/lib/python3.9/site-packages/numpy/lib/nanfunctions.py:1117: RuntimeWarning: Mean of empty slice\n",
      "  return np.nanmean(a, axis, out=out, keepdims=keepdims)\n",
      "/opt/conda/lib/python3.9/site-packages/numpy/lib/nanfunctions.py:1117: RuntimeWarning: Mean of empty slice\n",
      "  return np.nanmean(a, axis, out=out, keepdims=keepdims)\n",
      "/opt/conda/lib/python3.9/site-packages/numpy/lib/nanfunctions.py:1117: RuntimeWarning: Mean of empty slice\n",
      "  return np.nanmean(a, axis, out=out, keepdims=keepdims)\n",
      "/opt/conda/lib/python3.9/site-packages/numpy/lib/nanfunctions.py:1117: RuntimeWarning: Mean of empty slice\n",
      "  return np.nanmean(a, axis, out=out, keepdims=keepdims)\n",
      "/opt/conda/lib/python3.9/site-packages/numpy/lib/nanfunctions.py:1117: RuntimeWarning: Mean of empty slice\n",
      "  return np.nanmean(a, axis, out=out, keepdims=keepdims)\n",
      "/opt/conda/lib/python3.9/site-packages/numpy/lib/nanfunctions.py:1117: RuntimeWarning: Mean of empty slice\n",
      "  return np.nanmean(a, axis, out=out, keepdims=keepdims)\n",
      "/opt/conda/lib/python3.9/site-packages/numpy/lib/nanfunctions.py:1117: RuntimeWarning: Mean of empty slice\n",
      "  return np.nanmean(a, axis, out=out, keepdims=keepdims)\n",
      "/opt/conda/lib/python3.9/site-packages/numpy/lib/nanfunctions.py:1117: RuntimeWarning: Mean of empty slice\n",
      "  return np.nanmean(a, axis, out=out, keepdims=keepdims)\n",
      "/opt/conda/lib/python3.9/site-packages/numpy/lib/nanfunctions.py:1117: RuntimeWarning: Mean of empty slice\n",
      "  return np.nanmean(a, axis, out=out, keepdims=keepdims)\n",
      "/opt/conda/lib/python3.9/site-packages/numpy/lib/nanfunctions.py:1117: RuntimeWarning: Mean of empty slice\n",
      "  return np.nanmean(a, axis, out=out, keepdims=keepdims)\n",
      "/opt/conda/lib/python3.9/site-packages/numpy/lib/nanfunctions.py:1117: RuntimeWarning: Mean of empty slice\n",
      "  return np.nanmean(a, axis, out=out, keepdims=keepdims)\n",
      "/opt/conda/lib/python3.9/site-packages/numpy/lib/nanfunctions.py:1117: RuntimeWarning: Mean of empty slice\n",
      "  return np.nanmean(a, axis, out=out, keepdims=keepdims)\n",
      "/opt/conda/lib/python3.9/site-packages/numpy/lib/nanfunctions.py:1117: RuntimeWarning: Mean of empty slice\n",
      "  return np.nanmean(a, axis, out=out, keepdims=keepdims)\n",
      "/opt/conda/lib/python3.9/site-packages/numpy/lib/nanfunctions.py:1117: RuntimeWarning: Mean of empty slice\n",
      "  return np.nanmean(a, axis, out=out, keepdims=keepdims)\n",
      "/opt/conda/lib/python3.9/site-packages/numpy/lib/nanfunctions.py:1117: RuntimeWarning: Mean of empty slice\n",
      "  return np.nanmean(a, axis, out=out, keepdims=keepdims)\n",
      "/opt/conda/lib/python3.9/site-packages/numpy/lib/nanfunctions.py:1117: RuntimeWarning: Mean of empty slice\n",
      "  return np.nanmean(a, axis, out=out, keepdims=keepdims)\n",
      "/opt/conda/lib/python3.9/site-packages/numpy/lib/nanfunctions.py:1117: RuntimeWarning: Mean of empty slice\n",
      "  return np.nanmean(a, axis, out=out, keepdims=keepdims)\n",
      "/opt/conda/lib/python3.9/site-packages/numpy/lib/nanfunctions.py:1117: RuntimeWarning: Mean of empty slice\n",
      "  return np.nanmean(a, axis, out=out, keepdims=keepdims)\n",
      "/opt/conda/lib/python3.9/site-packages/numpy/lib/nanfunctions.py:1117: RuntimeWarning: Mean of empty slice\n",
      "  return np.nanmean(a, axis, out=out, keepdims=keepdims)\n",
      "/opt/conda/lib/python3.9/site-packages/numpy/lib/nanfunctions.py:1117: RuntimeWarning: Mean of empty slice\n",
      "  return np.nanmean(a, axis, out=out, keepdims=keepdims)\n",
      "/opt/conda/lib/python3.9/site-packages/numpy/lib/nanfunctions.py:1117: RuntimeWarning: Mean of empty slice\n",
      "  return np.nanmean(a, axis, out=out, keepdims=keepdims)\n",
      "/opt/conda/lib/python3.9/site-packages/numpy/lib/nanfunctions.py:1117: RuntimeWarning: Mean of empty slice\n",
      "  return np.nanmean(a, axis, out=out, keepdims=keepdims)\n",
      "/opt/conda/lib/python3.9/site-packages/numpy/lib/nanfunctions.py:1117: RuntimeWarning: Mean of empty slice\n",
      "  return np.nanmean(a, axis, out=out, keepdims=keepdims)\n",
      "/opt/conda/lib/python3.9/site-packages/numpy/lib/nanfunctions.py:1117: RuntimeWarning: Mean of empty slice\n",
      "  return np.nanmean(a, axis, out=out, keepdims=keepdims)\n",
      "/opt/conda/lib/python3.9/site-packages/numpy/lib/nanfunctions.py:1117: RuntimeWarning: Mean of empty slice\n",
      "  return np.nanmean(a, axis, out=out, keepdims=keepdims)\n",
      "/opt/conda/lib/python3.9/site-packages/numpy/lib/nanfunctions.py:1117: RuntimeWarning: Mean of empty slice\n",
      "  return np.nanmean(a, axis, out=out, keepdims=keepdims)\n",
      "/opt/conda/lib/python3.9/site-packages/numpy/lib/nanfunctions.py:1117: RuntimeWarning: Mean of empty slice\n",
      "  return np.nanmean(a, axis, out=out, keepdims=keepdims)\n",
      "/opt/conda/lib/python3.9/site-packages/numpy/lib/nanfunctions.py:1117: RuntimeWarning: Mean of empty slice\n",
      "  return np.nanmean(a, axis, out=out, keepdims=keepdims)\n",
      "/opt/conda/lib/python3.9/site-packages/numpy/lib/nanfunctions.py:1117: RuntimeWarning: Mean of empty slice\n",
      "  return np.nanmean(a, axis, out=out, keepdims=keepdims)\n",
      "/opt/conda/lib/python3.9/site-packages/numpy/lib/nanfunctions.py:1117: RuntimeWarning: Mean of empty slice\n",
      "  return np.nanmean(a, axis, out=out, keepdims=keepdims)\n",
      "/opt/conda/lib/python3.9/site-packages/numpy/lib/nanfunctions.py:1117: RuntimeWarning: Mean of empty slice\n",
      "  return np.nanmean(a, axis, out=out, keepdims=keepdims)\n",
      "/opt/conda/lib/python3.9/site-packages/numpy/lib/nanfunctions.py:1117: RuntimeWarning: Mean of empty slice\n",
      "  return np.nanmean(a, axis, out=out, keepdims=keepdims)\n",
      "/opt/conda/lib/python3.9/site-packages/numpy/lib/nanfunctions.py:1117: RuntimeWarning: Mean of empty slice\n",
      "  return np.nanmean(a, axis, out=out, keepdims=keepdims)\n",
      "/opt/conda/lib/python3.9/site-packages/numpy/lib/nanfunctions.py:1117: RuntimeWarning: Mean of empty slice\n",
      "  return np.nanmean(a, axis, out=out, keepdims=keepdims)\n",
      "/opt/conda/lib/python3.9/site-packages/numpy/lib/nanfunctions.py:1117: RuntimeWarning: Mean of empty slice\n",
      "  return np.nanmean(a, axis, out=out, keepdims=keepdims)\n",
      "/opt/conda/lib/python3.9/site-packages/numpy/lib/nanfunctions.py:1117: RuntimeWarning: Mean of empty slice\n",
      "  return np.nanmean(a, axis, out=out, keepdims=keepdims)\n",
      "/opt/conda/lib/python3.9/site-packages/numpy/lib/nanfunctions.py:1117: RuntimeWarning: Mean of empty slice\n",
      "  return np.nanmean(a, axis, out=out, keepdims=keepdims)\n",
      "/opt/conda/lib/python3.9/site-packages/numpy/lib/nanfunctions.py:1117: RuntimeWarning: Mean of empty slice\n",
      "  return np.nanmean(a, axis, out=out, keepdims=keepdims)\n",
      "/opt/conda/lib/python3.9/site-packages/numpy/lib/nanfunctions.py:1117: RuntimeWarning: Mean of empty slice\n",
      "  return np.nanmean(a, axis, out=out, keepdims=keepdims)\n",
      "/opt/conda/lib/python3.9/site-packages/numpy/lib/nanfunctions.py:1117: RuntimeWarning: Mean of empty slice\n",
      "  return np.nanmean(a, axis, out=out, keepdims=keepdims)\n",
      "/opt/conda/lib/python3.9/site-packages/numpy/lib/nanfunctions.py:1117: RuntimeWarning: Mean of empty slice\n",
      "  return np.nanmean(a, axis, out=out, keepdims=keepdims)\n",
      "/opt/conda/lib/python3.9/site-packages/numpy/lib/nanfunctions.py:1117: RuntimeWarning: Mean of empty slice\n",
      "  return np.nanmean(a, axis, out=out, keepdims=keepdims)\n",
      "/opt/conda/lib/python3.9/site-packages/numpy/lib/nanfunctions.py:1117: RuntimeWarning: Mean of empty slice\n",
      "  return np.nanmean(a, axis, out=out, keepdims=keepdims)\n",
      "/opt/conda/lib/python3.9/site-packages/numpy/lib/nanfunctions.py:1117: RuntimeWarning: Mean of empty slice\n",
      "  return np.nanmean(a, axis, out=out, keepdims=keepdims)\n",
      "/opt/conda/lib/python3.9/site-packages/numpy/lib/nanfunctions.py:1117: RuntimeWarning: Mean of empty slice\n",
      "  return np.nanmean(a, axis, out=out, keepdims=keepdims)\n",
      "/opt/conda/lib/python3.9/site-packages/numpy/lib/nanfunctions.py:1117: RuntimeWarning: Mean of empty slice\n",
      "  return np.nanmean(a, axis, out=out, keepdims=keepdims)\n",
      "/opt/conda/lib/python3.9/site-packages/numpy/lib/nanfunctions.py:1117: RuntimeWarning: Mean of empty slice\n",
      "  return np.nanmean(a, axis, out=out, keepdims=keepdims)\n",
      "/opt/conda/lib/python3.9/site-packages/numpy/lib/nanfunctions.py:1117: RuntimeWarning: Mean of empty slice\n",
      "  return np.nanmean(a, axis, out=out, keepdims=keepdims)\n",
      "/opt/conda/lib/python3.9/site-packages/numpy/lib/nanfunctions.py:1117: RuntimeWarning: Mean of empty slice\n",
      "  return np.nanmean(a, axis, out=out, keepdims=keepdims)\n",
      "/opt/conda/lib/python3.9/site-packages/numpy/lib/nanfunctions.py:1117: RuntimeWarning: Mean of empty slice\n",
      "  return np.nanmean(a, axis, out=out, keepdims=keepdims)\n",
      "/opt/conda/lib/python3.9/site-packages/numpy/lib/nanfunctions.py:1117: RuntimeWarning: Mean of empty slice\n",
      "  return np.nanmean(a, axis, out=out, keepdims=keepdims)\n",
      "/opt/conda/lib/python3.9/site-packages/numpy/lib/nanfunctions.py:1117: RuntimeWarning: Mean of empty slice\n",
      "  return np.nanmean(a, axis, out=out, keepdims=keepdims)\n",
      "/opt/conda/lib/python3.9/site-packages/numpy/lib/nanfunctions.py:1117: RuntimeWarning: Mean of empty slice\n",
      "  return np.nanmean(a, axis, out=out, keepdims=keepdims)\n"
     ]
    },
    {
     "data": {
      "text/html": [
       "<div>\n",
       "<style scoped>\n",
       "    .dataframe tbody tr th:only-of-type {\n",
       "        vertical-align: middle;\n",
       "    }\n",
       "\n",
       "    .dataframe tbody tr th {\n",
       "        vertical-align: top;\n",
       "    }\n",
       "\n",
       "    .dataframe thead th {\n",
       "        text-align: right;\n",
       "    }\n",
       "</style>\n",
       "<table border=\"1\" class=\"dataframe\">\n",
       "  <thead>\n",
       "    <tr style=\"text-align: right;\">\n",
       "      <th></th>\n",
       "      <th>total_images</th>\n",
       "      <th>last_price</th>\n",
       "      <th>total_area</th>\n",
       "      <th>first_day_exposition</th>\n",
       "      <th>rooms</th>\n",
       "      <th>ceiling_height</th>\n",
       "      <th>floors_total</th>\n",
       "      <th>living_area</th>\n",
       "      <th>floor</th>\n",
       "      <th>is_apartment</th>\n",
       "      <th>studio</th>\n",
       "      <th>open_plan</th>\n",
       "      <th>kitchen_area</th>\n",
       "      <th>balcony</th>\n",
       "      <th>locality_name</th>\n",
       "      <th>airports_nearest</th>\n",
       "      <th>city_centers_nearest</th>\n",
       "      <th>parks_around3000</th>\n",
       "      <th>parks_nearest</th>\n",
       "      <th>ponds_around3000</th>\n",
       "      <th>ponds_nearest</th>\n",
       "      <th>days_exposition</th>\n",
       "    </tr>\n",
       "  </thead>\n",
       "  <tbody>\n",
       "    <tr>\n",
       "      <th>0</th>\n",
       "      <td>20</td>\n",
       "      <td>13000000</td>\n",
       "      <td>108.00</td>\n",
       "      <td>2019-03-07</td>\n",
       "      <td>3</td>\n",
       "      <td>2.70</td>\n",
       "      <td>16.00</td>\n",
       "      <td>51.00</td>\n",
       "      <td>8</td>\n",
       "      <td>False</td>\n",
       "      <td>False</td>\n",
       "      <td>False</td>\n",
       "      <td>25.00</td>\n",
       "      <td>0</td>\n",
       "      <td>Санкт-Петербург</td>\n",
       "      <td>18,863.00</td>\n",
       "      <td>16,028.00</td>\n",
       "      <td>1</td>\n",
       "      <td>482.00</td>\n",
       "      <td>2</td>\n",
       "      <td>755.00</td>\n",
       "      <td>NaN</td>\n",
       "    </tr>\n",
       "    <tr>\n",
       "      <th>1</th>\n",
       "      <td>7</td>\n",
       "      <td>3350000</td>\n",
       "      <td>40.40</td>\n",
       "      <td>2018-12-04</td>\n",
       "      <td>1</td>\n",
       "      <td>2.65</td>\n",
       "      <td>11.00</td>\n",
       "      <td>18.60</td>\n",
       "      <td>1</td>\n",
       "      <td>False</td>\n",
       "      <td>False</td>\n",
       "      <td>False</td>\n",
       "      <td>11.00</td>\n",
       "      <td>2</td>\n",
       "      <td>посёлок Шушары</td>\n",
       "      <td>12,817.00</td>\n",
       "      <td>18,603.00</td>\n",
       "      <td>0</td>\n",
       "      <td>NaN</td>\n",
       "      <td>0</td>\n",
       "      <td>NaN</td>\n",
       "      <td>81.00</td>\n",
       "    </tr>\n",
       "    <tr>\n",
       "      <th>2</th>\n",
       "      <td>10</td>\n",
       "      <td>5196000</td>\n",
       "      <td>56.00</td>\n",
       "      <td>2015-08-20</td>\n",
       "      <td>2</td>\n",
       "      <td>2.60</td>\n",
       "      <td>5.00</td>\n",
       "      <td>34.30</td>\n",
       "      <td>4</td>\n",
       "      <td>False</td>\n",
       "      <td>False</td>\n",
       "      <td>False</td>\n",
       "      <td>8.30</td>\n",
       "      <td>0</td>\n",
       "      <td>Санкт-Петербург</td>\n",
       "      <td>21,741.00</td>\n",
       "      <td>13,933.00</td>\n",
       "      <td>1</td>\n",
       "      <td>90.00</td>\n",
       "      <td>2</td>\n",
       "      <td>574.00</td>\n",
       "      <td>558.00</td>\n",
       "    </tr>\n",
       "    <tr>\n",
       "      <th>3</th>\n",
       "      <td>0</td>\n",
       "      <td>64900000</td>\n",
       "      <td>159.00</td>\n",
       "      <td>2015-07-24</td>\n",
       "      <td>3</td>\n",
       "      <td>2.60</td>\n",
       "      <td>14.00</td>\n",
       "      <td>90.79</td>\n",
       "      <td>9</td>\n",
       "      <td>False</td>\n",
       "      <td>False</td>\n",
       "      <td>False</td>\n",
       "      <td>27.85</td>\n",
       "      <td>0</td>\n",
       "      <td>Санкт-Петербург</td>\n",
       "      <td>28,098.00</td>\n",
       "      <td>6,800.00</td>\n",
       "      <td>2</td>\n",
       "      <td>84.00</td>\n",
       "      <td>3</td>\n",
       "      <td>234.00</td>\n",
       "      <td>424.00</td>\n",
       "    </tr>\n",
       "    <tr>\n",
       "      <th>4</th>\n",
       "      <td>2</td>\n",
       "      <td>10000000</td>\n",
       "      <td>100.00</td>\n",
       "      <td>2018-06-19</td>\n",
       "      <td>2</td>\n",
       "      <td>3.03</td>\n",
       "      <td>14.00</td>\n",
       "      <td>32.00</td>\n",
       "      <td>13</td>\n",
       "      <td>False</td>\n",
       "      <td>False</td>\n",
       "      <td>False</td>\n",
       "      <td>41.00</td>\n",
       "      <td>0</td>\n",
       "      <td>Санкт-Петербург</td>\n",
       "      <td>31,856.00</td>\n",
       "      <td>8,098.00</td>\n",
       "      <td>2</td>\n",
       "      <td>112.00</td>\n",
       "      <td>1</td>\n",
       "      <td>48.00</td>\n",
       "      <td>121.00</td>\n",
       "    </tr>\n",
       "    <tr>\n",
       "      <th>5</th>\n",
       "      <td>10</td>\n",
       "      <td>2890000</td>\n",
       "      <td>30.40</td>\n",
       "      <td>2018-09-10</td>\n",
       "      <td>1</td>\n",
       "      <td>2.62</td>\n",
       "      <td>12.00</td>\n",
       "      <td>14.40</td>\n",
       "      <td>5</td>\n",
       "      <td>False</td>\n",
       "      <td>False</td>\n",
       "      <td>False</td>\n",
       "      <td>9.10</td>\n",
       "      <td>0</td>\n",
       "      <td>городской посёлок Янино-1</td>\n",
       "      <td>NaN</td>\n",
       "      <td>NaN</td>\n",
       "      <td>0</td>\n",
       "      <td>NaN</td>\n",
       "      <td>0</td>\n",
       "      <td>NaN</td>\n",
       "      <td>55.00</td>\n",
       "    </tr>\n",
       "    <tr>\n",
       "      <th>6</th>\n",
       "      <td>6</td>\n",
       "      <td>3700000</td>\n",
       "      <td>37.30</td>\n",
       "      <td>2017-11-02</td>\n",
       "      <td>1</td>\n",
       "      <td>2.60</td>\n",
       "      <td>26.00</td>\n",
       "      <td>10.60</td>\n",
       "      <td>6</td>\n",
       "      <td>False</td>\n",
       "      <td>False</td>\n",
       "      <td>False</td>\n",
       "      <td>14.40</td>\n",
       "      <td>1</td>\n",
       "      <td>посёлок Парголово</td>\n",
       "      <td>52,996.00</td>\n",
       "      <td>19,143.00</td>\n",
       "      <td>0</td>\n",
       "      <td>NaN</td>\n",
       "      <td>0</td>\n",
       "      <td>NaN</td>\n",
       "      <td>155.00</td>\n",
       "    </tr>\n",
       "    <tr>\n",
       "      <th>7</th>\n",
       "      <td>5</td>\n",
       "      <td>7915000</td>\n",
       "      <td>71.60</td>\n",
       "      <td>2019-04-18</td>\n",
       "      <td>2</td>\n",
       "      <td>2.75</td>\n",
       "      <td>24.00</td>\n",
       "      <td>40.88</td>\n",
       "      <td>22</td>\n",
       "      <td>False</td>\n",
       "      <td>False</td>\n",
       "      <td>False</td>\n",
       "      <td>18.90</td>\n",
       "      <td>2</td>\n",
       "      <td>Санкт-Петербург</td>\n",
       "      <td>23,982.00</td>\n",
       "      <td>11,634.00</td>\n",
       "      <td>0</td>\n",
       "      <td>NaN</td>\n",
       "      <td>0</td>\n",
       "      <td>NaN</td>\n",
       "      <td>NaN</td>\n",
       "    </tr>\n",
       "    <tr>\n",
       "      <th>8</th>\n",
       "      <td>20</td>\n",
       "      <td>2900000</td>\n",
       "      <td>33.16</td>\n",
       "      <td>2018-05-23</td>\n",
       "      <td>1</td>\n",
       "      <td>2.65</td>\n",
       "      <td>27.00</td>\n",
       "      <td>15.43</td>\n",
       "      <td>26</td>\n",
       "      <td>False</td>\n",
       "      <td>False</td>\n",
       "      <td>False</td>\n",
       "      <td>8.81</td>\n",
       "      <td>0</td>\n",
       "      <td>посёлок Мурино</td>\n",
       "      <td>NaN</td>\n",
       "      <td>NaN</td>\n",
       "      <td>0</td>\n",
       "      <td>NaN</td>\n",
       "      <td>0</td>\n",
       "      <td>NaN</td>\n",
       "      <td>189.00</td>\n",
       "    </tr>\n",
       "    <tr>\n",
       "      <th>9</th>\n",
       "      <td>18</td>\n",
       "      <td>5400000</td>\n",
       "      <td>61.00</td>\n",
       "      <td>2017-02-26</td>\n",
       "      <td>3</td>\n",
       "      <td>2.50</td>\n",
       "      <td>9.00</td>\n",
       "      <td>43.60</td>\n",
       "      <td>7</td>\n",
       "      <td>False</td>\n",
       "      <td>False</td>\n",
       "      <td>False</td>\n",
       "      <td>6.50</td>\n",
       "      <td>2</td>\n",
       "      <td>Санкт-Петербург</td>\n",
       "      <td>50,898.00</td>\n",
       "      <td>15,008.00</td>\n",
       "      <td>0</td>\n",
       "      <td>NaN</td>\n",
       "      <td>0</td>\n",
       "      <td>NaN</td>\n",
       "      <td>289.00</td>\n",
       "    </tr>\n",
       "  </tbody>\n",
       "</table>\n",
       "</div>"
      ],
      "text/plain": [
       "   total_images  last_price  total_area first_day_exposition  rooms  \\\n",
       "0            20    13000000      108.00           2019-03-07      3   \n",
       "1             7     3350000       40.40           2018-12-04      1   \n",
       "2            10     5196000       56.00           2015-08-20      2   \n",
       "3             0    64900000      159.00           2015-07-24      3   \n",
       "4             2    10000000      100.00           2018-06-19      2   \n",
       "5            10     2890000       30.40           2018-09-10      1   \n",
       "6             6     3700000       37.30           2017-11-02      1   \n",
       "7             5     7915000       71.60           2019-04-18      2   \n",
       "8            20     2900000       33.16           2018-05-23      1   \n",
       "9            18     5400000       61.00           2017-02-26      3   \n",
       "\n",
       "   ceiling_height  floors_total  living_area  floor  is_apartment  studio  \\\n",
       "0            2.70         16.00        51.00      8         False   False   \n",
       "1            2.65         11.00        18.60      1         False   False   \n",
       "2            2.60          5.00        34.30      4         False   False   \n",
       "3            2.60         14.00        90.79      9         False   False   \n",
       "4            3.03         14.00        32.00     13         False   False   \n",
       "5            2.62         12.00        14.40      5         False   False   \n",
       "6            2.60         26.00        10.60      6         False   False   \n",
       "7            2.75         24.00        40.88     22         False   False   \n",
       "8            2.65         27.00        15.43     26         False   False   \n",
       "9            2.50          9.00        43.60      7         False   False   \n",
       "\n",
       "   open_plan  kitchen_area  balcony              locality_name  \\\n",
       "0      False         25.00        0            Санкт-Петербург   \n",
       "1      False         11.00        2             посёлок Шушары   \n",
       "2      False          8.30        0            Санкт-Петербург   \n",
       "3      False         27.85        0            Санкт-Петербург   \n",
       "4      False         41.00        0            Санкт-Петербург   \n",
       "5      False          9.10        0  городской посёлок Янино-1   \n",
       "6      False         14.40        1          посёлок Парголово   \n",
       "7      False         18.90        2            Санкт-Петербург   \n",
       "8      False          8.81        0             посёлок Мурино   \n",
       "9      False          6.50        2            Санкт-Петербург   \n",
       "\n",
       "   airports_nearest  city_centers_nearest  parks_around3000  parks_nearest  \\\n",
       "0         18,863.00             16,028.00                 1         482.00   \n",
       "1         12,817.00             18,603.00                 0            NaN   \n",
       "2         21,741.00             13,933.00                 1          90.00   \n",
       "3         28,098.00              6,800.00                 2          84.00   \n",
       "4         31,856.00              8,098.00                 2         112.00   \n",
       "5               NaN                   NaN                 0            NaN   \n",
       "6         52,996.00             19,143.00                 0            NaN   \n",
       "7         23,982.00             11,634.00                 0            NaN   \n",
       "8               NaN                   NaN                 0            NaN   \n",
       "9         50,898.00             15,008.00                 0            NaN   \n",
       "\n",
       "   ponds_around3000  ponds_nearest  days_exposition  \n",
       "0                 2         755.00              NaN  \n",
       "1                 0            NaN            81.00  \n",
       "2                 2         574.00           558.00  \n",
       "3                 3         234.00           424.00  \n",
       "4                 1          48.00           121.00  \n",
       "5                 0            NaN            55.00  \n",
       "6                 0            NaN           155.00  \n",
       "7                 0            NaN              NaN  \n",
       "8                 0            NaN           189.00  \n",
       "9                 0            NaN           289.00  "
      ]
     },
     "metadata": {},
     "output_type": "display_data"
    }
   ],
   "source": [
    "# отбросим данные с незначительным кол-вом пропусков: locality_name\n",
    "data.dropna(subset=['locality_name'], inplace=True)\n",
    "\n",
    "# переименуем столбец cityCenters_nearest в city_centers_nearest\n",
    "data.rename(columns = {'cityCenters_nearest':'city_centers_nearest'}, inplace=True)\n",
    "\n",
    "# приводим в целочисленный тип стоимость квартиры, т.к. нет необходимости знать стоимость квартиры до копеек\n",
    "data['last_price'] = data['last_price'].astype(int)\n",
    "\n",
    "# приводим к типу даты дату публикации\n",
    "data['first_day_exposition'] = pd.to_datetime(data['first_day_exposition'], format='%Y-%m-%dT%H:%M:%S')\n",
    "\n",
    "# рассмотрим столбец is_apartment. Почему так много пропусков и какие там есть значения?\n",
    "data['is_apartment'].unique()\n",
    "# значения Nan, False и True. Заменим Nan на False\n",
    "data['is_apartment'].fillna(False, inplace=True)\n",
    "\n",
    "# приводим в целочисленный тип количество балконов. Заменяем пропущенные значения на 0\n",
    "data['balcony'] = data['balcony'].fillna(0).astype(int)\n",
    "\n",
    "# приводим в целочисленный тип количество парков. Заменяем пропущенные значения на 0\n",
    "data['parks_around3000'] = data['parks_around3000'].fillna(0).astype(int)\n",
    "\n",
    "# приводим в целочисленный тип количество прудов. Заменяем пропущенные значения на 0\n",
    "data['ponds_around3000'] = data['ponds_around3000'].fillna(0).astype(int)\n",
    "\n",
    "# заменяем оставшиеся пустые значения высоты потолков на медианное значение по всему датасету\n",
    "data['ceiling_height'] = data.groupby(['locality_name', 'floors_total'])['ceiling_height'].apply(lambda x: x.fillna(x.median()))\n",
    "data['ceiling_height'].fillna(data['ceiling_height'].median(), inplace=True)\n",
    "\n",
    "# заменяем пустые значения жилой площади и площади кухни\n",
    "living_ratio = data['living_area'].mean() / data['total_area'].mean()\n",
    "kitchen_ratio = data['kitchen_area'].mean() / data['total_area'].mean()\n",
    "data['living_area'].fillna(living_ratio * data['total_area'], inplace=True)\n",
    "data['kitchen_area'].fillna(kitchen_ratio * data['total_area'], inplace=True)\n",
    "\n",
    "display(data.head(10)) # выведем первых 10 строк\n"
   ]
  },
  {
   "cell_type": "code",
   "execution_count": 4,
   "metadata": {},
   "outputs": [
    {
     "data": {
      "text/html": [
       "<div>\n",
       "<style scoped>\n",
       "    .dataframe tbody tr th:only-of-type {\n",
       "        vertical-align: middle;\n",
       "    }\n",
       "\n",
       "    .dataframe tbody tr th {\n",
       "        vertical-align: top;\n",
       "    }\n",
       "\n",
       "    .dataframe thead th {\n",
       "        text-align: right;\n",
       "    }\n",
       "</style>\n",
       "<table border=\"1\" class=\"dataframe\">\n",
       "  <thead>\n",
       "    <tr style=\"text-align: right;\">\n",
       "      <th></th>\n",
       "      <th>total_images</th>\n",
       "      <th>last_price</th>\n",
       "      <th>total_area</th>\n",
       "      <th>first_day_exposition</th>\n",
       "      <th>rooms</th>\n",
       "      <th>ceiling_height</th>\n",
       "      <th>floors_total</th>\n",
       "      <th>living_area</th>\n",
       "      <th>floor</th>\n",
       "      <th>is_apartment</th>\n",
       "      <th>studio</th>\n",
       "      <th>open_plan</th>\n",
       "      <th>kitchen_area</th>\n",
       "      <th>balcony</th>\n",
       "      <th>locality_name</th>\n",
       "      <th>airports_nearest</th>\n",
       "      <th>city_centers_nearest</th>\n",
       "      <th>parks_around3000</th>\n",
       "      <th>parks_nearest</th>\n",
       "      <th>ponds_around3000</th>\n",
       "      <th>ponds_nearest</th>\n",
       "      <th>days_exposition</th>\n",
       "    </tr>\n",
       "  </thead>\n",
       "  <tbody>\n",
       "    <tr>\n",
       "      <th>186</th>\n",
       "      <td>12</td>\n",
       "      <td>11640000</td>\n",
       "      <td>65.20</td>\n",
       "      <td>2018-10-02</td>\n",
       "      <td>2</td>\n",
       "      <td>2.65</td>\n",
       "      <td>NaN</td>\n",
       "      <td>30.80</td>\n",
       "      <td>4</td>\n",
       "      <td>False</td>\n",
       "      <td>False</td>\n",
       "      <td>False</td>\n",
       "      <td>12.00</td>\n",
       "      <td>0</td>\n",
       "      <td>Санкт-Петербург</td>\n",
       "      <td>39,197.00</td>\n",
       "      <td>12,373.00</td>\n",
       "      <td>1</td>\n",
       "      <td>123.00</td>\n",
       "      <td>0</td>\n",
       "      <td>NaN</td>\n",
       "      <td>49.00</td>\n",
       "    </tr>\n",
       "    <tr>\n",
       "      <th>237</th>\n",
       "      <td>4</td>\n",
       "      <td>2438033</td>\n",
       "      <td>28.10</td>\n",
       "      <td>2016-11-23</td>\n",
       "      <td>1</td>\n",
       "      <td>2.65</td>\n",
       "      <td>NaN</td>\n",
       "      <td>20.75</td>\n",
       "      <td>1</td>\n",
       "      <td>False</td>\n",
       "      <td>False</td>\n",
       "      <td>False</td>\n",
       "      <td>4.92</td>\n",
       "      <td>0</td>\n",
       "      <td>Санкт-Петербург</td>\n",
       "      <td>22,041.00</td>\n",
       "      <td>17,369.00</td>\n",
       "      <td>0</td>\n",
       "      <td>NaN</td>\n",
       "      <td>1</td>\n",
       "      <td>374.00</td>\n",
       "      <td>251.00</td>\n",
       "    </tr>\n",
       "    <tr>\n",
       "      <th>457</th>\n",
       "      <td>4</td>\n",
       "      <td>9788348</td>\n",
       "      <td>70.80</td>\n",
       "      <td>2015-08-01</td>\n",
       "      <td>2</td>\n",
       "      <td>2.65</td>\n",
       "      <td>NaN</td>\n",
       "      <td>38.40</td>\n",
       "      <td>12</td>\n",
       "      <td>False</td>\n",
       "      <td>False</td>\n",
       "      <td>False</td>\n",
       "      <td>10.63</td>\n",
       "      <td>0</td>\n",
       "      <td>Санкт-Петербург</td>\n",
       "      <td>37,364.00</td>\n",
       "      <td>8,322.00</td>\n",
       "      <td>2</td>\n",
       "      <td>309.00</td>\n",
       "      <td>2</td>\n",
       "      <td>706.00</td>\n",
       "      <td>727.00</td>\n",
       "    </tr>\n",
       "    <tr>\n",
       "      <th>671</th>\n",
       "      <td>4</td>\n",
       "      <td>6051191</td>\n",
       "      <td>93.60</td>\n",
       "      <td>2017-04-06</td>\n",
       "      <td>3</td>\n",
       "      <td>2.65</td>\n",
       "      <td>NaN</td>\n",
       "      <td>47.10</td>\n",
       "      <td>8</td>\n",
       "      <td>False</td>\n",
       "      <td>False</td>\n",
       "      <td>False</td>\n",
       "      <td>16.80</td>\n",
       "      <td>0</td>\n",
       "      <td>Санкт-Петербург</td>\n",
       "      <td>22,041.00</td>\n",
       "      <td>17,369.00</td>\n",
       "      <td>0</td>\n",
       "      <td>NaN</td>\n",
       "      <td>1</td>\n",
       "      <td>374.00</td>\n",
       "      <td>123.00</td>\n",
       "    </tr>\n",
       "    <tr>\n",
       "      <th>1757</th>\n",
       "      <td>5</td>\n",
       "      <td>3600000</td>\n",
       "      <td>39.00</td>\n",
       "      <td>2017-04-22</td>\n",
       "      <td>1</td>\n",
       "      <td>2.65</td>\n",
       "      <td>NaN</td>\n",
       "      <td>22.27</td>\n",
       "      <td>9</td>\n",
       "      <td>False</td>\n",
       "      <td>False</td>\n",
       "      <td>False</td>\n",
       "      <td>6.83</td>\n",
       "      <td>0</td>\n",
       "      <td>Санкт-Петербург</td>\n",
       "      <td>22,735.00</td>\n",
       "      <td>11,618.00</td>\n",
       "      <td>1</td>\n",
       "      <td>835.00</td>\n",
       "      <td>1</td>\n",
       "      <td>652.00</td>\n",
       "      <td>77.00</td>\n",
       "    </tr>\n",
       "    <tr>\n",
       "      <th>...</th>\n",
       "      <td>...</td>\n",
       "      <td>...</td>\n",
       "      <td>...</td>\n",
       "      <td>...</td>\n",
       "      <td>...</td>\n",
       "      <td>...</td>\n",
       "      <td>...</td>\n",
       "      <td>...</td>\n",
       "      <td>...</td>\n",
       "      <td>...</td>\n",
       "      <td>...</td>\n",
       "      <td>...</td>\n",
       "      <td>...</td>\n",
       "      <td>...</td>\n",
       "      <td>...</td>\n",
       "      <td>...</td>\n",
       "      <td>...</td>\n",
       "      <td>...</td>\n",
       "      <td>...</td>\n",
       "      <td>...</td>\n",
       "      <td>...</td>\n",
       "      <td>...</td>\n",
       "    </tr>\n",
       "    <tr>\n",
       "      <th>22542</th>\n",
       "      <td>5</td>\n",
       "      <td>8500000</td>\n",
       "      <td>63.50</td>\n",
       "      <td>2017-05-24</td>\n",
       "      <td>2</td>\n",
       "      <td>2.65</td>\n",
       "      <td>NaN</td>\n",
       "      <td>36.26</td>\n",
       "      <td>3</td>\n",
       "      <td>False</td>\n",
       "      <td>False</td>\n",
       "      <td>False</td>\n",
       "      <td>11.12</td>\n",
       "      <td>0</td>\n",
       "      <td>Санкт-Петербург</td>\n",
       "      <td>51,340.00</td>\n",
       "      <td>15,363.00</td>\n",
       "      <td>0</td>\n",
       "      <td>NaN</td>\n",
       "      <td>1</td>\n",
       "      <td>853.00</td>\n",
       "      <td>512.00</td>\n",
       "    </tr>\n",
       "    <tr>\n",
       "      <th>22656</th>\n",
       "      <td>4</td>\n",
       "      <td>4574160</td>\n",
       "      <td>64.50</td>\n",
       "      <td>2017-04-02</td>\n",
       "      <td>2</td>\n",
       "      <td>2.65</td>\n",
       "      <td>NaN</td>\n",
       "      <td>31.70</td>\n",
       "      <td>20</td>\n",
       "      <td>False</td>\n",
       "      <td>False</td>\n",
       "      <td>False</td>\n",
       "      <td>14.40</td>\n",
       "      <td>0</td>\n",
       "      <td>Санкт-Петербург</td>\n",
       "      <td>22,041.00</td>\n",
       "      <td>17,369.00</td>\n",
       "      <td>0</td>\n",
       "      <td>NaN</td>\n",
       "      <td>1</td>\n",
       "      <td>374.00</td>\n",
       "      <td>127.00</td>\n",
       "    </tr>\n",
       "    <tr>\n",
       "      <th>22808</th>\n",
       "      <td>0</td>\n",
       "      <td>14569263</td>\n",
       "      <td>110.40</td>\n",
       "      <td>2016-11-20</td>\n",
       "      <td>3</td>\n",
       "      <td>2.65</td>\n",
       "      <td>NaN</td>\n",
       "      <td>45.38</td>\n",
       "      <td>6</td>\n",
       "      <td>False</td>\n",
       "      <td>False</td>\n",
       "      <td>False</td>\n",
       "      <td>23.42</td>\n",
       "      <td>0</td>\n",
       "      <td>Санкт-Петербург</td>\n",
       "      <td>19,095.00</td>\n",
       "      <td>4,529.00</td>\n",
       "      <td>0</td>\n",
       "      <td>NaN</td>\n",
       "      <td>0</td>\n",
       "      <td>NaN</td>\n",
       "      <td>260.00</td>\n",
       "    </tr>\n",
       "    <tr>\n",
       "      <th>23590</th>\n",
       "      <td>0</td>\n",
       "      <td>21187872</td>\n",
       "      <td>123.30</td>\n",
       "      <td>2017-04-25</td>\n",
       "      <td>3</td>\n",
       "      <td>2.65</td>\n",
       "      <td>NaN</td>\n",
       "      <td>50.40</td>\n",
       "      <td>18</td>\n",
       "      <td>False</td>\n",
       "      <td>False</td>\n",
       "      <td>False</td>\n",
       "      <td>23.60</td>\n",
       "      <td>0</td>\n",
       "      <td>Санкт-Петербург</td>\n",
       "      <td>19,095.00</td>\n",
       "      <td>4,529.00</td>\n",
       "      <td>0</td>\n",
       "      <td>NaN</td>\n",
       "      <td>0</td>\n",
       "      <td>NaN</td>\n",
       "      <td>104.00</td>\n",
       "    </tr>\n",
       "    <tr>\n",
       "      <th>23658</th>\n",
       "      <td>6</td>\n",
       "      <td>3063600</td>\n",
       "      <td>43.80</td>\n",
       "      <td>2016-11-28</td>\n",
       "      <td>1</td>\n",
       "      <td>2.65</td>\n",
       "      <td>NaN</td>\n",
       "      <td>14.00</td>\n",
       "      <td>8</td>\n",
       "      <td>False</td>\n",
       "      <td>False</td>\n",
       "      <td>False</td>\n",
       "      <td>15.50</td>\n",
       "      <td>2</td>\n",
       "      <td>Санкт-Петербург</td>\n",
       "      <td>8,426.00</td>\n",
       "      <td>12,082.00</td>\n",
       "      <td>2</td>\n",
       "      <td>24.00</td>\n",
       "      <td>1</td>\n",
       "      <td>271.00</td>\n",
       "      <td>246.00</td>\n",
       "    </tr>\n",
       "  </tbody>\n",
       "</table>\n",
       "<p>85 rows × 22 columns</p>\n",
       "</div>"
      ],
      "text/plain": [
       "       total_images  last_price  total_area first_day_exposition  rooms  \\\n",
       "186              12    11640000       65.20           2018-10-02      2   \n",
       "237               4     2438033       28.10           2016-11-23      1   \n",
       "457               4     9788348       70.80           2015-08-01      2   \n",
       "671               4     6051191       93.60           2017-04-06      3   \n",
       "1757              5     3600000       39.00           2017-04-22      1   \n",
       "...             ...         ...         ...                  ...    ...   \n",
       "22542             5     8500000       63.50           2017-05-24      2   \n",
       "22656             4     4574160       64.50           2017-04-02      2   \n",
       "22808             0    14569263      110.40           2016-11-20      3   \n",
       "23590             0    21187872      123.30           2017-04-25      3   \n",
       "23658             6     3063600       43.80           2016-11-28      1   \n",
       "\n",
       "       ceiling_height  floors_total  living_area  floor  is_apartment  studio  \\\n",
       "186              2.65           NaN        30.80      4         False   False   \n",
       "237              2.65           NaN        20.75      1         False   False   \n",
       "457              2.65           NaN        38.40     12         False   False   \n",
       "671              2.65           NaN        47.10      8         False   False   \n",
       "1757             2.65           NaN        22.27      9         False   False   \n",
       "...               ...           ...          ...    ...           ...     ...   \n",
       "22542            2.65           NaN        36.26      3         False   False   \n",
       "22656            2.65           NaN        31.70     20         False   False   \n",
       "22808            2.65           NaN        45.38      6         False   False   \n",
       "23590            2.65           NaN        50.40     18         False   False   \n",
       "23658            2.65           NaN        14.00      8         False   False   \n",
       "\n",
       "       open_plan  kitchen_area  balcony    locality_name  airports_nearest  \\\n",
       "186        False         12.00        0  Санкт-Петербург         39,197.00   \n",
       "237        False          4.92        0  Санкт-Петербург         22,041.00   \n",
       "457        False         10.63        0  Санкт-Петербург         37,364.00   \n",
       "671        False         16.80        0  Санкт-Петербург         22,041.00   \n",
       "1757       False          6.83        0  Санкт-Петербург         22,735.00   \n",
       "...          ...           ...      ...              ...               ...   \n",
       "22542      False         11.12        0  Санкт-Петербург         51,340.00   \n",
       "22656      False         14.40        0  Санкт-Петербург         22,041.00   \n",
       "22808      False         23.42        0  Санкт-Петербург         19,095.00   \n",
       "23590      False         23.60        0  Санкт-Петербург         19,095.00   \n",
       "23658      False         15.50        2  Санкт-Петербург          8,426.00   \n",
       "\n",
       "       city_centers_nearest  parks_around3000  parks_nearest  \\\n",
       "186               12,373.00                 1         123.00   \n",
       "237               17,369.00                 0            NaN   \n",
       "457                8,322.00                 2         309.00   \n",
       "671               17,369.00                 0            NaN   \n",
       "1757              11,618.00                 1         835.00   \n",
       "...                     ...               ...            ...   \n",
       "22542             15,363.00                 0            NaN   \n",
       "22656             17,369.00                 0            NaN   \n",
       "22808              4,529.00                 0            NaN   \n",
       "23590              4,529.00                 0            NaN   \n",
       "23658             12,082.00                 2          24.00   \n",
       "\n",
       "       ponds_around3000  ponds_nearest  days_exposition  \n",
       "186                   0            NaN            49.00  \n",
       "237                   1         374.00           251.00  \n",
       "457                   2         706.00           727.00  \n",
       "671                   1         374.00           123.00  \n",
       "1757                  1         652.00            77.00  \n",
       "...                 ...            ...              ...  \n",
       "22542                 1         853.00           512.00  \n",
       "22656                 1         374.00           127.00  \n",
       "22808                 0            NaN           260.00  \n",
       "23590                 0            NaN           104.00  \n",
       "23658                 1         271.00           246.00  \n",
       "\n",
       "[85 rows x 22 columns]"
      ]
     },
     "execution_count": 4,
     "metadata": {},
     "output_type": "execute_result"
    }
   ],
   "source": [
    "# отобразим данные только с floors_total = NaN, если предположить, что указаны одноэтажные дома, то значение floor = 1, но это не так\n",
    "bool_series = pd.isnull(data['floors_total']) \n",
    "data[bool_series] "
   ]
  },
  {
   "cell_type": "code",
   "execution_count": 5,
   "metadata": {},
   "outputs": [
    {
     "data": {
      "text/html": [
       "<div>\n",
       "<style scoped>\n",
       "    .dataframe tbody tr th:only-of-type {\n",
       "        vertical-align: middle;\n",
       "    }\n",
       "\n",
       "    .dataframe tbody tr th {\n",
       "        vertical-align: top;\n",
       "    }\n",
       "\n",
       "    .dataframe thead th {\n",
       "        text-align: right;\n",
       "    }\n",
       "</style>\n",
       "<table border=\"1\" class=\"dataframe\">\n",
       "  <thead>\n",
       "    <tr style=\"text-align: right;\">\n",
       "      <th></th>\n",
       "      <th>total_images</th>\n",
       "      <th>last_price</th>\n",
       "      <th>total_area</th>\n",
       "      <th>first_day_exposition</th>\n",
       "      <th>rooms</th>\n",
       "      <th>ceiling_height</th>\n",
       "      <th>floors_total</th>\n",
       "      <th>living_area</th>\n",
       "      <th>floor</th>\n",
       "      <th>is_apartment</th>\n",
       "      <th>studio</th>\n",
       "      <th>open_plan</th>\n",
       "      <th>kitchen_area</th>\n",
       "      <th>balcony</th>\n",
       "      <th>locality_name</th>\n",
       "      <th>airports_nearest</th>\n",
       "      <th>city_centers_nearest</th>\n",
       "      <th>parks_around3000</th>\n",
       "      <th>parks_nearest</th>\n",
       "      <th>ponds_around3000</th>\n",
       "      <th>ponds_nearest</th>\n",
       "      <th>days_exposition</th>\n",
       "    </tr>\n",
       "  </thead>\n",
       "  <tbody>\n",
       "    <tr>\n",
       "      <th>184</th>\n",
       "      <td>7</td>\n",
       "      <td>2600000</td>\n",
       "      <td>30.20</td>\n",
       "      <td>2018-02-14</td>\n",
       "      <td>1</td>\n",
       "      <td>2.65</td>\n",
       "      <td>9.00</td>\n",
       "      <td>26.10</td>\n",
       "      <td>5</td>\n",
       "      <td>False</td>\n",
       "      <td>False</td>\n",
       "      <td>False</td>\n",
       "      <td>6.20</td>\n",
       "      <td>0</td>\n",
       "      <td>Санкт-Петербург</td>\n",
       "      <td>13,952.00</td>\n",
       "      <td>15,031.00</td>\n",
       "      <td>0</td>\n",
       "      <td>NaN</td>\n",
       "      <td>1</td>\n",
       "      <td>824.00</td>\n",
       "      <td>12.00</td>\n",
       "    </tr>\n",
       "    <tr>\n",
       "      <th>424</th>\n",
       "      <td>14</td>\n",
       "      <td>11500000</td>\n",
       "      <td>98.00</td>\n",
       "      <td>2016-05-10</td>\n",
       "      <td>3</td>\n",
       "      <td>2.65</td>\n",
       "      <td>3.00</td>\n",
       "      <td>88.00</td>\n",
       "      <td>3</td>\n",
       "      <td>False</td>\n",
       "      <td>False</td>\n",
       "      <td>False</td>\n",
       "      <td>17.16</td>\n",
       "      <td>1</td>\n",
       "      <td>Санкт-Петербург</td>\n",
       "      <td>39,363.00</td>\n",
       "      <td>13,270.00</td>\n",
       "      <td>0</td>\n",
       "      <td>NaN</td>\n",
       "      <td>0</td>\n",
       "      <td>NaN</td>\n",
       "      <td>90.00</td>\n",
       "    </tr>\n",
       "    <tr>\n",
       "      <th>440</th>\n",
       "      <td>8</td>\n",
       "      <td>2480000</td>\n",
       "      <td>27.11</td>\n",
       "      <td>2018-03-12</td>\n",
       "      <td>0</td>\n",
       "      <td>2.70</td>\n",
       "      <td>17.00</td>\n",
       "      <td>24.75</td>\n",
       "      <td>4</td>\n",
       "      <td>False</td>\n",
       "      <td>True</td>\n",
       "      <td>False</td>\n",
       "      <td>4.75</td>\n",
       "      <td>2</td>\n",
       "      <td>Санкт-Петербург</td>\n",
       "      <td>38,171.00</td>\n",
       "      <td>15,015.00</td>\n",
       "      <td>0</td>\n",
       "      <td>NaN</td>\n",
       "      <td>2</td>\n",
       "      <td>982.00</td>\n",
       "      <td>64.00</td>\n",
       "    </tr>\n",
       "    <tr>\n",
       "      <th>545</th>\n",
       "      <td>9</td>\n",
       "      <td>4700000</td>\n",
       "      <td>23.80</td>\n",
       "      <td>2018-12-28</td>\n",
       "      <td>1</td>\n",
       "      <td>2.70</td>\n",
       "      <td>18.00</td>\n",
       "      <td>20.00</td>\n",
       "      <td>9</td>\n",
       "      <td>False</td>\n",
       "      <td>False</td>\n",
       "      <td>False</td>\n",
       "      <td>5.00</td>\n",
       "      <td>0</td>\n",
       "      <td>Санкт-Петербург</td>\n",
       "      <td>9,731.00</td>\n",
       "      <td>11,849.00</td>\n",
       "      <td>0</td>\n",
       "      <td>NaN</td>\n",
       "      <td>0</td>\n",
       "      <td>NaN</td>\n",
       "      <td>108.00</td>\n",
       "    </tr>\n",
       "    <tr>\n",
       "      <th>551</th>\n",
       "      <td>8</td>\n",
       "      <td>3100000</td>\n",
       "      <td>31.59</td>\n",
       "      <td>2018-03-08</td>\n",
       "      <td>1</td>\n",
       "      <td>2.70</td>\n",
       "      <td>19.00</td>\n",
       "      <td>30.55</td>\n",
       "      <td>2</td>\n",
       "      <td>False</td>\n",
       "      <td>False</td>\n",
       "      <td>False</td>\n",
       "      <td>9.28</td>\n",
       "      <td>2</td>\n",
       "      <td>посёлок Мурино</td>\n",
       "      <td>NaN</td>\n",
       "      <td>NaN</td>\n",
       "      <td>0</td>\n",
       "      <td>NaN</td>\n",
       "      <td>0</td>\n",
       "      <td>NaN</td>\n",
       "      <td>70.00</td>\n",
       "    </tr>\n",
       "    <tr>\n",
       "      <th>...</th>\n",
       "      <td>...</td>\n",
       "      <td>...</td>\n",
       "      <td>...</td>\n",
       "      <td>...</td>\n",
       "      <td>...</td>\n",
       "      <td>...</td>\n",
       "      <td>...</td>\n",
       "      <td>...</td>\n",
       "      <td>...</td>\n",
       "      <td>...</td>\n",
       "      <td>...</td>\n",
       "      <td>...</td>\n",
       "      <td>...</td>\n",
       "      <td>...</td>\n",
       "      <td>...</td>\n",
       "      <td>...</td>\n",
       "      <td>...</td>\n",
       "      <td>...</td>\n",
       "      <td>...</td>\n",
       "      <td>...</td>\n",
       "      <td>...</td>\n",
       "      <td>...</td>\n",
       "    </tr>\n",
       "    <tr>\n",
       "      <th>22246</th>\n",
       "      <td>6</td>\n",
       "      <td>3100000</td>\n",
       "      <td>27.30</td>\n",
       "      <td>2018-05-29</td>\n",
       "      <td>0</td>\n",
       "      <td>2.70</td>\n",
       "      <td>16.00</td>\n",
       "      <td>23.30</td>\n",
       "      <td>15</td>\n",
       "      <td>False</td>\n",
       "      <td>True</td>\n",
       "      <td>False</td>\n",
       "      <td>4.78</td>\n",
       "      <td>1</td>\n",
       "      <td>Санкт-Петербург</td>\n",
       "      <td>41,935.00</td>\n",
       "      <td>9,551.00</td>\n",
       "      <td>0</td>\n",
       "      <td>NaN</td>\n",
       "      <td>0</td>\n",
       "      <td>NaN</td>\n",
       "      <td>59.00</td>\n",
       "    </tr>\n",
       "    <tr>\n",
       "      <th>22907</th>\n",
       "      <td>9</td>\n",
       "      <td>65000000</td>\n",
       "      <td>228.00</td>\n",
       "      <td>2016-06-02</td>\n",
       "      <td>4</td>\n",
       "      <td>2.60</td>\n",
       "      <td>5.00</td>\n",
       "      <td>200.00</td>\n",
       "      <td>2</td>\n",
       "      <td>False</td>\n",
       "      <td>False</td>\n",
       "      <td>False</td>\n",
       "      <td>39.93</td>\n",
       "      <td>0</td>\n",
       "      <td>Санкт-Петербург</td>\n",
       "      <td>22,783.00</td>\n",
       "      <td>1,295.00</td>\n",
       "      <td>3</td>\n",
       "      <td>619.00</td>\n",
       "      <td>3</td>\n",
       "      <td>269.00</td>\n",
       "      <td>NaN</td>\n",
       "    </tr>\n",
       "    <tr>\n",
       "      <th>23102</th>\n",
       "      <td>0</td>\n",
       "      <td>5800000</td>\n",
       "      <td>66.00</td>\n",
       "      <td>2017-06-09</td>\n",
       "      <td>5</td>\n",
       "      <td>2.60</td>\n",
       "      <td>5.00</td>\n",
       "      <td>55.50</td>\n",
       "      <td>1</td>\n",
       "      <td>False</td>\n",
       "      <td>False</td>\n",
       "      <td>False</td>\n",
       "      <td>11.56</td>\n",
       "      <td>0</td>\n",
       "      <td>Санкт-Петербург</td>\n",
       "      <td>12,007.00</td>\n",
       "      <td>11,933.00</td>\n",
       "      <td>0</td>\n",
       "      <td>NaN</td>\n",
       "      <td>0</td>\n",
       "      <td>NaN</td>\n",
       "      <td>21.00</td>\n",
       "    </tr>\n",
       "    <tr>\n",
       "      <th>23191</th>\n",
       "      <td>3</td>\n",
       "      <td>1900000</td>\n",
       "      <td>18.90</td>\n",
       "      <td>2016-04-04</td>\n",
       "      <td>1</td>\n",
       "      <td>2.65</td>\n",
       "      <td>16.00</td>\n",
       "      <td>16.00</td>\n",
       "      <td>12</td>\n",
       "      <td>False</td>\n",
       "      <td>False</td>\n",
       "      <td>False</td>\n",
       "      <td>3.31</td>\n",
       "      <td>0</td>\n",
       "      <td>Тосно</td>\n",
       "      <td>NaN</td>\n",
       "      <td>NaN</td>\n",
       "      <td>0</td>\n",
       "      <td>NaN</td>\n",
       "      <td>0</td>\n",
       "      <td>NaN</td>\n",
       "      <td>115.00</td>\n",
       "    </tr>\n",
       "    <tr>\n",
       "      <th>23202</th>\n",
       "      <td>13</td>\n",
       "      <td>4919880</td>\n",
       "      <td>67.92</td>\n",
       "      <td>2018-10-23</td>\n",
       "      <td>2</td>\n",
       "      <td>2.70</td>\n",
       "      <td>3.00</td>\n",
       "      <td>63.00</td>\n",
       "      <td>3</td>\n",
       "      <td>False</td>\n",
       "      <td>False</td>\n",
       "      <td>False</td>\n",
       "      <td>13.04</td>\n",
       "      <td>0</td>\n",
       "      <td>Всеволожск</td>\n",
       "      <td>NaN</td>\n",
       "      <td>NaN</td>\n",
       "      <td>0</td>\n",
       "      <td>NaN</td>\n",
       "      <td>0</td>\n",
       "      <td>NaN</td>\n",
       "      <td>60.00</td>\n",
       "    </tr>\n",
       "  </tbody>\n",
       "</table>\n",
       "<p>119 rows × 22 columns</p>\n",
       "</div>"
      ],
      "text/plain": [
       "       total_images  last_price  total_area first_day_exposition  rooms  \\\n",
       "184               7     2600000       30.20           2018-02-14      1   \n",
       "424              14    11500000       98.00           2016-05-10      3   \n",
       "440               8     2480000       27.11           2018-03-12      0   \n",
       "545               9     4700000       23.80           2018-12-28      1   \n",
       "551               8     3100000       31.59           2018-03-08      1   \n",
       "...             ...         ...         ...                  ...    ...   \n",
       "22246             6     3100000       27.30           2018-05-29      0   \n",
       "22907             9    65000000      228.00           2016-06-02      4   \n",
       "23102             0     5800000       66.00           2017-06-09      5   \n",
       "23191             3     1900000       18.90           2016-04-04      1   \n",
       "23202            13     4919880       67.92           2018-10-23      2   \n",
       "\n",
       "       ceiling_height  floors_total  living_area  floor  is_apartment  studio  \\\n",
       "184              2.65          9.00        26.10      5         False   False   \n",
       "424              2.65          3.00        88.00      3         False   False   \n",
       "440              2.70         17.00        24.75      4         False    True   \n",
       "545              2.70         18.00        20.00      9         False   False   \n",
       "551              2.70         19.00        30.55      2         False   False   \n",
       "...               ...           ...          ...    ...           ...     ...   \n",
       "22246            2.70         16.00        23.30     15         False    True   \n",
       "22907            2.60          5.00       200.00      2         False   False   \n",
       "23102            2.60          5.00        55.50      1         False   False   \n",
       "23191            2.65         16.00        16.00     12         False   False   \n",
       "23202            2.70          3.00        63.00      3         False   False   \n",
       "\n",
       "       open_plan  kitchen_area  balcony    locality_name  airports_nearest  \\\n",
       "184        False          6.20        0  Санкт-Петербург         13,952.00   \n",
       "424        False         17.16        1  Санкт-Петербург         39,363.00   \n",
       "440        False          4.75        2  Санкт-Петербург         38,171.00   \n",
       "545        False          5.00        0  Санкт-Петербург          9,731.00   \n",
       "551        False          9.28        2   посёлок Мурино               NaN   \n",
       "...          ...           ...      ...              ...               ...   \n",
       "22246      False          4.78        1  Санкт-Петербург         41,935.00   \n",
       "22907      False         39.93        0  Санкт-Петербург         22,783.00   \n",
       "23102      False         11.56        0  Санкт-Петербург         12,007.00   \n",
       "23191      False          3.31        0            Тосно               NaN   \n",
       "23202      False         13.04        0       Всеволожск               NaN   \n",
       "\n",
       "       city_centers_nearest  parks_around3000  parks_nearest  \\\n",
       "184               15,031.00                 0            NaN   \n",
       "424               13,270.00                 0            NaN   \n",
       "440               15,015.00                 0            NaN   \n",
       "545               11,849.00                 0            NaN   \n",
       "551                     NaN                 0            NaN   \n",
       "...                     ...               ...            ...   \n",
       "22246              9,551.00                 0            NaN   \n",
       "22907              1,295.00                 3         619.00   \n",
       "23102             11,933.00                 0            NaN   \n",
       "23191                   NaN                 0            NaN   \n",
       "23202                   NaN                 0            NaN   \n",
       "\n",
       "       ponds_around3000  ponds_nearest  days_exposition  \n",
       "184                   1         824.00            12.00  \n",
       "424                   0            NaN            90.00  \n",
       "440                   2         982.00            64.00  \n",
       "545                   0            NaN           108.00  \n",
       "551                   0            NaN            70.00  \n",
       "...                 ...            ...              ...  \n",
       "22246                 0            NaN            59.00  \n",
       "22907                 3         269.00              NaN  \n",
       "23102                 0            NaN            21.00  \n",
       "23191                 0            NaN           115.00  \n",
       "23202                 0            NaN            60.00  \n",
       "\n",
       "[119 rows x 22 columns]"
      ]
     },
     "execution_count": 5,
     "metadata": {},
     "output_type": "execute_result"
    }
   ],
   "source": [
    "# проверяю на ошибки ввода площади, есть ли квартиры где сумма жилой и кухонной площади больше общей\n",
    "data.query('total_area < (living_area+kitchen_area)')"
   ]
  },
  {
   "cell_type": "code",
   "execution_count": 6,
   "metadata": {},
   "outputs": [
    {
     "data": {
      "text/html": [
       "<div>\n",
       "<style scoped>\n",
       "    .dataframe tbody tr th:only-of-type {\n",
       "        vertical-align: middle;\n",
       "    }\n",
       "\n",
       "    .dataframe tbody tr th {\n",
       "        vertical-align: top;\n",
       "    }\n",
       "\n",
       "    .dataframe thead th {\n",
       "        text-align: right;\n",
       "    }\n",
       "</style>\n",
       "<table border=\"1\" class=\"dataframe\">\n",
       "  <thead>\n",
       "    <tr style=\"text-align: right;\">\n",
       "      <th></th>\n",
       "      <th>total_images</th>\n",
       "      <th>last_price</th>\n",
       "      <th>total_area</th>\n",
       "      <th>first_day_exposition</th>\n",
       "      <th>rooms</th>\n",
       "      <th>ceiling_height</th>\n",
       "      <th>floors_total</th>\n",
       "      <th>living_area</th>\n",
       "      <th>floor</th>\n",
       "      <th>is_apartment</th>\n",
       "      <th>studio</th>\n",
       "      <th>open_plan</th>\n",
       "      <th>kitchen_area</th>\n",
       "      <th>balcony</th>\n",
       "      <th>locality_name</th>\n",
       "      <th>airports_nearest</th>\n",
       "      <th>city_centers_nearest</th>\n",
       "      <th>parks_around3000</th>\n",
       "      <th>parks_nearest</th>\n",
       "      <th>ponds_around3000</th>\n",
       "      <th>ponds_nearest</th>\n",
       "      <th>days_exposition</th>\n",
       "    </tr>\n",
       "  </thead>\n",
       "  <tbody>\n",
       "  </tbody>\n",
       "</table>\n",
       "</div>"
      ],
      "text/plain": [
       "Empty DataFrame\n",
       "Columns: [total_images, last_price, total_area, first_day_exposition, rooms, ceiling_height, floors_total, living_area, floor, is_apartment, studio, open_plan, kitchen_area, balcony, locality_name, airports_nearest, city_centers_nearest, parks_around3000, parks_nearest, ponds_around3000, ponds_nearest, days_exposition]\n",
       "Index: []"
      ]
     },
     "execution_count": 6,
     "metadata": {},
     "output_type": "execute_result"
    }
   ],
   "source": [
    "# есть значения суммы жилой и кухонной площади превышающий общую, скорее это ошибка ввода данных \n",
    "# удалю строки с ошибками\n",
    "data = data.query('total_area > (living_area+kitchen_area)')\n",
    "data.query('total_area < (living_area+kitchen_area)')"
   ]
  },
  {
   "cell_type": "code",
   "execution_count": 7,
   "metadata": {},
   "outputs": [
    {
     "data": {
      "text/plain": [
       "total_images                0\n",
       "last_price                  0\n",
       "total_area                  0\n",
       "first_day_exposition        0\n",
       "rooms                       0\n",
       "ceiling_height              0\n",
       "floors_total               85\n",
       "living_area                 0\n",
       "floor                       0\n",
       "is_apartment                0\n",
       "studio                      0\n",
       "open_plan                   0\n",
       "kitchen_area                0\n",
       "balcony                     0\n",
       "locality_name               0\n",
       "airports_nearest         5471\n",
       "city_centers_nearest     5448\n",
       "parks_around3000            0\n",
       "parks_nearest           15456\n",
       "ponds_around3000            0\n",
       "ponds_nearest           14435\n",
       "days_exposition          3159\n",
       "dtype: int64"
      ]
     },
     "execution_count": 7,
     "metadata": {},
     "output_type": "execute_result"
    }
   ],
   "source": [
    "# смотрим количество пропущенных значений\n",
    "data.isnull().sum()"
   ]
  },
  {
   "cell_type": "markdown",
   "metadata": {},
   "source": [
    "**Вывод**\n",
    "\n",
    "В столбцах 'locality_name' и 'floors_total' возможно отбросить данные т.к. количество пропусков незначительное и не повлияет на дальнейшее исследование. Переименуем столбец 'cityCenters_nearest' в «змеином_регистре» в соответствие с хорошим стилем. Дату публикации приводим к типу даты для дальнейшего анализа. Существенное количество пропущенных значений в столбце 'is_apartment' связано с тем, что у большинства продавцов квартир не было четкого понимания разницы между апартаментами и квартирой, и как следствие значения не заполнялись. Корректно предположить, что значения NaN можно заменить на 'False' (не являются апартаментами). Логично заменить пропуски в столбце 'balcony' на 0, т.к. скорее всего его нет. В столбцах 'parks_around3000' и 'parks_around3000' пустые значения логично заменить на 0, т.к. вероятнее их нет в радиусе 3 км. Высота потолка является важным критерием для выбора квартиры, поэтому логично пропущенные данные заменить на медианное значение. А пустые значения жилой площади и площади кухни логично заменить на среднее значение с помощью коэффициента, рассчитанного как отношение средней жилой площади и площади кухни к общей площади. \n",
    "Стоимость квартир, количество балконов, парков и прудов приводим к целочисленному значению для дальнейшего корректного анализа."
   ]
  },
  {
   "cell_type": "markdown",
   "metadata": {},
   "source": [
    "## Шаг. Расчёты и добавление результатов в таблицу"
   ]
  },
  {
   "cell_type": "code",
   "execution_count": 8,
   "metadata": {},
   "outputs": [
    {
     "data": {
      "text/html": [
       "<div>\n",
       "<style scoped>\n",
       "    .dataframe tbody tr th:only-of-type {\n",
       "        vertical-align: middle;\n",
       "    }\n",
       "\n",
       "    .dataframe tbody tr th {\n",
       "        vertical-align: top;\n",
       "    }\n",
       "\n",
       "    .dataframe thead th {\n",
       "        text-align: right;\n",
       "    }\n",
       "</style>\n",
       "<table border=\"1\" class=\"dataframe\">\n",
       "  <thead>\n",
       "    <tr style=\"text-align: right;\">\n",
       "      <th></th>\n",
       "      <th>total_images</th>\n",
       "      <th>last_price</th>\n",
       "      <th>total_area</th>\n",
       "      <th>first_day_exposition</th>\n",
       "      <th>rooms</th>\n",
       "      <th>ceiling_height</th>\n",
       "      <th>floors_total</th>\n",
       "      <th>living_area</th>\n",
       "      <th>floor</th>\n",
       "      <th>is_apartment</th>\n",
       "      <th>studio</th>\n",
       "      <th>open_plan</th>\n",
       "      <th>kitchen_area</th>\n",
       "      <th>balcony</th>\n",
       "      <th>locality_name</th>\n",
       "      <th>airports_nearest</th>\n",
       "      <th>city_centers_nearest</th>\n",
       "      <th>parks_around3000</th>\n",
       "      <th>parks_nearest</th>\n",
       "      <th>ponds_around3000</th>\n",
       "      <th>ponds_nearest</th>\n",
       "      <th>days_exposition</th>\n",
       "      <th>sm_price</th>\n",
       "      <th>weekday</th>\n",
       "      <th>month</th>\n",
       "      <th>year</th>\n",
       "      <th>area_ratio</th>\n",
       "      <th>kitchen_ratio</th>\n",
       "      <th>floor_type</th>\n",
       "    </tr>\n",
       "  </thead>\n",
       "  <tbody>\n",
       "    <tr>\n",
       "      <th>0</th>\n",
       "      <td>20</td>\n",
       "      <td>13000000</td>\n",
       "      <td>108.00</td>\n",
       "      <td>2019-03-07</td>\n",
       "      <td>3</td>\n",
       "      <td>2.70</td>\n",
       "      <td>16.00</td>\n",
       "      <td>51.00</td>\n",
       "      <td>8</td>\n",
       "      <td>False</td>\n",
       "      <td>False</td>\n",
       "      <td>False</td>\n",
       "      <td>25.00</td>\n",
       "      <td>0</td>\n",
       "      <td>Санкт-Петербург</td>\n",
       "      <td>18,863.00</td>\n",
       "      <td>16,028.00</td>\n",
       "      <td>1</td>\n",
       "      <td>482.00</td>\n",
       "      <td>2</td>\n",
       "      <td>755.00</td>\n",
       "      <td>NaN</td>\n",
       "      <td>120370</td>\n",
       "      <td>3</td>\n",
       "      <td>3</td>\n",
       "      <td>2019</td>\n",
       "      <td>47</td>\n",
       "      <td>23</td>\n",
       "      <td>другой</td>\n",
       "    </tr>\n",
       "    <tr>\n",
       "      <th>1</th>\n",
       "      <td>7</td>\n",
       "      <td>3350000</td>\n",
       "      <td>40.40</td>\n",
       "      <td>2018-12-04</td>\n",
       "      <td>1</td>\n",
       "      <td>2.65</td>\n",
       "      <td>11.00</td>\n",
       "      <td>18.60</td>\n",
       "      <td>1</td>\n",
       "      <td>False</td>\n",
       "      <td>False</td>\n",
       "      <td>False</td>\n",
       "      <td>11.00</td>\n",
       "      <td>2</td>\n",
       "      <td>посёлок Шушары</td>\n",
       "      <td>12,817.00</td>\n",
       "      <td>18,603.00</td>\n",
       "      <td>0</td>\n",
       "      <td>NaN</td>\n",
       "      <td>0</td>\n",
       "      <td>NaN</td>\n",
       "      <td>81.00</td>\n",
       "      <td>82920</td>\n",
       "      <td>1</td>\n",
       "      <td>12</td>\n",
       "      <td>2018</td>\n",
       "      <td>46</td>\n",
       "      <td>27</td>\n",
       "      <td>первый</td>\n",
       "    </tr>\n",
       "    <tr>\n",
       "      <th>2</th>\n",
       "      <td>10</td>\n",
       "      <td>5196000</td>\n",
       "      <td>56.00</td>\n",
       "      <td>2015-08-20</td>\n",
       "      <td>2</td>\n",
       "      <td>2.60</td>\n",
       "      <td>5.00</td>\n",
       "      <td>34.30</td>\n",
       "      <td>4</td>\n",
       "      <td>False</td>\n",
       "      <td>False</td>\n",
       "      <td>False</td>\n",
       "      <td>8.30</td>\n",
       "      <td>0</td>\n",
       "      <td>Санкт-Петербург</td>\n",
       "      <td>21,741.00</td>\n",
       "      <td>13,933.00</td>\n",
       "      <td>1</td>\n",
       "      <td>90.00</td>\n",
       "      <td>2</td>\n",
       "      <td>574.00</td>\n",
       "      <td>558.00</td>\n",
       "      <td>92785</td>\n",
       "      <td>3</td>\n",
       "      <td>8</td>\n",
       "      <td>2015</td>\n",
       "      <td>61</td>\n",
       "      <td>14</td>\n",
       "      <td>другой</td>\n",
       "    </tr>\n",
       "    <tr>\n",
       "      <th>3</th>\n",
       "      <td>0</td>\n",
       "      <td>64900000</td>\n",
       "      <td>159.00</td>\n",
       "      <td>2015-07-24</td>\n",
       "      <td>3</td>\n",
       "      <td>2.60</td>\n",
       "      <td>14.00</td>\n",
       "      <td>90.79</td>\n",
       "      <td>9</td>\n",
       "      <td>False</td>\n",
       "      <td>False</td>\n",
       "      <td>False</td>\n",
       "      <td>27.85</td>\n",
       "      <td>0</td>\n",
       "      <td>Санкт-Петербург</td>\n",
       "      <td>28,098.00</td>\n",
       "      <td>6,800.00</td>\n",
       "      <td>2</td>\n",
       "      <td>84.00</td>\n",
       "      <td>3</td>\n",
       "      <td>234.00</td>\n",
       "      <td>424.00</td>\n",
       "      <td>408176</td>\n",
       "      <td>4</td>\n",
       "      <td>7</td>\n",
       "      <td>2015</td>\n",
       "      <td>57</td>\n",
       "      <td>17</td>\n",
       "      <td>другой</td>\n",
       "    </tr>\n",
       "    <tr>\n",
       "      <th>4</th>\n",
       "      <td>2</td>\n",
       "      <td>10000000</td>\n",
       "      <td>100.00</td>\n",
       "      <td>2018-06-19</td>\n",
       "      <td>2</td>\n",
       "      <td>3.03</td>\n",
       "      <td>14.00</td>\n",
       "      <td>32.00</td>\n",
       "      <td>13</td>\n",
       "      <td>False</td>\n",
       "      <td>False</td>\n",
       "      <td>False</td>\n",
       "      <td>41.00</td>\n",
       "      <td>0</td>\n",
       "      <td>Санкт-Петербург</td>\n",
       "      <td>31,856.00</td>\n",
       "      <td>8,098.00</td>\n",
       "      <td>2</td>\n",
       "      <td>112.00</td>\n",
       "      <td>1</td>\n",
       "      <td>48.00</td>\n",
       "      <td>121.00</td>\n",
       "      <td>100000</td>\n",
       "      <td>1</td>\n",
       "      <td>6</td>\n",
       "      <td>2018</td>\n",
       "      <td>32</td>\n",
       "      <td>41</td>\n",
       "      <td>другой</td>\n",
       "    </tr>\n",
       "    <tr>\n",
       "      <th>5</th>\n",
       "      <td>10</td>\n",
       "      <td>2890000</td>\n",
       "      <td>30.40</td>\n",
       "      <td>2018-09-10</td>\n",
       "      <td>1</td>\n",
       "      <td>2.62</td>\n",
       "      <td>12.00</td>\n",
       "      <td>14.40</td>\n",
       "      <td>5</td>\n",
       "      <td>False</td>\n",
       "      <td>False</td>\n",
       "      <td>False</td>\n",
       "      <td>9.10</td>\n",
       "      <td>0</td>\n",
       "      <td>городской посёлок Янино-1</td>\n",
       "      <td>NaN</td>\n",
       "      <td>NaN</td>\n",
       "      <td>0</td>\n",
       "      <td>NaN</td>\n",
       "      <td>0</td>\n",
       "      <td>NaN</td>\n",
       "      <td>55.00</td>\n",
       "      <td>95065</td>\n",
       "      <td>0</td>\n",
       "      <td>9</td>\n",
       "      <td>2018</td>\n",
       "      <td>47</td>\n",
       "      <td>29</td>\n",
       "      <td>другой</td>\n",
       "    </tr>\n",
       "    <tr>\n",
       "      <th>6</th>\n",
       "      <td>6</td>\n",
       "      <td>3700000</td>\n",
       "      <td>37.30</td>\n",
       "      <td>2017-11-02</td>\n",
       "      <td>1</td>\n",
       "      <td>2.60</td>\n",
       "      <td>26.00</td>\n",
       "      <td>10.60</td>\n",
       "      <td>6</td>\n",
       "      <td>False</td>\n",
       "      <td>False</td>\n",
       "      <td>False</td>\n",
       "      <td>14.40</td>\n",
       "      <td>1</td>\n",
       "      <td>посёлок Парголово</td>\n",
       "      <td>52,996.00</td>\n",
       "      <td>19,143.00</td>\n",
       "      <td>0</td>\n",
       "      <td>NaN</td>\n",
       "      <td>0</td>\n",
       "      <td>NaN</td>\n",
       "      <td>155.00</td>\n",
       "      <td>99195</td>\n",
       "      <td>3</td>\n",
       "      <td>11</td>\n",
       "      <td>2017</td>\n",
       "      <td>28</td>\n",
       "      <td>38</td>\n",
       "      <td>другой</td>\n",
       "    </tr>\n",
       "    <tr>\n",
       "      <th>7</th>\n",
       "      <td>5</td>\n",
       "      <td>7915000</td>\n",
       "      <td>71.60</td>\n",
       "      <td>2019-04-18</td>\n",
       "      <td>2</td>\n",
       "      <td>2.75</td>\n",
       "      <td>24.00</td>\n",
       "      <td>40.88</td>\n",
       "      <td>22</td>\n",
       "      <td>False</td>\n",
       "      <td>False</td>\n",
       "      <td>False</td>\n",
       "      <td>18.90</td>\n",
       "      <td>2</td>\n",
       "      <td>Санкт-Петербург</td>\n",
       "      <td>23,982.00</td>\n",
       "      <td>11,634.00</td>\n",
       "      <td>0</td>\n",
       "      <td>NaN</td>\n",
       "      <td>0</td>\n",
       "      <td>NaN</td>\n",
       "      <td>NaN</td>\n",
       "      <td>110544</td>\n",
       "      <td>3</td>\n",
       "      <td>4</td>\n",
       "      <td>2019</td>\n",
       "      <td>57</td>\n",
       "      <td>26</td>\n",
       "      <td>другой</td>\n",
       "    </tr>\n",
       "    <tr>\n",
       "      <th>8</th>\n",
       "      <td>20</td>\n",
       "      <td>2900000</td>\n",
       "      <td>33.16</td>\n",
       "      <td>2018-05-23</td>\n",
       "      <td>1</td>\n",
       "      <td>2.65</td>\n",
       "      <td>27.00</td>\n",
       "      <td>15.43</td>\n",
       "      <td>26</td>\n",
       "      <td>False</td>\n",
       "      <td>False</td>\n",
       "      <td>False</td>\n",
       "      <td>8.81</td>\n",
       "      <td>0</td>\n",
       "      <td>посёлок Мурино</td>\n",
       "      <td>NaN</td>\n",
       "      <td>NaN</td>\n",
       "      <td>0</td>\n",
       "      <td>NaN</td>\n",
       "      <td>0</td>\n",
       "      <td>NaN</td>\n",
       "      <td>189.00</td>\n",
       "      <td>87454</td>\n",
       "      <td>2</td>\n",
       "      <td>5</td>\n",
       "      <td>2018</td>\n",
       "      <td>46</td>\n",
       "      <td>26</td>\n",
       "      <td>другой</td>\n",
       "    </tr>\n",
       "    <tr>\n",
       "      <th>9</th>\n",
       "      <td>18</td>\n",
       "      <td>5400000</td>\n",
       "      <td>61.00</td>\n",
       "      <td>2017-02-26</td>\n",
       "      <td>3</td>\n",
       "      <td>2.50</td>\n",
       "      <td>9.00</td>\n",
       "      <td>43.60</td>\n",
       "      <td>7</td>\n",
       "      <td>False</td>\n",
       "      <td>False</td>\n",
       "      <td>False</td>\n",
       "      <td>6.50</td>\n",
       "      <td>2</td>\n",
       "      <td>Санкт-Петербург</td>\n",
       "      <td>50,898.00</td>\n",
       "      <td>15,008.00</td>\n",
       "      <td>0</td>\n",
       "      <td>NaN</td>\n",
       "      <td>0</td>\n",
       "      <td>NaN</td>\n",
       "      <td>289.00</td>\n",
       "      <td>88524</td>\n",
       "      <td>6</td>\n",
       "      <td>2</td>\n",
       "      <td>2017</td>\n",
       "      <td>71</td>\n",
       "      <td>10</td>\n",
       "      <td>другой</td>\n",
       "    </tr>\n",
       "  </tbody>\n",
       "</table>\n",
       "</div>"
      ],
      "text/plain": [
       "   total_images  last_price  total_area first_day_exposition  rooms  \\\n",
       "0            20    13000000      108.00           2019-03-07      3   \n",
       "1             7     3350000       40.40           2018-12-04      1   \n",
       "2            10     5196000       56.00           2015-08-20      2   \n",
       "3             0    64900000      159.00           2015-07-24      3   \n",
       "4             2    10000000      100.00           2018-06-19      2   \n",
       "5            10     2890000       30.40           2018-09-10      1   \n",
       "6             6     3700000       37.30           2017-11-02      1   \n",
       "7             5     7915000       71.60           2019-04-18      2   \n",
       "8            20     2900000       33.16           2018-05-23      1   \n",
       "9            18     5400000       61.00           2017-02-26      3   \n",
       "\n",
       "   ceiling_height  floors_total  living_area  floor  is_apartment  studio  \\\n",
       "0            2.70         16.00        51.00      8         False   False   \n",
       "1            2.65         11.00        18.60      1         False   False   \n",
       "2            2.60          5.00        34.30      4         False   False   \n",
       "3            2.60         14.00        90.79      9         False   False   \n",
       "4            3.03         14.00        32.00     13         False   False   \n",
       "5            2.62         12.00        14.40      5         False   False   \n",
       "6            2.60         26.00        10.60      6         False   False   \n",
       "7            2.75         24.00        40.88     22         False   False   \n",
       "8            2.65         27.00        15.43     26         False   False   \n",
       "9            2.50          9.00        43.60      7         False   False   \n",
       "\n",
       "   open_plan  kitchen_area  balcony              locality_name  \\\n",
       "0      False         25.00        0            Санкт-Петербург   \n",
       "1      False         11.00        2             посёлок Шушары   \n",
       "2      False          8.30        0            Санкт-Петербург   \n",
       "3      False         27.85        0            Санкт-Петербург   \n",
       "4      False         41.00        0            Санкт-Петербург   \n",
       "5      False          9.10        0  городской посёлок Янино-1   \n",
       "6      False         14.40        1          посёлок Парголово   \n",
       "7      False         18.90        2            Санкт-Петербург   \n",
       "8      False          8.81        0             посёлок Мурино   \n",
       "9      False          6.50        2            Санкт-Петербург   \n",
       "\n",
       "   airports_nearest  city_centers_nearest  parks_around3000  parks_nearest  \\\n",
       "0         18,863.00             16,028.00                 1         482.00   \n",
       "1         12,817.00             18,603.00                 0            NaN   \n",
       "2         21,741.00             13,933.00                 1          90.00   \n",
       "3         28,098.00              6,800.00                 2          84.00   \n",
       "4         31,856.00              8,098.00                 2         112.00   \n",
       "5               NaN                   NaN                 0            NaN   \n",
       "6         52,996.00             19,143.00                 0            NaN   \n",
       "7         23,982.00             11,634.00                 0            NaN   \n",
       "8               NaN                   NaN                 0            NaN   \n",
       "9         50,898.00             15,008.00                 0            NaN   \n",
       "\n",
       "   ponds_around3000  ponds_nearest  days_exposition  sm_price  weekday  month  \\\n",
       "0                 2         755.00              NaN    120370        3      3   \n",
       "1                 0            NaN            81.00     82920        1     12   \n",
       "2                 2         574.00           558.00     92785        3      8   \n",
       "3                 3         234.00           424.00    408176        4      7   \n",
       "4                 1          48.00           121.00    100000        1      6   \n",
       "5                 0            NaN            55.00     95065        0      9   \n",
       "6                 0            NaN           155.00     99195        3     11   \n",
       "7                 0            NaN              NaN    110544        3      4   \n",
       "8                 0            NaN           189.00     87454        2      5   \n",
       "9                 0            NaN           289.00     88524        6      2   \n",
       "\n",
       "   year  area_ratio  kitchen_ratio floor_type  \n",
       "0  2019          47             23     другой  \n",
       "1  2018          46             27     первый  \n",
       "2  2015          61             14     другой  \n",
       "3  2015          57             17     другой  \n",
       "4  2018          32             41     другой  \n",
       "5  2018          47             29     другой  \n",
       "6  2017          28             38     другой  \n",
       "7  2019          57             26     другой  \n",
       "8  2018          46             26     другой  \n",
       "9  2017          71             10     другой  "
      ]
     },
     "metadata": {},
     "output_type": "display_data"
    }
   ],
   "source": [
    "# добавляем столбец со стоимостью квадратного метра (sm_price) и приводим его в целочисленный тип\n",
    "data['sm_price'] = data['last_price'] / data['total_area']\n",
    "data['sm_price'] = data['sm_price'].astype(int)\n",
    "\n",
    "# добавляем столбцы дня недели, месяца и года\n",
    "data['weekday'] = data['first_day_exposition'].dt.weekday\n",
    "data['month'] = data['first_day_exposition'].dt.month\n",
    "data['year'] = data['first_day_exposition'].dt.year\n",
    "\n",
    "# добавляем столбец с отношением жилой площади к общей (area_ratio), переводим в % и приводим его в целочисленный тип\n",
    "data['area_ratio'] = data['living_area'] / data['total_area'] * 100\n",
    "data['area_ratio'] = data['area_ratio'].fillna(0).astype(int)\n",
    "\n",
    "# добавляем столбец с отношением площади кухни к общей (kitchen_ratio), переводим в % и приводим его в целочисленный тип\n",
    "data['kitchen_ratio'] = data['kitchen_area'] / data['total_area'] * 100\n",
    "data['kitchen_ratio'] = data['kitchen_ratio'].fillna(0).astype(int)\n",
    "\n",
    "# создаём функцию для заполнения нового столбца с типом этажа\n",
    "def floor_group(row):\n",
    "    if row['floor'] == 1:\n",
    "        return 'первый'\n",
    "    elif row['floor'] == row['floors_total']:\n",
    "        return 'последний'\n",
    "    else:\n",
    "        return 'другой'\n",
    "data['floor_type'] = data.apply(floor_group, axis=1)\n",
    "\n",
    "display(data.head(10))"
   ]
  },
  {
   "cell_type": "markdown",
   "metadata": {},
   "source": [
    "## Шаг. Исследовательский анализ данных"
   ]
  },
  {
   "cell_type": "code",
   "execution_count": 9,
   "metadata": {},
   "outputs": [
    {
     "data": {
      "text/html": [
       "<div>\n",
       "<style scoped>\n",
       "    .dataframe tbody tr th:only-of-type {\n",
       "        vertical-align: middle;\n",
       "    }\n",
       "\n",
       "    .dataframe tbody tr th {\n",
       "        vertical-align: top;\n",
       "    }\n",
       "\n",
       "    .dataframe thead th {\n",
       "        text-align: right;\n",
       "    }\n",
       "</style>\n",
       "<table border=\"1\" class=\"dataframe\">\n",
       "  <thead>\n",
       "    <tr style=\"text-align: right;\">\n",
       "      <th></th>\n",
       "      <th>total_area</th>\n",
       "      <th>last_price</th>\n",
       "      <th>rooms</th>\n",
       "      <th>ceiling_height</th>\n",
       "    </tr>\n",
       "  </thead>\n",
       "  <tbody>\n",
       "    <tr>\n",
       "      <th>count</th>\n",
       "      <td>23,461.00</td>\n",
       "      <td>23,461.00</td>\n",
       "      <td>23,461.00</td>\n",
       "      <td>23,461.00</td>\n",
       "    </tr>\n",
       "    <tr>\n",
       "      <th>mean</th>\n",
       "      <td>60.40</td>\n",
       "      <td>6,537,518.34</td>\n",
       "      <td>2.07</td>\n",
       "      <td>2.73</td>\n",
       "    </tr>\n",
       "    <tr>\n",
       "      <th>std</th>\n",
       "      <td>35.69</td>\n",
       "      <td>10,879,071.03</td>\n",
       "      <td>1.08</td>\n",
       "      <td>0.75</td>\n",
       "    </tr>\n",
       "    <tr>\n",
       "      <th>min</th>\n",
       "      <td>13.00</td>\n",
       "      <td>12,190.00</td>\n",
       "      <td>0.00</td>\n",
       "      <td>1.00</td>\n",
       "    </tr>\n",
       "    <tr>\n",
       "      <th>25%</th>\n",
       "      <td>40.00</td>\n",
       "      <td>3,430,000.00</td>\n",
       "      <td>1.00</td>\n",
       "      <td>2.55</td>\n",
       "    </tr>\n",
       "    <tr>\n",
       "      <th>50%</th>\n",
       "      <td>52.00</td>\n",
       "      <td>4,650,000.00</td>\n",
       "      <td>2.00</td>\n",
       "      <td>2.65</td>\n",
       "    </tr>\n",
       "    <tr>\n",
       "      <th>75%</th>\n",
       "      <td>69.90</td>\n",
       "      <td>6,799,000.00</td>\n",
       "      <td>3.00</td>\n",
       "      <td>2.75</td>\n",
       "    </tr>\n",
       "    <tr>\n",
       "      <th>max</th>\n",
       "      <td>900.00</td>\n",
       "      <td>763,000,000.00</td>\n",
       "      <td>19.00</td>\n",
       "      <td>32.00</td>\n",
       "    </tr>\n",
       "  </tbody>\n",
       "</table>\n",
       "</div>"
      ],
      "text/plain": [
       "       total_area     last_price     rooms  ceiling_height\n",
       "count   23,461.00      23,461.00 23,461.00       23,461.00\n",
       "mean        60.40   6,537,518.34      2.07            2.73\n",
       "std         35.69  10,879,071.03      1.08            0.75\n",
       "min         13.00      12,190.00      0.00            1.00\n",
       "25%         40.00   3,430,000.00      1.00            2.55\n",
       "50%         52.00   4,650,000.00      2.00            2.65\n",
       "75%         69.90   6,799,000.00      3.00            2.75\n",
       "max        900.00 763,000,000.00     19.00           32.00"
      ]
     },
     "execution_count": 9,
     "metadata": {},
     "output_type": "execute_result"
    }
   ],
   "source": [
    "# изучим следующие параметры: площадь, цена, число комнат, высота потолков\n",
    "data[['total_area', 'last_price', 'rooms', 'ceiling_height']].describe()"
   ]
  },
  {
   "cell_type": "code",
   "execution_count": 10,
   "metadata": {},
   "outputs": [
    {
     "data": {
      "image/png": "[encoded data removed]",
      "text/plain": [
       "<Figure size 432x288 with 1 Axes>"
      ]
     },
     "metadata": {},
     "output_type": "display_data"
    }
   ],
   "source": [
    "# построим гистограмму 'площадь'\n",
    "plt.hist(data['total_area'], bins=30, range=(10,200))\n",
    "plt.title('Площадь квартир')\n",
    "plt.xlabel('Квадратные метры')\n",
    "plt.ylabel('Количество квартир')\n",
    "plt.show()"
   ]
  },
  {
   "cell_type": "code",
   "execution_count": 11,
   "metadata": {},
   "outputs": [
    {
     "data": {
      "image/png": "[encoded data removed]",
      "text/plain": [
       "<Figure size 432x288 with 1 Axes>"
      ]
     },
     "metadata": {},
     "output_type": "display_data"
    }
   ],
   "source": [
    "# построим гистограмму 'стоимость квартиры'\n",
    "plt.hist(data['last_price'], bins=30, range=(0,20000000))\n",
    "plt.title('Стоимость квартир')\n",
    "plt.xlabel('Стоимость')\n",
    "plt.ylabel('Количество квартир')\n",
    "plt.show()"
   ]
  },
  {
   "cell_type": "code",
   "execution_count": 12,
   "metadata": {},
   "outputs": [
    {
     "data": {
      "image/png": "[encoded data removed]",
      "text/plain": [
       "<Figure size 432x288 with 1 Axes>"
      ]
     },
     "metadata": {},
     "output_type": "display_data"
    }
   ],
   "source": [
    "# построим гистограмму 'количество комнат'\n",
    "plt.hist(data['rooms'], bins=7, range=(1,7))\n",
    "plt.title('Комнаты')\n",
    "plt.xlabel('Количество комнат')\n",
    "plt.ylabel('Количество квартир')\n",
    "plt.show()"
   ]
  },
  {
   "cell_type": "code",
   "execution_count": 13,
   "metadata": {},
   "outputs": [
    {
     "data": {
      "image/png": "[encoded data removed]",
      "text/plain": [
       "<Figure size 432x288 with 1 Axes>"
      ]
     },
     "metadata": {},
     "output_type": "display_data"
    }
   ],
   "source": [
    "# построим гистограмму 'высота потолков'\n",
    "plt.hist(data.query('(ceiling_height > 2) & (ceiling_height < 4)')['ceiling_height'], bins=20)\n",
    "plt.title('Высота потолков')\n",
    "plt.xlabel('Метры')\n",
    "plt.ylabel('Количество квартир')\n",
    "plt.show()"
   ]
  },
  {
   "cell_type": "markdown",
   "metadata": {},
   "source": [
    "**Вывод**\n",
    "\n",
    "Большинство квартир имеют площадь до 100 квадратных метров, есть несущественная часть квартир площадью более 200 квадратных метров. По площади есть как квартира 12 кв.м., так и 900 кв.м., среднее значение 60 квадратных метров.\n",
    "Средняя стоимость квартир составляет 6,5 миллионов. Больше 20 миллионов вариантов немного и квартиры дороже выглядит странно.\n",
    "Большинство квартиры состоят из 1, 2 и 3 комнат. Есть небольшая доля 4-комнатных квартир. Варианты с количеством комнат больше 7, возможно, являются коммуналками или общежитиями. Количество квартир с нулевым числом комнат скорее всего являются студиями. \n",
    "Большинство вариантов имеют высоту потолков от 2,5 до 3 метров. Больше 4 метров высота потолков выглядит подозрительно. Есть значения в 27 метров скорее всего это ошибка данных и реальная высота 2,7 метра."
   ]
  },
  {
   "cell_type": "code",
   "execution_count": 14,
   "metadata": {},
   "outputs": [
    {
     "name": "stdout",
     "output_type": "stream",
     "text": [
      "Время продажи (медиана): 96 \n",
      "\n",
      "Время продажи (среднее): 181 \n",
      "\n"
     ]
    },
    {
     "data": {
      "image/png": "[encoded data removed]",
      "text/plain": [
       "<Figure size 432x288 with 1 Axes>"
      ]
     },
     "metadata": {},
     "output_type": "display_data"
    },
    {
     "data": {
      "text/plain": [
       "count   20,302.00\n",
       "mean       181.12\n",
       "std        220.05\n",
       "min          1.00\n",
       "25%         45.00\n",
       "50%         96.00\n",
       "75%        232.00\n",
       "max      1,580.00\n",
       "Name: days_exposition, dtype: float64"
      ]
     },
     "execution_count": 14,
     "metadata": {},
     "output_type": "execute_result"
    }
   ],
   "source": [
    "# пропуски Nan в столбце 'days_exposition' заполним нулями и приведем в целочисленный тип\n",
    "data['days_exposition'].fillna(0, inplace=True)\n",
    "data['days_exposition'] = data['days_exposition'].astype('int64') \n",
    "# отбросим нулевые значения  \n",
    "print('Время продажи (медиана):', round(data.query('days_exposition != 0')['days_exposition'].median()),'\\n')\n",
    "print('Время продажи (среднее):', round(data.query('days_exposition != 0')['days_exposition'].mean()),'\\n')\n",
    "# построим гистограму времени продажи\n",
    "plt.hist(data.query('days_exposition != 0')['days_exposition'], bins=100, range=(0,250))\n",
    "plt.title('Время продажи')\n",
    "plt.xlabel('Дни')\n",
    "plt.ylabel('Количество квартир')\n",
    "plt.show()\n",
    "# изучем значения срока продажи\n",
    "data.query('days_exposition != 0')['days_exposition'].describe()"
   ]
  },
  {
   "cell_type": "code",
   "execution_count": 15,
   "metadata": {},
   "outputs": [
    {
     "data": {
      "text/plain": [
       "<AxesSubplot:>"
      ]
     },
     "execution_count": 15,
     "metadata": {},
     "output_type": "execute_result"
    },
    {
     "data": {
      "image/png": "[encoded data removed]",
      "text/plain": [
       "<Figure size 720x216 with 1 Axes>"
      ]
     },
     "metadata": {},
     "output_type": "display_data"
    }
   ],
   "source": [
    "# посмотрим пики времени продажи\n",
    "data.query('40<days_exposition<65')['days_exposition'].hist(bins=70, figsize=(10,3))"
   ]
  },
  {
   "cell_type": "markdown",
   "metadata": {},
   "source": [
    "**Вывод**\n",
    "\n",
    "Медианное время продажи - 95 дней. Среднее время продажи - 181 день. \n",
    "В основном квартиры продаются за срок от 50 до 100 дней. Чаще всего квартиры продаются в срок 45 дней и 60 дней. Есть большое число квартир, проданных всего за несколько дней после публикации. А также есть варианты, которые продавались несколько десятков месяцев. Быстрой продажей можно назвать срок в 49 дней и меньше. Долгой продажей - 230 дней (7,5 месяцев) и дольше.\n"
   ]
  },
  {
   "cell_type": "code",
   "execution_count": 16,
   "metadata": {},
   "outputs": [
    {
     "data": {
      "text/html": [
       "<div>\n",
       "<style scoped>\n",
       "    .dataframe tbody tr th:only-of-type {\n",
       "        vertical-align: middle;\n",
       "    }\n",
       "\n",
       "    .dataframe tbody tr th {\n",
       "        vertical-align: top;\n",
       "    }\n",
       "\n",
       "    .dataframe thead th {\n",
       "        text-align: right;\n",
       "    }\n",
       "</style>\n",
       "<table border=\"1\" class=\"dataframe\">\n",
       "  <thead>\n",
       "    <tr style=\"text-align: right;\">\n",
       "      <th></th>\n",
       "      <th>total_images</th>\n",
       "      <th>last_price</th>\n",
       "      <th>total_area</th>\n",
       "      <th>rooms</th>\n",
       "      <th>ceiling_height</th>\n",
       "      <th>floors_total</th>\n",
       "      <th>living_area</th>\n",
       "      <th>floor</th>\n",
       "      <th>kitchen_area</th>\n",
       "      <th>balcony</th>\n",
       "      <th>airports_nearest</th>\n",
       "      <th>city_centers_nearest</th>\n",
       "      <th>parks_around3000</th>\n",
       "      <th>parks_nearest</th>\n",
       "      <th>ponds_around3000</th>\n",
       "      <th>ponds_nearest</th>\n",
       "      <th>days_exposition</th>\n",
       "      <th>sm_price</th>\n",
       "      <th>weekday</th>\n",
       "      <th>month</th>\n",
       "      <th>year</th>\n",
       "      <th>area_ratio</th>\n",
       "      <th>kitchen_ratio</th>\n",
       "    </tr>\n",
       "  </thead>\n",
       "  <tbody>\n",
       "    <tr>\n",
       "      <th>count</th>\n",
       "      <td>23,461.00</td>\n",
       "      <td>21,422.00</td>\n",
       "      <td>22,230.00</td>\n",
       "      <td>23,268.00</td>\n",
       "      <td>21,754.00</td>\n",
       "      <td>23,376.00</td>\n",
       "      <td>22,581.00</td>\n",
       "      <td>23,461.00</td>\n",
       "      <td>22,179.00</td>\n",
       "      <td>23,461.00</td>\n",
       "      <td>17,990.00</td>\n",
       "      <td>18,013.00</td>\n",
       "      <td>23,461.00</td>\n",
       "      <td>8,005.00</td>\n",
       "      <td>23,461.00</td>\n",
       "      <td>9,026.00</td>\n",
       "      <td>21,459.00</td>\n",
       "      <td>23,461.00</td>\n",
       "      <td>23,461.00</td>\n",
       "      <td>23,461.00</td>\n",
       "      <td>23,461.00</td>\n",
       "      <td>23,461.00</td>\n",
       "      <td>23,461.00</td>\n",
       "    </tr>\n",
       "    <tr>\n",
       "      <th>mean</th>\n",
       "      <td>9.86</td>\n",
       "      <td>4,841,610.14</td>\n",
       "      <td>54.40</td>\n",
       "      <td>2.03</td>\n",
       "      <td>2.66</td>\n",
       "      <td>10.67</td>\n",
       "      <td>31.47</td>\n",
       "      <td>5.89</td>\n",
       "      <td>9.42</td>\n",
       "      <td>0.59</td>\n",
       "      <td>28,811.98</td>\n",
       "      <td>14,209.79</td>\n",
       "      <td>0.47</td>\n",
       "      <td>491.20</td>\n",
       "      <td>0.59</td>\n",
       "      <td>517.91</td>\n",
       "      <td>104.06</td>\n",
       "      <td>99,299.12</td>\n",
       "      <td>2.57</td>\n",
       "      <td>6.40</td>\n",
       "      <td>2,017.37</td>\n",
       "      <td>55.89</td>\n",
       "      <td>18.08</td>\n",
       "    </tr>\n",
       "    <tr>\n",
       "      <th>std</th>\n",
       "      <td>5.68</td>\n",
       "      <td>2,213,906.64</td>\n",
       "      <td>19.35</td>\n",
       "      <td>0.97</td>\n",
       "      <td>0.14</td>\n",
       "      <td>6.58</td>\n",
       "      <td>13.72</td>\n",
       "      <td>4.88</td>\n",
       "      <td>3.17</td>\n",
       "      <td>0.96</td>\n",
       "      <td>12,639.75</td>\n",
       "      <td>8,610.99</td>\n",
       "      <td>0.75</td>\n",
       "      <td>341.97</td>\n",
       "      <td>0.88</td>\n",
       "      <td>277.82</td>\n",
       "      <td>112.17</td>\n",
       "      <td>49,929.89</td>\n",
       "      <td>1.79</td>\n",
       "      <td>3.49</td>\n",
       "      <td>1.04</td>\n",
       "      <td>9.87</td>\n",
       "      <td>6.84</td>\n",
       "    </tr>\n",
       "    <tr>\n",
       "      <th>min</th>\n",
       "      <td>0.00</td>\n",
       "      <td>12,190.00</td>\n",
       "      <td>13.00</td>\n",
       "      <td>0.00</td>\n",
       "      <td>2.25</td>\n",
       "      <td>1.00</td>\n",
       "      <td>2.00</td>\n",
       "      <td>1.00</td>\n",
       "      <td>1.30</td>\n",
       "      <td>0.00</td>\n",
       "      <td>0.00</td>\n",
       "      <td>181.00</td>\n",
       "      <td>0.00</td>\n",
       "      <td>1.00</td>\n",
       "      <td>0.00</td>\n",
       "      <td>13.00</td>\n",
       "      <td>0.00</td>\n",
       "      <td>111.00</td>\n",
       "      <td>0.00</td>\n",
       "      <td>1.00</td>\n",
       "      <td>2,014.00</td>\n",
       "      <td>2.00</td>\n",
       "      <td>2.00</td>\n",
       "    </tr>\n",
       "    <tr>\n",
       "      <th>25%</th>\n",
       "      <td>6.00</td>\n",
       "      <td>3,300,000.00</td>\n",
       "      <td>39.50</td>\n",
       "      <td>1.00</td>\n",
       "      <td>2.55</td>\n",
       "      <td>5.00</td>\n",
       "      <td>18.70</td>\n",
       "      <td>2.00</td>\n",
       "      <td>7.00</td>\n",
       "      <td>0.00</td>\n",
       "      <td>18,576.50</td>\n",
       "      <td>9,257.00</td>\n",
       "      <td>0.00</td>\n",
       "      <td>288.00</td>\n",
       "      <td>0.00</td>\n",
       "      <td>293.00</td>\n",
       "      <td>18.00</td>\n",
       "      <td>76,586.00</td>\n",
       "      <td>1.00</td>\n",
       "      <td>3.00</td>\n",
       "      <td>2,017.00</td>\n",
       "      <td>50.00</td>\n",
       "      <td>13.00</td>\n",
       "    </tr>\n",
       "    <tr>\n",
       "      <th>50%</th>\n",
       "      <td>9.00</td>\n",
       "      <td>4,400,000.00</td>\n",
       "      <td>50.20</td>\n",
       "      <td>2.00</td>\n",
       "      <td>2.64</td>\n",
       "      <td>9.00</td>\n",
       "      <td>30.00</td>\n",
       "      <td>4.00</td>\n",
       "      <td>9.00</td>\n",
       "      <td>0.00</td>\n",
       "      <td>26,764.50</td>\n",
       "      <td>13,107.00</td>\n",
       "      <td>0.00</td>\n",
       "      <td>455.00</td>\n",
       "      <td>0.00</td>\n",
       "      <td>502.00</td>\n",
       "      <td>61.00</td>\n",
       "      <td>94,965.00</td>\n",
       "      <td>3.00</td>\n",
       "      <td>6.00</td>\n",
       "      <td>2,017.00</td>\n",
       "      <td>57.00</td>\n",
       "      <td>17.00</td>\n",
       "    </tr>\n",
       "    <tr>\n",
       "      <th>75%</th>\n",
       "      <td>14.00</td>\n",
       "      <td>6,000,000.00</td>\n",
       "      <td>65.60</td>\n",
       "      <td>3.00</td>\n",
       "      <td>2.75</td>\n",
       "      <td>16.00</td>\n",
       "      <td>40.50</td>\n",
       "      <td>8.00</td>\n",
       "      <td>11.00</td>\n",
       "      <td>1.00</td>\n",
       "      <td>37,310.00</td>\n",
       "      <td>16,298.00</td>\n",
       "      <td>1.00</td>\n",
       "      <td>612.00</td>\n",
       "      <td>1.00</td>\n",
       "      <td>730.00</td>\n",
       "      <td>154.00</td>\n",
       "      <td>114,159.00</td>\n",
       "      <td>4.00</td>\n",
       "      <td>10.00</td>\n",
       "      <td>2,018.00</td>\n",
       "      <td>62.00</td>\n",
       "      <td>22.00</td>\n",
       "    </tr>\n",
       "    <tr>\n",
       "      <th>max</th>\n",
       "      <td>50.00</td>\n",
       "      <td>11,850,000.00</td>\n",
       "      <td>114.60</td>\n",
       "      <td>5.00</td>\n",
       "      <td>3.05</td>\n",
       "      <td>60.00</td>\n",
       "      <td>76.40</td>\n",
       "      <td>33.00</td>\n",
       "      <td>19.45</td>\n",
       "      <td>5.00</td>\n",
       "      <td>84,869.00</td>\n",
       "      <td>65,968.00</td>\n",
       "      <td>3.00</td>\n",
       "      <td>3,190.00</td>\n",
       "      <td>3.00</td>\n",
       "      <td>1,344.00</td>\n",
       "      <td>464.00</td>\n",
       "      <td>1,907,500.00</td>\n",
       "      <td>6.00</td>\n",
       "      <td>12.00</td>\n",
       "      <td>2,019.00</td>\n",
       "      <td>90.00</td>\n",
       "      <td>72.00</td>\n",
       "    </tr>\n",
       "  </tbody>\n",
       "</table>\n",
       "</div>"
      ],
      "text/plain": [
       "       total_images    last_price  total_area     rooms  ceiling_height  \\\n",
       "count     23,461.00     21,422.00   22,230.00 23,268.00       21,754.00   \n",
       "mean           9.86  4,841,610.14       54.40      2.03            2.66   \n",
       "std            5.68  2,213,906.64       19.35      0.97            0.14   \n",
       "min            0.00     12,190.00       13.00      0.00            2.25   \n",
       "25%            6.00  3,300,000.00       39.50      1.00            2.55   \n",
       "50%            9.00  4,400,000.00       50.20      2.00            2.64   \n",
       "75%           14.00  6,000,000.00       65.60      3.00            2.75   \n",
       "max           50.00 11,850,000.00      114.60      5.00            3.05   \n",
       "\n",
       "       floors_total  living_area     floor  kitchen_area   balcony  \\\n",
       "count     23,376.00    22,581.00 23,461.00     22,179.00 23,461.00   \n",
       "mean          10.67        31.47      5.89          9.42      0.59   \n",
       "std            6.58        13.72      4.88          3.17      0.96   \n",
       "min            1.00         2.00      1.00          1.30      0.00   \n",
       "25%            5.00        18.70      2.00          7.00      0.00   \n",
       "50%            9.00        30.00      4.00          9.00      0.00   \n",
       "75%           16.00        40.50      8.00         11.00      1.00   \n",
       "max           60.00        76.40     33.00         19.45      5.00   \n",
       "\n",
       "       airports_nearest  city_centers_nearest  parks_around3000  \\\n",
       "count         17,990.00             18,013.00         23,461.00   \n",
       "mean          28,811.98             14,209.79              0.47   \n",
       "std           12,639.75              8,610.99              0.75   \n",
       "min                0.00                181.00              0.00   \n",
       "25%           18,576.50              9,257.00              0.00   \n",
       "50%           26,764.50             13,107.00              0.00   \n",
       "75%           37,310.00             16,298.00              1.00   \n",
       "max           84,869.00             65,968.00              3.00   \n",
       "\n",
       "       parks_nearest  ponds_around3000  ponds_nearest  days_exposition  \\\n",
       "count       8,005.00         23,461.00       9,026.00        21,459.00   \n",
       "mean          491.20              0.59         517.91           104.06   \n",
       "std           341.97              0.88         277.82           112.17   \n",
       "min             1.00              0.00          13.00             0.00   \n",
       "25%           288.00              0.00         293.00            18.00   \n",
       "50%           455.00              0.00         502.00            61.00   \n",
       "75%           612.00              1.00         730.00           154.00   \n",
       "max         3,190.00              3.00       1,344.00           464.00   \n",
       "\n",
       "          sm_price   weekday     month      year  area_ratio  kitchen_ratio  \n",
       "count    23,461.00 23,461.00 23,461.00 23,461.00   23,461.00      23,461.00  \n",
       "mean     99,299.12      2.57      6.40  2,017.37       55.89          18.08  \n",
       "std      49,929.89      1.79      3.49      1.04        9.87           6.84  \n",
       "min         111.00      0.00      1.00  2,014.00        2.00           2.00  \n",
       "25%      76,586.00      1.00      3.00  2,017.00       50.00          13.00  \n",
       "50%      94,965.00      3.00      6.00  2,017.00       57.00          17.00  \n",
       "75%     114,159.00      4.00     10.00  2,018.00       62.00          22.00  \n",
       "max   1,907,500.00      6.00     12.00  2,019.00       90.00          72.00  "
      ]
     },
     "execution_count": 16,
     "metadata": {},
     "output_type": "execute_result"
    }
   ],
   "source": [
    "# используем межквартильный метод для анализа выбивающихся значений (метод iqr для удаления выбросов)\n",
    "def quartile_range(df, column):\n",
    "    q1 = df[column].quantile(0.25)\n",
    "    q3 = df[column].quantile(0.75)\n",
    "    iqr = q3 - q1\n",
    "    dfq = df.loc[(df[column] < q3 + 1.5*iqr) & (df[column] > q1 - 1.5*iqr), column]\n",
    "    return dfq\n",
    "# cтолбцы с выбросами\n",
    "list_features = ['last_price', 'total_area', 'kitchen_area', 'living_area', 'days_exposition', 'ceiling_height', 'rooms']\n",
    "for col in list_features:\n",
    "    data[col] = quartile_range(data, col)\n",
    "\n",
    "# анализируем, есть ли выбивающиеся значения\n",
    "data.describe()"
   ]
  },
  {
   "cell_type": "markdown",
   "metadata": {},
   "source": [
    "**Вывод**\n",
    "\n",
    "Значения в столбцах стоимость, общая площадь, площадь кухни и жилая, количество дней продажи, высота потолков и комнат стали реалистичные.\n",
    "В датафрейме отброшены выбросы межквартильным методом. Выбросы “назначаются” данные, которые более чем в 1,5 межквартильных диапазонах (IQR) ниже первого квартиля или выше третьего квартиля."
   ]
  },
  {
   "cell_type": "code",
   "execution_count": 17,
   "metadata": {},
   "outputs": [
    {
     "data": {
      "image/png": "[encoded data removed]",
      "text/plain": [
       "<Figure size 360x360 with 1 Axes>"
      ]
     },
     "metadata": {},
     "output_type": "display_data"
    },
    {
     "name": "stdout",
     "output_type": "stream",
     "text": [
      "Корреляция цены и площади: \n",
      "\n",
      "            last_price  total_area\n",
      "last_price        1.00        0.91\n",
      "total_area        0.91        1.00 \n",
      "\n"
     ]
    },
    {
     "data": {
      "image/png": "[encoded data removed]",
      "text/plain": [
       "<Figure size 360x360 with 1 Axes>"
      ]
     },
     "metadata": {},
     "output_type": "display_data"
    },
    {
     "name": "stdout",
     "output_type": "stream",
     "text": [
      "Корреляция цены и числа комнат: \n",
      "\n",
      "            last_price  rooms\n",
      "last_price        1.00   0.55\n",
      "rooms             0.55   1.00 \n",
      "\n"
     ]
    },
    {
     "data": {
      "image/png": "[encoded data removed]",
      "text/plain": [
       "<Figure size 360x360 with 1 Axes>"
      ]
     },
     "metadata": {},
     "output_type": "display_data"
    },
    {
     "name": "stdout",
     "output_type": "stream",
     "text": [
      "Корреляция цены и удалённости от центра: \n",
      "\n",
      "                      city_centers_nearest  last_price\n",
      "city_centers_nearest                  1.00        0.70\n",
      "last_price                            0.70        1.00 \n",
      "\n"
     ]
    }
   ],
   "source": [
    "# зависимость цены от площади\n",
    "data.pivot_table(index='total_area', values='last_price') .plot(grid=True, style='o', figsize=(5, 5))\n",
    "plt.show()\n",
    "print('Корреляция цены и площади:','\\n')\n",
    "print(data.pivot_table(index='floor', values=['total_area', 'last_price']).corr(),'\\n')\n",
    "\n",
    "# зависимость цены от числа комнат\n",
    "data.pivot_table(index='rooms', values='last_price').plot(grid=True, style='o-', figsize=(5, 5))\n",
    "plt.show()\n",
    "print('Корреляция цены и числа комнат:','\\n')\n",
    "print(data.pivot_table(index='floor', values=['rooms', 'last_price']).corr(),'\\n')\n",
    "\n",
    "# зависимость цены от удалённости от центра\n",
    "data.pivot_table(index='city_centers_nearest', values='last_price').plot(grid=True, style='o', figsize=(5, 5))\n",
    "plt.show()\n",
    "print('Корреляция цены и удалённости от центра:','\\n')\n",
    "print(data.pivot_table(index='floor', values=['city_centers_nearest', 'last_price']).corr(),'\\n')"
   ]
  },
  {
   "cell_type": "code",
   "execution_count": 18,
   "metadata": {},
   "outputs": [
    {
     "data": {
      "image/png": "[encoded data removed]",
      "text/plain": [
       "<Figure size 360x360 with 1 Axes>"
      ]
     },
     "metadata": {},
     "output_type": "display_data"
    }
   ],
   "source": [
    "# зависимость цены от этажа\n",
    "data.pivot_table(index='floor_type', values='last_price', aggfunc='median').plot(grid=True, style='o-', figsize=(5, 5))\n",
    "plt.show()"
   ]
  },
  {
   "cell_type": "code",
   "execution_count": 19,
   "metadata": {},
   "outputs": [
    {
     "data": {
      "image/png": "[encoded data removed]",
      "text/plain": [
       "<Figure size 360x360 with 1 Axes>"
      ]
     },
     "metadata": {},
     "output_type": "display_data"
    },
    {
     "data": {
      "image/png": "[encoded data removed]",
      "text/plain": [
       "<Figure size 720x360 with 1 Axes>"
      ]
     },
     "metadata": {},
     "output_type": "display_data"
    },
    {
     "data": {
      "image/png": "[encoded data removed]",
      "text/plain": [
       "<Figure size 360x360 with 1 Axes>"
      ]
     },
     "metadata": {},
     "output_type": "display_data"
    }
   ],
   "source": [
    "# зависимость от дня размещения\n",
    "data.pivot_table(index='weekday', values='last_price').plot(grid=True, style='o-', figsize=(5, 5))\n",
    "plt.show()\n",
    "# зависимость от месяца размещения\n",
    "data.pivot_table(index='month', values='last_price').plot(grid=True, style='o-', xlim=(1,13), figsize=(10, 5))\n",
    "plt.show()\n",
    "# зависимость от года размещения\n",
    "data.pivot_table(index='year', values='last_price').plot(grid=True, style='o-', figsize=(5, 5))\n",
    "plt.show()"
   ]
  },
  {
   "cell_type": "markdown",
   "metadata": {},
   "source": [
    "**Вывод**\n",
    "\n",
    "Изучив зависимость цены от площади, можно сделать вывод: чем больше площадь, тем выше стоимость квартиры. Корреляция этих параметров крайне высокая (0,91). Число комнат влияет на цену (больше комнат - больше цена), однако зависимость ниже (0,54), чем у площади. Можно сделать два вывода: бывают квартиры с большими по площади комнатами; квартиры в центре состоят из малого числа комнат, но стоят достаточно высоко. Самые дорогие варианты квартир находятся в центре города, однако в центре также есть и достаточно дешёвые варианты. Согласно графику, стоимость квартир на первом этаже ниже, чем стоимость квартир на последних и других этажах.  Наибольшая стоимость у квартир, расположенных не на 1-м и не на последнем этаже.\n",
    "Дороже всего квартиры, опубликованные во вторник, дешевле всего - в субботу.\n",
    "Квартиры, продающиеся с апреля, стоят дороже, дешевле всего - с июня.\n",
    "Квартиры очень сильно подешевели в 2016-2018 годах, что, вероятно, вызвано некоторым кризисом 2014-2015 годов. В 2019 году ставки по ипотечным кредитам существенно стали снижаться, поэтому стоимость квартир снова стала повышаться.  "
   ]
  },
  {
   "cell_type": "code",
   "execution_count": 20,
   "metadata": {},
   "outputs": [
    {
     "data": {
      "text/html": [
       "<div>\n",
       "<style scoped>\n",
       "    .dataframe tbody tr th:only-of-type {\n",
       "        vertical-align: middle;\n",
       "    }\n",
       "\n",
       "    .dataframe tbody tr th {\n",
       "        vertical-align: top;\n",
       "    }\n",
       "\n",
       "    .dataframe thead th {\n",
       "        text-align: right;\n",
       "    }\n",
       "</style>\n",
       "<table border=\"1\" class=\"dataframe\">\n",
       "  <thead>\n",
       "    <tr style=\"text-align: right;\">\n",
       "      <th></th>\n",
       "      <th>sm_price</th>\n",
       "    </tr>\n",
       "    <tr>\n",
       "      <th>locality_name</th>\n",
       "      <th></th>\n",
       "    </tr>\n",
       "  </thead>\n",
       "  <tbody>\n",
       "    <tr>\n",
       "      <th>Санкт-Петербург</th>\n",
       "      <td>114633</td>\n",
       "    </tr>\n",
       "    <tr>\n",
       "      <th>Пушкин</th>\n",
       "      <td>103179</td>\n",
       "    </tr>\n",
       "    <tr>\n",
       "      <th>деревня Кудрово</th>\n",
       "      <td>92446</td>\n",
       "    </tr>\n",
       "    <tr>\n",
       "      <th>посёлок Парголово</th>\n",
       "      <td>90134</td>\n",
       "    </tr>\n",
       "    <tr>\n",
       "      <th>посёлок Мурино</th>\n",
       "      <td>85529</td>\n",
       "    </tr>\n",
       "    <tr>\n",
       "      <th>посёлок Шушары</th>\n",
       "      <td>78672</td>\n",
       "    </tr>\n",
       "    <tr>\n",
       "      <th>Колпино</th>\n",
       "      <td>75480</td>\n",
       "    </tr>\n",
       "    <tr>\n",
       "      <th>Гатчина</th>\n",
       "      <td>68624</td>\n",
       "    </tr>\n",
       "    <tr>\n",
       "      <th>Всеволожск</th>\n",
       "      <td>68582</td>\n",
       "    </tr>\n",
       "    <tr>\n",
       "      <th>Выборг</th>\n",
       "      <td>58303</td>\n",
       "    </tr>\n",
       "  </tbody>\n",
       "</table>\n",
       "</div>"
      ],
      "text/plain": [
       "                   sm_price\n",
       "locality_name              \n",
       "Санкт-Петербург      114633\n",
       "Пушкин               103179\n",
       "деревня Кудрово       92446\n",
       "посёлок Парголово     90134\n",
       "посёлок Мурино        85529\n",
       "посёлок Шушары        78672\n",
       "Колпино               75480\n",
       "Гатчина               68624\n",
       "Всеволожск            68582\n",
       "Выборг                58303"
      ]
     },
     "execution_count": 20,
     "metadata": {},
     "output_type": "execute_result"
    }
   ],
   "source": [
    "# cравниваем среднюю стоимость квадратного метра в топ-10 городов по числу объявлений\n",
    "city_ten = data['locality_name'].value_counts().head(10)\n",
    "city_sm_price = data.query('locality_name in (@city_ten.index)').pivot_table(values='sm_price', index='locality_name')\n",
    "city_sm_price = city_sm_price.astype(int)\n",
    "city_sm_price.sort_values('sm_price', ascending=False)"
   ]
  },
  {
   "cell_type": "markdown",
   "metadata": {},
   "source": [
    "**Вывод**\n",
    "\n",
    "Наибольшая средняя стоимость квадратного метра в Санкт-Петербурге. Затем идёт Пушкин, что, вероятно, вызвано хорошей застройкой и большим количеством парков. Затем идут районы, фактически являющиеся Санкт-Петербургом и непосредственно к нему примыкают. Из топ-10 наименьшая стоимость в Гатчине и Всеволожске, из которых далеко ехать до Санкт-Петербурга, а также небольшой по численности населения Выборг, расположенный на большом расстоянии от Санкт-Петербурга."
   ]
  },
  {
   "cell_type": "code",
   "execution_count": 21,
   "metadata": {
    "scrolled": true
   },
   "outputs": [
    {
     "data": {
      "image/png": "[encoded data removed]",
      "text/plain": [
       "<Figure size 720x288 with 1 Axes>"
      ]
     },
     "metadata": {},
     "output_type": "display_data"
    }
   ],
   "source": [
    "# добавляем столбец с расстоянием до центра в км, округляем до целого\n",
    "data['center_km'] = data['city_centers_nearest'] / 1000\n",
    "data['center_km'] = data['center_km'].fillna(value=0).astype(int)\n",
    "# выбираем Санкт-Петербург, смотрим на график, где указана средняя стоимость для каждого км\n",
    "(\n",
    "    data.query('locality_name == \"Санкт-Петербург\"').pivot_table(index='center_km', values='last_price')\n",
    "    .plot(grid=True, style='x-', xlim=(0,20), figsize=(10,4))\n",
    ")\n",
    "plt.show()"
   ]
  },
  {
   "cell_type": "markdown",
   "metadata": {},
   "source": [
    "**Вывод**\n",
    "\n",
    "Центр ограничен радиусом в 5 км, далее медианная цена довольно заметно падает. "
   ]
  },
  {
   "cell_type": "code",
   "execution_count": 22,
   "metadata": {},
   "outputs": [
    {
     "name": "stdout",
     "output_type": "stream",
     "text": [
      "Площадь (медиана): 52 \n",
      "\n",
      "Площадь в центре (медиана): 70 \n",
      "\n",
      "Площадь (среднее): 57 \n",
      "\n",
      "Площадь в центре (среднее): 71 \n",
      "\n"
     ]
    },
    {
     "data": {
      "image/png": "[encoded data removed]",
      "text/plain": [
       "<Figure size 360x360 with 1 Axes>"
      ]
     },
     "metadata": {},
     "output_type": "display_data"
    },
    {
     "name": "stdout",
     "output_type": "stream",
     "text": [
      "Число вариантов с ценой больше 20 млн: 0\n"
     ]
    },
    {
     "data": {
      "image/png": "[encoded data removed]",
      "text/plain": [
       "<Figure size 432x288 with 1 Axes>"
      ]
     },
     "metadata": {},
     "output_type": "display_data"
    },
    {
     "data": {
      "text/html": [
       "<div>\n",
       "<style scoped>\n",
       "    .dataframe tbody tr th:only-of-type {\n",
       "        vertical-align: middle;\n",
       "    }\n",
       "\n",
       "    .dataframe tbody tr th {\n",
       "        vertical-align: top;\n",
       "    }\n",
       "\n",
       "    .dataframe thead th {\n",
       "        text-align: right;\n",
       "    }\n",
       "</style>\n",
       "<table border=\"1\" class=\"dataframe\">\n",
       "  <thead>\n",
       "    <tr style=\"text-align: right;\">\n",
       "      <th></th>\n",
       "      <th>count</th>\n",
       "      <th>rooms_ratio</th>\n",
       "      <th>center_count</th>\n",
       "      <th>center_rooms_ratio</th>\n",
       "      <th>center_cap</th>\n",
       "    </tr>\n",
       "    <tr>\n",
       "      <th>rooms</th>\n",
       "      <th></th>\n",
       "      <th></th>\n",
       "      <th></th>\n",
       "      <th></th>\n",
       "      <th></th>\n",
       "    </tr>\n",
       "  </thead>\n",
       "  <tbody>\n",
       "    <tr>\n",
       "      <th>1.00</th>\n",
       "      <td>4899</td>\n",
       "      <td>31.97</td>\n",
       "      <td>395</td>\n",
       "      <td>14.58</td>\n",
       "      <td>8.00</td>\n",
       "    </tr>\n",
       "    <tr>\n",
       "      <th>2.00</th>\n",
       "      <td>5068</td>\n",
       "      <td>33.08</td>\n",
       "      <td>792</td>\n",
       "      <td>29.24</td>\n",
       "      <td>16.00</td>\n",
       "    </tr>\n",
       "    <tr>\n",
       "      <th>3.00</th>\n",
       "      <td>4101</td>\n",
       "      <td>26.77</td>\n",
       "      <td>880</td>\n",
       "      <td>32.48</td>\n",
       "      <td>21.00</td>\n",
       "    </tr>\n",
       "    <tr>\n",
       "      <th>4.00</th>\n",
       "      <td>965</td>\n",
       "      <td>6.30</td>\n",
       "      <td>433</td>\n",
       "      <td>15.98</td>\n",
       "      <td>45.00</td>\n",
       "    </tr>\n",
       "    <tr>\n",
       "      <th>5.00</th>\n",
       "      <td>289</td>\n",
       "      <td>1.89</td>\n",
       "      <td>209</td>\n",
       "      <td>7.72</td>\n",
       "      <td>72.00</td>\n",
       "    </tr>\n",
       "  </tbody>\n",
       "</table>\n",
       "</div>"
      ],
      "text/plain": [
       "       count  rooms_ratio  center_count  center_rooms_ratio  center_cap\n",
       "rooms                                                                  \n",
       "1.00    4899        31.97           395               14.58        8.00\n",
       "2.00    5068        33.08           792               29.24       16.00\n",
       "3.00    4101        26.77           880               32.48       21.00\n",
       "4.00     965         6.30           433               15.98       45.00\n",
       "5.00     289         1.89           209                7.72       72.00"
      ]
     },
     "metadata": {},
     "output_type": "display_data"
    },
    {
     "name": "stdout",
     "output_type": "stream",
     "text": [
      "Высота потолков (медиана): 2.65 \n",
      "\n",
      "Высота потолков в центре (медиана): 2.8 \n",
      "\n",
      "Высота потолков (среднее): 2.678865381880245 \n",
      "\n",
      "Высота потолков в центре (среднее): 2.8069300739056278 \n",
      "\n"
     ]
    },
    {
     "data": {
      "image/png": "[encoded data removed]",
      "text/plain": [
       "<Figure size 360x360 with 1 Axes>"
      ]
     },
     "metadata": {},
     "output_type": "display_data"
    }
   ],
   "source": [
    "# выделяем сегмент квартир в центре,  беря за радиус 5 км\n",
    "spb_center = data.query('(locality_name == \"Санкт-Петербург\") & (center_km <= 5)')\n",
    "\n",
    "# изучаем площадь\n",
    "print('Площадь (медиана):', round(data.query('locality_name == \"Санкт-Петербург\"')['total_area'].median()),'\\n')\n",
    "print('Площадь в центре (медиана):', round(spb_center['total_area'].median()),'\\n')\n",
    "print('Площадь (среднее):', round(data.query('locality_name == \"Санкт-Петербург\"')['total_area'].mean()),'\\n')\n",
    "print('Площадь в центре (среднее):', round(spb_center['total_area'].mean()),'\\n')\n",
    "spb_center['total_area'].hist(bins=30, range=(25,150), figsize=(5,5))\n",
    "plt.show()\n",
    "\n",
    "# изучаем стоимость квартир \n",
    "spb_center['last_price'].hist(bins=100)\n",
    "print('Число вариантов с ценой больше 20 млн:', spb_center.query('last_price > 20000000')['last_price'].count())\n",
    "plt.show()\n",
    "\n",
    "# изучаем число комнат\n",
    "spb_rooms = data.query('(locality_name == \"Санкт-Петербург\") & (rooms > 0)').pivot_table(index='rooms', values='floor', aggfunc='count')\n",
    "spb_rooms.columns = ['count']\n",
    "spb_rooms['rooms_ratio'] = spb_rooms['count'] / spb_rooms['count'].sum() * 100\n",
    "spb_rooms_center = data.query('(locality_name == \"Санкт-Петербург\") & (center_km <= 5)  & (rooms > 0)').pivot_table(index='rooms', values='floor', aggfunc='count')\n",
    "spb_rooms_center.columns = ['center_count']\n",
    "spb_rooms_center['center_rooms_ratio'] = spb_rooms_center['center_count'] / spb_rooms_center['center_count'].sum() * 100\n",
    "rooms_alldata = pd.merge(spb_rooms, spb_rooms_center, 'left', on = 'rooms')\n",
    "rooms_alldata['center_cap'] = round(rooms_alldata['center_count'] / rooms_alldata['count'] * 100)\n",
    "display(rooms_alldata)\n",
    "\n",
    "# изучаем высоту потолков\n",
    "print('Высота потолков (медиана):', data.query('locality_name == \"Санкт-Петербург\"')['ceiling_height'].median(),'\\n')\n",
    "print('Высота потолков в центре (медиана):', spb_center['ceiling_height'].median(),'\\n')\n",
    "print('Высота потолков (среднее):', data.query('locality_name == \"Санкт-Петербург\"')['ceiling_height'].mean(),'\\n')\n",
    "print('Высота потолков в центре (среднее):', spb_center['ceiling_height'].mean(),'\\n')\n",
    "spb_center['ceiling_height'].hist(bins=20, range=(2,4), figsize=(5,5))\n",
    "plt.show()"
   ]
  },
  {
   "cell_type": "code",
   "execution_count": 23,
   "metadata": {},
   "outputs": [
    {
     "data": {
      "image/png": "[encoded data removed]",
      "text/plain": [
       "<Figure size 360x360 with 1 Axes>"
      ]
     },
     "metadata": {},
     "output_type": "display_data"
    },
    {
     "name": "stdout",
     "output_type": "stream",
     "text": [
      "Корреляция цены квартиры и числа комнат: \n",
      "\n",
      "            last_price  rooms\n",
      "last_price        1.00   0.28\n",
      "rooms             0.28   1.00 \n",
      "\n"
     ]
    }
   ],
   "source": [
    "# анализируем зависимость стоимости квартиры от количества комнат\n",
    "spb_center.query('rooms > 0').pivot_table(index='rooms', values='last_price').plot(grid=True, style='o-', figsize=(5, 5))\n",
    "plt.show()\n",
    "print('Корреляция цены квартиры и числа комнат:','\\n')\n",
    "print(spb_center.query('rooms > 0').pivot_table(index='floor', values=['rooms', 'last_price']).corr(),'\\n')"
   ]
  },
  {
   "cell_type": "code",
   "execution_count": 24,
   "metadata": {},
   "outputs": [
    {
     "data": {
      "text/html": [
       "<div>\n",
       "<style scoped>\n",
       "    .dataframe tbody tr th:only-of-type {\n",
       "        vertical-align: middle;\n",
       "    }\n",
       "\n",
       "    .dataframe tbody tr th {\n",
       "        vertical-align: top;\n",
       "    }\n",
       "\n",
       "    .dataframe thead th {\n",
       "        text-align: right;\n",
       "    }\n",
       "</style>\n",
       "<table border=\"1\" class=\"dataframe\">\n",
       "  <thead>\n",
       "    <tr style=\"text-align: right;\">\n",
       "      <th></th>\n",
       "      <th>mean</th>\n",
       "      <th>count</th>\n",
       "      <th>median</th>\n",
       "    </tr>\n",
       "    <tr>\n",
       "      <th>floor_type</th>\n",
       "      <th></th>\n",
       "      <th></th>\n",
       "      <th></th>\n",
       "    </tr>\n",
       "  </thead>\n",
       "  <tbody>\n",
       "    <tr>\n",
       "      <th>другой</th>\n",
       "      <td>7,796,254.39</td>\n",
       "      <td>1251</td>\n",
       "      <td>7,740,000.00</td>\n",
       "    </tr>\n",
       "    <tr>\n",
       "      <th>первый</th>\n",
       "      <td>6,446,757.80</td>\n",
       "      <td>269</td>\n",
       "      <td>6,190,000.00</td>\n",
       "    </tr>\n",
       "    <tr>\n",
       "      <th>последний</th>\n",
       "      <td>7,756,307.03</td>\n",
       "      <td>319</td>\n",
       "      <td>7,800,000.00</td>\n",
       "    </tr>\n",
       "  </tbody>\n",
       "</table>\n",
       "</div>"
      ],
      "text/plain": [
       "                   mean  count       median\n",
       "floor_type                                 \n",
       "другой     7,796,254.39   1251 7,740,000.00\n",
       "первый     6,446,757.80    269 6,190,000.00\n",
       "последний  7,756,307.03    319 7,800,000.00"
      ]
     },
     "execution_count": 24,
     "metadata": {},
     "output_type": "execute_result"
    },
    {
     "data": {
      "image/png": "[encoded data removed]",
      "text/plain": [
       "<Figure size 432x288 with 1 Axes>"
      ]
     },
     "metadata": {},
     "output_type": "display_data"
    }
   ],
   "source": [
    "# анализируем зависимость стоимости квартиры от этажа\n",
    "spb_center_floor_type = spb_center.pivot_table(index = 'floor_type', values = 'last_price', aggfunc = ['mean', 'count', 'median'])\n",
    "spb_center_floor_type.columns = ['mean', 'count', 'median']\n",
    "spb_center_floor_type.plot(y = 'median')\n",
    "spb_center_floor_type"
   ]
  },
  {
   "cell_type": "code",
   "execution_count": 25,
   "metadata": {},
   "outputs": [
    {
     "data": {
      "image/png": "[encoded data removed]",
      "text/plain": [
       "<Figure size 360x360 with 1 Axes>"
      ]
     },
     "metadata": {},
     "output_type": "display_data"
    },
    {
     "name": "stdout",
     "output_type": "stream",
     "text": [
      "Корреляция цены и удалённости от центра: \n",
      "\n",
      "                      city_centers_nearest  last_price\n",
      "city_centers_nearest                  1.00        0.24\n",
      "last_price                            0.24        1.00 \n",
      "\n"
     ]
    }
   ],
   "source": [
    "# анализируем зависимость стоимости квартиры от удаленности от центра\n",
    "spb_center.pivot_table(index='city_centers_nearest', values='last_price', aggfunc='median').plot(grid=True, style='o', figsize=(5, 5))\n",
    "plt.show()\n",
    "print('Корреляция цены и удалённости от центра:','\\n')\n",
    "print(spb_center.pivot_table(index='floor', values=['city_centers_nearest', 'last_price']).corr(),'\\n')"
   ]
  },
  {
   "cell_type": "code",
   "execution_count": 26,
   "metadata": {},
   "outputs": [
    {
     "data": {
      "text/html": [
       "<div>\n",
       "<style scoped>\n",
       "    .dataframe tbody tr th:only-of-type {\n",
       "        vertical-align: middle;\n",
       "    }\n",
       "\n",
       "    .dataframe tbody tr th {\n",
       "        vertical-align: top;\n",
       "    }\n",
       "\n",
       "    .dataframe thead th {\n",
       "        text-align: right;\n",
       "    }\n",
       "</style>\n",
       "<table border=\"1\" class=\"dataframe\">\n",
       "  <thead>\n",
       "    <tr style=\"text-align: right;\">\n",
       "      <th></th>\n",
       "      <th>mean</th>\n",
       "      <th>count</th>\n",
       "      <th>median</th>\n",
       "    </tr>\n",
       "    <tr>\n",
       "      <th>weekday</th>\n",
       "      <th></th>\n",
       "      <th></th>\n",
       "      <th></th>\n",
       "    </tr>\n",
       "  </thead>\n",
       "  <tbody>\n",
       "    <tr>\n",
       "      <th>6</th>\n",
       "      <td>7,923,437.86</td>\n",
       "      <td>97</td>\n",
       "      <td>8,000,000.00</td>\n",
       "    </tr>\n",
       "    <tr>\n",
       "      <th>2</th>\n",
       "      <td>7,615,203.25</td>\n",
       "      <td>302</td>\n",
       "      <td>7,700,000.00</td>\n",
       "    </tr>\n",
       "    <tr>\n",
       "      <th>1</th>\n",
       "      <td>7,594,189.01</td>\n",
       "      <td>335</td>\n",
       "      <td>7,545,600.00</td>\n",
       "    </tr>\n",
       "    <tr>\n",
       "      <th>0</th>\n",
       "      <td>7,545,879.76</td>\n",
       "      <td>274</td>\n",
       "      <td>7,535,000.00</td>\n",
       "    </tr>\n",
       "    <tr>\n",
       "      <th>4</th>\n",
       "      <td>7,651,719.30</td>\n",
       "      <td>328</td>\n",
       "      <td>7,500,000.00</td>\n",
       "    </tr>\n",
       "    <tr>\n",
       "      <th>5</th>\n",
       "      <td>7,473,003.50</td>\n",
       "      <td>135</td>\n",
       "      <td>7,500,000.00</td>\n",
       "    </tr>\n",
       "    <tr>\n",
       "      <th>3</th>\n",
       "      <td>7,508,003.80</td>\n",
       "      <td>368</td>\n",
       "      <td>7,450,000.00</td>\n",
       "    </tr>\n",
       "  </tbody>\n",
       "</table>\n",
       "</div>"
      ],
      "text/plain": [
       "                mean  count       median\n",
       "weekday                                 \n",
       "6       7,923,437.86     97 8,000,000.00\n",
       "2       7,615,203.25    302 7,700,000.00\n",
       "1       7,594,189.01    335 7,545,600.00\n",
       "0       7,545,879.76    274 7,535,000.00\n",
       "4       7,651,719.30    328 7,500,000.00\n",
       "5       7,473,003.50    135 7,500,000.00\n",
       "3       7,508,003.80    368 7,450,000.00"
      ]
     },
     "execution_count": 26,
     "metadata": {},
     "output_type": "execute_result"
    },
    {
     "data": {
      "image/png": "[encoded data removed]",
      "text/plain": [
       "<Figure size 432x288 with 1 Axes>"
      ]
     },
     "metadata": {},
     "output_type": "display_data"
    }
   ],
   "source": [
    "# анализируем зависимость стоимости квартиры от дня недели размещения объявления\n",
    "spb_center_weekday_exposition = spb_center.pivot_table(index = 'weekday', values = 'last_price', aggfunc = ['mean', 'count', 'median'])\n",
    "spb_center_weekday_exposition.columns = ['mean', 'count', 'median']\n",
    "spb_center_weekday_exposition.plot(y = 'median')\n",
    "\n",
    "spb_center_weekday_exposition.sort_values('median', ascending = False)"
   ]
  },
  {
   "cell_type": "code",
   "execution_count": 27,
   "metadata": {},
   "outputs": [
    {
     "data": {
      "text/html": [
       "<div>\n",
       "<style scoped>\n",
       "    .dataframe tbody tr th:only-of-type {\n",
       "        vertical-align: middle;\n",
       "    }\n",
       "\n",
       "    .dataframe tbody tr th {\n",
       "        vertical-align: top;\n",
       "    }\n",
       "\n",
       "    .dataframe thead th {\n",
       "        text-align: right;\n",
       "    }\n",
       "</style>\n",
       "<table border=\"1\" class=\"dataframe\">\n",
       "  <thead>\n",
       "    <tr style=\"text-align: right;\">\n",
       "      <th></th>\n",
       "      <th>mean</th>\n",
       "      <th>count</th>\n",
       "      <th>median</th>\n",
       "    </tr>\n",
       "    <tr>\n",
       "      <th>month</th>\n",
       "      <th></th>\n",
       "      <th></th>\n",
       "      <th></th>\n",
       "    </tr>\n",
       "  </thead>\n",
       "  <tbody>\n",
       "    <tr>\n",
       "      <th>9</th>\n",
       "      <td>8,117,216.79</td>\n",
       "      <td>162</td>\n",
       "      <td>8,050,000.00</td>\n",
       "    </tr>\n",
       "    <tr>\n",
       "      <th>2</th>\n",
       "      <td>7,803,710.55</td>\n",
       "      <td>200</td>\n",
       "      <td>7,980,000.00</td>\n",
       "    </tr>\n",
       "    <tr>\n",
       "      <th>3</th>\n",
       "      <td>7,755,635.62</td>\n",
       "      <td>186</td>\n",
       "      <td>7,800,000.00</td>\n",
       "    </tr>\n",
       "    <tr>\n",
       "      <th>1</th>\n",
       "      <td>7,686,490.10</td>\n",
       "      <td>104</td>\n",
       "      <td>7,650,000.00</td>\n",
       "    </tr>\n",
       "    <tr>\n",
       "      <th>7</th>\n",
       "      <td>7,541,884.16</td>\n",
       "      <td>148</td>\n",
       "      <td>7,650,000.00</td>\n",
       "    </tr>\n",
       "    <tr>\n",
       "      <th>6</th>\n",
       "      <td>7,357,811.76</td>\n",
       "      <td>160</td>\n",
       "      <td>7,500,000.00</td>\n",
       "    </tr>\n",
       "    <tr>\n",
       "      <th>11</th>\n",
       "      <td>7,494,275.86</td>\n",
       "      <td>182</td>\n",
       "      <td>7,424,000.00</td>\n",
       "    </tr>\n",
       "    <tr>\n",
       "      <th>4</th>\n",
       "      <td>7,440,802.55</td>\n",
       "      <td>175</td>\n",
       "      <td>7,400,000.00</td>\n",
       "    </tr>\n",
       "    <tr>\n",
       "      <th>8</th>\n",
       "      <td>7,400,022.29</td>\n",
       "      <td>133</td>\n",
       "      <td>7,297,000.00</td>\n",
       "    </tr>\n",
       "    <tr>\n",
       "      <th>5</th>\n",
       "      <td>7,527,865.31</td>\n",
       "      <td>103</td>\n",
       "      <td>7,290,000.00</td>\n",
       "    </tr>\n",
       "    <tr>\n",
       "      <th>10</th>\n",
       "      <td>7,511,541.48</td>\n",
       "      <td>155</td>\n",
       "      <td>7,283,286.00</td>\n",
       "    </tr>\n",
       "    <tr>\n",
       "      <th>12</th>\n",
       "      <td>7,331,833.53</td>\n",
       "      <td>131</td>\n",
       "      <td>7,080,000.00</td>\n",
       "    </tr>\n",
       "  </tbody>\n",
       "</table>\n",
       "</div>"
      ],
      "text/plain": [
       "              mean  count       median\n",
       "month                                 \n",
       "9     8,117,216.79    162 8,050,000.00\n",
       "2     7,803,710.55    200 7,980,000.00\n",
       "3     7,755,635.62    186 7,800,000.00\n",
       "1     7,686,490.10    104 7,650,000.00\n",
       "7     7,541,884.16    148 7,650,000.00\n",
       "6     7,357,811.76    160 7,500,000.00\n",
       "11    7,494,275.86    182 7,424,000.00\n",
       "4     7,440,802.55    175 7,400,000.00\n",
       "8     7,400,022.29    133 7,297,000.00\n",
       "5     7,527,865.31    103 7,290,000.00\n",
       "10    7,511,541.48    155 7,283,286.00\n",
       "12    7,331,833.53    131 7,080,000.00"
      ]
     },
     "execution_count": 27,
     "metadata": {},
     "output_type": "execute_result"
    },
    {
     "data": {
      "image/png": "[encoded data removed]",
      "text/plain": [
       "<Figure size 432x288 with 1 Axes>"
      ]
     },
     "metadata": {},
     "output_type": "display_data"
    }
   ],
   "source": [
    "# анализируем зависимость стоимости квартиры от месяца размещения объявления\n",
    "spb_center_month_exposition = spb_center.pivot_table(index = 'month', values = 'last_price', aggfunc = ['mean', 'count', 'median'])\n",
    "spb_center_month_exposition.columns = ['mean', 'count', 'median']\n",
    "spb_center_month_exposition.plot(y = 'median')\n",
    "\n",
    "spb_center_month_exposition.sort_values('median', ascending = False)"
   ]
  },
  {
   "cell_type": "code",
   "execution_count": 28,
   "metadata": {},
   "outputs": [
    {
     "data": {
      "text/html": [
       "<div>\n",
       "<style scoped>\n",
       "    .dataframe tbody tr th:only-of-type {\n",
       "        vertical-align: middle;\n",
       "    }\n",
       "\n",
       "    .dataframe tbody tr th {\n",
       "        vertical-align: top;\n",
       "    }\n",
       "\n",
       "    .dataframe thead th {\n",
       "        text-align: right;\n",
       "    }\n",
       "</style>\n",
       "<table border=\"1\" class=\"dataframe\">\n",
       "  <thead>\n",
       "    <tr style=\"text-align: right;\">\n",
       "      <th></th>\n",
       "      <th>mean</th>\n",
       "      <th>count</th>\n",
       "      <th>median</th>\n",
       "    </tr>\n",
       "    <tr>\n",
       "      <th>year</th>\n",
       "      <th></th>\n",
       "      <th></th>\n",
       "      <th></th>\n",
       "    </tr>\n",
       "  </thead>\n",
       "  <tbody>\n",
       "    <tr>\n",
       "      <th>2015</th>\n",
       "      <td>7,919,875.19</td>\n",
       "      <td>155</td>\n",
       "      <td>7,950,000.00</td>\n",
       "    </tr>\n",
       "    <tr>\n",
       "      <th>2019</th>\n",
       "      <td>7,756,279.63</td>\n",
       "      <td>204</td>\n",
       "      <td>7,900,000.00</td>\n",
       "    </tr>\n",
       "    <tr>\n",
       "      <th>2016</th>\n",
       "      <td>7,614,419.00</td>\n",
       "      <td>264</td>\n",
       "      <td>7,698,500.00</td>\n",
       "    </tr>\n",
       "    <tr>\n",
       "      <th>2018</th>\n",
       "      <td>7,578,256.31</td>\n",
       "      <td>555</td>\n",
       "      <td>7,600,000.00</td>\n",
       "    </tr>\n",
       "    <tr>\n",
       "      <th>2014</th>\n",
       "      <td>7,720,000.00</td>\n",
       "      <td>4</td>\n",
       "      <td>7,495,000.00</td>\n",
       "    </tr>\n",
       "    <tr>\n",
       "      <th>2017</th>\n",
       "      <td>7,465,256.40</td>\n",
       "      <td>657</td>\n",
       "      <td>7,300,000.00</td>\n",
       "    </tr>\n",
       "  </tbody>\n",
       "</table>\n",
       "</div>"
      ],
      "text/plain": [
       "             mean  count       median\n",
       "year                                 \n",
       "2015 7,919,875.19    155 7,950,000.00\n",
       "2019 7,756,279.63    204 7,900,000.00\n",
       "2016 7,614,419.00    264 7,698,500.00\n",
       "2018 7,578,256.31    555 7,600,000.00\n",
       "2014 7,720,000.00      4 7,495,000.00\n",
       "2017 7,465,256.40    657 7,300,000.00"
      ]
     },
     "execution_count": 28,
     "metadata": {},
     "output_type": "execute_result"
    },
    {
     "data": {
      "image/png": "[encoded data removed]",
      "text/plain": [
       "<Figure size 432x288 with 1 Axes>"
      ]
     },
     "metadata": {},
     "output_type": "display_data"
    }
   ],
   "source": [
    "# анализируем зависимость стоимости квартиры от года размещения объявления\n",
    "spb_center_year_exposition = spb_center.pivot_table(index = 'year', values = 'last_price', aggfunc = ['mean', 'count', 'median'])\n",
    "spb_center_year_exposition.columns = ['mean', 'count', 'median']\n",
    "spb_center_year_exposition.plot(y = 'median')\n",
    "\n",
    "spb_center_year_exposition.sort_values('median', ascending = False)"
   ]
  },
  {
   "cell_type": "markdown",
   "metadata": {},
   "source": [
    "**Вывод**\n",
    "\n",
    "В ходе анализа квартир в центре города удалось выяснить следующие: \n",
    " - площадь квартир в центре в среднем больше на 13-14 метров, а также в центре находится большое число квартир с огромной площадью (100 квадратных метров и более);\n",
    "- в центре в два раза ниже доля однокомнатных квартир (15 %), чем в среднем по городу (32 %). Около половины четырёхкомнатных квартир находится в центре города (45 %), их доля в два раза выше, чем в среднем по городу (6 %). Большинство квартир с 5 комнатами и более находятся в центре города (коммунальные квартиры);\n",
    "- стоимость квартир в центре не превышает 20 млн руб;\n",
    "- высота потолков в центре выше в среднем на 12 сантиметров;\n",
    "- зависимость цены квартиры от числа комнат в центре города слабая, и не отличается от зависимости цены квартиры от числа комнат по городу;\n",
    "- нет особых отличий от всей выборки квартир: квартиры на первом этаже в среднем дешевле, чем на других этажах;\n",
    "- нет четкой зависимости от удаленности от центра города, уже сделана выборка по центру города;\n",
    "- в центре выше стоимость квартир, опубликованных в воскресенье и сентябре;\n",
    "- стоимость квартир в центре значительно выросла в 2015 году и снизилась только в 2017 году, в отличие от всей выборки, когда снижение стоимости квартир происходило в периоде с 2014-2018г. "
   ]
  },
  {
   "cell_type": "markdown",
   "metadata": {},
   "source": [
    "## Общий вывод"
   ]
  },
  {
   "cell_type": "markdown",
   "metadata": {},
   "source": [
    "Входе анализа объявлений о продажи квартир в Санкт-Петербурге были обработаны пропущенные значения там, где это необходимо, заменены типы данных на необходимые для удобной работы. Посчитали и добавили в таблицу цену квадратного метра жилья, вывели из даты дни недели, месяцы и года размещения объявлений, добавили категории по этажам квартир. Изучили следующие параметры на наличие выбивающихся значений - площадь, цена, число комнат, высота потолков. Были определены аномалии в данных параметрах.\n",
    "При изучении время продажи квартир, выявлено, что чаще всего квартиры продаются за 95 дней. Если меньше 45 дней, то это быстрая продажа, если дольше 230 дней — это долго. На стоимость квартиры больше всего влияют количество комнат, этаж квартиры, близость к центру. Незначительно на стоимость квартиры влияют день, месяц, год размещения. Выявлено, что на стоимость квартиры больше влияет площадь квартиры, нежели число комнат, т.е. могут быть дорогие квартиры с малым числом комнат, но где комнаты просторные. \n",
    "Входе анализа выяснили, что квартиры на первом этаже значительно дешевле остальных вариантов. Также стоимость квартиры на последнем этаже ниже, чем на остальных, кроме первого.\n",
    "Дороже всего квадратный метр в Санкт-Петербурге, дешевле всего квадратный метр в Выборге. \n",
    "При анализе квартир в центре города выявлены следующие закономерности: центр города находится в радиусе 5 километров; последний этаж практически не влияет на стоимость квартиры, в отличие от остального города; есть очень дорогие однокомнатные квартиры; экономическая ситуация в стране мало влияла на элитную недвижимость в центре города. \n"
   ]
  },
  {
   "cell_type": "markdown",
   "metadata": {},
   "source": [
    "## Чек-лист готовности проекта\n",
    "\n",
    "Поставьте 'x' в выполненных пунктах. Далее нажмите Shift+Enter."
   ]
  },
  {
   "cell_type": "markdown",
   "metadata": {},
   "source": [
    "- [x]  открыт файл\n",
    "- [х]  файлы изучены (выведены первые строки, метод `info()`)\n",
    "- [x]  определены пропущенные значения\n",
    "- [x]  заполнены пропущенные значения\n",
    "- [x]  есть пояснение, какие пропущенные значения обнаружены\n",
    "- [x]  изменены типы данных\n",
    "- [x]  есть пояснение, в каких столбцах изменены типы и почему\n",
    "- [х]  посчитано и добавлено в таблицу: цена квадратного метра\n",
    "- [х]  посчитано и добавлено в таблицу: день недели, месяц и год публикации объявления\n",
    "- [х]  посчитано и добавлено в таблицу: этаж квартиры; варианты — первый, последний, другой\n",
    "- [х]  посчитано и добавлено в таблицу: соотношение жилой и общей площади, а также отношение площади кухни к общей\n",
    "- [х]  изучены следующие параметры: площадь, цена, число комнат, высота потолков\n",
    "- [х]  построены гистограммы для каждого параметра\n",
    "- [х]  выполнено задание: «Изучите время продажи квартиры. Постройте гистограмму. Посчитайте среднее и медиану. Опишите, сколько обычно занимает продажа. Когда можно считать, что продажи прошли очень быстро, а когда необычно долго?»\n",
    "- [x]  выполнено задание: «Уберите редкие и выбивающиеся значения. Опишите, какие особенности обнаружили».\n",
    "- [x]  выполнено задание: «Какие факторы больше всего влияют на стоимость квартиры? Изучите, зависит ли цена от квадратного метра, числа комнат, этажа (первого или последнего), удалённости от центра. Также изучите зависимость от даты размещения: дня недели, месяца и года». \n",
    "- [x]  выполнено задание: «Выберите 10 населённых пунктов с наибольшим числом объявлений. Посчитайте среднюю цену квадратного метра в этих населённых пунктах. Выделите населённые пункты с самой высокой и низкой стоимостью жилья. Эти данные можно найти по имени в столбце `locality_name`».\n",
    "- [x]  выполнено задание: «Изучите предложения квартир: для каждой квартиры есть информация о расстоянии до центра. Выделите квартиры в Санкт-Петербурге (`locality_name`). Ваша задача — выяснить, какая область входит в центр. Создайте столбец с расстоянием до центра в километрах: округлите до целых значений. После этого посчитайте среднюю цену для каждого километра. Постройте график: он должен показывать, как цена зависит от удалённости от центра. Определите границу, где график сильно меняется — это и будет центральная зона».\n",
    "- [x]  выполнено задание: «Выделите сегмент квартир в центре. Проанализируйте эту территорию и изучите следующие параметры: площадь, цена, число комнат, высота потолков. Также выделите факторы, которые влияют на стоимость квартиры (число комнат, этаж, удалённость от центра, дата размещения объявления). Сделайте выводы. Отличаются ли они от общих выводов по всей базе?»\n",
    "- [х]  в каждом этапе есть выводы\n",
    "- [x]  есть общий вывод"
   ]
  }
 ],
 "metadata": {
  "ExecuteTimeLog": [
   {
    "duration": 1520,
    "start_time": "2022-03-21T17:54:46.059Z"
   },
   {
    "duration": 7,
    "start_time": "2022-03-21T18:12:10.478Z"
   },
   {
    "duration": 7,
    "start_time": "2022-03-21T18:12:25.376Z"
   },
   {
    "duration": 178,
    "start_time": "2022-03-21T18:12:40.376Z"
   },
   {
    "duration": 183,
    "start_time": "2022-03-21T18:12:51.582Z"
   },
   {
    "duration": 7,
    "start_time": "2022-03-21T19:40:13.971Z"
   },
   {
    "duration": 185,
    "start_time": "2022-03-21T19:40:31.407Z"
   },
   {
    "duration": 189,
    "start_time": "2022-03-21T19:40:46.920Z"
   },
   {
    "duration": 183,
    "start_time": "2022-03-21T19:41:16.924Z"
   },
   {
    "duration": 174,
    "start_time": "2022-03-21T19:41:29.828Z"
   },
   {
    "duration": 183,
    "start_time": "2022-03-21T19:48:50.027Z"
   },
   {
    "duration": 171,
    "start_time": "2022-03-21T20:00:34.607Z"
   },
   {
    "duration": 151,
    "start_time": "2022-03-21T21:24:51.372Z"
   },
   {
    "duration": 177,
    "start_time": "2022-03-21T21:25:05.929Z"
   },
   {
    "duration": 2125,
    "start_time": "2022-03-22T08:23:25.379Z"
   },
   {
    "duration": 25,
    "start_time": "2022-03-22T10:40:02.135Z"
   },
   {
    "duration": 41,
    "start_time": "2022-03-22T10:40:47.756Z"
   },
   {
    "duration": 101,
    "start_time": "2022-03-22T11:05:57.670Z"
   },
   {
    "duration": 39,
    "start_time": "2022-03-22T11:07:12.005Z"
   },
   {
    "duration": 24,
    "start_time": "2022-03-22T11:10:06.837Z"
   },
   {
    "duration": 27,
    "start_time": "2022-03-22T11:10:38.285Z"
   },
   {
    "duration": 30,
    "start_time": "2022-03-22T11:10:49.871Z"
   },
   {
    "duration": 30,
    "start_time": "2022-03-22T11:37:46.879Z"
   },
   {
    "duration": 102,
    "start_time": "2022-03-22T11:38:27.609Z"
   },
   {
    "duration": 30,
    "start_time": "2022-03-22T11:43:05.469Z"
   },
   {
    "duration": 44,
    "start_time": "2022-03-22T11:47:51.875Z"
   },
   {
    "duration": 568,
    "start_time": "2022-03-22T11:56:04.100Z"
   },
   {
    "duration": 443,
    "start_time": "2022-03-22T11:56:25.145Z"
   },
   {
    "duration": 398,
    "start_time": "2022-03-22T11:56:42.090Z"
   },
   {
    "duration": 354,
    "start_time": "2022-03-22T12:39:05.045Z"
   },
   {
    "duration": 296,
    "start_time": "2022-03-22T12:39:21.266Z"
   },
   {
    "duration": 396,
    "start_time": "2022-03-22T12:57:42.248Z"
   },
   {
    "duration": 387,
    "start_time": "2022-03-22T13:01:12.097Z"
   },
   {
    "duration": 450,
    "start_time": "2022-03-22T13:01:22.864Z"
   },
   {
    "duration": 195,
    "start_time": "2022-03-22T13:01:36.480Z"
   },
   {
    "duration": 543,
    "start_time": "2022-03-22T13:01:41.273Z"
   },
   {
    "duration": 449,
    "start_time": "2022-03-22T13:01:48.653Z"
   },
   {
    "duration": 403,
    "start_time": "2022-03-22T13:01:53.641Z"
   },
   {
    "duration": 2435,
    "start_time": "2022-03-22T18:35:23.166Z"
   },
   {
    "duration": 908,
    "start_time": "2022-03-22T18:35:34.443Z"
   },
   {
    "duration": 716,
    "start_time": "2022-03-22T18:35:41.700Z"
   },
   {
    "duration": 780,
    "start_time": "2022-03-22T18:35:45.611Z"
   },
   {
    "duration": 1652,
    "start_time": "2022-03-23T11:35:18.958Z"
   },
   {
    "duration": 483,
    "start_time": "2022-03-23T11:35:25.310Z"
   },
   {
    "duration": 337,
    "start_time": "2022-03-23T11:35:35.639Z"
   },
   {
    "duration": 420,
    "start_time": "2022-03-23T11:35:39.790Z"
   },
   {
    "duration": 339,
    "start_time": "2022-03-23T11:36:38.709Z"
   },
   {
    "duration": 347,
    "start_time": "2022-03-23T11:37:09.821Z"
   },
   {
    "duration": 391,
    "start_time": "2022-03-23T11:50:50.509Z"
   },
   {
    "duration": 336,
    "start_time": "2022-03-23T11:54:48.303Z"
   },
   {
    "duration": 320,
    "start_time": "2022-03-23T11:55:10.087Z"
   },
   {
    "duration": 333,
    "start_time": "2022-03-23T11:55:13.978Z"
   },
   {
    "duration": 38,
    "start_time": "2022-03-23T11:55:50.950Z"
   },
   {
    "duration": 40,
    "start_time": "2022-03-23T11:56:05.177Z"
   },
   {
    "duration": 216,
    "start_time": "2022-03-23T11:56:32.256Z"
   },
   {
    "duration": 167,
    "start_time": "2022-03-23T11:56:45.582Z"
   },
   {
    "duration": 393,
    "start_time": "2022-03-23T11:56:55.062Z"
   },
   {
    "duration": 50,
    "start_time": "2022-03-24T17:33:01.393Z"
   },
   {
    "duration": 1443,
    "start_time": "2022-03-24T17:33:07.685Z"
   },
   {
    "duration": 473,
    "start_time": "2022-03-24T17:33:14.308Z"
   },
   {
    "duration": 330,
    "start_time": "2022-03-24T17:33:21.251Z"
   },
   {
    "duration": 393,
    "start_time": "2022-03-24T17:33:24.936Z"
   },
   {
    "duration": 339,
    "start_time": "2022-03-24T17:33:39.073Z"
   },
   {
    "duration": 198,
    "start_time": "2022-03-24T17:33:46.237Z"
   },
   {
    "duration": 186,
    "start_time": "2022-03-24T17:38:36.579Z"
   },
   {
    "duration": 159,
    "start_time": "2022-03-24T17:42:40.989Z"
   },
   {
    "duration": 179,
    "start_time": "2022-03-24T17:44:29.281Z"
   },
   {
    "duration": 231,
    "start_time": "2022-03-24T17:46:40.956Z"
   },
   {
    "duration": 134,
    "start_time": "2022-03-24T17:46:52.586Z"
   },
   {
    "duration": 131,
    "start_time": "2022-03-24T17:49:20.867Z"
   },
   {
    "duration": 114,
    "start_time": "2022-03-24T17:49:35.765Z"
   },
   {
    "duration": 174,
    "start_time": "2022-03-24T17:50:12.682Z"
   },
   {
    "duration": 176,
    "start_time": "2022-03-24T18:18:25.857Z"
   },
   {
    "duration": 174,
    "start_time": "2022-03-24T18:22:31.397Z"
   },
   {
    "duration": 247,
    "start_time": "2022-03-24T18:24:30.143Z"
   },
   {
    "duration": 182,
    "start_time": "2022-03-24T18:25:00.364Z"
   },
   {
    "duration": 183,
    "start_time": "2022-03-24T18:25:20.165Z"
   },
   {
    "duration": 165,
    "start_time": "2022-03-24T18:26:50.001Z"
   },
   {
    "duration": 165,
    "start_time": "2022-03-24T18:27:05.597Z"
   },
   {
    "duration": 178,
    "start_time": "2022-03-24T18:27:39.441Z"
   },
   {
    "duration": 235,
    "start_time": "2022-03-24T18:27:57.166Z"
   },
   {
    "duration": 180,
    "start_time": "2022-03-24T18:28:08.728Z"
   },
   {
    "duration": 179,
    "start_time": "2022-03-24T18:32:36.068Z"
   },
   {
    "duration": 158,
    "start_time": "2022-03-24T18:32:52.064Z"
   },
   {
    "duration": 154,
    "start_time": "2022-03-24T18:33:33.270Z"
   },
   {
    "duration": 159,
    "start_time": "2022-03-24T18:34:42.056Z"
   },
   {
    "duration": 155,
    "start_time": "2022-03-24T18:35:24.793Z"
   },
   {
    "duration": 182,
    "start_time": "2022-03-24T18:35:41.271Z"
   },
   {
    "duration": 194,
    "start_time": "2022-03-24T18:37:10.886Z"
   },
   {
    "duration": 166,
    "start_time": "2022-03-24T18:38:08.857Z"
   },
   {
    "duration": 180,
    "start_time": "2022-03-24T18:39:19.248Z"
   },
   {
    "duration": 11,
    "start_time": "2022-03-24T18:53:19.952Z"
   },
   {
    "duration": 348,
    "start_time": "2022-03-24T18:53:44.077Z"
   },
   {
    "duration": 22,
    "start_time": "2022-03-24T19:59:41.621Z"
   },
   {
    "duration": 203,
    "start_time": "2022-03-24T20:01:41.821Z"
   },
   {
    "duration": 177,
    "start_time": "2022-03-24T20:02:01.697Z"
   },
   {
    "duration": 153,
    "start_time": "2022-03-24T20:02:16.893Z"
   },
   {
    "duration": 174,
    "start_time": "2022-03-24T20:02:32.406Z"
   },
   {
    "duration": 245,
    "start_time": "2022-03-24T20:29:12.891Z"
   },
   {
    "duration": 248,
    "start_time": "2022-03-24T20:29:39.212Z"
   },
   {
    "duration": 315,
    "start_time": "2022-03-24T20:30:42.288Z"
   },
   {
    "duration": 2072,
    "start_time": "2022-03-25T11:37:55.456Z"
   },
   {
    "duration": 952,
    "start_time": "2022-03-25T11:38:01.807Z"
   },
   {
    "duration": 846,
    "start_time": "2022-03-25T11:38:10.377Z"
   },
   {
    "duration": 924,
    "start_time": "2022-03-25T11:38:14.426Z"
   },
   {
    "duration": 621,
    "start_time": "2022-03-25T11:38:19.670Z"
   },
   {
    "duration": 42,
    "start_time": "2022-03-25T11:38:37.117Z"
   },
   {
    "duration": 504,
    "start_time": "2022-03-25T11:38:38.878Z"
   },
   {
    "duration": 444,
    "start_time": "2022-03-25T11:38:40.685Z"
   },
   {
    "duration": 371,
    "start_time": "2022-03-25T11:38:44.061Z"
   },
   {
    "duration": 324,
    "start_time": "2022-03-25T11:38:46.550Z"
   },
   {
    "duration": 544,
    "start_time": "2022-03-25T11:38:51.238Z"
   },
   {
    "duration": 606,
    "start_time": "2022-03-25T11:38:54.693Z"
   },
   {
    "duration": 172,
    "start_time": "2022-03-25T11:42:30.674Z"
   },
   {
    "duration": 164,
    "start_time": "2022-03-25T12:00:12.821Z"
   },
   {
    "duration": 160,
    "start_time": "2022-03-25T12:00:27.007Z"
   },
   {
    "duration": 159,
    "start_time": "2022-03-25T12:01:04.439Z"
   },
   {
    "duration": 156,
    "start_time": "2022-03-25T12:03:14.247Z"
   },
   {
    "duration": 159,
    "start_time": "2022-03-25T12:03:31.424Z"
   },
   {
    "duration": 157,
    "start_time": "2022-03-25T12:10:50.267Z"
   },
   {
    "duration": 152,
    "start_time": "2022-03-25T12:12:44.203Z"
   },
   {
    "duration": 227,
    "start_time": "2022-03-25T12:13:59.916Z"
   },
   {
    "duration": 157,
    "start_time": "2022-03-25T12:14:12.156Z"
   },
   {
    "duration": 191,
    "start_time": "2022-03-25T12:15:22.246Z"
   },
   {
    "duration": 225,
    "start_time": "2022-03-25T12:16:03.886Z"
   },
   {
    "duration": 1539,
    "start_time": "2022-03-25T17:57:18.081Z"
   },
   {
    "duration": 553,
    "start_time": "2022-03-25T17:57:27.272Z"
   },
   {
    "duration": 383,
    "start_time": "2022-03-25T17:57:38.450Z"
   },
   {
    "duration": 434,
    "start_time": "2022-03-25T17:57:43.070Z"
   },
   {
    "duration": 369,
    "start_time": "2022-03-25T17:57:49.909Z"
   },
   {
    "duration": 24,
    "start_time": "2022-03-25T17:57:56.250Z"
   },
   {
    "duration": 213,
    "start_time": "2022-03-25T17:57:58.668Z"
   },
   {
    "duration": 211,
    "start_time": "2022-03-25T17:58:02.029Z"
   },
   {
    "duration": 181,
    "start_time": "2022-03-25T17:58:09.263Z"
   },
   {
    "duration": 309,
    "start_time": "2022-03-25T17:58:14.766Z"
   },
   {
    "duration": 356,
    "start_time": "2022-03-25T17:58:19.634Z"
   },
   {
    "duration": 117,
    "start_time": "2022-03-25T17:58:26.393Z"
   },
   {
    "duration": 441,
    "start_time": "2022-03-25T19:25:28.611Z"
   },
   {
    "duration": 335,
    "start_time": "2022-03-25T19:26:54.065Z"
   },
   {
    "duration": 174,
    "start_time": "2022-03-25T19:28:21.134Z"
   },
   {
    "duration": 340,
    "start_time": "2022-03-25T19:28:36.039Z"
   },
   {
    "duration": 347,
    "start_time": "2022-03-25T19:28:51.627Z"
   },
   {
    "duration": 405,
    "start_time": "2022-03-25T19:29:28.460Z"
   },
   {
    "duration": 363,
    "start_time": "2022-03-25T19:30:04.529Z"
   },
   {
    "duration": 347,
    "start_time": "2022-03-25T19:30:56.288Z"
   },
   {
    "duration": 634,
    "start_time": "2022-03-25T19:32:01.601Z"
   },
   {
    "duration": 153,
    "start_time": "2022-03-25T20:58:43.404Z"
   },
   {
    "duration": 870,
    "start_time": "2022-03-25T21:00:48.326Z"
   },
   {
    "duration": 810,
    "start_time": "2022-03-25T21:11:13.248Z"
   },
   {
    "duration": 1675,
    "start_time": "2022-03-26T18:29:49.390Z"
   },
   {
    "duration": 630,
    "start_time": "2022-03-26T18:29:57.730Z"
   },
   {
    "duration": 429,
    "start_time": "2022-03-26T18:30:18.832Z"
   },
   {
    "duration": 9,
    "start_time": "2022-03-26T18:30:23.032Z"
   },
   {
    "duration": 442,
    "start_time": "2022-03-26T18:30:29.197Z"
   },
   {
    "duration": 26,
    "start_time": "2022-03-26T18:30:33.952Z"
   },
   {
    "duration": 236,
    "start_time": "2022-03-26T18:30:36.884Z"
   },
   {
    "duration": 223,
    "start_time": "2022-03-26T18:30:39.769Z"
   },
   {
    "duration": 190,
    "start_time": "2022-03-26T18:30:44.453Z"
   },
   {
    "duration": 221,
    "start_time": "2022-03-26T18:30:46.135Z"
   },
   {
    "duration": 321,
    "start_time": "2022-03-26T18:30:50.983Z"
   },
   {
    "duration": 279,
    "start_time": "2022-03-26T18:30:57.068Z"
   },
   {
    "duration": 204,
    "start_time": "2022-03-26T18:31:49.560Z"
   },
   {
    "duration": 593,
    "start_time": "2022-03-26T18:31:54.606Z"
   },
   {
    "duration": 166,
    "start_time": "2022-03-26T18:32:00.852Z"
   },
   {
    "duration": 25,
    "start_time": "2022-03-26T18:33:27.870Z"
   },
   {
    "duration": 23,
    "start_time": "2022-03-26T18:35:22.257Z"
   },
   {
    "duration": 24,
    "start_time": "2022-03-26T18:35:33.168Z"
   },
   {
    "duration": 299,
    "start_time": "2022-03-26T20:39:34.321Z"
   },
   {
    "duration": 196,
    "start_time": "2022-03-26T20:39:58.200Z"
   },
   {
    "duration": 227,
    "start_time": "2022-03-26T20:40:12.675Z"
   },
   {
    "duration": 208,
    "start_time": "2022-03-26T20:40:27.437Z"
   },
   {
    "duration": 199,
    "start_time": "2022-03-26T20:40:52.809Z"
   },
   {
    "duration": 192,
    "start_time": "2022-03-26T20:41:09.727Z"
   },
   {
    "duration": 210,
    "start_time": "2022-03-26T20:41:18.882Z"
   },
   {
    "duration": 207,
    "start_time": "2022-03-26T20:41:48.507Z"
   },
   {
    "duration": 286,
    "start_time": "2022-03-26T20:41:55.055Z"
   },
   {
    "duration": 223,
    "start_time": "2022-03-26T20:42:03.221Z"
   },
   {
    "duration": 219,
    "start_time": "2022-03-26T20:42:39.970Z"
   },
   {
    "duration": 210,
    "start_time": "2022-03-26T20:57:20.149Z"
   },
   {
    "duration": 218,
    "start_time": "2022-03-26T21:01:01.516Z"
   },
   {
    "duration": 9,
    "start_time": "2022-03-26T21:10:28.059Z"
   },
   {
    "duration": 9,
    "start_time": "2022-03-26T21:13:09.584Z"
   },
   {
    "duration": 17,
    "start_time": "2022-03-26T21:13:56.279Z"
   },
   {
    "duration": 8,
    "start_time": "2022-03-26T21:14:13.346Z"
   },
   {
    "duration": 592,
    "start_time": "2022-03-26T21:15:12.061Z"
   },
   {
    "duration": 601,
    "start_time": "2022-03-26T21:21:29.676Z"
   },
   {
    "duration": 705,
    "start_time": "2022-03-26T21:21:45.666Z"
   },
   {
    "duration": 58,
    "start_time": "2022-03-27T08:48:18.271Z"
   },
   {
    "duration": 1858,
    "start_time": "2022-03-27T08:48:25.383Z"
   },
   {
    "duration": 503,
    "start_time": "2022-03-27T08:48:38.915Z"
   },
   {
    "duration": 590,
    "start_time": "2022-03-27T08:48:50.315Z"
   },
   {
    "duration": 651,
    "start_time": "2022-03-27T08:48:54.133Z"
   },
   {
    "duration": 11,
    "start_time": "2022-03-27T08:48:59.972Z"
   },
   {
    "duration": 421,
    "start_time": "2022-03-27T08:49:04.741Z"
   },
   {
    "duration": 23,
    "start_time": "2022-03-27T08:49:09.103Z"
   },
   {
    "duration": 339,
    "start_time": "2022-03-27T08:49:10.197Z"
   },
   {
    "duration": 318,
    "start_time": "2022-03-27T08:49:11.030Z"
   },
   {
    "duration": 268,
    "start_time": "2022-03-27T08:49:11.933Z"
   },
   {
    "duration": 187,
    "start_time": "2022-03-27T08:49:12.712Z"
   },
   {
    "duration": 359,
    "start_time": "2022-03-27T08:49:14.578Z"
   },
   {
    "duration": 247,
    "start_time": "2022-03-27T08:49:15.340Z"
   },
   {
    "duration": 110,
    "start_time": "2022-03-27T08:49:17.121Z"
   },
   {
    "duration": 696,
    "start_time": "2022-03-27T08:49:19.114Z"
   },
   {
    "duration": 224,
    "start_time": "2022-03-27T08:49:20.051Z"
   },
   {
    "duration": 488,
    "start_time": "2022-03-27T08:49:21.090Z"
   },
   {
    "duration": 41,
    "start_time": "2022-03-27T08:49:23.339Z"
   },
   {
    "duration": 281,
    "start_time": "2022-03-27T08:49:25.071Z"
   },
   {
    "duration": 879,
    "start_time": "2022-03-27T08:49:31.529Z"
   },
   {
    "duration": 519,
    "start_time": "2022-03-27T08:49:59.922Z"
   },
   {
    "duration": 1261,
    "start_time": "2022-03-27T08:50:55.125Z"
   },
   {
    "duration": 1497,
    "start_time": "2022-03-27T08:52:12.727Z"
   },
   {
    "duration": 605,
    "start_time": "2022-03-27T09:00:25.456Z"
   },
   {
    "duration": 616,
    "start_time": "2022-03-27T09:00:43.905Z"
   },
   {
    "duration": 992,
    "start_time": "2022-03-27T09:01:12.911Z"
   },
   {
    "duration": 98,
    "start_time": "2022-03-27T09:06:15.657Z"
   },
   {
    "duration": 10,
    "start_time": "2022-03-27T09:06:40.824Z"
   },
   {
    "duration": 10,
    "start_time": "2022-03-27T09:13:19.770Z"
   },
   {
    "duration": 9,
    "start_time": "2022-03-27T09:13:34.765Z"
   },
   {
    "duration": 10,
    "start_time": "2022-03-27T09:13:48.746Z"
   },
   {
    "duration": 11,
    "start_time": "2022-03-27T09:14:00.267Z"
   },
   {
    "duration": 24,
    "start_time": "2022-03-27T09:15:27.040Z"
   },
   {
    "duration": 3501,
    "start_time": "2022-03-27T09:16:11.975Z"
   },
   {
    "duration": 221,
    "start_time": "2022-03-27T09:16:50.516Z"
   },
   {
    "duration": 9,
    "start_time": "2022-03-27T09:23:38.632Z"
   },
   {
    "duration": 46,
    "start_time": "2022-03-27T09:24:43.914Z"
   },
   {
    "duration": 256,
    "start_time": "2022-03-27T09:27:08.254Z"
   },
   {
    "duration": 370,
    "start_time": "2022-03-27T09:41:01.913Z"
   },
   {
    "duration": 3927,
    "start_time": "2022-03-27T09:41:23.609Z"
   },
   {
    "duration": 394,
    "start_time": "2022-03-27T09:44:21.710Z"
   },
   {
    "duration": 194,
    "start_time": "2022-03-27T09:57:50.125Z"
   },
   {
    "duration": 276,
    "start_time": "2022-03-27T09:57:57.970Z"
   },
   {
    "duration": 193,
    "start_time": "2022-03-27T09:59:23.824Z"
   },
   {
    "duration": 194,
    "start_time": "2022-03-27T10:00:56.730Z"
   },
   {
    "duration": 190,
    "start_time": "2022-03-27T10:02:43.416Z"
   },
   {
    "duration": 195,
    "start_time": "2022-03-27T10:04:53.177Z"
   },
   {
    "duration": 201,
    "start_time": "2022-03-27T10:05:14.309Z"
   },
   {
    "duration": 10,
    "start_time": "2022-03-27T10:10:39.703Z"
   },
   {
    "duration": 11,
    "start_time": "2022-03-27T10:11:04.067Z"
   },
   {
    "duration": 209,
    "start_time": "2022-03-27T10:11:16.835Z"
   },
   {
    "duration": 202,
    "start_time": "2022-03-27T10:12:06.418Z"
   },
   {
    "duration": 222,
    "start_time": "2022-03-27T10:12:13.803Z"
   },
   {
    "duration": 202,
    "start_time": "2022-03-27T10:12:21.037Z"
   },
   {
    "duration": 189,
    "start_time": "2022-03-27T10:12:28.614Z"
   },
   {
    "duration": 364,
    "start_time": "2022-03-27T10:12:34.766Z"
   },
   {
    "duration": 528,
    "start_time": "2022-03-27T10:12:41.811Z"
   },
   {
    "duration": 225,
    "start_time": "2022-03-27T10:14:25.706Z"
   },
   {
    "duration": 49,
    "start_time": "2022-03-27T10:28:50.403Z"
   },
   {
    "duration": 7,
    "start_time": "2022-03-27T10:29:01.534Z"
   },
   {
    "duration": 1475,
    "start_time": "2022-03-27T10:30:51.437Z"
   },
   {
    "duration": 535,
    "start_time": "2022-03-27T10:31:06.810Z"
   },
   {
    "duration": 383,
    "start_time": "2022-03-27T10:31:22.120Z"
   },
   {
    "duration": 402,
    "start_time": "2022-03-27T10:31:26.704Z"
   },
   {
    "duration": 329,
    "start_time": "2022-03-27T10:31:33.280Z"
   },
   {
    "duration": 23,
    "start_time": "2022-03-27T10:31:38.313Z"
   },
   {
    "duration": 198,
    "start_time": "2022-03-27T10:31:41.899Z"
   },
   {
    "duration": 188,
    "start_time": "2022-03-27T10:31:42.605Z"
   },
   {
    "duration": 164,
    "start_time": "2022-03-27T10:31:43.346Z"
   },
   {
    "duration": 181,
    "start_time": "2022-03-27T10:31:44.310Z"
   },
   {
    "duration": 358,
    "start_time": "2022-03-27T10:31:46.771Z"
   },
   {
    "duration": 1001,
    "start_time": "2022-03-27T10:31:47.472Z"
   },
   {
    "duration": 123,
    "start_time": "2022-03-27T10:31:49.808Z"
   },
   {
    "duration": 548,
    "start_time": "2022-03-27T10:32:00.179Z"
   },
   {
    "duration": 155,
    "start_time": "2022-03-27T10:32:05.457Z"
   },
   {
    "duration": 486,
    "start_time": "2022-03-27T10:32:08.614Z"
   },
   {
    "duration": 25,
    "start_time": "2022-03-27T10:32:11.428Z"
   },
   {
    "duration": 270,
    "start_time": "2022-03-27T10:32:24.083Z"
   },
   {
    "duration": 197,
    "start_time": "2022-03-27T10:50:31.535Z"
   },
   {
    "duration": 559,
    "start_time": "2022-03-27T10:50:39.728Z"
   },
   {
    "duration": 402,
    "start_time": "2022-03-27T10:50:48.155Z"
   },
   {
    "duration": 472,
    "start_time": "2022-03-27T10:50:52.351Z"
   },
   {
    "duration": 9,
    "start_time": "2022-03-27T10:50:57.050Z"
   },
   {
    "duration": 378,
    "start_time": "2022-03-27T10:51:01.519Z"
   },
   {
    "duration": 24,
    "start_time": "2022-03-27T10:51:09.052Z"
   },
   {
    "duration": 191,
    "start_time": "2022-03-27T10:51:12.853Z"
   },
   {
    "duration": 220,
    "start_time": "2022-03-27T10:51:13.968Z"
   },
   {
    "duration": 183,
    "start_time": "2022-03-27T10:51:14.636Z"
   },
   {
    "duration": 211,
    "start_time": "2022-03-27T10:51:15.787Z"
   },
   {
    "duration": 311,
    "start_time": "2022-03-27T10:51:17.297Z"
   },
   {
    "duration": 266,
    "start_time": "2022-03-27T10:51:17.955Z"
   },
   {
    "duration": 224,
    "start_time": "2022-03-27T10:51:19.151Z"
   },
   {
    "duration": 547,
    "start_time": "2022-03-27T10:51:20.576Z"
   },
   {
    "duration": 166,
    "start_time": "2022-03-27T10:51:21.320Z"
   },
   {
    "duration": 538,
    "start_time": "2022-03-27T10:51:22.132Z"
   },
   {
    "duration": 30,
    "start_time": "2022-03-27T10:51:23.638Z"
   },
   {
    "duration": 210,
    "start_time": "2022-03-27T10:51:25.507Z"
   },
   {
    "duration": 849,
    "start_time": "2022-03-27T10:51:28.766Z"
   },
   {
    "duration": 278,
    "start_time": "2022-03-27T10:51:30.296Z"
   },
   {
    "duration": 176,
    "start_time": "2022-03-27T10:51:32.858Z"
   },
   {
    "duration": 225,
    "start_time": "2022-03-27T10:51:40.708Z"
   },
   {
    "duration": 72,
    "start_time": "2022-03-27T10:51:42.774Z"
   },
   {
    "duration": 228,
    "start_time": "2022-03-27T10:52:23.606Z"
   },
   {
    "duration": 11,
    "start_time": "2022-03-27T10:52:30.585Z"
   },
   {
    "duration": 9,
    "start_time": "2022-03-27T10:52:37.557Z"
   },
   {
    "duration": 19,
    "start_time": "2022-03-27T10:53:00.540Z"
   },
   {
    "duration": 11,
    "start_time": "2022-03-27T10:54:06.997Z"
   },
   {
    "duration": 234,
    "start_time": "2022-03-27T10:54:22.086Z"
   },
   {
    "duration": 240,
    "start_time": "2022-03-27T11:01:13.970Z"
   },
   {
    "duration": 177,
    "start_time": "2022-03-27T11:06:24.626Z"
   },
   {
    "duration": 6,
    "start_time": "2022-03-27T11:12:06.352Z"
   },
   {
    "duration": 4,
    "start_time": "2022-03-27T11:13:14.351Z"
   },
   {
    "duration": 18,
    "start_time": "2022-03-27T11:13:31.013Z"
   },
   {
    "duration": 16,
    "start_time": "2022-03-27T11:14:03.065Z"
   },
   {
    "duration": 248,
    "start_time": "2022-03-27T11:14:18.517Z"
   },
   {
    "duration": 206,
    "start_time": "2022-03-27T11:14:36.775Z"
   },
   {
    "duration": 188,
    "start_time": "2022-03-27T11:17:43.638Z"
   },
   {
    "duration": 264,
    "start_time": "2022-03-27T11:21:01.389Z"
   },
   {
    "duration": 867,
    "start_time": "2022-03-27T11:41:14.026Z"
   },
   {
    "duration": 752,
    "start_time": "2022-03-27T11:41:32.737Z"
   },
   {
    "duration": 849,
    "start_time": "2022-03-27T11:41:58.454Z"
   },
   {
    "duration": 706,
    "start_time": "2022-03-27T11:42:26.113Z"
   },
   {
    "duration": 718,
    "start_time": "2022-03-27T11:47:39.381Z"
   },
   {
    "duration": 198,
    "start_time": "2022-03-27T11:51:55.888Z"
   },
   {
    "duration": 197,
    "start_time": "2022-03-27T11:52:31.908Z"
   },
   {
    "duration": 309,
    "start_time": "2022-03-27T11:56:08.659Z"
   },
   {
    "duration": 218,
    "start_time": "2022-03-27T12:06:05.518Z"
   },
   {
    "duration": 201,
    "start_time": "2022-03-27T12:06:37.011Z"
   },
   {
    "duration": 212,
    "start_time": "2022-03-27T12:10:06.175Z"
   },
   {
    "duration": 228,
    "start_time": "2022-03-27T12:11:33.251Z"
   },
   {
    "duration": 216,
    "start_time": "2022-03-27T12:13:16.191Z"
   },
   {
    "duration": 2175,
    "start_time": "2022-03-27T20:27:13.824Z"
   },
   {
    "duration": 777,
    "start_time": "2022-03-27T20:27:36.166Z"
   },
   {
    "duration": 613,
    "start_time": "2022-03-27T20:27:50.029Z"
   },
   {
    "duration": 628,
    "start_time": "2022-03-27T20:27:54.616Z"
   },
   {
    "duration": 11,
    "start_time": "2022-03-27T20:28:00.204Z"
   },
   {
    "duration": 566,
    "start_time": "2022-03-27T20:28:05.702Z"
   },
   {
    "duration": 32,
    "start_time": "2022-03-27T20:28:09.508Z"
   },
   {
    "duration": 324,
    "start_time": "2022-03-27T20:28:10.638Z"
   },
   {
    "duration": 308,
    "start_time": "2022-03-27T20:28:11.383Z"
   },
   {
    "duration": 259,
    "start_time": "2022-03-27T20:28:12.098Z"
   },
   {
    "duration": 302,
    "start_time": "2022-03-27T20:28:12.964Z"
   },
   {
    "duration": 519,
    "start_time": "2022-03-27T20:28:14.341Z"
   },
   {
    "duration": 401,
    "start_time": "2022-03-27T20:28:15.058Z"
   },
   {
    "duration": 155,
    "start_time": "2022-03-27T20:28:16.379Z"
   },
   {
    "duration": 819,
    "start_time": "2022-03-27T20:28:17.736Z"
   },
   {
    "duration": 246,
    "start_time": "2022-03-27T20:28:18.557Z"
   },
   {
    "duration": 790,
    "start_time": "2022-03-27T20:28:19.238Z"
   },
   {
    "duration": 35,
    "start_time": "2022-03-27T20:28:20.592Z"
   },
   {
    "duration": 378,
    "start_time": "2022-03-27T20:28:21.924Z"
   },
   {
    "duration": 1096,
    "start_time": "2022-03-27T20:28:23.437Z"
   },
   {
    "duration": 286,
    "start_time": "2022-03-27T20:28:24.544Z"
   },
   {
    "duration": 268,
    "start_time": "2022-03-27T20:28:25.095Z"
   },
   {
    "duration": 286,
    "start_time": "2022-03-27T20:28:26.804Z"
   },
   {
    "duration": 322,
    "start_time": "2022-03-27T20:28:28.100Z"
   },
   {
    "duration": 314,
    "start_time": "2022-03-27T20:28:29.565Z"
   },
   {
    "duration": 316,
    "start_time": "2022-03-27T20:28:30.822Z"
   },
   {
    "duration": 1859,
    "start_time": "2022-04-07T12:29:44.725Z"
   },
   {
    "duration": 841,
    "start_time": "2022-04-07T12:29:46.587Z"
   },
   {
    "duration": 12,
    "start_time": "2022-04-07T12:29:47.431Z"
   },
   {
    "duration": 610,
    "start_time": "2022-04-07T12:29:47.446Z"
   },
   {
    "duration": 44,
    "start_time": "2022-04-07T12:29:48.058Z"
   },
   {
    "duration": 345,
    "start_time": "2022-04-07T12:29:48.104Z"
   },
   {
    "duration": 324,
    "start_time": "2022-04-07T12:29:48.451Z"
   },
   {
    "duration": 348,
    "start_time": "2022-04-07T12:29:48.777Z"
   },
   {
    "duration": 316,
    "start_time": "2022-04-07T12:29:49.127Z"
   },
   {
    "duration": 475,
    "start_time": "2022-04-07T12:29:49.447Z"
   },
   {
    "duration": 413,
    "start_time": "2022-04-07T12:29:49.925Z"
   },
   {
    "duration": 168,
    "start_time": "2022-04-07T12:29:50.341Z"
   },
   {
    "duration": 862,
    "start_time": "2022-04-07T12:29:50.511Z"
   },
   {
    "duration": 246,
    "start_time": "2022-04-07T12:29:51.385Z"
   },
   {
    "duration": 907,
    "start_time": "2022-04-07T12:29:51.633Z"
   },
   {
    "duration": 48,
    "start_time": "2022-04-07T12:29:52.542Z"
   },
   {
    "duration": 320,
    "start_time": "2022-04-07T12:29:52.592Z"
   },
   {
    "duration": 1097,
    "start_time": "2022-04-07T12:29:52.914Z"
   },
   {
    "duration": 299,
    "start_time": "2022-04-07T12:29:54.013Z"
   },
   {
    "duration": 293,
    "start_time": "2022-04-07T12:29:54.314Z"
   },
   {
    "duration": 313,
    "start_time": "2022-04-07T12:29:54.609Z"
   },
   {
    "duration": 347,
    "start_time": "2022-04-07T12:29:54.925Z"
   },
   {
    "duration": 433,
    "start_time": "2022-04-07T12:29:55.274Z"
   },
   {
    "duration": 344,
    "start_time": "2022-04-07T12:29:55.710Z"
   },
   {
    "duration": 1854,
    "start_time": "2022-04-07T13:22:08.249Z"
   },
   {
    "duration": 834,
    "start_time": "2022-04-07T13:22:10.106Z"
   },
   {
    "duration": 13,
    "start_time": "2022-04-07T13:22:10.942Z"
   },
   {
    "duration": 611,
    "start_time": "2022-04-07T13:22:10.958Z"
   },
   {
    "duration": 44,
    "start_time": "2022-04-07T13:22:11.571Z"
   },
   {
    "duration": 372,
    "start_time": "2022-04-07T13:22:11.617Z"
   },
   {
    "duration": 349,
    "start_time": "2022-04-07T13:22:11.991Z"
   },
   {
    "duration": 370,
    "start_time": "2022-04-07T13:22:12.342Z"
   },
   {
    "duration": 326,
    "start_time": "2022-04-07T13:22:12.714Z"
   },
   {
    "duration": 489,
    "start_time": "2022-04-07T13:22:13.043Z"
   },
   {
    "duration": 433,
    "start_time": "2022-04-07T13:22:13.534Z"
   },
   {
    "duration": 179,
    "start_time": "2022-04-07T13:22:13.970Z"
   },
   {
    "duration": 898,
    "start_time": "2022-04-07T13:22:14.152Z"
   },
   {
    "duration": 268,
    "start_time": "2022-04-07T13:22:15.053Z"
   },
   {
    "duration": 1163,
    "start_time": "2022-04-07T13:22:15.323Z"
   },
   {
    "duration": 49,
    "start_time": "2022-04-07T13:22:16.489Z"
   },
   {
    "duration": 389,
    "start_time": "2022-04-07T13:22:16.541Z"
   },
   {
    "duration": 1138,
    "start_time": "2022-04-07T13:22:16.932Z"
   },
   {
    "duration": 308,
    "start_time": "2022-04-07T13:22:18.085Z"
   },
   {
    "duration": 306,
    "start_time": "2022-04-07T13:22:18.396Z"
   },
   {
    "duration": 324,
    "start_time": "2022-04-07T13:22:18.705Z"
   },
   {
    "duration": 357,
    "start_time": "2022-04-07T13:22:19.032Z"
   },
   {
    "duration": 423,
    "start_time": "2022-04-07T13:22:19.391Z"
   },
   {
    "duration": 353,
    "start_time": "2022-04-07T13:22:19.817Z"
   },
   {
    "duration": 50,
    "start_time": "2022-04-10T08:01:19.224Z"
   },
   {
    "duration": 1418,
    "start_time": "2022-04-10T08:01:31.138Z"
   },
   {
    "duration": 472,
    "start_time": "2022-04-10T08:01:39.323Z"
   },
   {
    "duration": 308,
    "start_time": "2022-04-10T08:01:47.970Z"
   },
   {
    "duration": 379,
    "start_time": "2022-04-10T08:01:54.780Z"
   },
   {
    "duration": 10,
    "start_time": "2022-04-10T08:02:27.722Z"
   },
   {
    "duration": 331,
    "start_time": "2022-04-10T08:02:32.521Z"
   },
   {
    "duration": 22,
    "start_time": "2022-04-10T08:02:37.934Z"
   },
   {
    "duration": 181,
    "start_time": "2022-04-10T08:02:41.829Z"
   },
   {
    "duration": 177,
    "start_time": "2022-04-10T08:02:43.030Z"
   },
   {
    "duration": 156,
    "start_time": "2022-04-10T08:02:43.718Z"
   },
   {
    "duration": 168,
    "start_time": "2022-04-10T08:02:44.329Z"
   },
   {
    "duration": 327,
    "start_time": "2022-04-10T08:02:45.998Z"
   },
   {
    "duration": 217,
    "start_time": "2022-04-10T08:02:46.584Z"
   },
   {
    "duration": 102,
    "start_time": "2022-04-10T08:02:48.903Z"
   },
   {
    "duration": 494,
    "start_time": "2022-04-10T08:02:50.705Z"
   },
   {
    "duration": 136,
    "start_time": "2022-04-10T08:02:51.828Z"
   },
   {
    "duration": 456,
    "start_time": "2022-04-10T08:02:52.434Z"
   },
   {
    "duration": 25,
    "start_time": "2022-04-10T08:02:54.134Z"
   },
   {
    "duration": 252,
    "start_time": "2022-04-10T08:02:56.069Z"
   },
   {
    "duration": 604,
    "start_time": "2022-04-10T08:02:58.014Z"
   },
   {
    "duration": 157,
    "start_time": "2022-04-10T08:02:59.502Z"
   },
   {
    "duration": 162,
    "start_time": "2022-04-10T08:03:00.287Z"
   },
   {
    "duration": 169,
    "start_time": "2022-04-10T08:03:01.759Z"
   },
   {
    "duration": 195,
    "start_time": "2022-04-10T08:03:02.466Z"
   },
   {
    "duration": 178,
    "start_time": "2022-04-10T08:03:03.413Z"
   },
   {
    "duration": 195,
    "start_time": "2022-04-10T08:03:04.075Z"
   },
   {
    "duration": 73,
    "start_time": "2022-04-10T08:14:08.516Z"
   },
   {
    "duration": 16,
    "start_time": "2022-04-10T08:17:52.221Z"
   },
   {
    "duration": 32,
    "start_time": "2022-04-10T08:19:18.610Z"
   },
   {
    "duration": 17,
    "start_time": "2022-04-10T08:19:23.206Z"
   },
   {
    "duration": 17,
    "start_time": "2022-04-10T08:25:35.200Z"
   },
   {
    "duration": 25,
    "start_time": "2022-04-10T08:25:38.555Z"
   },
   {
    "duration": 279,
    "start_time": "2022-04-10T08:25:39.010Z"
   },
   {
    "duration": 185,
    "start_time": "2022-04-10T08:25:39.310Z"
   },
   {
    "duration": 159,
    "start_time": "2022-04-10T08:25:39.627Z"
   },
   {
    "duration": 187,
    "start_time": "2022-04-10T08:25:39.886Z"
   },
   {
    "duration": 253,
    "start_time": "2022-04-10T08:25:40.668Z"
   },
   {
    "duration": 245,
    "start_time": "2022-04-10T08:25:40.923Z"
   },
   {
    "duration": 105,
    "start_time": "2022-04-10T08:25:41.655Z"
   },
   {
    "duration": 520,
    "start_time": "2022-04-10T08:25:42.449Z"
   },
   {
    "duration": 236,
    "start_time": "2022-04-10T08:25:43.244Z"
   },
   {
    "duration": 469,
    "start_time": "2022-04-10T08:25:43.573Z"
   },
   {
    "duration": 22,
    "start_time": "2022-04-10T08:25:44.465Z"
   },
   {
    "duration": 169,
    "start_time": "2022-04-10T08:25:45.203Z"
   },
   {
    "duration": 663,
    "start_time": "2022-04-10T08:25:45.915Z"
   },
   {
    "duration": 169,
    "start_time": "2022-04-10T08:25:46.580Z"
   },
   {
    "duration": 179,
    "start_time": "2022-04-10T08:25:46.751Z"
   },
   {
    "duration": 279,
    "start_time": "2022-04-10T08:25:47.002Z"
   },
   {
    "duration": 213,
    "start_time": "2022-04-10T08:25:47.283Z"
   },
   {
    "duration": 210,
    "start_time": "2022-04-10T08:25:47.498Z"
   },
   {
    "duration": 209,
    "start_time": "2022-04-10T08:25:47.710Z"
   },
   {
    "duration": 18,
    "start_time": "2022-04-10T08:26:04.240Z"
   },
   {
    "duration": 16,
    "start_time": "2022-04-10T08:27:27.400Z"
   },
   {
    "duration": 17,
    "start_time": "2022-04-10T08:27:57.522Z"
   },
   {
    "duration": 16,
    "start_time": "2022-04-10T08:32:04.140Z"
   },
   {
    "duration": 186,
    "start_time": "2022-04-10T08:40:04.941Z"
   },
   {
    "duration": 487,
    "start_time": "2022-04-10T08:50:17.383Z"
   },
   {
    "duration": 495,
    "start_time": "2022-04-10T08:51:32.540Z"
   },
   {
    "duration": 607,
    "start_time": "2022-04-10T08:54:03.371Z"
   },
   {
    "duration": 16,
    "start_time": "2022-04-10T09:28:42.230Z"
   },
   {
    "duration": 21,
    "start_time": "2022-04-10T09:28:55.674Z"
   },
   {
    "duration": 14,
    "start_time": "2022-04-10T09:29:42.345Z"
   },
   {
    "duration": 14,
    "start_time": "2022-04-10T09:31:02.256Z"
   },
   {
    "duration": 4,
    "start_time": "2022-04-10T09:31:06.532Z"
   },
   {
    "duration": 15,
    "start_time": "2022-04-10T09:33:14.175Z"
   },
   {
    "duration": 15,
    "start_time": "2022-04-10T09:33:36.242Z"
   },
   {
    "duration": 23,
    "start_time": "2022-04-10T09:34:08.370Z"
   },
   {
    "duration": 18,
    "start_time": "2022-04-10T09:35:49.625Z"
   },
   {
    "duration": 17,
    "start_time": "2022-04-10T09:45:22.822Z"
   },
   {
    "duration": 168,
    "start_time": "2022-04-10T09:45:30.597Z"
   },
   {
    "duration": 468,
    "start_time": "2022-04-10T09:45:33.123Z"
   },
   {
    "duration": 8,
    "start_time": "2022-04-10T09:45:36.311Z"
   },
   {
    "duration": 338,
    "start_time": "2022-04-10T09:45:38.328Z"
   },
   {
    "duration": 321,
    "start_time": "2022-04-10T09:46:56.511Z"
   },
   {
    "duration": 2154,
    "start_time": "2022-04-10T19:41:07.758Z"
   },
   {
    "duration": 754,
    "start_time": "2022-04-10T19:41:13.352Z"
   },
   {
    "duration": 13,
    "start_time": "2022-04-10T19:41:14.167Z"
   },
   {
    "duration": 449,
    "start_time": "2022-04-10T19:41:15.509Z"
   },
   {
    "duration": 25,
    "start_time": "2022-04-10T19:41:17.160Z"
   },
   {
    "duration": 214,
    "start_time": "2022-04-10T19:41:17.458Z"
   },
   {
    "duration": 218,
    "start_time": "2022-04-10T19:41:17.844Z"
   },
   {
    "duration": 366,
    "start_time": "2022-04-10T19:41:18.184Z"
   },
   {
    "duration": 214,
    "start_time": "2022-04-10T19:41:18.552Z"
   },
   {
    "duration": 290,
    "start_time": "2022-04-10T19:41:19.486Z"
   },
   {
    "duration": 272,
    "start_time": "2022-04-10T19:41:19.778Z"
   },
   {
    "duration": 109,
    "start_time": "2022-04-10T19:41:20.366Z"
   },
   {
    "duration": 785,
    "start_time": "2022-04-10T19:41:20.984Z"
   },
   {
    "duration": 237,
    "start_time": "2022-04-10T19:41:21.772Z"
   },
   {
    "duration": 620,
    "start_time": "2022-04-10T19:41:22.011Z"
   },
   {
    "duration": 31,
    "start_time": "2022-04-10T19:41:22.633Z"
   },
   {
    "duration": 190,
    "start_time": "2022-04-10T19:41:23.285Z"
   },
   {
    "duration": 656,
    "start_time": "2022-04-10T19:41:23.966Z"
   },
   {
    "duration": 186,
    "start_time": "2022-04-10T19:41:24.639Z"
   },
   {
    "duration": 394,
    "start_time": "2022-04-10T19:41:24.900Z"
   },
   {
    "duration": 281,
    "start_time": "2022-04-10T19:41:25.637Z"
   },
   {
    "duration": 298,
    "start_time": "2022-04-10T19:41:26.367Z"
   },
   {
    "duration": 399,
    "start_time": "2022-04-10T19:41:27.165Z"
   },
   {
    "duration": 309,
    "start_time": "2022-04-10T19:41:27.909Z"
   },
   {
    "duration": 33,
    "start_time": "2022-04-10T19:43:40.922Z"
   },
   {
    "duration": 21,
    "start_time": "2022-04-10T19:48:47.697Z"
   },
   {
    "duration": 126,
    "start_time": "2022-04-10T21:41:14.994Z"
   },
   {
    "duration": 11,
    "start_time": "2022-04-10T21:41:45.070Z"
   },
   {
    "duration": 25,
    "start_time": "2022-04-10T21:41:49.748Z"
   },
   {
    "duration": 23,
    "start_time": "2022-04-10T21:42:28.471Z"
   },
   {
    "duration": 24,
    "start_time": "2022-04-10T21:42:52.120Z"
   },
   {
    "duration": 6,
    "start_time": "2022-04-10T21:46:56.765Z"
   },
   {
    "duration": 4,
    "start_time": "2022-04-10T21:48:35.627Z"
   },
   {
    "duration": 4,
    "start_time": "2022-04-10T21:48:39.417Z"
   },
   {
    "duration": 22,
    "start_time": "2022-04-10T21:49:15.325Z"
   },
   {
    "duration": 31,
    "start_time": "2022-04-10T21:49:29.062Z"
   },
   {
    "duration": 32,
    "start_time": "2022-04-10T21:49:38.154Z"
   },
   {
    "duration": 21,
    "start_time": "2022-04-10T21:50:22.301Z"
   },
   {
    "duration": 25,
    "start_time": "2022-04-10T21:51:45.306Z"
   },
   {
    "duration": 23,
    "start_time": "2022-04-10T21:57:42.929Z"
   },
   {
    "duration": 26,
    "start_time": "2022-04-10T21:59:10.840Z"
   },
   {
    "duration": 29,
    "start_time": "2022-04-10T21:59:35.121Z"
   },
   {
    "duration": 25,
    "start_time": "2022-04-10T21:59:44.036Z"
   },
   {
    "duration": 386,
    "start_time": "2022-04-10T22:00:22.452Z"
   },
   {
    "duration": 340,
    "start_time": "2022-04-10T22:01:17.623Z"
   },
   {
    "duration": 434,
    "start_time": "2022-04-10T22:03:35.033Z"
   },
   {
    "duration": 192,
    "start_time": "2022-04-10T22:07:17.416Z"
   },
   {
    "duration": 492,
    "start_time": "2022-04-10T22:07:19.948Z"
   },
   {
    "duration": 356,
    "start_time": "2022-04-10T22:07:32.072Z"
   },
   {
    "duration": 128,
    "start_time": "2022-04-10T22:12:15.462Z"
   },
   {
    "duration": 465,
    "start_time": "2022-04-10T22:12:20.111Z"
   },
   {
    "duration": 351,
    "start_time": "2022-04-10T22:12:22.963Z"
   },
   {
    "duration": 201,
    "start_time": "2022-04-10T22:13:00.580Z"
   },
   {
    "duration": 520,
    "start_time": "2022-04-10T22:13:03.483Z"
   },
   {
    "duration": 426,
    "start_time": "2022-04-10T22:13:06.080Z"
   },
   {
    "duration": 19,
    "start_time": "2022-04-10T22:13:07.177Z"
   },
   {
    "duration": 14,
    "start_time": "2022-04-10T22:13:20.967Z"
   },
   {
    "duration": 343,
    "start_time": "2022-04-10T22:13:24.544Z"
   },
   {
    "duration": 18,
    "start_time": "2022-04-10T22:13:39.006Z"
   },
   {
    "duration": 29,
    "start_time": "2022-04-10T22:13:47.834Z"
   },
   {
    "duration": 18,
    "start_time": "2022-04-10T22:13:50.158Z"
   },
   {
    "duration": 17,
    "start_time": "2022-04-10T22:13:53.792Z"
   },
   {
    "duration": 12,
    "start_time": "2022-04-10T22:13:57.460Z"
   },
   {
    "duration": 17,
    "start_time": "2022-04-10T22:13:59.007Z"
   },
   {
    "duration": 9,
    "start_time": "2022-04-10T22:14:00.245Z"
   },
   {
    "duration": 396,
    "start_time": "2022-04-10T22:14:02.982Z"
   },
   {
    "duration": 23,
    "start_time": "2022-04-10T22:14:06.370Z"
   },
   {
    "duration": 193,
    "start_time": "2022-04-10T22:14:07.473Z"
   },
   {
    "duration": 188,
    "start_time": "2022-04-10T22:14:08.301Z"
   },
   {
    "duration": 163,
    "start_time": "2022-04-10T22:14:09.095Z"
   },
   {
    "duration": 260,
    "start_time": "2022-04-10T22:14:09.869Z"
   },
   {
    "duration": 266,
    "start_time": "2022-04-10T22:14:12.444Z"
   },
   {
    "duration": 225,
    "start_time": "2022-04-10T22:14:13.355Z"
   },
   {
    "duration": 104,
    "start_time": "2022-04-10T22:14:15.447Z"
   },
   {
    "duration": 558,
    "start_time": "2022-04-10T22:14:17.482Z"
   },
   {
    "duration": 143,
    "start_time": "2022-04-10T22:14:18.909Z"
   },
   {
    "duration": 589,
    "start_time": "2022-04-10T22:14:19.591Z"
   },
   {
    "duration": 25,
    "start_time": "2022-04-10T22:14:20.733Z"
   },
   {
    "duration": 189,
    "start_time": "2022-04-10T22:14:21.941Z"
   },
   {
    "duration": 637,
    "start_time": "2022-04-10T22:14:22.915Z"
   },
   {
    "duration": 188,
    "start_time": "2022-04-10T22:14:23.554Z"
   },
   {
    "duration": 196,
    "start_time": "2022-04-10T22:14:23.986Z"
   },
   {
    "duration": 184,
    "start_time": "2022-04-10T22:14:24.907Z"
   },
   {
    "duration": 213,
    "start_time": "2022-04-10T22:14:25.318Z"
   },
   {
    "duration": 199,
    "start_time": "2022-04-10T22:14:25.667Z"
   },
   {
    "duration": 298,
    "start_time": "2022-04-10T22:14:26.312Z"
   },
   {
    "duration": 199,
    "start_time": "2022-04-10T22:14:47.227Z"
   },
   {
    "duration": 218,
    "start_time": "2022-04-10T22:14:47.914Z"
   },
   {
    "duration": 105,
    "start_time": "2022-04-10T22:21:23.343Z"
   },
   {
    "duration": 21,
    "start_time": "2022-04-10T22:21:44.673Z"
   },
   {
    "duration": 401,
    "start_time": "2022-04-10T22:27:32.647Z"
   },
   {
    "duration": 326,
    "start_time": "2022-04-10T22:27:47.370Z"
   },
   {
    "duration": 411,
    "start_time": "2022-04-10T22:27:53.156Z"
   },
   {
    "duration": 349,
    "start_time": "2022-04-10T22:28:26.795Z"
   },
   {
    "duration": 419,
    "start_time": "2022-04-10T22:29:20.153Z"
   },
   {
    "duration": 194,
    "start_time": "2022-04-10T22:29:32.797Z"
   },
   {
    "duration": 529,
    "start_time": "2022-04-10T22:29:38.240Z"
   },
   {
    "duration": 23,
    "start_time": "2022-04-10T22:29:48.100Z"
   },
   {
    "duration": 346,
    "start_time": "2022-04-10T22:29:55.644Z"
   },
   {
    "duration": 29,
    "start_time": "2022-04-10T22:30:02.862Z"
   },
   {
    "duration": 20,
    "start_time": "2022-04-10T22:30:04.396Z"
   },
   {
    "duration": 17,
    "start_time": "2022-04-10T22:33:50.958Z"
   },
   {
    "duration": 21,
    "start_time": "2022-04-10T22:40:29.030Z"
   },
   {
    "duration": 12,
    "start_time": "2022-04-10T22:40:50.354Z"
   },
   {
    "duration": 31,
    "start_time": "2022-04-10T22:41:15.984Z"
   },
   {
    "duration": 27,
    "start_time": "2022-04-10T22:41:49.012Z"
   },
   {
    "duration": 17,
    "start_time": "2022-04-10T22:41:56.122Z"
   },
   {
    "duration": 5,
    "start_time": "2022-04-10T22:52:17.472Z"
   },
   {
    "duration": 3,
    "start_time": "2022-04-10T22:54:22.579Z"
   },
   {
    "duration": 3,
    "start_time": "2022-04-10T22:54:38.008Z"
   },
   {
    "duration": 26,
    "start_time": "2022-04-10T22:56:00.888Z"
   },
   {
    "duration": 1515,
    "start_time": "2022-04-11T05:17:03.649Z"
   },
   {
    "duration": 556,
    "start_time": "2022-04-11T05:17:05.166Z"
   },
   {
    "duration": 25,
    "start_time": "2022-04-11T05:17:05.724Z"
   },
   {
    "duration": 28,
    "start_time": "2022-04-11T05:17:05.752Z"
   },
   {
    "duration": 42,
    "start_time": "2022-04-11T05:17:05.781Z"
   },
   {
    "duration": 7,
    "start_time": "2022-04-11T05:17:05.825Z"
   },
   {
    "duration": 372,
    "start_time": "2022-04-11T05:17:05.833Z"
   },
   {
    "duration": 23,
    "start_time": "2022-04-11T05:17:06.209Z"
   },
   {
    "duration": 238,
    "start_time": "2022-04-11T05:17:06.233Z"
   },
   {
    "duration": 284,
    "start_time": "2022-04-11T05:17:06.473Z"
   },
   {
    "duration": 190,
    "start_time": "2022-04-11T05:17:06.758Z"
   },
   {
    "duration": 200,
    "start_time": "2022-04-11T05:17:06.949Z"
   },
   {
    "duration": 317,
    "start_time": "2022-04-11T05:17:07.151Z"
   },
   {
    "duration": 281,
    "start_time": "2022-04-11T05:17:07.469Z"
   },
   {
    "duration": 113,
    "start_time": "2022-04-11T05:17:07.751Z"
   },
   {
    "duration": 576,
    "start_time": "2022-04-11T05:17:07.865Z"
   },
   {
    "duration": 366,
    "start_time": "2022-04-11T05:17:08.443Z"
   },
   {
    "duration": 1233,
    "start_time": "2022-04-11T05:17:08.811Z"
   },
   {
    "duration": 25,
    "start_time": "2022-04-11T05:17:10.045Z"
   },
   {
    "duration": 221,
    "start_time": "2022-04-11T05:17:10.071Z"
   },
   {
    "duration": 709,
    "start_time": "2022-04-11T05:17:10.294Z"
   },
   {
    "duration": 191,
    "start_time": "2022-04-11T05:17:11.008Z"
   },
   {
    "duration": 219,
    "start_time": "2022-04-11T05:17:11.209Z"
   },
   {
    "duration": 206,
    "start_time": "2022-04-11T05:17:11.429Z"
   },
   {
    "duration": 320,
    "start_time": "2022-04-11T05:17:11.637Z"
   },
   {
    "duration": 221,
    "start_time": "2022-04-11T05:17:11.958Z"
   },
   {
    "duration": 230,
    "start_time": "2022-04-11T05:17:12.180Z"
   },
   {
    "duration": 1464,
    "start_time": "2022-04-11T05:27:13.673Z"
   },
   {
    "duration": 601,
    "start_time": "2022-04-11T05:27:15.139Z"
   },
   {
    "duration": 32,
    "start_time": "2022-04-11T05:27:15.742Z"
   },
   {
    "duration": 51,
    "start_time": "2022-04-11T05:27:15.776Z"
   },
   {
    "duration": 17,
    "start_time": "2022-04-11T05:27:15.829Z"
   },
   {
    "duration": 8,
    "start_time": "2022-04-11T05:27:15.848Z"
   },
   {
    "duration": 413,
    "start_time": "2022-04-11T05:27:15.858Z"
   },
   {
    "duration": 25,
    "start_time": "2022-04-11T05:27:16.272Z"
   },
   {
    "duration": 235,
    "start_time": "2022-04-11T05:27:16.310Z"
   },
   {
    "duration": 231,
    "start_time": "2022-04-11T05:27:16.548Z"
   },
   {
    "duration": 265,
    "start_time": "2022-04-11T05:27:16.780Z"
   },
   {
    "duration": 203,
    "start_time": "2022-04-11T05:27:17.047Z"
   },
   {
    "duration": 305,
    "start_time": "2022-04-11T05:27:17.252Z"
   },
   {
    "duration": 294,
    "start_time": "2022-04-11T05:27:17.559Z"
   },
   {
    "duration": 123,
    "start_time": "2022-04-11T05:27:17.855Z"
   },
   {
    "duration": 589,
    "start_time": "2022-04-11T05:27:17.979Z"
   },
   {
    "duration": 176,
    "start_time": "2022-04-11T05:27:18.570Z"
   },
   {
    "duration": 649,
    "start_time": "2022-04-11T05:27:18.749Z"
   },
   {
    "duration": 32,
    "start_time": "2022-04-11T05:27:19.400Z"
   },
   {
    "duration": 220,
    "start_time": "2022-04-11T05:27:19.433Z"
   },
   {
    "duration": 731,
    "start_time": "2022-04-11T05:27:19.655Z"
   },
   {
    "duration": 215,
    "start_time": "2022-04-11T05:27:20.388Z"
   },
   {
    "duration": 271,
    "start_time": "2022-04-11T05:27:20.609Z"
   },
   {
    "duration": 220,
    "start_time": "2022-04-11T05:27:20.881Z"
   },
   {
    "duration": 251,
    "start_time": "2022-04-11T05:27:21.108Z"
   },
   {
    "duration": 320,
    "start_time": "2022-04-11T05:27:21.361Z"
   },
   {
    "duration": 235,
    "start_time": "2022-04-11T05:27:21.683Z"
   },
   {
    "duration": 45,
    "start_time": "2023-01-05T13:45:05.779Z"
   },
   {
    "duration": 1405,
    "start_time": "2023-01-05T13:45:28.650Z"
   },
   {
    "duration": 442,
    "start_time": "2023-01-05T13:45:30.855Z"
   },
   {
    "duration": 32,
    "start_time": "2023-01-05T13:45:32.642Z"
   },
   {
    "duration": 26,
    "start_time": "2023-01-05T13:45:33.167Z"
   },
   {
    "duration": 16,
    "start_time": "2023-01-05T13:45:33.399Z"
   },
   {
    "duration": 8,
    "start_time": "2023-01-05T13:45:34.253Z"
   },
   {
    "duration": 310,
    "start_time": "2023-01-05T13:45:35.194Z"
   },
   {
    "duration": 21,
    "start_time": "2023-01-05T13:45:36.359Z"
   },
   {
    "duration": 228,
    "start_time": "2023-01-05T13:45:36.531Z"
   },
   {
    "duration": 185,
    "start_time": "2023-01-05T13:45:36.761Z"
   },
   {
    "duration": 167,
    "start_time": "2023-01-05T13:45:36.948Z"
   },
   {
    "duration": 173,
    "start_time": "2023-01-05T13:45:37.116Z"
   },
   {
    "duration": 247,
    "start_time": "2023-01-05T13:45:37.634Z"
   },
   {
    "duration": 231,
    "start_time": "2023-01-05T13:45:37.883Z"
   },
   {
    "duration": 96,
    "start_time": "2023-01-05T13:45:38.409Z"
   },
   {
    "duration": 470,
    "start_time": "2023-01-05T13:45:38.952Z"
   },
   {
    "duration": 206,
    "start_time": "2023-01-05T13:45:39.518Z"
   },
   {
    "duration": 458,
    "start_time": "2023-01-05T13:45:39.726Z"
   },
   {
    "duration": 28,
    "start_time": "2023-01-05T13:45:40.238Z"
   },
   {
    "duration": 172,
    "start_time": "2023-01-05T13:45:40.784Z"
   },
   {
    "duration": 576,
    "start_time": "2023-01-05T13:45:41.374Z"
   },
   {
    "duration": 164,
    "start_time": "2023-01-05T13:45:41.952Z"
   },
   {
    "duration": 180,
    "start_time": "2023-01-05T13:45:42.117Z"
   },
   {
    "duration": 260,
    "start_time": "2023-01-05T13:45:42.478Z"
   },
   {
    "duration": 201,
    "start_time": "2023-01-05T13:45:42.739Z"
   },
   {
    "duration": 180,
    "start_time": "2023-01-05T13:45:42.942Z"
   },
   {
    "duration": 190,
    "start_time": "2023-01-05T13:45:43.124Z"
   }
  ],
  "kernelspec": {
   "display_name": "Python 3 (ipykernel)",
   "language": "python",
   "name": "python3"
  },
  "language_info": {
   "codemirror_mode": {
    "name": "ipython",
    "version": 3
   },
   "file_extension": ".py",
   "mimetype": "text/x-python",
   "name": "python",
   "nbconvert_exporter": "python",
   "pygments_lexer": "ipython3",
   "version": "3.9.5"
  },
  "toc": {
   "base_numbering": 1,
   "nav_menu": {},
   "number_sections": true,
   "sideBar": true,
   "skip_h1_title": true,
   "title_cell": "Содержание",
   "title_sidebar": "Contents",
   "toc_cell": true,
   "toc_position": {
    "height": "calc(100% - 180px)",
    "left": "10px",
    "top": "150px",
    "width": "181.594px"
   },
   "toc_section_display": true,
   "toc_window_display": true
  }
 },
 "nbformat": 4,
 "nbformat_minor": 4
}
