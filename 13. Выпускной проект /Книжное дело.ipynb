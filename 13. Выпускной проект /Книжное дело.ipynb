{
 "cells": [
  {
   "cell_type": "markdown",
   "metadata": {},
   "source": [
    "# Проект по SQL - Анализ базы данных для чтения книг по подписке"
   ]
  },
  {
   "cell_type": "markdown",
   "metadata": {},
   "source": [
    "Компания решила купить крупный сервис для чтения книг по подписке. Ваша первая задача как аналитика — проанализировать базу данных. В ней — информация о книгах, издательствах, авторах, а также пользовательские обзоры книг. Эти данные помогут сформулировать ценностное предложение для нового продукта.\n",
    "\n",
    "**Цель проекта** - проанализировать базу данных. В базе данных информация о книгах, издательствах, авторах, а также пользовательские обзоры книг."
   ]
  },
  {
   "cell_type": "markdown",
   "metadata": {},
   "source": [
    "**Описание данных**\n",
    "\n",
    "_Таблица books_\n",
    "\n",
    "Содержит данные о книгах:\n",
    "\n",
    "- book_id — идентификатор книги;\n",
    "- author_id — идентификатор автора;\n",
    "- title — название книги;\n",
    "- num_pages — количество страниц;\n",
    "- publication_date — дата публикации книги;\n",
    "- publisher_id — идентификатор издателя.\n",
    "\n",
    "_Таблица authors_\n",
    "\n",
    "Содержит данные об авторах:\n",
    "\n",
    "- author_id — идентификатор автора;\n",
    "- author — имя автора.\n",
    "\n",
    "_Таблица publishers_\n",
    "\n",
    "Содержит данные об издательствах:\n",
    "\n",
    "- publisher_id — идентификатор издательства;\n",
    "- publisher — название издательства;\n",
    "\n",
    "_Таблица ratings_\n",
    "\n",
    "Содержит данные о пользовательских оценках книг:\n",
    "\n",
    "- rating_id — идентификатор оценки;\n",
    "- book_id — идентификатор книги;\n",
    "- username — имя пользователя, оставившего оценку;\n",
    "- rating — оценка книги.\n",
    "\n",
    "_Таблица reviews_\n",
    "\n",
    "Содержит данные о пользовательских обзорах:\n",
    "\n",
    "- review_id — идентификатор обзора;\n",
    "- book_id — идентификатор книги;\n",
    "- username — имя автора обзора;\n",
    "- text — текст обзора."
   ]
  },
  {
   "cell_type": "code",
   "execution_count": 1,
   "metadata": {},
   "outputs": [],
   "source": [
    "# импортируем библиотеки\n",
    "import pandas as pd\n",
    "from sqlalchemy import create_engine"
   ]
  },
  {
   "cell_type": "code",
   "execution_count": 2,
   "metadata": {},
   "outputs": [],
   "source": [
    "# устанавливаем параметры\n",
    "db_config = {'user': 'praktikum_student', # имя пользователя\n",
    "             'pwd': 'Sdf4$2;d-d30pp', # пароль\n",
    "             'host': 'rc1b-wcoijxj3yxfsf3fs.mdb.yandexcloud.net',\n",
    "             'port': 6432, # порт подключения\n",
    "             'db': 'data-analyst-final-project-db'} # название базы данных\n",
    "connection_string = 'postgresql://{}:{}@{}:{}/{}'.format(db_config['user'],\n",
    "                                                         db_config['pwd'],\n",
    "                                                         db_config['host'],\n",
    "                                                         db_config['port'],\n",
    "                                                         db_config['db'])"
   ]
  },
  {
   "cell_type": "code",
   "execution_count": 3,
   "metadata": {},
   "outputs": [],
   "source": [
    "# сохраняем коннектор\n",
    "engine = create_engine(connection_string, connect_args={'sslmode':'require'})"
   ]
  },
  {
   "cell_type": "code",
   "execution_count": 4,
   "metadata": {},
   "outputs": [],
   "source": [
    "# полчучаем данные таблицы books\n",
    "query_books = '''\n",
    "            SELECT * \n",
    "            FROM books\n",
    "        '''"
   ]
  },
  {
   "cell_type": "code",
   "execution_count": 5,
   "metadata": {},
   "outputs": [],
   "source": [
    "# полчучаем данные таблицы authors\n",
    "query_authors = '''\n",
    "            SELECT * \n",
    "            FROM authors\n",
    "        '''"
   ]
  },
  {
   "cell_type": "code",
   "execution_count": 6,
   "metadata": {},
   "outputs": [],
   "source": [
    "# полчучаем данные таблицы publishers\n",
    "query_publishers = '''\n",
    "            SELECT * \n",
    "            FROM publishers\n",
    "        '''"
   ]
  },
  {
   "cell_type": "code",
   "execution_count": 7,
   "metadata": {},
   "outputs": [],
   "source": [
    "# полчучаем данные таблицы ratings\n",
    "query_ratings = '''\n",
    "            SELECT * \n",
    "            FROM ratings\n",
    "        '''"
   ]
  },
  {
   "cell_type": "code",
   "execution_count": 8,
   "metadata": {},
   "outputs": [],
   "source": [
    "# полчучаем данные таблицы reviews\n",
    "query_reviews = '''\n",
    "            SELECT * \n",
    "            FROM reviews\n",
    "        '''"
   ]
  },
  {
   "cell_type": "code",
   "execution_count": 9,
   "metadata": {},
   "outputs": [],
   "source": [
    "# подключения к базам данных для Sqlite\n",
    "books = pd.io.sql.read_sql(query_books, con = engine)\n",
    "authors = pd.io.sql.read_sql(query_authors, con = engine)\n",
    "publishers = pd.io.sql.read_sql(query_publishers, con = engine)\n",
    "ratings = pd.io.sql.read_sql(query_ratings, con = engine)\n",
    "reviews = pd.io.sql.read_sql(query_reviews, con = engine)"
   ]
  },
  {
   "cell_type": "code",
   "execution_count": 10,
   "metadata": {},
   "outputs": [
    {
     "name": "stdout",
     "output_type": "stream",
     "text": [
      "<class 'pandas.core.frame.DataFrame'>\n",
      "RangeIndex: 1000 entries, 0 to 999\n",
      "Data columns (total 6 columns):\n",
      " #   Column            Non-Null Count  Dtype \n",
      "---  ------            --------------  ----- \n",
      " 0   book_id           1000 non-null   int64 \n",
      " 1   author_id         1000 non-null   int64 \n",
      " 2   title             1000 non-null   object\n",
      " 3   num_pages         1000 non-null   int64 \n",
      " 4   publication_date  1000 non-null   object\n",
      " 5   publisher_id      1000 non-null   int64 \n",
      "dtypes: int64(4), object(2)\n",
      "memory usage: 47.0+ KB\n"
     ]
    },
    {
     "data": {
      "text/plain": [
       "None"
      ]
     },
     "metadata": {},
     "output_type": "display_data"
    },
    {
     "name": "stdout",
     "output_type": "stream",
     "text": [
      "<class 'pandas.core.frame.DataFrame'>\n",
      "RangeIndex: 636 entries, 0 to 635\n",
      "Data columns (total 2 columns):\n",
      " #   Column     Non-Null Count  Dtype \n",
      "---  ------     --------------  ----- \n",
      " 0   author_id  636 non-null    int64 \n",
      " 1   author     636 non-null    object\n",
      "dtypes: int64(1), object(1)\n",
      "memory usage: 10.1+ KB\n"
     ]
    },
    {
     "data": {
      "text/plain": [
       "None"
      ]
     },
     "metadata": {},
     "output_type": "display_data"
    },
    {
     "name": "stdout",
     "output_type": "stream",
     "text": [
      "<class 'pandas.core.frame.DataFrame'>\n",
      "RangeIndex: 340 entries, 0 to 339\n",
      "Data columns (total 2 columns):\n",
      " #   Column        Non-Null Count  Dtype \n",
      "---  ------        --------------  ----- \n",
      " 0   publisher_id  340 non-null    int64 \n",
      " 1   publisher     340 non-null    object\n",
      "dtypes: int64(1), object(1)\n",
      "memory usage: 5.4+ KB\n"
     ]
    },
    {
     "data": {
      "text/plain": [
       "None"
      ]
     },
     "metadata": {},
     "output_type": "display_data"
    },
    {
     "name": "stdout",
     "output_type": "stream",
     "text": [
      "<class 'pandas.core.frame.DataFrame'>\n",
      "RangeIndex: 6456 entries, 0 to 6455\n",
      "Data columns (total 4 columns):\n",
      " #   Column     Non-Null Count  Dtype \n",
      "---  ------     --------------  ----- \n",
      " 0   rating_id  6456 non-null   int64 \n",
      " 1   book_id    6456 non-null   int64 \n",
      " 2   username   6456 non-null   object\n",
      " 3   rating     6456 non-null   int64 \n",
      "dtypes: int64(3), object(1)\n",
      "memory usage: 201.9+ KB\n"
     ]
    },
    {
     "data": {
      "text/plain": [
       "None"
      ]
     },
     "metadata": {},
     "output_type": "display_data"
    },
    {
     "name": "stdout",
     "output_type": "stream",
     "text": [
      "<class 'pandas.core.frame.DataFrame'>\n",
      "RangeIndex: 2793 entries, 0 to 2792\n",
      "Data columns (total 4 columns):\n",
      " #   Column     Non-Null Count  Dtype \n",
      "---  ------     --------------  ----- \n",
      " 0   review_id  2793 non-null   int64 \n",
      " 1   book_id    2793 non-null   int64 \n",
      " 2   username   2793 non-null   object\n",
      " 3   text       2793 non-null   object\n",
      "dtypes: int64(2), object(2)\n",
      "memory usage: 87.4+ KB\n"
     ]
    },
    {
     "data": {
      "text/plain": [
       "None"
      ]
     },
     "metadata": {},
     "output_type": "display_data"
    }
   ],
   "source": [
    "# посмотрим общую информацию о данных\n",
    "data = [books, authors, publishers, ratings, reviews]\n",
    "\n",
    "for i in data:\n",
    "    display(i.info())"
   ]
  },
  {
   "cell_type": "code",
   "execution_count": 11,
   "metadata": {},
   "outputs": [
    {
     "data": {
      "text/html": [
       "<div>\n",
       "<style scoped>\n",
       "    .dataframe tbody tr th:only-of-type {\n",
       "        vertical-align: middle;\n",
       "    }\n",
       "\n",
       "    .dataframe tbody tr th {\n",
       "        vertical-align: top;\n",
       "    }\n",
       "\n",
       "    .dataframe thead th {\n",
       "        text-align: right;\n",
       "    }\n",
       "</style>\n",
       "<table border=\"1\" class=\"dataframe\">\n",
       "  <thead>\n",
       "    <tr style=\"text-align: right;\">\n",
       "      <th></th>\n",
       "      <th>book_id</th>\n",
       "      <th>author_id</th>\n",
       "      <th>title</th>\n",
       "      <th>num_pages</th>\n",
       "      <th>publication_date</th>\n",
       "      <th>publisher_id</th>\n",
       "    </tr>\n",
       "  </thead>\n",
       "  <tbody>\n",
       "    <tr>\n",
       "      <th>0</th>\n",
       "      <td>1</td>\n",
       "      <td>546</td>\n",
       "      <td>'Salem's Lot</td>\n",
       "      <td>594</td>\n",
       "      <td>2005-11-01</td>\n",
       "      <td>93</td>\n",
       "    </tr>\n",
       "    <tr>\n",
       "      <th>1</th>\n",
       "      <td>2</td>\n",
       "      <td>465</td>\n",
       "      <td>1 000 Places to See Before You Die</td>\n",
       "      <td>992</td>\n",
       "      <td>2003-05-22</td>\n",
       "      <td>336</td>\n",
       "    </tr>\n",
       "    <tr>\n",
       "      <th>2</th>\n",
       "      <td>3</td>\n",
       "      <td>407</td>\n",
       "      <td>13 Little Blue Envelopes (Little Blue Envelope...</td>\n",
       "      <td>322</td>\n",
       "      <td>2010-12-21</td>\n",
       "      <td>135</td>\n",
       "    </tr>\n",
       "    <tr>\n",
       "      <th>3</th>\n",
       "      <td>4</td>\n",
       "      <td>82</td>\n",
       "      <td>1491: New Revelations of the Americas Before C...</td>\n",
       "      <td>541</td>\n",
       "      <td>2006-10-10</td>\n",
       "      <td>309</td>\n",
       "    </tr>\n",
       "    <tr>\n",
       "      <th>4</th>\n",
       "      <td>5</td>\n",
       "      <td>125</td>\n",
       "      <td>1776</td>\n",
       "      <td>386</td>\n",
       "      <td>2006-07-04</td>\n",
       "      <td>268</td>\n",
       "    </tr>\n",
       "  </tbody>\n",
       "</table>\n",
       "</div>"
      ],
      "text/plain": [
       "   book_id  author_id                                              title  \\\n",
       "0        1        546                                       'Salem's Lot   \n",
       "1        2        465                 1 000 Places to See Before You Die   \n",
       "2        3        407  13 Little Blue Envelopes (Little Blue Envelope...   \n",
       "3        4         82  1491: New Revelations of the Americas Before C...   \n",
       "4        5        125                                               1776   \n",
       "\n",
       "   num_pages publication_date  publisher_id  \n",
       "0        594       2005-11-01            93  \n",
       "1        992       2003-05-22           336  \n",
       "2        322       2010-12-21           135  \n",
       "3        541       2006-10-10           309  \n",
       "4        386       2006-07-04           268  "
      ]
     },
     "metadata": {},
     "output_type": "display_data"
    },
    {
     "data": {
      "text/html": [
       "<div>\n",
       "<style scoped>\n",
       "    .dataframe tbody tr th:only-of-type {\n",
       "        vertical-align: middle;\n",
       "    }\n",
       "\n",
       "    .dataframe tbody tr th {\n",
       "        vertical-align: top;\n",
       "    }\n",
       "\n",
       "    .dataframe thead th {\n",
       "        text-align: right;\n",
       "    }\n",
       "</style>\n",
       "<table border=\"1\" class=\"dataframe\">\n",
       "  <thead>\n",
       "    <tr style=\"text-align: right;\">\n",
       "      <th></th>\n",
       "      <th>author_id</th>\n",
       "      <th>author</th>\n",
       "    </tr>\n",
       "  </thead>\n",
       "  <tbody>\n",
       "    <tr>\n",
       "      <th>0</th>\n",
       "      <td>1</td>\n",
       "      <td>A.S. Byatt</td>\n",
       "    </tr>\n",
       "    <tr>\n",
       "      <th>1</th>\n",
       "      <td>2</td>\n",
       "      <td>Aesop/Laura Harris/Laura Gibbs</td>\n",
       "    </tr>\n",
       "    <tr>\n",
       "      <th>2</th>\n",
       "      <td>3</td>\n",
       "      <td>Agatha Christie</td>\n",
       "    </tr>\n",
       "    <tr>\n",
       "      <th>3</th>\n",
       "      <td>4</td>\n",
       "      <td>Alan Brennert</td>\n",
       "    </tr>\n",
       "    <tr>\n",
       "      <th>4</th>\n",
       "      <td>5</td>\n",
       "      <td>Alan Moore/David   Lloyd</td>\n",
       "    </tr>\n",
       "  </tbody>\n",
       "</table>\n",
       "</div>"
      ],
      "text/plain": [
       "   author_id                          author\n",
       "0          1                      A.S. Byatt\n",
       "1          2  Aesop/Laura Harris/Laura Gibbs\n",
       "2          3                 Agatha Christie\n",
       "3          4                   Alan Brennert\n",
       "4          5        Alan Moore/David   Lloyd"
      ]
     },
     "metadata": {},
     "output_type": "display_data"
    },
    {
     "data": {
      "text/html": [
       "<div>\n",
       "<style scoped>\n",
       "    .dataframe tbody tr th:only-of-type {\n",
       "        vertical-align: middle;\n",
       "    }\n",
       "\n",
       "    .dataframe tbody tr th {\n",
       "        vertical-align: top;\n",
       "    }\n",
       "\n",
       "    .dataframe thead th {\n",
       "        text-align: right;\n",
       "    }\n",
       "</style>\n",
       "<table border=\"1\" class=\"dataframe\">\n",
       "  <thead>\n",
       "    <tr style=\"text-align: right;\">\n",
       "      <th></th>\n",
       "      <th>publisher_id</th>\n",
       "      <th>publisher</th>\n",
       "    </tr>\n",
       "  </thead>\n",
       "  <tbody>\n",
       "    <tr>\n",
       "      <th>0</th>\n",
       "      <td>1</td>\n",
       "      <td>Ace</td>\n",
       "    </tr>\n",
       "    <tr>\n",
       "      <th>1</th>\n",
       "      <td>2</td>\n",
       "      <td>Ace Book</td>\n",
       "    </tr>\n",
       "    <tr>\n",
       "      <th>2</th>\n",
       "      <td>3</td>\n",
       "      <td>Ace Books</td>\n",
       "    </tr>\n",
       "    <tr>\n",
       "      <th>3</th>\n",
       "      <td>4</td>\n",
       "      <td>Ace Hardcover</td>\n",
       "    </tr>\n",
       "    <tr>\n",
       "      <th>4</th>\n",
       "      <td>5</td>\n",
       "      <td>Addison Wesley Publishing Company</td>\n",
       "    </tr>\n",
       "  </tbody>\n",
       "</table>\n",
       "</div>"
      ],
      "text/plain": [
       "   publisher_id                          publisher\n",
       "0             1                                Ace\n",
       "1             2                           Ace Book\n",
       "2             3                          Ace Books\n",
       "3             4                      Ace Hardcover\n",
       "4             5  Addison Wesley Publishing Company"
      ]
     },
     "metadata": {},
     "output_type": "display_data"
    },
    {
     "data": {
      "text/html": [
       "<div>\n",
       "<style scoped>\n",
       "    .dataframe tbody tr th:only-of-type {\n",
       "        vertical-align: middle;\n",
       "    }\n",
       "\n",
       "    .dataframe tbody tr th {\n",
       "        vertical-align: top;\n",
       "    }\n",
       "\n",
       "    .dataframe thead th {\n",
       "        text-align: right;\n",
       "    }\n",
       "</style>\n",
       "<table border=\"1\" class=\"dataframe\">\n",
       "  <thead>\n",
       "    <tr style=\"text-align: right;\">\n",
       "      <th></th>\n",
       "      <th>rating_id</th>\n",
       "      <th>book_id</th>\n",
       "      <th>username</th>\n",
       "      <th>rating</th>\n",
       "    </tr>\n",
       "  </thead>\n",
       "  <tbody>\n",
       "    <tr>\n",
       "      <th>0</th>\n",
       "      <td>1</td>\n",
       "      <td>1</td>\n",
       "      <td>ryanfranco</td>\n",
       "      <td>4</td>\n",
       "    </tr>\n",
       "    <tr>\n",
       "      <th>1</th>\n",
       "      <td>2</td>\n",
       "      <td>1</td>\n",
       "      <td>grantpatricia</td>\n",
       "      <td>2</td>\n",
       "    </tr>\n",
       "    <tr>\n",
       "      <th>2</th>\n",
       "      <td>3</td>\n",
       "      <td>1</td>\n",
       "      <td>brandtandrea</td>\n",
       "      <td>5</td>\n",
       "    </tr>\n",
       "    <tr>\n",
       "      <th>3</th>\n",
       "      <td>4</td>\n",
       "      <td>2</td>\n",
       "      <td>lorichen</td>\n",
       "      <td>3</td>\n",
       "    </tr>\n",
       "    <tr>\n",
       "      <th>4</th>\n",
       "      <td>5</td>\n",
       "      <td>2</td>\n",
       "      <td>mariokeller</td>\n",
       "      <td>2</td>\n",
       "    </tr>\n",
       "  </tbody>\n",
       "</table>\n",
       "</div>"
      ],
      "text/plain": [
       "   rating_id  book_id       username  rating\n",
       "0          1        1     ryanfranco       4\n",
       "1          2        1  grantpatricia       2\n",
       "2          3        1   brandtandrea       5\n",
       "3          4        2       lorichen       3\n",
       "4          5        2    mariokeller       2"
      ]
     },
     "metadata": {},
     "output_type": "display_data"
    },
    {
     "data": {
      "text/html": [
       "<div>\n",
       "<style scoped>\n",
       "    .dataframe tbody tr th:only-of-type {\n",
       "        vertical-align: middle;\n",
       "    }\n",
       "\n",
       "    .dataframe tbody tr th {\n",
       "        vertical-align: top;\n",
       "    }\n",
       "\n",
       "    .dataframe thead th {\n",
       "        text-align: right;\n",
       "    }\n",
       "</style>\n",
       "<table border=\"1\" class=\"dataframe\">\n",
       "  <thead>\n",
       "    <tr style=\"text-align: right;\">\n",
       "      <th></th>\n",
       "      <th>review_id</th>\n",
       "      <th>book_id</th>\n",
       "      <th>username</th>\n",
       "      <th>text</th>\n",
       "    </tr>\n",
       "  </thead>\n",
       "  <tbody>\n",
       "    <tr>\n",
       "      <th>0</th>\n",
       "      <td>1</td>\n",
       "      <td>1</td>\n",
       "      <td>brandtandrea</td>\n",
       "      <td>Mention society tell send professor analysis. ...</td>\n",
       "    </tr>\n",
       "    <tr>\n",
       "      <th>1</th>\n",
       "      <td>2</td>\n",
       "      <td>1</td>\n",
       "      <td>ryanfranco</td>\n",
       "      <td>Foot glass pretty audience hit themselves. Amo...</td>\n",
       "    </tr>\n",
       "    <tr>\n",
       "      <th>2</th>\n",
       "      <td>3</td>\n",
       "      <td>2</td>\n",
       "      <td>lorichen</td>\n",
       "      <td>Listen treat keep worry. Miss husband tax but ...</td>\n",
       "    </tr>\n",
       "    <tr>\n",
       "      <th>3</th>\n",
       "      <td>4</td>\n",
       "      <td>3</td>\n",
       "      <td>johnsonamanda</td>\n",
       "      <td>Finally month interesting blue could nature cu...</td>\n",
       "    </tr>\n",
       "    <tr>\n",
       "      <th>4</th>\n",
       "      <td>5</td>\n",
       "      <td>3</td>\n",
       "      <td>scotttamara</td>\n",
       "      <td>Nation purpose heavy give wait song will. List...</td>\n",
       "    </tr>\n",
       "  </tbody>\n",
       "</table>\n",
       "</div>"
      ],
      "text/plain": [
       "   review_id  book_id       username  \\\n",
       "0          1        1   brandtandrea   \n",
       "1          2        1     ryanfranco   \n",
       "2          3        2       lorichen   \n",
       "3          4        3  johnsonamanda   \n",
       "4          5        3    scotttamara   \n",
       "\n",
       "                                                text  \n",
       "0  Mention society tell send professor analysis. ...  \n",
       "1  Foot glass pretty audience hit themselves. Amo...  \n",
       "2  Listen treat keep worry. Miss husband tax but ...  \n",
       "3  Finally month interesting blue could nature cu...  \n",
       "4  Nation purpose heavy give wait song will. List...  "
      ]
     },
     "metadata": {},
     "output_type": "display_data"
    }
   ],
   "source": [
    "# посмотрим на 5 первых значений\n",
    "for i in data:\n",
    "    display(i.head())"
   ]
  },
  {
   "cell_type": "markdown",
   "metadata": {},
   "source": [
    "**Вывод**\n",
    "\n",
    "В новой базе будет содержатся информация о 1000 книгах, 636 авторов, 340 издательств и 6456 пользовательских обзорах."
   ]
  },
  {
   "cell_type": "markdown",
   "metadata": {},
   "source": [
    "**Задание 1**\n",
    "\n",
    "1. Посчитаем количество книг, которые вышли после 1 января 2000 года"
   ]
  },
  {
   "cell_type": "code",
   "execution_count": 12,
   "metadata": {},
   "outputs": [
    {
     "data": {
      "text/html": [
       "<div>\n",
       "<style scoped>\n",
       "    .dataframe tbody tr th:only-of-type {\n",
       "        vertical-align: middle;\n",
       "    }\n",
       "\n",
       "    .dataframe tbody tr th {\n",
       "        vertical-align: top;\n",
       "    }\n",
       "\n",
       "    .dataframe thead th {\n",
       "        text-align: right;\n",
       "    }\n",
       "</style>\n",
       "<table border=\"1\" class=\"dataframe\">\n",
       "  <thead>\n",
       "    <tr style=\"text-align: right;\">\n",
       "      <th></th>\n",
       "      <th>count</th>\n",
       "    </tr>\n",
       "  </thead>\n",
       "  <tbody>\n",
       "    <tr>\n",
       "      <th>0</th>\n",
       "      <td>819</td>\n",
       "    </tr>\n",
       "  </tbody>\n",
       "</table>\n",
       "</div>"
      ],
      "text/plain": [
       "   count\n",
       "0    819"
      ]
     },
     "execution_count": 12,
     "metadata": {},
     "output_type": "execute_result"
    }
   ],
   "source": [
    "request  = '''\n",
    "            SELECT COUNT(book_id) \n",
    "            FROM books\n",
    "            WHERE publication_date > '2000-01-01'\n",
    "       '''\n",
    "pd.read_sql(request , con = engine)"
   ]
  },
  {
   "cell_type": "code",
   "execution_count": 13,
   "metadata": {},
   "outputs": [
    {
     "data": {
      "text/html": [
       "<div>\n",
       "<style scoped>\n",
       "    .dataframe tbody tr th:only-of-type {\n",
       "        vertical-align: middle;\n",
       "    }\n",
       "\n",
       "    .dataframe tbody tr th {\n",
       "        vertical-align: top;\n",
       "    }\n",
       "\n",
       "    .dataframe thead th {\n",
       "        text-align: right;\n",
       "    }\n",
       "</style>\n",
       "<table border=\"1\" class=\"dataframe\">\n",
       "  <thead>\n",
       "    <tr style=\"text-align: right;\">\n",
       "      <th></th>\n",
       "      <th>count</th>\n",
       "    </tr>\n",
       "  </thead>\n",
       "  <tbody>\n",
       "    <tr>\n",
       "      <th>0</th>\n",
       "      <td>821</td>\n",
       "    </tr>\n",
       "  </tbody>\n",
       "</table>\n",
       "</div>"
      ],
      "text/plain": [
       "   count\n",
       "0    821"
      ]
     },
     "execution_count": 13,
     "metadata": {},
     "output_type": "execute_result"
    }
   ],
   "source": [
    "request  = '''\n",
    "            SELECT COUNT(book_id) \n",
    "            FROM books\n",
    "            WHERE publication_date >= '2000-01-01'\n",
    "       '''\n",
    "pd.read_sql(request, con = engine)"
   ]
  },
  {
   "cell_type": "markdown",
   "metadata": {},
   "source": [
    "**Вывод**\n",
    "\n",
    "После 1 января 2000 года вышло 821 книг. Хотела пояснить, нелогично икслючать 1 января 2020г т.к. скорее нужна была информация за год, который закончился или нет."
   ]
  },
  {
   "cell_type": "markdown",
   "metadata": {},
   "source": [
    "**Задание 2**\n",
    "\n",
    "2. Посчитаем, для каждой книги количество обзоров и среднюю оценку"
   ]
  },
  {
   "cell_type": "code",
   "execution_count": 21,
   "metadata": {},
   "outputs": [
    {
     "data": {
      "text/html": [
       "<div>\n",
       "<style scoped>\n",
       "    .dataframe tbody tr th:only-of-type {\n",
       "        vertical-align: middle;\n",
       "    }\n",
       "\n",
       "    .dataframe tbody tr th {\n",
       "        vertical-align: top;\n",
       "    }\n",
       "\n",
       "    .dataframe thead th {\n",
       "        text-align: right;\n",
       "    }\n",
       "</style>\n",
       "<table border=\"1\" class=\"dataframe\">\n",
       "  <thead>\n",
       "    <tr style=\"text-align: right;\">\n",
       "      <th></th>\n",
       "      <th>book_id</th>\n",
       "      <th>title</th>\n",
       "      <th>count_reviews</th>\n",
       "      <th>avg_ratings</th>\n",
       "    </tr>\n",
       "  </thead>\n",
       "  <tbody>\n",
       "    <tr>\n",
       "      <th>0</th>\n",
       "      <td>948</td>\n",
       "      <td>Twilight (Twilight  #1)</td>\n",
       "      <td>7</td>\n",
       "      <td>3.662500</td>\n",
       "    </tr>\n",
       "    <tr>\n",
       "      <th>1</th>\n",
       "      <td>963</td>\n",
       "      <td>Water for Elephants</td>\n",
       "      <td>6</td>\n",
       "      <td>3.977273</td>\n",
       "    </tr>\n",
       "    <tr>\n",
       "      <th>2</th>\n",
       "      <td>734</td>\n",
       "      <td>The Glass Castle</td>\n",
       "      <td>6</td>\n",
       "      <td>4.206897</td>\n",
       "    </tr>\n",
       "    <tr>\n",
       "      <th>3</th>\n",
       "      <td>302</td>\n",
       "      <td>Harry Potter and the Prisoner of Azkaban (Harr...</td>\n",
       "      <td>6</td>\n",
       "      <td>4.414634</td>\n",
       "    </tr>\n",
       "    <tr>\n",
       "      <th>4</th>\n",
       "      <td>695</td>\n",
       "      <td>The Curious Incident of the Dog in the Night-Time</td>\n",
       "      <td>6</td>\n",
       "      <td>4.081081</td>\n",
       "    </tr>\n",
       "    <tr>\n",
       "      <th>...</th>\n",
       "      <td>...</td>\n",
       "      <td>...</td>\n",
       "      <td>...</td>\n",
       "      <td>...</td>\n",
       "    </tr>\n",
       "    <tr>\n",
       "      <th>995</th>\n",
       "      <td>83</td>\n",
       "      <td>Anne Rice's The Vampire Lestat: A Graphic Novel</td>\n",
       "      <td>0</td>\n",
       "      <td>3.666667</td>\n",
       "    </tr>\n",
       "    <tr>\n",
       "      <th>996</th>\n",
       "      <td>808</td>\n",
       "      <td>The Natural Way to Draw</td>\n",
       "      <td>0</td>\n",
       "      <td>3.000000</td>\n",
       "    </tr>\n",
       "    <tr>\n",
       "      <th>997</th>\n",
       "      <td>672</td>\n",
       "      <td>The Cat in the Hat and Other Dr. Seuss Favorites</td>\n",
       "      <td>0</td>\n",
       "      <td>5.000000</td>\n",
       "    </tr>\n",
       "    <tr>\n",
       "      <th>998</th>\n",
       "      <td>221</td>\n",
       "      <td>Essential Tales and Poems</td>\n",
       "      <td>0</td>\n",
       "      <td>4.000000</td>\n",
       "    </tr>\n",
       "    <tr>\n",
       "      <th>999</th>\n",
       "      <td>191</td>\n",
       "      <td>Disney's Beauty and the Beast (A Little Golden...</td>\n",
       "      <td>0</td>\n",
       "      <td>4.000000</td>\n",
       "    </tr>\n",
       "  </tbody>\n",
       "</table>\n",
       "<p>1000 rows × 4 columns</p>\n",
       "</div>"
      ],
      "text/plain": [
       "     book_id                                              title  \\\n",
       "0        948                            Twilight (Twilight  #1)   \n",
       "1        963                                Water for Elephants   \n",
       "2        734                                   The Glass Castle   \n",
       "3        302  Harry Potter and the Prisoner of Azkaban (Harr...   \n",
       "4        695  The Curious Incident of the Dog in the Night-Time   \n",
       "..       ...                                                ...   \n",
       "995       83    Anne Rice's The Vampire Lestat: A Graphic Novel   \n",
       "996      808                            The Natural Way to Draw   \n",
       "997      672   The Cat in the Hat and Other Dr. Seuss Favorites   \n",
       "998      221                          Essential Tales and Poems   \n",
       "999      191  Disney's Beauty and the Beast (A Little Golden...   \n",
       "\n",
       "     count_reviews  avg_ratings  \n",
       "0                7     3.662500  \n",
       "1                6     3.977273  \n",
       "2                6     4.206897  \n",
       "3                6     4.414634  \n",
       "4                6     4.081081  \n",
       "..             ...          ...  \n",
       "995              0     3.666667  \n",
       "996              0     3.000000  \n",
       "997              0     5.000000  \n",
       "998              0     4.000000  \n",
       "999              0     4.000000  \n",
       "\n",
       "[1000 rows x 4 columns]"
      ]
     },
     "execution_count": 21,
     "metadata": {},
     "output_type": "execute_result"
    }
   ],
   "source": [
    "request  = '''\n",
    "         SELECT books.book_id, \n",
    "                books.title, \n",
    "                COUNT(DISTINCT reviews.review_id) AS count_reviews, -- выводим кол-во обзоров и переименовываем count_reviews \n",
    "                AVG(ratings.rating) AS avg_ratings -- выводим средний рейтинг и переименовываем avg_ratings        \n",
    "         FROM books\n",
    "         LEFT JOIN ratings ON books.book_id = ratings.book_id -- присоединяем к таб. books таб. ratings по ключу book_id\n",
    "         LEFT JOIN reviews ON books.book_id = reviews.book_id -- присоединяем к таб. books таб. reviews по ключу book_id\n",
    "         GROUP BY books.book_id   -- группируем по полю book_id\n",
    "         ORDER BY count_reviews DESC -- сортируем по убыванию кол-во обзоров \n",
    "    '''\n",
    "pd.read_sql(request, con = engine)"
   ]
  },
  {
   "cell_type": "markdown",
   "metadata": {},
   "source": [
    "**Вывод**\n",
    "\n",
    "Самое большое количество обзоров у книги 'Twilight (Twilight #1)'  - 7 шт, средний рейтинг ~ 3,7.  Есть книги которые не имеют обзоров."
   ]
  },
  {
   "cell_type": "markdown",
   "metadata": {},
   "source": [
    "**Задание 3**\n",
    "\n",
    "Определим издательство, которое выпустило наибольшее число книг толще 50 страниц (так вы исключим из анализа брошюры)"
   ]
  },
  {
   "cell_type": "code",
   "execution_count": 18,
   "metadata": {},
   "outputs": [
    {
     "data": {
      "text/html": [
       "<div>\n",
       "<style scoped>\n",
       "    .dataframe tbody tr th:only-of-type {\n",
       "        vertical-align: middle;\n",
       "    }\n",
       "\n",
       "    .dataframe tbody tr th {\n",
       "        vertical-align: top;\n",
       "    }\n",
       "\n",
       "    .dataframe thead th {\n",
       "        text-align: right;\n",
       "    }\n",
       "</style>\n",
       "<table border=\"1\" class=\"dataframe\">\n",
       "  <thead>\n",
       "    <tr style=\"text-align: right;\">\n",
       "      <th></th>\n",
       "      <th>publisher</th>\n",
       "      <th>count_book</th>\n",
       "    </tr>\n",
       "  </thead>\n",
       "  <tbody>\n",
       "    <tr>\n",
       "      <th>0</th>\n",
       "      <td>Penguin Books</td>\n",
       "      <td>42</td>\n",
       "    </tr>\n",
       "  </tbody>\n",
       "</table>\n",
       "</div>"
      ],
      "text/plain": [
       "       publisher  count_book\n",
       "0  Penguin Books          42"
      ]
     },
     "execution_count": 18,
     "metadata": {},
     "output_type": "execute_result"
    }
   ],
   "source": [
    "request  = '''\n",
    "         SELECT publishers.publisher, \n",
    "                COUNT(books.book_id) AS count_book -- выводим кол-во книг и переименовываем count_book \n",
    "         FROM publishers\n",
    "         LEFT JOIN books ON publishers.publisher_id = books.publisher_id -- присоединяем к таб.publisher таб.books по ключу publisher_id\n",
    "         WHERE num_pages > 50 -- запишем условие толщина книг больше 50 страниц \n",
    "         GROUP BY publishers.publisher\n",
    "         ORDER BY count_book DESC -- сортируем по убыванию кол-ву книг\n",
    "         LIMIT 1\n",
    "            \n",
    "    '''\n",
    "pd.read_sql(request, con = engine)"
   ]
  },
  {
   "cell_type": "markdown",
   "metadata": {},
   "source": [
    "**Вывод**\n",
    "\n",
    "Издательство 'Penguin Books'  выпустило наибольшее число книг - 42 шт толщиной более 50 страниц."
   ]
  },
  {
   "cell_type": "markdown",
   "metadata": {},
   "source": [
    "**Задание 4**\n",
    "\n",
    "Определим автора с самой высокой средней оценкой книг — учитывая только книги с 50 и более оценками."
   ]
  },
  {
   "cell_type": "code",
   "execution_count": 19,
   "metadata": {},
   "outputs": [
    {
     "data": {
      "text/html": [
       "<div>\n",
       "<style scoped>\n",
       "    .dataframe tbody tr th:only-of-type {\n",
       "        vertical-align: middle;\n",
       "    }\n",
       "\n",
       "    .dataframe tbody tr th {\n",
       "        vertical-align: top;\n",
       "    }\n",
       "\n",
       "    .dataframe thead th {\n",
       "        text-align: right;\n",
       "    }\n",
       "</style>\n",
       "<table border=\"1\" class=\"dataframe\">\n",
       "  <thead>\n",
       "    <tr style=\"text-align: right;\">\n",
       "      <th></th>\n",
       "      <th>author</th>\n",
       "      <th>avg_rating</th>\n",
       "    </tr>\n",
       "  </thead>\n",
       "  <tbody>\n",
       "    <tr>\n",
       "      <th>0</th>\n",
       "      <td>J.K. Rowling/Mary GrandPré</td>\n",
       "      <td>4.287097</td>\n",
       "    </tr>\n",
       "  </tbody>\n",
       "</table>\n",
       "</div>"
      ],
      "text/plain": [
       "                       author  avg_rating\n",
       "0  J.K. Rowling/Mary GrandPré    4.287097"
      ]
     },
     "execution_count": 19,
     "metadata": {},
     "output_type": "execute_result"
    }
   ],
   "source": [
    "request = '''\n",
    "        SELECT \n",
    "             authors.author, \n",
    "             AVG(ratings.rating) AS avg_rating -- выводим средний рейтинг книг и переименовываем avg_rating\n",
    "        FROM authors\n",
    "        LEFT JOIN books ON authors.author_id = books.author_id -- присоединяем к таб.authors таб.authors по ключу author_id\n",
    "        LEFT JOIN ratings ON books.book_id = ratings.book_id -- присоединяем к таб.books таб.ratings по ключу book_id \n",
    "        WHERE books.book_id IN (SELECT books.book_id\n",
    "                                FROM books    \n",
    "                                LEFT JOIN ratings ON books.book_id  = ratings.book_id     \n",
    "                                GROUP BY books.book_id\n",
    "                                HAVING COUNT(ratings.rating_id) >= 50)\n",
    "        GROUP BY authors.author  \n",
    "        ORDER BY avg_rating DESC\n",
    "        LIMIT 1  \n",
    "            \n",
    "    '''\n",
    "pd.read_sql(request, con = engine)"
   ]
  },
  {
   "cell_type": "markdown",
   "metadata": {},
   "source": [
    "**Вывод** \n",
    "\n",
    "Автор с самой высокой средней оценкой книг при условии использования книги с 50 и более оценками - Mary GrandPré. "
   ]
  },
  {
   "cell_type": "markdown",
   "metadata": {},
   "source": [
    "**Задание 5**\n",
    "\n",
    "Посчитаем среднее количество обзоров от пользователей, которые поставили больше 50 оценок."
   ]
  },
  {
   "cell_type": "code",
   "execution_count": 20,
   "metadata": {},
   "outputs": [
    {
     "data": {
      "text/html": [
       "<div>\n",
       "<style scoped>\n",
       "    .dataframe tbody tr th:only-of-type {\n",
       "        vertical-align: middle;\n",
       "    }\n",
       "\n",
       "    .dataframe tbody tr th {\n",
       "        vertical-align: top;\n",
       "    }\n",
       "\n",
       "    .dataframe thead th {\n",
       "        text-align: right;\n",
       "    }\n",
       "</style>\n",
       "<table border=\"1\" class=\"dataframe\">\n",
       "  <thead>\n",
       "    <tr style=\"text-align: right;\">\n",
       "      <th></th>\n",
       "      <th>avg</th>\n",
       "    </tr>\n",
       "  </thead>\n",
       "  <tbody>\n",
       "    <tr>\n",
       "      <th>0</th>\n",
       "      <td>24.0</td>\n",
       "    </tr>\n",
       "  </tbody>\n",
       "</table>\n",
       "</div>"
      ],
      "text/plain": [
       "    avg\n",
       "0  24.0"
      ]
     },
     "execution_count": 20,
     "metadata": {},
     "output_type": "execute_result"
    }
   ],
   "source": [
    "request = '''\n",
    "WITH\n",
    "-- первый подзапрос с псевдонимом ratings_count\n",
    "   ratings_count AS (SELECT ratings.username,\n",
    "                            COUNT(rating_id)  -- выводим кол-во оценок\n",
    "                     FROM ratings  \n",
    "                     GROUP BY ratings.username \n",
    "                     HAVING COUNT(rating_id) > 50),\n",
    "-- второй подзапрос с псевдонимом reviews_count                   \n",
    "   reviews_count AS (SELECT reviews.username,\n",
    "                            COUNT(review_id) AS count_reviews -- выводим кол-во обзоров\n",
    "                     FROM reviews \n",
    "                     GROUP BY reviews.username)\n",
    "-- основной запрос, в котором указываем псевдонимы для подзапросов\n",
    "SELECT AVG(count_reviews) -- ср.кол-во обзоров\n",
    "FROM ratings_count\n",
    "LEFT JOIN reviews_count ON ratings_count.username = reviews_count.username -- присоединяем псевдоним ratings_count к ratings_count по ключу username  \n",
    "\n",
    "'''\n",
    "pd.read_sql(request, con = engine).round()"
   ]
  },
  {
   "cell_type": "markdown",
   "metadata": {},
   "source": [
    "**Вывод**\n",
    "\n",
    "Среднее количество обзоров от пользователей, которые поставили больше 50 оценок - 24."
   ]
  },
  {
   "cell_type": "markdown",
   "metadata": {},
   "source": [
    "**Выводы исследования**:\n",
    "\n",
    "1. После 1 января 2000 года вышло 821 книг.\n",
    "2. Самое большое количество обзоров у книги 'Twilight (Twilight #1)' - 1120 шт.\n",
    "3. Издательство 'Penguin Books'  выпустило наибольшее число книг - 42 шт толщиной более 50 страниц.\n",
    "4. Автор с самой высокой средней оценкой книг при условии использования книги с 50 и более оценками - Mary GrandPré.\n",
    "5. Среднее количество обзоров от пользователей, которые поставили больше 50 оценок - 24."
   ]
  }
 ],
 "metadata": {
  "ExecuteTimeLog": [
   {
    "duration": 5268,
    "start_time": "2022-08-20T10:35:34.688Z"
   },
   {
    "duration": 71,
    "start_time": "2022-08-20T10:35:45.994Z"
   },
   {
    "duration": 4,
    "start_time": "2022-08-20T10:43:22.564Z"
   },
   {
    "duration": 7,
    "start_time": "2022-08-20T10:43:26.174Z"
   },
   {
    "duration": 7,
    "start_time": "2022-08-20T10:43:31.060Z"
   },
   {
    "duration": 2,
    "start_time": "2022-08-20T10:45:27.446Z"
   },
   {
    "duration": 62,
    "start_time": "2022-08-20T10:46:46.309Z"
   },
   {
    "duration": 54,
    "start_time": "2022-08-20T11:08:28.548Z"
   },
   {
    "duration": 6,
    "start_time": "2022-08-20T11:08:38.957Z"
   },
   {
    "duration": 6,
    "start_time": "2022-08-20T11:08:41.710Z"
   },
   {
    "duration": 510,
    "start_time": "2022-08-20T11:10:20.907Z"
   },
   {
    "duration": 4,
    "start_time": "2022-08-20T11:10:21.419Z"
   },
   {
    "duration": 7708,
    "start_time": "2022-08-20T11:10:22.478Z"
   },
   {
    "duration": 474,
    "start_time": "2022-08-20T11:11:59.641Z"
   },
   {
    "duration": 4,
    "start_time": "2022-08-20T11:12:00.116Z"
   },
   {
    "duration": 5210,
    "start_time": "2022-08-20T11:12:00.121Z"
   },
   {
    "duration": 48,
    "start_time": "2022-08-20T11:13:04.129Z"
   },
   {
    "duration": 496,
    "start_time": "2022-08-20T11:13:15.254Z"
   },
   {
    "duration": 4,
    "start_time": "2022-08-20T11:13:16.553Z"
   },
   {
    "duration": 6314,
    "start_time": "2022-08-20T11:13:17.194Z"
   },
   {
    "duration": 50,
    "start_time": "2022-08-20T11:13:54.248Z"
   },
   {
    "duration": 515,
    "start_time": "2022-08-20T11:14:00.196Z"
   },
   {
    "duration": 3,
    "start_time": "2022-08-20T11:14:01.152Z"
   },
   {
    "duration": 6481,
    "start_time": "2022-08-20T11:14:01.615Z"
   },
   {
    "duration": 476,
    "start_time": "2022-08-20T11:14:52.840Z"
   },
   {
    "duration": 3,
    "start_time": "2022-08-20T11:14:53.904Z"
   },
   {
    "duration": 6104,
    "start_time": "2022-08-20T11:14:54.841Z"
   },
   {
    "duration": 530,
    "start_time": "2022-08-20T11:15:00.947Z"
   },
   {
    "duration": 38,
    "start_time": "2022-08-20T11:15:01.479Z"
   },
   {
    "duration": 10485,
    "start_time": "2022-08-20T11:15:20.884Z"
   },
   {
    "duration": 392,
    "start_time": "2022-08-20T11:15:31.371Z"
   },
   {
    "duration": 530,
    "start_time": "2022-08-20T11:16:16.390Z"
   },
   {
    "duration": 4,
    "start_time": "2022-08-20T11:16:16.921Z"
   },
   {
    "duration": 5059,
    "start_time": "2022-08-20T11:16:17.199Z"
   },
   {
    "duration": 10593,
    "start_time": "2022-08-20T11:16:22.260Z"
   },
   {
    "duration": 389,
    "start_time": "2022-08-20T11:16:32.855Z"
   },
   {
    "duration": 3,
    "start_time": "2022-08-20T11:19:17.345Z"
   },
   {
    "duration": 3,
    "start_time": "2022-08-20T11:19:17.887Z"
   },
   {
    "duration": 3,
    "start_time": "2022-08-20T11:19:18.422Z"
   },
   {
    "duration": 2,
    "start_time": "2022-08-20T11:19:19.183Z"
   },
   {
    "duration": 2,
    "start_time": "2022-08-20T11:19:20.092Z"
   },
   {
    "duration": 26040,
    "start_time": "2022-08-20T11:19:20.827Z"
   },
   {
    "duration": 200,
    "start_time": "2022-08-20T11:19:46.869Z"
   },
   {
    "duration": 2,
    "start_time": "2022-08-20T11:20:08.972Z"
   },
   {
    "duration": 518,
    "start_time": "2022-08-20T11:20:55.817Z"
   },
   {
    "duration": 4,
    "start_time": "2022-08-20T11:20:56.469Z"
   },
   {
    "duration": 6186,
    "start_time": "2022-08-20T11:20:57.124Z"
   },
   {
    "duration": 2,
    "start_time": "2022-08-20T11:21:03.312Z"
   },
   {
    "duration": 10,
    "start_time": "2022-08-20T11:21:03.316Z"
   },
   {
    "duration": 26309,
    "start_time": "2022-08-20T11:21:06.383Z"
   },
   {
    "duration": 43,
    "start_time": "2022-08-20T11:21:32.695Z"
   },
   {
    "duration": 21,
    "start_time": "2022-08-20T11:22:09.821Z"
   },
   {
    "duration": 22,
    "start_time": "2022-08-20T11:22:31.029Z"
   },
   {
    "duration": 3,
    "start_time": "2022-08-20T11:24:22.388Z"
   },
   {
    "duration": 8,
    "start_time": "2022-08-20T11:25:24.931Z"
   },
   {
    "duration": 477,
    "start_time": "2022-08-20T11:25:30.675Z"
   },
   {
    "duration": 3,
    "start_time": "2022-08-20T11:25:31.878Z"
   },
   {
    "duration": 9687,
    "start_time": "2022-08-20T11:25:32.752Z"
   },
   {
    "duration": 3,
    "start_time": "2022-08-20T11:25:42.441Z"
   },
   {
    "duration": 2,
    "start_time": "2022-08-20T11:25:43.881Z"
   },
   {
    "duration": 18704,
    "start_time": "2022-08-20T11:25:45.388Z"
   },
   {
    "duration": 224,
    "start_time": "2022-08-20T11:26:07.488Z"
   },
   {
    "duration": 2,
    "start_time": "2022-08-20T11:28:33.412Z"
   },
   {
    "duration": 3,
    "start_time": "2022-08-20T11:28:34.030Z"
   },
   {
    "duration": 3,
    "start_time": "2022-08-20T11:28:34.777Z"
   },
   {
    "duration": 2,
    "start_time": "2022-08-20T11:28:35.349Z"
   },
   {
    "duration": 341,
    "start_time": "2022-08-20T11:28:35.854Z"
   },
   {
    "duration": 3,
    "start_time": "2022-08-20T11:28:44.512Z"
   },
   {
    "duration": 370,
    "start_time": "2022-08-20T11:28:44.987Z"
   },
   {
    "duration": 321,
    "start_time": "2022-08-20T11:28:45.873Z"
   },
   {
    "duration": 8,
    "start_time": "2022-08-20T11:30:50.769Z"
   },
   {
    "duration": 9,
    "start_time": "2022-08-20T11:31:05.518Z"
   },
   {
    "duration": 6,
    "start_time": "2022-08-20T11:31:09.525Z"
   },
   {
    "duration": 48,
    "start_time": "2022-08-20T11:33:15.057Z"
   },
   {
    "duration": 18,
    "start_time": "2022-08-20T11:33:28.234Z"
   },
   {
    "duration": 3,
    "start_time": "2022-08-20T11:35:32.867Z"
   },
   {
    "duration": 4,
    "start_time": "2022-08-20T11:35:33.556Z"
   },
   {
    "duration": 3,
    "start_time": "2022-08-20T11:35:34.184Z"
   },
   {
    "duration": 2,
    "start_time": "2022-08-20T11:35:34.653Z"
   },
   {
    "duration": 2,
    "start_time": "2022-08-20T11:35:35.220Z"
   },
   {
    "duration": 2,
    "start_time": "2022-08-20T11:35:35.990Z"
   },
   {
    "duration": 2,
    "start_time": "2022-08-20T11:35:36.625Z"
   },
   {
    "duration": 520,
    "start_time": "2022-08-20T11:35:37.320Z"
   },
   {
    "duration": 39,
    "start_time": "2022-08-20T11:35:41.696Z"
   },
   {
    "duration": 17,
    "start_time": "2022-08-20T11:35:53.990Z"
   },
   {
    "duration": 78,
    "start_time": "2022-08-20T11:50:02.657Z"
   },
   {
    "duration": 75,
    "start_time": "2022-08-20T11:55:15.444Z"
   },
   {
    "duration": 73,
    "start_time": "2022-08-20T12:00:36.955Z"
   },
   {
    "duration": 79,
    "start_time": "2022-08-20T12:00:59.367Z"
   },
   {
    "duration": 74,
    "start_time": "2022-08-20T12:04:58.216Z"
   },
   {
    "duration": 72,
    "start_time": "2022-08-20T12:08:25.225Z"
   },
   {
    "duration": 74,
    "start_time": "2022-08-20T12:09:44.285Z"
   },
   {
    "duration": 48,
    "start_time": "2022-08-20T12:11:16.137Z"
   },
   {
    "duration": 82,
    "start_time": "2022-08-20T12:11:31.241Z"
   },
   {
    "duration": 75,
    "start_time": "2022-08-20T12:11:50.006Z"
   },
   {
    "duration": 3,
    "start_time": "2022-08-20T12:12:10.523Z"
   },
   {
    "duration": 75,
    "start_time": "2022-08-20T12:12:27.905Z"
   },
   {
    "duration": 58,
    "start_time": "2022-08-20T12:22:45.349Z"
   },
   {
    "duration": 86,
    "start_time": "2022-08-20T12:23:02.192Z"
   },
   {
    "duration": 81,
    "start_time": "2022-08-20T12:39:59.448Z"
   },
   {
    "duration": 80,
    "start_time": "2022-08-20T12:40:01.034Z"
   },
   {
    "duration": 75,
    "start_time": "2022-08-20T12:40:14.329Z"
   },
   {
    "duration": 140,
    "start_time": "2022-08-20T12:40:26.670Z"
   },
   {
    "duration": 143,
    "start_time": "2022-08-20T12:40:57.647Z"
   },
   {
    "duration": 86,
    "start_time": "2022-08-20T12:41:54.078Z"
   },
   {
    "duration": 109,
    "start_time": "2022-08-20T12:42:03.707Z"
   },
   {
    "duration": 109,
    "start_time": "2022-08-20T12:51:40.848Z"
   },
   {
    "duration": 110,
    "start_time": "2022-08-20T12:59:50.714Z"
   },
   {
    "duration": 119,
    "start_time": "2022-08-20T13:04:12.773Z"
   },
   {
    "duration": 114,
    "start_time": "2022-08-20T13:12:06.255Z"
   },
   {
    "duration": 130,
    "start_time": "2022-08-20T13:12:52.040Z"
   },
   {
    "duration": 111,
    "start_time": "2022-08-20T13:13:13.103Z"
   },
   {
    "duration": 109,
    "start_time": "2022-08-20T13:16:44.901Z"
   },
   {
    "duration": 111,
    "start_time": "2022-08-20T13:29:51.207Z"
   },
   {
    "duration": 119,
    "start_time": "2022-08-20T14:54:48.634Z"
   },
   {
    "duration": 117,
    "start_time": "2022-08-20T14:58:23.956Z"
   },
   {
    "duration": 111,
    "start_time": "2022-08-20T14:58:45.634Z"
   },
   {
    "duration": 45,
    "start_time": "2022-08-20T14:59:48.922Z"
   },
   {
    "duration": 109,
    "start_time": "2022-08-20T15:03:12.049Z"
   },
   {
    "duration": 2,
    "start_time": "2022-08-20T15:03:19.002Z"
   },
   {
    "duration": 3,
    "start_time": "2022-08-20T15:03:19.286Z"
   },
   {
    "duration": 3,
    "start_time": "2022-08-20T15:03:19.573Z"
   },
   {
    "duration": 2,
    "start_time": "2022-08-20T15:03:19.815Z"
   },
   {
    "duration": 3,
    "start_time": "2022-08-20T15:03:20.100Z"
   },
   {
    "duration": 2,
    "start_time": "2022-08-20T15:03:20.358Z"
   },
   {
    "duration": 2,
    "start_time": "2022-08-20T15:03:20.631Z"
   },
   {
    "duration": 481,
    "start_time": "2022-08-20T15:03:20.902Z"
   },
   {
    "duration": 34,
    "start_time": "2022-08-20T15:03:21.385Z"
   },
   {
    "duration": 19,
    "start_time": "2022-08-20T15:03:21.532Z"
   },
   {
    "duration": 72,
    "start_time": "2022-08-20T15:03:22.734Z"
   },
   {
    "duration": 72,
    "start_time": "2022-08-20T15:03:23.239Z"
   },
   {
    "duration": 108,
    "start_time": "2022-08-20T15:03:28.314Z"
   },
   {
    "duration": 115,
    "start_time": "2022-08-20T15:04:17.967Z"
   },
   {
    "duration": 112,
    "start_time": "2022-08-20T15:04:24.519Z"
   },
   {
    "duration": 112,
    "start_time": "2022-08-20T15:04:55.786Z"
   },
   {
    "duration": 130,
    "start_time": "2022-08-20T15:30:35.846Z"
   },
   {
    "duration": 121,
    "start_time": "2022-08-20T15:32:21.470Z"
   },
   {
    "duration": 130,
    "start_time": "2022-08-20T15:33:16.014Z"
   },
   {
    "duration": 148,
    "start_time": "2022-08-20T15:37:42.921Z"
   },
   {
    "duration": 135,
    "start_time": "2022-08-20T15:38:17.166Z"
   },
   {
    "duration": 129,
    "start_time": "2022-08-20T15:38:30.702Z"
   },
   {
    "duration": 77,
    "start_time": "2022-08-20T15:38:53.177Z"
   },
   {
    "duration": 76,
    "start_time": "2022-08-20T15:40:20.665Z"
   },
   {
    "duration": 73,
    "start_time": "2022-08-20T15:41:33.876Z"
   },
   {
    "duration": 107,
    "start_time": "2022-08-20T15:47:05.092Z"
   },
   {
    "duration": 108,
    "start_time": "2022-08-20T15:47:15.579Z"
   },
   {
    "duration": 76,
    "start_time": "2022-08-20T15:48:17.540Z"
   },
   {
    "duration": 44,
    "start_time": "2022-08-20T15:49:52.166Z"
   },
   {
    "duration": 46,
    "start_time": "2022-08-20T15:51:52.911Z"
   },
   {
    "duration": 152,
    "start_time": "2022-08-20T16:08:52.165Z"
   },
   {
    "duration": 87,
    "start_time": "2022-08-20T16:09:06.170Z"
   },
   {
    "duration": 2,
    "start_time": "2022-08-20T16:14:27.307Z"
   },
   {
    "duration": 435,
    "start_time": "2022-08-20T16:14:56.827Z"
   },
   {
    "duration": 39,
    "start_time": "2022-08-20T16:15:05.285Z"
   },
   {
    "duration": 26,
    "start_time": "2022-08-20T16:15:06.724Z"
   },
   {
    "duration": 85,
    "start_time": "2022-08-20T16:15:17.954Z"
   },
   {
    "duration": 86,
    "start_time": "2022-08-20T16:15:18.388Z"
   },
   {
    "duration": 128,
    "start_time": "2022-08-20T16:15:19.424Z"
   },
   {
    "duration": 75,
    "start_time": "2022-08-20T16:15:21.034Z"
   },
   {
    "duration": 95,
    "start_time": "2022-08-20T16:15:22.568Z"
   },
   {
    "duration": 93,
    "start_time": "2022-08-20T16:20:12.489Z"
   },
   {
    "duration": 153,
    "start_time": "2022-08-20T16:41:44.024Z"
   },
   {
    "duration": 130,
    "start_time": "2022-08-20T16:42:23.724Z"
   },
   {
    "duration": 166,
    "start_time": "2022-08-20T16:44:36.836Z"
   },
   {
    "duration": 82,
    "start_time": "2022-08-20T16:59:42.311Z"
   },
   {
    "duration": 43,
    "start_time": "2022-08-20T17:02:38.971Z"
   },
   {
    "duration": 59,
    "start_time": "2022-08-20T17:05:21.647Z"
   },
   {
    "duration": 78,
    "start_time": "2022-08-20T17:09:50.904Z"
   },
   {
    "duration": 81,
    "start_time": "2022-08-20T17:23:51.417Z"
   },
   {
    "duration": 129,
    "start_time": "2022-08-20T17:36:26.292Z"
   },
   {
    "duration": 140,
    "start_time": "2022-08-20T17:38:22.515Z"
   },
   {
    "duration": 74,
    "start_time": "2022-08-20T17:38:36.526Z"
   },
   {
    "duration": 75,
    "start_time": "2022-08-20T17:40:28.618Z"
   },
   {
    "duration": 75,
    "start_time": "2022-08-20T17:43:48.127Z"
   },
   {
    "duration": 75,
    "start_time": "2022-08-20T17:54:15.211Z"
   },
   {
    "duration": 77,
    "start_time": "2022-08-20T17:55:22.183Z"
   },
   {
    "duration": 2,
    "start_time": "2022-08-20T17:57:47.181Z"
   },
   {
    "duration": 4,
    "start_time": "2022-08-20T17:57:47.519Z"
   },
   {
    "duration": 3,
    "start_time": "2022-08-20T17:57:47.837Z"
   },
   {
    "duration": 2,
    "start_time": "2022-08-20T17:57:48.132Z"
   },
   {
    "duration": 2,
    "start_time": "2022-08-20T17:57:48.433Z"
   },
   {
    "duration": 2,
    "start_time": "2022-08-20T17:57:48.843Z"
   },
   {
    "duration": 2,
    "start_time": "2022-08-20T17:57:49.259Z"
   },
   {
    "duration": 2,
    "start_time": "2022-08-20T17:57:49.542Z"
   },
   {
    "duration": 590,
    "start_time": "2022-08-20T17:57:49.873Z"
   },
   {
    "duration": 37,
    "start_time": "2022-08-20T17:57:50.465Z"
   },
   {
    "duration": 28,
    "start_time": "2022-08-20T17:57:50.666Z"
   },
   {
    "duration": 73,
    "start_time": "2022-08-20T17:57:52.250Z"
   },
   {
    "duration": 74,
    "start_time": "2022-08-20T17:57:52.993Z"
   },
   {
    "duration": 110,
    "start_time": "2022-08-20T17:57:58.155Z"
   },
   {
    "duration": 76,
    "start_time": "2022-08-20T17:57:59.810Z"
   },
   {
    "duration": 79,
    "start_time": "2022-08-20T17:58:01.523Z"
   },
   {
    "duration": 77,
    "start_time": "2022-08-20T17:58:03.542Z"
   },
   {
    "duration": 59,
    "start_time": "2022-08-20T17:59:34.420Z"
   },
   {
    "duration": 79,
    "start_time": "2022-08-20T18:00:01.170Z"
   },
   {
    "duration": 84,
    "start_time": "2022-08-20T18:02:09.774Z"
   },
   {
    "duration": 109,
    "start_time": "2022-08-20T18:02:54.387Z"
   },
   {
    "duration": 75,
    "start_time": "2022-08-20T18:03:17.993Z"
   },
   {
    "duration": 75,
    "start_time": "2022-08-20T18:03:18.770Z"
   },
   {
    "duration": 117,
    "start_time": "2022-08-20T18:03:21.581Z"
   },
   {
    "duration": 75,
    "start_time": "2022-08-20T18:03:23.558Z"
   },
   {
    "duration": 81,
    "start_time": "2022-08-20T18:03:25.734Z"
   },
   {
    "duration": 81,
    "start_time": "2022-08-20T18:03:27.660Z"
   },
   {
    "duration": 80,
    "start_time": "2022-08-20T18:17:33.520Z"
   },
   {
    "duration": 7,
    "start_time": "2022-08-20T18:18:55.542Z"
   },
   {
    "duration": 78,
    "start_time": "2022-08-20T18:20:59.699Z"
   },
   {
    "duration": 6,
    "start_time": "2022-08-20T18:21:49.920Z"
   },
   {
    "duration": 160,
    "start_time": "2022-08-20T18:25:18.771Z"
   },
   {
    "duration": 110,
    "start_time": "2022-08-20T18:39:06.936Z"
   },
   {
    "duration": 75,
    "start_time": "2022-08-20T18:41:14.098Z"
   },
   {
    "duration": 78,
    "start_time": "2022-08-20T18:43:58.059Z"
   },
   {
    "duration": 78,
    "start_time": "2022-08-20T18:46:40.596Z"
   },
   {
    "duration": 2,
    "start_time": "2022-08-20T18:49:59.091Z"
   },
   {
    "duration": 3,
    "start_time": "2022-08-20T18:49:59.362Z"
   },
   {
    "duration": 3,
    "start_time": "2022-08-20T18:49:59.752Z"
   },
   {
    "duration": 3,
    "start_time": "2022-08-20T18:50:00.150Z"
   },
   {
    "duration": 3,
    "start_time": "2022-08-20T18:50:00.436Z"
   },
   {
    "duration": 2,
    "start_time": "2022-08-20T18:50:00.674Z"
   },
   {
    "duration": 3,
    "start_time": "2022-08-20T18:50:00.935Z"
   },
   {
    "duration": 2,
    "start_time": "2022-08-20T18:50:01.202Z"
   },
   {
    "duration": 616,
    "start_time": "2022-08-20T18:50:01.481Z"
   },
   {
    "duration": 51,
    "start_time": "2022-08-20T18:50:02.099Z"
   },
   {
    "duration": 24,
    "start_time": "2022-08-20T18:50:02.152Z"
   },
   {
    "duration": 85,
    "start_time": "2022-08-20T18:50:03.132Z"
   },
   {
    "duration": 74,
    "start_time": "2022-08-20T18:50:03.655Z"
   },
   {
    "duration": 116,
    "start_time": "2022-08-20T18:50:04.986Z"
   },
   {
    "duration": 75,
    "start_time": "2022-08-20T18:50:06.196Z"
   },
   {
    "duration": 76,
    "start_time": "2022-08-20T18:50:07.493Z"
   },
   {
    "duration": 72,
    "start_time": "2022-08-20T18:50:08.708Z"
   },
   {
    "duration": 503,
    "start_time": "2022-08-21T07:33:05.268Z"
   },
   {
    "duration": 3,
    "start_time": "2022-08-21T07:33:05.773Z"
   },
   {
    "duration": 8418,
    "start_time": "2022-08-21T07:33:05.777Z"
   },
   {
    "duration": 3,
    "start_time": "2022-08-21T07:33:14.197Z"
   },
   {
    "duration": 6,
    "start_time": "2022-08-21T07:33:14.201Z"
   },
   {
    "duration": 4,
    "start_time": "2022-08-21T07:33:14.209Z"
   },
   {
    "duration": 4,
    "start_time": "2022-08-21T07:33:14.214Z"
   },
   {
    "duration": 5,
    "start_time": "2022-08-21T07:33:14.218Z"
   },
   {
    "duration": 565,
    "start_time": "2022-08-21T07:33:14.225Z"
   },
   {
    "duration": 42,
    "start_time": "2022-08-21T07:33:14.793Z"
   },
   {
    "duration": 22,
    "start_time": "2022-08-21T07:33:14.837Z"
   },
   {
    "duration": 74,
    "start_time": "2022-08-21T07:33:14.861Z"
   },
   {
    "duration": 70,
    "start_time": "2022-08-21T07:33:14.936Z"
   },
   {
    "duration": 88,
    "start_time": "2022-08-21T07:33:15.007Z"
   },
   {
    "duration": 74,
    "start_time": "2022-08-21T07:33:15.097Z"
   },
   {
    "duration": 77,
    "start_time": "2022-08-21T07:33:15.173Z"
   },
   {
    "duration": 74,
    "start_time": "2022-08-21T07:33:15.251Z"
   },
   {
    "duration": 49,
    "start_time": "2022-08-21T09:54:06.309Z"
   },
   {
    "duration": 439,
    "start_time": "2022-08-21T09:54:11.963Z"
   },
   {
    "duration": 3,
    "start_time": "2022-08-21T09:54:12.404Z"
   },
   {
    "duration": 6495,
    "start_time": "2022-08-21T09:54:12.408Z"
   },
   {
    "duration": 2,
    "start_time": "2022-08-21T09:54:18.904Z"
   },
   {
    "duration": 9,
    "start_time": "2022-08-21T09:54:18.908Z"
   },
   {
    "duration": 7,
    "start_time": "2022-08-21T09:54:18.918Z"
   },
   {
    "duration": 7,
    "start_time": "2022-08-21T09:54:18.927Z"
   },
   {
    "duration": 7,
    "start_time": "2022-08-21T09:54:18.935Z"
   },
   {
    "duration": 652,
    "start_time": "2022-08-21T09:54:18.943Z"
   },
   {
    "duration": 47,
    "start_time": "2022-08-21T09:54:19.596Z"
   },
   {
    "duration": 59,
    "start_time": "2022-08-21T09:54:19.645Z"
   },
   {
    "duration": 75,
    "start_time": "2022-08-21T09:54:19.705Z"
   },
   {
    "duration": 72,
    "start_time": "2022-08-21T09:54:19.782Z"
   },
   {
    "duration": 91,
    "start_time": "2022-08-21T09:54:19.857Z"
   },
   {
    "duration": 77,
    "start_time": "2022-08-21T09:54:19.950Z"
   },
   {
    "duration": 81,
    "start_time": "2022-08-21T09:54:20.029Z"
   },
   {
    "duration": 77,
    "start_time": "2022-08-21T09:54:20.112Z"
   },
   {
    "duration": 111,
    "start_time": "2022-08-21T09:54:49.516Z"
   },
   {
    "duration": 113,
    "start_time": "2022-08-21T09:55:08.283Z"
   },
   {
    "duration": 154,
    "start_time": "2022-08-21T09:56:53.705Z"
   },
   {
    "duration": 123,
    "start_time": "2022-08-21T09:57:07.126Z"
   },
   {
    "duration": 104,
    "start_time": "2022-08-21T09:57:35.962Z"
   },
   {
    "duration": 109,
    "start_time": "2022-08-21T09:58:13.103Z"
   },
   {
    "duration": 110,
    "start_time": "2022-08-21T09:58:15.573Z"
   },
   {
    "duration": 117,
    "start_time": "2022-08-21T09:58:46.654Z"
   },
   {
    "duration": 107,
    "start_time": "2022-08-21T09:58:47.247Z"
   },
   {
    "duration": 109,
    "start_time": "2022-08-21T09:58:48.851Z"
   },
   {
    "duration": 121,
    "start_time": "2022-08-21T09:58:53.463Z"
   },
   {
    "duration": 125,
    "start_time": "2022-08-21T09:58:54.547Z"
   },
   {
    "duration": 3,
    "start_time": "2022-08-21T09:59:14.845Z"
   },
   {
    "duration": 6,
    "start_time": "2022-08-21T09:59:14.851Z"
   },
   {
    "duration": 6,
    "start_time": "2022-08-21T09:59:14.858Z"
   },
   {
    "duration": 8,
    "start_time": "2022-08-21T09:59:14.866Z"
   },
   {
    "duration": 4,
    "start_time": "2022-08-21T09:59:14.876Z"
   },
   {
    "duration": 5,
    "start_time": "2022-08-21T09:59:14.882Z"
   },
   {
    "duration": 16,
    "start_time": "2022-08-21T09:59:14.888Z"
   },
   {
    "duration": 4,
    "start_time": "2022-08-21T09:59:14.906Z"
   },
   {
    "duration": 652,
    "start_time": "2022-08-21T09:59:14.912Z"
   },
   {
    "duration": 42,
    "start_time": "2022-08-21T09:59:15.565Z"
   },
   {
    "duration": 22,
    "start_time": "2022-08-21T09:59:15.609Z"
   },
   {
    "duration": 77,
    "start_time": "2022-08-21T09:59:15.633Z"
   },
   {
    "duration": 75,
    "start_time": "2022-08-21T09:59:15.712Z"
   },
   {
    "duration": 93,
    "start_time": "2022-08-21T09:59:15.788Z"
   },
   {
    "duration": 85,
    "start_time": "2022-08-21T09:59:15.882Z"
   },
   {
    "duration": 93,
    "start_time": "2022-08-21T09:59:15.968Z"
   },
   {
    "duration": 77,
    "start_time": "2022-08-21T09:59:16.062Z"
   },
   {
    "duration": 79,
    "start_time": "2022-08-21T09:59:16.141Z"
   },
   {
    "duration": 79,
    "start_time": "2022-08-21T09:59:16.222Z"
   },
   {
    "duration": 3,
    "start_time": "2022-08-21T10:01:28.396Z"
   },
   {
    "duration": 3,
    "start_time": "2022-08-21T10:01:28.818Z"
   },
   {
    "duration": 4,
    "start_time": "2022-08-21T10:01:29.350Z"
   },
   {
    "duration": 3,
    "start_time": "2022-08-21T10:01:30.215Z"
   },
   {
    "duration": 3,
    "start_time": "2022-08-21T10:01:30.632Z"
   },
   {
    "duration": 2,
    "start_time": "2022-08-21T10:01:30.816Z"
   },
   {
    "duration": 2,
    "start_time": "2022-08-21T10:01:31.150Z"
   },
   {
    "duration": 3,
    "start_time": "2022-08-21T10:01:31.476Z"
   },
   {
    "duration": 583,
    "start_time": "2022-08-21T10:01:31.859Z"
   },
   {
    "duration": 38,
    "start_time": "2022-08-21T10:01:32.444Z"
   },
   {
    "duration": 21,
    "start_time": "2022-08-21T10:01:32.640Z"
   },
   {
    "duration": 75,
    "start_time": "2022-08-21T10:01:34.077Z"
   },
   {
    "duration": 73,
    "start_time": "2022-08-21T10:01:34.793Z"
   },
   {
    "duration": 112,
    "start_time": "2022-08-21T10:01:36.424Z"
   },
   {
    "duration": 110,
    "start_time": "2022-08-21T10:01:38.204Z"
   },
   {
    "duration": 76,
    "start_time": "2022-08-21T10:01:39.517Z"
   },
   {
    "duration": 80,
    "start_time": "2022-08-21T10:01:40.733Z"
   },
   {
    "duration": 78,
    "start_time": "2022-08-21T10:01:41.890Z"
   },
   {
    "duration": 110,
    "start_time": "2022-08-21T10:02:09.150Z"
   },
   {
    "duration": 92,
    "start_time": "2022-08-21T10:02:09.515Z"
   },
   {
    "duration": 110,
    "start_time": "2022-08-21T10:02:32.637Z"
   },
   {
    "duration": 103,
    "start_time": "2022-08-21T10:02:33.300Z"
   },
   {
    "duration": 110,
    "start_time": "2022-08-21T10:02:45.271Z"
   },
   {
    "duration": 102,
    "start_time": "2022-08-21T10:02:45.975Z"
   },
   {
    "duration": 112,
    "start_time": "2022-08-21T10:06:11.298Z"
   },
   {
    "duration": 119,
    "start_time": "2022-08-21T10:06:54.115Z"
   },
   {
    "duration": 137,
    "start_time": "2022-08-21T10:12:45.795Z"
   },
   {
    "duration": 139,
    "start_time": "2022-08-21T10:13:09.399Z"
   },
   {
    "duration": 154,
    "start_time": "2022-08-21T10:15:07.050Z"
   },
   {
    "duration": 142,
    "start_time": "2022-08-21T10:15:12.793Z"
   },
   {
    "duration": 146,
    "start_time": "2022-08-21T10:15:21.611Z"
   },
   {
    "duration": 109,
    "start_time": "2022-08-21T10:15:51.913Z"
   },
   {
    "duration": 104,
    "start_time": "2022-08-21T10:16:10.439Z"
   },
   {
    "duration": 110,
    "start_time": "2022-08-21T10:21:36.235Z"
   },
   {
    "duration": 103,
    "start_time": "2022-08-21T10:21:39.897Z"
   },
   {
    "duration": 526,
    "start_time": "2022-09-21T13:31:05.518Z"
   },
   {
    "duration": 4,
    "start_time": "2022-09-21T13:31:06.052Z"
   },
   {
    "duration": 6540,
    "start_time": "2022-09-21T13:31:06.598Z"
   },
   {
    "duration": 3,
    "start_time": "2022-09-21T13:31:13.139Z"
   },
   {
    "duration": 6,
    "start_time": "2022-09-21T13:31:13.144Z"
   },
   {
    "duration": 10,
    "start_time": "2022-09-21T13:31:13.152Z"
   },
   {
    "duration": 6,
    "start_time": "2022-09-21T13:31:13.164Z"
   },
   {
    "duration": 5,
    "start_time": "2022-09-21T13:31:13.171Z"
   },
   {
    "duration": 1265,
    "start_time": "2022-09-21T13:31:13.178Z"
   },
   {
    "duration": 59,
    "start_time": "2022-09-21T13:31:14.445Z"
   },
   {
    "duration": 34,
    "start_time": "2022-09-21T13:31:14.506Z"
   },
   {
    "duration": 137,
    "start_time": "2022-09-21T13:31:14.543Z"
   },
   {
    "duration": 141,
    "start_time": "2022-09-21T13:31:14.682Z"
   },
   {
    "duration": 183,
    "start_time": "2022-09-21T13:31:18.329Z"
   },
   {
    "duration": 172,
    "start_time": "2022-09-21T13:31:19.205Z"
   },
   {
    "duration": 384,
    "start_time": "2022-09-21T13:31:20.298Z"
   },
   {
    "duration": 153,
    "start_time": "2022-09-21T13:31:21.301Z"
   },
   {
    "duration": 109,
    "start_time": "2022-09-21T13:31:23.941Z"
   },
   {
    "duration": 97,
    "start_time": "2022-09-21T13:31:25.462Z"
   },
   {
    "duration": 123,
    "start_time": "2022-09-21T13:31:26.359Z"
   },
   {
    "duration": 108,
    "start_time": "2022-09-21T13:33:24.887Z"
   }
  ],
  "kernelspec": {
   "display_name": "Python 3 (ipykernel)",
   "language": "python",
   "name": "python3"
  },
  "language_info": {
   "codemirror_mode": {
    "name": "ipython",
    "version": 3
   },
   "file_extension": ".py",
   "mimetype": "text/x-python",
   "name": "python",
   "nbconvert_exporter": "python",
   "pygments_lexer": "ipython3",
   "version": "3.9.5"
  },
  "toc": {
   "base_numbering": 1,
   "nav_menu": {},
   "number_sections": true,
   "sideBar": true,
   "skip_h1_title": true,
   "title_cell": "Table of Contents",
   "title_sidebar": "Contents",
   "toc_cell": false,
   "toc_position": {},
   "toc_section_display": true,
   "toc_window_display": false
  }
 },
 "nbformat": 4,
 "nbformat_minor": 2
}
